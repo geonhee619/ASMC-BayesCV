{
 "cells": [
  {
   "cell_type": "code",
   "execution_count": 1,
   "id": "4bccae1c-df4c-4572-b9a2-3d6144c727a6",
   "metadata": {},
   "outputs": [
    {
     "name": "stdout",
     "output_type": "stream",
     "text": [
      "Julia Version 1.10.4\n",
      "Commit 48d4fd4843 (2024-06-04 10:41 UTC)\n",
      "Build Info:\n",
      "  Official https://julialang.org/ release\n",
      "Platform Info:\n",
      "  OS: Windows (x86_64-w64-mingw32)\n",
      "  CPU: 24 × 12th Gen Intel(R) Core(TM) i9-12900K\n",
      "  WORD_SIZE: 64\n",
      "  LIBM: libopenlibm\n",
      "  LLVM: libLLVM-15.0.7 (ORCJIT, alderlake)\n",
      "Threads: 8 default, 0 interactive, 4 GC (on 24 virtual cores)\n",
      "Environment:\n",
      "  JULIA_NUM_THREADS = 8\n"
     ]
    }
   ],
   "source": [
    "versioninfo()"
   ]
  },
  {
   "cell_type": "code",
   "execution_count": 2,
   "id": "fb62982b-4699-4b45-9587-98ed53b8a211",
   "metadata": {},
   "outputs": [
    {
     "name": "stderr",
     "output_type": "stream",
     "text": [
      "\u001b[32m\u001b[1m  Activating\u001b[22m\u001b[39m project at `C:\\Users\\o6m1g\\Documents\\GitHub\\ASMC-BayesCV`\n"
     ]
    },
    {
     "name": "stdout",
     "output_type": "stream",
     "text": [
      "\u001b[32m\u001b[1mStatus\u001b[22m\u001b[39m `C:\\Users\\o6m1g\\Documents\\GitHub\\ASMC-BayesCV\\Project.toml`\n",
      "  \u001b[90m[0bf59076] \u001b[39mAdvancedHMC v0.8.0\n",
      "  \u001b[90m[336ed68f] \u001b[39mCSV v0.10.15\n",
      "  \u001b[90m[a93c6f00] \u001b[39mDataFrames v1.7.0\n",
      "  \u001b[90m[31c24e10] \u001b[39mDistributions v0.25.120\n",
      "  \u001b[90m[4138dd39] \u001b[39mJLD v0.13.5\n",
      "  \u001b[90m[b964fa9f] \u001b[39mLaTeXStrings v1.4.0\n",
      "  \u001b[90m[6fdf6af0] \u001b[39mLogDensityProblems v2.1.2\n",
      "  \u001b[90m[86f7a689] \u001b[39mNamedArrays v0.10.4\n",
      "  \u001b[90m[ce719bf2] \u001b[39mPSIS v0.9.8\n",
      "  \u001b[90m[91a5bcdd] \u001b[39mPlots v1.40.17\n",
      "  \u001b[90m[92933f4c] \u001b[39mProgressMeter v1.10.4\n",
      "  \u001b[90m[f2b01f46] \u001b[39mRoots v2.2.8\n",
      "  \u001b[90m[2913bbd2] \u001b[39mStatsBase v0.34.5\n",
      "  \u001b[90m[4c63d2b9] \u001b[39mStatsFuns v1.5.0\n",
      "  \u001b[90m[f3b207a7] \u001b[39mStatsPlots v0.15.7\n",
      "\u001b[33m⌅\u001b[39m \u001b[90m[fce5fe82] \u001b[39mTuring v0.39.6\n",
      "  \u001b[90m[ade2ca70] \u001b[39mDates\n",
      "  \u001b[90m[37e2e46d] \u001b[39mLinearAlgebra\n",
      "  \u001b[90m[9a3f8284] \u001b[39mRandom\n",
      "\u001b[36m\u001b[1mInfo\u001b[22m\u001b[39m Packages marked with \u001b[33m⌅\u001b[39m have new versions available but compatibility constraints restrict them from upgrading. To see why use `status --outdated`\n"
     ]
    }
   ],
   "source": [
    "using Pkg\n",
    "Pkg.activate(\".\")\n",
    "Pkg.instantiate()\n",
    "Pkg.status()"
   ]
  },
  {
   "cell_type": "markdown",
   "id": "5c88242f-5bf1-4038-bd52-9e887fd2cd63",
   "metadata": {},
   "source": [
    "# Setup"
   ]
  },
  {
   "cell_type": "code",
   "execution_count": 3,
   "id": "092e6558-7e58-465e-b4af-6b888ac0e4af",
   "metadata": {},
   "outputs": [],
   "source": [
    "include(\"Init.jl\")"
   ]
  },
  {
   "cell_type": "code",
   "execution_count": 4,
   "id": "4d5915c6-2b67-495a-b80b-a05daef2fd64",
   "metadata": {},
   "outputs": [
    {
     "name": "stdout",
     "output_type": "stream",
     "text": [
      "Running on 8 threads.\n"
     ]
    }
   ],
   "source": [
    "println(\"Running on \", Threads.nthreads(), \" threads.\")"
   ]
  },
  {
   "cell_type": "code",
   "execution_count": 5,
   "id": "9870d2ef-ab0e-4f74-a1fb-7e2417d236e2",
   "metadata": {},
   "outputs": [],
   "source": [
    "using Turing"
   ]
  },
  {
   "cell_type": "code",
   "execution_count": 104,
   "id": "632185a0-aae3-4902-98ab-6d490fb210de",
   "metadata": {},
   "outputs": [],
   "source": [
    "RUN_MCMC = false\n",
    "RUN_aSMC = true;"
   ]
  },
  {
   "cell_type": "code",
   "execution_count": 7,
   "id": "585d355b-55c9-466f-9c0f-795f167809e3",
   "metadata": {},
   "outputs": [],
   "source": [
    "# Tag by timestamp\n",
    "SESSION = Dates.format(now(), \"yyyy-mm-dd-HH-MM-SS\");"
   ]
  },
  {
   "cell_type": "markdown",
   "id": "4219d67c-bea0-41a5-bce8-288293939d0c",
   "metadata": {},
   "source": [
    "# Data"
   ]
  },
  {
   "cell_type": "code",
   "execution_count": 113,
   "id": "9d570eb7-22fe-444d-baf6-abacc94ac713",
   "metadata": {},
   "outputs": [],
   "source": [
    "# Initial data trimming to meet file size constraint\n",
    "# sales_train = CSV.read(joinpath(\"data\", \"m5-forecasting-accuracy\",\n",
    "#         \"sales_train_validation.csv\"), DataFrame);\n",
    "# sales_train = filter(row -> 1 <= parse(Int64, split(row.item_id, \"_\")[end]) <= 30, sales_train)\n",
    "# CSV.write(joinpath(\"data\", \"m5-forecasting-accuracy\", \"data.csv\"), sales_train);"
   ]
  },
  {
   "cell_type": "code",
   "execution_count": 114,
   "id": "0279c09f-f71d-4619-bde0-b73d95941e01",
   "metadata": {},
   "outputs": [],
   "source": [
    "# Load data\n",
    "sales_train = CSV.read(joinpath(\"data\", \"m5-forecasting-accuracy\",\n",
    "        \"data.csv\"), DataFrame);\n",
    "\n",
    "# Data container to hold structured panel and metadata\n",
    "struct Data_M5\n",
    "    y::Any                            # Response matrix (item × store), standardized\n",
    "    K_axis::Vector{String}            # Unique item IDs\n",
    "    S_axis::Vector{String}            # Store IDs\n",
    "    G_axis::Matrix{Float64}           # groups by cat_id, one-hot indicator matrix\n",
    "    K::Int64                          # Number of unique items\n",
    "    S::Int64                          # Number of unique stores\n",
    "    G::Int64                          # Number of unique groups\n",
    "    valid_idx::Vector{Vector{String}} # CV fold indices; vector of item_ids\n",
    "end"
   ]
  },
  {
   "cell_type": "code",
   "execution_count": 116,
   "id": "6848d8d5-f362-447b-92af-4cf1bb6173d7",
   "metadata": {},
   "outputs": [
    {
     "data": {
      "text/plain": [
       "209-element Vector{String15}:\n",
       " \"HOBBIES_1_001\"\n",
       " \"HOBBIES_1_002\"\n",
       " \"HOBBIES_1_003\"\n",
       " \"HOBBIES_1_004\"\n",
       " \"HOBBIES_1_005\"\n",
       " \"HOBBIES_1_006\"\n",
       " \"HOBBIES_1_007\"\n",
       " \"HOBBIES_1_008\"\n",
       " \"HOBBIES_1_009\"\n",
       " \"HOBBIES_1_010\"\n",
       " \"HOBBIES_1_011\"\n",
       " \"HOBBIES_1_012\"\n",
       " \"HOBBIES_1_013\"\n",
       " ⋮\n",
       " \"FOODS_3_019\"\n",
       " \"FOODS_3_020\"\n",
       " \"FOODS_3_021\"\n",
       " \"FOODS_3_022\"\n",
       " \"FOODS_3_023\"\n",
       " \"FOODS_3_024\"\n",
       " \"FOODS_3_025\"\n",
       " \"FOODS_3_026\"\n",
       " \"FOODS_3_027\"\n",
       " \"FOODS_3_028\"\n",
       " \"FOODS_3_029\"\n",
       " \"FOODS_3_030\""
      ]
     },
     "metadata": {},
     "output_type": "display_data"
    },
    {
     "ename": "LoadError",
     "evalue": "UndefVarError: `a` not defined",
     "output_type": "error",
     "traceback": [
      "UndefVarError: `a` not defined",
      "",
      "Stacktrace:",
      " [1] top-level scope",
      "   @ In[116]:9"
     ]
    }
   ],
   "source": [
    "let\n",
    "    Random.seed!(1) # Ensure reproducible shuffling\n",
    "\n",
    "    # Define axis\n",
    "    K_axis = [item_id for item_id in unique(sales_train.item_id)\n",
    "            if 1 <= parse(Int64, split(item_id, \"_\")[end]) <= 30] # Filter items for simplicity\n",
    "    S_axis = sales_train.store_id |> unique # Store axis\n",
    "    axes = (K_axis, S_axis)\n",
    "    \n",
    "    # Initialize (missing) complete panel\n",
    "    y = NamedArray(\n",
    "        Array{Union{Missing, Float64}, 2}(missing, length.(axes)...),\n",
    "        axes,\n",
    "        (:k, :s),\n",
    "    )\n",
    "\n",
    "    # Fill panel\n",
    "    for k=K_axis, s=S_axis\n",
    "        mask = (sales_train.item_id .=== k) .& (sales_train.store_id .=== s)\n",
    "        @assert sum(mask) == 1 # assert one row per item-store (OK for M5)\n",
    "\n",
    "        # Extract daily sales vector during d_1 ~ d_1913\n",
    "        _data = sales_train[mask, [\"d_$(t)\" for t in 1:1913]] |> Matrix |> vec\n",
    "\n",
    "        # Compute mean of first-order differences\n",
    "        y[Name(k), Name(s)] = _data |> diff |> mean\n",
    "    end\n",
    "\n",
    "    # Standardize\n",
    "    y = NamedArray(\n",
    "        (Matrix(y) .- mean(y)) / std(y),\n",
    "        axes,\n",
    "        (:k, :s),\n",
    "    )\n",
    "\n",
    "    # Manually generate validation index\n",
    "    G_axis = K_axis .|> (k -> k[1:end-4]) # Truncate suffix (e.g., \"FOODS_3_012\" → \"FOODS_3\")\n",
    "    K = 10\n",
    "    valid_idx = repeat([String[]], K) # Preallocate K-fold validation index vector\n",
    "\n",
    "    if in(\"valid_idx.jld\", readdir(joinpath(\"data\", \"m5-forecasting-accuracy\")))\n",
    "        valid_idx = load(joinpath(\"data\", \"m5-forecasting-accuracy\", \"valid_idx.jld\"))[\"data\"]\n",
    "    else\n",
    "        # Create stratified folds:\n",
    "        # for each group (e.g., \"FOODS_3\"),\n",
    "        # shuffle items and split into 10 folds (3 items each)\n",
    "        for g in unique(G_axis)\n",
    "            partition_g = Iterators.partition(K_axis[G_axis .== g] |> shuffle, 3) |> collect\n",
    "            @assert length(partition_g) == K # assert number of items: OK only for this M5 data\n",
    "            # Distribute partitioned items into validation folds\n",
    "            for fold_i in 1:K\n",
    "                valid_idx[fold_i] = [valid_idx[fold_i]; partition_g[fold_i]]\n",
    "            end\n",
    "        end\n",
    "        save(joinpath(\"data\", \"m5-forecasting-accuracy\", \"valid_idx.jld\"),\n",
    "            \"data\", data.valid_idx)\n",
    "    end\n",
    "\n",
    "    # Compute axis lengths\n",
    "    K = K_axis |> unique |> length\n",
    "    S = S_axis |> unique |> length\n",
    "    G = G_axis |> unique |> length\n",
    "\n",
    "    # Map group labels to integers and encode as one-hot matrix\n",
    "    _map = Dict(g => i for (i, g) in enumerate(unique(G_axis))) # label → integer index\n",
    "    G_axis = [_map[g] for g in G_axis] # item-level integer group assignments\n",
    "    G_axis = indicatormat(G_axis)' # (group × item) layout\n",
    "\n",
    "    # Store everything in Data_M5 object\n",
    "    global data = Data_M5(y, K_axis, S_axis, G_axis, K, S, G, valid_idx)\n",
    "    # @info size(data.y) # log panel dimensions\n",
    "end;"
   ]
  },
  {
   "cell_type": "markdown",
   "id": "af6022b5-42f9-4b9b-946c-d71776a51458",
   "metadata": {},
   "source": [
    "# MCMC"
   ]
  },
  {
   "cell_type": "code",
   "execution_count": 11,
   "id": "c326b77e-4af7-420a-b0c1-1784c2258e84",
   "metadata": {},
   "outputs": [
    {
     "data": {
      "text/plain": [
       "Model (generic function with 2 methods)"
      ]
     },
     "execution_count": 11,
     "metadata": {},
     "output_type": "execute_result"
    }
   ],
   "source": [
    "@model function Model(\n",
    "        data::Data_M5,\n",
    "        leave_g::Vector{String}, # Vector of item_ids for cross-validation exclusion\n",
    "        ϕ::Union{Float64, Int64}, # Power coefficient for likelihood tempering\n",
    "    )\n",
    "\n",
    "    # Prior: Σ ~ InverseWishart(ν_0 = 2data.S, S_0 = I))\n",
    "    # Bartlett decomposition: Wishart Σ⁻¹ = (LA)(LA)ᵀ = AAᵀ w/ A lower-triangular\n",
    "    # y ~ N(μ, Σ = A⁻ᵀA⁻¹) ⇒ Aᵀ(y - μ) ~ N(0, I)\n",
    "    L, A = I(data.S), zeros(data.S, data.S)\n",
    "    for s_i in 1:data.S\n",
    "        A[s_i,s_i] ~ Chi(2data.S - s_i + 1) # = c[s_i]\n",
    "        for s_j in 1:s_i-1\n",
    "            A[s_i,s_j] ~ Normal(0,1)\n",
    "        end\n",
    "    end\n",
    "    \n",
    "    α_s ~ MvNormal(I(data.S)) # Store-level effects\n",
    "    \n",
    "    α_g ~ MvNormal(I(data.G)) # Group-level effects\n",
    "    X_g = data.G_axis * α_g   # Expand to item-level\n",
    "    \n",
    "    for (k_i, k) in enumerate(data.K_axis)\n",
    "        _power = k ∈ leave_g ? (1 - ϕ) : 1 # fractional likelihood for left-out items\n",
    "        μ = α_s .+ X_g[k_i] # Item-wise mean over stores: store + group\n",
    "        log_ℓ = _power * logpdf(MvNormal(I(data.S)), A' * (data.y[:k => k] - μ)) # Covariance over store\n",
    "        Turing.@addlogprob! log_ℓ\n",
    "    end\n",
    "end"
   ]
  },
  {
   "cell_type": "code",
   "execution_count": 12,
   "id": "32b3e858-8032-483a-959d-6a8d85a29fea",
   "metadata": {},
   "outputs": [
    {
     "data": {
      "text/plain": [
       "run_MCMC (generic function with 1 method)"
      ]
     },
     "execution_count": 12,
     "metadata": {},
     "output_type": "execute_result"
    }
   ],
   "source": [
    "function run_MCMC(; leave_g::Vector{String}, save_bool::Bool=false)\n",
    "    \"\"\"\n",
    "    Function to run MCMC, leaving items (observations) in leave_g the vector of items out.\n",
    "    Set leave_g = [\"none\"] to target baseline posterior.\n",
    "    \"\"\"\n",
    "\n",
    "    @assert in(leave_g, [[[\"none\"]]; data.valid_idx])\n",
    "    fold_i = findall(leave_g == valid_idx for valid_idx in data.valid_idx)\n",
    "    @assert 0 ≤ length(fold_i) ≤ 1 fold_i\n",
    "    fold_i = length(fold_i) == 1 ? fold_i[1] : -1\n",
    "\n",
    "    # Instantiate baseline posterior\n",
    "    _model = nothing\n",
    "    if leave_g == -1\n",
    "        _model = Model(data, [\"none\"], 0)\n",
    "    else\n",
    "        _model = Model(data, leave_g, 1)\n",
    "    end\n",
    "    _model = Model(data, leave_g, 0)\n",
    "    ℓπ = LogDensityFunction(_model)\n",
    "    Turing.DynamicPPL.link!!(ℓπ.varinfo, _model)\n",
    "\n",
    "    D = LogDensityProblems.dimension(ℓπ) # Dimensionality of parameter space\n",
    "    metric = DiagEuclideanMetric(D)\n",
    "    hamiltonian = Hamiltonian(metric, ℓπ)\n",
    "\n",
    "    # Sampling settings\n",
    "    n_burn, n_adapts, n_samples, thin = 1_000, 1_000, 3_000, 3\n",
    "    initial_θ = ones(D)\n",
    "    initial_ϵ = find_good_stepsize(hamiltonian, initial_θ)\n",
    "    integrator = Leapfrog(initial_ϵ)\n",
    "    kernel = HMCKernel(Trajectory{MultinomialTS}(integrator, GeneralisedNoUTurn()))\n",
    "    adaptor = StanHMCAdaptor(MassMatrixAdaptor(metric), StepSizeAdaptor(0.8, integrator))\n",
    "\n",
    "    time = @elapsed samples, stats = sample(\n",
    "        hamiltonian, kernel, initial_θ, n_samples + n_burn, adaptor, n_adapts;\n",
    "        progress=true)\n",
    "\n",
    "    # Post-process samples:\n",
    "    # - drop burn-in;\n",
    "    # - apply thinning (every 3rd)\n",
    "    # - invert bijector, recover params in original space\n",
    "    chain = samples[n_burn+1:thin:end] .|> Turing.inverse(Turing.bijector(_model))\n",
    "\n",
    "    # Save output\n",
    "    if save_bool\n",
    "        _dir = joinpath(\"output_$(SESSION)\", \"M5\", \"mcmc\")\n",
    "        isdir(_dir) || mkpath(_dir) # Ensure path is present\n",
    "        if fold_i == -1\n",
    "            save(joinpath(_dir, \"chain.jld\"), \"data\", chain)\n",
    "            CSV.write(joinpath(_dir, \"stats_df.csv\"), stats |> DataFrame)\n",
    "        else\n",
    "            save(joinpath(_dir, \"chain_lso-$(fold_i).jld\"), \"data\", chain)\n",
    "        end\n",
    "    end\n",
    "\n",
    "    (; chain, stats, time)\n",
    "end"
   ]
  },
  {
   "cell_type": "markdown",
   "id": "cd5814c0-93cc-43d8-94b6-c0cc7b41b470",
   "metadata": {},
   "source": [
    "## Initial draw"
   ]
  },
  {
   "cell_type": "code",
   "execution_count": 10,
   "id": "0b2ba57d-1ffc-4d63-81ad-99dd663fc45e",
   "metadata": {
    "scrolled": true
   },
   "outputs": [
    {
     "name": "stderr",
     "output_type": "stream",
     "text": [
      "\u001b[33m\u001b[1m┌ \u001b[22m\u001b[39m\u001b[33m\u001b[1mWarning: \u001b[22m\u001b[39mProgressMeter by default refresh meters with additional information in IJulia via `IJulia.clear_output`, which clears all outputs in the cell. \n",
      "\u001b[33m\u001b[1m│ \u001b[22m\u001b[39m - To prevent this behaviour, do `ProgressMeter.ijulia_behavior(:append)`. \n",
      "\u001b[33m\u001b[1m│ \u001b[22m\u001b[39m - To disable this warning message, do `ProgressMeter.ijulia_behavior(:clear)`.\n",
      "\u001b[33m\u001b[1m└ \u001b[22m\u001b[39m\u001b[90m@ ProgressMeter C:\\Users\\o6m1g\\.julia\\packages\\ProgressMeter\\kniaW\\src\\ProgressMeter.jl:607\u001b[39m\n",
      "\u001b[32mSampling 100%|███████████████████████████████| Time: 0:12:16\u001b[39m\n",
      "\u001b[34m                                    iterations: 4000\u001b[39m\n",
      "\u001b[34m                   ratio_divergent_transitions: 0.0\u001b[39m\n",
      "\u001b[34m   ratio_divergent_transitions_during_adaption: 0.0\u001b[39m\n",
      "\u001b[34m                                       n_steps: 15\u001b[39m\n",
      "\u001b[34m                                     is_accept: true\u001b[39m\n",
      "\u001b[34m                               acceptance_rate: 0.9509715326934198\u001b[39m\n",
      "\u001b[34m                                   log_density: -2384.063908858131\u001b[39m\n",
      "\u001b[34m                            hamiltonian_energy: 2421.3358314882676\u001b[39m\n",
      "\u001b[34m                      hamiltonian_energy_error: -0.27143739903885944\u001b[39m\n",
      "\u001b[34m                  max_hamiltonian_energy_error: -0.31974855142743763\u001b[39m\n",
      "\u001b[34m                                    tree_depth: 4\u001b[39m\n",
      "\u001b[34m                               numerical_error: false\u001b[39m\n",
      "\u001b[34m                                     step_size: 0.22934044199744194\u001b[39m\n",
      "\u001b[34m                                 nom_step_size: 0.22934044199744194\u001b[39m\n",
      "\u001b[34m                                      is_adapt: false\u001b[39m\n",
      "\u001b[34m                                   mass_matrix: DiagEuclideanMetric([0.02695310773054014, 0.024 ...])\u001b[39m\n",
      "\u001b[36m\u001b[1m┌ \u001b[22m\u001b[39m\u001b[36m\u001b[1mInfo: \u001b[22m\u001b[39mFinished 4000 sampling steps for 1 chains in 736.6229483 (s)\n",
      "\u001b[36m\u001b[1m│ \u001b[22m\u001b[39m  h = Hamiltonian(metric=DiagEuclideanMetric([0.02695310773054014, 0.024 ...]), kinetic=GaussianKinetic())\n",
      "\u001b[36m\u001b[1m│ \u001b[22m\u001b[39m  κ = HMCKernel{AdvancedHMC.FullMomentumRefreshment, Trajectory{MultinomialTS, Leapfrog{Float64}, GeneralisedNoUTurn{Float64}}}(AdvancedHMC.FullMomentumRefreshment(), Trajectory{MultinomialTS}(integrator=Leapfrog(ϵ=0.229), tc=GeneralisedNoUTurn{Float64}(10, 1000.0)))\n",
      "\u001b[36m\u001b[1m│ \u001b[22m\u001b[39m  EBFMI_est = 0.6505353054011177\n",
      "\u001b[36m\u001b[1m└ \u001b[22m\u001b[39m  average_acceptance_rate = 0.8574658478393128\n"
     ]
    }
   ],
   "source": [
    "Random.seed!(1)\n",
    "RUN_MCMC && ((; chain, stats, time) = run_MCMC(leave_g=[\"none\"]; save_bool=true));"
   ]
  },
  {
   "cell_type": "markdown",
   "id": "a39ccb34-334b-46c5-b6db-1c9c6de160b3",
   "metadata": {},
   "source": [
    "## Naive LSO"
   ]
  },
  {
   "cell_type": "code",
   "execution_count": 12,
   "id": "5cd55b0d-13f4-4dc3-93b5-eb7f4ebd7c24",
   "metadata": {},
   "outputs": [
    {
     "name": "stderr",
     "output_type": "stream",
     "text": [
      "\u001b[33m\u001b[1m┌ \u001b[22m\u001b[39m\u001b[33m\u001b[1mWarning: \u001b[22m\u001b[39mProgressMeter by default refresh meters with additional information in IJulia via `IJulia.clear_output`, which clears all outputs in the cell. \n",
      "\u001b[33m\u001b[1m│ \u001b[22m\u001b[39m - To prevent this behaviour, do `ProgressMeter.ijulia_behavior(:append)`. \n",
      "\u001b[33m\u001b[1m│ \u001b[22m\u001b[39m - To disable this warning message, do `ProgressMeter.ijulia_behavior(:clear)`.\n",
      "\u001b[33m\u001b[1m└ \u001b[22m\u001b[39m\u001b[90m@ ProgressMeter C:\\Users\\o6m1g\\.julia\\packages\\ProgressMeter\\kniaW\\src\\ProgressMeter.jl:607\u001b[39m\n",
      "\u001b[32mSampling 100%|███████████████████████████████| Time: 0:15:36\u001b[39m\n",
      "\u001b[34m                                    iterations: 4000\u001b[39m\n",
      "\u001b[34m                   ratio_divergent_transitions: 0.0\u001b[39m\n",
      "\u001b[34m   ratio_divergent_transitions_during_adaption: 0.01\u001b[39m\n",
      "\u001b[34m                                       n_steps: 15\u001b[39m\n",
      "\u001b[34m                                     is_accept: true\u001b[39m\n",
      "\u001b[34m                               acceptance_rate: 0.9848288096342747\u001b[39m\n",
      "\u001b[34m                                   log_density: -2200.9922507090364\u001b[39m\n",
      "\u001b[34m                            hamiltonian_energy: 2235.2269213304976\u001b[39m\n",
      "\u001b[34m                      hamiltonian_energy_error: -0.06041725225986738\u001b[39m\n",
      "\u001b[34m                  max_hamiltonian_energy_error: -0.8193203024493414\u001b[39m\n",
      "\u001b[34m                                    tree_depth: 4\u001b[39m\n",
      "\u001b[34m                               numerical_error: false\u001b[39m\n",
      "\u001b[34m                                     step_size: 0.20924768992312953\u001b[39m\n",
      "\u001b[34m                                 nom_step_size: 0.20924768992312953\u001b[39m\n",
      "\u001b[34m                                      is_adapt: false\u001b[39m\n",
      "\u001b[34m                                   mass_matrix: DiagEuclideanMetric([0.028727031698568207, 0.03 ...])\u001b[39m\n",
      "\u001b[36m\u001b[1m┌ \u001b[22m\u001b[39m\u001b[36m\u001b[1mInfo: \u001b[22m\u001b[39mFinished 4000 sampling steps for 1 chains in 936.7311526 (s)\n",
      "\u001b[36m\u001b[1m│ \u001b[22m\u001b[39m  h = Hamiltonian(metric=DiagEuclideanMetric([0.028727031698568207, 0.03 ...]), kinetic=GaussianKinetic())\n",
      "\u001b[36m\u001b[1m│ \u001b[22m\u001b[39m  κ = HMCKernel{AdvancedHMC.FullMomentumRefreshment, Trajectory{MultinomialTS, Leapfrog{Float64}, GeneralisedNoUTurn{Float64}}}(AdvancedHMC.FullMomentumRefreshment(), Trajectory{MultinomialTS}(integrator=Leapfrog(ϵ=0.209), tc=GeneralisedNoUTurn{Float64}(10, 1000.0)))\n",
      "\u001b[36m\u001b[1m│ \u001b[22m\u001b[39m  EBFMI_est = 0.5766202886845014\n",
      "\u001b[36m\u001b[1m└ \u001b[22m\u001b[39m  average_acceptance_rate = 0.8695163756994043\n"
     ]
    }
   ],
   "source": [
    "Random.seed!(1)\n",
    "\n",
    "if RUN_MCMC\n",
    "    \n",
    "    times_M5 = Float64[] # Runtime for each MCMC-LSO run\n",
    "    \n",
    "    # Loop over each folds for bruteforce MCMC-LSO\n",
    "    for (fold_i, leave_g) in enumerate(data.valid_idx)\n",
    "        @info \"Fold $(fold_i)\"\n",
    "        \n",
    "        (; chain, stats, time) = run_MCMC(leave_g=leave_g; save_bool=true)\n",
    "        push!(times_M5, time)\n",
    "        \n",
    "        # Save intermediate results after each iteration (in case of interruption)\n",
    "        _dir = joinpath(\"output_$(SESSION)\", \"M5\", \"mcmc\")\n",
    "        isdir(_dir) || mkpath(_dir) # Ensure path is present\n",
    "        save(joinpath(_dir, \"times_naive-lso.jld\"), \"data\", times_M5)\n",
    "    end\n",
    "end"
   ]
  },
  {
   "cell_type": "markdown",
   "id": "4941e09d-27ef-4d3b-9bad-31bcb3666092",
   "metadata": {},
   "source": [
    "# LSO"
   ]
  },
  {
   "cell_type": "code",
   "execution_count": 14,
   "id": "970f907e-31f3-4d2e-922c-646c41dafdb0",
   "metadata": {},
   "outputs": [],
   "source": [
    "chain = load(joinpath(\"output\", \"M5\", \"mcmc\", \"chain.jld\"))[\"data\"];\n",
    "stats = CSV.read(joinpath(\"output\", \"M5\", \"mcmc\", \"stats_df.csv\"), DataFrame);"
   ]
  },
  {
   "cell_type": "markdown",
   "id": "21b388c9-4aa9-4208-b98a-c17a4c2fa3fc",
   "metadata": {},
   "source": [
    "## aSMC"
   ]
  },
  {
   "cell_type": "code",
   "execution_count": 15,
   "id": "fa35052c-37db-4887-8f2a-bb53f792258c",
   "metadata": {},
   "outputs": [
    {
     "data": {
      "text/plain": [
       "SMCS_M5 (generic function with 1 method)"
      ]
     },
     "execution_count": 15,
     "metadata": {},
     "output_type": "execute_result"
    }
   ],
   "source": [
    "function SMCS_M5(chain::Vector{Vector{Float64}}, leave_g::Vector{String}; k̂_threshold::Float64=0.7)\n",
    "\n",
    "    # Unconstrain initial draws\n",
    "    model   = Model(data, leave_g, 0) # draws are from this baseline\n",
    "    draws_0 = chain .|> Turing.bijector(model) |> vecvec2mat # as matrix\n",
    "\n",
    "    # Define problem dimensions\n",
    "    R      = size(draws_0, 1)    # number of baseline MCMC draws\n",
    "    D      = size(draws_0, 2)    # dimension of posterior\n",
    "    L      = length(data.K_axis) # max number of intermediate distributions\n",
    "\n",
    "    # Obtain unconstrained prior draw\n",
    "    _names = sample(model, Prior(), 1).name_map.parameters .|> String # param names\n",
    "    Θ_0    = NamedArray(\n",
    "        draws_0,\n",
    "        (1:R, _names),\n",
    "        (:n, :d),\n",
    "    )\n",
    "\n",
    "    # Allocate storage\n",
    "    particles = NamedArray(zeros(L+1, R, D), (0:L, 1:R, _names), (:l, :n, :d))\n",
    "    weights   = NamedArray(zeros(L+1, R), (0:L, 1:R), (:l, :n))\n",
    "    ϕ_history = NamedArray(zeros(L+1), 0:L, :l)\n",
    "    mcmc_flag = NamedArray(zeros(L+1), 0:L, :l)\n",
    "    k̂         = nothing\n",
    "    \n",
    "    # Log weights normalizer\n",
    "    function _normalize(_log_w::Vector{Float64})::Vector{Float64}\n",
    "        _w = exp.(_log_w .- maximum(_log_w))\n",
    "        _w = _w / sum(_w)\n",
    "        _w\n",
    "    end\n",
    "\n",
    "    # Effective sample size\n",
    "    function _ess(_w::Vector{Float64})::Float64\n",
    "        1 / sum(@. exp(2 * log(_w)))\n",
    "    end\n",
    "    \n",
    "    # Log ratio at given proposal l-1 and target l for n-th particle\n",
    "    function log_G(ℓπ_0, ℓπ_1, l::Int, n::Int)::Float64\n",
    "        _particle = particles[:l => l-1, :n => n]\n",
    "        log_γ_0 = LogDensityProblems.logdensity(ℓπ_0, _particle)\n",
    "        log_γ_1 = LogDensityProblems.logdensity(ℓπ_1, _particle)\n",
    "        log_γ_1 - log_γ_0\n",
    "    end\n",
    "\n",
    "    # MCMC kernel\n",
    "    initial_ϵ, n_steps, mass = stats.step_size[end], min(15, stats.n_steps[end]), vec(var(chain .|> vec |> vecvec2mat; dims=1))\n",
    "    function _move(initial_θ::Vector{Float64},\n",
    "            n_samples::Int, n_adapts::Int,\n",
    "            ℓπ::LogDensityFunction)::Vector{Float64}\n",
    "        metric = DiagEuclideanMetric(mass)\n",
    "        hamiltonian = Hamiltonian(metric, ℓπ)\n",
    "        integrator = Leapfrog(initial_ϵ)\n",
    "        adaptor = StanHMCAdaptor(MassMatrixAdaptor(metric), StepSizeAdaptor(0.8, integrator))\n",
    "        kernel = HMCKernel(Trajectory{EndPointTS}(integrator, FixedNSteps(n_steps)))\n",
    "        rng = Random.TaskLocalRNG()\n",
    "        samples, stats = sample(rng, hamiltonian, kernel, initial_θ, n_samples, adaptor, n_adapts;\n",
    "            verbose=false, progress=false)\n",
    "        samples[end]\n",
    "    end\n",
    "    \n",
    "    # Set initial values, starting index\n",
    "    particles[:l => 0] = Θ_0 # sample from prior\n",
    "    weights[:l => 0] = repeat([1/R], R)\n",
    "    ϕ_history[:l => 0] = 0.\n",
    "    \n",
    "    time = @elapsed for l in 1:L\n",
    "        # Inherit case-deleted model from previous iteration\n",
    "        model_0 = Model(data, leave_g, ϕ_history[:l => l-1])\n",
    "        ℓπ_0 = LogDensityFunction(model_0)\n",
    "        Turing.DynamicPPL.link!!(ℓπ_0.varinfo, model_0)\n",
    "\n",
    "        # Define (until ↦ ESS) map\n",
    "        function _ϕ2reff(ϕ::Union{Float64, Int64})::Float64\n",
    "            @assert 0 <= ϕ <= 1 # data.N_g[leave_g]\n",
    "            model_1 = Model(data, leave_g, ϕ)\n",
    "            ℓπ_1 = LogDensityFunction(model_1)\n",
    "            Turing.DynamicPPL.link!!(ℓπ_1.varinfo, model_1)\n",
    "            \n",
    "            _log_weights = [log_G(ℓπ_0, ℓπ_1, l, n) for n in 1:R]\n",
    "            _log_weights = _log_weights .- maximum(_log_weights)\n",
    "            \n",
    "            _ESS = _log_weights |> _normalize |> _ess\n",
    "            _ESS - R/2\n",
    "        end\n",
    "        \n",
    "        # Initialize next distribution parameter\n",
    "        ϕ_1 = nothing\n",
    "        \n",
    "        # Case 1: ESS is above threshold\n",
    "        if _ϕ2reff(1) > 0\n",
    "            # Define next as final distribution\n",
    "            ϕ_1 = 1\n",
    "            \n",
    "            # Compute log weights\n",
    "            model_1 = Model(data, leave_g, ϕ_1)\n",
    "            ℓπ_1 = LogDensityFunction(model_1)\n",
    "            Turing.DynamicPPL.link!!(ℓπ_1.varinfo, model_1)\n",
    "            _log_weights = [log_G(ℓπ_0, ℓπ_1, l, n) for n in 1:R]\n",
    "            _log_weights = _log_weights .- maximum(_log_weights)\n",
    "\n",
    "            # Adaptive\n",
    "            _psis = psis(_log_weights; warn=false)\n",
    "\n",
    "            # Case 1-1: PSIS\n",
    "            if _psis.pareto_shape < k̂_threshold\n",
    "                mcmc_flag[:l => l] = false; @info \"ϕ=$(ϕ_1), PSIS\"\n",
    "                particles[:l => l] = particles[:l => l-1]\n",
    "                weights[:l => l] = _psis.log_weights |> _normalize\n",
    "                k̂ = _psis.pareto_shape \n",
    "                ϕ_history[:l => l] = ϕ_1\n",
    "            \n",
    "            # Case 1-2: MCMC kernel\n",
    "            else\n",
    "                mcmc_flag[:l => l] = true; @info \"ϕ=$(ϕ_1), MCMC\"\n",
    "                \n",
    "                A_0 = wsample(1:R, _log_weights |> _normalize, R)\n",
    "                _begin = particles[:l => l-1, :n => A_0]\n",
    "                _end = particles[:l => l, :n => 1:R] |> similar\n",
    "                #@showprogress for n in 1:R\n",
    "                p = ProgressMeter.Progress(R); @Threads.threads for n in 1:R\n",
    "                    _end[n,:] = _move(_begin[n,:], 1, 0, ℓπ_1)\n",
    "                    ProgressMeter.next!(p)\n",
    "                end\n",
    "                particles[Name(l), :, :,] = _end\n",
    "                weights[:l => l] = repeat([1/R], R)\n",
    "                ϕ_history[:l => l] = ϕ_1\n",
    "            end\n",
    "            \n",
    "            L = l; break # Break loop\n",
    "\n",
    "        # Case 2: ESS is below threshold\n",
    "        else\n",
    "            mcmc_flag[:l => l] = true\n",
    "            \n",
    "            # Find next distribution\n",
    "            ϕ_1 = find_zero(_ϕ2reff, (ϕ_history[:l => l-1] + 1e-4, 1),\n",
    "                xtol=0.1, maxiters=10, verbose=true)\n",
    "            @info \"Targeting ϕ=$(ϕ_1)\"\n",
    "            \n",
    "            # Compute log weights\n",
    "            model_1 = Model(data, leave_g, ϕ_1)\n",
    "            ℓπ_1 = LogDensityFunction(model_1)\n",
    "            Turing.DynamicPPL.link!!(ℓπ_1.varinfo, model_1)\n",
    "            _log_weights = [log_G(ℓπ_0, ℓπ_1, l, n) for n in 1:R]\n",
    "            _log_weights = _log_weights .- maximum(_log_weights)\n",
    "            \n",
    "            A_0 = wsample(1:R, _log_weights |> _normalize, R)\n",
    "            _begin = particles[:l => l-1, :n => A_0]\n",
    "            _end = particles[:l => l, :n => 1:R] |> similar\n",
    "            #@showprogress for n in 1:R\n",
    "            p = ProgressMeter.Progress(R); @Threads.threads for n in 1:R\n",
    "                _end[n,:] = _move(_begin[n,:], 1, 0, ℓπ_1)\n",
    "                ProgressMeter.next!(p)\n",
    "            end\n",
    "            particles[Name(l), :, :,] = _end\n",
    "            weights[:l => l] = repeat([1/R], R)\n",
    "            ϕ_history[:l => l] = ϕ_1\n",
    "        end\n",
    "    end\n",
    "\n",
    "    particles = particles[Name(L),:,:]\n",
    "    weights   = weights[Name(L), :]\n",
    "    mcmc_flag = mcmc_flag[Name(L)]\n",
    "    ϕ_history = ϕ_history[Name.(0:L)]\n",
    "\n",
    "    (;\n",
    "        R,         # Number of particles\n",
    "        D,         # Dimensionality of parameter space\n",
    "        L,         # Number of intermediate distributions\n",
    "        particles, # NamedArray of particles\n",
    "        weights,   # Associated particle weights\n",
    "        ϕ_history, # History of ϕ (= 1 - ρ | ρ: power coef) values\n",
    "        k̂,         # Pareto shape diagnostic estimate, if any\n",
    "        mcmc_flag, # true if invariant kernel applied\n",
    "        time,      # SMC runtime\n",
    "    )\n",
    "end"
   ]
  },
  {
   "cell_type": "markdown",
   "id": "1ea66811-a3c7-4369-9910-8e97d6a6ad63",
   "metadata": {},
   "source": [
    "## PSIS"
   ]
  },
  {
   "cell_type": "code",
   "execution_count": 16,
   "id": "48753fc0-710c-44d4-bd7d-addffc7b9e7c",
   "metadata": {},
   "outputs": [
    {
     "data": {
      "text/plain": [
       "PSIS_M5 (generic function with 1 method)"
      ]
     },
     "execution_count": 16,
     "metadata": {},
     "output_type": "execute_result"
    }
   ],
   "source": [
    "function PSIS_M5(chain::Vector{Vector{Float64}}, leave_g::Vector{String};\n",
    "        k̂_threshold::Float64=0.7 # not used\n",
    "    )\n",
    "    \n",
    "    model = Model(data, leave_g, 0)\n",
    "    draws_0 = chain .|> Turing.bijector(model) |> vecvec2mat # unconstrain\n",
    "    \n",
    "    # Define problem dimensions\n",
    "    R = size(draws_0, 1)\n",
    "    D = size(draws_0, 2)\n",
    "    L = 1 # maximum\n",
    "    _names = sample(model, Prior(), 1).name_map.parameters .|> String\n",
    "    \n",
    "    # Obtain unconstrained prior draw\n",
    "    Θ_0 = NamedArray(\n",
    "        draws_0,\n",
    "        (1:R, _names),\n",
    "        (:n, :d),\n",
    "    )\n",
    "    \n",
    "    # Initialize containers\n",
    "    particles   = NamedArray(zeros(L+1, R, D), (0:L, 1:R, _names), (:l, :n, :d))\n",
    "    # log_weights = NamedArray(zeros(L+1, R), (0:L, 1:R), (:l, :n))\n",
    "    weights     = NamedArray(zeros(L+1, R), (0:L, 1:R), (:l, :n))\n",
    "    k̂           = nothing # NamedArray(zeros(L+1), 0:L, :l)\n",
    "    \n",
    "    # Log weights normalizer\n",
    "    function _normalize(_log_w::Vector{Float64})::Vector{Float64}\n",
    "        # normalize log weights\n",
    "        _w = exp.(_log_w .- maximum(_log_w))\n",
    "        _w = _w / sum(_w)\n",
    "        _w\n",
    "    end\n",
    "\n",
    "    # Log ratio\n",
    "    function log_G(ℓπ_0, ℓπ_1, l::Int, n::Int)::Float64\n",
    "        _particle = particles[:l => l-1, :n => n]\n",
    "        log_γ_0 = LogDensityProblems.logdensity(ℓπ_0, _particle)\n",
    "        log_γ_1 = LogDensityProblems.logdensity(ℓπ_1, _particle)\n",
    "        log_γ_1 - log_γ_0\n",
    "    end\n",
    "    \n",
    "    # Set initial values, starting index\n",
    "    particles[:l => 0] = Θ_0 # sample from prior\n",
    "    weights[:l => 0] = repeat([1/R], R)\n",
    "\n",
    "    ϕ_0 = 0\n",
    "    model_0 = Model(data, leave_g, ϕ_0)\n",
    "    ℓπ_0 = LogDensityFunction(model_0)\n",
    "    Turing.DynamicPPL.link!!(ℓπ_0.varinfo, model_0)\n",
    "    \n",
    "    # Compute log weights\n",
    "    ϕ_1 = 1\n",
    "    model_1 = Model(data, leave_g, ϕ_1)\n",
    "    ℓπ_1 = LogDensityFunction(model_1)\n",
    "    Turing.DynamicPPL.link!!(ℓπ_1.varinfo, model_1)\n",
    "    \n",
    "    time = @elapsed (l = 1;\n",
    "        _log_weights = [log_G(ℓπ_0, ℓπ_1, l, n) for n in 1:R];\n",
    "        _log_weights = _log_weights .- maximum(_log_weights);\n",
    "        \n",
    "        # PSIS\n",
    "        _psis = psis(_log_weights; warn=false);\n",
    "        particles[:l => l] = particles[:l => l-1];\n",
    "        weights[:l => l] = _psis.log_weights |> _normalize;\n",
    "    )\n",
    "    \n",
    "    k̂ = _psis.pareto_shape\n",
    "    particles = particles[Name(L),:,:]\n",
    "    weights   = weights[Name(L), :]\n",
    "\n",
    "    (; R, D, L, particles, weights, k̂, time)\n",
    "end"
   ]
  },
  {
   "cell_type": "markdown",
   "id": "3031ce1b-cd36-49c3-8fdd-cc443cc48200",
   "metadata": {},
   "source": [
    "# Run"
   ]
  },
  {
   "cell_type": "code",
   "execution_count": 17,
   "id": "01734703-3330-4849-a764-4db98c4d67d0",
   "metadata": {},
   "outputs": [
    {
     "data": {
      "text/plain": [
       "run (generic function with 1 method)"
      ]
     },
     "execution_count": 17,
     "metadata": {},
     "output_type": "execute_result"
    }
   ],
   "source": [
    "# Function to run aSMC-LSO-CV or PSIS-LSO-CV across all counties\n",
    "function run(\n",
    "        use_chain::Vector{Vector{Float64}}, # Input baseline MCMC chain\n",
    "        Sampler_M5::Union{typeof(SMCS_M5), typeof(PSIS_M5)};\n",
    "        save_bool::Bool=false,              # Saving output\n",
    "        k̂_threshold::Float64=0.7,           # Optional threshold (unused for main analysis)\n",
    ")\n",
    "    \n",
    "    R = length(use_chain) # Number of posterior particles\n",
    "\n",
    "    # Init per-group storage\n",
    "    particles    = []\n",
    "    weights      = []\n",
    "    ϕ_histories  = []\n",
    "    k̂s           = []\n",
    "    times        = Float64[]\n",
    "\n",
    "    @info \"First pilot run\"\n",
    "    Sampler_M5(use_chain, data.valid_idx[1]; k̂_threshold=k̂_threshold)\n",
    "    \n",
    "    for (fold_i, leave_g) in enumerate(data.valid_idx)\n",
    "        @info \"Fold: $(fold_i)\"\n",
    "        \n",
    "        # Run aSMC or PSIS\n",
    "        results = Sampler_M5(use_chain, leave_g; k̂_threshold=k̂_threshold)\n",
    "        # aiueo\n",
    "        # Record output\n",
    "        push!(particles,   results[:particles])\n",
    "        push!(weights,     results[:weights])\n",
    "        push!(k̂s,          results[:k̂])\n",
    "        push!(times,       results[:time])\n",
    "        Sampler_M5 == SMCS_M5 && push!(ϕ_histories, results[:ϕ_history])\n",
    "        # break\n",
    "    end\n",
    "\n",
    "    if save_bool\n",
    "        # Define folder to save output\n",
    "        _dir = joinpath(\n",
    "            \"output_$(SESSION)\",\n",
    "            \"M5\",\n",
    "            Sampler_M5 == SMCS_M5 ? \"smc\" : \"psis\"\n",
    "        )\n",
    "        isdir(_dir) || mkpath(_dir) # Ensure path is present\n",
    "\n",
    "        # Save (after un-naming)\n",
    "        # Sizes are: G = groups, R = particles, D = parameter dim\n",
    "        save(joinpath(_dir, \"particles_threshold-$(k̂_threshold).jld\"),\n",
    "            \"data\", particles .|> Matrix) # [G][R,D]\n",
    "        save(joinpath(_dir, \"weights_threshold-$(k̂_threshold).jld\"),\n",
    "            \"data\", weights .|> Vector) # [G][R]\n",
    "        save(joinpath(_dir, \"khats_threshold-$(k̂_threshold).jld\"),\n",
    "            \"data\", k̂s) # G\n",
    "        save(joinpath(_dir, \"times_threshold-$(k̂_threshold).jld\"),\n",
    "            \"data\", times) # G\n",
    "        Sampler_M5 == SMCS_M5 && save(\n",
    "            joinpath(_dir, \"histories_threshold-$(k̂_threshold).jld\"),\n",
    "            \"data\", ϕ_histories .|> Vector) # [G][L_g]\n",
    "    end\n",
    "    \n",
    "    return\n",
    "end"
   ]
  },
  {
   "cell_type": "code",
   "execution_count": 17,
   "id": "7147f80d-9b29-4aea-bbc8-17e9426a56bb",
   "metadata": {
    "scrolled": true
   },
   "outputs": [
    {
     "name": "stderr",
     "output_type": "stream",
     "text": [
      "\u001b[36m\u001b[1m[ \u001b[22m\u001b[39m\u001b[36m\u001b[1mInfo: \u001b[22m\u001b[39mFold: 1\n"
     ]
    },
    {
     "data": {
      "text/plain": [
       "Results of univariate zero finding:\n",
       "\n",
       "* Converged to: 0.2769941406249999\n",
       "* Algorithm: Bisection()\n",
       "* iterations: 10\n",
       "* function evaluations ≈ 13\n",
       "\n",
       "Trace:\n",
       "(a₀, b₀) = ( 0.010306249999999999, 1 )\n",
       "(a₁, b₁) = ( 0.103725, 1 )\n",
       "(a₂, b₂) = ( 0.103725, 0.33244999999999997 )\n",
       "(a₃, b₃) = ( 0.18683749999999999, 0.33244999999999997 )\n",
       "(a₄, b₄) = ( 0.23903124999999997, 0.33244999999999997 )\n",
       "(a₅, b₅) = ( 0.23903124999999997, 0.28025624999999993 )\n",
       "(a₆, b₆) = ( 0.25415937499999991, 0.28025624999999993 )\n",
       "(a₇, b₇) = ( 0.26720781249999992, 0.28025624999999993 )\n",
       "(a₈, b₈) = ( 0.2737320312499999, 0.28025624999999993 )\n",
       "(a₉, b₉) = ( 0.2737320312499999, 0.27699414062499988 )\n",
       "(a₁₀, b₁₀) = ( 0.27536308593749986, 0.27699414062499988 )\n",
       "\n"
      ]
     },
     "metadata": {},
     "output_type": "display_data"
    },
    {
     "name": "stderr",
     "output_type": "stream",
     "text": [
      "\u001b[36m\u001b[1m[ \u001b[22m\u001b[39m\u001b[36m\u001b[1mInfo: \u001b[22m\u001b[39mTargeting ϕ=0.2769941406249999\n",
      "\u001b[32mProgress: 100%|█████████████████████████████████████████| Time: 0:00:45\u001b[39m\n"
     ]
    },
    {
     "data": {
      "text/plain": [
       "Results of univariate zero finding:\n",
       "\n",
       "* Converged to: 0.4703667013168333\n",
       "* Algorithm: Bisection()\n",
       "* iterations: 10\n",
       "* function evaluations ≈ 13\n",
       "\n",
       "Trace:\n",
       "(a₀, b₀) = ( 0.27709414062499987, 0.52709414062499982 )\n",
       "(a₁, b₁) = ( 0.39532060546874986, 0.52709414062499982 )\n",
       "(a₂, b₂) = ( 0.45443383789062486, 0.52709414062499982 )\n",
       "(a₃, b₃) = ( 0.45443383789062486, 0.48399045410156238 )\n",
       "(a₄, b₄) = ( 0.46921214599609362, 0.48399045410156238 )\n",
       "(a₅, b₅) = ( 0.46921214599609362, 0.476601300048828 )\n",
       "(a₆, b₆) = ( 0.46921214599609362, 0.47290672302246078 )\n",
       "(a₇, b₇) = ( 0.46921214599609362, 0.47105943450927718 )\n",
       "(a₈, b₈) = ( 0.47013579025268537, 0.47105943450927718 )\n",
       "(a₉, b₉) = ( 0.47013579025268537, 0.47059761238098125 )\n",
       "(a₁₀, b₁₀) = ( 0.47013579025268537, 0.47036670131683328 )\n",
       "\n"
      ]
     },
     "metadata": {},
     "output_type": "display_data"
    },
    {
     "name": "stderr",
     "output_type": "stream",
     "text": [
      "\u001b[36m\u001b[1m[ \u001b[22m\u001b[39m\u001b[36m\u001b[1mInfo: \u001b[22m\u001b[39mTargeting ϕ=0.4703667013168333\n",
      "\u001b[32mProgress: 100%|█████████████████████████████████████████| Time: 0:00:44\u001b[39m\n"
     ]
    },
    {
     "data": {
      "text/plain": [
       "Results of univariate zero finding:\n",
       "\n",
       "* Converged to: 0.6429398880101735\n",
       "* Algorithm: Bisection()\n",
       "* iterations: 10\n",
       "* function evaluations ≈ 13\n",
       "\n",
       "Trace:\n",
       "(a₀, b₀) = ( 0.47046670131683327, 0.72046670131683321 )\n",
       "(a₁, b₁) = ( 0.58070005197524988, 0.72046670131683321 )\n",
       "(a₂, b₂) = ( 0.58070005197524988, 0.65058337664604149 )\n",
       "(a₃, b₃) = ( 0.61564171431064563, 0.65058337664604149 )\n",
       "(a₄, b₄) = ( 0.6331125454783435, 0.65058337664604149 )\n",
       "(a₅, b₅) = ( 0.64184796106219244, 0.65058337664604149 )\n",
       "(a₆, b₆) = ( 0.64184796106219244, 0.64621566885411696 )\n",
       "(a₇, b₇) = ( 0.64184796106219244, 0.64403181495815465 )\n",
       "(a₈, b₈) = ( 0.64184796106219244, 0.64293988801017354 )\n",
       "(a₉, b₉) = ( 0.64239392453618294, 0.64293988801017354 )\n",
       "(a₁₀, b₁₀) = ( 0.64266690627317824, 0.64293988801017354 )\n",
       "\n"
      ]
     },
     "metadata": {},
     "output_type": "display_data"
    },
    {
     "name": "stderr",
     "output_type": "stream",
     "text": [
      "\u001b[36m\u001b[1m[ \u001b[22m\u001b[39m\u001b[36m\u001b[1mInfo: \u001b[22m\u001b[39mTargeting ϕ=0.6429398880101735\n",
      "\u001b[32mProgress: 100%|█████████████████████████████████████████| Time: 0:00:44\u001b[39m\n"
     ]
    },
    {
     "data": {
      "text/plain": [
       "Results of univariate zero finding:\n",
       "\n",
       "* Converged to: 0.7746340699204853\n",
       "* Algorithm: Bisection()\n",
       "* iterations: 10\n",
       "* function evaluations ≈ 13\n",
       "\n",
       "Trace:\n",
       "(a₀, b₀) = ( 0.64303988801017353, 0.82151994400508677 )\n",
       "(a₁, b₁) = ( 0.73227991600763009, 0.82151994400508677 )\n",
       "(a₂, b₂) = ( 0.73227991600763009, 0.77689993000635837 )\n",
       "(a₃, b₃) = ( 0.75458992300699423, 0.77689993000635837 )\n",
       "(a₄, b₄) = ( 0.76574492650667625, 0.77689993000635837 )\n",
       "(a₅, b₅) = ( 0.77132242825651731, 0.77689993000635837 )\n",
       "(a₆, b₆) = ( 0.77411117913143779, 0.77689993000635837 )\n",
       "(a₇, b₇) = ( 0.77411117913143779, 0.77550555456889803 )\n",
       "(a₈, b₈) = ( 0.77411117913143779, 0.77480836685016785 )\n",
       "(a₉, b₉) = ( 0.77445977299080282, 0.77480836685016785 )\n",
       "(a₁₀, b₁₀) = ( 0.77445977299080282, 0.77463406992048534 )\n",
       "\n"
      ]
     },
     "metadata": {},
     "output_type": "display_data"
    },
    {
     "name": "stderr",
     "output_type": "stream",
     "text": [
      "\u001b[36m\u001b[1m[ \u001b[22m\u001b[39m\u001b[36m\u001b[1mInfo: \u001b[22m\u001b[39mTargeting ϕ=0.7746340699204853\n",
      "\u001b[32mProgress: 100%|█████████████████████████████████████████| Time: 0:00:44\u001b[39m\n"
     ]
    },
    {
     "data": {
      "text/plain": [
       "Results of univariate zero finding:\n",
       "\n",
       "* Converged to: 0.8729579349405079\n",
       "* Algorithm: Bisection()\n",
       "* iterations: 10\n",
       "* function evaluations ≈ 13\n",
       "\n",
       "Trace:\n",
       "(a₀, b₀) = ( 0.77473406992048532, 0.88736703496024261 )\n",
       "(a₁, b₁) = ( 0.83105055244036397, 0.88736703496024261 )\n",
       "(a₂, b₂) = ( 0.85920879370030323, 0.88736703496024261 )\n",
       "(a₃, b₃) = ( 0.85920879370030323, 0.87328791433027286 )\n",
       "(a₄, b₄) = ( 0.86624835401528799, 0.87328791433027286 )\n",
       "(a₅, b₅) = ( 0.86976813417278043, 0.87328791433027286 )\n",
       "(a₆, b₆) = ( 0.87152802425152665, 0.87328791433027286 )\n",
       "(a₇, b₇) = ( 0.8724079692908997, 0.87328791433027286 )\n",
       "(a₈, b₈) = ( 0.87284794181058623, 0.87328791433027286 )\n",
       "(a₉, b₉) = ( 0.87284794181058623, 0.87306792807042954 )\n",
       "(a₁₀, b₁₀) = ( 0.87295793494050788, 0.87306792807042954 )\n",
       "\n"
      ]
     },
     "metadata": {},
     "output_type": "display_data"
    },
    {
     "name": "stderr",
     "output_type": "stream",
     "text": [
      "\u001b[36m\u001b[1m[ \u001b[22m\u001b[39m\u001b[36m\u001b[1mInfo: \u001b[22m\u001b[39mTargeting ϕ=0.8729579349405079\n",
      "\u001b[32mProgress: 100%|█████████████████████████████████████████| Time: 0:00:44\u001b[39m\n"
     ]
    },
    {
     "data": {
      "text/plain": [
       "Results of univariate zero finding:\n",
       "\n",
       "* Converged to: 0.953946311357811\n",
       "* Algorithm: Bisection()\n",
       "* iterations: 10\n",
       "* function evaluations ≈ 13\n",
       "\n",
       "Trace:\n",
       "(a₀, b₀) = ( 0.93652896747025394, 1 )\n",
       "(a₁, b₁) = ( 0.93652896747025394, 0.96826448373512697 )\n",
       "(a₂, b₂) = ( 0.9523967256026904, 0.96826448373512697 )\n",
       "(a₃, b₃) = ( 0.9523967256026904, 0.96033060466890863 )\n",
       "(a₄, b₄) = ( 0.9523967256026904, 0.95636366513579951 )\n",
       "(a₅, b₅) = ( 0.9523967256026904, 0.9543801953692449 )\n",
       "(a₆, b₆) = ( 0.95338846048596759, 0.9543801953692449 )\n",
       "(a₇, b₇) = ( 0.95388432792760625, 0.9543801953692449 )\n",
       "(a₈, b₈) = ( 0.95388432792760625, 0.95413226164842557 )\n",
       "(a₉, b₉) = ( 0.95388432792760625, 0.95400829478801585 )\n",
       "(a₁₀, b₁₀) = ( 0.95388432792760625, 0.95394631135781105 )\n",
       "\n"
      ]
     },
     "metadata": {},
     "output_type": "display_data"
    },
    {
     "name": "stderr",
     "output_type": "stream",
     "text": [
      "\u001b[36m\u001b[1m[ \u001b[22m\u001b[39m\u001b[36m\u001b[1mInfo: \u001b[22m\u001b[39mTargeting ϕ=0.953946311357811\n",
      "\u001b[32mProgress: 100%|█████████████████████████████████████████| Time: 0:00:44\u001b[39m\n",
      "\u001b[36m\u001b[1m[ \u001b[22m\u001b[39m\u001b[36m\u001b[1mInfo: \u001b[22m\u001b[39mϕ=1, PSIS\n",
      "\u001b[36m\u001b[1m[ \u001b[22m\u001b[39m\u001b[36m\u001b[1mInfo: \u001b[22m\u001b[39mFold: 2\n"
     ]
    },
    {
     "data": {
      "text/plain": [
       "Results of univariate zero finding:\n",
       "\n",
       "* Converged to: 0.3960611328124999\n",
       "* Algorithm: Bisection()\n",
       "* iterations: 10\n",
       "* function evaluations ≈ 13\n",
       "\n",
       "Trace:\n",
       "(a₀, b₀) = ( 0.010306249999999999, 1 )\n",
       "(a₁, b₁) = ( 0.103725, 1 )\n",
       "(a₂, b₂) = ( 0.33244999999999997, 1 )\n",
       "(a₃, b₃) = ( 0.33244999999999997, 0.58244999999999991 )\n",
       "(a₄, b₄) = ( 0.33244999999999997, 0.43683749999999993 )\n",
       "(a₅, b₅) = ( 0.38464374999999995, 0.43683749999999993 )\n",
       "(a₆, b₆) = ( 0.38464374999999995, 0.41074062499999991 )\n",
       "(a₇, b₇) = ( 0.38464374999999995, 0.39769218749999991 )\n",
       "(a₈, b₈) = ( 0.39116796874999993, 0.39769218749999991 )\n",
       "(a₉, b₉) = ( 0.39443007812499992, 0.39769218749999991 )\n",
       "(a₁₀, b₁₀) = ( 0.39443007812499992, 0.39606113281249988 )\n",
       "\n"
      ]
     },
     "metadata": {},
     "output_type": "display_data"
    },
    {
     "name": "stderr",
     "output_type": "stream",
     "text": [
      "\u001b[36m\u001b[1m[ \u001b[22m\u001b[39m\u001b[36m\u001b[1mInfo: \u001b[22m\u001b[39mTargeting ϕ=0.3960611328124999\n",
      "\u001b[32mProgress: 100%|█████████████████████████████████████████| Time: 0:00:45\u001b[39m\n"
     ]
    },
    {
     "data": {
      "text/plain": [
       "Results of univariate zero finding:\n",
       "\n",
       "* Converged to: 0.7905992641448972\n",
       "* Algorithm: Bisection()\n",
       "* iterations: 10\n",
       "* function evaluations ≈ 13\n",
       "\n",
       "Trace:\n",
       "(a₀, b₀) = ( 0.64616113281249987, 1 )\n",
       "(a₁, b₁) = ( 0.64616113281249987, 0.82308056640624994 )\n",
       "(a₂, b₂) = ( 0.7346208496093749, 0.82308056640624994 )\n",
       "(a₃, b₃) = ( 0.77885070800781242, 0.82308056640624994 )\n",
       "(a₄, b₄) = ( 0.77885070800781242, 0.80096563720703118 )\n",
       "(a₅, b₅) = ( 0.78990817260742174, 0.80096563720703118 )\n",
       "(a₆, b₆) = ( 0.78990817260742174, 0.79543690490722641 )\n",
       "(a₇, b₇) = ( 0.78990817260742174, 0.79267253875732402 )\n",
       "(a₈, b₈) = ( 0.78990817260742174, 0.79129035568237283 )\n",
       "(a₉, b₉) = ( 0.79059926414489723, 0.79129035568237283 )\n",
       "(a₁₀, b₁₀) = ( 0.79059926414489723, 0.79094480991363503 )\n",
       "\n"
      ]
     },
     "metadata": {},
     "output_type": "display_data"
    },
    {
     "name": "stderr",
     "output_type": "stream",
     "text": [
      "\u001b[36m\u001b[1m[ \u001b[22m\u001b[39m\u001b[36m\u001b[1mInfo: \u001b[22m\u001b[39mTargeting ϕ=0.7905992641448972\n",
      "\u001b[32mProgress: 100%|█████████████████████████████████████████| Time: 0:00:45\u001b[39m\n",
      "\u001b[36m\u001b[1m[ \u001b[22m\u001b[39m\u001b[36m\u001b[1mInfo: \u001b[22m\u001b[39mϕ=1, PSIS\n",
      "\u001b[36m\u001b[1m[ \u001b[22m\u001b[39m\u001b[36m\u001b[1mInfo: \u001b[22m\u001b[39mFold: 3\n"
     ]
    },
    {
     "data": {
      "text/plain": [
       "Results of univariate zero finding:\n",
       "\n",
       "* Converged to: 0.6868374999999999\n",
       "* Algorithm: Bisection()\n",
       "* iterations: 10\n",
       "* function evaluations ≈ 13\n",
       "\n",
       "Trace:\n",
       "(a₀, b₀) = ( 0.010306249999999999, 1 )\n",
       "(a₁, b₁) = ( 0.103725, 1 )\n",
       "(a₂, b₂) = ( 0.33244999999999997, 1 )\n",
       "(a₃, b₃) = ( 0.58244999999999991, 1 )\n",
       "(a₄, b₄) = ( 0.58244999999999991, 0.79122499999999996 )\n",
       "(a₅, b₅) = ( 0.68683749999999988, 0.79122499999999996 )\n",
       "(a₆, b₆) = ( 0.68683749999999988, 0.73903124999999992 )\n",
       "(a₇, b₇) = ( 0.68683749999999988, 0.7129343749999999 )\n",
       "(a₈, b₈) = ( 0.68683749999999988, 0.69988593749999983 )\n",
       "(a₉, b₉) = ( 0.68683749999999988, 0.69336171874999986 )\n",
       "(a₁₀, b₁₀) = ( 0.68683749999999988, 0.69009960937499981 )\n",
       "\n"
      ]
     },
     "metadata": {},
     "output_type": "display_data"
    },
    {
     "name": "stderr",
     "output_type": "stream",
     "text": [
      "\u001b[36m\u001b[1m[ \u001b[22m\u001b[39m\u001b[36m\u001b[1mInfo: \u001b[22m\u001b[39mTargeting ϕ=0.6868374999999999\n",
      "\u001b[32mProgress: 100%|█████████████████████████████████████████| Time: 0:00:45\u001b[39m\n",
      "\u001b[36m\u001b[1m[ \u001b[22m\u001b[39m\u001b[36m\u001b[1mInfo: \u001b[22m\u001b[39mϕ=1, PSIS\n",
      "\u001b[36m\u001b[1m[ \u001b[22m\u001b[39m\u001b[36m\u001b[1mInfo: \u001b[22m\u001b[39mFold: 4\n"
     ]
    },
    {
     "data": {
      "text/plain": [
       "Results of univariate zero finding:\n",
       "\n",
       "* Converged to: 0.30635312499999995\n",
       "* Algorithm: Bisection()\n",
       "* iterations: 10\n",
       "* function evaluations ≈ 13\n",
       "\n",
       "Trace:\n",
       "(a₀, b₀) = ( 0.010306249999999999, 1 )\n",
       "(a₁, b₁) = ( 0.103725, 1 )\n",
       "(a₂, b₂) = ( 0.103725, 0.33244999999999997 )\n",
       "(a₃, b₃) = ( 0.18683749999999999, 0.33244999999999997 )\n",
       "(a₄, b₄) = ( 0.23903124999999997, 0.33244999999999997 )\n",
       "(a₅, b₅) = ( 0.28025624999999993, 0.33244999999999997 )\n",
       "(a₆, b₆) = ( 0.28025624999999993, 0.30635312499999995 )\n",
       "(a₇, b₇) = ( 0.29330468749999994, 0.30635312499999995 )\n",
       "(a₈, b₈) = ( 0.29982890624999992, 0.30635312499999995 )\n",
       "(a₉, b₉) = ( 0.3030910156249999, 0.30635312499999995 )\n",
       "(a₁₀, b₁₀) = ( 0.30472207031249993, 0.30635312499999995 )\n",
       "\n"
      ]
     },
     "metadata": {},
     "output_type": "display_data"
    },
    {
     "name": "stderr",
     "output_type": "stream",
     "text": [
      "\u001b[36m\u001b[1m[ \u001b[22m\u001b[39m\u001b[36m\u001b[1mInfo: \u001b[22m\u001b[39mTargeting ϕ=0.30635312499999995\n",
      "\u001b[32mProgress: 100%|█████████████████████████████████████████| Time: 0:00:45\u001b[39m\n"
     ]
    },
    {
     "data": {
      "text/plain": [
       "Results of univariate zero finding:\n",
       "\n",
       "* Converged to: 0.5486564025878904\n",
       "* Algorithm: Bisection()\n",
       "* iterations: 10\n",
       "* function evaluations ≈ 13\n",
       "\n",
       "Trace:\n",
       "(a₀, b₀) = ( 0.30645312499999994, 0.55645312499999988 )\n",
       "(a₁, b₁) = ( 0.41733984374999994, 0.55645312499999988 )\n",
       "(a₂, b₂) = ( 0.47278320312499994, 0.55645312499999988 )\n",
       "(a₃, b₃) = ( 0.50100976562499988, 0.55645312499999988 )\n",
       "(a₄, b₄) = ( 0.52873144531249983, 0.55645312499999988 )\n",
       "(a₅, b₅) = ( 0.5425922851562498, 0.55645312499999988 )\n",
       "(a₆, b₆) = ( 0.5425922851562498, 0.54952270507812484 )\n",
       "(a₇, b₇) = ( 0.54605749511718726, 0.54952270507812484 )\n",
       "(a₈, b₈) = ( 0.54779010009765605, 0.54952270507812484 )\n",
       "(a₉, b₉) = ( 0.54779010009765605, 0.54865640258789039 )\n",
       "(a₁₀, b₁₀) = ( 0.54822325134277317, 0.54865640258789039 )\n",
       "\n"
      ]
     },
     "metadata": {},
     "output_type": "display_data"
    },
    {
     "name": "stderr",
     "output_type": "stream",
     "text": [
      "\u001b[36m\u001b[1m[ \u001b[22m\u001b[39m\u001b[36m\u001b[1mInfo: \u001b[22m\u001b[39mTargeting ϕ=0.5486564025878904\n",
      "\u001b[32mProgress: 100%|█████████████████████████████████████████| Time: 0:00:46\u001b[39m\n"
     ]
    },
    {
     "data": {
      "text/plain": [
       "Results of univariate zero finding:\n",
       "\n",
       "* Converged to: 0.7439721385776994\n",
       "* Algorithm: Bisection()\n",
       "* iterations: 10\n",
       "* function evaluations ≈ 13\n",
       "\n",
       "Trace:\n",
       "(a₀, b₀) = ( 0.54875640258789038, 0.77437820129394519 )\n",
       "(a₁, b₁) = ( 0.66156730194091773, 0.77437820129394519 )\n",
       "(a₂, b₂) = ( 0.71797275161743146, 0.77437820129394519 )\n",
       "(a₃, b₃) = ( 0.71797275161743146, 0.74617547645568827 )\n",
       "(a₄, b₄) = ( 0.73207411403655986, 0.74617547645568827 )\n",
       "(a₅, b₅) = ( 0.73912479524612407, 0.74617547645568827 )\n",
       "(a₆, b₆) = ( 0.74265013585090611, 0.74617547645568827 )\n",
       "(a₇, b₇) = ( 0.74265013585090611, 0.74441280615329719 )\n",
       "(a₈, b₈) = ( 0.7435314710021016, 0.74441280615329719 )\n",
       "(a₉, b₉) = ( 0.7435314710021016, 0.74397213857769939 )\n",
       "(a₁₀, b₁₀) = ( 0.74375180478990044, 0.74397213857769939 )\n",
       "\n"
      ]
     },
     "metadata": {},
     "output_type": "display_data"
    },
    {
     "name": "stderr",
     "output_type": "stream",
     "text": [
      "\u001b[36m\u001b[1m[ \u001b[22m\u001b[39m\u001b[36m\u001b[1mInfo: \u001b[22m\u001b[39mTargeting ϕ=0.7439721385776994\n",
      "\u001b[32mProgress: 100%|█████████████████████████████████████████| Time: 0:00:44\u001b[39m\n"
     ]
    },
    {
     "data": {
      "text/plain": [
       "Results of univariate zero finding:\n",
       "\n",
       "* Converged to: 0.8894061731646795\n",
       "* Algorithm: Bisection()\n",
       "* iterations: 10\n",
       "* function evaluations ≈ 13\n",
       "\n",
       "Trace:\n",
       "(a₀, b₀) = ( 0.87203606928884969, 1 )\n",
       "(a₁, b₁) = ( 0.87203606928884969, 0.93601803464442479 )\n",
       "(a₂, b₂) = ( 0.87203606928884969, 0.90402705196663724 )\n",
       "(a₃, b₃) = ( 0.88803156062774347, 0.90402705196663724 )\n",
       "(a₄, b₄) = ( 0.88803156062774347, 0.89602930629719035 )\n",
       "(a₅, b₅) = ( 0.88803156062774347, 0.89203043346246691 )\n",
       "(a₆, b₆) = ( 0.88803156062774347, 0.89003099704510513 )\n",
       "(a₇, b₇) = ( 0.8890312788364243, 0.89003099704510513 )\n",
       "(a₈, b₈) = ( 0.8890312788364243, 0.88953113794076466 )\n",
       "(a₉, b₉) = ( 0.88928120838859448, 0.88953113794076466 )\n",
       "(a₁₀, b₁₀) = ( 0.88928120838859448, 0.88940617316467951 )\n",
       "\n"
      ]
     },
     "metadata": {},
     "output_type": "display_data"
    },
    {
     "name": "stderr",
     "output_type": "stream",
     "text": [
      "\u001b[36m\u001b[1m[ \u001b[22m\u001b[39m\u001b[36m\u001b[1mInfo: \u001b[22m\u001b[39mTargeting ϕ=0.8894061731646795\n",
      "\u001b[32mProgress: 100%|█████████████████████████████████████████| Time: 0:00:45\u001b[39m\n",
      "\u001b[36m\u001b[1m[ \u001b[22m\u001b[39m\u001b[36m\u001b[1mInfo: \u001b[22m\u001b[39mϕ=1, PSIS\n",
      "\u001b[36m\u001b[1m[ \u001b[22m\u001b[39m\u001b[36m\u001b[1mInfo: \u001b[22m\u001b[39mFold: 5\n"
     ]
    },
    {
     "data": {
      "text/plain": [
       "Results of univariate zero finding:\n",
       "\n",
       "* Converged to: 0.6248574218749997\n",
       "* Algorithm: Bisection()\n",
       "* iterations: 10\n",
       "* function evaluations ≈ 13\n",
       "\n",
       "Trace:\n",
       "(a₀, b₀) = ( 0.010306249999999999, 1 )\n",
       "(a₁, b₁) = ( 0.103725, 1 )\n",
       "(a₂, b₂) = ( 0.33244999999999997, 1 )\n",
       "(a₃, b₃) = ( 0.58244999999999991, 1 )\n",
       "(a₄, b₄) = ( 0.58244999999999991, 0.79122499999999996 )\n",
       "(a₅, b₅) = ( 0.58244999999999991, 0.68683749999999988 )\n",
       "(a₆, b₆) = ( 0.58244999999999991, 0.63464374999999984 )\n",
       "(a₇, b₇) = ( 0.60854687499999982, 0.63464374999999984 )\n",
       "(a₈, b₈) = ( 0.62159531249999977, 0.63464374999999984 )\n",
       "(a₉, b₉) = ( 0.62159531249999977, 0.62811953124999975 )\n",
       "(a₁₀, b₁₀) = ( 0.62159531249999977, 0.62485742187499971 )\n",
       "\n"
      ]
     },
     "metadata": {},
     "output_type": "display_data"
    },
    {
     "name": "stderr",
     "output_type": "stream",
     "text": [
      "\u001b[36m\u001b[1m[ \u001b[22m\u001b[39m\u001b[36m\u001b[1mInfo: \u001b[22m\u001b[39mTargeting ϕ=0.6248574218749997\n",
      "\u001b[32mProgress: 100%|█████████████████████████████████████████| Time: 0:00:44\u001b[39m\n",
      "\u001b[36m\u001b[1m[ \u001b[22m\u001b[39m\u001b[36m\u001b[1mInfo: \u001b[22m\u001b[39mϕ=1, PSIS\n",
      "\u001b[36m\u001b[1m[ \u001b[22m\u001b[39m\u001b[36m\u001b[1mInfo: \u001b[22m\u001b[39mFold: 6\n"
     ]
    },
    {
     "data": {
      "text/plain": [
       "Results of univariate zero finding:\n",
       "\n",
       "* Converged to: 0.3128773437499999\n",
       "* Algorithm: Bisection()\n",
       "* iterations: 10\n",
       "* function evaluations ≈ 13\n",
       "\n",
       "Trace:\n",
       "(a₀, b₀) = ( 0.010306249999999999, 1 )\n",
       "(a₁, b₁) = ( 0.103725, 1 )\n",
       "(a₂, b₂) = ( 0.103725, 0.33244999999999997 )\n",
       "(a₃, b₃) = ( 0.18683749999999999, 0.33244999999999997 )\n",
       "(a₄, b₄) = ( 0.23903124999999997, 0.33244999999999997 )\n",
       "(a₅, b₅) = ( 0.28025624999999993, 0.33244999999999997 )\n",
       "(a₆, b₆) = ( 0.30635312499999995, 0.33244999999999997 )\n",
       "(a₇, b₇) = ( 0.30635312499999995, 0.31940156249999996 )\n",
       "(a₈, b₈) = ( 0.30635312499999995, 0.31287734374999993 )\n",
       "(a₉, b₉) = ( 0.30961523437499994, 0.31287734374999993 )\n",
       "(a₁₀, b₁₀) = ( 0.3112462890624999, 0.31287734374999993 )\n",
       "\n"
      ]
     },
     "metadata": {},
     "output_type": "display_data"
    },
    {
     "name": "stderr",
     "output_type": "stream",
     "text": [
      "\u001b[36m\u001b[1m[ \u001b[22m\u001b[39m\u001b[36m\u001b[1mInfo: \u001b[22m\u001b[39mTargeting ϕ=0.3128773437499999\n",
      "\u001b[32mProgress: 100%|█████████████████████████████████████████| Time: 0:00:43\u001b[39m\n"
     ]
    },
    {
     "data": {
      "text/plain": [
       "Results of univariate zero finding:\n",
       "\n",
       "* Converged to: 0.6124838165283201\n",
       "* Algorithm: Bisection()\n",
       "* iterations: 10\n",
       "* function evaluations ≈ 13\n",
       "\n",
       "Trace:\n",
       "(a₀, b₀) = ( 0.56297734374999986, 1 )\n",
       "(a₁, b₁) = ( 0.56297734374999986, 0.78148867187499993 )\n",
       "(a₂, b₂) = ( 0.56297734374999986, 0.67223300781249984 )\n",
       "(a₃, b₃) = ( 0.56297734374999986, 0.61760517578124985 )\n",
       "(a₄, b₄) = ( 0.5902912597656248, 0.61760517578124985 )\n",
       "(a₅, b₅) = ( 0.60394821777343732, 0.61760517578124985 )\n",
       "(a₆, b₆) = ( 0.61077669677734359, 0.61760517578124985 )\n",
       "(a₇, b₇) = ( 0.61077669677734359, 0.61419093627929666 )\n",
       "(a₈, b₈) = ( 0.61077669677734359, 0.61248381652832007 )\n",
       "(a₉, b₉) = ( 0.61163025665283177, 0.61248381652832007 )\n",
       "(a₁₀, b₁₀) = ( 0.61205703659057586, 0.61248381652832007 )\n",
       "\n"
      ]
     },
     "metadata": {},
     "output_type": "display_data"
    },
    {
     "name": "stderr",
     "output_type": "stream",
     "text": [
      "\u001b[36m\u001b[1m[ \u001b[22m\u001b[39m\u001b[36m\u001b[1mInfo: \u001b[22m\u001b[39mTargeting ϕ=0.6124838165283201\n",
      "\u001b[32mProgress: 100%|█████████████████████████████████████████| Time: 0:00:48\u001b[39m\n"
     ]
    },
    {
     "data": {
      "text/plain": [
       "Results of univariate zero finding:\n",
       "\n",
       "* Converged to: 0.8558539395481345\n",
       "* Algorithm: Bisection()\n",
       "* iterations: 10\n",
       "* function evaluations ≈ 13\n",
       "\n",
       "Trace:\n",
       "(a₀, b₀) = ( 0.80629190826415997, 1 )\n",
       "(a₁, b₁) = ( 0.80629190826415997, 0.90314595413207999 )\n",
       "(a₂, b₂) = ( 0.85471893119811992, 0.90314595413207999 )\n",
       "(a₃, b₃) = ( 0.85471893119811992, 0.87893244266509996 )\n",
       "(a₄, b₄) = ( 0.85471893119811992, 0.86682568693160988 )\n",
       "(a₅, b₅) = ( 0.85471893119811992, 0.8607723090648649 )\n",
       "(a₆, b₆) = ( 0.85471893119811992, 0.85774562013149236 )\n",
       "(a₇, b₇) = ( 0.85471893119811992, 0.85623227566480609 )\n",
       "(a₈, b₈) = ( 0.85547560343146301, 0.85623227566480609 )\n",
       "(a₉, b₉) = ( 0.85547560343146301, 0.85585393954813449 )\n",
       "(a₁₀, b₁₀) = ( 0.85566477148979869, 0.85585393954813449 )\n",
       "\n"
      ]
     },
     "metadata": {},
     "output_type": "display_data"
    },
    {
     "name": "stderr",
     "output_type": "stream",
     "text": [
      "\u001b[36m\u001b[1m[ \u001b[22m\u001b[39m\u001b[36m\u001b[1mInfo: \u001b[22m\u001b[39mTargeting ϕ=0.8558539395481345\n",
      "\u001b[32mProgress: 100%|█████████████████████████████████████████| Time: 0:00:46\u001b[39m\n",
      "\u001b[36m\u001b[1m[ \u001b[22m\u001b[39m\u001b[36m\u001b[1mInfo: \u001b[22m\u001b[39mϕ=1, PSIS\n",
      "\u001b[36m\u001b[1m[ \u001b[22m\u001b[39m\u001b[36m\u001b[1mInfo: \u001b[22m\u001b[39mFold: 7\n"
     ]
    },
    {
     "data": {
      "text/plain": [
       "Results of univariate zero finding:\n",
       "\n",
       "* Converged to: 0.5824499999999999\n",
       "* Algorithm: Bisection()\n",
       "* iterations: 10\n",
       "* function evaluations ≈ 13\n",
       "\n",
       "Trace:\n",
       "(a₀, b₀) = ( 0.010306249999999999, 1 )\n",
       "(a₁, b₁) = ( 0.103725, 1 )\n",
       "(a₂, b₂) = ( 0.33244999999999997, 1 )\n",
       "(a₃, b₃) = ( 0.33244999999999997, 0.58244999999999991 )\n",
       "(a₄, b₄) = ( 0.43683749999999993, 0.58244999999999991 )\n",
       "(a₅, b₅) = ( 0.48903124999999992, 0.58244999999999991 )\n",
       "(a₆, b₆) = ( 0.53025624999999987, 0.58244999999999991 )\n",
       "(a₇, b₇) = ( 0.55635312499999989, 0.58244999999999991 )\n",
       "(a₈, b₈) = ( 0.56940156249999985, 0.58244999999999991 )\n",
       "(a₉, b₉) = ( 0.57592578124999982, 0.58244999999999991 )\n",
       "(a₁₀, b₁₀) = ( 0.57918789062499987, 0.58244999999999991 )\n",
       "\n"
      ]
     },
     "metadata": {},
     "output_type": "display_data"
    },
    {
     "name": "stderr",
     "output_type": "stream",
     "text": [
      "\u001b[36m\u001b[1m[ \u001b[22m\u001b[39m\u001b[36m\u001b[1mInfo: \u001b[22m\u001b[39mTargeting ϕ=0.5824499999999999\n",
      "\u001b[32mProgress: 100%|█████████████████████████████████████████| Time: 0:00:44\u001b[39m\n",
      "\u001b[36m\u001b[1m[ \u001b[22m\u001b[39m\u001b[36m\u001b[1mInfo: \u001b[22m\u001b[39mϕ=1, PSIS\n",
      "\u001b[36m\u001b[1m[ \u001b[22m\u001b[39m\u001b[36m\u001b[1mInfo: \u001b[22m\u001b[39mFold: 8\n"
     ]
    },
    {
     "data": {
      "text/plain": [
       "Results of univariate zero finding:\n",
       "\n",
       "* Converged to: 0.7357691406249999\n",
       "* Algorithm: Bisection()\n",
       "* iterations: 10\n",
       "* function evaluations ≈ 13\n",
       "\n",
       "Trace:\n",
       "(a₀, b₀) = ( 0.010306249999999999, 1 )\n",
       "(a₁, b₁) = ( 0.103725, 1 )\n",
       "(a₂, b₂) = ( 0.33244999999999997, 1 )\n",
       "(a₃, b₃) = ( 0.58244999999999991, 1 )\n",
       "(a₄, b₄) = ( 0.58244999999999991, 0.79122499999999996 )\n",
       "(a₅, b₅) = ( 0.68683749999999988, 0.79122499999999996 )\n",
       "(a₆, b₆) = ( 0.68683749999999988, 0.73903124999999992 )\n",
       "(a₇, b₇) = ( 0.7129343749999999, 0.73903124999999992 )\n",
       "(a₈, b₈) = ( 0.72598281249999985, 0.73903124999999992 )\n",
       "(a₉, b₉) = ( 0.73250703124999983, 0.73903124999999992 )\n",
       "(a₁₀, b₁₀) = ( 0.73576914062499987, 0.73903124999999992 )\n",
       "\n"
      ]
     },
     "metadata": {},
     "output_type": "display_data"
    },
    {
     "name": "stderr",
     "output_type": "stream",
     "text": [
      "\u001b[36m\u001b[1m[ \u001b[22m\u001b[39m\u001b[36m\u001b[1mInfo: \u001b[22m\u001b[39mTargeting ϕ=0.7357691406249999\n",
      "\u001b[32mProgress: 100%|█████████████████████████████████████████| Time: 0:00:46\u001b[39m\n",
      "\u001b[36m\u001b[1m[ \u001b[22m\u001b[39m\u001b[36m\u001b[1mInfo: \u001b[22m\u001b[39mϕ=1, PSIS\n",
      "\u001b[36m\u001b[1m[ \u001b[22m\u001b[39m\u001b[36m\u001b[1mInfo: \u001b[22m\u001b[39mFold: 9\n"
     ]
    },
    {
     "data": {
      "text/plain": [
       "Results of univariate zero finding:\n",
       "\n",
       "* Converged to: 0.2835183593749999\n",
       "* Algorithm: Bisection()\n",
       "* iterations: 10\n",
       "* function evaluations ≈ 13\n",
       "\n",
       "Trace:\n",
       "(a₀, b₀) = ( 0.010306249999999999, 1 )\n",
       "(a₁, b₁) = ( 0.103725, 1 )\n",
       "(a₂, b₂) = ( 0.103725, 0.33244999999999997 )\n",
       "(a₃, b₃) = ( 0.18683749999999999, 0.33244999999999997 )\n",
       "(a₄, b₄) = ( 0.23903124999999997, 0.33244999999999997 )\n",
       "(a₅, b₅) = ( 0.28025624999999993, 0.33244999999999997 )\n",
       "(a₆, b₆) = ( 0.28025624999999993, 0.30635312499999995 )\n",
       "(a₇, b₇) = ( 0.28025624999999993, 0.29330468749999994 )\n",
       "(a₈, b₈) = ( 0.28025624999999993, 0.28678046874999991 )\n",
       "(a₉, b₉) = ( 0.28025624999999993, 0.28351835937499992 )\n",
       "(a₁₀, b₁₀) = ( 0.2818873046874999, 0.28351835937499992 )\n",
       "\n"
      ]
     },
     "metadata": {},
     "output_type": "display_data"
    },
    {
     "name": "stderr",
     "output_type": "stream",
     "text": [
      "\u001b[36m\u001b[1m[ \u001b[22m\u001b[39m\u001b[36m\u001b[1mInfo: \u001b[22m\u001b[39mTargeting ϕ=0.2835183593749999\n",
      "\u001b[32mProgress: 100%|█████████████████████████████████████████| Time: 0:00:49\u001b[39m\n"
     ]
    },
    {
     "data": {
      "text/plain": [
       "Results of univariate zero finding:\n",
       "\n",
       "* Converged to: 0.5308856544494628\n",
       "* Algorithm: Bisection()\n",
       "* iterations: 10\n",
       "* function evaluations ≈ 13\n",
       "\n",
       "Trace:\n",
       "(a₀, b₀) = ( 0.28361835937499991, 0.53361835937499991 )\n",
       "(a₁, b₁) = ( 0.40021376953124993, 0.53361835937499991 )\n",
       "(a₂, b₂) = ( 0.45851147460937491, 0.53361835937499991 )\n",
       "(a₃, b₃) = ( 0.48766032714843743, 0.53361835937499991 )\n",
       "(a₄, b₄) = ( 0.50446950683593739, 0.53361835937499991 )\n",
       "(a₅, b₅) = ( 0.51904393310546859, 0.53361835937499991 )\n",
       "(a₆, b₆) = ( 0.52633114624023425, 0.53361835937499991 )\n",
       "(a₇, b₇) = ( 0.52997475280761708, 0.53361835937499991 )\n",
       "(a₈, b₈) = ( 0.52997475280761708, 0.53179655609130849 )\n",
       "(a₉, b₉) = ( 0.53088565444946278, 0.53179655609130849 )\n",
       "(a₁₀, b₁₀) = ( 0.53088565444946278, 0.53134110527038558 )\n",
       "\n"
      ]
     },
     "metadata": {},
     "output_type": "display_data"
    },
    {
     "name": "stderr",
     "output_type": "stream",
     "text": [
      "\u001b[36m\u001b[1m[ \u001b[22m\u001b[39m\u001b[36m\u001b[1mInfo: \u001b[22m\u001b[39mTargeting ϕ=0.5308856544494628\n",
      "\u001b[32mProgress: 100%|█████████████████████████████████████████| Time: 0:00:46\u001b[39m\n"
     ]
    },
    {
     "data": {
      "text/plain": [
       "Results of univariate zero finding:\n",
       "\n",
       "* Converged to: 0.7215227323293685\n",
       "* Algorithm: Bisection()\n",
       "* iterations: 10\n",
       "* function evaluations ≈ 13\n",
       "\n",
       "Trace:\n",
       "(a₀, b₀) = ( 0.53098565444946277, 0.76549282722473133 )\n",
       "(a₁, b₁) = ( 0.64823924083709705, 0.76549282722473133 )\n",
       "(a₂, b₂) = ( 0.70686603403091419, 0.76549282722473133 )\n",
       "(a₃, b₃) = ( 0.70686603403091419, 0.73617943062782276 )\n",
       "(a₄, b₄) = ( 0.70686603403091419, 0.72152273232936848 )\n",
       "(a₅, b₅) = ( 0.71419438318014128, 0.72152273232936848 )\n",
       "(a₆, b₆) = ( 0.71785855775475482, 0.72152273232936848 )\n",
       "(a₇, b₇) = ( 0.71969064504206159, 0.72152273232936848 )\n",
       "(a₈, b₈) = ( 0.72060668868571498, 0.72152273232936848 )\n",
       "(a₉, b₉) = ( 0.72106471050754173, 0.72152273232936848 )\n",
       "(a₁₀, b₁₀) = ( 0.72129372141845505, 0.72152273232936848 )\n",
       "\n"
      ]
     },
     "metadata": {},
     "output_type": "display_data"
    },
    {
     "name": "stderr",
     "output_type": "stream",
     "text": [
      "\u001b[36m\u001b[1m[ \u001b[22m\u001b[39m\u001b[36m\u001b[1mInfo: \u001b[22m\u001b[39mTargeting ϕ=0.7215227323293685\n",
      "\u001b[32mProgress: 100%|█████████████████████████████████████████| Time: 0:00:44\u001b[39m\n"
     ]
    },
    {
     "data": {
      "text/plain": [
       "Results of univariate zero finding:\n",
       "\n",
       "* Converged to: 0.8748117853883536\n",
       "* Algorithm: Bisection()\n",
       "* iterations: 10\n",
       "* function evaluations ≈ 13\n",
       "\n",
       "Trace:\n",
       "(a₀, b₀) = ( 0.86081136616468423, 1 )\n",
       "(a₁, b₁) = ( 0.86081136616468423, 0.93040568308234206 )\n",
       "(a₂, b₂) = ( 0.86081136616468423, 0.89560852462351315 )\n",
       "(a₃, b₃) = ( 0.86081136616468423, 0.87820994539409869 )\n",
       "(a₄, b₄) = ( 0.86951065577939146, 0.87820994539409869 )\n",
       "(a₅, b₅) = ( 0.87386030058674502, 0.87820994539409869 )\n",
       "(a₆, b₆) = ( 0.87386030058674502, 0.87603512299042186 )\n",
       "(a₇, b₇) = ( 0.87386030058674502, 0.87494771178858344 )\n",
       "(a₈, b₈) = ( 0.87440400618766423, 0.87494771178858344 )\n",
       "(a₉, b₉) = ( 0.87467585898812383, 0.87494771178858344 )\n",
       "(a₁₀, b₁₀) = ( 0.87467585898812383, 0.87481178538835358 )\n",
       "\n"
      ]
     },
     "metadata": {},
     "output_type": "display_data"
    },
    {
     "name": "stderr",
     "output_type": "stream",
     "text": [
      "\u001b[36m\u001b[1m[ \u001b[22m\u001b[39m\u001b[36m\u001b[1mInfo: \u001b[22m\u001b[39mTargeting ϕ=0.8748117853883536\n",
      "\u001b[32mProgress: 100%|█████████████████████████████████████████| Time: 0:00:44\u001b[39m\n"
     ]
    },
    {
     "data": {
      "text/plain": [
       "Results of univariate zero finding:\n",
       "\n",
       "* Converged to: 0.9888837621780664\n",
       "* Algorithm: Bisection()\n",
       "* iterations: 10\n",
       "* function evaluations ≈ 13\n",
       "\n",
       "Trace:\n",
       "(a₀, b₀) = ( 0.93745589269417673, 1 )\n",
       "(a₁, b₁) = ( 0.96872794634708836, 1 )\n",
       "(a₂, b₂) = ( 0.98436397317354418, 1 )\n",
       "(a₃, b₃) = ( 0.98436397317354418, 0.99218198658677204 )\n",
       "(a₄, b₄) = ( 0.98827297988015805, 0.99218198658677204 )\n",
       "(a₅, b₅) = ( 0.98827297988015805, 0.99022748323346499 )\n",
       "(a₆, b₆) = ( 0.98827297988015805, 0.98925023155681147 )\n",
       "(a₇, b₇) = ( 0.9887616057184847, 0.98925023155681147 )\n",
       "(a₈, b₈) = ( 0.9887616057184847, 0.98900591863764808 )\n",
       "(a₉, b₉) = ( 0.98888376217806639, 0.98900591863764808 )\n",
       "(a₁₀, b₁₀) = ( 0.98888376217806639, 0.98894484040785724 )\n",
       "\n"
      ]
     },
     "metadata": {},
     "output_type": "display_data"
    },
    {
     "name": "stderr",
     "output_type": "stream",
     "text": [
      "\u001b[36m\u001b[1m[ \u001b[22m\u001b[39m\u001b[36m\u001b[1mInfo: \u001b[22m\u001b[39mTargeting ϕ=0.9888837621780664\n",
      "\u001b[32mProgress: 100%|█████████████████████████████████████████| Time: 0:00:44\u001b[39m\n",
      "\u001b[36m\u001b[1m[ \u001b[22m\u001b[39m\u001b[36m\u001b[1mInfo: \u001b[22m\u001b[39mϕ=1, PSIS\n",
      "\u001b[36m\u001b[1m[ \u001b[22m\u001b[39m\u001b[36m\u001b[1mInfo: \u001b[22m\u001b[39mFold: 10\n"
     ]
    },
    {
     "data": {
      "text/plain": [
       "Results of univariate zero finding:\n",
       "\n",
       "* Converged to: 0.31777050781249994\n",
       "* Algorithm: Bisection()\n",
       "* iterations: 10\n",
       "* function evaluations ≈ 13\n",
       "\n",
       "Trace:\n",
       "(a₀, b₀) = ( 0.010306249999999999, 1 )\n",
       "(a₁, b₁) = ( 0.103725, 1 )\n",
       "(a₂, b₂) = ( 0.103725, 0.33244999999999997 )\n",
       "(a₃, b₃) = ( 0.18683749999999999, 0.33244999999999997 )\n",
       "(a₄, b₄) = ( 0.23903124999999997, 0.33244999999999997 )\n",
       "(a₅, b₅) = ( 0.28025624999999993, 0.33244999999999997 )\n",
       "(a₆, b₆) = ( 0.30635312499999995, 0.33244999999999997 )\n",
       "(a₇, b₇) = ( 0.30635312499999995, 0.31940156249999996 )\n",
       "(a₈, b₈) = ( 0.31287734374999993, 0.31940156249999996 )\n",
       "(a₉, b₉) = ( 0.31613945312499991, 0.31940156249999996 )\n",
       "(a₁₀, b₁₀) = ( 0.31613945312499991, 0.31777050781249994 )\n",
       "\n"
      ]
     },
     "metadata": {},
     "output_type": "display_data"
    },
    {
     "name": "stderr",
     "output_type": "stream",
     "text": [
      "\u001b[36m\u001b[1m[ \u001b[22m\u001b[39m\u001b[36m\u001b[1mInfo: \u001b[22m\u001b[39mTargeting ϕ=0.31777050781249994\n",
      "\u001b[32mProgress: 100%|█████████████████████████████████████████| Time: 0:00:46\u001b[39m\n"
     ]
    },
    {
     "data": {
      "text/plain": [
       "Results of univariate zero finding:\n",
       "\n",
       "* Converged to: 0.583484561729431\n",
       "* Algorithm: Bisection()\n",
       "* iterations: 10\n",
       "* function evaluations ≈ 13\n",
       "\n",
       "Trace:\n",
       "(a₀, b₀) = ( 0.56787050781249993, 1 )\n",
       "(a₁, b₁) = ( 0.56787050781249993, 0.78393525390624996 )\n",
       "(a₂, b₂) = ( 0.56787050781249993, 0.67590288085937489 )\n",
       "(a₃, b₃) = ( 0.56787050781249993, 0.62188669433593735 )\n",
       "(a₄, b₄) = ( 0.56787050781249993, 0.59487860107421864 )\n",
       "(a₅, b₅) = ( 0.58137455444335928, 0.59487860107421864 )\n",
       "(a₆, b₆) = ( 0.58137455444335928, 0.58812657775878896 )\n",
       "(a₇, b₇) = ( 0.58137455444335928, 0.58475056610107412 )\n",
       "(a₈, b₈) = ( 0.5830625602722167, 0.58475056610107412 )\n",
       "(a₉, b₉) = ( 0.5830625602722167, 0.58390656318664536 )\n",
       "(a₁₀, b₁₀) = ( 0.5830625602722167, 0.58348456172943097 )\n",
       "\n"
      ]
     },
     "metadata": {},
     "output_type": "display_data"
    },
    {
     "name": "stderr",
     "output_type": "stream",
     "text": [
      "\u001b[36m\u001b[1m[ \u001b[22m\u001b[39m\u001b[36m\u001b[1mInfo: \u001b[22m\u001b[39mTargeting ϕ=0.583484561729431\n",
      "\u001b[32mProgress: 100%|█████████████████████████████████████████| Time: 0:00:46\u001b[39m\n"
     ]
    },
    {
     "data": {
      "text/plain": [
       "Results of univariate zero finding:\n",
       "\n",
       "* Converged to: 0.790165658058971\n",
       "* Algorithm: Bisection()\n",
       "* iterations: 10\n",
       "* function evaluations ≈ 13\n",
       "\n",
       "Trace:\n",
       "(a₀, b₀) = ( 0.58358456172943096, 0.79179228086471543 )\n",
       "(a₁, b₁) = ( 0.68768842129707319, 0.79179228086471543 )\n",
       "(a₂, b₂) = ( 0.73974035108089431, 0.79179228086471543 )\n",
       "(a₃, b₃) = ( 0.76576631597280487, 0.79179228086471543 )\n",
       "(a₄, b₄) = ( 0.77877929841876015, 0.79179228086471543 )\n",
       "(a₅, b₅) = ( 0.78528578964173779, 0.79179228086471543 )\n",
       "(a₆, b₆) = ( 0.78853903525322655, 0.79179228086471543 )\n",
       "(a₇, b₇) = ( 0.79016565805897099, 0.79179228086471543 )\n",
       "(a₈, b₈) = ( 0.79016565805897099, 0.79097896946184321 )\n",
       "(a₉, b₉) = ( 0.79016565805897099, 0.79057231376040704 )\n",
       "(a₁₀, b₁₀) = ( 0.79016565805897099, 0.79036898590968896 )\n",
       "\n"
      ]
     },
     "metadata": {},
     "output_type": "display_data"
    },
    {
     "name": "stderr",
     "output_type": "stream",
     "text": [
      "\u001b[36m\u001b[1m[ \u001b[22m\u001b[39m\u001b[36m\u001b[1mInfo: \u001b[22m\u001b[39mTargeting ϕ=0.790165658058971\n",
      "\u001b[32mProgress: 100%|█████████████████████████████████████████| Time: 0:00:46\u001b[39m\n"
     ]
    },
    {
     "data": {
      "text/plain": [
       "Results of univariate zero finding:\n",
       "\n",
       "* Converged to: 0.9523796538073346\n",
       "* Algorithm: Bisection()\n",
       "* iterations: 10\n",
       "* function evaluations ≈ 13\n",
       "\n",
       "Trace:\n",
       "(a₀, b₀) = ( 0.89513282902948543, 1 )\n",
       "(a₁, b₁) = ( 0.94756641451474266, 1 )\n",
       "(a₂, b₂) = ( 0.94756641451474266, 0.97378320725737133 )\n",
       "(a₃, b₃) = ( 0.94756641451474266, 0.960674810886057 )\n",
       "(a₄, b₄) = ( 0.94756641451474266, 0.95412061270039983 )\n",
       "(a₅, b₅) = ( 0.95084351360757124, 0.95412061270039983 )\n",
       "(a₆, b₆) = ( 0.95084351360757124, 0.95248206315398554 )\n",
       "(a₇, b₇) = ( 0.95166278838077834, 0.95248206315398554 )\n",
       "(a₈, b₈) = ( 0.95207242576738194, 0.95248206315398554 )\n",
       "(a₉, b₉) = ( 0.95227724446068374, 0.95248206315398554 )\n",
       "(a₁₀, b₁₀) = ( 0.95227724446068374, 0.95237965380733458 )\n",
       "\n"
      ]
     },
     "metadata": {},
     "output_type": "display_data"
    },
    {
     "name": "stderr",
     "output_type": "stream",
     "text": [
      "\u001b[36m\u001b[1m[ \u001b[22m\u001b[39m\u001b[36m\u001b[1mInfo: \u001b[22m\u001b[39mTargeting ϕ=0.9523796538073346\n",
      "\u001b[32mProgress: 100%|█████████████████████████████████████████| Time: 0:00:46\u001b[39m\n",
      "\u001b[36m\u001b[1m[ \u001b[22m\u001b[39m\u001b[36m\u001b[1mInfo: \u001b[22m\u001b[39mϕ=1, PSIS\n"
     ]
    }
   ],
   "source": [
    "Random.seed!(1)\n",
    "RUN_aSMC && run(chain, SMCS_M5; save_bool=true);"
   ]
  },
  {
   "cell_type": "code",
   "execution_count": 47,
   "id": "90d29055-8e5c-463c-a5cd-12025e65ad1e",
   "metadata": {
    "scrolled": true
   },
   "outputs": [
    {
     "name": "stderr",
     "output_type": "stream",
     "text": [
      "\u001b[36m\u001b[1m[ \u001b[22m\u001b[39m\u001b[36m\u001b[1mInfo: \u001b[22m\u001b[39mFold: 1\n",
      "\u001b[36m\u001b[1m[ \u001b[22m\u001b[39m\u001b[36m\u001b[1mInfo: \u001b[22m\u001b[39mFold: 2\n",
      "\u001b[36m\u001b[1m[ \u001b[22m\u001b[39m\u001b[36m\u001b[1mInfo: \u001b[22m\u001b[39mFold: 3\n",
      "\u001b[36m\u001b[1m[ \u001b[22m\u001b[39m\u001b[36m\u001b[1mInfo: \u001b[22m\u001b[39mFold: 4\n",
      "\u001b[36m\u001b[1m[ \u001b[22m\u001b[39m\u001b[36m\u001b[1mInfo: \u001b[22m\u001b[39mFold: 5\n",
      "\u001b[36m\u001b[1m[ \u001b[22m\u001b[39m\u001b[36m\u001b[1mInfo: \u001b[22m\u001b[39mFold: 6\n",
      "\u001b[36m\u001b[1m[ \u001b[22m\u001b[39m\u001b[36m\u001b[1mInfo: \u001b[22m\u001b[39mFold: 7\n",
      "\u001b[36m\u001b[1m[ \u001b[22m\u001b[39m\u001b[36m\u001b[1mInfo: \u001b[22m\u001b[39mFold: 8\n",
      "\u001b[36m\u001b[1m[ \u001b[22m\u001b[39m\u001b[36m\u001b[1mInfo: \u001b[22m\u001b[39mFold: 9\n",
      "\u001b[36m\u001b[1m[ \u001b[22m\u001b[39m\u001b[36m\u001b[1mInfo: \u001b[22m\u001b[39mFold: 10\n"
     ]
    }
   ],
   "source": [
    "Random.seed!(1)\n",
    "RUN_aSMC && run(chain, PSIS_M5; save_bool=true);"
   ]
  },
  {
   "cell_type": "markdown",
   "id": "041771f3-6528-4f28-900a-9decc29efb15",
   "metadata": {},
   "source": [
    "## Sensitivity analyses"
   ]
  },
  {
   "cell_type": "code",
   "execution_count": 34,
   "id": "8700902d-63fd-43c4-94df-0275c890746f",
   "metadata": {
    "scrolled": true
   },
   "outputs": [
    {
     "name": "stderr",
     "output_type": "stream",
     "text": [
      "\u001b[36m\u001b[1m[ \u001b[22m\u001b[39m\u001b[36m\u001b[1mInfo: \u001b[22m\u001b[39mFold: 1\n"
     ]
    },
    {
     "data": {
      "text/plain": [
       "Results of univariate zero finding:\n",
       "\n",
       "* Converged to: 0.2769941406249999\n",
       "* Algorithm: Bisection()\n",
       "* iterations: 10\n",
       "* function evaluations ≈ 13\n",
       "\n",
       "Trace:\n",
       "(a₀, b₀) = ( 0.010306249999999999, 1 )\n",
       "(a₁, b₁) = ( 0.103725, 1 )\n",
       "(a₂, b₂) = ( 0.103725, 0.33244999999999997 )\n",
       "(a₃, b₃) = ( 0.18683749999999999, 0.33244999999999997 )\n",
       "(a₄, b₄) = ( 0.23903124999999997, 0.33244999999999997 )\n",
       "(a₅, b₅) = ( 0.23903124999999997, 0.28025624999999993 )\n",
       "(a₆, b₆) = ( 0.25415937499999991, 0.28025624999999993 )\n",
       "(a₇, b₇) = ( 0.26720781249999992, 0.28025624999999993 )\n",
       "(a₈, b₈) = ( 0.2737320312499999, 0.28025624999999993 )\n",
       "(a₉, b₉) = ( 0.2737320312499999, 0.27699414062499988 )\n",
       "(a₁₀, b₁₀) = ( 0.27536308593749986, 0.27699414062499988 )\n",
       "\n"
      ]
     },
     "metadata": {},
     "output_type": "display_data"
    },
    {
     "name": "stderr",
     "output_type": "stream",
     "text": [
      "\u001b[36m\u001b[1m[ \u001b[22m\u001b[39m\u001b[36m\u001b[1mInfo: \u001b[22m\u001b[39mTargeting ϕ=0.2769941406249999\n",
      "\u001b[32mProgress: 100%|█████████████████████████████████████████| Time: 0:00:45\u001b[39m\n"
     ]
    },
    {
     "data": {
      "text/plain": [
       "Results of univariate zero finding:\n",
       "\n",
       "* Converged to: 0.4703667013168333\n",
       "* Algorithm: Bisection()\n",
       "* iterations: 10\n",
       "* function evaluations ≈ 13\n",
       "\n",
       "Trace:\n",
       "(a₀, b₀) = ( 0.27709414062499987, 0.52709414062499982 )\n",
       "(a₁, b₁) = ( 0.39532060546874986, 0.52709414062499982 )\n",
       "(a₂, b₂) = ( 0.45443383789062486, 0.52709414062499982 )\n",
       "(a₃, b₃) = ( 0.45443383789062486, 0.48399045410156238 )\n",
       "(a₄, b₄) = ( 0.46921214599609362, 0.48399045410156238 )\n",
       "(a₅, b₅) = ( 0.46921214599609362, 0.476601300048828 )\n",
       "(a₆, b₆) = ( 0.46921214599609362, 0.47290672302246078 )\n",
       "(a₇, b₇) = ( 0.46921214599609362, 0.47105943450927718 )\n",
       "(a₈, b₈) = ( 0.47013579025268537, 0.47105943450927718 )\n",
       "(a₉, b₉) = ( 0.47013579025268537, 0.47059761238098125 )\n",
       "(a₁₀, b₁₀) = ( 0.47013579025268537, 0.47036670131683328 )\n",
       "\n"
      ]
     },
     "metadata": {},
     "output_type": "display_data"
    },
    {
     "name": "stderr",
     "output_type": "stream",
     "text": [
      "\u001b[36m\u001b[1m[ \u001b[22m\u001b[39m\u001b[36m\u001b[1mInfo: \u001b[22m\u001b[39mTargeting ϕ=0.4703667013168333\n",
      "\u001b[32mProgress: 100%|█████████████████████████████████████████| Time: 0:00:44\u001b[39m\n"
     ]
    },
    {
     "data": {
      "text/plain": [
       "Results of univariate zero finding:\n",
       "\n",
       "* Converged to: 0.6429398880101735\n",
       "* Algorithm: Bisection()\n",
       "* iterations: 10\n",
       "* function evaluations ≈ 13\n",
       "\n",
       "Trace:\n",
       "(a₀, b₀) = ( 0.47046670131683327, 0.72046670131683321 )\n",
       "(a₁, b₁) = ( 0.58070005197524988, 0.72046670131683321 )\n",
       "(a₂, b₂) = ( 0.58070005197524988, 0.65058337664604149 )\n",
       "(a₃, b₃) = ( 0.61564171431064563, 0.65058337664604149 )\n",
       "(a₄, b₄) = ( 0.6331125454783435, 0.65058337664604149 )\n",
       "(a₅, b₅) = ( 0.64184796106219244, 0.65058337664604149 )\n",
       "(a₆, b₆) = ( 0.64184796106219244, 0.64621566885411696 )\n",
       "(a₇, b₇) = ( 0.64184796106219244, 0.64403181495815465 )\n",
       "(a₈, b₈) = ( 0.64184796106219244, 0.64293988801017354 )\n",
       "(a₉, b₉) = ( 0.64239392453618294, 0.64293988801017354 )\n",
       "(a₁₀, b₁₀) = ( 0.64266690627317824, 0.64293988801017354 )\n",
       "\n"
      ]
     },
     "metadata": {},
     "output_type": "display_data"
    },
    {
     "name": "stderr",
     "output_type": "stream",
     "text": [
      "\u001b[36m\u001b[1m[ \u001b[22m\u001b[39m\u001b[36m\u001b[1mInfo: \u001b[22m\u001b[39mTargeting ϕ=0.6429398880101735\n",
      "\u001b[32mProgress: 100%|█████████████████████████████████████████| Time: 0:00:45\u001b[39m\n"
     ]
    },
    {
     "data": {
      "text/plain": [
       "Results of univariate zero finding:\n",
       "\n",
       "* Converged to: 0.7746340699204853\n",
       "* Algorithm: Bisection()\n",
       "* iterations: 10\n",
       "* function evaluations ≈ 13\n",
       "\n",
       "Trace:\n",
       "(a₀, b₀) = ( 0.64303988801017353, 0.82151994400508677 )\n",
       "(a₁, b₁) = ( 0.73227991600763009, 0.82151994400508677 )\n",
       "(a₂, b₂) = ( 0.73227991600763009, 0.77689993000635837 )\n",
       "(a₃, b₃) = ( 0.75458992300699423, 0.77689993000635837 )\n",
       "(a₄, b₄) = ( 0.76574492650667625, 0.77689993000635837 )\n",
       "(a₅, b₅) = ( 0.77132242825651731, 0.77689993000635837 )\n",
       "(a₆, b₆) = ( 0.77411117913143779, 0.77689993000635837 )\n",
       "(a₇, b₇) = ( 0.77411117913143779, 0.77550555456889803 )\n",
       "(a₈, b₈) = ( 0.77411117913143779, 0.77480836685016785 )\n",
       "(a₉, b₉) = ( 0.77445977299080282, 0.77480836685016785 )\n",
       "(a₁₀, b₁₀) = ( 0.77445977299080282, 0.77463406992048534 )\n",
       "\n"
      ]
     },
     "metadata": {},
     "output_type": "display_data"
    },
    {
     "name": "stderr",
     "output_type": "stream",
     "text": [
      "\u001b[36m\u001b[1m[ \u001b[22m\u001b[39m\u001b[36m\u001b[1mInfo: \u001b[22m\u001b[39mTargeting ϕ=0.7746340699204853\n",
      "\u001b[32mProgress: 100%|█████████████████████████████████████████| Time: 0:00:44\u001b[39m\n"
     ]
    },
    {
     "data": {
      "text/plain": [
       "Results of univariate zero finding:\n",
       "\n",
       "* Converged to: 0.8729579349405079\n",
       "* Algorithm: Bisection()\n",
       "* iterations: 10\n",
       "* function evaluations ≈ 13\n",
       "\n",
       "Trace:\n",
       "(a₀, b₀) = ( 0.77473406992048532, 0.88736703496024261 )\n",
       "(a₁, b₁) = ( 0.83105055244036397, 0.88736703496024261 )\n",
       "(a₂, b₂) = ( 0.85920879370030323, 0.88736703496024261 )\n",
       "(a₃, b₃) = ( 0.85920879370030323, 0.87328791433027286 )\n",
       "(a₄, b₄) = ( 0.86624835401528799, 0.87328791433027286 )\n",
       "(a₅, b₅) = ( 0.86976813417278043, 0.87328791433027286 )\n",
       "(a₆, b₆) = ( 0.87152802425152665, 0.87328791433027286 )\n",
       "(a₇, b₇) = ( 0.8724079692908997, 0.87328791433027286 )\n",
       "(a₈, b₈) = ( 0.87284794181058623, 0.87328791433027286 )\n",
       "(a₉, b₉) = ( 0.87284794181058623, 0.87306792807042954 )\n",
       "(a₁₀, b₁₀) = ( 0.87295793494050788, 0.87306792807042954 )\n",
       "\n"
      ]
     },
     "metadata": {},
     "output_type": "display_data"
    },
    {
     "name": "stderr",
     "output_type": "stream",
     "text": [
      "\u001b[36m\u001b[1m[ \u001b[22m\u001b[39m\u001b[36m\u001b[1mInfo: \u001b[22m\u001b[39mTargeting ϕ=0.8729579349405079\n",
      "\u001b[32mProgress: 100%|█████████████████████████████████████████| Time: 0:00:44\u001b[39m\n"
     ]
    },
    {
     "data": {
      "text/plain": [
       "Results of univariate zero finding:\n",
       "\n",
       "* Converged to: 0.953946311357811\n",
       "* Algorithm: Bisection()\n",
       "* iterations: 10\n",
       "* function evaluations ≈ 13\n",
       "\n",
       "Trace:\n",
       "(a₀, b₀) = ( 0.93652896747025394, 1 )\n",
       "(a₁, b₁) = ( 0.93652896747025394, 0.96826448373512697 )\n",
       "(a₂, b₂) = ( 0.9523967256026904, 0.96826448373512697 )\n",
       "(a₃, b₃) = ( 0.9523967256026904, 0.96033060466890863 )\n",
       "(a₄, b₄) = ( 0.9523967256026904, 0.95636366513579951 )\n",
       "(a₅, b₅) = ( 0.9523967256026904, 0.9543801953692449 )\n",
       "(a₆, b₆) = ( 0.95338846048596759, 0.9543801953692449 )\n",
       "(a₇, b₇) = ( 0.95388432792760625, 0.9543801953692449 )\n",
       "(a₈, b₈) = ( 0.95388432792760625, 0.95413226164842557 )\n",
       "(a₉, b₉) = ( 0.95388432792760625, 0.95400829478801585 )\n",
       "(a₁₀, b₁₀) = ( 0.95388432792760625, 0.95394631135781105 )\n",
       "\n"
      ]
     },
     "metadata": {},
     "output_type": "display_data"
    },
    {
     "name": "stderr",
     "output_type": "stream",
     "text": [
      "\u001b[36m\u001b[1m[ \u001b[22m\u001b[39m\u001b[36m\u001b[1mInfo: \u001b[22m\u001b[39mTargeting ϕ=0.953946311357811\n",
      "\u001b[32mProgress: 100%|█████████████████████████████████████████| Time: 0:00:44\u001b[39m\n",
      "\u001b[36m\u001b[1m[ \u001b[22m\u001b[39m\u001b[36m\u001b[1mInfo: \u001b[22m\u001b[39mϕ=1, PSIS\n",
      "\u001b[36m\u001b[1m[ \u001b[22m\u001b[39m\u001b[36m\u001b[1mInfo: \u001b[22m\u001b[39mFold: 2\n"
     ]
    },
    {
     "data": {
      "text/plain": [
       "Results of univariate zero finding:\n",
       "\n",
       "* Converged to: 0.3960611328124999\n",
       "* Algorithm: Bisection()\n",
       "* iterations: 10\n",
       "* function evaluations ≈ 13\n",
       "\n",
       "Trace:\n",
       "(a₀, b₀) = ( 0.010306249999999999, 1 )\n",
       "(a₁, b₁) = ( 0.103725, 1 )\n",
       "(a₂, b₂) = ( 0.33244999999999997, 1 )\n",
       "(a₃, b₃) = ( 0.33244999999999997, 0.58244999999999991 )\n",
       "(a₄, b₄) = ( 0.33244999999999997, 0.43683749999999993 )\n",
       "(a₅, b₅) = ( 0.38464374999999995, 0.43683749999999993 )\n",
       "(a₆, b₆) = ( 0.38464374999999995, 0.41074062499999991 )\n",
       "(a₇, b₇) = ( 0.38464374999999995, 0.39769218749999991 )\n",
       "(a₈, b₈) = ( 0.39116796874999993, 0.39769218749999991 )\n",
       "(a₉, b₉) = ( 0.39443007812499992, 0.39769218749999991 )\n",
       "(a₁₀, b₁₀) = ( 0.39443007812499992, 0.39606113281249988 )\n",
       "\n"
      ]
     },
     "metadata": {},
     "output_type": "display_data"
    },
    {
     "name": "stderr",
     "output_type": "stream",
     "text": [
      "\u001b[36m\u001b[1m[ \u001b[22m\u001b[39m\u001b[36m\u001b[1mInfo: \u001b[22m\u001b[39mTargeting ϕ=0.3960611328124999\n",
      "\u001b[32mProgress: 100%|█████████████████████████████████████████| Time: 0:00:45\u001b[39m\n"
     ]
    },
    {
     "data": {
      "text/plain": [
       "Results of univariate zero finding:\n",
       "\n",
       "* Converged to: 0.7905992641448972\n",
       "* Algorithm: Bisection()\n",
       "* iterations: 10\n",
       "* function evaluations ≈ 13\n",
       "\n",
       "Trace:\n",
       "(a₀, b₀) = ( 0.64616113281249987, 1 )\n",
       "(a₁, b₁) = ( 0.64616113281249987, 0.82308056640624994 )\n",
       "(a₂, b₂) = ( 0.7346208496093749, 0.82308056640624994 )\n",
       "(a₃, b₃) = ( 0.77885070800781242, 0.82308056640624994 )\n",
       "(a₄, b₄) = ( 0.77885070800781242, 0.80096563720703118 )\n",
       "(a₅, b₅) = ( 0.78990817260742174, 0.80096563720703118 )\n",
       "(a₆, b₆) = ( 0.78990817260742174, 0.79543690490722641 )\n",
       "(a₇, b₇) = ( 0.78990817260742174, 0.79267253875732402 )\n",
       "(a₈, b₈) = ( 0.78990817260742174, 0.79129035568237283 )\n",
       "(a₉, b₉) = ( 0.79059926414489723, 0.79129035568237283 )\n",
       "(a₁₀, b₁₀) = ( 0.79059926414489723, 0.79094480991363503 )\n",
       "\n"
      ]
     },
     "metadata": {},
     "output_type": "display_data"
    },
    {
     "name": "stderr",
     "output_type": "stream",
     "text": [
      "\u001b[36m\u001b[1m[ \u001b[22m\u001b[39m\u001b[36m\u001b[1mInfo: \u001b[22m\u001b[39mTargeting ϕ=0.7905992641448972\n",
      "\u001b[32mProgress: 100%|█████████████████████████████████████████| Time: 0:00:45\u001b[39m\n",
      "\u001b[36m\u001b[1m[ \u001b[22m\u001b[39m\u001b[36m\u001b[1mInfo: \u001b[22m\u001b[39mϕ=1, PSIS\n",
      "\u001b[36m\u001b[1m[ \u001b[22m\u001b[39m\u001b[36m\u001b[1mInfo: \u001b[22m\u001b[39mFold: 3\n"
     ]
    },
    {
     "data": {
      "text/plain": [
       "Results of univariate zero finding:\n",
       "\n",
       "* Converged to: 0.6868374999999999\n",
       "* Algorithm: Bisection()\n",
       "* iterations: 10\n",
       "* function evaluations ≈ 13\n",
       "\n",
       "Trace:\n",
       "(a₀, b₀) = ( 0.010306249999999999, 1 )\n",
       "(a₁, b₁) = ( 0.103725, 1 )\n",
       "(a₂, b₂) = ( 0.33244999999999997, 1 )\n",
       "(a₃, b₃) = ( 0.58244999999999991, 1 )\n",
       "(a₄, b₄) = ( 0.58244999999999991, 0.79122499999999996 )\n",
       "(a₅, b₅) = ( 0.68683749999999988, 0.79122499999999996 )\n",
       "(a₆, b₆) = ( 0.68683749999999988, 0.73903124999999992 )\n",
       "(a₇, b₇) = ( 0.68683749999999988, 0.7129343749999999 )\n",
       "(a₈, b₈) = ( 0.68683749999999988, 0.69988593749999983 )\n",
       "(a₉, b₉) = ( 0.68683749999999988, 0.69336171874999986 )\n",
       "(a₁₀, b₁₀) = ( 0.68683749999999988, 0.69009960937499981 )\n",
       "\n"
      ]
     },
     "metadata": {},
     "output_type": "display_data"
    },
    {
     "name": "stderr",
     "output_type": "stream",
     "text": [
      "\u001b[36m\u001b[1m[ \u001b[22m\u001b[39m\u001b[36m\u001b[1mInfo: \u001b[22m\u001b[39mTargeting ϕ=0.6868374999999999\n",
      "\u001b[32mProgress: 100%|█████████████████████████████████████████| Time: 0:00:45\u001b[39m\n",
      "\u001b[36m\u001b[1m[ \u001b[22m\u001b[39m\u001b[36m\u001b[1mInfo: \u001b[22m\u001b[39mϕ=1, PSIS\n",
      "\u001b[36m\u001b[1m[ \u001b[22m\u001b[39m\u001b[36m\u001b[1mInfo: \u001b[22m\u001b[39mFold: 4\n"
     ]
    },
    {
     "data": {
      "text/plain": [
       "Results of univariate zero finding:\n",
       "\n",
       "* Converged to: 0.30635312499999995\n",
       "* Algorithm: Bisection()\n",
       "* iterations: 10\n",
       "* function evaluations ≈ 13\n",
       "\n",
       "Trace:\n",
       "(a₀, b₀) = ( 0.010306249999999999, 1 )\n",
       "(a₁, b₁) = ( 0.103725, 1 )\n",
       "(a₂, b₂) = ( 0.103725, 0.33244999999999997 )\n",
       "(a₃, b₃) = ( 0.18683749999999999, 0.33244999999999997 )\n",
       "(a₄, b₄) = ( 0.23903124999999997, 0.33244999999999997 )\n",
       "(a₅, b₅) = ( 0.28025624999999993, 0.33244999999999997 )\n",
       "(a₆, b₆) = ( 0.28025624999999993, 0.30635312499999995 )\n",
       "(a₇, b₇) = ( 0.29330468749999994, 0.30635312499999995 )\n",
       "(a₈, b₈) = ( 0.29982890624999992, 0.30635312499999995 )\n",
       "(a₉, b₉) = ( 0.3030910156249999, 0.30635312499999995 )\n",
       "(a₁₀, b₁₀) = ( 0.30472207031249993, 0.30635312499999995 )\n",
       "\n"
      ]
     },
     "metadata": {},
     "output_type": "display_data"
    },
    {
     "name": "stderr",
     "output_type": "stream",
     "text": [
      "\u001b[36m\u001b[1m[ \u001b[22m\u001b[39m\u001b[36m\u001b[1mInfo: \u001b[22m\u001b[39mTargeting ϕ=0.30635312499999995\n",
      "\u001b[32mProgress: 100%|█████████████████████████████████████████| Time: 0:00:45\u001b[39m\n"
     ]
    },
    {
     "data": {
      "text/plain": [
       "Results of univariate zero finding:\n",
       "\n",
       "* Converged to: 0.5486564025878904\n",
       "* Algorithm: Bisection()\n",
       "* iterations: 10\n",
       "* function evaluations ≈ 13\n",
       "\n",
       "Trace:\n",
       "(a₀, b₀) = ( 0.30645312499999994, 0.55645312499999988 )\n",
       "(a₁, b₁) = ( 0.41733984374999994, 0.55645312499999988 )\n",
       "(a₂, b₂) = ( 0.47278320312499994, 0.55645312499999988 )\n",
       "(a₃, b₃) = ( 0.50100976562499988, 0.55645312499999988 )\n",
       "(a₄, b₄) = ( 0.52873144531249983, 0.55645312499999988 )\n",
       "(a₅, b₅) = ( 0.5425922851562498, 0.55645312499999988 )\n",
       "(a₆, b₆) = ( 0.5425922851562498, 0.54952270507812484 )\n",
       "(a₇, b₇) = ( 0.54605749511718726, 0.54952270507812484 )\n",
       "(a₈, b₈) = ( 0.54779010009765605, 0.54952270507812484 )\n",
       "(a₉, b₉) = ( 0.54779010009765605, 0.54865640258789039 )\n",
       "(a₁₀, b₁₀) = ( 0.54822325134277317, 0.54865640258789039 )\n",
       "\n"
      ]
     },
     "metadata": {},
     "output_type": "display_data"
    },
    {
     "name": "stderr",
     "output_type": "stream",
     "text": [
      "\u001b[36m\u001b[1m[ \u001b[22m\u001b[39m\u001b[36m\u001b[1mInfo: \u001b[22m\u001b[39mTargeting ϕ=0.5486564025878904\n",
      "\u001b[32mProgress: 100%|█████████████████████████████████████████| Time: 0:00:45\u001b[39m\n"
     ]
    },
    {
     "data": {
      "text/plain": [
       "Results of univariate zero finding:\n",
       "\n",
       "* Converged to: 0.7439721385776994\n",
       "* Algorithm: Bisection()\n",
       "* iterations: 10\n",
       "* function evaluations ≈ 13\n",
       "\n",
       "Trace:\n",
       "(a₀, b₀) = ( 0.54875640258789038, 0.77437820129394519 )\n",
       "(a₁, b₁) = ( 0.66156730194091773, 0.77437820129394519 )\n",
       "(a₂, b₂) = ( 0.71797275161743146, 0.77437820129394519 )\n",
       "(a₃, b₃) = ( 0.71797275161743146, 0.74617547645568827 )\n",
       "(a₄, b₄) = ( 0.73207411403655986, 0.74617547645568827 )\n",
       "(a₅, b₅) = ( 0.73912479524612407, 0.74617547645568827 )\n",
       "(a₆, b₆) = ( 0.74265013585090611, 0.74617547645568827 )\n",
       "(a₇, b₇) = ( 0.74265013585090611, 0.74441280615329719 )\n",
       "(a₈, b₈) = ( 0.7435314710021016, 0.74441280615329719 )\n",
       "(a₉, b₉) = ( 0.7435314710021016, 0.74397213857769939 )\n",
       "(a₁₀, b₁₀) = ( 0.74375180478990044, 0.74397213857769939 )\n",
       "\n"
      ]
     },
     "metadata": {},
     "output_type": "display_data"
    },
    {
     "name": "stderr",
     "output_type": "stream",
     "text": [
      "\u001b[36m\u001b[1m[ \u001b[22m\u001b[39m\u001b[36m\u001b[1mInfo: \u001b[22m\u001b[39mTargeting ϕ=0.7439721385776994\n",
      "\u001b[32mProgress: 100%|█████████████████████████████████████████| Time: 0:00:45\u001b[39m\n"
     ]
    },
    {
     "data": {
      "text/plain": [
       "Results of univariate zero finding:\n",
       "\n",
       "* Converged to: 0.8894061731646795\n",
       "* Algorithm: Bisection()\n",
       "* iterations: 10\n",
       "* function evaluations ≈ 13\n",
       "\n",
       "Trace:\n",
       "(a₀, b₀) = ( 0.87203606928884969, 1 )\n",
       "(a₁, b₁) = ( 0.87203606928884969, 0.93601803464442479 )\n",
       "(a₂, b₂) = ( 0.87203606928884969, 0.90402705196663724 )\n",
       "(a₃, b₃) = ( 0.88803156062774347, 0.90402705196663724 )\n",
       "(a₄, b₄) = ( 0.88803156062774347, 0.89602930629719035 )\n",
       "(a₅, b₅) = ( 0.88803156062774347, 0.89203043346246691 )\n",
       "(a₆, b₆) = ( 0.88803156062774347, 0.89003099704510513 )\n",
       "(a₇, b₇) = ( 0.8890312788364243, 0.89003099704510513 )\n",
       "(a₈, b₈) = ( 0.8890312788364243, 0.88953113794076466 )\n",
       "(a₉, b₉) = ( 0.88928120838859448, 0.88953113794076466 )\n",
       "(a₁₀, b₁₀) = ( 0.88928120838859448, 0.88940617316467951 )\n",
       "\n"
      ]
     },
     "metadata": {},
     "output_type": "display_data"
    },
    {
     "name": "stderr",
     "output_type": "stream",
     "text": [
      "\u001b[36m\u001b[1m[ \u001b[22m\u001b[39m\u001b[36m\u001b[1mInfo: \u001b[22m\u001b[39mTargeting ϕ=0.8894061731646795\n",
      "\u001b[32mProgress: 100%|█████████████████████████████████████████| Time: 0:00:45\u001b[39m\n",
      "\u001b[36m\u001b[1m[ \u001b[22m\u001b[39m\u001b[36m\u001b[1mInfo: \u001b[22m\u001b[39mϕ=1, PSIS\n",
      "\u001b[36m\u001b[1m[ \u001b[22m\u001b[39m\u001b[36m\u001b[1mInfo: \u001b[22m\u001b[39mFold: 5\n"
     ]
    },
    {
     "data": {
      "text/plain": [
       "Results of univariate zero finding:\n",
       "\n",
       "* Converged to: 0.6248574218749997\n",
       "* Algorithm: Bisection()\n",
       "* iterations: 10\n",
       "* function evaluations ≈ 13\n",
       "\n",
       "Trace:\n",
       "(a₀, b₀) = ( 0.010306249999999999, 1 )\n",
       "(a₁, b₁) = ( 0.103725, 1 )\n",
       "(a₂, b₂) = ( 0.33244999999999997, 1 )\n",
       "(a₃, b₃) = ( 0.58244999999999991, 1 )\n",
       "(a₄, b₄) = ( 0.58244999999999991, 0.79122499999999996 )\n",
       "(a₅, b₅) = ( 0.58244999999999991, 0.68683749999999988 )\n",
       "(a₆, b₆) = ( 0.58244999999999991, 0.63464374999999984 )\n",
       "(a₇, b₇) = ( 0.60854687499999982, 0.63464374999999984 )\n",
       "(a₈, b₈) = ( 0.62159531249999977, 0.63464374999999984 )\n",
       "(a₉, b₉) = ( 0.62159531249999977, 0.62811953124999975 )\n",
       "(a₁₀, b₁₀) = ( 0.62159531249999977, 0.62485742187499971 )\n",
       "\n"
      ]
     },
     "metadata": {},
     "output_type": "display_data"
    },
    {
     "name": "stderr",
     "output_type": "stream",
     "text": [
      "\u001b[36m\u001b[1m[ \u001b[22m\u001b[39m\u001b[36m\u001b[1mInfo: \u001b[22m\u001b[39mTargeting ϕ=0.6248574218749997\n",
      "\u001b[32mProgress: 100%|█████████████████████████████████████████| Time: 0:00:46\u001b[39m\n",
      "\u001b[36m\u001b[1m[ \u001b[22m\u001b[39m\u001b[36m\u001b[1mInfo: \u001b[22m\u001b[39mϕ=1, PSIS\n",
      "\u001b[36m\u001b[1m[ \u001b[22m\u001b[39m\u001b[36m\u001b[1mInfo: \u001b[22m\u001b[39mFold: 6\n"
     ]
    },
    {
     "data": {
      "text/plain": [
       "Results of univariate zero finding:\n",
       "\n",
       "* Converged to: 0.3128773437499999\n",
       "* Algorithm: Bisection()\n",
       "* iterations: 10\n",
       "* function evaluations ≈ 13\n",
       "\n",
       "Trace:\n",
       "(a₀, b₀) = ( 0.010306249999999999, 1 )\n",
       "(a₁, b₁) = ( 0.103725, 1 )\n",
       "(a₂, b₂) = ( 0.103725, 0.33244999999999997 )\n",
       "(a₃, b₃) = ( 0.18683749999999999, 0.33244999999999997 )\n",
       "(a₄, b₄) = ( 0.23903124999999997, 0.33244999999999997 )\n",
       "(a₅, b₅) = ( 0.28025624999999993, 0.33244999999999997 )\n",
       "(a₆, b₆) = ( 0.30635312499999995, 0.33244999999999997 )\n",
       "(a₇, b₇) = ( 0.30635312499999995, 0.31940156249999996 )\n",
       "(a₈, b₈) = ( 0.30635312499999995, 0.31287734374999993 )\n",
       "(a₉, b₉) = ( 0.30961523437499994, 0.31287734374999993 )\n",
       "(a₁₀, b₁₀) = ( 0.3112462890624999, 0.31287734374999993 )\n",
       "\n"
      ]
     },
     "metadata": {},
     "output_type": "display_data"
    },
    {
     "name": "stderr",
     "output_type": "stream",
     "text": [
      "\u001b[36m\u001b[1m[ \u001b[22m\u001b[39m\u001b[36m\u001b[1mInfo: \u001b[22m\u001b[39mTargeting ϕ=0.3128773437499999\n",
      "\u001b[32mProgress: 100%|█████████████████████████████████████████| Time: 0:00:45\u001b[39m\n"
     ]
    },
    {
     "data": {
      "text/plain": [
       "Results of univariate zero finding:\n",
       "\n",
       "* Converged to: 0.6124838165283201\n",
       "* Algorithm: Bisection()\n",
       "* iterations: 10\n",
       "* function evaluations ≈ 13\n",
       "\n",
       "Trace:\n",
       "(a₀, b₀) = ( 0.56297734374999986, 1 )\n",
       "(a₁, b₁) = ( 0.56297734374999986, 0.78148867187499993 )\n",
       "(a₂, b₂) = ( 0.56297734374999986, 0.67223300781249984 )\n",
       "(a₃, b₃) = ( 0.56297734374999986, 0.61760517578124985 )\n",
       "(a₄, b₄) = ( 0.5902912597656248, 0.61760517578124985 )\n",
       "(a₅, b₅) = ( 0.60394821777343732, 0.61760517578124985 )\n",
       "(a₆, b₆) = ( 0.61077669677734359, 0.61760517578124985 )\n",
       "(a₇, b₇) = ( 0.61077669677734359, 0.61419093627929666 )\n",
       "(a₈, b₈) = ( 0.61077669677734359, 0.61248381652832007 )\n",
       "(a₉, b₉) = ( 0.61163025665283177, 0.61248381652832007 )\n",
       "(a₁₀, b₁₀) = ( 0.61205703659057586, 0.61248381652832007 )\n",
       "\n"
      ]
     },
     "metadata": {},
     "output_type": "display_data"
    },
    {
     "name": "stderr",
     "output_type": "stream",
     "text": [
      "\u001b[36m\u001b[1m[ \u001b[22m\u001b[39m\u001b[36m\u001b[1mInfo: \u001b[22m\u001b[39mTargeting ϕ=0.6124838165283201\n",
      "\u001b[32mProgress: 100%|█████████████████████████████████████████| Time: 0:00:46\u001b[39m\n"
     ]
    },
    {
     "data": {
      "text/plain": [
       "Results of univariate zero finding:\n",
       "\n",
       "* Converged to: 0.8558539395481345\n",
       "* Algorithm: Bisection()\n",
       "* iterations: 10\n",
       "* function evaluations ≈ 13\n",
       "\n",
       "Trace:\n",
       "(a₀, b₀) = ( 0.80629190826415997, 1 )\n",
       "(a₁, b₁) = ( 0.80629190826415997, 0.90314595413207999 )\n",
       "(a₂, b₂) = ( 0.85471893119811992, 0.90314595413207999 )\n",
       "(a₃, b₃) = ( 0.85471893119811992, 0.87893244266509996 )\n",
       "(a₄, b₄) = ( 0.85471893119811992, 0.86682568693160988 )\n",
       "(a₅, b₅) = ( 0.85471893119811992, 0.8607723090648649 )\n",
       "(a₆, b₆) = ( 0.85471893119811992, 0.85774562013149236 )\n",
       "(a₇, b₇) = ( 0.85471893119811992, 0.85623227566480609 )\n",
       "(a₈, b₈) = ( 0.85547560343146301, 0.85623227566480609 )\n",
       "(a₉, b₉) = ( 0.85547560343146301, 0.85585393954813449 )\n",
       "(a₁₀, b₁₀) = ( 0.85566477148979869, 0.85585393954813449 )\n",
       "\n"
      ]
     },
     "metadata": {},
     "output_type": "display_data"
    },
    {
     "name": "stderr",
     "output_type": "stream",
     "text": [
      "\u001b[36m\u001b[1m[ \u001b[22m\u001b[39m\u001b[36m\u001b[1mInfo: \u001b[22m\u001b[39mTargeting ϕ=0.8558539395481345\n",
      "\u001b[32mProgress: 100%|█████████████████████████████████████████| Time: 0:00:46\u001b[39m\n",
      "\u001b[36m\u001b[1m[ \u001b[22m\u001b[39m\u001b[36m\u001b[1mInfo: \u001b[22m\u001b[39mϕ=1, PSIS\n",
      "\u001b[36m\u001b[1m[ \u001b[22m\u001b[39m\u001b[36m\u001b[1mInfo: \u001b[22m\u001b[39mFold: 7\n"
     ]
    },
    {
     "data": {
      "text/plain": [
       "Results of univariate zero finding:\n",
       "\n",
       "* Converged to: 0.5824499999999999\n",
       "* Algorithm: Bisection()\n",
       "* iterations: 10\n",
       "* function evaluations ≈ 13\n",
       "\n",
       "Trace:\n",
       "(a₀, b₀) = ( 0.010306249999999999, 1 )\n",
       "(a₁, b₁) = ( 0.103725, 1 )\n",
       "(a₂, b₂) = ( 0.33244999999999997, 1 )\n",
       "(a₃, b₃) = ( 0.33244999999999997, 0.58244999999999991 )\n",
       "(a₄, b₄) = ( 0.43683749999999993, 0.58244999999999991 )\n",
       "(a₅, b₅) = ( 0.48903124999999992, 0.58244999999999991 )\n",
       "(a₆, b₆) = ( 0.53025624999999987, 0.58244999999999991 )\n",
       "(a₇, b₇) = ( 0.55635312499999989, 0.58244999999999991 )\n",
       "(a₈, b₈) = ( 0.56940156249999985, 0.58244999999999991 )\n",
       "(a₉, b₉) = ( 0.57592578124999982, 0.58244999999999991 )\n",
       "(a₁₀, b₁₀) = ( 0.57918789062499987, 0.58244999999999991 )\n",
       "\n"
      ]
     },
     "metadata": {},
     "output_type": "display_data"
    },
    {
     "name": "stderr",
     "output_type": "stream",
     "text": [
      "\u001b[36m\u001b[1m[ \u001b[22m\u001b[39m\u001b[36m\u001b[1mInfo: \u001b[22m\u001b[39mTargeting ϕ=0.5824499999999999\n",
      "\u001b[32mProgress: 100%|█████████████████████████████████████████| Time: 0:00:46\u001b[39m\n",
      "\u001b[36m\u001b[1m[ \u001b[22m\u001b[39m\u001b[36m\u001b[1mInfo: \u001b[22m\u001b[39mϕ=1, PSIS\n",
      "\u001b[36m\u001b[1m[ \u001b[22m\u001b[39m\u001b[36m\u001b[1mInfo: \u001b[22m\u001b[39mFold: 8\n"
     ]
    },
    {
     "data": {
      "text/plain": [
       "Results of univariate zero finding:\n",
       "\n",
       "* Converged to: 0.7357691406249999\n",
       "* Algorithm: Bisection()\n",
       "* iterations: 10\n",
       "* function evaluations ≈ 13\n",
       "\n",
       "Trace:\n",
       "(a₀, b₀) = ( 0.010306249999999999, 1 )\n",
       "(a₁, b₁) = ( 0.103725, 1 )\n",
       "(a₂, b₂) = ( 0.33244999999999997, 1 )\n",
       "(a₃, b₃) = ( 0.58244999999999991, 1 )\n",
       "(a₄, b₄) = ( 0.58244999999999991, 0.79122499999999996 )\n",
       "(a₅, b₅) = ( 0.68683749999999988, 0.79122499999999996 )\n",
       "(a₆, b₆) = ( 0.68683749999999988, 0.73903124999999992 )\n",
       "(a₇, b₇) = ( 0.7129343749999999, 0.73903124999999992 )\n",
       "(a₈, b₈) = ( 0.72598281249999985, 0.73903124999999992 )\n",
       "(a₉, b₉) = ( 0.73250703124999983, 0.73903124999999992 )\n",
       "(a₁₀, b₁₀) = ( 0.73576914062499987, 0.73903124999999992 )\n",
       "\n"
      ]
     },
     "metadata": {},
     "output_type": "display_data"
    },
    {
     "name": "stderr",
     "output_type": "stream",
     "text": [
      "\u001b[36m\u001b[1m[ \u001b[22m\u001b[39m\u001b[36m\u001b[1mInfo: \u001b[22m\u001b[39mTargeting ϕ=0.7357691406249999\n",
      "\u001b[32mProgress: 100%|█████████████████████████████████████████| Time: 0:00:45\u001b[39m\n",
      "\u001b[36m\u001b[1m[ \u001b[22m\u001b[39m\u001b[36m\u001b[1mInfo: \u001b[22m\u001b[39mϕ=1, PSIS\n",
      "\u001b[36m\u001b[1m[ \u001b[22m\u001b[39m\u001b[36m\u001b[1mInfo: \u001b[22m\u001b[39mFold: 9\n"
     ]
    },
    {
     "data": {
      "text/plain": [
       "Results of univariate zero finding:\n",
       "\n",
       "* Converged to: 0.2835183593749999\n",
       "* Algorithm: Bisection()\n",
       "* iterations: 10\n",
       "* function evaluations ≈ 13\n",
       "\n",
       "Trace:\n",
       "(a₀, b₀) = ( 0.010306249999999999, 1 )\n",
       "(a₁, b₁) = ( 0.103725, 1 )\n",
       "(a₂, b₂) = ( 0.103725, 0.33244999999999997 )\n",
       "(a₃, b₃) = ( 0.18683749999999999, 0.33244999999999997 )\n",
       "(a₄, b₄) = ( 0.23903124999999997, 0.33244999999999997 )\n",
       "(a₅, b₅) = ( 0.28025624999999993, 0.33244999999999997 )\n",
       "(a₆, b₆) = ( 0.28025624999999993, 0.30635312499999995 )\n",
       "(a₇, b₇) = ( 0.28025624999999993, 0.29330468749999994 )\n",
       "(a₈, b₈) = ( 0.28025624999999993, 0.28678046874999991 )\n",
       "(a₉, b₉) = ( 0.28025624999999993, 0.28351835937499992 )\n",
       "(a₁₀, b₁₀) = ( 0.2818873046874999, 0.28351835937499992 )\n",
       "\n"
      ]
     },
     "metadata": {},
     "output_type": "display_data"
    },
    {
     "name": "stderr",
     "output_type": "stream",
     "text": [
      "\u001b[36m\u001b[1m[ \u001b[22m\u001b[39m\u001b[36m\u001b[1mInfo: \u001b[22m\u001b[39mTargeting ϕ=0.2835183593749999\n",
      "\u001b[32mProgress: 100%|█████████████████████████████████████████| Time: 0:00:45\u001b[39m\n"
     ]
    },
    {
     "data": {
      "text/plain": [
       "Results of univariate zero finding:\n",
       "\n",
       "* Converged to: 0.5308856544494628\n",
       "* Algorithm: Bisection()\n",
       "* iterations: 10\n",
       "* function evaluations ≈ 13\n",
       "\n",
       "Trace:\n",
       "(a₀, b₀) = ( 0.28361835937499991, 0.53361835937499991 )\n",
       "(a₁, b₁) = ( 0.40021376953124993, 0.53361835937499991 )\n",
       "(a₂, b₂) = ( 0.45851147460937491, 0.53361835937499991 )\n",
       "(a₃, b₃) = ( 0.48766032714843743, 0.53361835937499991 )\n",
       "(a₄, b₄) = ( 0.50446950683593739, 0.53361835937499991 )\n",
       "(a₅, b₅) = ( 0.51904393310546859, 0.53361835937499991 )\n",
       "(a₆, b₆) = ( 0.52633114624023425, 0.53361835937499991 )\n",
       "(a₇, b₇) = ( 0.52997475280761708, 0.53361835937499991 )\n",
       "(a₈, b₈) = ( 0.52997475280761708, 0.53179655609130849 )\n",
       "(a₉, b₉) = ( 0.53088565444946278, 0.53179655609130849 )\n",
       "(a₁₀, b₁₀) = ( 0.53088565444946278, 0.53134110527038558 )\n",
       "\n"
      ]
     },
     "metadata": {},
     "output_type": "display_data"
    },
    {
     "name": "stderr",
     "output_type": "stream",
     "text": [
      "\u001b[36m\u001b[1m[ \u001b[22m\u001b[39m\u001b[36m\u001b[1mInfo: \u001b[22m\u001b[39mTargeting ϕ=0.5308856544494628\n",
      "\u001b[32mProgress: 100%|█████████████████████████████████████████| Time: 0:00:44\u001b[39m\n"
     ]
    },
    {
     "data": {
      "text/plain": [
       "Results of univariate zero finding:\n",
       "\n",
       "* Converged to: 0.7215227323293685\n",
       "* Algorithm: Bisection()\n",
       "* iterations: 10\n",
       "* function evaluations ≈ 13\n",
       "\n",
       "Trace:\n",
       "(a₀, b₀) = ( 0.53098565444946277, 0.76549282722473133 )\n",
       "(a₁, b₁) = ( 0.64823924083709705, 0.76549282722473133 )\n",
       "(a₂, b₂) = ( 0.70686603403091419, 0.76549282722473133 )\n",
       "(a₃, b₃) = ( 0.70686603403091419, 0.73617943062782276 )\n",
       "(a₄, b₄) = ( 0.70686603403091419, 0.72152273232936848 )\n",
       "(a₅, b₅) = ( 0.71419438318014128, 0.72152273232936848 )\n",
       "(a₆, b₆) = ( 0.71785855775475482, 0.72152273232936848 )\n",
       "(a₇, b₇) = ( 0.71969064504206159, 0.72152273232936848 )\n",
       "(a₈, b₈) = ( 0.72060668868571498, 0.72152273232936848 )\n",
       "(a₉, b₉) = ( 0.72106471050754173, 0.72152273232936848 )\n",
       "(a₁₀, b₁₀) = ( 0.72129372141845505, 0.72152273232936848 )\n",
       "\n"
      ]
     },
     "metadata": {},
     "output_type": "display_data"
    },
    {
     "name": "stderr",
     "output_type": "stream",
     "text": [
      "\u001b[36m\u001b[1m[ \u001b[22m\u001b[39m\u001b[36m\u001b[1mInfo: \u001b[22m\u001b[39mTargeting ϕ=0.7215227323293685\n",
      "\u001b[32mProgress: 100%|█████████████████████████████████████████| Time: 0:00:44\u001b[39m\n"
     ]
    },
    {
     "data": {
      "text/plain": [
       "Results of univariate zero finding:\n",
       "\n",
       "* Converged to: 0.8748117853883536\n",
       "* Algorithm: Bisection()\n",
       "* iterations: 10\n",
       "* function evaluations ≈ 13\n",
       "\n",
       "Trace:\n",
       "(a₀, b₀) = ( 0.86081136616468423, 1 )\n",
       "(a₁, b₁) = ( 0.86081136616468423, 0.93040568308234206 )\n",
       "(a₂, b₂) = ( 0.86081136616468423, 0.89560852462351315 )\n",
       "(a₃, b₃) = ( 0.86081136616468423, 0.87820994539409869 )\n",
       "(a₄, b₄) = ( 0.86951065577939146, 0.87820994539409869 )\n",
       "(a₅, b₅) = ( 0.87386030058674502, 0.87820994539409869 )\n",
       "(a₆, b₆) = ( 0.87386030058674502, 0.87603512299042186 )\n",
       "(a₇, b₇) = ( 0.87386030058674502, 0.87494771178858344 )\n",
       "(a₈, b₈) = ( 0.87440400618766423, 0.87494771178858344 )\n",
       "(a₉, b₉) = ( 0.87467585898812383, 0.87494771178858344 )\n",
       "(a₁₀, b₁₀) = ( 0.87467585898812383, 0.87481178538835358 )\n",
       "\n"
      ]
     },
     "metadata": {},
     "output_type": "display_data"
    },
    {
     "name": "stderr",
     "output_type": "stream",
     "text": [
      "\u001b[36m\u001b[1m[ \u001b[22m\u001b[39m\u001b[36m\u001b[1mInfo: \u001b[22m\u001b[39mTargeting ϕ=0.8748117853883536\n",
      "\u001b[32mProgress: 100%|█████████████████████████████████████████| Time: 0:00:44\u001b[39m\n"
     ]
    },
    {
     "data": {
      "text/plain": [
       "Results of univariate zero finding:\n",
       "\n",
       "* Converged to: 0.9888837621780664\n",
       "* Algorithm: Bisection()\n",
       "* iterations: 10\n",
       "* function evaluations ≈ 13\n",
       "\n",
       "Trace:\n",
       "(a₀, b₀) = ( 0.93745589269417673, 1 )\n",
       "(a₁, b₁) = ( 0.96872794634708836, 1 )\n",
       "(a₂, b₂) = ( 0.98436397317354418, 1 )\n",
       "(a₃, b₃) = ( 0.98436397317354418, 0.99218198658677204 )\n",
       "(a₄, b₄) = ( 0.98827297988015805, 0.99218198658677204 )\n",
       "(a₅, b₅) = ( 0.98827297988015805, 0.99022748323346499 )\n",
       "(a₆, b₆) = ( 0.98827297988015805, 0.98925023155681147 )\n",
       "(a₇, b₇) = ( 0.9887616057184847, 0.98925023155681147 )\n",
       "(a₈, b₈) = ( 0.9887616057184847, 0.98900591863764808 )\n",
       "(a₉, b₉) = ( 0.98888376217806639, 0.98900591863764808 )\n",
       "(a₁₀, b₁₀) = ( 0.98888376217806639, 0.98894484040785724 )\n",
       "\n"
      ]
     },
     "metadata": {},
     "output_type": "display_data"
    },
    {
     "name": "stderr",
     "output_type": "stream",
     "text": [
      "\u001b[36m\u001b[1m[ \u001b[22m\u001b[39m\u001b[36m\u001b[1mInfo: \u001b[22m\u001b[39mTargeting ϕ=0.9888837621780664\n",
      "\u001b[32mProgress: 100%|█████████████████████████████████████████| Time: 0:00:44\u001b[39m\n",
      "\u001b[36m\u001b[1m[ \u001b[22m\u001b[39m\u001b[36m\u001b[1mInfo: \u001b[22m\u001b[39mϕ=1, PSIS\n",
      "\u001b[36m\u001b[1m[ \u001b[22m\u001b[39m\u001b[36m\u001b[1mInfo: \u001b[22m\u001b[39mFold: 10\n"
     ]
    },
    {
     "data": {
      "text/plain": [
       "Results of univariate zero finding:\n",
       "\n",
       "* Converged to: 0.31777050781249994\n",
       "* Algorithm: Bisection()\n",
       "* iterations: 10\n",
       "* function evaluations ≈ 13\n",
       "\n",
       "Trace:\n",
       "(a₀, b₀) = ( 0.010306249999999999, 1 )\n",
       "(a₁, b₁) = ( 0.103725, 1 )\n",
       "(a₂, b₂) = ( 0.103725, 0.33244999999999997 )\n",
       "(a₃, b₃) = ( 0.18683749999999999, 0.33244999999999997 )\n",
       "(a₄, b₄) = ( 0.23903124999999997, 0.33244999999999997 )\n",
       "(a₅, b₅) = ( 0.28025624999999993, 0.33244999999999997 )\n",
       "(a₆, b₆) = ( 0.30635312499999995, 0.33244999999999997 )\n",
       "(a₇, b₇) = ( 0.30635312499999995, 0.31940156249999996 )\n",
       "(a₈, b₈) = ( 0.31287734374999993, 0.31940156249999996 )\n",
       "(a₉, b₉) = ( 0.31613945312499991, 0.31940156249999996 )\n",
       "(a₁₀, b₁₀) = ( 0.31613945312499991, 0.31777050781249994 )\n",
       "\n"
      ]
     },
     "metadata": {},
     "output_type": "display_data"
    },
    {
     "name": "stderr",
     "output_type": "stream",
     "text": [
      "\u001b[36m\u001b[1m[ \u001b[22m\u001b[39m\u001b[36m\u001b[1mInfo: \u001b[22m\u001b[39mTargeting ϕ=0.31777050781249994\n",
      "\u001b[32mProgress: 100%|█████████████████████████████████████████| Time: 0:00:44\u001b[39m\n"
     ]
    },
    {
     "data": {
      "text/plain": [
       "Results of univariate zero finding:\n",
       "\n",
       "* Converged to: 0.583484561729431\n",
       "* Algorithm: Bisection()\n",
       "* iterations: 10\n",
       "* function evaluations ≈ 13\n",
       "\n",
       "Trace:\n",
       "(a₀, b₀) = ( 0.56787050781249993, 1 )\n",
       "(a₁, b₁) = ( 0.56787050781249993, 0.78393525390624996 )\n",
       "(a₂, b₂) = ( 0.56787050781249993, 0.67590288085937489 )\n",
       "(a₃, b₃) = ( 0.56787050781249993, 0.62188669433593735 )\n",
       "(a₄, b₄) = ( 0.56787050781249993, 0.59487860107421864 )\n",
       "(a₅, b₅) = ( 0.58137455444335928, 0.59487860107421864 )\n",
       "(a₆, b₆) = ( 0.58137455444335928, 0.58812657775878896 )\n",
       "(a₇, b₇) = ( 0.58137455444335928, 0.58475056610107412 )\n",
       "(a₈, b₈) = ( 0.5830625602722167, 0.58475056610107412 )\n",
       "(a₉, b₉) = ( 0.5830625602722167, 0.58390656318664536 )\n",
       "(a₁₀, b₁₀) = ( 0.5830625602722167, 0.58348456172943097 )\n",
       "\n"
      ]
     },
     "metadata": {},
     "output_type": "display_data"
    },
    {
     "name": "stderr",
     "output_type": "stream",
     "text": [
      "\u001b[36m\u001b[1m[ \u001b[22m\u001b[39m\u001b[36m\u001b[1mInfo: \u001b[22m\u001b[39mTargeting ϕ=0.583484561729431\n",
      "\u001b[32mProgress: 100%|█████████████████████████████████████████| Time: 0:00:44\u001b[39m\n"
     ]
    },
    {
     "data": {
      "text/plain": [
       "Results of univariate zero finding:\n",
       "\n",
       "* Converged to: 0.790165658058971\n",
       "* Algorithm: Bisection()\n",
       "* iterations: 10\n",
       "* function evaluations ≈ 13\n",
       "\n",
       "Trace:\n",
       "(a₀, b₀) = ( 0.58358456172943096, 0.79179228086471543 )\n",
       "(a₁, b₁) = ( 0.68768842129707319, 0.79179228086471543 )\n",
       "(a₂, b₂) = ( 0.73974035108089431, 0.79179228086471543 )\n",
       "(a₃, b₃) = ( 0.76576631597280487, 0.79179228086471543 )\n",
       "(a₄, b₄) = ( 0.77877929841876015, 0.79179228086471543 )\n",
       "(a₅, b₅) = ( 0.78528578964173779, 0.79179228086471543 )\n",
       "(a₆, b₆) = ( 0.78853903525322655, 0.79179228086471543 )\n",
       "(a₇, b₇) = ( 0.79016565805897099, 0.79179228086471543 )\n",
       "(a₈, b₈) = ( 0.79016565805897099, 0.79097896946184321 )\n",
       "(a₉, b₉) = ( 0.79016565805897099, 0.79057231376040704 )\n",
       "(a₁₀, b₁₀) = ( 0.79016565805897099, 0.79036898590968896 )\n",
       "\n"
      ]
     },
     "metadata": {},
     "output_type": "display_data"
    },
    {
     "name": "stderr",
     "output_type": "stream",
     "text": [
      "\u001b[36m\u001b[1m[ \u001b[22m\u001b[39m\u001b[36m\u001b[1mInfo: \u001b[22m\u001b[39mTargeting ϕ=0.790165658058971\n",
      "\u001b[32mProgress: 100%|█████████████████████████████████████████| Time: 0:00:44\u001b[39m\n"
     ]
    },
    {
     "data": {
      "text/plain": [
       "Results of univariate zero finding:\n",
       "\n",
       "* Converged to: 0.9523796538073346\n",
       "* Algorithm: Bisection()\n",
       "* iterations: 10\n",
       "* function evaluations ≈ 13\n",
       "\n",
       "Trace:\n",
       "(a₀, b₀) = ( 0.89513282902948543, 1 )\n",
       "(a₁, b₁) = ( 0.94756641451474266, 1 )\n",
       "(a₂, b₂) = ( 0.94756641451474266, 0.97378320725737133 )\n",
       "(a₃, b₃) = ( 0.94756641451474266, 0.960674810886057 )\n",
       "(a₄, b₄) = ( 0.94756641451474266, 0.95412061270039983 )\n",
       "(a₅, b₅) = ( 0.95084351360757124, 0.95412061270039983 )\n",
       "(a₆, b₆) = ( 0.95084351360757124, 0.95248206315398554 )\n",
       "(a₇, b₇) = ( 0.95166278838077834, 0.95248206315398554 )\n",
       "(a₈, b₈) = ( 0.95207242576738194, 0.95248206315398554 )\n",
       "(a₉, b₉) = ( 0.95227724446068374, 0.95248206315398554 )\n",
       "(a₁₀, b₁₀) = ( 0.95227724446068374, 0.95237965380733458 )\n",
       "\n"
      ]
     },
     "metadata": {},
     "output_type": "display_data"
    },
    {
     "name": "stderr",
     "output_type": "stream",
     "text": [
      "\u001b[36m\u001b[1m[ \u001b[22m\u001b[39m\u001b[36m\u001b[1mInfo: \u001b[22m\u001b[39mTargeting ϕ=0.9523796538073346\n",
      "\u001b[32mProgress: 100%|█████████████████████████████████████████| Time: 0:00:44\u001b[39m\n",
      "\u001b[36m\u001b[1m[ \u001b[22m\u001b[39m\u001b[36m\u001b[1mInfo: \u001b[22m\u001b[39mϕ=1, PSIS\n"
     ]
    }
   ],
   "source": [
    "Random.seed!(1)\n",
    "RUN_aSMC && run(chain, SMCS_M5; k̂_threshold=0.9, save_bool=true);"
   ]
  },
  {
   "cell_type": "code",
   "execution_count": 35,
   "id": "75a68993-3e82-4e46-b400-e59567cf004e",
   "metadata": {
    "scrolled": true
   },
   "outputs": [
    {
     "name": "stderr",
     "output_type": "stream",
     "text": [
      "\u001b[36m\u001b[1m[ \u001b[22m\u001b[39m\u001b[36m\u001b[1mInfo: \u001b[22m\u001b[39mFold: 1\n"
     ]
    },
    {
     "data": {
      "text/plain": [
       "Results of univariate zero finding:\n",
       "\n",
       "* Converged to: 0.2769941406249999\n",
       "* Algorithm: Bisection()\n",
       "* iterations: 10\n",
       "* function evaluations ≈ 13\n",
       "\n",
       "Trace:\n",
       "(a₀, b₀) = ( 0.010306249999999999, 1 )\n",
       "(a₁, b₁) = ( 0.103725, 1 )\n",
       "(a₂, b₂) = ( 0.103725, 0.33244999999999997 )\n",
       "(a₃, b₃) = ( 0.18683749999999999, 0.33244999999999997 )\n",
       "(a₄, b₄) = ( 0.23903124999999997, 0.33244999999999997 )\n",
       "(a₅, b₅) = ( 0.23903124999999997, 0.28025624999999993 )\n",
       "(a₆, b₆) = ( 0.25415937499999991, 0.28025624999999993 )\n",
       "(a₇, b₇) = ( 0.26720781249999992, 0.28025624999999993 )\n",
       "(a₈, b₈) = ( 0.2737320312499999, 0.28025624999999993 )\n",
       "(a₉, b₉) = ( 0.2737320312499999, 0.27699414062499988 )\n",
       "(a₁₀, b₁₀) = ( 0.27536308593749986, 0.27699414062499988 )\n",
       "\n"
      ]
     },
     "metadata": {},
     "output_type": "display_data"
    },
    {
     "name": "stderr",
     "output_type": "stream",
     "text": [
      "\u001b[36m\u001b[1m[ \u001b[22m\u001b[39m\u001b[36m\u001b[1mInfo: \u001b[22m\u001b[39mTargeting ϕ=0.2769941406249999\n",
      "\u001b[32mProgress: 100%|█████████████████████████████████████████| Time: 0:00:45\u001b[39m\n"
     ]
    },
    {
     "data": {
      "text/plain": [
       "Results of univariate zero finding:\n",
       "\n",
       "* Converged to: 0.4703667013168333\n",
       "* Algorithm: Bisection()\n",
       "* iterations: 10\n",
       "* function evaluations ≈ 13\n",
       "\n",
       "Trace:\n",
       "(a₀, b₀) = ( 0.27709414062499987, 0.52709414062499982 )\n",
       "(a₁, b₁) = ( 0.39532060546874986, 0.52709414062499982 )\n",
       "(a₂, b₂) = ( 0.45443383789062486, 0.52709414062499982 )\n",
       "(a₃, b₃) = ( 0.45443383789062486, 0.48399045410156238 )\n",
       "(a₄, b₄) = ( 0.46921214599609362, 0.48399045410156238 )\n",
       "(a₅, b₅) = ( 0.46921214599609362, 0.476601300048828 )\n",
       "(a₆, b₆) = ( 0.46921214599609362, 0.47290672302246078 )\n",
       "(a₇, b₇) = ( 0.46921214599609362, 0.47105943450927718 )\n",
       "(a₈, b₈) = ( 0.47013579025268537, 0.47105943450927718 )\n",
       "(a₉, b₉) = ( 0.47013579025268537, 0.47059761238098125 )\n",
       "(a₁₀, b₁₀) = ( 0.47013579025268537, 0.47036670131683328 )\n",
       "\n"
      ]
     },
     "metadata": {},
     "output_type": "display_data"
    },
    {
     "name": "stderr",
     "output_type": "stream",
     "text": [
      "\u001b[36m\u001b[1m[ \u001b[22m\u001b[39m\u001b[36m\u001b[1mInfo: \u001b[22m\u001b[39mTargeting ϕ=0.4703667013168333\n",
      "\u001b[32mProgress: 100%|█████████████████████████████████████████| Time: 0:00:45\u001b[39m\n"
     ]
    },
    {
     "data": {
      "text/plain": [
       "Results of univariate zero finding:\n",
       "\n",
       "* Converged to: 0.6429398880101735\n",
       "* Algorithm: Bisection()\n",
       "* iterations: 10\n",
       "* function evaluations ≈ 13\n",
       "\n",
       "Trace:\n",
       "(a₀, b₀) = ( 0.47046670131683327, 0.72046670131683321 )\n",
       "(a₁, b₁) = ( 0.58070005197524988, 0.72046670131683321 )\n",
       "(a₂, b₂) = ( 0.58070005197524988, 0.65058337664604149 )\n",
       "(a₃, b₃) = ( 0.61564171431064563, 0.65058337664604149 )\n",
       "(a₄, b₄) = ( 0.6331125454783435, 0.65058337664604149 )\n",
       "(a₅, b₅) = ( 0.64184796106219244, 0.65058337664604149 )\n",
       "(a₆, b₆) = ( 0.64184796106219244, 0.64621566885411696 )\n",
       "(a₇, b₇) = ( 0.64184796106219244, 0.64403181495815465 )\n",
       "(a₈, b₈) = ( 0.64184796106219244, 0.64293988801017354 )\n",
       "(a₉, b₉) = ( 0.64239392453618294, 0.64293988801017354 )\n",
       "(a₁₀, b₁₀) = ( 0.64266690627317824, 0.64293988801017354 )\n",
       "\n"
      ]
     },
     "metadata": {},
     "output_type": "display_data"
    },
    {
     "name": "stderr",
     "output_type": "stream",
     "text": [
      "\u001b[36m\u001b[1m[ \u001b[22m\u001b[39m\u001b[36m\u001b[1mInfo: \u001b[22m\u001b[39mTargeting ϕ=0.6429398880101735\n",
      "\u001b[32mProgress: 100%|█████████████████████████████████████████| Time: 0:00:44\u001b[39m\n"
     ]
    },
    {
     "data": {
      "text/plain": [
       "Results of univariate zero finding:\n",
       "\n",
       "* Converged to: 0.7746340699204853\n",
       "* Algorithm: Bisection()\n",
       "* iterations: 10\n",
       "* function evaluations ≈ 13\n",
       "\n",
       "Trace:\n",
       "(a₀, b₀) = ( 0.64303988801017353, 0.82151994400508677 )\n",
       "(a₁, b₁) = ( 0.73227991600763009, 0.82151994400508677 )\n",
       "(a₂, b₂) = ( 0.73227991600763009, 0.77689993000635837 )\n",
       "(a₃, b₃) = ( 0.75458992300699423, 0.77689993000635837 )\n",
       "(a₄, b₄) = ( 0.76574492650667625, 0.77689993000635837 )\n",
       "(a₅, b₅) = ( 0.77132242825651731, 0.77689993000635837 )\n",
       "(a₆, b₆) = ( 0.77411117913143779, 0.77689993000635837 )\n",
       "(a₇, b₇) = ( 0.77411117913143779, 0.77550555456889803 )\n",
       "(a₈, b₈) = ( 0.77411117913143779, 0.77480836685016785 )\n",
       "(a₉, b₉) = ( 0.77445977299080282, 0.77480836685016785 )\n",
       "(a₁₀, b₁₀) = ( 0.77445977299080282, 0.77463406992048534 )\n",
       "\n"
      ]
     },
     "metadata": {},
     "output_type": "display_data"
    },
    {
     "name": "stderr",
     "output_type": "stream",
     "text": [
      "\u001b[36m\u001b[1m[ \u001b[22m\u001b[39m\u001b[36m\u001b[1mInfo: \u001b[22m\u001b[39mTargeting ϕ=0.7746340699204853\n",
      "\u001b[32mProgress: 100%|█████████████████████████████████████████| Time: 0:00:45\u001b[39m\n"
     ]
    },
    {
     "data": {
      "text/plain": [
       "Results of univariate zero finding:\n",
       "\n",
       "* Converged to: 0.8729579349405079\n",
       "* Algorithm: Bisection()\n",
       "* iterations: 10\n",
       "* function evaluations ≈ 13\n",
       "\n",
       "Trace:\n",
       "(a₀, b₀) = ( 0.77473406992048532, 0.88736703496024261 )\n",
       "(a₁, b₁) = ( 0.83105055244036397, 0.88736703496024261 )\n",
       "(a₂, b₂) = ( 0.85920879370030323, 0.88736703496024261 )\n",
       "(a₃, b₃) = ( 0.85920879370030323, 0.87328791433027286 )\n",
       "(a₄, b₄) = ( 0.86624835401528799, 0.87328791433027286 )\n",
       "(a₅, b₅) = ( 0.86976813417278043, 0.87328791433027286 )\n",
       "(a₆, b₆) = ( 0.87152802425152665, 0.87328791433027286 )\n",
       "(a₇, b₇) = ( 0.8724079692908997, 0.87328791433027286 )\n",
       "(a₈, b₈) = ( 0.87284794181058623, 0.87328791433027286 )\n",
       "(a₉, b₉) = ( 0.87284794181058623, 0.87306792807042954 )\n",
       "(a₁₀, b₁₀) = ( 0.87295793494050788, 0.87306792807042954 )\n",
       "\n"
      ]
     },
     "metadata": {},
     "output_type": "display_data"
    },
    {
     "name": "stderr",
     "output_type": "stream",
     "text": [
      "\u001b[36m\u001b[1m[ \u001b[22m\u001b[39m\u001b[36m\u001b[1mInfo: \u001b[22m\u001b[39mTargeting ϕ=0.8729579349405079\n",
      "\u001b[32mProgress: 100%|█████████████████████████████████████████| Time: 0:00:45\u001b[39m\n"
     ]
    },
    {
     "data": {
      "text/plain": [
       "Results of univariate zero finding:\n",
       "\n",
       "* Converged to: 0.953946311357811\n",
       "* Algorithm: Bisection()\n",
       "* iterations: 10\n",
       "* function evaluations ≈ 13\n",
       "\n",
       "Trace:\n",
       "(a₀, b₀) = ( 0.93652896747025394, 1 )\n",
       "(a₁, b₁) = ( 0.93652896747025394, 0.96826448373512697 )\n",
       "(a₂, b₂) = ( 0.9523967256026904, 0.96826448373512697 )\n",
       "(a₃, b₃) = ( 0.9523967256026904, 0.96033060466890863 )\n",
       "(a₄, b₄) = ( 0.9523967256026904, 0.95636366513579951 )\n",
       "(a₅, b₅) = ( 0.9523967256026904, 0.9543801953692449 )\n",
       "(a₆, b₆) = ( 0.95338846048596759, 0.9543801953692449 )\n",
       "(a₇, b₇) = ( 0.95388432792760625, 0.9543801953692449 )\n",
       "(a₈, b₈) = ( 0.95388432792760625, 0.95413226164842557 )\n",
       "(a₉, b₉) = ( 0.95388432792760625, 0.95400829478801585 )\n",
       "(a₁₀, b₁₀) = ( 0.95388432792760625, 0.95394631135781105 )\n",
       "\n"
      ]
     },
     "metadata": {},
     "output_type": "display_data"
    },
    {
     "name": "stderr",
     "output_type": "stream",
     "text": [
      "\u001b[36m\u001b[1m[ \u001b[22m\u001b[39m\u001b[36m\u001b[1mInfo: \u001b[22m\u001b[39mTargeting ϕ=0.953946311357811\n",
      "\u001b[32mProgress: 100%|█████████████████████████████████████████| Time: 0:00:44\u001b[39m\n",
      "\u001b[36m\u001b[1m[ \u001b[22m\u001b[39m\u001b[36m\u001b[1mInfo: \u001b[22m\u001b[39mϕ=1, PSIS\n",
      "\u001b[36m\u001b[1m[ \u001b[22m\u001b[39m\u001b[36m\u001b[1mInfo: \u001b[22m\u001b[39mFold: 2\n"
     ]
    },
    {
     "data": {
      "text/plain": [
       "Results of univariate zero finding:\n",
       "\n",
       "* Converged to: 0.3960611328124999\n",
       "* Algorithm: Bisection()\n",
       "* iterations: 10\n",
       "* function evaluations ≈ 13\n",
       "\n",
       "Trace:\n",
       "(a₀, b₀) = ( 0.010306249999999999, 1 )\n",
       "(a₁, b₁) = ( 0.103725, 1 )\n",
       "(a₂, b₂) = ( 0.33244999999999997, 1 )\n",
       "(a₃, b₃) = ( 0.33244999999999997, 0.58244999999999991 )\n",
       "(a₄, b₄) = ( 0.33244999999999997, 0.43683749999999993 )\n",
       "(a₅, b₅) = ( 0.38464374999999995, 0.43683749999999993 )\n",
       "(a₆, b₆) = ( 0.38464374999999995, 0.41074062499999991 )\n",
       "(a₇, b₇) = ( 0.38464374999999995, 0.39769218749999991 )\n",
       "(a₈, b₈) = ( 0.39116796874999993, 0.39769218749999991 )\n",
       "(a₉, b₉) = ( 0.39443007812499992, 0.39769218749999991 )\n",
       "(a₁₀, b₁₀) = ( 0.39443007812499992, 0.39606113281249988 )\n",
       "\n"
      ]
     },
     "metadata": {},
     "output_type": "display_data"
    },
    {
     "name": "stderr",
     "output_type": "stream",
     "text": [
      "\u001b[36m\u001b[1m[ \u001b[22m\u001b[39m\u001b[36m\u001b[1mInfo: \u001b[22m\u001b[39mTargeting ϕ=0.3960611328124999\n",
      "\u001b[32mProgress: 100%|█████████████████████████████████████████| Time: 0:00:45\u001b[39m\n"
     ]
    },
    {
     "data": {
      "text/plain": [
       "Results of univariate zero finding:\n",
       "\n",
       "* Converged to: 0.7905992641448972\n",
       "* Algorithm: Bisection()\n",
       "* iterations: 10\n",
       "* function evaluations ≈ 13\n",
       "\n",
       "Trace:\n",
       "(a₀, b₀) = ( 0.64616113281249987, 1 )\n",
       "(a₁, b₁) = ( 0.64616113281249987, 0.82308056640624994 )\n",
       "(a₂, b₂) = ( 0.7346208496093749, 0.82308056640624994 )\n",
       "(a₃, b₃) = ( 0.77885070800781242, 0.82308056640624994 )\n",
       "(a₄, b₄) = ( 0.77885070800781242, 0.80096563720703118 )\n",
       "(a₅, b₅) = ( 0.78990817260742174, 0.80096563720703118 )\n",
       "(a₆, b₆) = ( 0.78990817260742174, 0.79543690490722641 )\n",
       "(a₇, b₇) = ( 0.78990817260742174, 0.79267253875732402 )\n",
       "(a₈, b₈) = ( 0.78990817260742174, 0.79129035568237283 )\n",
       "(a₉, b₉) = ( 0.79059926414489723, 0.79129035568237283 )\n",
       "(a₁₀, b₁₀) = ( 0.79059926414489723, 0.79094480991363503 )\n",
       "\n"
      ]
     },
     "metadata": {},
     "output_type": "display_data"
    },
    {
     "name": "stderr",
     "output_type": "stream",
     "text": [
      "\u001b[36m\u001b[1m[ \u001b[22m\u001b[39m\u001b[36m\u001b[1mInfo: \u001b[22m\u001b[39mTargeting ϕ=0.7905992641448972\n",
      "\u001b[32mProgress: 100%|█████████████████████████████████████████| Time: 0:00:45\u001b[39m\n",
      "\u001b[36m\u001b[1m[ \u001b[22m\u001b[39m\u001b[36m\u001b[1mInfo: \u001b[22m\u001b[39mϕ=1, PSIS\n",
      "\u001b[36m\u001b[1m[ \u001b[22m\u001b[39m\u001b[36m\u001b[1mInfo: \u001b[22m\u001b[39mFold: 3\n"
     ]
    },
    {
     "data": {
      "text/plain": [
       "Results of univariate zero finding:\n",
       "\n",
       "* Converged to: 0.6868374999999999\n",
       "* Algorithm: Bisection()\n",
       "* iterations: 10\n",
       "* function evaluations ≈ 13\n",
       "\n",
       "Trace:\n",
       "(a₀, b₀) = ( 0.010306249999999999, 1 )\n",
       "(a₁, b₁) = ( 0.103725, 1 )\n",
       "(a₂, b₂) = ( 0.33244999999999997, 1 )\n",
       "(a₃, b₃) = ( 0.58244999999999991, 1 )\n",
       "(a₄, b₄) = ( 0.58244999999999991, 0.79122499999999996 )\n",
       "(a₅, b₅) = ( 0.68683749999999988, 0.79122499999999996 )\n",
       "(a₆, b₆) = ( 0.68683749999999988, 0.73903124999999992 )\n",
       "(a₇, b₇) = ( 0.68683749999999988, 0.7129343749999999 )\n",
       "(a₈, b₈) = ( 0.68683749999999988, 0.69988593749999983 )\n",
       "(a₉, b₉) = ( 0.68683749999999988, 0.69336171874999986 )\n",
       "(a₁₀, b₁₀) = ( 0.68683749999999988, 0.69009960937499981 )\n",
       "\n"
      ]
     },
     "metadata": {},
     "output_type": "display_data"
    },
    {
     "name": "stderr",
     "output_type": "stream",
     "text": [
      "\u001b[36m\u001b[1m[ \u001b[22m\u001b[39m\u001b[36m\u001b[1mInfo: \u001b[22m\u001b[39mTargeting ϕ=0.6868374999999999\n",
      "\u001b[32mProgress: 100%|█████████████████████████████████████████| Time: 0:00:45\u001b[39m\n",
      "\u001b[36m\u001b[1m[ \u001b[22m\u001b[39m\u001b[36m\u001b[1mInfo: \u001b[22m\u001b[39mϕ=1, PSIS\n",
      "\u001b[36m\u001b[1m[ \u001b[22m\u001b[39m\u001b[36m\u001b[1mInfo: \u001b[22m\u001b[39mFold: 4\n"
     ]
    },
    {
     "data": {
      "text/plain": [
       "Results of univariate zero finding:\n",
       "\n",
       "* Converged to: 0.30635312499999995\n",
       "* Algorithm: Bisection()\n",
       "* iterations: 10\n",
       "* function evaluations ≈ 13\n",
       "\n",
       "Trace:\n",
       "(a₀, b₀) = ( 0.010306249999999999, 1 )\n",
       "(a₁, b₁) = ( 0.103725, 1 )\n",
       "(a₂, b₂) = ( 0.103725, 0.33244999999999997 )\n",
       "(a₃, b₃) = ( 0.18683749999999999, 0.33244999999999997 )\n",
       "(a₄, b₄) = ( 0.23903124999999997, 0.33244999999999997 )\n",
       "(a₅, b₅) = ( 0.28025624999999993, 0.33244999999999997 )\n",
       "(a₆, b₆) = ( 0.28025624999999993, 0.30635312499999995 )\n",
       "(a₇, b₇) = ( 0.29330468749999994, 0.30635312499999995 )\n",
       "(a₈, b₈) = ( 0.29982890624999992, 0.30635312499999995 )\n",
       "(a₉, b₉) = ( 0.3030910156249999, 0.30635312499999995 )\n",
       "(a₁₀, b₁₀) = ( 0.30472207031249993, 0.30635312499999995 )\n",
       "\n"
      ]
     },
     "metadata": {},
     "output_type": "display_data"
    },
    {
     "name": "stderr",
     "output_type": "stream",
     "text": [
      "\u001b[36m\u001b[1m[ \u001b[22m\u001b[39m\u001b[36m\u001b[1mInfo: \u001b[22m\u001b[39mTargeting ϕ=0.30635312499999995\n",
      "\u001b[32mProgress: 100%|█████████████████████████████████████████| Time: 0:00:45\u001b[39m\n"
     ]
    },
    {
     "data": {
      "text/plain": [
       "Results of univariate zero finding:\n",
       "\n",
       "* Converged to: 0.5486564025878904\n",
       "* Algorithm: Bisection()\n",
       "* iterations: 10\n",
       "* function evaluations ≈ 13\n",
       "\n",
       "Trace:\n",
       "(a₀, b₀) = ( 0.30645312499999994, 0.55645312499999988 )\n",
       "(a₁, b₁) = ( 0.41733984374999994, 0.55645312499999988 )\n",
       "(a₂, b₂) = ( 0.47278320312499994, 0.55645312499999988 )\n",
       "(a₃, b₃) = ( 0.50100976562499988, 0.55645312499999988 )\n",
       "(a₄, b₄) = ( 0.52873144531249983, 0.55645312499999988 )\n",
       "(a₅, b₅) = ( 0.5425922851562498, 0.55645312499999988 )\n",
       "(a₆, b₆) = ( 0.5425922851562498, 0.54952270507812484 )\n",
       "(a₇, b₇) = ( 0.54605749511718726, 0.54952270507812484 )\n",
       "(a₈, b₈) = ( 0.54779010009765605, 0.54952270507812484 )\n",
       "(a₉, b₉) = ( 0.54779010009765605, 0.54865640258789039 )\n",
       "(a₁₀, b₁₀) = ( 0.54822325134277317, 0.54865640258789039 )\n",
       "\n"
      ]
     },
     "metadata": {},
     "output_type": "display_data"
    },
    {
     "name": "stderr",
     "output_type": "stream",
     "text": [
      "\u001b[36m\u001b[1m[ \u001b[22m\u001b[39m\u001b[36m\u001b[1mInfo: \u001b[22m\u001b[39mTargeting ϕ=0.5486564025878904\n",
      "\u001b[32mProgress: 100%|█████████████████████████████████████████| Time: 0:00:45\u001b[39m\n"
     ]
    },
    {
     "data": {
      "text/plain": [
       "Results of univariate zero finding:\n",
       "\n",
       "* Converged to: 0.7439721385776994\n",
       "* Algorithm: Bisection()\n",
       "* iterations: 10\n",
       "* function evaluations ≈ 13\n",
       "\n",
       "Trace:\n",
       "(a₀, b₀) = ( 0.54875640258789038, 0.77437820129394519 )\n",
       "(a₁, b₁) = ( 0.66156730194091773, 0.77437820129394519 )\n",
       "(a₂, b₂) = ( 0.71797275161743146, 0.77437820129394519 )\n",
       "(a₃, b₃) = ( 0.71797275161743146, 0.74617547645568827 )\n",
       "(a₄, b₄) = ( 0.73207411403655986, 0.74617547645568827 )\n",
       "(a₅, b₅) = ( 0.73912479524612407, 0.74617547645568827 )\n",
       "(a₆, b₆) = ( 0.74265013585090611, 0.74617547645568827 )\n",
       "(a₇, b₇) = ( 0.74265013585090611, 0.74441280615329719 )\n",
       "(a₈, b₈) = ( 0.7435314710021016, 0.74441280615329719 )\n",
       "(a₉, b₉) = ( 0.7435314710021016, 0.74397213857769939 )\n",
       "(a₁₀, b₁₀) = ( 0.74375180478990044, 0.74397213857769939 )\n",
       "\n"
      ]
     },
     "metadata": {},
     "output_type": "display_data"
    },
    {
     "name": "stderr",
     "output_type": "stream",
     "text": [
      "\u001b[36m\u001b[1m[ \u001b[22m\u001b[39m\u001b[36m\u001b[1mInfo: \u001b[22m\u001b[39mTargeting ϕ=0.7439721385776994\n",
      "\u001b[32mProgress: 100%|█████████████████████████████████████████| Time: 0:00:45\u001b[39m\n"
     ]
    },
    {
     "data": {
      "text/plain": [
       "Results of univariate zero finding:\n",
       "\n",
       "* Converged to: 0.8894061731646795\n",
       "* Algorithm: Bisection()\n",
       "* iterations: 10\n",
       "* function evaluations ≈ 13\n",
       "\n",
       "Trace:\n",
       "(a₀, b₀) = ( 0.87203606928884969, 1 )\n",
       "(a₁, b₁) = ( 0.87203606928884969, 0.93601803464442479 )\n",
       "(a₂, b₂) = ( 0.87203606928884969, 0.90402705196663724 )\n",
       "(a₃, b₃) = ( 0.88803156062774347, 0.90402705196663724 )\n",
       "(a₄, b₄) = ( 0.88803156062774347, 0.89602930629719035 )\n",
       "(a₅, b₅) = ( 0.88803156062774347, 0.89203043346246691 )\n",
       "(a₆, b₆) = ( 0.88803156062774347, 0.89003099704510513 )\n",
       "(a₇, b₇) = ( 0.8890312788364243, 0.89003099704510513 )\n",
       "(a₈, b₈) = ( 0.8890312788364243, 0.88953113794076466 )\n",
       "(a₉, b₉) = ( 0.88928120838859448, 0.88953113794076466 )\n",
       "(a₁₀, b₁₀) = ( 0.88928120838859448, 0.88940617316467951 )\n",
       "\n"
      ]
     },
     "metadata": {},
     "output_type": "display_data"
    },
    {
     "name": "stderr",
     "output_type": "stream",
     "text": [
      "\u001b[36m\u001b[1m[ \u001b[22m\u001b[39m\u001b[36m\u001b[1mInfo: \u001b[22m\u001b[39mTargeting ϕ=0.8894061731646795\n",
      "\u001b[32mProgress: 100%|█████████████████████████████████████████| Time: 0:00:46\u001b[39m\n",
      "\u001b[36m\u001b[1m[ \u001b[22m\u001b[39m\u001b[36m\u001b[1mInfo: \u001b[22m\u001b[39mϕ=1, PSIS\n",
      "\u001b[36m\u001b[1m[ \u001b[22m\u001b[39m\u001b[36m\u001b[1mInfo: \u001b[22m\u001b[39mFold: 5\n"
     ]
    },
    {
     "data": {
      "text/plain": [
       "Results of univariate zero finding:\n",
       "\n",
       "* Converged to: 0.6248574218749997\n",
       "* Algorithm: Bisection()\n",
       "* iterations: 10\n",
       "* function evaluations ≈ 13\n",
       "\n",
       "Trace:\n",
       "(a₀, b₀) = ( 0.010306249999999999, 1 )\n",
       "(a₁, b₁) = ( 0.103725, 1 )\n",
       "(a₂, b₂) = ( 0.33244999999999997, 1 )\n",
       "(a₃, b₃) = ( 0.58244999999999991, 1 )\n",
       "(a₄, b₄) = ( 0.58244999999999991, 0.79122499999999996 )\n",
       "(a₅, b₅) = ( 0.58244999999999991, 0.68683749999999988 )\n",
       "(a₆, b₆) = ( 0.58244999999999991, 0.63464374999999984 )\n",
       "(a₇, b₇) = ( 0.60854687499999982, 0.63464374999999984 )\n",
       "(a₈, b₈) = ( 0.62159531249999977, 0.63464374999999984 )\n",
       "(a₉, b₉) = ( 0.62159531249999977, 0.62811953124999975 )\n",
       "(a₁₀, b₁₀) = ( 0.62159531249999977, 0.62485742187499971 )\n",
       "\n"
      ]
     },
     "metadata": {},
     "output_type": "display_data"
    },
    {
     "name": "stderr",
     "output_type": "stream",
     "text": [
      "\u001b[36m\u001b[1m[ \u001b[22m\u001b[39m\u001b[36m\u001b[1mInfo: \u001b[22m\u001b[39mTargeting ϕ=0.6248574218749997\n",
      "\u001b[32mProgress: 100%|█████████████████████████████████████████| Time: 0:00:44\u001b[39m\n",
      "\u001b[36m\u001b[1m[ \u001b[22m\u001b[39m\u001b[36m\u001b[1mInfo: \u001b[22m\u001b[39mϕ=1, PSIS\n",
      "\u001b[36m\u001b[1m[ \u001b[22m\u001b[39m\u001b[36m\u001b[1mInfo: \u001b[22m\u001b[39mFold: 6\n"
     ]
    },
    {
     "data": {
      "text/plain": [
       "Results of univariate zero finding:\n",
       "\n",
       "* Converged to: 0.3128773437499999\n",
       "* Algorithm: Bisection()\n",
       "* iterations: 10\n",
       "* function evaluations ≈ 13\n",
       "\n",
       "Trace:\n",
       "(a₀, b₀) = ( 0.010306249999999999, 1 )\n",
       "(a₁, b₁) = ( 0.103725, 1 )\n",
       "(a₂, b₂) = ( 0.103725, 0.33244999999999997 )\n",
       "(a₃, b₃) = ( 0.18683749999999999, 0.33244999999999997 )\n",
       "(a₄, b₄) = ( 0.23903124999999997, 0.33244999999999997 )\n",
       "(a₅, b₅) = ( 0.28025624999999993, 0.33244999999999997 )\n",
       "(a₆, b₆) = ( 0.30635312499999995, 0.33244999999999997 )\n",
       "(a₇, b₇) = ( 0.30635312499999995, 0.31940156249999996 )\n",
       "(a₈, b₈) = ( 0.30635312499999995, 0.31287734374999993 )\n",
       "(a₉, b₉) = ( 0.30961523437499994, 0.31287734374999993 )\n",
       "(a₁₀, b₁₀) = ( 0.3112462890624999, 0.31287734374999993 )\n",
       "\n"
      ]
     },
     "metadata": {},
     "output_type": "display_data"
    },
    {
     "name": "stderr",
     "output_type": "stream",
     "text": [
      "\u001b[36m\u001b[1m[ \u001b[22m\u001b[39m\u001b[36m\u001b[1mInfo: \u001b[22m\u001b[39mTargeting ϕ=0.3128773437499999\n",
      "\u001b[32mProgress: 100%|█████████████████████████████████████████| Time: 0:00:45\u001b[39m\n"
     ]
    },
    {
     "data": {
      "text/plain": [
       "Results of univariate zero finding:\n",
       "\n",
       "* Converged to: 0.6124838165283201\n",
       "* Algorithm: Bisection()\n",
       "* iterations: 10\n",
       "* function evaluations ≈ 13\n",
       "\n",
       "Trace:\n",
       "(a₀, b₀) = ( 0.56297734374999986, 1 )\n",
       "(a₁, b₁) = ( 0.56297734374999986, 0.78148867187499993 )\n",
       "(a₂, b₂) = ( 0.56297734374999986, 0.67223300781249984 )\n",
       "(a₃, b₃) = ( 0.56297734374999986, 0.61760517578124985 )\n",
       "(a₄, b₄) = ( 0.5902912597656248, 0.61760517578124985 )\n",
       "(a₅, b₅) = ( 0.60394821777343732, 0.61760517578124985 )\n",
       "(a₆, b₆) = ( 0.61077669677734359, 0.61760517578124985 )\n",
       "(a₇, b₇) = ( 0.61077669677734359, 0.61419093627929666 )\n",
       "(a₈, b₈) = ( 0.61077669677734359, 0.61248381652832007 )\n",
       "(a₉, b₉) = ( 0.61163025665283177, 0.61248381652832007 )\n",
       "(a₁₀, b₁₀) = ( 0.61205703659057586, 0.61248381652832007 )\n",
       "\n"
      ]
     },
     "metadata": {},
     "output_type": "display_data"
    },
    {
     "name": "stderr",
     "output_type": "stream",
     "text": [
      "\u001b[36m\u001b[1m[ \u001b[22m\u001b[39m\u001b[36m\u001b[1mInfo: \u001b[22m\u001b[39mTargeting ϕ=0.6124838165283201\n",
      "\u001b[32mProgress: 100%|█████████████████████████████████████████| Time: 0:00:44\u001b[39m\n"
     ]
    },
    {
     "data": {
      "text/plain": [
       "Results of univariate zero finding:\n",
       "\n",
       "* Converged to: 0.8558539395481345\n",
       "* Algorithm: Bisection()\n",
       "* iterations: 10\n",
       "* function evaluations ≈ 13\n",
       "\n",
       "Trace:\n",
       "(a₀, b₀) = ( 0.80629190826415997, 1 )\n",
       "(a₁, b₁) = ( 0.80629190826415997, 0.90314595413207999 )\n",
       "(a₂, b₂) = ( 0.85471893119811992, 0.90314595413207999 )\n",
       "(a₃, b₃) = ( 0.85471893119811992, 0.87893244266509996 )\n",
       "(a₄, b₄) = ( 0.85471893119811992, 0.86682568693160988 )\n",
       "(a₅, b₅) = ( 0.85471893119811992, 0.8607723090648649 )\n",
       "(a₆, b₆) = ( 0.85471893119811992, 0.85774562013149236 )\n",
       "(a₇, b₇) = ( 0.85471893119811992, 0.85623227566480609 )\n",
       "(a₈, b₈) = ( 0.85547560343146301, 0.85623227566480609 )\n",
       "(a₉, b₉) = ( 0.85547560343146301, 0.85585393954813449 )\n",
       "(a₁₀, b₁₀) = ( 0.85566477148979869, 0.85585393954813449 )\n",
       "\n"
      ]
     },
     "metadata": {},
     "output_type": "display_data"
    },
    {
     "name": "stderr",
     "output_type": "stream",
     "text": [
      "\u001b[36m\u001b[1m[ \u001b[22m\u001b[39m\u001b[36m\u001b[1mInfo: \u001b[22m\u001b[39mTargeting ϕ=0.8558539395481345\n",
      "\u001b[32mProgress: 100%|█████████████████████████████████████████| Time: 0:00:44\u001b[39m\n",
      "\u001b[36m\u001b[1m[ \u001b[22m\u001b[39m\u001b[36m\u001b[1mInfo: \u001b[22m\u001b[39mϕ=1, PSIS\n",
      "\u001b[36m\u001b[1m[ \u001b[22m\u001b[39m\u001b[36m\u001b[1mInfo: \u001b[22m\u001b[39mFold: 7\n"
     ]
    },
    {
     "data": {
      "text/plain": [
       "Results of univariate zero finding:\n",
       "\n",
       "* Converged to: 0.5824499999999999\n",
       "* Algorithm: Bisection()\n",
       "* iterations: 10\n",
       "* function evaluations ≈ 13\n",
       "\n",
       "Trace:\n",
       "(a₀, b₀) = ( 0.010306249999999999, 1 )\n",
       "(a₁, b₁) = ( 0.103725, 1 )\n",
       "(a₂, b₂) = ( 0.33244999999999997, 1 )\n",
       "(a₃, b₃) = ( 0.33244999999999997, 0.58244999999999991 )\n",
       "(a₄, b₄) = ( 0.43683749999999993, 0.58244999999999991 )\n",
       "(a₅, b₅) = ( 0.48903124999999992, 0.58244999999999991 )\n",
       "(a₆, b₆) = ( 0.53025624999999987, 0.58244999999999991 )\n",
       "(a₇, b₇) = ( 0.55635312499999989, 0.58244999999999991 )\n",
       "(a₈, b₈) = ( 0.56940156249999985, 0.58244999999999991 )\n",
       "(a₉, b₉) = ( 0.57592578124999982, 0.58244999999999991 )\n",
       "(a₁₀, b₁₀) = ( 0.57918789062499987, 0.58244999999999991 )\n",
       "\n"
      ]
     },
     "metadata": {},
     "output_type": "display_data"
    },
    {
     "name": "stderr",
     "output_type": "stream",
     "text": [
      "\u001b[36m\u001b[1m[ \u001b[22m\u001b[39m\u001b[36m\u001b[1mInfo: \u001b[22m\u001b[39mTargeting ϕ=0.5824499999999999\n",
      "\u001b[32mProgress: 100%|█████████████████████████████████████████| Time: 0:00:45\u001b[39m\n",
      "\u001b[36m\u001b[1m[ \u001b[22m\u001b[39m\u001b[36m\u001b[1mInfo: \u001b[22m\u001b[39mϕ=1, PSIS\n",
      "\u001b[36m\u001b[1m[ \u001b[22m\u001b[39m\u001b[36m\u001b[1mInfo: \u001b[22m\u001b[39mFold: 8\n"
     ]
    },
    {
     "data": {
      "text/plain": [
       "Results of univariate zero finding:\n",
       "\n",
       "* Converged to: 0.7357691406249999\n",
       "* Algorithm: Bisection()\n",
       "* iterations: 10\n",
       "* function evaluations ≈ 13\n",
       "\n",
       "Trace:\n",
       "(a₀, b₀) = ( 0.010306249999999999, 1 )\n",
       "(a₁, b₁) = ( 0.103725, 1 )\n",
       "(a₂, b₂) = ( 0.33244999999999997, 1 )\n",
       "(a₃, b₃) = ( 0.58244999999999991, 1 )\n",
       "(a₄, b₄) = ( 0.58244999999999991, 0.79122499999999996 )\n",
       "(a₅, b₅) = ( 0.68683749999999988, 0.79122499999999996 )\n",
       "(a₆, b₆) = ( 0.68683749999999988, 0.73903124999999992 )\n",
       "(a₇, b₇) = ( 0.7129343749999999, 0.73903124999999992 )\n",
       "(a₈, b₈) = ( 0.72598281249999985, 0.73903124999999992 )\n",
       "(a₉, b₉) = ( 0.73250703124999983, 0.73903124999999992 )\n",
       "(a₁₀, b₁₀) = ( 0.73576914062499987, 0.73903124999999992 )\n",
       "\n"
      ]
     },
     "metadata": {},
     "output_type": "display_data"
    },
    {
     "name": "stderr",
     "output_type": "stream",
     "text": [
      "\u001b[36m\u001b[1m[ \u001b[22m\u001b[39m\u001b[36m\u001b[1mInfo: \u001b[22m\u001b[39mTargeting ϕ=0.7357691406249999\n",
      "\u001b[32mProgress: 100%|█████████████████████████████████████████| Time: 0:00:44\u001b[39m\n",
      "\u001b[36m\u001b[1m[ \u001b[22m\u001b[39m\u001b[36m\u001b[1mInfo: \u001b[22m\u001b[39mϕ=1, PSIS\n",
      "\u001b[36m\u001b[1m[ \u001b[22m\u001b[39m\u001b[36m\u001b[1mInfo: \u001b[22m\u001b[39mFold: 9\n"
     ]
    },
    {
     "data": {
      "text/plain": [
       "Results of univariate zero finding:\n",
       "\n",
       "* Converged to: 0.2835183593749999\n",
       "* Algorithm: Bisection()\n",
       "* iterations: 10\n",
       "* function evaluations ≈ 13\n",
       "\n",
       "Trace:\n",
       "(a₀, b₀) = ( 0.010306249999999999, 1 )\n",
       "(a₁, b₁) = ( 0.103725, 1 )\n",
       "(a₂, b₂) = ( 0.103725, 0.33244999999999997 )\n",
       "(a₃, b₃) = ( 0.18683749999999999, 0.33244999999999997 )\n",
       "(a₄, b₄) = ( 0.23903124999999997, 0.33244999999999997 )\n",
       "(a₅, b₅) = ( 0.28025624999999993, 0.33244999999999997 )\n",
       "(a₆, b₆) = ( 0.28025624999999993, 0.30635312499999995 )\n",
       "(a₇, b₇) = ( 0.28025624999999993, 0.29330468749999994 )\n",
       "(a₈, b₈) = ( 0.28025624999999993, 0.28678046874999991 )\n",
       "(a₉, b₉) = ( 0.28025624999999993, 0.28351835937499992 )\n",
       "(a₁₀, b₁₀) = ( 0.2818873046874999, 0.28351835937499992 )\n",
       "\n"
      ]
     },
     "metadata": {},
     "output_type": "display_data"
    },
    {
     "name": "stderr",
     "output_type": "stream",
     "text": [
      "\u001b[36m\u001b[1m[ \u001b[22m\u001b[39m\u001b[36m\u001b[1mInfo: \u001b[22m\u001b[39mTargeting ϕ=0.2835183593749999\n",
      "\u001b[32mProgress: 100%|█████████████████████████████████████████| Time: 0:00:44\u001b[39m\n"
     ]
    },
    {
     "data": {
      "text/plain": [
       "Results of univariate zero finding:\n",
       "\n",
       "* Converged to: 0.5308856544494628\n",
       "* Algorithm: Bisection()\n",
       "* iterations: 10\n",
       "* function evaluations ≈ 13\n",
       "\n",
       "Trace:\n",
       "(a₀, b₀) = ( 0.28361835937499991, 0.53361835937499991 )\n",
       "(a₁, b₁) = ( 0.40021376953124993, 0.53361835937499991 )\n",
       "(a₂, b₂) = ( 0.45851147460937491, 0.53361835937499991 )\n",
       "(a₃, b₃) = ( 0.48766032714843743, 0.53361835937499991 )\n",
       "(a₄, b₄) = ( 0.50446950683593739, 0.53361835937499991 )\n",
       "(a₅, b₅) = ( 0.51904393310546859, 0.53361835937499991 )\n",
       "(a₆, b₆) = ( 0.52633114624023425, 0.53361835937499991 )\n",
       "(a₇, b₇) = ( 0.52997475280761708, 0.53361835937499991 )\n",
       "(a₈, b₈) = ( 0.52997475280761708, 0.53179655609130849 )\n",
       "(a₉, b₉) = ( 0.53088565444946278, 0.53179655609130849 )\n",
       "(a₁₀, b₁₀) = ( 0.53088565444946278, 0.53134110527038558 )\n",
       "\n"
      ]
     },
     "metadata": {},
     "output_type": "display_data"
    },
    {
     "name": "stderr",
     "output_type": "stream",
     "text": [
      "\u001b[36m\u001b[1m[ \u001b[22m\u001b[39m\u001b[36m\u001b[1mInfo: \u001b[22m\u001b[39mTargeting ϕ=0.5308856544494628\n",
      "\u001b[32mProgress: 100%|█████████████████████████████████████████| Time: 0:00:45\u001b[39m\n"
     ]
    },
    {
     "data": {
      "text/plain": [
       "Results of univariate zero finding:\n",
       "\n",
       "* Converged to: 0.7215227323293685\n",
       "* Algorithm: Bisection()\n",
       "* iterations: 10\n",
       "* function evaluations ≈ 13\n",
       "\n",
       "Trace:\n",
       "(a₀, b₀) = ( 0.53098565444946277, 0.76549282722473133 )\n",
       "(a₁, b₁) = ( 0.64823924083709705, 0.76549282722473133 )\n",
       "(a₂, b₂) = ( 0.70686603403091419, 0.76549282722473133 )\n",
       "(a₃, b₃) = ( 0.70686603403091419, 0.73617943062782276 )\n",
       "(a₄, b₄) = ( 0.70686603403091419, 0.72152273232936848 )\n",
       "(a₅, b₅) = ( 0.71419438318014128, 0.72152273232936848 )\n",
       "(a₆, b₆) = ( 0.71785855775475482, 0.72152273232936848 )\n",
       "(a₇, b₇) = ( 0.71969064504206159, 0.72152273232936848 )\n",
       "(a₈, b₈) = ( 0.72060668868571498, 0.72152273232936848 )\n",
       "(a₉, b₉) = ( 0.72106471050754173, 0.72152273232936848 )\n",
       "(a₁₀, b₁₀) = ( 0.72129372141845505, 0.72152273232936848 )\n",
       "\n"
      ]
     },
     "metadata": {},
     "output_type": "display_data"
    },
    {
     "name": "stderr",
     "output_type": "stream",
     "text": [
      "\u001b[36m\u001b[1m[ \u001b[22m\u001b[39m\u001b[36m\u001b[1mInfo: \u001b[22m\u001b[39mTargeting ϕ=0.7215227323293685\n",
      "\u001b[32mProgress: 100%|█████████████████████████████████████████| Time: 0:00:44\u001b[39m\n"
     ]
    },
    {
     "data": {
      "text/plain": [
       "Results of univariate zero finding:\n",
       "\n",
       "* Converged to: 0.8748117853883536\n",
       "* Algorithm: Bisection()\n",
       "* iterations: 10\n",
       "* function evaluations ≈ 13\n",
       "\n",
       "Trace:\n",
       "(a₀, b₀) = ( 0.86081136616468423, 1 )\n",
       "(a₁, b₁) = ( 0.86081136616468423, 0.93040568308234206 )\n",
       "(a₂, b₂) = ( 0.86081136616468423, 0.89560852462351315 )\n",
       "(a₃, b₃) = ( 0.86081136616468423, 0.87820994539409869 )\n",
       "(a₄, b₄) = ( 0.86951065577939146, 0.87820994539409869 )\n",
       "(a₅, b₅) = ( 0.87386030058674502, 0.87820994539409869 )\n",
       "(a₆, b₆) = ( 0.87386030058674502, 0.87603512299042186 )\n",
       "(a₇, b₇) = ( 0.87386030058674502, 0.87494771178858344 )\n",
       "(a₈, b₈) = ( 0.87440400618766423, 0.87494771178858344 )\n",
       "(a₉, b₉) = ( 0.87467585898812383, 0.87494771178858344 )\n",
       "(a₁₀, b₁₀) = ( 0.87467585898812383, 0.87481178538835358 )\n",
       "\n"
      ]
     },
     "metadata": {},
     "output_type": "display_data"
    },
    {
     "name": "stderr",
     "output_type": "stream",
     "text": [
      "\u001b[36m\u001b[1m[ \u001b[22m\u001b[39m\u001b[36m\u001b[1mInfo: \u001b[22m\u001b[39mTargeting ϕ=0.8748117853883536\n",
      "\u001b[32mProgress: 100%|█████████████████████████████████████████| Time: 0:00:44\u001b[39m\n"
     ]
    },
    {
     "data": {
      "text/plain": [
       "Results of univariate zero finding:\n",
       "\n",
       "* Converged to: 0.9888837621780664\n",
       "* Algorithm: Bisection()\n",
       "* iterations: 10\n",
       "* function evaluations ≈ 13\n",
       "\n",
       "Trace:\n",
       "(a₀, b₀) = ( 0.93745589269417673, 1 )\n",
       "(a₁, b₁) = ( 0.96872794634708836, 1 )\n",
       "(a₂, b₂) = ( 0.98436397317354418, 1 )\n",
       "(a₃, b₃) = ( 0.98436397317354418, 0.99218198658677204 )\n",
       "(a₄, b₄) = ( 0.98827297988015805, 0.99218198658677204 )\n",
       "(a₅, b₅) = ( 0.98827297988015805, 0.99022748323346499 )\n",
       "(a₆, b₆) = ( 0.98827297988015805, 0.98925023155681147 )\n",
       "(a₇, b₇) = ( 0.9887616057184847, 0.98925023155681147 )\n",
       "(a₈, b₈) = ( 0.9887616057184847, 0.98900591863764808 )\n",
       "(a₉, b₉) = ( 0.98888376217806639, 0.98900591863764808 )\n",
       "(a₁₀, b₁₀) = ( 0.98888376217806639, 0.98894484040785724 )\n",
       "\n"
      ]
     },
     "metadata": {},
     "output_type": "display_data"
    },
    {
     "name": "stderr",
     "output_type": "stream",
     "text": [
      "\u001b[36m\u001b[1m[ \u001b[22m\u001b[39m\u001b[36m\u001b[1mInfo: \u001b[22m\u001b[39mTargeting ϕ=0.9888837621780664\n",
      "\u001b[32mProgress: 100%|█████████████████████████████████████████| Time: 0:00:45\u001b[39m\n",
      "\u001b[36m\u001b[1m[ \u001b[22m\u001b[39m\u001b[36m\u001b[1mInfo: \u001b[22m\u001b[39mϕ=1, PSIS\n",
      "\u001b[36m\u001b[1m[ \u001b[22m\u001b[39m\u001b[36m\u001b[1mInfo: \u001b[22m\u001b[39mFold: 10\n"
     ]
    },
    {
     "data": {
      "text/plain": [
       "Results of univariate zero finding:\n",
       "\n",
       "* Converged to: 0.31777050781249994\n",
       "* Algorithm: Bisection()\n",
       "* iterations: 10\n",
       "* function evaluations ≈ 13\n",
       "\n",
       "Trace:\n",
       "(a₀, b₀) = ( 0.010306249999999999, 1 )\n",
       "(a₁, b₁) = ( 0.103725, 1 )\n",
       "(a₂, b₂) = ( 0.103725, 0.33244999999999997 )\n",
       "(a₃, b₃) = ( 0.18683749999999999, 0.33244999999999997 )\n",
       "(a₄, b₄) = ( 0.23903124999999997, 0.33244999999999997 )\n",
       "(a₅, b₅) = ( 0.28025624999999993, 0.33244999999999997 )\n",
       "(a₆, b₆) = ( 0.30635312499999995, 0.33244999999999997 )\n",
       "(a₇, b₇) = ( 0.30635312499999995, 0.31940156249999996 )\n",
       "(a₈, b₈) = ( 0.31287734374999993, 0.31940156249999996 )\n",
       "(a₉, b₉) = ( 0.31613945312499991, 0.31940156249999996 )\n",
       "(a₁₀, b₁₀) = ( 0.31613945312499991, 0.31777050781249994 )\n",
       "\n"
      ]
     },
     "metadata": {},
     "output_type": "display_data"
    },
    {
     "name": "stderr",
     "output_type": "stream",
     "text": [
      "\u001b[36m\u001b[1m[ \u001b[22m\u001b[39m\u001b[36m\u001b[1mInfo: \u001b[22m\u001b[39mTargeting ϕ=0.31777050781249994\n",
      "\u001b[32mProgress: 100%|█████████████████████████████████████████| Time: 0:00:44\u001b[39m\n"
     ]
    },
    {
     "data": {
      "text/plain": [
       "Results of univariate zero finding:\n",
       "\n",
       "* Converged to: 0.583484561729431\n",
       "* Algorithm: Bisection()\n",
       "* iterations: 10\n",
       "* function evaluations ≈ 13\n",
       "\n",
       "Trace:\n",
       "(a₀, b₀) = ( 0.56787050781249993, 1 )\n",
       "(a₁, b₁) = ( 0.56787050781249993, 0.78393525390624996 )\n",
       "(a₂, b₂) = ( 0.56787050781249993, 0.67590288085937489 )\n",
       "(a₃, b₃) = ( 0.56787050781249993, 0.62188669433593735 )\n",
       "(a₄, b₄) = ( 0.56787050781249993, 0.59487860107421864 )\n",
       "(a₅, b₅) = ( 0.58137455444335928, 0.59487860107421864 )\n",
       "(a₆, b₆) = ( 0.58137455444335928, 0.58812657775878896 )\n",
       "(a₇, b₇) = ( 0.58137455444335928, 0.58475056610107412 )\n",
       "(a₈, b₈) = ( 0.5830625602722167, 0.58475056610107412 )\n",
       "(a₉, b₉) = ( 0.5830625602722167, 0.58390656318664536 )\n",
       "(a₁₀, b₁₀) = ( 0.5830625602722167, 0.58348456172943097 )\n",
       "\n"
      ]
     },
     "metadata": {},
     "output_type": "display_data"
    },
    {
     "name": "stderr",
     "output_type": "stream",
     "text": [
      "\u001b[36m\u001b[1m[ \u001b[22m\u001b[39m\u001b[36m\u001b[1mInfo: \u001b[22m\u001b[39mTargeting ϕ=0.583484561729431\n",
      "\u001b[32mProgress: 100%|█████████████████████████████████████████| Time: 0:00:45\u001b[39m\n"
     ]
    },
    {
     "data": {
      "text/plain": [
       "Results of univariate zero finding:\n",
       "\n",
       "* Converged to: 0.790165658058971\n",
       "* Algorithm: Bisection()\n",
       "* iterations: 10\n",
       "* function evaluations ≈ 13\n",
       "\n",
       "Trace:\n",
       "(a₀, b₀) = ( 0.58358456172943096, 0.79179228086471543 )\n",
       "(a₁, b₁) = ( 0.68768842129707319, 0.79179228086471543 )\n",
       "(a₂, b₂) = ( 0.73974035108089431, 0.79179228086471543 )\n",
       "(a₃, b₃) = ( 0.76576631597280487, 0.79179228086471543 )\n",
       "(a₄, b₄) = ( 0.77877929841876015, 0.79179228086471543 )\n",
       "(a₅, b₅) = ( 0.78528578964173779, 0.79179228086471543 )\n",
       "(a₆, b₆) = ( 0.78853903525322655, 0.79179228086471543 )\n",
       "(a₇, b₇) = ( 0.79016565805897099, 0.79179228086471543 )\n",
       "(a₈, b₈) = ( 0.79016565805897099, 0.79097896946184321 )\n",
       "(a₉, b₉) = ( 0.79016565805897099, 0.79057231376040704 )\n",
       "(a₁₀, b₁₀) = ( 0.79016565805897099, 0.79036898590968896 )\n",
       "\n"
      ]
     },
     "metadata": {},
     "output_type": "display_data"
    },
    {
     "name": "stderr",
     "output_type": "stream",
     "text": [
      "\u001b[36m\u001b[1m[ \u001b[22m\u001b[39m\u001b[36m\u001b[1mInfo: \u001b[22m\u001b[39mTargeting ϕ=0.790165658058971\n",
      "\u001b[32mProgress: 100%|█████████████████████████████████████████| Time: 0:00:45\u001b[39m\n"
     ]
    },
    {
     "data": {
      "text/plain": [
       "Results of univariate zero finding:\n",
       "\n",
       "* Converged to: 0.9523796538073346\n",
       "* Algorithm: Bisection()\n",
       "* iterations: 10\n",
       "* function evaluations ≈ 13\n",
       "\n",
       "Trace:\n",
       "(a₀, b₀) = ( 0.89513282902948543, 1 )\n",
       "(a₁, b₁) = ( 0.94756641451474266, 1 )\n",
       "(a₂, b₂) = ( 0.94756641451474266, 0.97378320725737133 )\n",
       "(a₃, b₃) = ( 0.94756641451474266, 0.960674810886057 )\n",
       "(a₄, b₄) = ( 0.94756641451474266, 0.95412061270039983 )\n",
       "(a₅, b₅) = ( 0.95084351360757124, 0.95412061270039983 )\n",
       "(a₆, b₆) = ( 0.95084351360757124, 0.95248206315398554 )\n",
       "(a₇, b₇) = ( 0.95166278838077834, 0.95248206315398554 )\n",
       "(a₈, b₈) = ( 0.95207242576738194, 0.95248206315398554 )\n",
       "(a₉, b₉) = ( 0.95227724446068374, 0.95248206315398554 )\n",
       "(a₁₀, b₁₀) = ( 0.95227724446068374, 0.95237965380733458 )\n",
       "\n"
      ]
     },
     "metadata": {},
     "output_type": "display_data"
    },
    {
     "name": "stderr",
     "output_type": "stream",
     "text": [
      "\u001b[36m\u001b[1m[ \u001b[22m\u001b[39m\u001b[36m\u001b[1mInfo: \u001b[22m\u001b[39mTargeting ϕ=0.9523796538073346\n",
      "\u001b[32mProgress: 100%|█████████████████████████████████████████| Time: 0:00:45\u001b[39m\n",
      "\u001b[36m\u001b[1m[ \u001b[22m\u001b[39m\u001b[36m\u001b[1mInfo: \u001b[22m\u001b[39mϕ=1, PSIS\n"
     ]
    }
   ],
   "source": [
    "Random.seed!(1)\n",
    "RUN_aSMC && run(chain, SMCS_M5; k̂_threshold=0.5, save_bool=true);"
   ]
  },
  {
   "cell_type": "code",
   "execution_count": 36,
   "id": "d5d22145-c0b4-43fd-a00c-e1788366718c",
   "metadata": {
    "scrolled": true
   },
   "outputs": [
    {
     "name": "stderr",
     "output_type": "stream",
     "text": [
      "\u001b[36m\u001b[1m[ \u001b[22m\u001b[39m\u001b[36m\u001b[1mInfo: \u001b[22m\u001b[39mFold: 1\n"
     ]
    },
    {
     "data": {
      "text/plain": [
       "Results of univariate zero finding:\n",
       "\n",
       "* Converged to: 0.2769941406249999\n",
       "* Algorithm: Bisection()\n",
       "* iterations: 10\n",
       "* function evaluations ≈ 13\n",
       "\n",
       "Trace:\n",
       "(a₀, b₀) = ( 0.010306249999999999, 1 )\n",
       "(a₁, b₁) = ( 0.103725, 1 )\n",
       "(a₂, b₂) = ( 0.103725, 0.33244999999999997 )\n",
       "(a₃, b₃) = ( 0.18683749999999999, 0.33244999999999997 )\n",
       "(a₄, b₄) = ( 0.23903124999999997, 0.33244999999999997 )\n",
       "(a₅, b₅) = ( 0.23903124999999997, 0.28025624999999993 )\n",
       "(a₆, b₆) = ( 0.25415937499999991, 0.28025624999999993 )\n",
       "(a₇, b₇) = ( 0.26720781249999992, 0.28025624999999993 )\n",
       "(a₈, b₈) = ( 0.2737320312499999, 0.28025624999999993 )\n",
       "(a₉, b₉) = ( 0.2737320312499999, 0.27699414062499988 )\n",
       "(a₁₀, b₁₀) = ( 0.27536308593749986, 0.27699414062499988 )\n",
       "\n"
      ]
     },
     "metadata": {},
     "output_type": "display_data"
    },
    {
     "name": "stderr",
     "output_type": "stream",
     "text": [
      "\u001b[36m\u001b[1m[ \u001b[22m\u001b[39m\u001b[36m\u001b[1mInfo: \u001b[22m\u001b[39mTargeting ϕ=0.2769941406249999\n",
      "\u001b[32mProgress: 100%|█████████████████████████████████████████| Time: 0:00:45\u001b[39m\n"
     ]
    },
    {
     "data": {
      "text/plain": [
       "Results of univariate zero finding:\n",
       "\n",
       "* Converged to: 0.4703667013168333\n",
       "* Algorithm: Bisection()\n",
       "* iterations: 10\n",
       "* function evaluations ≈ 13\n",
       "\n",
       "Trace:\n",
       "(a₀, b₀) = ( 0.27709414062499987, 0.52709414062499982 )\n",
       "(a₁, b₁) = ( 0.39532060546874986, 0.52709414062499982 )\n",
       "(a₂, b₂) = ( 0.45443383789062486, 0.52709414062499982 )\n",
       "(a₃, b₃) = ( 0.45443383789062486, 0.48399045410156238 )\n",
       "(a₄, b₄) = ( 0.46921214599609362, 0.48399045410156238 )\n",
       "(a₅, b₅) = ( 0.46921214599609362, 0.476601300048828 )\n",
       "(a₆, b₆) = ( 0.46921214599609362, 0.47290672302246078 )\n",
       "(a₇, b₇) = ( 0.46921214599609362, 0.47105943450927718 )\n",
       "(a₈, b₈) = ( 0.47013579025268537, 0.47105943450927718 )\n",
       "(a₉, b₉) = ( 0.47013579025268537, 0.47059761238098125 )\n",
       "(a₁₀, b₁₀) = ( 0.47013579025268537, 0.47036670131683328 )\n",
       "\n"
      ]
     },
     "metadata": {},
     "output_type": "display_data"
    },
    {
     "name": "stderr",
     "output_type": "stream",
     "text": [
      "\u001b[36m\u001b[1m[ \u001b[22m\u001b[39m\u001b[36m\u001b[1mInfo: \u001b[22m\u001b[39mTargeting ϕ=0.4703667013168333\n",
      "\u001b[32mProgress: 100%|█████████████████████████████████████████| Time: 0:00:45\u001b[39m\n"
     ]
    },
    {
     "data": {
      "text/plain": [
       "Results of univariate zero finding:\n",
       "\n",
       "* Converged to: 0.6429398880101735\n",
       "* Algorithm: Bisection()\n",
       "* iterations: 10\n",
       "* function evaluations ≈ 13\n",
       "\n",
       "Trace:\n",
       "(a₀, b₀) = ( 0.47046670131683327, 0.72046670131683321 )\n",
       "(a₁, b₁) = ( 0.58070005197524988, 0.72046670131683321 )\n",
       "(a₂, b₂) = ( 0.58070005197524988, 0.65058337664604149 )\n",
       "(a₃, b₃) = ( 0.61564171431064563, 0.65058337664604149 )\n",
       "(a₄, b₄) = ( 0.6331125454783435, 0.65058337664604149 )\n",
       "(a₅, b₅) = ( 0.64184796106219244, 0.65058337664604149 )\n",
       "(a₆, b₆) = ( 0.64184796106219244, 0.64621566885411696 )\n",
       "(a₇, b₇) = ( 0.64184796106219244, 0.64403181495815465 )\n",
       "(a₈, b₈) = ( 0.64184796106219244, 0.64293988801017354 )\n",
       "(a₉, b₉) = ( 0.64239392453618294, 0.64293988801017354 )\n",
       "(a₁₀, b₁₀) = ( 0.64266690627317824, 0.64293988801017354 )\n",
       "\n"
      ]
     },
     "metadata": {},
     "output_type": "display_data"
    },
    {
     "name": "stderr",
     "output_type": "stream",
     "text": [
      "\u001b[36m\u001b[1m[ \u001b[22m\u001b[39m\u001b[36m\u001b[1mInfo: \u001b[22m\u001b[39mTargeting ϕ=0.6429398880101735\n",
      "\u001b[32mProgress: 100%|█████████████████████████████████████████| Time: 0:00:45\u001b[39m\n"
     ]
    },
    {
     "data": {
      "text/plain": [
       "Results of univariate zero finding:\n",
       "\n",
       "* Converged to: 0.7746340699204853\n",
       "* Algorithm: Bisection()\n",
       "* iterations: 10\n",
       "* function evaluations ≈ 13\n",
       "\n",
       "Trace:\n",
       "(a₀, b₀) = ( 0.64303988801017353, 0.82151994400508677 )\n",
       "(a₁, b₁) = ( 0.73227991600763009, 0.82151994400508677 )\n",
       "(a₂, b₂) = ( 0.73227991600763009, 0.77689993000635837 )\n",
       "(a₃, b₃) = ( 0.75458992300699423, 0.77689993000635837 )\n",
       "(a₄, b₄) = ( 0.76574492650667625, 0.77689993000635837 )\n",
       "(a₅, b₅) = ( 0.77132242825651731, 0.77689993000635837 )\n",
       "(a₆, b₆) = ( 0.77411117913143779, 0.77689993000635837 )\n",
       "(a₇, b₇) = ( 0.77411117913143779, 0.77550555456889803 )\n",
       "(a₈, b₈) = ( 0.77411117913143779, 0.77480836685016785 )\n",
       "(a₉, b₉) = ( 0.77445977299080282, 0.77480836685016785 )\n",
       "(a₁₀, b₁₀) = ( 0.77445977299080282, 0.77463406992048534 )\n",
       "\n"
      ]
     },
     "metadata": {},
     "output_type": "display_data"
    },
    {
     "name": "stderr",
     "output_type": "stream",
     "text": [
      "\u001b[36m\u001b[1m[ \u001b[22m\u001b[39m\u001b[36m\u001b[1mInfo: \u001b[22m\u001b[39mTargeting ϕ=0.7746340699204853\n",
      "\u001b[32mProgress: 100%|█████████████████████████████████████████| Time: 0:00:45\u001b[39m\n"
     ]
    },
    {
     "data": {
      "text/plain": [
       "Results of univariate zero finding:\n",
       "\n",
       "* Converged to: 0.8729579349405079\n",
       "* Algorithm: Bisection()\n",
       "* iterations: 10\n",
       "* function evaluations ≈ 13\n",
       "\n",
       "Trace:\n",
       "(a₀, b₀) = ( 0.77473406992048532, 0.88736703496024261 )\n",
       "(a₁, b₁) = ( 0.83105055244036397, 0.88736703496024261 )\n",
       "(a₂, b₂) = ( 0.85920879370030323, 0.88736703496024261 )\n",
       "(a₃, b₃) = ( 0.85920879370030323, 0.87328791433027286 )\n",
       "(a₄, b₄) = ( 0.86624835401528799, 0.87328791433027286 )\n",
       "(a₅, b₅) = ( 0.86976813417278043, 0.87328791433027286 )\n",
       "(a₆, b₆) = ( 0.87152802425152665, 0.87328791433027286 )\n",
       "(a₇, b₇) = ( 0.8724079692908997, 0.87328791433027286 )\n",
       "(a₈, b₈) = ( 0.87284794181058623, 0.87328791433027286 )\n",
       "(a₉, b₉) = ( 0.87284794181058623, 0.87306792807042954 )\n",
       "(a₁₀, b₁₀) = ( 0.87295793494050788, 0.87306792807042954 )\n",
       "\n"
      ]
     },
     "metadata": {},
     "output_type": "display_data"
    },
    {
     "name": "stderr",
     "output_type": "stream",
     "text": [
      "\u001b[36m\u001b[1m[ \u001b[22m\u001b[39m\u001b[36m\u001b[1mInfo: \u001b[22m\u001b[39mTargeting ϕ=0.8729579349405079\n",
      "\u001b[32mProgress: 100%|█████████████████████████████████████████| Time: 0:00:45\u001b[39m\n"
     ]
    },
    {
     "data": {
      "text/plain": [
       "Results of univariate zero finding:\n",
       "\n",
       "* Converged to: 0.953946311357811\n",
       "* Algorithm: Bisection()\n",
       "* iterations: 10\n",
       "* function evaluations ≈ 13\n",
       "\n",
       "Trace:\n",
       "(a₀, b₀) = ( 0.93652896747025394, 1 )\n",
       "(a₁, b₁) = ( 0.93652896747025394, 0.96826448373512697 )\n",
       "(a₂, b₂) = ( 0.9523967256026904, 0.96826448373512697 )\n",
       "(a₃, b₃) = ( 0.9523967256026904, 0.96033060466890863 )\n",
       "(a₄, b₄) = ( 0.9523967256026904, 0.95636366513579951 )\n",
       "(a₅, b₅) = ( 0.9523967256026904, 0.9543801953692449 )\n",
       "(a₆, b₆) = ( 0.95338846048596759, 0.9543801953692449 )\n",
       "(a₇, b₇) = ( 0.95388432792760625, 0.9543801953692449 )\n",
       "(a₈, b₈) = ( 0.95388432792760625, 0.95413226164842557 )\n",
       "(a₉, b₉) = ( 0.95388432792760625, 0.95400829478801585 )\n",
       "(a₁₀, b₁₀) = ( 0.95388432792760625, 0.95394631135781105 )\n",
       "\n"
      ]
     },
     "metadata": {},
     "output_type": "display_data"
    },
    {
     "name": "stderr",
     "output_type": "stream",
     "text": [
      "\u001b[36m\u001b[1m[ \u001b[22m\u001b[39m\u001b[36m\u001b[1mInfo: \u001b[22m\u001b[39mTargeting ϕ=0.953946311357811\n",
      "\u001b[32mProgress: 100%|█████████████████████████████████████████| Time: 0:00:46\u001b[39m\n",
      "\u001b[36m\u001b[1m[ \u001b[22m\u001b[39m\u001b[36m\u001b[1mInfo: \u001b[22m\u001b[39mϕ=1, MCMC\n",
      "\u001b[32mProgress: 100%|█████████████████████████████████████████| Time: 0:00:48\u001b[39m\n",
      "\u001b[36m\u001b[1m[ \u001b[22m\u001b[39m\u001b[36m\u001b[1mInfo: \u001b[22m\u001b[39mFold: 2\n"
     ]
    },
    {
     "data": {
      "text/plain": [
       "Results of univariate zero finding:\n",
       "\n",
       "* Converged to: 0.3960611328124999\n",
       "* Algorithm: Bisection()\n",
       "* iterations: 10\n",
       "* function evaluations ≈ 13\n",
       "\n",
       "Trace:\n",
       "(a₀, b₀) = ( 0.010306249999999999, 1 )\n",
       "(a₁, b₁) = ( 0.103725, 1 )\n",
       "(a₂, b₂) = ( 0.33244999999999997, 1 )\n",
       "(a₃, b₃) = ( 0.33244999999999997, 0.58244999999999991 )\n",
       "(a₄, b₄) = ( 0.33244999999999997, 0.43683749999999993 )\n",
       "(a₅, b₅) = ( 0.38464374999999995, 0.43683749999999993 )\n",
       "(a₆, b₆) = ( 0.38464374999999995, 0.41074062499999991 )\n",
       "(a₇, b₇) = ( 0.38464374999999995, 0.39769218749999991 )\n",
       "(a₈, b₈) = ( 0.39116796874999993, 0.39769218749999991 )\n",
       "(a₉, b₉) = ( 0.39443007812499992, 0.39769218749999991 )\n",
       "(a₁₀, b₁₀) = ( 0.39443007812499992, 0.39606113281249988 )\n",
       "\n"
      ]
     },
     "metadata": {},
     "output_type": "display_data"
    },
    {
     "name": "stderr",
     "output_type": "stream",
     "text": [
      "\u001b[36m\u001b[1m[ \u001b[22m\u001b[39m\u001b[36m\u001b[1mInfo: \u001b[22m\u001b[39mTargeting ϕ=0.3960611328124999\n",
      "\u001b[32mProgress: 100%|█████████████████████████████████████████| Time: 0:00:44\u001b[39m\n"
     ]
    },
    {
     "data": {
      "text/plain": [
       "Results of univariate zero finding:\n",
       "\n",
       "* Converged to: 0.7498248634338377\n",
       "* Algorithm: Bisection()\n",
       "* iterations: 10\n",
       "* function evaluations ≈ 13\n",
       "\n",
       "Trace:\n",
       "(a₀, b₀) = ( 0.64616113281249987, 1 )\n",
       "(a₁, b₁) = ( 0.64616113281249987, 0.82308056640624994 )\n",
       "(a₂, b₂) = ( 0.7346208496093749, 0.82308056640624994 )\n",
       "(a₃, b₃) = ( 0.7346208496093749, 0.77885070800781242 )\n",
       "(a₄, b₄) = ( 0.7346208496093749, 0.75673577880859366 )\n",
       "(a₅, b₅) = ( 0.74567831420898423, 0.75673577880859366 )\n",
       "(a₆, b₆) = ( 0.74567831420898423, 0.75120704650878889 )\n",
       "(a₇, b₇) = ( 0.7484426803588865, 0.75120704650878889 )\n",
       "(a₈, b₈) = ( 0.7484426803588865, 0.7498248634338377 )\n",
       "(a₉, b₉) = ( 0.7491337718963621, 0.7498248634338377 )\n",
       "(a₁₀, b₁₀) = ( 0.7494793176650999, 0.7498248634338377 )\n",
       "\n"
      ]
     },
     "metadata": {},
     "output_type": "display_data"
    },
    {
     "name": "stderr",
     "output_type": "stream",
     "text": [
      "\u001b[36m\u001b[1m[ \u001b[22m\u001b[39m\u001b[36m\u001b[1mInfo: \u001b[22m\u001b[39mTargeting ϕ=0.7498248634338377\n",
      "\u001b[32mProgress: 100%|█████████████████████████████████████████| Time: 0:00:44\u001b[39m\n",
      "\u001b[36m\u001b[1m[ \u001b[22m\u001b[39m\u001b[36m\u001b[1mInfo: \u001b[22m\u001b[39mϕ=1, MCMC\n",
      "\u001b[32mProgress: 100%|█████████████████████████████████████████| Time: 0:00:44\u001b[39m\n",
      "\u001b[36m\u001b[1m[ \u001b[22m\u001b[39m\u001b[36m\u001b[1mInfo: \u001b[22m\u001b[39mFold: 3\n"
     ]
    },
    {
     "data": {
      "text/plain": [
       "Results of univariate zero finding:\n",
       "\n",
       "* Converged to: 0.6868374999999999\n",
       "* Algorithm: Bisection()\n",
       "* iterations: 10\n",
       "* function evaluations ≈ 13\n",
       "\n",
       "Trace:\n",
       "(a₀, b₀) = ( 0.010306249999999999, 1 )\n",
       "(a₁, b₁) = ( 0.103725, 1 )\n",
       "(a₂, b₂) = ( 0.33244999999999997, 1 )\n",
       "(a₃, b₃) = ( 0.58244999999999991, 1 )\n",
       "(a₄, b₄) = ( 0.58244999999999991, 0.79122499999999996 )\n",
       "(a₅, b₅) = ( 0.68683749999999988, 0.79122499999999996 )\n",
       "(a₆, b₆) = ( 0.68683749999999988, 0.73903124999999992 )\n",
       "(a₇, b₇) = ( 0.68683749999999988, 0.7129343749999999 )\n",
       "(a₈, b₈) = ( 0.68683749999999988, 0.69988593749999983 )\n",
       "(a₉, b₉) = ( 0.68683749999999988, 0.69336171874999986 )\n",
       "(a₁₀, b₁₀) = ( 0.68683749999999988, 0.69009960937499981 )\n",
       "\n"
      ]
     },
     "metadata": {},
     "output_type": "display_data"
    },
    {
     "name": "stderr",
     "output_type": "stream",
     "text": [
      "\u001b[36m\u001b[1m[ \u001b[22m\u001b[39m\u001b[36m\u001b[1mInfo: \u001b[22m\u001b[39mTargeting ϕ=0.6868374999999999\n",
      "\u001b[32mProgress: 100%|█████████████████████████████████████████| Time: 0:00:44\u001b[39m\n",
      "\u001b[36m\u001b[1m[ \u001b[22m\u001b[39m\u001b[36m\u001b[1mInfo: \u001b[22m\u001b[39mϕ=1, MCMC\n",
      "\u001b[32mProgress: 100%|█████████████████████████████████████████| Time: 0:00:45\u001b[39m\n",
      "\u001b[36m\u001b[1m[ \u001b[22m\u001b[39m\u001b[36m\u001b[1mInfo: \u001b[22m\u001b[39mFold: 4\n"
     ]
    },
    {
     "data": {
      "text/plain": [
       "Results of univariate zero finding:\n",
       "\n",
       "* Converged to: 0.30635312499999995\n",
       "* Algorithm: Bisection()\n",
       "* iterations: 10\n",
       "* function evaluations ≈ 13\n",
       "\n",
       "Trace:\n",
       "(a₀, b₀) = ( 0.010306249999999999, 1 )\n",
       "(a₁, b₁) = ( 0.103725, 1 )\n",
       "(a₂, b₂) = ( 0.103725, 0.33244999999999997 )\n",
       "(a₃, b₃) = ( 0.18683749999999999, 0.33244999999999997 )\n",
       "(a₄, b₄) = ( 0.23903124999999997, 0.33244999999999997 )\n",
       "(a₅, b₅) = ( 0.28025624999999993, 0.33244999999999997 )\n",
       "(a₆, b₆) = ( 0.28025624999999993, 0.30635312499999995 )\n",
       "(a₇, b₇) = ( 0.29330468749999994, 0.30635312499999995 )\n",
       "(a₈, b₈) = ( 0.29982890624999992, 0.30635312499999995 )\n",
       "(a₉, b₉) = ( 0.3030910156249999, 0.30635312499999995 )\n",
       "(a₁₀, b₁₀) = ( 0.30472207031249993, 0.30635312499999995 )\n",
       "\n"
      ]
     },
     "metadata": {},
     "output_type": "display_data"
    },
    {
     "name": "stderr",
     "output_type": "stream",
     "text": [
      "\u001b[36m\u001b[1m[ \u001b[22m\u001b[39m\u001b[36m\u001b[1mInfo: \u001b[22m\u001b[39mTargeting ϕ=0.30635312499999995\n",
      "\u001b[32mProgress: 100%|█████████████████████████████████████████| Time: 0:00:46\u001b[39m\n"
     ]
    },
    {
     "data": {
      "text/plain": [
       "Results of univariate zero finding:\n",
       "\n",
       "* Converged to: 0.5330629577636716\n",
       "* Algorithm: Bisection()\n",
       "* iterations: 10\n",
       "* function evaluations ≈ 13\n",
       "\n",
       "Trace:\n",
       "(a₀, b₀) = ( 0.30645312499999994, 0.55645312499999988 )\n",
       "(a₁, b₁) = ( 0.41733984374999994, 0.55645312499999988 )\n",
       "(a₂, b₂) = ( 0.47278320312499994, 0.55645312499999988 )\n",
       "(a₃, b₃) = ( 0.50100976562499988, 0.55645312499999988 )\n",
       "(a₄, b₄) = ( 0.52873144531249983, 0.55645312499999988 )\n",
       "(a₅, b₅) = ( 0.52873144531249983, 0.5425922851562498 )\n",
       "(a₆, b₆) = ( 0.52873144531249983, 0.53566186523437476 )\n",
       "(a₇, b₇) = ( 0.53219665527343729, 0.53566186523437476 )\n",
       "(a₈, b₈) = ( 0.53219665527343729, 0.53392926025390597 )\n",
       "(a₉, b₉) = ( 0.53306295776367163, 0.53392926025390597 )\n",
       "(a₁₀, b₁₀) = ( 0.53306295776367163, 0.53349610900878874 )\n",
       "\n"
      ]
     },
     "metadata": {},
     "output_type": "display_data"
    },
    {
     "name": "stderr",
     "output_type": "stream",
     "text": [
      "\u001b[36m\u001b[1m[ \u001b[22m\u001b[39m\u001b[36m\u001b[1mInfo: \u001b[22m\u001b[39mTargeting ϕ=0.5330629577636716\n",
      "\u001b[32mProgress: 100%|█████████████████████████████████████████| Time: 0:00:45\u001b[39m\n"
     ]
    },
    {
     "data": {
      "text/plain": [
       "Results of univariate zero finding:\n",
       "\n",
       "* Converged to: 0.7239552450448271\n",
       "* Algorithm: Bisection()\n",
       "* iterations: 10\n",
       "* function evaluations ≈ 13\n",
       "\n",
       "Trace:\n",
       "(a₀, b₀) = ( 0.53316295776367162, 0.76658147888183581 )\n",
       "(a₁, b₁) = ( 0.64987221832275366, 0.76658147888183581 )\n",
       "(a₂, b₂) = ( 0.70822684860229468, 0.76658147888183581 )\n",
       "(a₃, b₃) = ( 0.70822684860229468, 0.73740416374206519 )\n",
       "(a₄, b₄) = ( 0.72281550617217993, 0.73740416374206519 )\n",
       "(a₅, b₅) = ( 0.72281550617217993, 0.73010983495712256 )\n",
       "(a₆, b₆) = ( 0.72281550617217993, 0.72646267056465119 )\n",
       "(a₇, b₇) = ( 0.72281550617217993, 0.72463908836841551 )\n",
       "(a₈, b₈) = ( 0.72372729727029772, 0.72463908836841551 )\n",
       "(a₉, b₉) = ( 0.72372729727029772, 0.72418319281935661 )\n",
       "(a₁₀, b₁₀) = ( 0.72395524504482711, 0.72418319281935661 )\n",
       "\n"
      ]
     },
     "metadata": {},
     "output_type": "display_data"
    },
    {
     "name": "stderr",
     "output_type": "stream",
     "text": [
      "\u001b[36m\u001b[1m[ \u001b[22m\u001b[39m\u001b[36m\u001b[1mInfo: \u001b[22m\u001b[39mTargeting ϕ=0.7239552450448271\n",
      "\u001b[32mProgress: 100%|█████████████████████████████████████████| Time: 0:00:45\u001b[39m\n"
     ]
    },
    {
     "data": {
      "text/plain": [
       "Results of univariate zero finding:\n",
       "\n",
       "* Converged to: 0.8771183513090245\n",
       "* Algorithm: Bisection()\n",
       "* iterations: 10\n",
       "* function evaluations ≈ 13\n",
       "\n",
       "Trace:\n",
       "(a₀, b₀) = ( 0.86202762252241349, 1 )\n",
       "(a₁, b₁) = ( 0.86202762252241349, 0.93101381126120675 )\n",
       "(a₂, b₂) = ( 0.86202762252241349, 0.89652071689181012 )\n",
       "(a₃, b₃) = ( 0.86202762252241349, 0.87927416970711181 )\n",
       "(a₄, b₄) = ( 0.87065089611476265, 0.87927416970711181 )\n",
       "(a₅, b₅) = ( 0.87496253291093717, 0.87927416970711181 )\n",
       "(a₆, b₆) = ( 0.87496253291093717, 0.87711835130902449 )\n",
       "(a₇, b₇) = ( 0.87604044210998078, 0.87711835130902449 )\n",
       "(a₈, b₈) = ( 0.87657939670950258, 0.87711835130902449 )\n",
       "(a₉, b₉) = ( 0.87684887400926348, 0.87711835130902449 )\n",
       "(a₁₀, b₁₀) = ( 0.87698361265914393, 0.87711835130902449 )\n",
       "\n"
      ]
     },
     "metadata": {},
     "output_type": "display_data"
    },
    {
     "name": "stderr",
     "output_type": "stream",
     "text": [
      "\u001b[36m\u001b[1m[ \u001b[22m\u001b[39m\u001b[36m\u001b[1mInfo: \u001b[22m\u001b[39mTargeting ϕ=0.8771183513090245\n",
      "\u001b[32mProgress: 100%|█████████████████████████████████████████| Time: 0:00:46\u001b[39m\n",
      "\u001b[36m\u001b[1m[ \u001b[22m\u001b[39m\u001b[36m\u001b[1mInfo: \u001b[22m\u001b[39mϕ=1, MCMC\n",
      "\u001b[32mProgress: 100%|█████████████████████████████████████████| Time: 0:00:45\u001b[39m\n",
      "\u001b[36m\u001b[1m[ \u001b[22m\u001b[39m\u001b[36m\u001b[1mInfo: \u001b[22m\u001b[39mFold: 5\n"
     ]
    },
    {
     "data": {
      "text/plain": [
       "Results of univariate zero finding:\n",
       "\n",
       "* Converged to: 0.6248574218749997\n",
       "* Algorithm: Bisection()\n",
       "* iterations: 10\n",
       "* function evaluations ≈ 13\n",
       "\n",
       "Trace:\n",
       "(a₀, b₀) = ( 0.010306249999999999, 1 )\n",
       "(a₁, b₁) = ( 0.103725, 1 )\n",
       "(a₂, b₂) = ( 0.33244999999999997, 1 )\n",
       "(a₃, b₃) = ( 0.58244999999999991, 1 )\n",
       "(a₄, b₄) = ( 0.58244999999999991, 0.79122499999999996 )\n",
       "(a₅, b₅) = ( 0.58244999999999991, 0.68683749999999988 )\n",
       "(a₆, b₆) = ( 0.58244999999999991, 0.63464374999999984 )\n",
       "(a₇, b₇) = ( 0.60854687499999982, 0.63464374999999984 )\n",
       "(a₈, b₈) = ( 0.62159531249999977, 0.63464374999999984 )\n",
       "(a₉, b₉) = ( 0.62159531249999977, 0.62811953124999975 )\n",
       "(a₁₀, b₁₀) = ( 0.62159531249999977, 0.62485742187499971 )\n",
       "\n"
      ]
     },
     "metadata": {},
     "output_type": "display_data"
    },
    {
     "name": "stderr",
     "output_type": "stream",
     "text": [
      "\u001b[36m\u001b[1m[ \u001b[22m\u001b[39m\u001b[36m\u001b[1mInfo: \u001b[22m\u001b[39mTargeting ϕ=0.6248574218749997\n",
      "\u001b[32mProgress: 100%|█████████████████████████████████████████| Time: 0:00:45\u001b[39m\n",
      "\u001b[36m\u001b[1m[ \u001b[22m\u001b[39m\u001b[36m\u001b[1mInfo: \u001b[22m\u001b[39mϕ=1, MCMC\n",
      "\u001b[32mProgress: 100%|█████████████████████████████████████████| Time: 0:00:45\u001b[39m\n",
      "\u001b[36m\u001b[1m[ \u001b[22m\u001b[39m\u001b[36m\u001b[1mInfo: \u001b[22m\u001b[39mFold: 6\n"
     ]
    },
    {
     "data": {
      "text/plain": [
       "Results of univariate zero finding:\n",
       "\n",
       "* Converged to: 0.3128773437499999\n",
       "* Algorithm: Bisection()\n",
       "* iterations: 10\n",
       "* function evaluations ≈ 13\n",
       "\n",
       "Trace:\n",
       "(a₀, b₀) = ( 0.010306249999999999, 1 )\n",
       "(a₁, b₁) = ( 0.103725, 1 )\n",
       "(a₂, b₂) = ( 0.103725, 0.33244999999999997 )\n",
       "(a₃, b₃) = ( 0.18683749999999999, 0.33244999999999997 )\n",
       "(a₄, b₄) = ( 0.23903124999999997, 0.33244999999999997 )\n",
       "(a₅, b₅) = ( 0.28025624999999993, 0.33244999999999997 )\n",
       "(a₆, b₆) = ( 0.30635312499999995, 0.33244999999999997 )\n",
       "(a₇, b₇) = ( 0.30635312499999995, 0.31940156249999996 )\n",
       "(a₈, b₈) = ( 0.30635312499999995, 0.31287734374999993 )\n",
       "(a₉, b₉) = ( 0.30961523437499994, 0.31287734374999993 )\n",
       "(a₁₀, b₁₀) = ( 0.3112462890624999, 0.31287734374999993 )\n",
       "\n"
      ]
     },
     "metadata": {},
     "output_type": "display_data"
    },
    {
     "name": "stderr",
     "output_type": "stream",
     "text": [
      "\u001b[36m\u001b[1m[ \u001b[22m\u001b[39m\u001b[36m\u001b[1mInfo: \u001b[22m\u001b[39mTargeting ϕ=0.3128773437499999\n",
      "\u001b[32mProgress: 100%|█████████████████████████████████████████| Time: 0:00:45\u001b[39m\n"
     ]
    },
    {
     "data": {
      "text/plain": [
       "Results of univariate zero finding:\n",
       "\n",
       "* Converged to: 0.5860234603881833\n",
       "* Algorithm: Bisection()\n",
       "* iterations: 10\n",
       "* function evaluations ≈ 13\n",
       "\n",
       "Trace:\n",
       "(a₀, b₀) = ( 0.56297734374999986, 1 )\n",
       "(a₁, b₁) = ( 0.56297734374999986, 0.78148867187499993 )\n",
       "(a₂, b₂) = ( 0.56297734374999986, 0.67223300781249984 )\n",
       "(a₃, b₃) = ( 0.56297734374999986, 0.61760517578124985 )\n",
       "(a₄, b₄) = ( 0.56297734374999986, 0.5902912597656248 )\n",
       "(a₅, b₅) = ( 0.57663430175781227, 0.5902912597656248 )\n",
       "(a₆, b₆) = ( 0.58346278076171854, 0.5902912597656248 )\n",
       "(a₇, b₇) = ( 0.58346278076171854, 0.58687702026367161 )\n",
       "(a₈, b₈) = ( 0.58516990051269502, 0.58687702026367161 )\n",
       "(a₉, b₉) = ( 0.58602346038818331, 0.58687702026367161 )\n",
       "(a₁₀, b₁₀) = ( 0.58602346038818331, 0.58645024032592741 )\n",
       "\n"
      ]
     },
     "metadata": {},
     "output_type": "display_data"
    },
    {
     "name": "stderr",
     "output_type": "stream",
     "text": [
      "\u001b[36m\u001b[1m[ \u001b[22m\u001b[39m\u001b[36m\u001b[1mInfo: \u001b[22m\u001b[39mTargeting ϕ=0.5860234603881833\n",
      "\u001b[32mProgress: 100%|█████████████████████████████████████████| Time: 0:00:46\u001b[39m\n"
     ]
    },
    {
     "data": {
      "text/plain": [
       "Results of univariate zero finding:\n",
       "\n",
       "* Converged to: 0.8191311020739375\n",
       "* Algorithm: Bisection()\n",
       "* iterations: 10\n",
       "* function evaluations ≈ 13\n",
       "\n",
       "Trace:\n",
       "(a₀, b₀) = ( 0.79306173019409165, 1 )\n",
       "(a₁, b₁) = ( 0.79306173019409165, 0.89653086509704583 )\n",
       "(a₂, b₂) = ( 0.79306173019409165, 0.84479629764556874 )\n",
       "(a₃, b₃) = ( 0.8189290139198302, 0.84479629764556874 )\n",
       "(a₄, b₄) = ( 0.8189290139198302, 0.83186265578269947 )\n",
       "(a₅, b₅) = ( 0.8189290139198302, 0.82539583485126478 )\n",
       "(a₆, b₆) = ( 0.8189290139198302, 0.82216242438554743 )\n",
       "(a₇, b₇) = ( 0.8189290139198302, 0.82054571915268881 )\n",
       "(a₈, b₈) = ( 0.8189290139198302, 0.8197373665362595 )\n",
       "(a₉, b₉) = ( 0.8189290139198302, 0.81933319022804485 )\n",
       "(a₁₀, b₁₀) = ( 0.8189290139198302, 0.81913110207393747 )\n",
       "\n"
      ]
     },
     "metadata": {},
     "output_type": "display_data"
    },
    {
     "name": "stderr",
     "output_type": "stream",
     "text": [
      "\u001b[36m\u001b[1m[ \u001b[22m\u001b[39m\u001b[36m\u001b[1mInfo: \u001b[22m\u001b[39mTargeting ϕ=0.8191311020739375\n",
      "\u001b[32mProgress: 100%|█████████████████████████████████████████| Time: 0:00:46\u001b[39m\n",
      "\u001b[36m\u001b[1m[ \u001b[22m\u001b[39m\u001b[36m\u001b[1mInfo: \u001b[22m\u001b[39mϕ=1, MCMC\n",
      "\u001b[32mProgress: 100%|█████████████████████████████████████████| Time: 0:00:46\u001b[39m\n",
      "\u001b[36m\u001b[1m[ \u001b[22m\u001b[39m\u001b[36m\u001b[1mInfo: \u001b[22m\u001b[39mFold: 7\n"
     ]
    },
    {
     "data": {
      "text/plain": [
       "Results of univariate zero finding:\n",
       "\n",
       "* Converged to: 0.5824499999999999\n",
       "* Algorithm: Bisection()\n",
       "* iterations: 10\n",
       "* function evaluations ≈ 13\n",
       "\n",
       "Trace:\n",
       "(a₀, b₀) = ( 0.010306249999999999, 1 )\n",
       "(a₁, b₁) = ( 0.103725, 1 )\n",
       "(a₂, b₂) = ( 0.33244999999999997, 1 )\n",
       "(a₃, b₃) = ( 0.33244999999999997, 0.58244999999999991 )\n",
       "(a₄, b₄) = ( 0.43683749999999993, 0.58244999999999991 )\n",
       "(a₅, b₅) = ( 0.48903124999999992, 0.58244999999999991 )\n",
       "(a₆, b₆) = ( 0.53025624999999987, 0.58244999999999991 )\n",
       "(a₇, b₇) = ( 0.55635312499999989, 0.58244999999999991 )\n",
       "(a₈, b₈) = ( 0.56940156249999985, 0.58244999999999991 )\n",
       "(a₉, b₉) = ( 0.57592578124999982, 0.58244999999999991 )\n",
       "(a₁₀, b₁₀) = ( 0.57918789062499987, 0.58244999999999991 )\n",
       "\n"
      ]
     },
     "metadata": {},
     "output_type": "display_data"
    },
    {
     "name": "stderr",
     "output_type": "stream",
     "text": [
      "\u001b[36m\u001b[1m[ \u001b[22m\u001b[39m\u001b[36m\u001b[1mInfo: \u001b[22m\u001b[39mTargeting ϕ=0.5824499999999999\n",
      "\u001b[32mProgress: 100%|█████████████████████████████████████████| Time: 0:00:46\u001b[39m\n",
      "\u001b[36m\u001b[1m[ \u001b[22m\u001b[39m\u001b[36m\u001b[1mInfo: \u001b[22m\u001b[39mϕ=1, MCMC\n",
      "\u001b[32mProgress: 100%|█████████████████████████████████████████| Time: 0:00:45\u001b[39m\n",
      "\u001b[36m\u001b[1m[ \u001b[22m\u001b[39m\u001b[36m\u001b[1mInfo: \u001b[22m\u001b[39mFold: 8\n"
     ]
    },
    {
     "data": {
      "text/plain": [
       "Results of univariate zero finding:\n",
       "\n",
       "* Converged to: 0.7357691406249999\n",
       "* Algorithm: Bisection()\n",
       "* iterations: 10\n",
       "* function evaluations ≈ 13\n",
       "\n",
       "Trace:\n",
       "(a₀, b₀) = ( 0.010306249999999999, 1 )\n",
       "(a₁, b₁) = ( 0.103725, 1 )\n",
       "(a₂, b₂) = ( 0.33244999999999997, 1 )\n",
       "(a₃, b₃) = ( 0.58244999999999991, 1 )\n",
       "(a₄, b₄) = ( 0.58244999999999991, 0.79122499999999996 )\n",
       "(a₅, b₅) = ( 0.68683749999999988, 0.79122499999999996 )\n",
       "(a₆, b₆) = ( 0.68683749999999988, 0.73903124999999992 )\n",
       "(a₇, b₇) = ( 0.7129343749999999, 0.73903124999999992 )\n",
       "(a₈, b₈) = ( 0.72598281249999985, 0.73903124999999992 )\n",
       "(a₉, b₉) = ( 0.73250703124999983, 0.73903124999999992 )\n",
       "(a₁₀, b₁₀) = ( 0.73576914062499987, 0.73903124999999992 )\n",
       "\n"
      ]
     },
     "metadata": {},
     "output_type": "display_data"
    },
    {
     "name": "stderr",
     "output_type": "stream",
     "text": [
      "\u001b[36m\u001b[1m[ \u001b[22m\u001b[39m\u001b[36m\u001b[1mInfo: \u001b[22m\u001b[39mTargeting ϕ=0.7357691406249999\n",
      "\u001b[32mProgress: 100%|█████████████████████████████████████████| Time: 0:00:48\u001b[39m\n",
      "\u001b[36m\u001b[1m[ \u001b[22m\u001b[39m\u001b[36m\u001b[1mInfo: \u001b[22m\u001b[39mϕ=1, MCMC\n",
      "\u001b[32mProgress: 100%|█████████████████████████████████████████| Time: 0:00:47\u001b[39m\n",
      "\u001b[36m\u001b[1m[ \u001b[22m\u001b[39m\u001b[36m\u001b[1mInfo: \u001b[22m\u001b[39mFold: 9\n"
     ]
    },
    {
     "data": {
      "text/plain": [
       "Results of univariate zero finding:\n",
       "\n",
       "* Converged to: 0.2835183593749999\n",
       "* Algorithm: Bisection()\n",
       "* iterations: 10\n",
       "* function evaluations ≈ 13\n",
       "\n",
       "Trace:\n",
       "(a₀, b₀) = ( 0.010306249999999999, 1 )\n",
       "(a₁, b₁) = ( 0.103725, 1 )\n",
       "(a₂, b₂) = ( 0.103725, 0.33244999999999997 )\n",
       "(a₃, b₃) = ( 0.18683749999999999, 0.33244999999999997 )\n",
       "(a₄, b₄) = ( 0.23903124999999997, 0.33244999999999997 )\n",
       "(a₅, b₅) = ( 0.28025624999999993, 0.33244999999999997 )\n",
       "(a₆, b₆) = ( 0.28025624999999993, 0.30635312499999995 )\n",
       "(a₇, b₇) = ( 0.28025624999999993, 0.29330468749999994 )\n",
       "(a₈, b₈) = ( 0.28025624999999993, 0.28678046874999991 )\n",
       "(a₉, b₉) = ( 0.28025624999999993, 0.28351835937499992 )\n",
       "(a₁₀, b₁₀) = ( 0.2818873046874999, 0.28351835937499992 )\n",
       "\n"
      ]
     },
     "metadata": {},
     "output_type": "display_data"
    },
    {
     "name": "stderr",
     "output_type": "stream",
     "text": [
      "\u001b[36m\u001b[1m[ \u001b[22m\u001b[39m\u001b[36m\u001b[1mInfo: \u001b[22m\u001b[39mTargeting ϕ=0.2835183593749999\n",
      "\u001b[32mProgress: 100%|█████████████████████████████████████████| Time: 0:00:48\u001b[39m\n"
     ]
    },
    {
     "data": {
      "text/plain": [
       "Results of univariate zero finding:\n",
       "\n",
       "* Converged to: 0.5076576625823972\n",
       "* Algorithm: Bisection()\n",
       "* iterations: 10\n",
       "* function evaluations ≈ 13\n",
       "\n",
       "Trace:\n",
       "(a₀, b₀) = ( 0.28361835937499991, 0.53361835937499991 )\n",
       "(a₁, b₁) = ( 0.40021376953124993, 0.53361835937499991 )\n",
       "(a₂, b₂) = ( 0.45851147460937491, 0.53361835937499991 )\n",
       "(a₃, b₃) = ( 0.48766032714843743, 0.53361835937499991 )\n",
       "(a₄, b₄) = ( 0.50446950683593739, 0.53361835937499991 )\n",
       "(a₅, b₅) = ( 0.50446950683593739, 0.51904393310546859 )\n",
       "(a₆, b₆) = ( 0.50446950683593739, 0.51175671997070293 )\n",
       "(a₇, b₇) = ( 0.50446950683593739, 0.5081131134033201 )\n",
       "(a₈, b₈) = ( 0.50629131011962869, 0.5081131134033201 )\n",
       "(a₉, b₉) = ( 0.5072022117614744, 0.5081131134033201 )\n",
       "(a₁₀, b₁₀) = ( 0.5072022117614744, 0.5076576625823972 )\n",
       "\n"
      ]
     },
     "metadata": {},
     "output_type": "display_data"
    },
    {
     "name": "stderr",
     "output_type": "stream",
     "text": [
      "\u001b[36m\u001b[1m[ \u001b[22m\u001b[39m\u001b[36m\u001b[1mInfo: \u001b[22m\u001b[39mTargeting ϕ=0.5076576625823972\n",
      "\u001b[32mProgress: 100%|█████████████████████████████████████████| Time: 0:00:47\u001b[39m\n"
     ]
    },
    {
     "data": {
      "text/plain": [
       "Results of univariate zero finding:\n",
       "\n",
       "* Converged to: 0.7134995770499106\n",
       "* Algorithm: Bisection()\n",
       "* iterations: 10\n",
       "* function evaluations ≈ 13\n",
       "\n",
       "Trace:\n",
       "(a₀, b₀) = ( 0.50775766258239718, 0.75387883129119859 )\n",
       "(a₁, b₁) = ( 0.63081824693679789, 0.75387883129119859 )\n",
       "(a₂, b₂) = ( 0.69234853911399818, 0.75387883129119859 )\n",
       "(a₃, b₃) = ( 0.69234853911399818, 0.72311368520259833 )\n",
       "(a₄, b₄) = ( 0.7077311121582982, 0.72311368520259833 )\n",
       "(a₅, b₅) = ( 0.7077311121582982, 0.71542239868044821 )\n",
       "(a₆, b₆) = ( 0.71157675541937315, 0.71542239868044821 )\n",
       "(a₇, b₇) = ( 0.71349957704991063, 0.71542239868044821 )\n",
       "(a₈, b₈) = ( 0.71349957704991063, 0.71446098786517942 )\n",
       "(a₉, b₉) = ( 0.71349957704991063, 0.71398028245754497 )\n",
       "(a₁₀, b₁₀) = ( 0.71349957704991063, 0.7137399297537278 )\n",
       "\n"
      ]
     },
     "metadata": {},
     "output_type": "display_data"
    },
    {
     "name": "stderr",
     "output_type": "stream",
     "text": [
      "\u001b[36m\u001b[1m[ \u001b[22m\u001b[39m\u001b[36m\u001b[1mInfo: \u001b[22m\u001b[39mTargeting ϕ=0.7134995770499106\n",
      "\u001b[32mProgress: 100%|█████████████████████████████████████████| Time: 0:00:46\u001b[39m\n"
     ]
    },
    {
     "data": {
      "text/plain": [
       "Results of univariate zero finding:\n",
       "\n",
       "* Converged to: 0.866588865481257\n",
       "* Algorithm: Bisection()\n",
       "* iterations: 10\n",
       "* function evaluations ≈ 13\n",
       "\n",
       "Trace:\n",
       "(a₀, b₀) = ( 0.85679978852495531, 1 )\n",
       "(a₁, b₁) = ( 0.85679978852495531, 0.9283998942624776 )\n",
       "(a₂, b₂) = ( 0.85679978852495531, 0.8925998413937164 )\n",
       "(a₃, b₃) = ( 0.85679978852495531, 0.8746998149593358 )\n",
       "(a₄, b₄) = ( 0.86574980174214555, 0.8746998149593358 )\n",
       "(a₅, b₅) = ( 0.86574980174214555, 0.87022480835074068 )\n",
       "(a₆, b₆) = ( 0.86574980174214555, 0.86798730504644306 )\n",
       "(a₇, b₇) = ( 0.86574980174214555, 0.86686855339429425 )\n",
       "(a₈, b₈) = ( 0.8663091775682199, 0.86686855339429425 )\n",
       "(a₉, b₉) = ( 0.8663091775682199, 0.86658886548125702 )\n",
       "(a₁₀, b₁₀) = ( 0.86644902152473846, 0.86658886548125702 )\n",
       "\n"
      ]
     },
     "metadata": {},
     "output_type": "display_data"
    },
    {
     "name": "stderr",
     "output_type": "stream",
     "text": [
      "\u001b[36m\u001b[1m[ \u001b[22m\u001b[39m\u001b[36m\u001b[1mInfo: \u001b[22m\u001b[39mTargeting ϕ=0.866588865481257\n",
      "\u001b[32mProgress: 100%|█████████████████████████████████████████| Time: 0:00:48\u001b[39m\n",
      "\u001b[36m\u001b[1m[ \u001b[22m\u001b[39m\u001b[36m\u001b[1mInfo: \u001b[22m\u001b[39mϕ=1, MCMC\n",
      "\u001b[32mProgress: 100%|█████████████████████████████████████████| Time: 0:00:47\u001b[39m\n",
      "\u001b[36m\u001b[1m[ \u001b[22m\u001b[39m\u001b[36m\u001b[1mInfo: \u001b[22m\u001b[39mFold: 10\n"
     ]
    },
    {
     "data": {
      "text/plain": [
       "Results of univariate zero finding:\n",
       "\n",
       "* Converged to: 0.31777050781249994\n",
       "* Algorithm: Bisection()\n",
       "* iterations: 10\n",
       "* function evaluations ≈ 13\n",
       "\n",
       "Trace:\n",
       "(a₀, b₀) = ( 0.010306249999999999, 1 )\n",
       "(a₁, b₁) = ( 0.103725, 1 )\n",
       "(a₂, b₂) = ( 0.103725, 0.33244999999999997 )\n",
       "(a₃, b₃) = ( 0.18683749999999999, 0.33244999999999997 )\n",
       "(a₄, b₄) = ( 0.23903124999999997, 0.33244999999999997 )\n",
       "(a₅, b₅) = ( 0.28025624999999993, 0.33244999999999997 )\n",
       "(a₆, b₆) = ( 0.30635312499999995, 0.33244999999999997 )\n",
       "(a₇, b₇) = ( 0.30635312499999995, 0.31940156249999996 )\n",
       "(a₈, b₈) = ( 0.31287734374999993, 0.31940156249999996 )\n",
       "(a₉, b₉) = ( 0.31613945312499991, 0.31940156249999996 )\n",
       "(a₁₀, b₁₀) = ( 0.31613945312499991, 0.31777050781249994 )\n",
       "\n"
      ]
     },
     "metadata": {},
     "output_type": "display_data"
    },
    {
     "name": "stderr",
     "output_type": "stream",
     "text": [
      "\u001b[36m\u001b[1m[ \u001b[22m\u001b[39m\u001b[36m\u001b[1mInfo: \u001b[22m\u001b[39mTargeting ϕ=0.31777050781249994\n",
      "\u001b[32mProgress: 100%|█████████████████████████████████████████| Time: 0:00:46\u001b[39m\n"
     ]
    },
    {
     "data": {
      "text/plain": [
       "Results of univariate zero finding:\n",
       "\n",
       "* Converged to: 0.5535224582672117\n",
       "* Algorithm: Bisection()\n",
       "* iterations: 10\n",
       "* function evaluations ≈ 13\n",
       "\n",
       "Trace:\n",
       "(a₀, b₀) = ( 0.31787050781249993, 0.56787050781249993 )\n",
       "(a₁, b₁) = ( 0.42590288085937494, 0.56787050781249993 )\n",
       "(a₂, b₂) = ( 0.47991906738281243, 0.56787050781249993 )\n",
       "(a₃, b₃) = ( 0.51385432128906239, 0.56787050781249993 )\n",
       "(a₄, b₄) = ( 0.5408624145507811, 0.56787050781249993 )\n",
       "(a₅, b₅) = ( 0.5408624145507811, 0.55436646118164046 )\n",
       "(a₆, b₆) = ( 0.54761443786621078, 0.55436646118164046 )\n",
       "(a₇, b₇) = ( 0.55099044952392562, 0.55436646118164046 )\n",
       "(a₈, b₈) = ( 0.55267845535278304, 0.55436646118164046 )\n",
       "(a₉, b₉) = ( 0.55267845535278304, 0.55352245826721169 )\n",
       "(a₁₀, b₁₀) = ( 0.55310045680999731, 0.55352245826721169 )\n",
       "\n"
      ]
     },
     "metadata": {},
     "output_type": "display_data"
    },
    {
     "name": "stderr",
     "output_type": "stream",
     "text": [
      "\u001b[36m\u001b[1m[ \u001b[22m\u001b[39m\u001b[36m\u001b[1mInfo: \u001b[22m\u001b[39mTargeting ϕ=0.5535224582672117\n",
      "\u001b[32mProgress: 100%|█████████████████████████████████████████| Time: 0:00:46\u001b[39m\n"
     ]
    },
    {
     "data": {
      "text/plain": [
       "Results of univariate zero finding:\n",
       "\n",
       "* Converged to: 0.7469510127188634\n",
       "* Algorithm: Bisection()\n",
       "* iterations: 10\n",
       "* function evaluations ≈ 13\n",
       "\n",
       "Trace:\n",
       "(a₀, b₀) = ( 0.55362245826721168, 0.77681122913360579 )\n",
       "(a₁, b₁) = ( 0.66521684370040868, 0.77681122913360579 )\n",
       "(a₂, b₂) = ( 0.72101403641700723, 0.77681122913360579 )\n",
       "(a₃, b₃) = ( 0.72101403641700723, 0.74891263277530651 )\n",
       "(a₄, b₄) = ( 0.73496333459615681, 0.74891263277530651 )\n",
       "(a₅, b₅) = ( 0.74193798368573161, 0.74891263277530651 )\n",
       "(a₆, b₆) = ( 0.745425308230519, 0.74891263277530651 )\n",
       "(a₇, b₇) = ( 0.745425308230519, 0.74716897050291275 )\n",
       "(a₈, b₈) = ( 0.74629713936671582, 0.74716897050291275 )\n",
       "(a₉, b₉) = ( 0.74673305493481423, 0.74716897050291275 )\n",
       "(a₁₀, b₁₀) = ( 0.74695101271886344, 0.74716897050291275 )\n",
       "\n"
      ]
     },
     "metadata": {},
     "output_type": "display_data"
    },
    {
     "name": "stderr",
     "output_type": "stream",
     "text": [
      "\u001b[36m\u001b[1m[ \u001b[22m\u001b[39m\u001b[36m\u001b[1mInfo: \u001b[22m\u001b[39mTargeting ϕ=0.7469510127188634\n",
      "\u001b[32mProgress: 100%|█████████████████████████████████████████| Time: 0:00:45\u001b[39m\n"
     ]
    },
    {
     "data": {
      "text/plain": [
       "Results of univariate zero finding:\n",
       "\n",
       "* Converged to: 0.8825417544412298\n",
       "* Algorithm: Bisection()\n",
       "* iterations: 10\n",
       "* function evaluations ≈ 13\n",
       "\n",
       "Trace:\n",
       "(a₀, b₀) = ( 0.87352550635943171, 1 )\n",
       "(a₁, b₁) = ( 0.87352550635943171, 0.9367627531797158 )\n",
       "(a₂, b₂) = ( 0.87352550635943171, 0.9051441297695737 )\n",
       "(a₃, b₃) = ( 0.87352550635943171, 0.88933481806450265 )\n",
       "(a₄, b₄) = ( 0.88143016221196713, 0.88933481806450265 )\n",
       "(a₅, b₅) = ( 0.88143016221196713, 0.88538249013823489 )\n",
       "(a₆, b₆) = ( 0.88143016221196713, 0.88340632617510095 )\n",
       "(a₇, b₇) = ( 0.88241824419353398, 0.88340632617510095 )\n",
       "(a₈, b₈) = ( 0.88241824419353398, 0.88291228518431741 )\n",
       "(a₉, b₉) = ( 0.88241824419353398, 0.8826652646889257 )\n",
       "(a₁₀, b₁₀) = ( 0.88241824419353398, 0.88254175444122984 )\n",
       "\n"
      ]
     },
     "metadata": {},
     "output_type": "display_data"
    },
    {
     "name": "stderr",
     "output_type": "stream",
     "text": [
      "\u001b[36m\u001b[1m[ \u001b[22m\u001b[39m\u001b[36m\u001b[1mInfo: \u001b[22m\u001b[39mTargeting ϕ=0.8825417544412298\n",
      "\u001b[32mProgress: 100%|█████████████████████████████████████████| Time: 0:00:46\u001b[39m\n",
      "\u001b[36m\u001b[1m[ \u001b[22m\u001b[39m\u001b[36m\u001b[1mInfo: \u001b[22m\u001b[39mϕ=1, MCMC\n",
      "\u001b[32mProgress: 100%|█████████████████████████████████████████| Time: 0:00:45\u001b[39m\n"
     ]
    }
   ],
   "source": [
    "Random.seed!(1)\n",
    "RUN_aSMC && run(chain, SMCS_M5; k̂_threshold=-Inf, save_bool=true);"
   ]
  },
  {
   "cell_type": "code",
   "execution_count": 37,
   "id": "96a5209e-f11a-473d-b26b-975b6a6eebde",
   "metadata": {
    "scrolled": true
   },
   "outputs": [
    {
     "name": "stderr",
     "output_type": "stream",
     "text": [
      "\u001b[36m\u001b[1m[ \u001b[22m\u001b[39m\u001b[36m\u001b[1mInfo: \u001b[22m\u001b[39mFold: 1\n"
     ]
    },
    {
     "data": {
      "text/plain": [
       "Results of univariate zero finding:\n",
       "\n",
       "* Converged to: 0.2769941406249999\n",
       "* Algorithm: Bisection()\n",
       "* iterations: 10\n",
       "* function evaluations ≈ 13\n",
       "\n",
       "Trace:\n",
       "(a₀, b₀) = ( 0.010306249999999999, 1 )\n",
       "(a₁, b₁) = ( 0.103725, 1 )\n",
       "(a₂, b₂) = ( 0.103725, 0.33244999999999997 )\n",
       "(a₃, b₃) = ( 0.18683749999999999, 0.33244999999999997 )\n",
       "(a₄, b₄) = ( 0.23903124999999997, 0.33244999999999997 )\n",
       "(a₅, b₅) = ( 0.23903124999999997, 0.28025624999999993 )\n",
       "(a₆, b₆) = ( 0.25415937499999991, 0.28025624999999993 )\n",
       "(a₇, b₇) = ( 0.26720781249999992, 0.28025624999999993 )\n",
       "(a₈, b₈) = ( 0.2737320312499999, 0.28025624999999993 )\n",
       "(a₉, b₉) = ( 0.2737320312499999, 0.27699414062499988 )\n",
       "(a₁₀, b₁₀) = ( 0.27536308593749986, 0.27699414062499988 )\n",
       "\n"
      ]
     },
     "metadata": {},
     "output_type": "display_data"
    },
    {
     "name": "stderr",
     "output_type": "stream",
     "text": [
      "\u001b[36m\u001b[1m[ \u001b[22m\u001b[39m\u001b[36m\u001b[1mInfo: \u001b[22m\u001b[39mTargeting ϕ=0.2769941406249999\n",
      "\u001b[32mProgress: 100%|█████████████████████████████████████████| Time: 0:00:44\u001b[39m\n"
     ]
    },
    {
     "data": {
      "text/plain": [
       "Results of univariate zero finding:\n",
       "\n",
       "* Converged to: 0.4703667013168333\n",
       "* Algorithm: Bisection()\n",
       "* iterations: 10\n",
       "* function evaluations ≈ 13\n",
       "\n",
       "Trace:\n",
       "(a₀, b₀) = ( 0.27709414062499987, 0.52709414062499982 )\n",
       "(a₁, b₁) = ( 0.39532060546874986, 0.52709414062499982 )\n",
       "(a₂, b₂) = ( 0.45443383789062486, 0.52709414062499982 )\n",
       "(a₃, b₃) = ( 0.45443383789062486, 0.48399045410156238 )\n",
       "(a₄, b₄) = ( 0.46921214599609362, 0.48399045410156238 )\n",
       "(a₅, b₅) = ( 0.46921214599609362, 0.476601300048828 )\n",
       "(a₆, b₆) = ( 0.46921214599609362, 0.47290672302246078 )\n",
       "(a₇, b₇) = ( 0.46921214599609362, 0.47105943450927718 )\n",
       "(a₈, b₈) = ( 0.47013579025268537, 0.47105943450927718 )\n",
       "(a₉, b₉) = ( 0.47013579025268537, 0.47059761238098125 )\n",
       "(a₁₀, b₁₀) = ( 0.47013579025268537, 0.47036670131683328 )\n",
       "\n"
      ]
     },
     "metadata": {},
     "output_type": "display_data"
    },
    {
     "name": "stderr",
     "output_type": "stream",
     "text": [
      "\u001b[36m\u001b[1m[ \u001b[22m\u001b[39m\u001b[36m\u001b[1mInfo: \u001b[22m\u001b[39mTargeting ϕ=0.4703667013168333\n",
      "\u001b[32mProgress: 100%|█████████████████████████████████████████| Time: 0:00:44\u001b[39m\n"
     ]
    },
    {
     "data": {
      "text/plain": [
       "Results of univariate zero finding:\n",
       "\n",
       "* Converged to: 0.6429398880101735\n",
       "* Algorithm: Bisection()\n",
       "* iterations: 10\n",
       "* function evaluations ≈ 13\n",
       "\n",
       "Trace:\n",
       "(a₀, b₀) = ( 0.47046670131683327, 0.72046670131683321 )\n",
       "(a₁, b₁) = ( 0.58070005197524988, 0.72046670131683321 )\n",
       "(a₂, b₂) = ( 0.58070005197524988, 0.65058337664604149 )\n",
       "(a₃, b₃) = ( 0.61564171431064563, 0.65058337664604149 )\n",
       "(a₄, b₄) = ( 0.6331125454783435, 0.65058337664604149 )\n",
       "(a₅, b₅) = ( 0.64184796106219244, 0.65058337664604149 )\n",
       "(a₆, b₆) = ( 0.64184796106219244, 0.64621566885411696 )\n",
       "(a₇, b₇) = ( 0.64184796106219244, 0.64403181495815465 )\n",
       "(a₈, b₈) = ( 0.64184796106219244, 0.64293988801017354 )\n",
       "(a₉, b₉) = ( 0.64239392453618294, 0.64293988801017354 )\n",
       "(a₁₀, b₁₀) = ( 0.64266690627317824, 0.64293988801017354 )\n",
       "\n"
      ]
     },
     "metadata": {},
     "output_type": "display_data"
    },
    {
     "name": "stderr",
     "output_type": "stream",
     "text": [
      "\u001b[36m\u001b[1m[ \u001b[22m\u001b[39m\u001b[36m\u001b[1mInfo: \u001b[22m\u001b[39mTargeting ϕ=0.6429398880101735\n",
      "\u001b[32mProgress: 100%|█████████████████████████████████████████| Time: 0:00:45\u001b[39m\n"
     ]
    },
    {
     "data": {
      "text/plain": [
       "Results of univariate zero finding:\n",
       "\n",
       "* Converged to: 0.7746340699204853\n",
       "* Algorithm: Bisection()\n",
       "* iterations: 10\n",
       "* function evaluations ≈ 13\n",
       "\n",
       "Trace:\n",
       "(a₀, b₀) = ( 0.64303988801017353, 0.82151994400508677 )\n",
       "(a₁, b₁) = ( 0.73227991600763009, 0.82151994400508677 )\n",
       "(a₂, b₂) = ( 0.73227991600763009, 0.77689993000635837 )\n",
       "(a₃, b₃) = ( 0.75458992300699423, 0.77689993000635837 )\n",
       "(a₄, b₄) = ( 0.76574492650667625, 0.77689993000635837 )\n",
       "(a₅, b₅) = ( 0.77132242825651731, 0.77689993000635837 )\n",
       "(a₆, b₆) = ( 0.77411117913143779, 0.77689993000635837 )\n",
       "(a₇, b₇) = ( 0.77411117913143779, 0.77550555456889803 )\n",
       "(a₈, b₈) = ( 0.77411117913143779, 0.77480836685016785 )\n",
       "(a₉, b₉) = ( 0.77445977299080282, 0.77480836685016785 )\n",
       "(a₁₀, b₁₀) = ( 0.77445977299080282, 0.77463406992048534 )\n",
       "\n"
      ]
     },
     "metadata": {},
     "output_type": "display_data"
    },
    {
     "name": "stderr",
     "output_type": "stream",
     "text": [
      "\u001b[36m\u001b[1m[ \u001b[22m\u001b[39m\u001b[36m\u001b[1mInfo: \u001b[22m\u001b[39mTargeting ϕ=0.7746340699204853\n",
      "\u001b[32mProgress: 100%|█████████████████████████████████████████| Time: 0:00:45\u001b[39m\n"
     ]
    },
    {
     "data": {
      "text/plain": [
       "Results of univariate zero finding:\n",
       "\n",
       "* Converged to: 0.8729579349405079\n",
       "* Algorithm: Bisection()\n",
       "* iterations: 10\n",
       "* function evaluations ≈ 13\n",
       "\n",
       "Trace:\n",
       "(a₀, b₀) = ( 0.77473406992048532, 0.88736703496024261 )\n",
       "(a₁, b₁) = ( 0.83105055244036397, 0.88736703496024261 )\n",
       "(a₂, b₂) = ( 0.85920879370030323, 0.88736703496024261 )\n",
       "(a₃, b₃) = ( 0.85920879370030323, 0.87328791433027286 )\n",
       "(a₄, b₄) = ( 0.86624835401528799, 0.87328791433027286 )\n",
       "(a₅, b₅) = ( 0.86976813417278043, 0.87328791433027286 )\n",
       "(a₆, b₆) = ( 0.87152802425152665, 0.87328791433027286 )\n",
       "(a₇, b₇) = ( 0.8724079692908997, 0.87328791433027286 )\n",
       "(a₈, b₈) = ( 0.87284794181058623, 0.87328791433027286 )\n",
       "(a₉, b₉) = ( 0.87284794181058623, 0.87306792807042954 )\n",
       "(a₁₀, b₁₀) = ( 0.87295793494050788, 0.87306792807042954 )\n",
       "\n"
      ]
     },
     "metadata": {},
     "output_type": "display_data"
    },
    {
     "name": "stderr",
     "output_type": "stream",
     "text": [
      "\u001b[36m\u001b[1m[ \u001b[22m\u001b[39m\u001b[36m\u001b[1mInfo: \u001b[22m\u001b[39mTargeting ϕ=0.8729579349405079\n",
      "\u001b[32mProgress: 100%|█████████████████████████████████████████| Time: 0:00:44\u001b[39m\n"
     ]
    },
    {
     "data": {
      "text/plain": [
       "Results of univariate zero finding:\n",
       "\n",
       "* Converged to: 0.953946311357811\n",
       "* Algorithm: Bisection()\n",
       "* iterations: 10\n",
       "* function evaluations ≈ 13\n",
       "\n",
       "Trace:\n",
       "(a₀, b₀) = ( 0.93652896747025394, 1 )\n",
       "(a₁, b₁) = ( 0.93652896747025394, 0.96826448373512697 )\n",
       "(a₂, b₂) = ( 0.9523967256026904, 0.96826448373512697 )\n",
       "(a₃, b₃) = ( 0.9523967256026904, 0.96033060466890863 )\n",
       "(a₄, b₄) = ( 0.9523967256026904, 0.95636366513579951 )\n",
       "(a₅, b₅) = ( 0.9523967256026904, 0.9543801953692449 )\n",
       "(a₆, b₆) = ( 0.95338846048596759, 0.9543801953692449 )\n",
       "(a₇, b₇) = ( 0.95388432792760625, 0.9543801953692449 )\n",
       "(a₈, b₈) = ( 0.95388432792760625, 0.95413226164842557 )\n",
       "(a₉, b₉) = ( 0.95388432792760625, 0.95400829478801585 )\n",
       "(a₁₀, b₁₀) = ( 0.95388432792760625, 0.95394631135781105 )\n",
       "\n"
      ]
     },
     "metadata": {},
     "output_type": "display_data"
    },
    {
     "name": "stderr",
     "output_type": "stream",
     "text": [
      "\u001b[36m\u001b[1m[ \u001b[22m\u001b[39m\u001b[36m\u001b[1mInfo: \u001b[22m\u001b[39mTargeting ϕ=0.953946311357811\n",
      "\u001b[32mProgress: 100%|█████████████████████████████████████████| Time: 0:00:44\u001b[39m\n",
      "\u001b[36m\u001b[1m[ \u001b[22m\u001b[39m\u001b[36m\u001b[1mInfo: \u001b[22m\u001b[39mϕ=1, PSIS\n",
      "\u001b[36m\u001b[1m[ \u001b[22m\u001b[39m\u001b[36m\u001b[1mInfo: \u001b[22m\u001b[39mFold: 2\n"
     ]
    },
    {
     "data": {
      "text/plain": [
       "Results of univariate zero finding:\n",
       "\n",
       "* Converged to: 0.3960611328124999\n",
       "* Algorithm: Bisection()\n",
       "* iterations: 10\n",
       "* function evaluations ≈ 13\n",
       "\n",
       "Trace:\n",
       "(a₀, b₀) = ( 0.010306249999999999, 1 )\n",
       "(a₁, b₁) = ( 0.103725, 1 )\n",
       "(a₂, b₂) = ( 0.33244999999999997, 1 )\n",
       "(a₃, b₃) = ( 0.33244999999999997, 0.58244999999999991 )\n",
       "(a₄, b₄) = ( 0.33244999999999997, 0.43683749999999993 )\n",
       "(a₅, b₅) = ( 0.38464374999999995, 0.43683749999999993 )\n",
       "(a₆, b₆) = ( 0.38464374999999995, 0.41074062499999991 )\n",
       "(a₇, b₇) = ( 0.38464374999999995, 0.39769218749999991 )\n",
       "(a₈, b₈) = ( 0.39116796874999993, 0.39769218749999991 )\n",
       "(a₉, b₉) = ( 0.39443007812499992, 0.39769218749999991 )\n",
       "(a₁₀, b₁₀) = ( 0.39443007812499992, 0.39606113281249988 )\n",
       "\n"
      ]
     },
     "metadata": {},
     "output_type": "display_data"
    },
    {
     "name": "stderr",
     "output_type": "stream",
     "text": [
      "\u001b[36m\u001b[1m[ \u001b[22m\u001b[39m\u001b[36m\u001b[1mInfo: \u001b[22m\u001b[39mTargeting ϕ=0.3960611328124999\n",
      "\u001b[32mProgress: 100%|█████████████████████████████████████████| Time: 0:00:45\u001b[39m\n"
     ]
    },
    {
     "data": {
      "text/plain": [
       "Results of univariate zero finding:\n",
       "\n",
       "* Converged to: 0.7905992641448972\n",
       "* Algorithm: Bisection()\n",
       "* iterations: 10\n",
       "* function evaluations ≈ 13\n",
       "\n",
       "Trace:\n",
       "(a₀, b₀) = ( 0.64616113281249987, 1 )\n",
       "(a₁, b₁) = ( 0.64616113281249987, 0.82308056640624994 )\n",
       "(a₂, b₂) = ( 0.7346208496093749, 0.82308056640624994 )\n",
       "(a₃, b₃) = ( 0.77885070800781242, 0.82308056640624994 )\n",
       "(a₄, b₄) = ( 0.77885070800781242, 0.80096563720703118 )\n",
       "(a₅, b₅) = ( 0.78990817260742174, 0.80096563720703118 )\n",
       "(a₆, b₆) = ( 0.78990817260742174, 0.79543690490722641 )\n",
       "(a₇, b₇) = ( 0.78990817260742174, 0.79267253875732402 )\n",
       "(a₈, b₈) = ( 0.78990817260742174, 0.79129035568237283 )\n",
       "(a₉, b₉) = ( 0.79059926414489723, 0.79129035568237283 )\n",
       "(a₁₀, b₁₀) = ( 0.79059926414489723, 0.79094480991363503 )\n",
       "\n"
      ]
     },
     "metadata": {},
     "output_type": "display_data"
    },
    {
     "name": "stderr",
     "output_type": "stream",
     "text": [
      "\u001b[36m\u001b[1m[ \u001b[22m\u001b[39m\u001b[36m\u001b[1mInfo: \u001b[22m\u001b[39mTargeting ϕ=0.7905992641448972\n",
      "\u001b[32mProgress: 100%|█████████████████████████████████████████| Time: 0:00:44\u001b[39m\n",
      "\u001b[36m\u001b[1m[ \u001b[22m\u001b[39m\u001b[36m\u001b[1mInfo: \u001b[22m\u001b[39mϕ=1, PSIS\n",
      "\u001b[36m\u001b[1m[ \u001b[22m\u001b[39m\u001b[36m\u001b[1mInfo: \u001b[22m\u001b[39mFold: 3\n"
     ]
    },
    {
     "data": {
      "text/plain": [
       "Results of univariate zero finding:\n",
       "\n",
       "* Converged to: 0.6868374999999999\n",
       "* Algorithm: Bisection()\n",
       "* iterations: 10\n",
       "* function evaluations ≈ 13\n",
       "\n",
       "Trace:\n",
       "(a₀, b₀) = ( 0.010306249999999999, 1 )\n",
       "(a₁, b₁) = ( 0.103725, 1 )\n",
       "(a₂, b₂) = ( 0.33244999999999997, 1 )\n",
       "(a₃, b₃) = ( 0.58244999999999991, 1 )\n",
       "(a₄, b₄) = ( 0.58244999999999991, 0.79122499999999996 )\n",
       "(a₅, b₅) = ( 0.68683749999999988, 0.79122499999999996 )\n",
       "(a₆, b₆) = ( 0.68683749999999988, 0.73903124999999992 )\n",
       "(a₇, b₇) = ( 0.68683749999999988, 0.7129343749999999 )\n",
       "(a₈, b₈) = ( 0.68683749999999988, 0.69988593749999983 )\n",
       "(a₉, b₉) = ( 0.68683749999999988, 0.69336171874999986 )\n",
       "(a₁₀, b₁₀) = ( 0.68683749999999988, 0.69009960937499981 )\n",
       "\n"
      ]
     },
     "metadata": {},
     "output_type": "display_data"
    },
    {
     "name": "stderr",
     "output_type": "stream",
     "text": [
      "\u001b[36m\u001b[1m[ \u001b[22m\u001b[39m\u001b[36m\u001b[1mInfo: \u001b[22m\u001b[39mTargeting ϕ=0.6868374999999999\n",
      "\u001b[32mProgress: 100%|█████████████████████████████████████████| Time: 0:00:44\u001b[39m\n",
      "\u001b[36m\u001b[1m[ \u001b[22m\u001b[39m\u001b[36m\u001b[1mInfo: \u001b[22m\u001b[39mϕ=1, PSIS\n",
      "\u001b[36m\u001b[1m[ \u001b[22m\u001b[39m\u001b[36m\u001b[1mInfo: \u001b[22m\u001b[39mFold: 4\n"
     ]
    },
    {
     "data": {
      "text/plain": [
       "Results of univariate zero finding:\n",
       "\n",
       "* Converged to: 0.30635312499999995\n",
       "* Algorithm: Bisection()\n",
       "* iterations: 10\n",
       "* function evaluations ≈ 13\n",
       "\n",
       "Trace:\n",
       "(a₀, b₀) = ( 0.010306249999999999, 1 )\n",
       "(a₁, b₁) = ( 0.103725, 1 )\n",
       "(a₂, b₂) = ( 0.103725, 0.33244999999999997 )\n",
       "(a₃, b₃) = ( 0.18683749999999999, 0.33244999999999997 )\n",
       "(a₄, b₄) = ( 0.23903124999999997, 0.33244999999999997 )\n",
       "(a₅, b₅) = ( 0.28025624999999993, 0.33244999999999997 )\n",
       "(a₆, b₆) = ( 0.28025624999999993, 0.30635312499999995 )\n",
       "(a₇, b₇) = ( 0.29330468749999994, 0.30635312499999995 )\n",
       "(a₈, b₈) = ( 0.29982890624999992, 0.30635312499999995 )\n",
       "(a₉, b₉) = ( 0.3030910156249999, 0.30635312499999995 )\n",
       "(a₁₀, b₁₀) = ( 0.30472207031249993, 0.30635312499999995 )\n",
       "\n"
      ]
     },
     "metadata": {},
     "output_type": "display_data"
    },
    {
     "name": "stderr",
     "output_type": "stream",
     "text": [
      "\u001b[36m\u001b[1m[ \u001b[22m\u001b[39m\u001b[36m\u001b[1mInfo: \u001b[22m\u001b[39mTargeting ϕ=0.30635312499999995\n",
      "\u001b[32mProgress: 100%|█████████████████████████████████████████| Time: 0:00:45\u001b[39m\n"
     ]
    },
    {
     "data": {
      "text/plain": [
       "Results of univariate zero finding:\n",
       "\n",
       "* Converged to: 0.5486564025878904\n",
       "* Algorithm: Bisection()\n",
       "* iterations: 10\n",
       "* function evaluations ≈ 13\n",
       "\n",
       "Trace:\n",
       "(a₀, b₀) = ( 0.30645312499999994, 0.55645312499999988 )\n",
       "(a₁, b₁) = ( 0.41733984374999994, 0.55645312499999988 )\n",
       "(a₂, b₂) = ( 0.47278320312499994, 0.55645312499999988 )\n",
       "(a₃, b₃) = ( 0.50100976562499988, 0.55645312499999988 )\n",
       "(a₄, b₄) = ( 0.52873144531249983, 0.55645312499999988 )\n",
       "(a₅, b₅) = ( 0.5425922851562498, 0.55645312499999988 )\n",
       "(a₆, b₆) = ( 0.5425922851562498, 0.54952270507812484 )\n",
       "(a₇, b₇) = ( 0.54605749511718726, 0.54952270507812484 )\n",
       "(a₈, b₈) = ( 0.54779010009765605, 0.54952270507812484 )\n",
       "(a₉, b₉) = ( 0.54779010009765605, 0.54865640258789039 )\n",
       "(a₁₀, b₁₀) = ( 0.54822325134277317, 0.54865640258789039 )\n",
       "\n"
      ]
     },
     "metadata": {},
     "output_type": "display_data"
    },
    {
     "name": "stderr",
     "output_type": "stream",
     "text": [
      "\u001b[36m\u001b[1m[ \u001b[22m\u001b[39m\u001b[36m\u001b[1mInfo: \u001b[22m\u001b[39mTargeting ϕ=0.5486564025878904\n",
      "\u001b[32mProgress: 100%|█████████████████████████████████████████| Time: 0:00:44\u001b[39m\n"
     ]
    },
    {
     "data": {
      "text/plain": [
       "Results of univariate zero finding:\n",
       "\n",
       "* Converged to: 0.7439721385776994\n",
       "* Algorithm: Bisection()\n",
       "* iterations: 10\n",
       "* function evaluations ≈ 13\n",
       "\n",
       "Trace:\n",
       "(a₀, b₀) = ( 0.54875640258789038, 0.77437820129394519 )\n",
       "(a₁, b₁) = ( 0.66156730194091773, 0.77437820129394519 )\n",
       "(a₂, b₂) = ( 0.71797275161743146, 0.77437820129394519 )\n",
       "(a₃, b₃) = ( 0.71797275161743146, 0.74617547645568827 )\n",
       "(a₄, b₄) = ( 0.73207411403655986, 0.74617547645568827 )\n",
       "(a₅, b₅) = ( 0.73912479524612407, 0.74617547645568827 )\n",
       "(a₆, b₆) = ( 0.74265013585090611, 0.74617547645568827 )\n",
       "(a₇, b₇) = ( 0.74265013585090611, 0.74441280615329719 )\n",
       "(a₈, b₈) = ( 0.7435314710021016, 0.74441280615329719 )\n",
       "(a₉, b₉) = ( 0.7435314710021016, 0.74397213857769939 )\n",
       "(a₁₀, b₁₀) = ( 0.74375180478990044, 0.74397213857769939 )\n",
       "\n"
      ]
     },
     "metadata": {},
     "output_type": "display_data"
    },
    {
     "name": "stderr",
     "output_type": "stream",
     "text": [
      "\u001b[36m\u001b[1m[ \u001b[22m\u001b[39m\u001b[36m\u001b[1mInfo: \u001b[22m\u001b[39mTargeting ϕ=0.7439721385776994\n",
      "\u001b[32mProgress: 100%|█████████████████████████████████████████| Time: 0:00:45\u001b[39m\n"
     ]
    },
    {
     "data": {
      "text/plain": [
       "Results of univariate zero finding:\n",
       "\n",
       "* Converged to: 0.8894061731646795\n",
       "* Algorithm: Bisection()\n",
       "* iterations: 10\n",
       "* function evaluations ≈ 13\n",
       "\n",
       "Trace:\n",
       "(a₀, b₀) = ( 0.87203606928884969, 1 )\n",
       "(a₁, b₁) = ( 0.87203606928884969, 0.93601803464442479 )\n",
       "(a₂, b₂) = ( 0.87203606928884969, 0.90402705196663724 )\n",
       "(a₃, b₃) = ( 0.88803156062774347, 0.90402705196663724 )\n",
       "(a₄, b₄) = ( 0.88803156062774347, 0.89602930629719035 )\n",
       "(a₅, b₅) = ( 0.88803156062774347, 0.89203043346246691 )\n",
       "(a₆, b₆) = ( 0.88803156062774347, 0.89003099704510513 )\n",
       "(a₇, b₇) = ( 0.8890312788364243, 0.89003099704510513 )\n",
       "(a₈, b₈) = ( 0.8890312788364243, 0.88953113794076466 )\n",
       "(a₉, b₉) = ( 0.88928120838859448, 0.88953113794076466 )\n",
       "(a₁₀, b₁₀) = ( 0.88928120838859448, 0.88940617316467951 )\n",
       "\n"
      ]
     },
     "metadata": {},
     "output_type": "display_data"
    },
    {
     "name": "stderr",
     "output_type": "stream",
     "text": [
      "\u001b[36m\u001b[1m[ \u001b[22m\u001b[39m\u001b[36m\u001b[1mInfo: \u001b[22m\u001b[39mTargeting ϕ=0.8894061731646795\n",
      "\u001b[32mProgress: 100%|█████████████████████████████████████████| Time: 0:00:45\u001b[39m\n",
      "\u001b[36m\u001b[1m[ \u001b[22m\u001b[39m\u001b[36m\u001b[1mInfo: \u001b[22m\u001b[39mϕ=1, PSIS\n",
      "\u001b[36m\u001b[1m[ \u001b[22m\u001b[39m\u001b[36m\u001b[1mInfo: \u001b[22m\u001b[39mFold: 5\n"
     ]
    },
    {
     "data": {
      "text/plain": [
       "Results of univariate zero finding:\n",
       "\n",
       "* Converged to: 0.6248574218749997\n",
       "* Algorithm: Bisection()\n",
       "* iterations: 10\n",
       "* function evaluations ≈ 13\n",
       "\n",
       "Trace:\n",
       "(a₀, b₀) = ( 0.010306249999999999, 1 )\n",
       "(a₁, b₁) = ( 0.103725, 1 )\n",
       "(a₂, b₂) = ( 0.33244999999999997, 1 )\n",
       "(a₃, b₃) = ( 0.58244999999999991, 1 )\n",
       "(a₄, b₄) = ( 0.58244999999999991, 0.79122499999999996 )\n",
       "(a₅, b₅) = ( 0.58244999999999991, 0.68683749999999988 )\n",
       "(a₆, b₆) = ( 0.58244999999999991, 0.63464374999999984 )\n",
       "(a₇, b₇) = ( 0.60854687499999982, 0.63464374999999984 )\n",
       "(a₈, b₈) = ( 0.62159531249999977, 0.63464374999999984 )\n",
       "(a₉, b₉) = ( 0.62159531249999977, 0.62811953124999975 )\n",
       "(a₁₀, b₁₀) = ( 0.62159531249999977, 0.62485742187499971 )\n",
       "\n"
      ]
     },
     "metadata": {},
     "output_type": "display_data"
    },
    {
     "name": "stderr",
     "output_type": "stream",
     "text": [
      "\u001b[36m\u001b[1m[ \u001b[22m\u001b[39m\u001b[36m\u001b[1mInfo: \u001b[22m\u001b[39mTargeting ϕ=0.6248574218749997\n",
      "\u001b[32mProgress: 100%|█████████████████████████████████████████| Time: 0:00:45\u001b[39m\n",
      "\u001b[36m\u001b[1m[ \u001b[22m\u001b[39m\u001b[36m\u001b[1mInfo: \u001b[22m\u001b[39mϕ=1, PSIS\n",
      "\u001b[36m\u001b[1m[ \u001b[22m\u001b[39m\u001b[36m\u001b[1mInfo: \u001b[22m\u001b[39mFold: 6\n"
     ]
    },
    {
     "data": {
      "text/plain": [
       "Results of univariate zero finding:\n",
       "\n",
       "* Converged to: 0.3128773437499999\n",
       "* Algorithm: Bisection()\n",
       "* iterations: 10\n",
       "* function evaluations ≈ 13\n",
       "\n",
       "Trace:\n",
       "(a₀, b₀) = ( 0.010306249999999999, 1 )\n",
       "(a₁, b₁) = ( 0.103725, 1 )\n",
       "(a₂, b₂) = ( 0.103725, 0.33244999999999997 )\n",
       "(a₃, b₃) = ( 0.18683749999999999, 0.33244999999999997 )\n",
       "(a₄, b₄) = ( 0.23903124999999997, 0.33244999999999997 )\n",
       "(a₅, b₅) = ( 0.28025624999999993, 0.33244999999999997 )\n",
       "(a₆, b₆) = ( 0.30635312499999995, 0.33244999999999997 )\n",
       "(a₇, b₇) = ( 0.30635312499999995, 0.31940156249999996 )\n",
       "(a₈, b₈) = ( 0.30635312499999995, 0.31287734374999993 )\n",
       "(a₉, b₉) = ( 0.30961523437499994, 0.31287734374999993 )\n",
       "(a₁₀, b₁₀) = ( 0.3112462890624999, 0.31287734374999993 )\n",
       "\n"
      ]
     },
     "metadata": {},
     "output_type": "display_data"
    },
    {
     "name": "stderr",
     "output_type": "stream",
     "text": [
      "\u001b[36m\u001b[1m[ \u001b[22m\u001b[39m\u001b[36m\u001b[1mInfo: \u001b[22m\u001b[39mTargeting ϕ=0.3128773437499999\n",
      "\u001b[32mProgress: 100%|█████████████████████████████████████████| Time: 0:00:45\u001b[39m\n"
     ]
    },
    {
     "data": {
      "text/plain": [
       "Results of univariate zero finding:\n",
       "\n",
       "* Converged to: 0.6124838165283201\n",
       "* Algorithm: Bisection()\n",
       "* iterations: 10\n",
       "* function evaluations ≈ 13\n",
       "\n",
       "Trace:\n",
       "(a₀, b₀) = ( 0.56297734374999986, 1 )\n",
       "(a₁, b₁) = ( 0.56297734374999986, 0.78148867187499993 )\n",
       "(a₂, b₂) = ( 0.56297734374999986, 0.67223300781249984 )\n",
       "(a₃, b₃) = ( 0.56297734374999986, 0.61760517578124985 )\n",
       "(a₄, b₄) = ( 0.5902912597656248, 0.61760517578124985 )\n",
       "(a₅, b₅) = ( 0.60394821777343732, 0.61760517578124985 )\n",
       "(a₆, b₆) = ( 0.61077669677734359, 0.61760517578124985 )\n",
       "(a₇, b₇) = ( 0.61077669677734359, 0.61419093627929666 )\n",
       "(a₈, b₈) = ( 0.61077669677734359, 0.61248381652832007 )\n",
       "(a₉, b₉) = ( 0.61163025665283177, 0.61248381652832007 )\n",
       "(a₁₀, b₁₀) = ( 0.61205703659057586, 0.61248381652832007 )\n",
       "\n"
      ]
     },
     "metadata": {},
     "output_type": "display_data"
    },
    {
     "name": "stderr",
     "output_type": "stream",
     "text": [
      "\u001b[36m\u001b[1m[ \u001b[22m\u001b[39m\u001b[36m\u001b[1mInfo: \u001b[22m\u001b[39mTargeting ϕ=0.6124838165283201\n",
      "\u001b[32mProgress: 100%|█████████████████████████████████████████| Time: 0:00:45\u001b[39m\n"
     ]
    },
    {
     "data": {
      "text/plain": [
       "Results of univariate zero finding:\n",
       "\n",
       "* Converged to: 0.8558539395481345\n",
       "* Algorithm: Bisection()\n",
       "* iterations: 10\n",
       "* function evaluations ≈ 13\n",
       "\n",
       "Trace:\n",
       "(a₀, b₀) = ( 0.80629190826415997, 1 )\n",
       "(a₁, b₁) = ( 0.80629190826415997, 0.90314595413207999 )\n",
       "(a₂, b₂) = ( 0.85471893119811992, 0.90314595413207999 )\n",
       "(a₃, b₃) = ( 0.85471893119811992, 0.87893244266509996 )\n",
       "(a₄, b₄) = ( 0.85471893119811992, 0.86682568693160988 )\n",
       "(a₅, b₅) = ( 0.85471893119811992, 0.8607723090648649 )\n",
       "(a₆, b₆) = ( 0.85471893119811992, 0.85774562013149236 )\n",
       "(a₇, b₇) = ( 0.85471893119811992, 0.85623227566480609 )\n",
       "(a₈, b₈) = ( 0.85547560343146301, 0.85623227566480609 )\n",
       "(a₉, b₉) = ( 0.85547560343146301, 0.85585393954813449 )\n",
       "(a₁₀, b₁₀) = ( 0.85566477148979869, 0.85585393954813449 )\n",
       "\n"
      ]
     },
     "metadata": {},
     "output_type": "display_data"
    },
    {
     "name": "stderr",
     "output_type": "stream",
     "text": [
      "\u001b[36m\u001b[1m[ \u001b[22m\u001b[39m\u001b[36m\u001b[1mInfo: \u001b[22m\u001b[39mTargeting ϕ=0.8558539395481345\n",
      "\u001b[32mProgress: 100%|█████████████████████████████████████████| Time: 0:00:45\u001b[39m\n",
      "\u001b[36m\u001b[1m[ \u001b[22m\u001b[39m\u001b[36m\u001b[1mInfo: \u001b[22m\u001b[39mϕ=1, PSIS\n",
      "\u001b[36m\u001b[1m[ \u001b[22m\u001b[39m\u001b[36m\u001b[1mInfo: \u001b[22m\u001b[39mFold: 7\n"
     ]
    },
    {
     "data": {
      "text/plain": [
       "Results of univariate zero finding:\n",
       "\n",
       "* Converged to: 0.5824499999999999\n",
       "* Algorithm: Bisection()\n",
       "* iterations: 10\n",
       "* function evaluations ≈ 13\n",
       "\n",
       "Trace:\n",
       "(a₀, b₀) = ( 0.010306249999999999, 1 )\n",
       "(a₁, b₁) = ( 0.103725, 1 )\n",
       "(a₂, b₂) = ( 0.33244999999999997, 1 )\n",
       "(a₃, b₃) = ( 0.33244999999999997, 0.58244999999999991 )\n",
       "(a₄, b₄) = ( 0.43683749999999993, 0.58244999999999991 )\n",
       "(a₅, b₅) = ( 0.48903124999999992, 0.58244999999999991 )\n",
       "(a₆, b₆) = ( 0.53025624999999987, 0.58244999999999991 )\n",
       "(a₇, b₇) = ( 0.55635312499999989, 0.58244999999999991 )\n",
       "(a₈, b₈) = ( 0.56940156249999985, 0.58244999999999991 )\n",
       "(a₉, b₉) = ( 0.57592578124999982, 0.58244999999999991 )\n",
       "(a₁₀, b₁₀) = ( 0.57918789062499987, 0.58244999999999991 )\n",
       "\n"
      ]
     },
     "metadata": {},
     "output_type": "display_data"
    },
    {
     "name": "stderr",
     "output_type": "stream",
     "text": [
      "\u001b[36m\u001b[1m[ \u001b[22m\u001b[39m\u001b[36m\u001b[1mInfo: \u001b[22m\u001b[39mTargeting ϕ=0.5824499999999999\n",
      "\u001b[32mProgress: 100%|█████████████████████████████████████████| Time: 0:00:47\u001b[39m\n",
      "\u001b[36m\u001b[1m[ \u001b[22m\u001b[39m\u001b[36m\u001b[1mInfo: \u001b[22m\u001b[39mϕ=1, PSIS\n",
      "\u001b[36m\u001b[1m[ \u001b[22m\u001b[39m\u001b[36m\u001b[1mInfo: \u001b[22m\u001b[39mFold: 8\n"
     ]
    },
    {
     "data": {
      "text/plain": [
       "Results of univariate zero finding:\n",
       "\n",
       "* Converged to: 0.7357691406249999\n",
       "* Algorithm: Bisection()\n",
       "* iterations: 10\n",
       "* function evaluations ≈ 13\n",
       "\n",
       "Trace:\n",
       "(a₀, b₀) = ( 0.010306249999999999, 1 )\n",
       "(a₁, b₁) = ( 0.103725, 1 )\n",
       "(a₂, b₂) = ( 0.33244999999999997, 1 )\n",
       "(a₃, b₃) = ( 0.58244999999999991, 1 )\n",
       "(a₄, b₄) = ( 0.58244999999999991, 0.79122499999999996 )\n",
       "(a₅, b₅) = ( 0.68683749999999988, 0.79122499999999996 )\n",
       "(a₆, b₆) = ( 0.68683749999999988, 0.73903124999999992 )\n",
       "(a₇, b₇) = ( 0.7129343749999999, 0.73903124999999992 )\n",
       "(a₈, b₈) = ( 0.72598281249999985, 0.73903124999999992 )\n",
       "(a₉, b₉) = ( 0.73250703124999983, 0.73903124999999992 )\n",
       "(a₁₀, b₁₀) = ( 0.73576914062499987, 0.73903124999999992 )\n",
       "\n"
      ]
     },
     "metadata": {},
     "output_type": "display_data"
    },
    {
     "name": "stderr",
     "output_type": "stream",
     "text": [
      "\u001b[36m\u001b[1m[ \u001b[22m\u001b[39m\u001b[36m\u001b[1mInfo: \u001b[22m\u001b[39mTargeting ϕ=0.7357691406249999\n",
      "\u001b[32mProgress: 100%|█████████████████████████████████████████| Time: 0:00:44\u001b[39m\n",
      "\u001b[36m\u001b[1m[ \u001b[22m\u001b[39m\u001b[36m\u001b[1mInfo: \u001b[22m\u001b[39mϕ=1, PSIS\n",
      "\u001b[36m\u001b[1m[ \u001b[22m\u001b[39m\u001b[36m\u001b[1mInfo: \u001b[22m\u001b[39mFold: 9\n"
     ]
    },
    {
     "data": {
      "text/plain": [
       "Results of univariate zero finding:\n",
       "\n",
       "* Converged to: 0.2835183593749999\n",
       "* Algorithm: Bisection()\n",
       "* iterations: 10\n",
       "* function evaluations ≈ 13\n",
       "\n",
       "Trace:\n",
       "(a₀, b₀) = ( 0.010306249999999999, 1 )\n",
       "(a₁, b₁) = ( 0.103725, 1 )\n",
       "(a₂, b₂) = ( 0.103725, 0.33244999999999997 )\n",
       "(a₃, b₃) = ( 0.18683749999999999, 0.33244999999999997 )\n",
       "(a₄, b₄) = ( 0.23903124999999997, 0.33244999999999997 )\n",
       "(a₅, b₅) = ( 0.28025624999999993, 0.33244999999999997 )\n",
       "(a₆, b₆) = ( 0.28025624999999993, 0.30635312499999995 )\n",
       "(a₇, b₇) = ( 0.28025624999999993, 0.29330468749999994 )\n",
       "(a₈, b₈) = ( 0.28025624999999993, 0.28678046874999991 )\n",
       "(a₉, b₉) = ( 0.28025624999999993, 0.28351835937499992 )\n",
       "(a₁₀, b₁₀) = ( 0.2818873046874999, 0.28351835937499992 )\n",
       "\n"
      ]
     },
     "metadata": {},
     "output_type": "display_data"
    },
    {
     "name": "stderr",
     "output_type": "stream",
     "text": [
      "\u001b[36m\u001b[1m[ \u001b[22m\u001b[39m\u001b[36m\u001b[1mInfo: \u001b[22m\u001b[39mTargeting ϕ=0.2835183593749999\n",
      "\u001b[32mProgress: 100%|█████████████████████████████████████████| Time: 0:00:45\u001b[39m\n"
     ]
    },
    {
     "data": {
      "text/plain": [
       "Results of univariate zero finding:\n",
       "\n",
       "* Converged to: 0.5308856544494628\n",
       "* Algorithm: Bisection()\n",
       "* iterations: 10\n",
       "* function evaluations ≈ 13\n",
       "\n",
       "Trace:\n",
       "(a₀, b₀) = ( 0.28361835937499991, 0.53361835937499991 )\n",
       "(a₁, b₁) = ( 0.40021376953124993, 0.53361835937499991 )\n",
       "(a₂, b₂) = ( 0.45851147460937491, 0.53361835937499991 )\n",
       "(a₃, b₃) = ( 0.48766032714843743, 0.53361835937499991 )\n",
       "(a₄, b₄) = ( 0.50446950683593739, 0.53361835937499991 )\n",
       "(a₅, b₅) = ( 0.51904393310546859, 0.53361835937499991 )\n",
       "(a₆, b₆) = ( 0.52633114624023425, 0.53361835937499991 )\n",
       "(a₇, b₇) = ( 0.52997475280761708, 0.53361835937499991 )\n",
       "(a₈, b₈) = ( 0.52997475280761708, 0.53179655609130849 )\n",
       "(a₉, b₉) = ( 0.53088565444946278, 0.53179655609130849 )\n",
       "(a₁₀, b₁₀) = ( 0.53088565444946278, 0.53134110527038558 )\n",
       "\n"
      ]
     },
     "metadata": {},
     "output_type": "display_data"
    },
    {
     "name": "stderr",
     "output_type": "stream",
     "text": [
      "\u001b[36m\u001b[1m[ \u001b[22m\u001b[39m\u001b[36m\u001b[1mInfo: \u001b[22m\u001b[39mTargeting ϕ=0.5308856544494628\n",
      "\u001b[32mProgress: 100%|█████████████████████████████████████████| Time: 0:00:44\u001b[39m\n"
     ]
    },
    {
     "data": {
      "text/plain": [
       "Results of univariate zero finding:\n",
       "\n",
       "* Converged to: 0.7215227323293685\n",
       "* Algorithm: Bisection()\n",
       "* iterations: 10\n",
       "* function evaluations ≈ 13\n",
       "\n",
       "Trace:\n",
       "(a₀, b₀) = ( 0.53098565444946277, 0.76549282722473133 )\n",
       "(a₁, b₁) = ( 0.64823924083709705, 0.76549282722473133 )\n",
       "(a₂, b₂) = ( 0.70686603403091419, 0.76549282722473133 )\n",
       "(a₃, b₃) = ( 0.70686603403091419, 0.73617943062782276 )\n",
       "(a₄, b₄) = ( 0.70686603403091419, 0.72152273232936848 )\n",
       "(a₅, b₅) = ( 0.71419438318014128, 0.72152273232936848 )\n",
       "(a₆, b₆) = ( 0.71785855775475482, 0.72152273232936848 )\n",
       "(a₇, b₇) = ( 0.71969064504206159, 0.72152273232936848 )\n",
       "(a₈, b₈) = ( 0.72060668868571498, 0.72152273232936848 )\n",
       "(a₉, b₉) = ( 0.72106471050754173, 0.72152273232936848 )\n",
       "(a₁₀, b₁₀) = ( 0.72129372141845505, 0.72152273232936848 )\n",
       "\n"
      ]
     },
     "metadata": {},
     "output_type": "display_data"
    },
    {
     "name": "stderr",
     "output_type": "stream",
     "text": [
      "\u001b[36m\u001b[1m[ \u001b[22m\u001b[39m\u001b[36m\u001b[1mInfo: \u001b[22m\u001b[39mTargeting ϕ=0.7215227323293685\n",
      "\u001b[32mProgress: 100%|█████████████████████████████████████████| Time: 0:00:45\u001b[39m\n"
     ]
    },
    {
     "data": {
      "text/plain": [
       "Results of univariate zero finding:\n",
       "\n",
       "* Converged to: 0.8748117853883536\n",
       "* Algorithm: Bisection()\n",
       "* iterations: 10\n",
       "* function evaluations ≈ 13\n",
       "\n",
       "Trace:\n",
       "(a₀, b₀) = ( 0.86081136616468423, 1 )\n",
       "(a₁, b₁) = ( 0.86081136616468423, 0.93040568308234206 )\n",
       "(a₂, b₂) = ( 0.86081136616468423, 0.89560852462351315 )\n",
       "(a₃, b₃) = ( 0.86081136616468423, 0.87820994539409869 )\n",
       "(a₄, b₄) = ( 0.86951065577939146, 0.87820994539409869 )\n",
       "(a₅, b₅) = ( 0.87386030058674502, 0.87820994539409869 )\n",
       "(a₆, b₆) = ( 0.87386030058674502, 0.87603512299042186 )\n",
       "(a₇, b₇) = ( 0.87386030058674502, 0.87494771178858344 )\n",
       "(a₈, b₈) = ( 0.87440400618766423, 0.87494771178858344 )\n",
       "(a₉, b₉) = ( 0.87467585898812383, 0.87494771178858344 )\n",
       "(a₁₀, b₁₀) = ( 0.87467585898812383, 0.87481178538835358 )\n",
       "\n"
      ]
     },
     "metadata": {},
     "output_type": "display_data"
    },
    {
     "name": "stderr",
     "output_type": "stream",
     "text": [
      "\u001b[36m\u001b[1m[ \u001b[22m\u001b[39m\u001b[36m\u001b[1mInfo: \u001b[22m\u001b[39mTargeting ϕ=0.8748117853883536\n",
      "\u001b[32mProgress: 100%|█████████████████████████████████████████| Time: 0:00:46\u001b[39m\n"
     ]
    },
    {
     "data": {
      "text/plain": [
       "Results of univariate zero finding:\n",
       "\n",
       "* Converged to: 0.9888837621780664\n",
       "* Algorithm: Bisection()\n",
       "* iterations: 10\n",
       "* function evaluations ≈ 13\n",
       "\n",
       "Trace:\n",
       "(a₀, b₀) = ( 0.93745589269417673, 1 )\n",
       "(a₁, b₁) = ( 0.96872794634708836, 1 )\n",
       "(a₂, b₂) = ( 0.98436397317354418, 1 )\n",
       "(a₃, b₃) = ( 0.98436397317354418, 0.99218198658677204 )\n",
       "(a₄, b₄) = ( 0.98827297988015805, 0.99218198658677204 )\n",
       "(a₅, b₅) = ( 0.98827297988015805, 0.99022748323346499 )\n",
       "(a₆, b₆) = ( 0.98827297988015805, 0.98925023155681147 )\n",
       "(a₇, b₇) = ( 0.9887616057184847, 0.98925023155681147 )\n",
       "(a₈, b₈) = ( 0.9887616057184847, 0.98900591863764808 )\n",
       "(a₉, b₉) = ( 0.98888376217806639, 0.98900591863764808 )\n",
       "(a₁₀, b₁₀) = ( 0.98888376217806639, 0.98894484040785724 )\n",
       "\n"
      ]
     },
     "metadata": {},
     "output_type": "display_data"
    },
    {
     "name": "stderr",
     "output_type": "stream",
     "text": [
      "\u001b[36m\u001b[1m[ \u001b[22m\u001b[39m\u001b[36m\u001b[1mInfo: \u001b[22m\u001b[39mTargeting ϕ=0.9888837621780664\n",
      "\u001b[32mProgress: 100%|█████████████████████████████████████████| Time: 0:00:44\u001b[39m\n",
      "\u001b[36m\u001b[1m[ \u001b[22m\u001b[39m\u001b[36m\u001b[1mInfo: \u001b[22m\u001b[39mϕ=1, PSIS\n",
      "\u001b[36m\u001b[1m[ \u001b[22m\u001b[39m\u001b[36m\u001b[1mInfo: \u001b[22m\u001b[39mFold: 10\n"
     ]
    },
    {
     "data": {
      "text/plain": [
       "Results of univariate zero finding:\n",
       "\n",
       "* Converged to: 0.31777050781249994\n",
       "* Algorithm: Bisection()\n",
       "* iterations: 10\n",
       "* function evaluations ≈ 13\n",
       "\n",
       "Trace:\n",
       "(a₀, b₀) = ( 0.010306249999999999, 1 )\n",
       "(a₁, b₁) = ( 0.103725, 1 )\n",
       "(a₂, b₂) = ( 0.103725, 0.33244999999999997 )\n",
       "(a₃, b₃) = ( 0.18683749999999999, 0.33244999999999997 )\n",
       "(a₄, b₄) = ( 0.23903124999999997, 0.33244999999999997 )\n",
       "(a₅, b₅) = ( 0.28025624999999993, 0.33244999999999997 )\n",
       "(a₆, b₆) = ( 0.30635312499999995, 0.33244999999999997 )\n",
       "(a₇, b₇) = ( 0.30635312499999995, 0.31940156249999996 )\n",
       "(a₈, b₈) = ( 0.31287734374999993, 0.31940156249999996 )\n",
       "(a₉, b₉) = ( 0.31613945312499991, 0.31940156249999996 )\n",
       "(a₁₀, b₁₀) = ( 0.31613945312499991, 0.31777050781249994 )\n",
       "\n"
      ]
     },
     "metadata": {},
     "output_type": "display_data"
    },
    {
     "name": "stderr",
     "output_type": "stream",
     "text": [
      "\u001b[36m\u001b[1m[ \u001b[22m\u001b[39m\u001b[36m\u001b[1mInfo: \u001b[22m\u001b[39mTargeting ϕ=0.31777050781249994\n",
      "\u001b[32mProgress: 100%|█████████████████████████████████████████| Time: 0:00:45\u001b[39m\n"
     ]
    },
    {
     "data": {
      "text/plain": [
       "Results of univariate zero finding:\n",
       "\n",
       "* Converged to: 0.583484561729431\n",
       "* Algorithm: Bisection()\n",
       "* iterations: 10\n",
       "* function evaluations ≈ 13\n",
       "\n",
       "Trace:\n",
       "(a₀, b₀) = ( 0.56787050781249993, 1 )\n",
       "(a₁, b₁) = ( 0.56787050781249993, 0.78393525390624996 )\n",
       "(a₂, b₂) = ( 0.56787050781249993, 0.67590288085937489 )\n",
       "(a₃, b₃) = ( 0.56787050781249993, 0.62188669433593735 )\n",
       "(a₄, b₄) = ( 0.56787050781249993, 0.59487860107421864 )\n",
       "(a₅, b₅) = ( 0.58137455444335928, 0.59487860107421864 )\n",
       "(a₆, b₆) = ( 0.58137455444335928, 0.58812657775878896 )\n",
       "(a₇, b₇) = ( 0.58137455444335928, 0.58475056610107412 )\n",
       "(a₈, b₈) = ( 0.5830625602722167, 0.58475056610107412 )\n",
       "(a₉, b₉) = ( 0.5830625602722167, 0.58390656318664536 )\n",
       "(a₁₀, b₁₀) = ( 0.5830625602722167, 0.58348456172943097 )\n",
       "\n"
      ]
     },
     "metadata": {},
     "output_type": "display_data"
    },
    {
     "name": "stderr",
     "output_type": "stream",
     "text": [
      "\u001b[36m\u001b[1m[ \u001b[22m\u001b[39m\u001b[36m\u001b[1mInfo: \u001b[22m\u001b[39mTargeting ϕ=0.583484561729431\n",
      "\u001b[32mProgress: 100%|█████████████████████████████████████████| Time: 0:00:45\u001b[39m\n"
     ]
    },
    {
     "data": {
      "text/plain": [
       "Results of univariate zero finding:\n",
       "\n",
       "* Converged to: 0.790165658058971\n",
       "* Algorithm: Bisection()\n",
       "* iterations: 10\n",
       "* function evaluations ≈ 13\n",
       "\n",
       "Trace:\n",
       "(a₀, b₀) = ( 0.58358456172943096, 0.79179228086471543 )\n",
       "(a₁, b₁) = ( 0.68768842129707319, 0.79179228086471543 )\n",
       "(a₂, b₂) = ( 0.73974035108089431, 0.79179228086471543 )\n",
       "(a₃, b₃) = ( 0.76576631597280487, 0.79179228086471543 )\n",
       "(a₄, b₄) = ( 0.77877929841876015, 0.79179228086471543 )\n",
       "(a₅, b₅) = ( 0.78528578964173779, 0.79179228086471543 )\n",
       "(a₆, b₆) = ( 0.78853903525322655, 0.79179228086471543 )\n",
       "(a₇, b₇) = ( 0.79016565805897099, 0.79179228086471543 )\n",
       "(a₈, b₈) = ( 0.79016565805897099, 0.79097896946184321 )\n",
       "(a₉, b₉) = ( 0.79016565805897099, 0.79057231376040704 )\n",
       "(a₁₀, b₁₀) = ( 0.79016565805897099, 0.79036898590968896 )\n",
       "\n"
      ]
     },
     "metadata": {},
     "output_type": "display_data"
    },
    {
     "name": "stderr",
     "output_type": "stream",
     "text": [
      "\u001b[36m\u001b[1m[ \u001b[22m\u001b[39m\u001b[36m\u001b[1mInfo: \u001b[22m\u001b[39mTargeting ϕ=0.790165658058971\n",
      "\u001b[32mProgress: 100%|█████████████████████████████████████████| Time: 0:00:45\u001b[39m\n"
     ]
    },
    {
     "data": {
      "text/plain": [
       "Results of univariate zero finding:\n",
       "\n",
       "* Converged to: 0.9523796538073346\n",
       "* Algorithm: Bisection()\n",
       "* iterations: 10\n",
       "* function evaluations ≈ 13\n",
       "\n",
       "Trace:\n",
       "(a₀, b₀) = ( 0.89513282902948543, 1 )\n",
       "(a₁, b₁) = ( 0.94756641451474266, 1 )\n",
       "(a₂, b₂) = ( 0.94756641451474266, 0.97378320725737133 )\n",
       "(a₃, b₃) = ( 0.94756641451474266, 0.960674810886057 )\n",
       "(a₄, b₄) = ( 0.94756641451474266, 0.95412061270039983 )\n",
       "(a₅, b₅) = ( 0.95084351360757124, 0.95412061270039983 )\n",
       "(a₆, b₆) = ( 0.95084351360757124, 0.95248206315398554 )\n",
       "(a₇, b₇) = ( 0.95166278838077834, 0.95248206315398554 )\n",
       "(a₈, b₈) = ( 0.95207242576738194, 0.95248206315398554 )\n",
       "(a₉, b₉) = ( 0.95227724446068374, 0.95248206315398554 )\n",
       "(a₁₀, b₁₀) = ( 0.95227724446068374, 0.95237965380733458 )\n",
       "\n"
      ]
     },
     "metadata": {},
     "output_type": "display_data"
    },
    {
     "name": "stderr",
     "output_type": "stream",
     "text": [
      "\u001b[36m\u001b[1m[ \u001b[22m\u001b[39m\u001b[36m\u001b[1mInfo: \u001b[22m\u001b[39mTargeting ϕ=0.9523796538073346\n",
      "\u001b[32mProgress: 100%|█████████████████████████████████████████| Time: 0:00:45\u001b[39m\n",
      "\u001b[36m\u001b[1m[ \u001b[22m\u001b[39m\u001b[36m\u001b[1mInfo: \u001b[22m\u001b[39mϕ=1, PSIS\n"
     ]
    }
   ],
   "source": [
    "Random.seed!(1)\n",
    "RUN_aSMC && run(chain, SMCS_M5; k̂_threshold=+Inf, save_bool=true);"
   ]
  },
  {
   "cell_type": "markdown",
   "id": "8ea23613-6bd2-4884-a4fe-04ed8ed06f51",
   "metadata": {},
   "source": [
    "# Figures"
   ]
  },
  {
   "cell_type": "code",
   "execution_count": 39,
   "id": "0812b3a5-c48b-4be1-b2b2-2b965eae1c36",
   "metadata": {},
   "outputs": [
    {
     "data": {
      "text/plain": [
       "Compute_LPDs (generic function with 1 method)"
      ]
     },
     "execution_count": 39,
     "metadata": {},
     "output_type": "execute_result"
    }
   ],
   "source": [
    "function Compute_LPDs(results, leave_g::Vector{String}, _model, _names; constrain=true)::Vector{Float64}\n",
    "\n",
    "    # compute log predictive density (LPD) for a single particle\n",
    "    function LPD(particle)::Float64\n",
    "\n",
    "        # Wrap in NamedArray\n",
    "        # invert unconstrained parameterization for MCMC draws already constrained\n",
    "        particle = NamedArray(\n",
    "            constrain ? particle |> Turing.inverse(Turing.bijector(_model)) : particle,\n",
    "            _names,\n",
    "            :d\n",
    "        )\n",
    "\n",
    "        A = zeros(data.S, data.S)\n",
    "        for s_i in 1:data.S\n",
    "            A[s_i,s_i] = particle[:d => \"A[$(s_i), $(s_i)]\"]\n",
    "            for s_j in 1:s_i-1\n",
    "                A[s_i,s_j] = particle[:d => \"A[$(s_i), $(s_j)]\"]\n",
    "            end\n",
    "        end\n",
    "\n",
    "        α_s = particle[:d => [\"α_s[$(s_i)]\" for s_i in 1:data.S]]\n",
    "        α_g = particle[:d => [\"α_g[$(g_i)]\" for g_i in 1:data.G]]\n",
    "\n",
    "        log_ℓ = 0.\n",
    "        X_g = data.G_axis * α_g\n",
    "        for (k_i, k) in enumerate(data.K_axis)\n",
    "            if k in leave_g # only evaluate for held-out items\n",
    "                μ = α_s .+ X_g[k_i]\n",
    "                log_ℓ += logpdf(MvNormal(I(data.S)), A' * (data.y[:k => k] - μ))\n",
    "            end\n",
    "        end\n",
    "        log_ℓ\n",
    "    end\n",
    "\n",
    "    LPDs = Float64[]\n",
    "    for n in 1:results.R\n",
    "        push!(LPDs, results[:particles][:n => n] |> LPD)\n",
    "    end\n",
    "\n",
    "    LPDs\n",
    "end"
   ]
  },
  {
   "cell_type": "code",
   "execution_count": 98,
   "id": "f29d807f-78c4-4830-8399-03fc6b9565b3",
   "metadata": {},
   "outputs": [],
   "source": [
    "#anime = Animation();"
   ]
  },
  {
   "cell_type": "code",
   "execution_count": 99,
   "id": "c80ffbb0-e70c-41b1-b473-8e720224ea99",
   "metadata": {},
   "outputs": [
    {
     "name": "stderr",
     "output_type": "stream",
     "text": [
      "\u001b[36m\u001b[1m[ \u001b[22m\u001b[39m\u001b[36m\u001b[1mInfo: \u001b[22m\u001b[39mComputing LPDs.\n",
      "\u001b[36m\u001b[1m[ \u001b[22m\u001b[39m\u001b[36m\u001b[1mInfo: \u001b[22m\u001b[39mFold: 1\n",
      "\u001b[36m\u001b[1m[ \u001b[22m\u001b[39m\u001b[36m\u001b[1mInfo: \u001b[22m\u001b[39mFold: 2\n",
      "\u001b[36m\u001b[1m[ \u001b[22m\u001b[39m\u001b[36m\u001b[1mInfo: \u001b[22m\u001b[39mFold: 3\n",
      "\u001b[36m\u001b[1m[ \u001b[22m\u001b[39m\u001b[36m\u001b[1mInfo: \u001b[22m\u001b[39mFold: 4\n",
      "\u001b[36m\u001b[1m[ \u001b[22m\u001b[39m\u001b[36m\u001b[1mInfo: \u001b[22m\u001b[39mFold: 5\n",
      "\u001b[36m\u001b[1m[ \u001b[22m\u001b[39m\u001b[36m\u001b[1mInfo: \u001b[22m\u001b[39mFold: 6\n",
      "\u001b[36m\u001b[1m[ \u001b[22m\u001b[39m\u001b[36m\u001b[1mInfo: \u001b[22m\u001b[39mFold: 7\n",
      "\u001b[36m\u001b[1m[ \u001b[22m\u001b[39m\u001b[36m\u001b[1mInfo: \u001b[22m\u001b[39mFold: 8\n",
      "\u001b[36m\u001b[1m[ \u001b[22m\u001b[39m\u001b[36m\u001b[1mInfo: \u001b[22m\u001b[39mFold: 9\n",
      "\u001b[36m\u001b[1m[ \u001b[22m\u001b[39m\u001b[36m\u001b[1mInfo: \u001b[22m\u001b[39mFold: 10\n"
     ]
    }
   ],
   "source": [
    "#k̂_threshold = -Inf\n",
    "#k̂_threshold = .5\n",
    "k̂_threshold = .7\n",
    "#k̂_threshold = .9\n",
    "#k̂_threshold = +Inf\n",
    "\n",
    "let\n",
    "    # Prepare dimensions and containers\n",
    "    R                   = length(load(joinpath(\"output\", \"M5\", \"mcmc\", \"chain.jld\"))[\"data\"])\n",
    "    LPD_template        = NamedArray(zeros(R, data.valid_idx |> length),\n",
    "                            (1:R, 1:length(data.valid_idx)), (:n, :g))\n",
    "    global LPD_mcmc     = similar(LPD_template)\n",
    "    global LPD_smc      = similar(LPD_template)\n",
    "    global LPD_psis     = similar(LPD_template)\n",
    "    global weights_smc  = load(joinpath(\"output\", \"M5\", \"smc\",\n",
    "            \"weights_threshold-$(k̂_threshold).jld\"))[\"data\"]\n",
    "    global weights_psis = load(joinpath(\"output\", \"M5\", \"psis\",\n",
    "            \"weights_threshold-$(0.7).jld\"))[\"data\"]\n",
    "\n",
    "    # Helper to wrap chain into NamedArray for Compute_LPDs\n",
    "    function _wrap_particles(_particles::Vector)\n",
    "        R = length(_particles)\n",
    "        results = (; particles=NamedArray(_particles, 1:R, :n), R=R)\n",
    "    end\n",
    "\n",
    "    # Pre-load/instantiate particles / baseline posterior\n",
    "    chain_smc = load(joinpath(\"output\", \"M5\", \"smc\",\n",
    "            \"particles_threshold-$(k̂_threshold).jld\"))[\"data\"]\n",
    "    chain_psis = load(joinpath(\"output\", \"M5\", \"psis\",\n",
    "            \"particles_threshold-$(0.7).jld\"))[\"data\"]\n",
    "    _model = Model(data, [\"none\"], 0) # leave_g = [\"none\"] to disable leave-group-out logic\n",
    "    _names = sample(_model, Prior(), 1).name_map.parameters .|> String # Parameter names\n",
    "\n",
    "    # Loop over folds\n",
    "    @info \"Computing LPDs.\"; sleep(0.01)\n",
    "    for (fold_i, leave_g) in enumerate(data.valid_idx)\n",
    "        @info \"Fold: $(fold_i)\"\n",
    "\n",
    "        # MCMC as ground truth\n",
    "        chain = load(joinpath(\"output\", \"M5\", \"mcmc\", \"chain_lso-$(fold_i).jld\"))[\"data\"]\n",
    "        LPD_mcmc[:, fold_i] = Compute_LPDs(\n",
    "            chain |> _wrap_particles,\n",
    "            leave_g, _model, _names;\n",
    "            constrain=false) # LGO draws are already constrained to original space\n",
    "    \n",
    "        # SMC estimatechain_smc[fold_i] |> mat2vecvec\n",
    "        LPD_smc[:, fold_i] = Compute_LPDs(\n",
    "            chain_smc[fold_i] |> mat2vecvec |> _wrap_particles,\n",
    "            leave_g, _model, _names;\n",
    "            constrain=true)\n",
    "    \n",
    "        # PSIS estimate\n",
    "        LPD_psis[:, fold_i] = Compute_LPDs(\n",
    "            chain_psis[fold_i] |> mat2vecvec |> _wrap_particles,\n",
    "            leave_g, _model, _names;\n",
    "            constrain=true)\n",
    "        #break\n",
    "    end\n",
    "end;"
   ]
  },
  {
   "cell_type": "code",
   "execution_count": 102,
   "id": "c98fa4ef-ab4f-4d77-bcf4-eba6a77b927a",
   "metadata": {},
   "outputs": [
    {
     "data": {
      "image/png": "[encoded data removed]",
      "image/svg+xml": [
       "<?xml version=\"1.0\" encoding=\"utf-8\"?>\n",
       "<svg xmlns=\"http://www.w3.org/2000/svg\" xmlns:xlink=\"http://www.w3.org/1999/xlink\" width=\"650\" height=\"230\" viewBox=\"0 0 2600 920\">\n",
       "<defs>\n",
       "  <clipPath id=\"clip020\">\n",
       "    <rect x=\"0\" y=\"0\" width=\"2600\" height=\"920\"/>\n",
       "  </clipPath>\n",
       "</defs>\n",
       "<path clip-path=\"url(#clip020)\" d=\"M0 920 L2600 920 L2600 0 L0 0  Z\" fill=\"#ffffff\" fill-rule=\"evenodd\" fill-opacity=\"1\"/>\n",
       "<defs>\n",
       "  <clipPath id=\"clip021\">\n",
       "    <rect x=\"520\" y=\"0\" width=\"1821\" height=\"920\"/>\n",
       "  </clipPath>\n",
       "</defs>\n",
       "<path clip-path=\"url(#clip020)\" d=\"M234.616 756.998 L855.721 756.998 L855.721 88.2143 L234.616 88.2143  Z\" fill=\"#ffffff\" fill-rule=\"evenodd\" fill-opacity=\"1\"/>\n",
       "<defs>\n",
       "  <clipPath id=\"clip022\">\n",
       "    <rect x=\"234\" y=\"88\" width=\"622\" height=\"670\"/>\n",
       "  </clipPath>\n",
       "</defs>\n",
       "<polyline clip-path=\"url(#clip022)\" style=\"stroke:#000000; stroke-linecap:round; stroke-linejoin:round; stroke-width:2; stroke-opacity:0.1; fill:none\" points=\"252.195,756.998 252.195,88.2143 \"/>\n",
       "<polyline clip-path=\"url(#clip022)\" style=\"stroke:#000000; stroke-linecap:round; stroke-linejoin:round; stroke-width:2; stroke-opacity:0.1; fill:none\" points=\"317.3,756.998 317.3,88.2143 \"/>\n",
       "<polyline clip-path=\"url(#clip022)\" style=\"stroke:#000000; stroke-linecap:round; stroke-linejoin:round; stroke-width:2; stroke-opacity:0.1; fill:none\" points=\"382.405,756.998 382.405,88.2143 \"/>\n",
       "<polyline clip-path=\"url(#clip022)\" style=\"stroke:#000000; stroke-linecap:round; stroke-linejoin:round; stroke-width:2; stroke-opacity:0.1; fill:none\" points=\"447.511,756.998 447.511,88.2143 \"/>\n",
       "<polyline clip-path=\"url(#clip022)\" style=\"stroke:#000000; stroke-linecap:round; stroke-linejoin:round; stroke-width:2; stroke-opacity:0.1; fill:none\" points=\"512.616,756.998 512.616,88.2143 \"/>\n",
       "<polyline clip-path=\"url(#clip022)\" style=\"stroke:#000000; stroke-linecap:round; stroke-linejoin:round; stroke-width:2; stroke-opacity:0.1; fill:none\" points=\"577.721,756.998 577.721,88.2143 \"/>\n",
       "<polyline clip-path=\"url(#clip022)\" style=\"stroke:#000000; stroke-linecap:round; stroke-linejoin:round; stroke-width:2; stroke-opacity:0.1; fill:none\" points=\"642.826,756.998 642.826,88.2143 \"/>\n",
       "<polyline clip-path=\"url(#clip022)\" style=\"stroke:#000000; stroke-linecap:round; stroke-linejoin:round; stroke-width:2; stroke-opacity:0.1; fill:none\" points=\"707.932,756.998 707.932,88.2143 \"/>\n",
       "<polyline clip-path=\"url(#clip022)\" style=\"stroke:#000000; stroke-linecap:round; stroke-linejoin:round; stroke-width:2; stroke-opacity:0.1; fill:none\" points=\"773.037,756.998 773.037,88.2143 \"/>\n",
       "<polyline clip-path=\"url(#clip022)\" style=\"stroke:#000000; stroke-linecap:round; stroke-linejoin:round; stroke-width:2; stroke-opacity:0.1; fill:none\" points=\"838.142,756.998 838.142,88.2143 \"/>\n",
       "<polyline clip-path=\"url(#clip022)\" style=\"stroke:#000000; stroke-linecap:round; stroke-linejoin:round; stroke-width:2; stroke-opacity:0.1; fill:none\" points=\"234.616,756.998 855.721,756.998 \"/>\n",
       "<polyline clip-path=\"url(#clip022)\" style=\"stroke:#000000; stroke-linecap:round; stroke-linejoin:round; stroke-width:2; stroke-opacity:0.1; fill:none\" points=\"234.616,604.099 855.721,604.099 \"/>\n",
       "<polyline clip-path=\"url(#clip022)\" style=\"stroke:#000000; stroke-linecap:round; stroke-linejoin:round; stroke-width:2; stroke-opacity:0.1; fill:none\" points=\"234.616,451.199 855.721,451.199 \"/>\n",
       "<polyline clip-path=\"url(#clip022)\" style=\"stroke:#000000; stroke-linecap:round; stroke-linejoin:round; stroke-width:2; stroke-opacity:0.1; fill:none\" points=\"234.616,298.299 855.721,298.299 \"/>\n",
       "<polyline clip-path=\"url(#clip022)\" style=\"stroke:#000000; stroke-linecap:round; stroke-linejoin:round; stroke-width:2; stroke-opacity:0.1; fill:none\" points=\"234.616,145.399 855.721,145.399 \"/>\n",
       "<polyline clip-path=\"url(#clip020)\" style=\"stroke:#000000; stroke-linecap:round; stroke-linejoin:round; stroke-width:4; stroke-opacity:1; fill:none\" points=\"234.616,756.998 855.721,756.998 \"/>\n",
       "<polyline clip-path=\"url(#clip020)\" style=\"stroke:#000000; stroke-linecap:round; stroke-linejoin:round; stroke-width:4; stroke-opacity:1; fill:none\" points=\"252.195,756.998 252.195,775.896 \"/>\n",
       "<polyline clip-path=\"url(#clip020)\" style=\"stroke:#000000; stroke-linecap:round; stroke-linejoin:round; stroke-width:4; stroke-opacity:1; fill:none\" points=\"317.3,756.998 317.3,775.896 \"/>\n",
       "<polyline clip-path=\"url(#clip020)\" style=\"stroke:#000000; stroke-linecap:round; stroke-linejoin:round; stroke-width:4; stroke-opacity:1; fill:none\" points=\"382.405,756.998 382.405,775.896 \"/>\n",
       "<polyline clip-path=\"url(#clip020)\" style=\"stroke:#000000; stroke-linecap:round; stroke-linejoin:round; stroke-width:4; stroke-opacity:1; fill:none\" points=\"447.511,756.998 447.511,775.896 \"/>\n",
       "<polyline clip-path=\"url(#clip020)\" style=\"stroke:#000000; stroke-linecap:round; stroke-linejoin:round; stroke-width:4; stroke-opacity:1; fill:none\" points=\"512.616,756.998 512.616,775.896 \"/>\n",
       "<polyline clip-path=\"url(#clip020)\" style=\"stroke:#000000; stroke-linecap:round; stroke-linejoin:round; stroke-width:4; stroke-opacity:1; fill:none\" points=\"577.721,756.998 577.721,775.896 \"/>\n",
       "<polyline clip-path=\"url(#clip020)\" style=\"stroke:#000000; stroke-linecap:round; stroke-linejoin:round; stroke-width:4; stroke-opacity:1; fill:none\" points=\"642.826,756.998 642.826,775.896 \"/>\n",
       "<polyline clip-path=\"url(#clip020)\" style=\"stroke:#000000; stroke-linecap:round; stroke-linejoin:round; stroke-width:4; stroke-opacity:1; fill:none\" points=\"707.932,756.998 707.932,775.896 \"/>\n",
       "<polyline clip-path=\"url(#clip020)\" style=\"stroke:#000000; stroke-linecap:round; stroke-linejoin:round; stroke-width:4; stroke-opacity:1; fill:none\" points=\"773.037,756.998 773.037,775.896 \"/>\n",
       "<polyline clip-path=\"url(#clip020)\" style=\"stroke:#000000; stroke-linecap:round; stroke-linejoin:round; stroke-width:4; stroke-opacity:1; fill:none\" points=\"838.142,756.998 838.142,775.896 \"/>\n",
       "<path clip-path=\"url(#clip020)\" d=\"M241.375 832.371 L249.968 832.371 L249.968 802.71 L240.619 804.585 L240.619 799.793 L249.916 797.918 L255.177 797.918 L255.177 832.371 L263.77 832.371 L263.77 836.798 L241.375 836.798 L241.375 832.371 Z\" fill=\"#000000\" fill-rule=\"nonzero\" fill-opacity=\"1\" /><path clip-path=\"url(#clip020)\" d=\"M311.284 832.371 L329.644 832.371 L329.644 836.798 L304.956 836.798 L304.956 832.371 Q307.951 829.272 313.107 824.064 Q318.29 818.83 319.618 817.319 Q322.144 814.481 323.133 812.528 Q324.149 810.548 324.149 808.647 Q324.149 805.548 321.961 803.595 Q319.8 801.642 316.31 801.642 Q313.837 801.642 311.076 802.502 Q308.342 803.361 305.217 805.106 L305.217 799.793 Q308.394 798.517 311.154 797.866 Q313.915 797.215 316.206 797.215 Q322.248 797.215 325.842 800.236 Q329.435 803.257 329.435 808.309 Q329.435 810.705 328.524 812.866 Q327.639 815.001 325.269 817.918 Q324.618 818.673 321.128 822.293 Q317.639 825.887 311.284 832.371 Z\" fill=\"#000000\" fill-rule=\"nonzero\" fill-opacity=\"1\" /><path clip-path=\"url(#clip020)\" d=\"M387.184 815.835 Q390.96 816.642 393.069 819.194 Q395.205 821.746 395.205 825.496 Q395.205 831.251 391.246 834.402 Q387.288 837.553 379.996 837.553 Q377.549 837.553 374.944 837.059 Q372.366 836.59 369.606 835.626 L369.606 830.548 Q371.793 831.824 374.398 832.475 Q377.002 833.126 379.84 833.126 Q384.788 833.126 387.366 831.173 Q389.97 829.22 389.97 825.496 Q389.97 822.059 387.548 820.132 Q385.153 818.179 380.856 818.179 L376.325 818.179 L376.325 813.856 L381.064 813.856 Q384.944 813.856 387.002 812.319 Q389.059 810.757 389.059 807.84 Q389.059 804.845 386.923 803.257 Q384.814 801.642 380.856 801.642 Q378.694 801.642 376.22 802.111 Q373.746 802.58 370.778 803.569 L370.778 798.882 Q373.773 798.048 376.377 797.632 Q379.007 797.215 381.325 797.215 Q387.314 797.215 390.804 799.949 Q394.293 802.658 394.293 807.293 Q394.293 810.522 392.444 812.762 Q390.595 814.975 387.184 815.835 Z\" fill=\"#000000\" fill-rule=\"nonzero\" fill-opacity=\"1\" /><path clip-path=\"url(#clip020)\" d=\"M450.896 802.502 L437.615 823.257 L450.896 823.257 L450.896 802.502 M449.516 797.918 L456.13 797.918 L456.13 823.257 L461.677 823.257 L461.677 827.632 L456.13 827.632 L456.13 836.798 L450.896 836.798 L450.896 827.632 L433.344 827.632 L433.344 822.554 L449.516 797.918 Z\" fill=\"#000000\" fill-rule=\"nonzero\" fill-opacity=\"1\" /><path clip-path=\"url(#clip020)\" d=\"M501.678 797.918 L522.329 797.918 L522.329 802.345 L506.496 802.345 L506.496 811.876 Q507.642 811.486 508.788 811.304 Q509.934 811.095 511.079 811.095 Q517.59 811.095 521.392 814.663 Q525.194 818.231 525.194 824.324 Q525.194 830.6 521.288 834.09 Q517.381 837.553 510.272 837.553 Q507.824 837.553 505.272 837.137 Q502.746 836.72 500.038 835.887 L500.038 830.6 Q502.381 831.876 504.881 832.501 Q507.381 833.126 510.168 833.126 Q514.673 833.126 517.303 830.757 Q519.933 828.387 519.933 824.324 Q519.933 820.262 517.303 817.892 Q514.673 815.522 510.168 815.522 Q508.059 815.522 505.949 815.991 Q503.866 816.46 501.678 817.449 L501.678 797.918 Z\" fill=\"#000000\" fill-rule=\"nonzero\" fill-opacity=\"1\" /><path clip-path=\"url(#clip020)\" d=\"M578.177 815.262 Q574.635 815.262 572.552 817.684 Q570.495 820.106 570.495 824.324 Q570.495 828.517 572.552 830.965 Q574.635 833.387 578.177 833.387 Q581.718 833.387 583.776 830.965 Q585.859 828.517 585.859 824.324 Q585.859 820.106 583.776 817.684 Q581.718 815.262 578.177 815.262 M588.619 798.778 L588.619 803.569 Q586.64 802.632 584.609 802.137 Q582.604 801.642 580.625 801.642 Q575.416 801.642 572.656 805.158 Q569.922 808.673 569.531 815.783 Q571.067 813.517 573.385 812.319 Q575.703 811.095 578.489 811.095 Q584.349 811.095 587.734 814.663 Q591.145 818.205 591.145 824.324 Q591.145 830.314 587.604 833.934 Q584.062 837.553 578.177 837.553 Q571.432 837.553 567.864 832.397 Q564.297 827.215 564.297 817.397 Q564.297 808.179 568.672 802.71 Q573.047 797.215 580.416 797.215 Q582.396 797.215 584.401 797.606 Q586.432 797.996 588.619 798.778 Z\" fill=\"#000000\" fill-rule=\"nonzero\" fill-opacity=\"1\" /><path clip-path=\"url(#clip020)\" d=\"M630.326 797.918 L655.326 797.918 L655.326 800.158 L641.212 836.798 L635.717 836.798 L648.998 802.345 L630.326 802.345 L630.326 797.918 Z\" fill=\"#000000\" fill-rule=\"nonzero\" fill-opacity=\"1\" /><path clip-path=\"url(#clip020)\" d=\"M707.932 818.335 Q704.182 818.335 702.02 820.34 Q699.885 822.345 699.885 825.861 Q699.885 829.376 702.02 831.382 Q704.182 833.387 707.932 833.387 Q711.682 833.387 713.843 831.382 Q716.004 829.35 716.004 825.861 Q716.004 822.345 713.843 820.34 Q711.708 818.335 707.932 818.335 M702.671 816.095 Q699.286 815.262 697.385 812.944 Q695.51 810.627 695.51 807.293 Q695.51 802.632 698.817 799.923 Q702.15 797.215 707.932 797.215 Q713.739 797.215 717.046 799.923 Q720.353 802.632 720.353 807.293 Q720.353 810.627 718.452 812.944 Q716.577 815.262 713.218 816.095 Q717.02 816.981 719.129 819.559 Q721.265 822.137 721.265 825.861 Q721.265 831.512 717.801 834.533 Q714.364 837.553 707.932 837.553 Q701.499 837.553 698.036 834.533 Q694.598 831.512 694.598 825.861 Q694.598 822.137 696.734 819.559 Q698.869 816.981 702.671 816.095 M700.744 807.788 Q700.744 810.809 702.619 812.501 Q704.52 814.194 707.932 814.194 Q711.317 814.194 713.218 812.501 Q715.145 810.809 715.145 807.788 Q715.145 804.767 713.218 803.074 Q711.317 801.382 707.932 801.382 Q704.52 801.382 702.619 803.074 Q700.744 804.767 700.744 807.788 Z\" fill=\"#000000\" fill-rule=\"nonzero\" fill-opacity=\"1\" /><path clip-path=\"url(#clip020)\" d=\"M762.125 835.991 L762.125 831.199 Q764.105 832.137 766.136 832.632 Q768.167 833.126 770.12 833.126 Q775.328 833.126 778.063 829.637 Q780.823 826.121 781.214 818.986 Q779.703 821.225 777.386 822.423 Q775.068 823.621 772.256 823.621 Q766.422 823.621 763.011 820.106 Q759.625 816.564 759.625 810.444 Q759.625 804.455 763.167 800.835 Q766.709 797.215 772.594 797.215 Q779.339 797.215 782.881 802.397 Q786.448 807.554 786.448 817.397 Q786.448 826.59 782.073 832.085 Q777.724 837.553 770.355 837.553 Q768.375 837.553 766.344 837.163 Q764.313 836.772 762.125 835.991 M772.594 819.507 Q776.136 819.507 778.193 817.085 Q780.276 814.663 780.276 810.444 Q780.276 806.252 778.193 803.83 Q776.136 801.382 772.594 801.382 Q769.052 801.382 766.969 803.83 Q764.912 806.252 764.912 810.444 Q764.912 814.663 766.969 817.085 Q769.052 819.507 772.594 819.507 Z\" fill=\"#000000\" fill-rule=\"nonzero\" fill-opacity=\"1\" /><path clip-path=\"url(#clip020)\" d=\"M809.666 832.371 L818.259 832.371 L818.259 802.71 L808.91 804.585 L808.91 799.793 L818.207 797.918 L823.468 797.918 L823.468 832.371 L832.061 832.371 L832.061 836.798 L809.666 836.798 L809.666 832.371 Z\" fill=\"#000000\" fill-rule=\"nonzero\" fill-opacity=\"1\" /><path clip-path=\"url(#clip020)\" d=\"M853.936 801.382 Q849.874 801.382 847.817 805.392 Q845.785 809.377 845.785 817.397 Q845.785 825.392 847.817 829.402 Q849.874 833.387 853.936 833.387 Q858.025 833.387 860.056 829.402 Q862.113 825.392 862.113 817.397 Q862.113 809.377 860.056 805.392 Q858.025 801.382 853.936 801.382 M853.936 797.215 Q860.473 797.215 863.91 802.397 Q867.374 807.554 867.374 817.397 Q867.374 827.215 863.91 832.397 Q860.473 837.553 853.936 837.553 Q847.4 837.553 843.936 832.397 Q840.499 827.215 840.499 817.397 Q840.499 807.554 843.936 802.397 Q847.4 797.215 853.936 797.215 Z\" fill=\"#000000\" fill-rule=\"nonzero\" fill-opacity=\"1\" /><path clip-path=\"url(#clip020)\" d=\"M299.603 894.354 L299.603 882.751 L290.055 882.751 L290.055 877.948 L305.39 877.948 L305.39 896.495 Q302.005 898.897 297.925 900.141 Q293.845 901.356 289.216 901.356 Q279.088 901.356 273.359 895.453 Q267.659 889.522 267.659 878.96 Q267.659 868.37 273.359 862.467 Q279.088 856.536 289.216 856.536 Q293.44 856.536 297.231 857.577 Q301.05 858.619 304.262 860.644 L304.262 866.865 Q301.021 864.117 297.375 862.728 Q293.729 861.339 289.707 861.339 Q281.779 861.339 277.786 865.766 Q273.822 870.193 273.822 878.96 Q273.822 887.699 277.786 892.126 Q281.779 896.553 289.707 896.553 Q292.804 896.553 295.234 896.032 Q297.665 895.482 299.603 894.354 Z\" fill=\"#000000\" fill-rule=\"nonzero\" fill-opacity=\"1\" /><path clip-path=\"url(#clip020)\" d=\"M334.615 873.086 Q333.718 872.566 332.647 872.334 Q331.605 872.074 330.332 872.074 Q325.818 872.074 323.388 875.025 Q320.986 877.948 320.986 883.445 L320.986 900.517 L315.633 900.517 L315.633 868.11 L320.986 868.11 L320.986 873.144 Q322.664 870.193 325.355 868.775 Q328.046 867.328 331.895 867.328 Q332.445 867.328 333.11 867.415 Q333.776 867.473 334.586 867.618 L334.615 873.086 Z\" fill=\"#000000\" fill-rule=\"nonzero\" fill-opacity=\"1\" /><path clip-path=\"url(#clip020)\" d=\"M351.455 871.842 Q347.172 871.842 344.684 875.199 Q342.196 878.526 342.196 884.342 Q342.196 890.158 344.655 893.515 Q347.143 896.842 351.455 896.842 Q355.708 896.842 358.197 893.486 Q360.685 890.129 360.685 884.342 Q360.685 878.584 358.197 875.228 Q355.708 871.842 351.455 871.842 M351.455 867.328 Q358.399 867.328 362.363 871.842 Q366.327 876.356 366.327 884.342 Q366.327 892.299 362.363 896.842 Q358.399 901.356 351.455 901.356 Q344.481 901.356 340.517 896.842 Q336.582 892.299 336.582 884.342 Q336.582 876.356 340.517 871.842 Q344.481 867.328 351.455 867.328 Z\" fill=\"#000000\" fill-rule=\"nonzero\" fill-opacity=\"1\" /><path clip-path=\"url(#clip020)\" d=\"M374.603 887.728 L374.603 868.11 L379.927 868.11 L379.927 887.525 Q379.927 892.126 381.721 894.441 Q383.515 896.726 387.103 896.726 Q391.414 896.726 393.903 893.978 Q396.42 891.229 396.42 886.483 L396.42 868.11 L401.744 868.11 L401.744 900.517 L396.42 900.517 L396.42 895.54 Q394.481 898.491 391.906 899.938 Q389.36 901.356 385.974 901.356 Q380.39 901.356 377.496 897.884 Q374.603 894.412 374.603 887.728 M388 867.328 L388 867.328 Z\" fill=\"#000000\" fill-rule=\"nonzero\" fill-opacity=\"1\" /><path clip-path=\"url(#clip020)\" d=\"M417.861 895.656 L417.861 912.843 L412.508 912.843 L412.508 868.11 L417.861 868.11 L417.861 873.029 Q419.539 870.135 422.085 868.746 Q424.66 867.328 428.219 867.328 Q434.122 867.328 437.797 872.016 Q441.501 876.703 441.501 884.342 Q441.501 891.981 437.797 896.669 Q434.122 901.356 428.219 901.356 Q424.66 901.356 422.085 899.967 Q419.539 898.549 417.861 895.656 M435.974 884.342 Q435.974 878.468 433.543 875.141 Q431.142 871.784 426.917 871.784 Q422.693 871.784 420.262 875.141 Q417.861 878.468 417.861 884.342 Q417.861 890.216 420.262 893.572 Q422.693 896.9 426.917 896.9 Q431.142 896.9 433.543 893.572 Q435.974 890.216 435.974 884.342 Z\" fill=\"#000000\" fill-rule=\"nonzero\" fill-opacity=\"1\" /><path clip-path=\"url(#clip020)\" d=\"M514.61 860.23 Q514.61 860.611 514.522 860.874 Q514.434 861.109 514.229 861.226 Q514.024 861.343 513.907 861.372 Q513.79 861.401 513.526 861.431 Q512.267 861.548 511.389 861.753 Q510.54 861.958 508.432 863.012 Q506.353 864.066 503.748 865.969 L493.266 874.079 L491.509 875.455 Q491.509 875.543 491.568 875.718 Q491.626 875.865 491.685 876.07 Q491.773 876.245 491.802 876.304 L500.322 895.95 Q500.995 897.531 501.815 898.087 Q502.635 898.643 504.48 898.672 Q504.772 898.672 504.889 898.702 Q505.036 898.702 505.241 898.76 Q505.475 898.789 505.563 898.936 Q505.68 899.082 505.68 899.316 Q505.68 900.517 504.597 900.517 Q503.923 900.517 501.64 900.429 Q499.356 900.341 498.712 900.341 Q497.511 900.341 495.052 900.429 Q492.593 900.517 491.392 900.517 Q490.543 900.517 490.543 899.843 Q490.543 899.287 490.748 899.024 Q490.982 898.731 491.187 898.702 Q491.392 898.672 491.861 898.672 Q492.212 898.672 492.593 898.643 Q493.003 898.585 493.588 898.438 Q494.203 898.262 494.584 897.853 Q494.993 897.413 494.993 896.799 Q494.993 896.301 494.261 894.691 L487.323 878.558 L478.393 885.527 L475.992 894.954 Q475.933 895.305 475.787 895.92 Q475.641 896.535 475.524 896.974 Q475.436 897.413 475.436 897.589 Q475.436 897.97 475.67 898.204 Q475.933 898.438 476.578 898.555 Q477.222 898.643 477.719 898.672 Q478.246 898.672 479.33 898.672 Q480.676 898.672 480.911 898.907 Q481.028 899.053 481.028 899.316 Q481.028 899.726 480.911 900.019 Q480.794 900.283 480.559 900.37 Q480.354 900.458 480.208 900.488 Q480.062 900.517 479.827 900.517 Q479.213 900.517 477.895 900.458 Q476.607 900.4 475.933 900.4 L472.098 900.341 L464.486 900.517 Q463.578 900.517 463.578 899.785 Q463.578 899.229 463.812 898.994 Q464.047 898.731 464.31 898.702 Q464.574 898.672 465.247 898.672 Q466.711 898.672 467.589 898.585 Q468.467 898.497 469.024 898.38 Q469.609 898.233 469.902 897.823 Q470.224 897.413 470.371 897.062 Q470.517 896.681 470.722 895.832 L478.744 863.627 Q478.978 862.66 478.978 862.514 Q478.978 862.016 478.686 861.841 Q478.422 861.636 477.661 861.548 Q476.197 861.431 475.084 861.431 Q474.352 861.431 474.06 861.401 Q473.796 861.372 473.562 861.226 Q473.357 861.05 473.357 860.699 Q473.357 859.557 474.557 859.557 L482.287 859.733 L489.958 859.557 Q490.807 859.557 490.807 860.23 Q490.807 861.079 490.397 861.255 Q490.016 861.431 488.757 861.431 Q486.561 861.431 485.566 861.723 Q484.6 861.987 484.307 862.455 Q484.043 862.895 483.721 864.183 L478.92 883.419 L502.313 865.442 Q504.48 863.627 504.48 862.69 Q504.48 862.075 504.04 861.811 Q503.63 861.519 502.606 861.431 Q501.874 861.314 501.874 860.757 Q501.874 860.201 502.079 859.938 Q502.313 859.645 502.489 859.615 Q502.694 859.557 503.016 859.557 Q504.099 859.557 506.353 859.645 Q508.608 859.733 509.691 859.733 Q510.423 859.733 511.858 859.645 Q513.292 859.557 513.936 859.557 Q514.258 859.557 514.434 859.791 Q514.61 859.996 514.61 860.23 Z\" fill=\"#000000\" fill-rule=\"nonzero\" fill-opacity=\"1\" /><path clip-path=\"url(#clip020)\" d=\"M513.97 881.912 L529.566 881.912 L529.566 886.657 L513.97 886.657 L513.97 881.912 Z\" fill=\"#000000\" fill-rule=\"nonzero\" fill-opacity=\"1\" /><path clip-path=\"url(#clip020)\" d=\"M554.45 855.494 L554.45 859.921 L549.358 859.921 Q546.493 859.921 545.365 861.078 Q544.265 862.236 544.265 865.245 L544.265 868.11 L553.032 868.11 L553.032 872.247 L544.265 872.247 L544.265 900.517 L538.912 900.517 L538.912 872.247 L533.819 872.247 L533.819 868.11 L538.912 868.11 L538.912 865.853 Q538.912 860.442 541.429 857.982 Q543.947 855.494 549.415 855.494 L554.45 855.494 Z\" fill=\"#000000\" fill-rule=\"nonzero\" fill-opacity=\"1\" /><path clip-path=\"url(#clip020)\" d=\"M571.464 871.842 Q567.182 871.842 564.693 875.199 Q562.205 878.526 562.205 884.342 Q562.205 890.158 564.664 893.515 Q567.153 896.842 571.464 896.842 Q575.717 896.842 578.206 893.486 Q580.694 890.129 580.694 884.342 Q580.694 878.584 578.206 875.228 Q575.717 871.842 571.464 871.842 M571.464 867.328 Q578.408 867.328 582.372 871.842 Q586.337 876.356 586.337 884.342 Q586.337 892.299 582.372 896.842 Q578.408 901.356 571.464 901.356 Q564.491 901.356 560.527 896.842 Q556.591 892.299 556.591 884.342 Q556.591 876.356 560.527 871.842 Q564.491 867.328 571.464 867.328 Z\" fill=\"#000000\" fill-rule=\"nonzero\" fill-opacity=\"1\" /><path clip-path=\"url(#clip020)\" d=\"M595.162 855.494 L600.486 855.494 L600.486 900.517 L595.162 900.517 L595.162 855.494 Z\" fill=\"#000000\" fill-rule=\"nonzero\" fill-opacity=\"1\" /><path clip-path=\"url(#clip020)\" d=\"M632.951 873.029 L632.951 855.494 L638.275 855.494 L638.275 900.517 L632.951 900.517 L632.951 895.656 Q631.273 898.549 628.697 899.967 Q626.151 901.356 622.563 901.356 Q616.689 901.356 612.986 896.669 Q609.311 891.981 609.311 884.342 Q609.311 876.703 612.986 872.016 Q616.689 867.328 622.563 867.328 Q626.151 867.328 628.697 868.746 Q631.273 870.135 632.951 873.029 M614.809 884.342 Q614.809 890.216 617.21 893.572 Q619.641 896.9 623.865 896.9 Q628.09 896.9 630.52 893.572 Q632.951 890.216 632.951 884.342 Q632.951 878.468 630.52 875.141 Q628.09 871.784 623.865 871.784 Q619.641 871.784 617.21 875.141 Q614.809 878.468 614.809 884.342 Z\" fill=\"#000000\" fill-rule=\"nonzero\" fill-opacity=\"1\" /><path clip-path=\"url(#clip020)\" d=\"M668.078 868.11 L673.402 868.11 L673.402 900.517 L668.078 900.517 L668.078 868.11 M668.078 855.494 L673.402 855.494 L673.402 862.236 L668.078 862.236 L668.078 855.494 Z\" fill=\"#000000\" fill-rule=\"nonzero\" fill-opacity=\"1\" /><path clip-path=\"url(#clip020)\" d=\"M711.481 880.957 L711.481 900.517 L706.157 900.517 L706.157 881.13 Q706.157 876.53 704.363 874.244 Q702.569 871.958 698.981 871.958 Q694.669 871.958 692.181 874.707 Q689.692 877.456 689.692 882.201 L689.692 900.517 L684.34 900.517 L684.34 868.11 L689.692 868.11 L689.692 873.144 Q691.602 870.222 694.177 868.775 Q696.782 867.328 700.167 867.328 Q705.751 867.328 708.616 870.801 Q711.481 874.244 711.481 880.957 Z\" fill=\"#000000\" fill-rule=\"nonzero\" fill-opacity=\"1\" /><path clip-path=\"url(#clip020)\" d=\"M743.425 873.029 L743.425 855.494 L748.749 855.494 L748.749 900.517 L743.425 900.517 L743.425 895.656 Q741.747 898.549 739.171 899.967 Q736.625 901.356 733.037 901.356 Q727.163 901.356 723.46 896.669 Q719.785 891.981 719.785 884.342 Q719.785 876.703 723.46 872.016 Q727.163 867.328 733.037 867.328 Q736.625 867.328 739.171 868.746 Q741.747 870.135 743.425 873.029 M725.283 884.342 Q725.283 890.216 727.684 893.572 Q730.115 896.9 734.339 896.9 Q738.564 896.9 740.994 893.572 Q743.425 890.216 743.425 884.342 Q743.425 878.468 740.994 875.141 Q738.564 871.784 734.339 871.784 Q730.115 871.784 727.684 875.141 Q725.283 878.468 725.283 884.342 Z\" fill=\"#000000\" fill-rule=\"nonzero\" fill-opacity=\"1\" /><path clip-path=\"url(#clip020)\" d=\"M787.435 882.982 L787.435 885.586 L762.956 885.586 Q763.303 891.084 766.255 893.978 Q769.235 896.842 774.53 896.842 Q777.597 896.842 780.462 896.09 Q783.355 895.338 786.191 893.833 L786.191 898.868 Q783.326 900.083 780.317 900.719 Q777.308 901.356 774.212 901.356 Q766.457 901.356 761.914 896.842 Q757.4 892.328 757.4 884.632 Q757.4 876.674 761.683 872.016 Q765.994 867.328 773.286 867.328 Q779.825 867.328 783.616 871.553 Q787.435 875.749 787.435 882.982 M782.111 881.42 Q782.053 877.051 779.651 874.446 Q777.279 871.842 773.344 871.842 Q768.888 871.842 766.197 874.36 Q763.535 876.877 763.13 881.449 L782.111 881.42 Z\" fill=\"#000000\" fill-rule=\"nonzero\" fill-opacity=\"1\" /><path clip-path=\"url(#clip020)\" d=\"M822.07 868.11 L810.352 883.879 L822.678 900.517 L816.399 900.517 L806.966 887.785 L797.533 900.517 L791.254 900.517 L803.841 883.561 L792.325 868.11 L798.604 868.11 L807.198 879.655 L815.791 868.11 L822.07 868.11 Z\" fill=\"#000000\" fill-rule=\"nonzero\" fill-opacity=\"1\" /><polyline clip-path=\"url(#clip020)\" style=\"stroke:#000000; stroke-linecap:round; stroke-linejoin:round; stroke-width:4; stroke-opacity:1; fill:none\" points=\"234.616,756.998 234.616,88.2143 \"/>\n",
       "<polyline clip-path=\"url(#clip020)\" style=\"stroke:#000000; stroke-linecap:round; stroke-linejoin:round; stroke-width:4; stroke-opacity:1; fill:none\" points=\"234.616,756.998 215.719,756.998 \"/>\n",
       "<polyline clip-path=\"url(#clip020)\" style=\"stroke:#000000; stroke-linecap:round; stroke-linejoin:round; stroke-width:4; stroke-opacity:1; fill:none\" points=\"234.616,604.099 215.719,604.099 \"/>\n",
       "<polyline clip-path=\"url(#clip020)\" style=\"stroke:#000000; stroke-linecap:round; stroke-linejoin:round; stroke-width:4; stroke-opacity:1; fill:none\" points=\"234.616,451.199 215.719,451.199 \"/>\n",
       "<polyline clip-path=\"url(#clip020)\" style=\"stroke:#000000; stroke-linecap:round; stroke-linejoin:round; stroke-width:4; stroke-opacity:1; fill:none\" points=\"234.616,298.299 215.719,298.299 \"/>\n",
       "<polyline clip-path=\"url(#clip020)\" style=\"stroke:#000000; stroke-linecap:round; stroke-linejoin:round; stroke-width:4; stroke-opacity:1; fill:none\" points=\"234.616,145.399 215.719,145.399 \"/>\n",
       "<path clip-path=\"url(#clip020)\" d=\"M43.9296 741.022 Q39.8671 741.022 37.8098 745.032 Q35.7786 749.017 35.7786 757.037 Q35.7786 765.032 37.8098 769.042 Q39.8671 773.027 43.9296 773.027 Q48.0181 773.027 50.0493 769.042 Q52.1066 765.032 52.1066 757.037 Q52.1066 749.017 50.0493 745.032 Q48.0181 741.022 43.9296 741.022 M43.9296 736.855 Q50.466 736.855 53.9035 742.037 Q57.367 747.194 57.367 757.037 Q57.367 766.855 53.9035 772.037 Q50.466 777.193 43.9296 777.193 Q37.3931 777.193 33.9296 772.037 Q30.4921 766.855 30.4921 757.037 Q30.4921 747.194 33.9296 742.037 Q37.3931 736.855 43.9296 736.855 Z\" fill=\"#000000\" fill-rule=\"nonzero\" fill-opacity=\"1\" /><path clip-path=\"url(#clip020)\" d=\"M66.6117 769.824 L72.1065 769.824 L72.1065 776.438 L66.6117 776.438 L66.6117 769.824 Z\" fill=\"#000000\" fill-rule=\"nonzero\" fill-opacity=\"1\" /><path clip-path=\"url(#clip020)\" d=\"M94.8147 741.022 Q90.7522 741.022 88.6949 745.032 Q86.6637 749.017 86.6637 757.037 Q86.6637 765.032 88.6949 769.042 Q90.7522 773.027 94.8147 773.027 Q98.9032 773.027 100.934 769.042 Q102.992 765.032 102.992 757.037 Q102.992 749.017 100.934 745.032 Q98.9032 741.022 94.8147 741.022 M94.8147 736.855 Q101.351 736.855 104.789 742.037 Q108.252 747.194 108.252 757.037 Q108.252 766.855 104.789 772.037 Q101.351 777.193 94.8147 777.193 Q88.2783 777.193 84.8148 772.037 Q81.3773 766.855 81.3773 757.037 Q81.3773 747.194 84.8148 742.037 Q88.2783 736.855 94.8147 736.855 Z\" fill=\"#000000\" fill-rule=\"nonzero\" fill-opacity=\"1\" /><path clip-path=\"url(#clip020)\" d=\"M128.747 741.022 Q124.684 741.022 122.627 745.032 Q120.596 749.017 120.596 757.037 Q120.596 765.032 122.627 769.042 Q124.684 773.027 128.747 773.027 Q132.835 773.027 134.867 769.042 Q136.924 765.032 136.924 757.037 Q136.924 749.017 134.867 745.032 Q132.835 741.022 128.747 741.022 M128.747 736.855 Q135.283 736.855 138.721 742.037 Q142.184 747.194 142.184 757.037 Q142.184 766.855 138.721 772.037 Q135.283 777.193 128.747 777.193 Q122.21 777.193 118.747 772.037 Q115.309 766.855 115.309 757.037 Q115.309 747.194 118.747 742.037 Q122.21 736.855 128.747 736.855 Z\" fill=\"#000000\" fill-rule=\"nonzero\" fill-opacity=\"1\" /><path clip-path=\"url(#clip020)\" d=\"M162.679 741.022 Q158.616 741.022 156.559 745.032 Q154.528 749.017 154.528 757.037 Q154.528 765.032 156.559 769.042 Q158.616 773.027 162.679 773.027 Q166.767 773.027 168.799 769.042 Q170.856 765.032 170.856 757.037 Q170.856 749.017 168.799 745.032 Q166.767 741.022 162.679 741.022 M162.679 736.855 Q169.215 736.855 172.653 742.037 Q176.116 747.194 176.116 757.037 Q176.116 766.855 172.653 772.037 Q169.215 777.193 162.679 777.193 Q156.142 777.193 152.679 772.037 Q149.241 766.855 149.241 757.037 Q149.241 747.194 152.679 742.037 Q156.142 736.855 162.679 736.855 Z\" fill=\"#000000\" fill-rule=\"nonzero\" fill-opacity=\"1\" /><path clip-path=\"url(#clip020)\" d=\"M45.0493 588.122 Q40.9869 588.122 38.9296 592.132 Q36.8983 596.117 36.8983 604.138 Q36.8983 612.132 38.9296 616.143 Q40.9869 620.127 45.0493 620.127 Q49.1379 620.127 51.1691 616.143 Q53.2264 612.132 53.2264 604.138 Q53.2264 596.117 51.1691 592.132 Q49.1379 588.122 45.0493 588.122 M45.0493 583.955 Q51.5858 583.955 55.0232 589.138 Q58.4868 594.294 58.4868 604.138 Q58.4868 613.955 55.0232 619.138 Q51.5858 624.294 45.0493 624.294 Q38.5129 624.294 35.0494 619.138 Q31.6119 613.955 31.6119 604.138 Q31.6119 594.294 35.0494 589.138 Q38.5129 583.955 45.0493 583.955 Z\" fill=\"#000000\" fill-rule=\"nonzero\" fill-opacity=\"1\" /><path clip-path=\"url(#clip020)\" d=\"M67.7315 616.924 L73.2263 616.924 L73.2263 623.539 L67.7315 623.539 L67.7315 616.924 Z\" fill=\"#000000\" fill-rule=\"nonzero\" fill-opacity=\"1\" /><path clip-path=\"url(#clip020)\" d=\"M95.9345 588.122 Q91.872 588.122 89.8147 592.132 Q87.7835 596.117 87.7835 604.138 Q87.7835 612.132 89.8147 616.143 Q91.872 620.127 95.9345 620.127 Q100.023 620.127 102.054 616.143 Q104.112 612.132 104.112 604.138 Q104.112 596.117 102.054 592.132 Q100.023 588.122 95.9345 588.122 M95.9345 583.955 Q102.471 583.955 105.908 589.138 Q109.372 594.294 109.372 604.138 Q109.372 613.955 105.908 619.138 Q102.471 624.294 95.9345 624.294 Q89.3981 624.294 85.9345 619.138 Q82.4971 613.955 82.4971 604.138 Q82.4971 594.294 85.9345 589.138 Q89.3981 583.955 95.9345 583.955 Z\" fill=\"#000000\" fill-rule=\"nonzero\" fill-opacity=\"1\" /><path clip-path=\"url(#clip020)\" d=\"M123.148 619.111 L141.507 619.111 L141.507 623.539 L116.82 623.539 L116.82 619.111 Q119.815 616.013 124.971 610.804 Q130.153 605.57 131.481 604.059 Q134.007 601.221 134.997 599.268 Q136.012 597.289 136.012 595.388 Q136.012 592.289 133.825 590.336 Q131.663 588.382 128.174 588.382 Q125.7 588.382 122.94 589.242 Q120.205 590.101 117.08 591.846 L117.08 586.534 Q120.257 585.257 123.018 584.606 Q125.778 583.955 128.07 583.955 Q134.111 583.955 137.705 586.976 Q141.299 589.997 141.299 595.049 Q141.299 597.445 140.387 599.606 Q139.502 601.742 137.132 604.658 Q136.481 605.414 132.992 609.033 Q129.502 612.627 123.148 619.111 Z\" fill=\"#000000\" fill-rule=\"nonzero\" fill-opacity=\"1\" /><path clip-path=\"url(#clip020)\" d=\"M152.601 584.659 L173.252 584.659 L173.252 589.086 L157.419 589.086 L157.419 598.617 Q158.564 598.226 159.71 598.044 Q160.856 597.836 162.002 597.836 Q168.512 597.836 172.314 601.403 Q176.116 604.971 176.116 611.065 Q176.116 617.341 172.21 620.83 Q168.304 624.294 161.195 624.294 Q158.747 624.294 156.195 623.877 Q153.669 623.46 150.96 622.627 L150.96 617.341 Q153.304 618.617 155.804 619.242 Q158.304 619.867 161.09 619.867 Q165.596 619.867 168.226 617.497 Q170.856 615.127 170.856 611.065 Q170.856 607.002 168.226 604.632 Q165.596 602.263 161.09 602.263 Q158.981 602.263 156.872 602.731 Q154.788 603.2 152.601 604.19 L152.601 584.659 Z\" fill=\"#000000\" fill-rule=\"nonzero\" fill-opacity=\"1\" /><path clip-path=\"url(#clip020)\" d=\"M43.9296 435.222 Q39.8671 435.222 37.8098 439.233 Q35.7786 443.217 35.7786 451.238 Q35.7786 459.233 37.8098 463.243 Q39.8671 467.227 43.9296 467.227 Q48.0181 467.227 50.0493 463.243 Q52.1066 459.233 52.1066 451.238 Q52.1066 443.217 50.0493 439.233 Q48.0181 435.222 43.9296 435.222 M43.9296 431.056 Q50.466 431.056 53.9035 436.238 Q57.367 441.394 57.367 451.238 Q57.367 461.056 53.9035 466.238 Q50.466 471.394 43.9296 471.394 Q37.3931 471.394 33.9296 466.238 Q30.4921 461.056 30.4921 451.238 Q30.4921 441.394 33.9296 436.238 Q37.3931 431.056 43.9296 431.056 Z\" fill=\"#000000\" fill-rule=\"nonzero\" fill-opacity=\"1\" /><path clip-path=\"url(#clip020)\" d=\"M66.6117 464.024 L72.1065 464.024 L72.1065 470.639 L66.6117 470.639 L66.6117 464.024 Z\" fill=\"#000000\" fill-rule=\"nonzero\" fill-opacity=\"1\" /><path clip-path=\"url(#clip020)\" d=\"M94.8147 435.222 Q90.7522 435.222 88.6949 439.233 Q86.6637 443.217 86.6637 451.238 Q86.6637 459.233 88.6949 463.243 Q90.7522 467.227 94.8147 467.227 Q98.9032 467.227 100.934 463.243 Q102.992 459.233 102.992 451.238 Q102.992 443.217 100.934 439.233 Q98.9032 435.222 94.8147 435.222 M94.8147 431.056 Q101.351 431.056 104.789 436.238 Q108.252 441.394 108.252 451.238 Q108.252 461.056 104.789 466.238 Q101.351 471.394 94.8147 471.394 Q88.2783 471.394 84.8148 466.238 Q81.3773 461.056 81.3773 451.238 Q81.3773 441.394 84.8148 436.238 Q88.2783 431.056 94.8147 431.056 Z\" fill=\"#000000\" fill-rule=\"nonzero\" fill-opacity=\"1\" /><path clip-path=\"url(#clip020)\" d=\"M117.549 431.759 L138.2 431.759 L138.2 436.186 L122.367 436.186 L122.367 445.717 Q123.512 445.326 124.658 445.144 Q125.804 444.936 126.95 444.936 Q133.46 444.936 137.262 448.504 Q141.064 452.071 141.064 458.165 Q141.064 464.441 137.158 467.931 Q133.252 471.394 126.143 471.394 Q123.695 471.394 121.143 470.977 Q118.617 470.561 115.908 469.727 L115.908 464.441 Q118.252 465.717 120.752 466.342 Q123.252 466.967 126.038 466.967 Q130.544 466.967 133.174 464.597 Q135.804 462.227 135.804 458.165 Q135.804 454.102 133.174 451.733 Q130.544 449.363 126.038 449.363 Q123.929 449.363 121.82 449.832 Q119.736 450.3 117.549 451.29 L117.549 431.759 Z\" fill=\"#000000\" fill-rule=\"nonzero\" fill-opacity=\"1\" /><path clip-path=\"url(#clip020)\" d=\"M162.679 435.222 Q158.616 435.222 156.559 439.233 Q154.528 443.217 154.528 451.238 Q154.528 459.233 156.559 463.243 Q158.616 467.227 162.679 467.227 Q166.767 467.227 168.799 463.243 Q170.856 459.233 170.856 451.238 Q170.856 443.217 168.799 439.233 Q166.767 435.222 162.679 435.222 M162.679 431.056 Q169.215 431.056 172.653 436.238 Q176.116 441.394 176.116 451.238 Q176.116 461.056 172.653 466.238 Q169.215 471.394 162.679 471.394 Q156.142 471.394 152.679 466.238 Q149.241 461.056 149.241 451.238 Q149.241 441.394 152.679 436.238 Q156.142 431.056 162.679 431.056 Z\" fill=\"#000000\" fill-rule=\"nonzero\" fill-opacity=\"1\" /><path clip-path=\"url(#clip020)\" d=\"M45.0493 282.323 Q40.9869 282.323 38.9296 286.333 Q36.8983 290.317 36.8983 298.338 Q36.8983 306.333 38.9296 310.343 Q40.9869 314.328 45.0493 314.328 Q49.1379 314.328 51.1691 310.343 Q53.2264 306.333 53.2264 298.338 Q53.2264 290.317 51.1691 286.333 Q49.1379 282.323 45.0493 282.323 M45.0493 278.156 Q51.5858 278.156 55.0232 283.338 Q58.4868 288.494 58.4868 298.338 Q58.4868 308.156 55.0232 313.338 Q51.5858 318.494 45.0493 318.494 Q38.5129 318.494 35.0494 313.338 Q31.6119 308.156 31.6119 298.338 Q31.6119 288.494 35.0494 283.338 Q38.5129 278.156 45.0493 278.156 Z\" fill=\"#000000\" fill-rule=\"nonzero\" fill-opacity=\"1\" /><path clip-path=\"url(#clip020)\" d=\"M67.7315 311.125 L73.2263 311.125 L73.2263 317.739 L67.7315 317.739 L67.7315 311.125 Z\" fill=\"#000000\" fill-rule=\"nonzero\" fill-opacity=\"1\" /><path clip-path=\"url(#clip020)\" d=\"M95.9345 282.323 Q91.872 282.323 89.8147 286.333 Q87.7835 290.317 87.7835 298.338 Q87.7835 306.333 89.8147 310.343 Q91.872 314.328 95.9345 314.328 Q100.023 314.328 102.054 310.343 Q104.112 306.333 104.112 298.338 Q104.112 290.317 102.054 286.333 Q100.023 282.323 95.9345 282.323 M95.9345 278.156 Q102.471 278.156 105.908 283.338 Q109.372 288.494 109.372 298.338 Q109.372 308.156 105.908 313.338 Q102.471 318.494 95.9345 318.494 Q89.3981 318.494 85.9345 313.338 Q82.4971 308.156 82.4971 298.338 Q82.4971 288.494 85.9345 283.338 Q89.3981 278.156 95.9345 278.156 Z\" fill=\"#000000\" fill-rule=\"nonzero\" fill-opacity=\"1\" /><path clip-path=\"url(#clip020)\" d=\"M117.289 278.859 L142.288 278.859 L142.288 281.099 L128.174 317.739 L122.679 317.739 L135.96 283.286 L117.289 283.286 L117.289 278.859 Z\" fill=\"#000000\" fill-rule=\"nonzero\" fill-opacity=\"1\" /><path clip-path=\"url(#clip020)\" d=\"M152.601 278.859 L173.252 278.859 L173.252 283.286 L157.419 283.286 L157.419 292.817 Q158.564 292.427 159.71 292.244 Q160.856 292.036 162.002 292.036 Q168.512 292.036 172.314 295.604 Q176.116 299.172 176.116 305.265 Q176.116 311.541 172.21 315.031 Q168.304 318.494 161.195 318.494 Q158.747 318.494 156.195 318.078 Q153.669 317.661 150.96 316.828 L150.96 311.541 Q153.304 312.817 155.804 313.442 Q158.304 314.067 161.09 314.067 Q165.596 314.067 168.226 311.697 Q170.856 309.328 170.856 305.265 Q170.856 301.203 168.226 298.833 Q165.596 296.463 161.09 296.463 Q158.981 296.463 156.872 296.932 Q154.788 297.401 152.601 298.39 L152.601 278.859 Z\" fill=\"#000000\" fill-rule=\"nonzero\" fill-opacity=\"1\" /><path clip-path=\"url(#clip020)\" d=\"M43.9296 129.423 Q39.8671 129.423 37.8098 133.433 Q35.7786 137.418 35.7786 145.438 Q35.7786 153.433 37.8098 157.444 Q39.8671 161.428 43.9296 161.428 Q48.0181 161.428 50.0493 157.444 Q52.1066 153.433 52.1066 145.438 Q52.1066 137.418 50.0493 133.433 Q48.0181 129.423 43.9296 129.423 M43.9296 125.256 Q50.466 125.256 53.9035 130.439 Q57.367 135.595 57.367 145.438 Q57.367 155.256 53.9035 160.438 Q50.466 165.595 43.9296 165.595 Q37.3931 165.595 33.9296 160.438 Q30.4921 155.256 30.4921 145.438 Q30.4921 135.595 33.9296 130.439 Q37.3931 125.256 43.9296 125.256 Z\" fill=\"#000000\" fill-rule=\"nonzero\" fill-opacity=\"1\" /><path clip-path=\"url(#clip020)\" d=\"M66.6117 158.225 L72.1065 158.225 L72.1065 164.839 L66.6117 164.839 L66.6117 158.225 Z\" fill=\"#000000\" fill-rule=\"nonzero\" fill-opacity=\"1\" /><path clip-path=\"url(#clip020)\" d=\"M84.4762 160.412 L93.0699 160.412 L93.0699 130.751 L83.721 132.626 L83.721 127.834 L93.0178 125.959 L98.2782 125.959 L98.2782 160.412 L106.872 160.412 L106.872 164.839 L84.4762 164.839 L84.4762 160.412 Z\" fill=\"#000000\" fill-rule=\"nonzero\" fill-opacity=\"1\" /><path clip-path=\"url(#clip020)\" d=\"M128.747 129.423 Q124.684 129.423 122.627 133.433 Q120.596 137.418 120.596 145.438 Q120.596 153.433 122.627 157.444 Q124.684 161.428 128.747 161.428 Q132.835 161.428 134.867 157.444 Q136.924 153.433 136.924 145.438 Q136.924 137.418 134.867 133.433 Q132.835 129.423 128.747 129.423 M128.747 125.256 Q135.283 125.256 138.721 130.439 Q142.184 135.595 142.184 145.438 Q142.184 155.256 138.721 160.438 Q135.283 165.595 128.747 165.595 Q122.21 165.595 118.747 160.438 Q115.309 155.256 115.309 145.438 Q115.309 135.595 118.747 130.439 Q122.21 125.256 128.747 125.256 Z\" fill=\"#000000\" fill-rule=\"nonzero\" fill-opacity=\"1\" /><path clip-path=\"url(#clip020)\" d=\"M162.679 129.423 Q158.616 129.423 156.559 133.433 Q154.528 137.418 154.528 145.438 Q154.528 153.433 156.559 157.444 Q158.616 161.428 162.679 161.428 Q166.767 161.428 168.799 157.444 Q170.856 153.433 170.856 145.438 Q170.856 137.418 168.799 133.433 Q166.767 129.423 162.679 129.423 M162.679 125.256 Q169.215 125.256 172.653 130.439 Q176.116 135.595 176.116 145.438 Q176.116 155.256 172.653 160.438 Q169.215 165.595 162.679 165.595 Q156.142 165.595 152.679 160.438 Q149.241 155.256 149.241 145.438 Q149.241 135.595 152.679 130.439 Q156.142 125.256 162.679 125.256 Z\" fill=\"#000000\" fill-rule=\"nonzero\" fill-opacity=\"1\" /><path clip-path=\"url(#clip020)\" d=\"M350.203 34.744 Q352.272 35.4443 354.213 37.7359 Q356.187 40.0276 358.16 44.038 L364.685 57.024 L357.778 57.024 L351.699 44.8337 Q349.343 40.0594 347.115 38.4998 Q344.919 36.9402 341.1 36.9402 L334.098 36.9402 L334.098 57.024 L327.668 57.024 L327.668 9.504 L342.182 9.504 Q350.33 9.504 354.34 12.9097 Q358.351 16.3153 358.351 23.1903 Q358.351 27.6781 356.25 30.6381 Q354.181 33.5982 350.203 34.744 M334.098 14.7875 L334.098 31.6567 L342.182 31.6567 Q346.829 31.6567 349.184 29.5241 Q351.571 27.3598 351.571 23.1903 Q351.571 19.0207 349.184 16.92 Q346.829 14.7875 342.182 14.7875 L334.098 14.7875 Z\" fill=\"#000000\" fill-rule=\"nonzero\" fill-opacity=\"1\" /><path clip-path=\"url(#clip020)\" d=\"M400.269 37.7359 L400.269 40.6005 L373.342 40.6005 Q373.724 46.6479 376.971 49.8308 Q380.249 52.9818 386.074 52.9818 Q389.447 52.9818 392.598 52.1542 Q395.781 51.3267 398.9 49.6716 L398.9 55.2098 Q395.749 56.5466 392.439 57.2468 Q389.129 57.947 385.723 57.947 Q377.193 57.947 372.196 52.9818 Q367.231 48.0165 367.231 39.5501 Q367.231 30.7973 371.942 25.6729 Q376.684 20.5167 384.705 20.5167 Q391.898 20.5167 396.068 25.1636 Q400.269 29.7788 400.269 37.7359 M394.413 36.0172 Q394.349 31.2111 391.707 28.3465 Q389.097 25.4819 384.769 25.4819 Q379.867 25.4819 376.907 28.251 Q373.979 31.0201 373.533 36.049 L394.413 36.0172 Z\" fill=\"#000000\" fill-rule=\"nonzero\" fill-opacity=\"1\" /><path clip-path=\"url(#clip020)\" d=\"M409.881 7.4988 L415.738 7.4988 L415.738 57.024 L409.881 57.024 L409.881 7.4988 Z\" fill=\"#000000\" fill-rule=\"nonzero\" fill-opacity=\"1\" /><path clip-path=\"url(#clip020)\" d=\"M444.192 39.1045 Q437.095 39.1045 434.357 40.7278 Q431.62 42.351 431.62 46.266 Q431.62 49.3852 433.657 51.2312 Q435.726 53.0454 439.259 53.0454 Q444.129 53.0454 447.057 49.608 Q450.017 46.1386 450.017 40.4095 L450.017 39.1045 L444.192 39.1045 M455.873 36.6856 L455.873 57.024 L450.017 57.024 L450.017 51.6131 Q448.012 54.8597 445.02 56.4193 Q442.028 57.947 437.699 57.947 Q432.225 57.947 428.978 54.8915 Q425.764 51.8041 425.764 46.6479 Q425.764 40.6323 429.774 37.5768 Q433.816 34.5212 441.805 34.5212 L450.017 34.5212 L450.017 33.9483 Q450.017 29.9061 447.343 27.7099 Q444.702 25.4819 439.896 25.4819 Q436.84 25.4819 433.944 26.214 Q431.047 26.946 428.374 28.4101 L428.374 22.9993 Q431.588 21.758 434.612 21.1532 Q437.636 20.5167 440.5 20.5167 Q448.235 20.5167 452.054 24.5271 Q455.873 28.5375 455.873 36.6856 Z\" fill=\"#000000\" fill-rule=\"nonzero\" fill-opacity=\"1\" /><path clip-path=\"url(#clip020)\" d=\"M473.729 11.2546 L473.729 21.376 L485.792 21.376 L485.792 25.9275 L473.729 25.9275 L473.729 45.2793 Q473.729 49.6398 474.907 50.8811 Q476.116 52.1224 479.777 52.1224 L485.792 52.1224 L485.792 57.024 L479.777 57.024 Q472.997 57.024 470.419 54.5095 Q467.841 51.9633 467.841 45.2793 L467.841 25.9275 L463.544 25.9275 L463.544 21.376 L467.841 21.376 L467.841 11.2546 L473.729 11.2546 Z\" fill=\"#000000\" fill-rule=\"nonzero\" fill-opacity=\"1\" /><path clip-path=\"url(#clip020)\" d=\"M493.495 21.376 L499.351 21.376 L499.351 57.024 L493.495 57.024 L493.495 21.376 M493.495 7.4988 L499.351 7.4988 L499.351 14.9149 L493.495 14.9149 L493.495 7.4988 Z\" fill=\"#000000\" fill-rule=\"nonzero\" fill-opacity=\"1\" /><path clip-path=\"url(#clip020)\" d=\"M507.404 21.376 L513.61 21.376 L524.75 51.2949 L535.89 21.376 L542.097 21.376 L528.729 57.024 L520.772 57.024 L507.404 21.376 Z\" fill=\"#000000\" fill-rule=\"nonzero\" fill-opacity=\"1\" /><path clip-path=\"url(#clip020)\" d=\"M580.673 37.7359 L580.673 40.6005 L553.746 40.6005 Q554.128 46.6479 557.375 49.8308 Q560.653 52.9818 566.478 52.9818 Q569.851 52.9818 573.002 52.1542 Q576.185 51.3267 579.305 49.6716 L579.305 55.2098 Q576.154 56.5466 572.843 57.2468 Q569.533 57.947 566.128 57.947 Q557.597 57.947 552.6 52.9818 Q547.635 48.0165 547.635 39.5501 Q547.635 30.7973 552.346 25.6729 Q557.088 20.5167 565.109 20.5167 Q572.302 20.5167 576.472 25.1636 Q580.673 29.7788 580.673 37.7359 M574.817 36.0172 Q574.753 31.2111 572.111 28.3465 Q569.501 25.4819 565.173 25.4819 Q560.271 25.4819 557.311 28.251 Q554.383 31.0201 553.937 36.049 L574.817 36.0172 Z\" fill=\"#000000\" fill-rule=\"nonzero\" fill-opacity=\"1\" /><path clip-path=\"url(#clip020)\" d=\"M641.497 37.7359 L641.497 40.6005 L614.571 40.6005 Q614.952 46.6479 618.199 49.8308 Q621.477 52.9818 627.302 52.9818 Q630.676 52.9818 633.827 52.1542 Q637.01 51.3267 640.129 49.6716 L640.129 55.2098 Q636.978 56.5466 633.668 57.2468 Q630.357 57.947 626.952 57.947 Q618.422 57.947 613.425 52.9818 Q608.459 48.0165 608.459 39.5501 Q608.459 30.7973 613.17 25.6729 Q617.913 20.5167 625.933 20.5167 Q633.127 20.5167 637.296 25.1636 Q641.497 29.7788 641.497 37.7359 M635.641 36.0172 Q635.577 31.2111 632.936 28.3465 Q630.326 25.4819 625.997 25.4819 Q621.095 25.4819 618.135 28.251 Q615.207 31.0201 614.762 36.049 L635.641 36.0172 Z\" fill=\"#000000\" fill-rule=\"nonzero\" fill-opacity=\"1\" /><path clip-path=\"url(#clip020)\" d=\"M671.766 26.8506 Q670.78 26.2776 669.602 26.023 Q668.456 25.7366 667.056 25.7366 Q662.091 25.7366 659.417 28.9831 Q656.775 32.1977 656.775 38.2452 L656.775 57.024 L650.887 57.024 L650.887 21.376 L656.775 21.376 L656.775 26.9142 Q658.621 23.6677 661.581 22.1081 Q664.541 20.5167 668.775 20.5167 Q669.379 20.5167 670.111 20.6122 Q670.843 20.6758 671.735 20.835 L671.766 26.8506 Z\" fill=\"#000000\" fill-rule=\"nonzero\" fill-opacity=\"1\" /><path clip-path=\"url(#clip020)\" d=\"M697.42 26.8506 Q696.434 26.2776 695.256 26.023 Q694.11 25.7366 692.71 25.7366 Q687.744 25.7366 685.071 28.9831 Q682.429 32.1977 682.429 38.2452 L682.429 57.024 L676.541 57.024 L676.541 21.376 L682.429 21.376 L682.429 26.9142 Q684.275 23.6677 687.235 22.1081 Q690.195 20.5167 694.428 20.5167 Q695.033 20.5167 695.765 20.6122 Q696.497 20.6758 697.388 20.835 L697.42 26.8506 Z\" fill=\"#000000\" fill-rule=\"nonzero\" fill-opacity=\"1\" /><path clip-path=\"url(#clip020)\" d=\"M715.944 25.4819 Q711.234 25.4819 708.497 29.174 Q705.759 32.8343 705.759 39.2318 Q705.759 45.6294 708.465 49.3215 Q711.202 52.9818 715.944 52.9818 Q720.623 52.9818 723.36 49.2897 Q726.098 45.5976 726.098 39.2318 Q726.098 32.898 723.36 29.2059 Q720.623 25.4819 715.944 25.4819 M715.944 20.5167 Q723.583 20.5167 727.944 25.4819 Q732.304 30.4472 732.304 39.2318 Q732.304 47.9847 727.944 52.9818 Q723.583 57.947 715.944 57.947 Q708.274 57.947 703.913 52.9818 Q699.585 47.9847 699.585 39.2318 Q699.585 30.4472 703.913 25.4819 Q708.274 20.5167 715.944 20.5167 Z\" fill=\"#000000\" fill-rule=\"nonzero\" fill-opacity=\"1\" /><path clip-path=\"url(#clip020)\" d=\"M762.669 26.8506 Q761.682 26.2776 760.504 26.023 Q759.359 25.7366 757.958 25.7366 Q752.993 25.7366 750.319 28.9831 Q747.677 32.1977 747.677 38.2452 L747.677 57.024 L741.789 57.024 L741.789 21.376 L747.677 21.376 L747.677 26.9142 Q749.524 23.6677 752.484 22.1081 Q755.444 20.5167 759.677 20.5167 Q760.282 20.5167 761.014 20.6122 Q761.746 20.6758 762.637 20.835 L762.669 26.8506 Z\" fill=\"#000000\" fill-rule=\"nonzero\" fill-opacity=\"1\" /><polyline clip-path=\"url(#clip022)\" style=\"stroke:#ff0000; stroke-linecap:round; stroke-linejoin:round; stroke-width:8; stroke-opacity:0.7; fill:none\" points=\"252.195,756.505 317.3,756.262 382.405,754.73 447.511,754.626 512.616,749.414 577.721,756.061 642.826,737.826 707.932,743.488 773.037,747.43 838.142,751.388 \"/>\n",
       "<path clip-path=\"url(#clip022)\" d=\"M252.195 768.505 L243.711 764.989 L240.195 756.505 L243.711 748.021 L252.195 744.505 L260.679 748.021 L264.195 756.505 L260.679 764.989 Z\" fill=\"#ff0000\" fill-rule=\"evenodd\" fill-opacity=\"0.7\" stroke=\"none\"/>\n",
       "<path clip-path=\"url(#clip022)\" d=\"M317.3 768.262 L308.816 764.746 L305.3 756.262 L308.816 747.778 L317.3 744.262 L325.784 747.778 L329.3 756.262 L325.784 764.746 Z\" fill=\"#ff0000\" fill-rule=\"evenodd\" fill-opacity=\"0.7\" stroke=\"none\"/>\n",
       "<path clip-path=\"url(#clip022)\" d=\"M382.405 766.73 L373.921 763.214 L370.405 754.73 L373.921 746.246 L382.405 742.73 L390.889 746.246 L394.405 754.73 L390.889 763.214 Z\" fill=\"#ff0000\" fill-rule=\"evenodd\" fill-opacity=\"0.7\" stroke=\"none\"/>\n",
       "<path clip-path=\"url(#clip022)\" d=\"M447.511 766.626 L439.027 763.11 L435.511 754.626 L439.027 746.142 L447.511 742.626 L455.995 746.142 L459.511 754.626 L455.995 763.11 Z\" fill=\"#ff0000\" fill-rule=\"evenodd\" fill-opacity=\"0.7\" stroke=\"none\"/>\n",
       "<path clip-path=\"url(#clip022)\" d=\"M512.616 761.414 L504.132 757.898 L500.616 749.414 L504.132 740.93 L512.616 737.414 L521.1 740.93 L524.616 749.414 L521.1 757.898 Z\" fill=\"#ff0000\" fill-rule=\"evenodd\" fill-opacity=\"0.7\" stroke=\"none\"/>\n",
       "<path clip-path=\"url(#clip022)\" d=\"M577.721 768.061 L569.237 764.545 L565.721 756.061 L569.237 747.577 L577.721 744.061 L586.205 747.577 L589.721 756.061 L586.205 764.545 Z\" fill=\"#ff0000\" fill-rule=\"evenodd\" fill-opacity=\"0.7\" stroke=\"none\"/>\n",
       "<path clip-path=\"url(#clip022)\" d=\"M642.826 749.826 L634.342 746.31 L630.826 737.826 L634.342 729.342 L642.826 725.826 L651.31 729.342 L654.826 737.826 L651.31 746.31 Z\" fill=\"#ff0000\" fill-rule=\"evenodd\" fill-opacity=\"0.7\" stroke=\"none\"/>\n",
       "<path clip-path=\"url(#clip022)\" d=\"M707.932 755.488 L699.448 751.972 L695.932 743.488 L699.448 735.004 L707.932 731.488 L716.416 735.004 L719.932 743.488 L716.416 751.972 Z\" fill=\"#ff0000\" fill-rule=\"evenodd\" fill-opacity=\"0.7\" stroke=\"none\"/>\n",
       "<path clip-path=\"url(#clip022)\" d=\"M773.037 759.43 L764.553 755.914 L761.037 747.43 L764.553 738.946 L773.037 735.43 L781.521 738.946 L785.037 747.43 L781.521 755.914 Z\" fill=\"#ff0000\" fill-rule=\"evenodd\" fill-opacity=\"0.7\" stroke=\"none\"/>\n",
       "<path clip-path=\"url(#clip022)\" d=\"M838.142 763.388 L829.658 759.872 L826.142 751.388 L829.658 742.904 L838.142 739.388 L846.626 742.904 L850.142 751.388 L846.626 759.872 Z\" fill=\"#ff0000\" fill-rule=\"evenodd\" fill-opacity=\"0.7\" stroke=\"none\"/>\n",
       "<polyline clip-path=\"url(#clip022)\" style=\"stroke:#008000; stroke-linecap:round; stroke-linejoin:round; stroke-width:8; stroke-opacity:0.7; fill:none\" points=\"252.195,756.762 317.3,756.646 382.405,753.025 447.511,748.978 512.616,744.975 577.721,744.173 642.826,492.246 707.932,467.644 773.037,432.91 838.142,149.013 \"/>\n",
       "<path clip-path=\"url(#clip022)\" d=\"M240.195 744.762 L240.195 768.762 L264.195 768.762 L264.195 744.762 L240.195 744.762 Z\" fill=\"#008000\" fill-rule=\"evenodd\" fill-opacity=\"0.7\" stroke=\"none\"/>\n",
       "<path clip-path=\"url(#clip022)\" d=\"M305.3 744.646 L305.3 768.646 L329.3 768.646 L329.3 744.646 L305.3 744.646 Z\" fill=\"#008000\" fill-rule=\"evenodd\" fill-opacity=\"0.7\" stroke=\"none\"/>\n",
       "<path clip-path=\"url(#clip022)\" d=\"M370.405 741.025 L370.405 765.025 L394.405 765.025 L394.405 741.025 L370.405 741.025 Z\" fill=\"#008000\" fill-rule=\"evenodd\" fill-opacity=\"0.7\" stroke=\"none\"/>\n",
       "<path clip-path=\"url(#clip022)\" d=\"M435.511 736.978 L435.511 760.978 L459.511 760.978 L459.511 736.978 L435.511 736.978 Z\" fill=\"#008000\" fill-rule=\"evenodd\" fill-opacity=\"0.7\" stroke=\"none\"/>\n",
       "<path clip-path=\"url(#clip022)\" d=\"M500.616 732.975 L500.616 756.975 L524.616 756.975 L524.616 732.975 L500.616 732.975 Z\" fill=\"#008000\" fill-rule=\"evenodd\" fill-opacity=\"0.7\" stroke=\"none\"/>\n",
       "<path clip-path=\"url(#clip022)\" d=\"M565.721 732.173 L565.721 756.173 L589.721 756.173 L589.721 732.173 L565.721 732.173 Z\" fill=\"#008000\" fill-rule=\"evenodd\" fill-opacity=\"0.7\" stroke=\"none\"/>\n",
       "<path clip-path=\"url(#clip022)\" d=\"M630.826 480.246 L630.826 504.246 L654.826 504.246 L654.826 480.246 L630.826 480.246 Z\" fill=\"#008000\" fill-rule=\"evenodd\" fill-opacity=\"0.7\" stroke=\"none\"/>\n",
       "<path clip-path=\"url(#clip022)\" d=\"M695.932 455.644 L695.932 479.644 L719.932 479.644 L719.932 455.644 L695.932 455.644 Z\" fill=\"#008000\" fill-rule=\"evenodd\" fill-opacity=\"0.7\" stroke=\"none\"/>\n",
       "<path clip-path=\"url(#clip022)\" d=\"M761.037 420.91 L761.037 444.91 L785.037 444.91 L785.037 420.91 L761.037 420.91 Z\" fill=\"#008000\" fill-rule=\"evenodd\" fill-opacity=\"0.7\" stroke=\"none\"/>\n",
       "<path clip-path=\"url(#clip022)\" d=\"M826.142 137.013 L826.142 161.013 L850.142 161.013 L850.142 137.013 L826.142 137.013 Z\" fill=\"#008000\" fill-rule=\"evenodd\" fill-opacity=\"0.7\" stroke=\"none\"/>\n",
       "<path clip-path=\"url(#clip020)\" d=\"M716.476 133.896 L716.476 148.505 L723.09 148.505 Q726.762 148.505 728.767 146.604 Q730.772 144.703 730.772 141.187 Q730.772 137.698 728.767 135.797 Q726.762 133.896 723.09 133.896 L716.476 133.896 M711.215 129.573 L723.09 129.573 Q729.627 129.573 732.96 132.542 Q736.319 135.484 736.319 141.187 Q736.319 146.943 732.96 149.885 Q729.627 152.828 723.09 152.828 L716.476 152.828 L716.476 168.453 L711.215 168.453 L711.215 129.573 Z\" fill=\"#008000\" fill-rule=\"nonzero\" fill-opacity=\"1\" /><path clip-path=\"url(#clip020)\" d=\"M766.684 130.849 L766.684 135.979 Q763.689 134.547 761.033 133.844 Q758.376 133.141 755.903 133.141 Q751.606 133.141 749.262 134.807 Q746.944 136.474 746.944 139.547 Q746.944 142.125 748.481 143.453 Q750.043 144.755 754.366 145.562 L757.543 146.213 Q763.429 147.333 766.215 150.172 Q769.027 152.984 769.027 157.724 Q769.027 163.375 765.225 166.291 Q761.449 169.208 754.132 169.208 Q751.371 169.208 748.246 168.583 Q745.147 167.958 741.814 166.734 L741.814 161.317 Q745.017 163.114 748.09 164.026 Q751.163 164.937 754.132 164.937 Q758.637 164.937 761.085 163.166 Q763.533 161.396 763.533 158.114 Q763.533 155.25 761.762 153.635 Q760.017 152.021 756.007 151.213 L752.804 150.588 Q746.918 149.416 744.288 146.916 Q741.658 144.416 741.658 139.963 Q741.658 134.807 745.278 131.838 Q748.923 128.87 755.304 128.87 Q758.038 128.87 760.876 129.364 Q763.715 129.859 766.684 130.849 Z\" fill=\"#008000\" fill-rule=\"nonzero\" fill-opacity=\"1\" /><path clip-path=\"url(#clip020)\" d=\"M777.231 129.573 L782.491 129.573 L782.491 168.453 L777.231 168.453 L777.231 129.573 Z\" fill=\"#008000\" fill-rule=\"nonzero\" fill-opacity=\"1\" /><path clip-path=\"url(#clip020)\" d=\"M816.267 130.849 L816.267 135.979 Q813.272 134.547 810.616 133.844 Q807.96 133.141 805.486 133.141 Q801.189 133.141 798.845 134.807 Q796.527 136.474 796.527 139.547 Q796.527 142.125 798.064 143.453 Q799.626 144.755 803.949 145.562 L807.126 146.213 Q813.012 147.333 815.798 150.172 Q818.611 152.984 818.611 157.724 Q818.611 163.375 814.808 166.291 Q811.032 169.208 803.715 169.208 Q800.954 169.208 797.829 168.583 Q794.73 167.958 791.397 166.734 L791.397 161.317 Q794.6 163.114 797.673 164.026 Q800.746 164.937 803.715 164.937 Q808.22 164.937 810.668 163.166 Q813.116 161.396 813.116 158.114 Q813.116 155.25 811.345 153.635 Q809.6 152.021 805.59 151.213 L802.387 150.588 Q796.501 149.416 793.871 146.916 Q791.241 144.416 791.241 139.963 Q791.241 134.807 794.861 131.838 Q798.506 128.87 804.887 128.87 Q807.621 128.87 810.46 129.364 Q813.298 129.859 816.267 130.849 Z\" fill=\"#008000\" fill-rule=\"nonzero\" fill-opacity=\"1\" /><path clip-path=\"url(#clip020)\" d=\"M807.817 683.773 L807.817 688.903 Q804.822 687.47 802.166 686.767 Q799.509 686.064 797.036 686.064 Q792.739 686.064 790.395 687.731 Q788.077 689.397 788.077 692.47 Q788.077 695.049 789.614 696.377 Q791.176 697.679 795.499 698.486 L798.676 699.137 Q804.562 700.257 807.348 703.095 Q810.16 705.908 810.16 710.647 Q810.16 716.298 806.358 719.215 Q802.582 722.132 795.265 722.132 Q792.504 722.132 789.379 721.507 Q786.28 720.882 782.947 719.658 L782.947 714.241 Q786.15 716.038 789.223 716.949 Q792.296 717.861 795.265 717.861 Q799.77 717.861 802.218 716.09 Q804.666 714.319 804.666 711.038 Q804.666 708.173 802.895 706.559 Q801.15 704.944 797.14 704.137 L793.937 703.512 Q788.051 702.34 785.421 699.84 Q782.791 697.34 782.791 692.887 Q782.791 687.731 786.411 684.762 Q790.056 681.793 796.437 681.793 Q799.171 681.793 802.009 682.288 Q804.848 682.783 807.817 683.773 Z\" fill=\"#ff0000\" fill-rule=\"nonzero\" fill-opacity=\"1\" /><path clip-path=\"url(#clip020)\" d=\"M818.364 682.496 L826.202 682.496 L836.124 708.955 L846.098 682.496 L853.936 682.496 L853.936 721.376 L848.806 721.376 L848.806 687.236 L838.78 713.903 L833.494 713.903 L823.468 687.236 L823.468 721.376 L818.364 721.376 L818.364 682.496 Z\" fill=\"#ff0000\" fill-rule=\"nonzero\" fill-opacity=\"1\" /><path clip-path=\"url(#clip020)\" d=\"M893.493 685.491 L893.493 691.038 Q890.837 688.564 887.816 687.34 Q884.822 686.116 881.436 686.116 Q874.769 686.116 871.228 690.205 Q867.686 694.267 867.686 701.976 Q867.686 709.658 871.228 713.746 Q874.769 717.809 881.436 717.809 Q884.822 717.809 887.816 716.585 Q890.837 715.361 893.493 712.887 L893.493 718.382 Q890.733 720.257 887.634 721.194 Q884.561 722.132 881.124 722.132 Q872.296 722.132 867.217 716.741 Q862.139 711.324 862.139 701.976 Q862.139 692.601 867.217 687.21 Q872.296 681.793 881.124 681.793 Q884.613 681.793 887.686 682.731 Q890.785 683.642 893.493 685.491 Z\" fill=\"#ff0000\" fill-rule=\"nonzero\" fill-opacity=\"1\" /><path clip-path=\"url(#clip020)\" d=\"M1068.6 339.149 L1689.71 339.149 L1689.71 88.2143 L1068.6 88.2143  Z\" fill=\"#ffffff\" fill-rule=\"evenodd\" fill-opacity=\"1\"/>\n",
       "<defs>\n",
       "  <clipPath id=\"clip023\">\n",
       "    <rect x=\"1068\" y=\"88\" width=\"622\" height=\"252\"/>\n",
       "  </clipPath>\n",
       "</defs>\n",
       "<polyline clip-path=\"url(#clip023)\" style=\"stroke:#000000; stroke-linecap:round; stroke-linejoin:round; stroke-width:2; stroke-opacity:0.1; fill:none\" points=\"1086.18,339.149 1086.18,88.2143 \"/>\n",
       "<polyline clip-path=\"url(#clip023)\" style=\"stroke:#000000; stroke-linecap:round; stroke-linejoin:round; stroke-width:2; stroke-opacity:0.1; fill:none\" points=\"1151.29,339.149 1151.29,88.2143 \"/>\n",
       "<polyline clip-path=\"url(#clip023)\" style=\"stroke:#000000; stroke-linecap:round; stroke-linejoin:round; stroke-width:2; stroke-opacity:0.1; fill:none\" points=\"1216.39,339.149 1216.39,88.2143 \"/>\n",
       "<polyline clip-path=\"url(#clip023)\" style=\"stroke:#000000; stroke-linecap:round; stroke-linejoin:round; stroke-width:2; stroke-opacity:0.1; fill:none\" points=\"1281.5,339.149 1281.5,88.2143 \"/>\n",
       "<polyline clip-path=\"url(#clip023)\" style=\"stroke:#000000; stroke-linecap:round; stroke-linejoin:round; stroke-width:2; stroke-opacity:0.1; fill:none\" points=\"1346.6,339.149 1346.6,88.2143 \"/>\n",
       "<polyline clip-path=\"url(#clip023)\" style=\"stroke:#000000; stroke-linecap:round; stroke-linejoin:round; stroke-width:2; stroke-opacity:0.1; fill:none\" points=\"1411.71,339.149 1411.71,88.2143 \"/>\n",
       "<polyline clip-path=\"url(#clip023)\" style=\"stroke:#000000; stroke-linecap:round; stroke-linejoin:round; stroke-width:2; stroke-opacity:0.1; fill:none\" points=\"1476.81,339.149 1476.81,88.2143 \"/>\n",
       "<polyline clip-path=\"url(#clip023)\" style=\"stroke:#000000; stroke-linecap:round; stroke-linejoin:round; stroke-width:2; stroke-opacity:0.1; fill:none\" points=\"1541.92,339.149 1541.92,88.2143 \"/>\n",
       "<polyline clip-path=\"url(#clip023)\" style=\"stroke:#000000; stroke-linecap:round; stroke-linejoin:round; stroke-width:2; stroke-opacity:0.1; fill:none\" points=\"1607.02,339.149 1607.02,88.2143 \"/>\n",
       "<polyline clip-path=\"url(#clip023)\" style=\"stroke:#000000; stroke-linecap:round; stroke-linejoin:round; stroke-width:2; stroke-opacity:0.1; fill:none\" points=\"1672.13,339.149 1672.13,88.2143 \"/>\n",
       "<polyline clip-path=\"url(#clip023)\" style=\"stroke:#000000; stroke-linecap:round; stroke-linejoin:round; stroke-width:2; stroke-opacity:0.1; fill:none\" points=\"1068.6,339.149 1689.71,339.149 \"/>\n",
       "<polyline clip-path=\"url(#clip023)\" style=\"stroke:#000000; stroke-linecap:round; stroke-linejoin:round; stroke-width:2; stroke-opacity:0.1; fill:none\" points=\"1068.6,281.804 1689.71,281.804 \"/>\n",
       "<polyline clip-path=\"url(#clip023)\" style=\"stroke:#000000; stroke-linecap:round; stroke-linejoin:round; stroke-width:2; stroke-opacity:0.1; fill:none\" points=\"1068.6,224.46 1689.71,224.46 \"/>\n",
       "<polyline clip-path=\"url(#clip023)\" style=\"stroke:#000000; stroke-linecap:round; stroke-linejoin:round; stroke-width:2; stroke-opacity:0.1; fill:none\" points=\"1068.6,167.115 1689.71,167.115 \"/>\n",
       "<polyline clip-path=\"url(#clip023)\" style=\"stroke:#000000; stroke-linecap:round; stroke-linejoin:round; stroke-width:2; stroke-opacity:0.1; fill:none\" points=\"1068.6,109.77 1689.71,109.77 \"/>\n",
       "<polyline clip-path=\"url(#clip020)\" style=\"stroke:#000000; stroke-linecap:round; stroke-linejoin:round; stroke-width:4; stroke-opacity:1; fill:none\" points=\"1068.6,339.149 1689.71,339.149 \"/>\n",
       "<polyline clip-path=\"url(#clip020)\" style=\"stroke:#000000; stroke-linecap:round; stroke-linejoin:round; stroke-width:4; stroke-opacity:1; fill:none\" points=\"1086.18,339.149 1086.18,358.047 \"/>\n",
       "<polyline clip-path=\"url(#clip020)\" style=\"stroke:#000000; stroke-linecap:round; stroke-linejoin:round; stroke-width:4; stroke-opacity:1; fill:none\" points=\"1151.29,339.149 1151.29,358.047 \"/>\n",
       "<polyline clip-path=\"url(#clip020)\" style=\"stroke:#000000; stroke-linecap:round; stroke-linejoin:round; stroke-width:4; stroke-opacity:1; fill:none\" points=\"1216.39,339.149 1216.39,358.047 \"/>\n",
       "<polyline clip-path=\"url(#clip020)\" style=\"stroke:#000000; stroke-linecap:round; stroke-linejoin:round; stroke-width:4; stroke-opacity:1; fill:none\" points=\"1281.5,339.149 1281.5,358.047 \"/>\n",
       "<polyline clip-path=\"url(#clip020)\" style=\"stroke:#000000; stroke-linecap:round; stroke-linejoin:round; stroke-width:4; stroke-opacity:1; fill:none\" points=\"1346.6,339.149 1346.6,358.047 \"/>\n",
       "<polyline clip-path=\"url(#clip020)\" style=\"stroke:#000000; stroke-linecap:round; stroke-linejoin:round; stroke-width:4; stroke-opacity:1; fill:none\" points=\"1411.71,339.149 1411.71,358.047 \"/>\n",
       "<polyline clip-path=\"url(#clip020)\" style=\"stroke:#000000; stroke-linecap:round; stroke-linejoin:round; stroke-width:4; stroke-opacity:1; fill:none\" points=\"1476.81,339.149 1476.81,358.047 \"/>\n",
       "<polyline clip-path=\"url(#clip020)\" style=\"stroke:#000000; stroke-linecap:round; stroke-linejoin:round; stroke-width:4; stroke-opacity:1; fill:none\" points=\"1541.92,339.149 1541.92,358.047 \"/>\n",
       "<polyline clip-path=\"url(#clip020)\" style=\"stroke:#000000; stroke-linecap:round; stroke-linejoin:round; stroke-width:4; stroke-opacity:1; fill:none\" points=\"1607.02,339.149 1607.02,358.047 \"/>\n",
       "<polyline clip-path=\"url(#clip020)\" style=\"stroke:#000000; stroke-linecap:round; stroke-linejoin:round; stroke-width:4; stroke-opacity:1; fill:none\" points=\"1672.13,339.149 1672.13,358.047 \"/>\n",
       "<path clip-path=\"url(#clip020)\" d=\"M1075.36 414.522 L1083.96 414.522 L1083.96 384.861 L1074.61 386.736 L1074.61 381.944 L1083.9 380.069 L1089.16 380.069 L1089.16 414.522 L1097.76 414.522 L1097.76 418.949 L1075.36 418.949 L1075.36 414.522 Z\" fill=\"#000000\" fill-rule=\"nonzero\" fill-opacity=\"1\" /><path clip-path=\"url(#clip020)\" d=\"M1145.27 414.522 L1163.63 414.522 L1163.63 418.949 L1138.94 418.949 L1138.94 414.522 Q1141.94 411.423 1147.1 406.215 Q1152.28 400.98 1153.61 399.47 Q1156.13 396.632 1157.12 394.678 Q1158.14 392.699 1158.14 390.798 Q1158.14 387.699 1155.95 385.746 Q1153.79 383.793 1150.3 383.793 Q1147.82 383.793 1145.06 384.652 Q1142.33 385.512 1139.2 387.257 L1139.2 381.944 Q1142.38 380.668 1145.14 380.017 Q1147.9 379.366 1150.19 379.366 Q1156.24 379.366 1159.83 382.387 Q1163.42 385.408 1163.42 390.46 Q1163.42 392.856 1162.51 395.017 Q1161.63 397.152 1159.26 400.069 Q1158.61 400.824 1155.12 404.444 Q1151.63 408.038 1145.27 414.522 Z\" fill=\"#000000\" fill-rule=\"nonzero\" fill-opacity=\"1\" /><path clip-path=\"url(#clip020)\" d=\"M1221.17 397.986 Q1224.95 398.793 1227.06 401.345 Q1229.19 403.897 1229.19 407.647 Q1229.19 413.402 1225.23 416.553 Q1221.28 419.704 1213.98 419.704 Q1211.54 419.704 1208.93 419.21 Q1206.35 418.741 1203.59 417.777 L1203.59 412.699 Q1205.78 413.975 1208.39 414.626 Q1210.99 415.277 1213.83 415.277 Q1218.78 415.277 1221.35 413.324 Q1223.96 411.371 1223.96 407.647 Q1223.96 404.21 1221.54 402.283 Q1219.14 400.329 1214.84 400.329 L1210.31 400.329 L1210.31 396.007 L1215.05 396.007 Q1218.93 396.007 1220.99 394.47 Q1223.05 392.908 1223.05 389.991 Q1223.05 386.996 1220.91 385.408 Q1218.8 383.793 1214.84 383.793 Q1212.68 383.793 1210.21 384.262 Q1207.73 384.731 1204.77 385.72 L1204.77 381.033 Q1207.76 380.199 1210.36 379.783 Q1212.99 379.366 1215.31 379.366 Q1221.3 379.366 1224.79 382.1 Q1228.28 384.809 1228.28 389.444 Q1228.28 392.673 1226.43 394.913 Q1224.58 397.126 1221.17 397.986 Z\" fill=\"#000000\" fill-rule=\"nonzero\" fill-opacity=\"1\" /><path clip-path=\"url(#clip020)\" d=\"M1284.88 384.652 L1271.6 405.408 L1284.88 405.408 L1284.88 384.652 M1283.5 380.069 L1290.12 380.069 L1290.12 405.408 L1295.66 405.408 L1295.66 409.783 L1290.12 409.783 L1290.12 418.949 L1284.88 418.949 L1284.88 409.783 L1267.33 409.783 L1267.33 404.704 L1283.5 380.069 Z\" fill=\"#000000\" fill-rule=\"nonzero\" fill-opacity=\"1\" /><path clip-path=\"url(#clip020)\" d=\"M1335.67 380.069 L1356.32 380.069 L1356.32 384.496 L1340.48 384.496 L1340.48 394.027 Q1341.63 393.637 1342.78 393.454 Q1343.92 393.246 1345.07 393.246 Q1351.58 393.246 1355.38 396.814 Q1359.18 400.382 1359.18 406.475 Q1359.18 412.751 1355.28 416.241 Q1351.37 419.704 1344.26 419.704 Q1341.81 419.704 1339.26 419.288 Q1336.73 418.871 1334.03 418.038 L1334.03 412.751 Q1336.37 414.027 1338.87 414.652 Q1341.37 415.277 1344.16 415.277 Q1348.66 415.277 1351.29 412.907 Q1353.92 410.538 1353.92 406.475 Q1353.92 402.413 1351.29 400.043 Q1348.66 397.673 1344.16 397.673 Q1342.05 397.673 1339.94 398.142 Q1337.85 398.611 1335.67 399.6 L1335.67 380.069 Z\" fill=\"#000000\" fill-rule=\"nonzero\" fill-opacity=\"1\" /><path clip-path=\"url(#clip020)\" d=\"M1412.16 397.413 Q1408.62 397.413 1406.54 399.835 Q1404.48 402.257 1404.48 406.475 Q1404.48 410.668 1406.54 413.116 Q1408.62 415.538 1412.16 415.538 Q1415.71 415.538 1417.76 413.116 Q1419.85 410.668 1419.85 406.475 Q1419.85 402.257 1417.76 399.835 Q1415.71 397.413 1412.16 397.413 M1422.61 380.929 L1422.61 385.72 Q1420.63 384.783 1418.6 384.288 Q1416.59 383.793 1414.61 383.793 Q1409.4 383.793 1406.64 387.309 Q1403.91 390.824 1403.52 397.934 Q1405.06 395.668 1407.37 394.47 Q1409.69 393.246 1412.48 393.246 Q1418.34 393.246 1421.72 396.814 Q1425.13 400.355 1425.13 406.475 Q1425.13 412.465 1421.59 416.085 Q1418.05 419.704 1412.16 419.704 Q1405.42 419.704 1401.85 414.548 Q1398.28 409.366 1398.28 399.548 Q1398.28 390.329 1402.66 384.861 Q1407.03 379.366 1414.4 379.366 Q1416.38 379.366 1418.39 379.757 Q1420.42 380.147 1422.61 380.929 Z\" fill=\"#000000\" fill-rule=\"nonzero\" fill-opacity=\"1\" /><path clip-path=\"url(#clip020)\" d=\"M1464.31 380.069 L1489.31 380.069 L1489.31 382.309 L1475.2 418.949 L1469.7 418.949 L1482.99 384.496 L1464.31 384.496 L1464.31 380.069 Z\" fill=\"#000000\" fill-rule=\"nonzero\" fill-opacity=\"1\" /><path clip-path=\"url(#clip020)\" d=\"M1541.92 400.486 Q1538.17 400.486 1536.01 402.491 Q1533.87 404.496 1533.87 408.012 Q1533.87 411.527 1536.01 413.532 Q1538.17 415.538 1541.92 415.538 Q1545.67 415.538 1547.83 413.532 Q1549.99 411.501 1549.99 408.012 Q1549.99 404.496 1547.83 402.491 Q1545.7 400.486 1541.92 400.486 M1536.66 398.246 Q1533.27 397.413 1531.37 395.095 Q1529.5 392.777 1529.5 389.444 Q1529.5 384.783 1532.8 382.074 Q1536.14 379.366 1541.92 379.366 Q1547.73 379.366 1551.03 382.074 Q1554.34 384.783 1554.34 389.444 Q1554.34 392.777 1552.44 395.095 Q1550.57 397.413 1547.21 398.246 Q1551.01 399.132 1553.12 401.71 Q1555.25 404.288 1555.25 408.012 Q1555.25 413.663 1551.79 416.684 Q1548.35 419.704 1541.92 419.704 Q1535.49 419.704 1532.02 416.684 Q1528.59 413.663 1528.59 408.012 Q1528.59 404.288 1530.72 401.71 Q1532.86 399.132 1536.66 398.246 M1534.73 389.939 Q1534.73 392.96 1536.61 394.652 Q1538.51 396.345 1541.92 396.345 Q1545.3 396.345 1547.21 394.652 Q1549.13 392.96 1549.13 389.939 Q1549.13 386.918 1547.21 385.225 Q1545.3 383.533 1541.92 383.533 Q1538.51 383.533 1536.61 385.225 Q1534.73 386.918 1534.73 389.939 Z\" fill=\"#000000\" fill-rule=\"nonzero\" fill-opacity=\"1\" /><path clip-path=\"url(#clip020)\" d=\"M1596.11 418.142 L1596.11 413.35 Q1598.09 414.288 1600.12 414.782 Q1602.15 415.277 1604.11 415.277 Q1609.32 415.277 1612.05 411.788 Q1614.81 408.272 1615.2 401.137 Q1613.69 403.376 1611.37 404.574 Q1609.06 405.772 1606.24 405.772 Q1600.41 405.772 1597 402.257 Q1593.61 398.715 1593.61 392.595 Q1593.61 386.606 1597.15 382.986 Q1600.7 379.366 1606.58 379.366 Q1613.33 379.366 1616.87 384.548 Q1620.44 389.704 1620.44 399.548 Q1620.44 408.741 1616.06 414.236 Q1611.71 419.704 1604.34 419.704 Q1602.36 419.704 1600.33 419.314 Q1598.3 418.923 1596.11 418.142 M1606.58 401.658 Q1610.12 401.658 1612.18 399.236 Q1614.26 396.814 1614.26 392.595 Q1614.26 388.402 1612.18 385.981 Q1610.12 383.533 1606.58 383.533 Q1603.04 383.533 1600.96 385.981 Q1598.9 388.402 1598.9 392.595 Q1598.9 396.814 1600.96 399.236 Q1603.04 401.658 1606.58 401.658 Z\" fill=\"#000000\" fill-rule=\"nonzero\" fill-opacity=\"1\" /><path clip-path=\"url(#clip020)\" d=\"M1643.65 414.522 L1652.25 414.522 L1652.25 384.861 L1642.9 386.736 L1642.9 381.944 L1652.19 380.069 L1657.46 380.069 L1657.46 414.522 L1666.05 414.522 L1666.05 418.949 L1643.65 418.949 L1643.65 414.522 Z\" fill=\"#000000\" fill-rule=\"nonzero\" fill-opacity=\"1\" /><path clip-path=\"url(#clip020)\" d=\"M1687.92 383.533 Q1683.86 383.533 1681.8 387.543 Q1679.77 391.527 1679.77 399.548 Q1679.77 407.543 1681.8 411.553 Q1683.86 415.538 1687.92 415.538 Q1692.01 415.538 1694.04 411.553 Q1696.1 407.543 1696.1 399.548 Q1696.1 391.527 1694.04 387.543 Q1692.01 383.533 1687.92 383.533 M1687.92 379.366 Q1694.46 379.366 1697.9 384.548 Q1701.36 389.704 1701.36 399.548 Q1701.36 409.366 1697.9 414.548 Q1694.46 419.704 1687.92 419.704 Q1681.39 419.704 1677.92 414.548 Q1674.49 409.366 1674.49 399.548 Q1674.49 389.704 1677.92 384.548 Q1681.39 379.366 1687.92 379.366 Z\" fill=\"#000000\" fill-rule=\"nonzero\" fill-opacity=\"1\" /><polyline clip-path=\"url(#clip020)\" style=\"stroke:#000000; stroke-linecap:round; stroke-linejoin:round; stroke-width:4; stroke-opacity:1; fill:none\" points=\"1068.6,339.149 1068.6,88.2143 \"/>\n",
       "<polyline clip-path=\"url(#clip020)\" style=\"stroke:#000000; stroke-linecap:round; stroke-linejoin:round; stroke-width:4; stroke-opacity:1; fill:none\" points=\"1068.6,339.149 1049.71,339.149 \"/>\n",
       "<polyline clip-path=\"url(#clip020)\" style=\"stroke:#000000; stroke-linecap:round; stroke-linejoin:round; stroke-width:4; stroke-opacity:1; fill:none\" points=\"1068.6,281.804 1049.71,281.804 \"/>\n",
       "<polyline clip-path=\"url(#clip020)\" style=\"stroke:#000000; stroke-linecap:round; stroke-linejoin:round; stroke-width:4; stroke-opacity:1; fill:none\" points=\"1068.6,224.46 1049.71,224.46 \"/>\n",
       "<polyline clip-path=\"url(#clip020)\" style=\"stroke:#000000; stroke-linecap:round; stroke-linejoin:round; stroke-width:4; stroke-opacity:1; fill:none\" points=\"1068.6,167.115 1049.71,167.115 \"/>\n",
       "<polyline clip-path=\"url(#clip020)\" style=\"stroke:#000000; stroke-linecap:round; stroke-linejoin:round; stroke-width:4; stroke-opacity:1; fill:none\" points=\"1068.6,109.77 1049.71,109.77 \"/>\n",
       "<path clip-path=\"url(#clip020)\" d=\"M996.667 323.173 Q992.604 323.173 990.547 327.183 Q988.516 331.167 988.516 339.188 Q988.516 347.183 990.547 351.193 Q992.604 355.178 996.667 355.178 Q1000.76 355.178 1002.79 351.193 Q1004.84 347.183 1004.84 339.188 Q1004.84 331.167 1002.79 327.183 Q1000.76 323.173 996.667 323.173 M996.667 319.006 Q1003.2 319.006 1006.64 324.188 Q1010.1 329.344 1010.1 339.188 Q1010.1 349.006 1006.64 354.188 Q1003.2 359.344 996.667 359.344 Q990.13 359.344 986.667 354.188 Q983.229 349.006 983.229 339.188 Q983.229 329.344 986.667 324.188 Q990.13 319.006 996.667 319.006 Z\" fill=\"#000000\" fill-rule=\"nonzero\" fill-opacity=\"1\" /><path clip-path=\"url(#clip020)\" d=\"M986.589 262.364 L1007.24 262.364 L1007.24 266.791 L991.406 266.791 L991.406 276.323 Q992.552 275.932 993.698 275.75 Q994.844 275.541 995.99 275.541 Q1002.5 275.541 1006.3 279.109 Q1010.1 282.677 1010.1 288.77 Q1010.1 295.046 1006.2 298.536 Q1002.29 302 995.182 302 Q992.734 302 990.182 301.583 Q987.656 301.166 984.948 300.333 L984.948 295.046 Q987.292 296.323 989.792 296.948 Q992.292 297.573 995.078 297.573 Q999.583 297.573 1002.21 295.203 Q1004.84 292.833 1004.84 288.77 Q1004.84 284.708 1002.21 282.338 Q999.583 279.968 995.078 279.968 Q992.969 279.968 990.859 280.437 Q988.776 280.906 986.589 281.896 L986.589 262.364 Z\" fill=\"#000000\" fill-rule=\"nonzero\" fill-opacity=\"1\" /><path clip-path=\"url(#clip020)\" d=\"M952.396 239.473 L960.99 239.473 L960.99 209.811 L951.641 211.686 L951.641 206.895 L960.938 205.02 L966.198 205.02 L966.198 239.473 L974.792 239.473 L974.792 243.9 L952.396 243.9 L952.396 239.473 Z\" fill=\"#000000\" fill-rule=\"nonzero\" fill-opacity=\"1\" /><path clip-path=\"url(#clip020)\" d=\"M996.667 208.483 Q992.604 208.483 990.547 212.494 Q988.516 216.478 988.516 224.499 Q988.516 232.493 990.547 236.504 Q992.604 240.488 996.667 240.488 Q1000.76 240.488 1002.79 236.504 Q1004.84 232.493 1004.84 224.499 Q1004.84 216.478 1002.79 212.494 Q1000.76 208.483 996.667 208.483 M996.667 204.316 Q1003.2 204.316 1006.64 209.499 Q1010.1 214.655 1010.1 224.499 Q1010.1 234.316 1006.64 239.499 Q1003.2 244.655 996.667 244.655 Q990.13 244.655 986.667 239.499 Q983.229 234.316 983.229 224.499 Q983.229 214.655 986.667 209.499 Q990.13 204.316 996.667 204.316 Z\" fill=\"#000000\" fill-rule=\"nonzero\" fill-opacity=\"1\" /><path clip-path=\"url(#clip020)\" d=\"M953.516 182.128 L962.11 182.128 L962.11 152.466 L952.761 154.341 L952.761 149.55 L962.057 147.675 L967.318 147.675 L967.318 182.128 L975.912 182.128 L975.912 186.555 L953.516 186.555 L953.516 182.128 Z\" fill=\"#000000\" fill-rule=\"nonzero\" fill-opacity=\"1\" /><path clip-path=\"url(#clip020)\" d=\"M986.589 147.675 L1007.24 147.675 L1007.24 152.102 L991.406 152.102 L991.406 161.633 Q992.552 161.242 993.698 161.06 Q994.844 160.852 995.99 160.852 Q1002.5 160.852 1006.3 164.42 Q1010.1 167.987 1010.1 174.081 Q1010.1 180.357 1006.2 183.847 Q1002.29 187.31 995.182 187.31 Q992.734 187.31 990.182 186.893 Q987.656 186.477 984.948 185.643 L984.948 180.357 Q987.292 181.633 989.792 182.258 Q992.292 182.883 995.078 182.883 Q999.583 182.883 1002.21 180.513 Q1004.84 178.143 1004.84 174.081 Q1004.84 170.018 1002.21 167.649 Q999.583 165.279 995.078 165.279 Q992.969 165.279 990.859 165.748 Q988.776 166.216 986.589 167.206 L986.589 147.675 Z\" fill=\"#000000\" fill-rule=\"nonzero\" fill-opacity=\"1\" /><path clip-path=\"url(#clip020)\" d=\"M956.016 124.783 L974.375 124.783 L974.375 129.21 L949.688 129.21 L949.688 124.783 Q952.682 121.684 957.839 116.476 Q963.021 111.241 964.349 109.731 Q966.875 106.892 967.865 104.939 Q968.88 102.96 968.88 101.059 Q968.88 97.9602 966.693 96.0071 Q964.531 94.054 961.042 94.054 Q958.568 94.054 955.807 94.9134 Q953.073 95.7727 949.948 97.5175 L949.948 92.205 Q953.125 90.929 955.886 90.278 Q958.646 89.6269 960.938 89.6269 Q966.979 89.6269 970.573 92.6477 Q974.167 95.6686 974.167 100.721 Q974.167 103.116 973.255 105.278 Q972.37 107.413 970 110.33 Q969.349 111.085 965.859 114.705 Q962.37 118.299 956.016 124.783 Z\" fill=\"#000000\" fill-rule=\"nonzero\" fill-opacity=\"1\" /><path clip-path=\"url(#clip020)\" d=\"M996.667 93.7936 Q992.604 93.7936 990.547 97.804 Q988.516 101.788 988.516 109.809 Q988.516 117.804 990.547 121.814 Q992.604 125.799 996.667 125.799 Q1000.76 125.799 1002.79 121.814 Q1004.84 117.804 1004.84 109.809 Q1004.84 101.788 1002.79 97.804 Q1000.76 93.7936 996.667 93.7936 M996.667 89.6269 Q1003.2 89.6269 1006.64 94.8092 Q1010.1 99.9654 1010.1 109.809 Q1010.1 119.627 1006.64 124.809 Q1003.2 129.965 996.667 129.965 Q990.13 129.965 986.667 124.809 Q983.229 119.627 983.229 109.809 Q983.229 99.9654 986.667 94.8092 Q990.13 89.6269 996.667 89.6269 Z\" fill=\"#000000\" fill-rule=\"nonzero\" fill-opacity=\"1\" /><path clip-path=\"url(#clip020)\" d=\"M1163.95 34.744 Q1166.02 35.4443 1167.96 37.7359 Q1169.93 40.0276 1171.9 44.038 L1178.43 57.024 L1171.52 57.024 L1165.44 44.8337 Q1163.09 40.0594 1160.86 38.4998 Q1158.66 36.9402 1154.84 36.9402 L1147.84 36.9402 L1147.84 57.024 L1141.41 57.024 L1141.41 9.504 L1155.93 9.504 Q1164.07 9.504 1168.09 12.9097 Q1172.1 16.3153 1172.1 23.1903 Q1172.1 27.6781 1169.99 30.6381 Q1167.93 33.5982 1163.95 34.744 M1147.84 14.7875 L1147.84 31.6567 L1155.93 31.6567 Q1160.57 31.6567 1162.93 29.5241 Q1165.32 27.3598 1165.32 23.1903 Q1165.32 19.0207 1162.93 16.92 Q1160.57 14.7875 1155.93 14.7875 L1147.84 14.7875 Z\" fill=\"#000000\" fill-rule=\"nonzero\" fill-opacity=\"1\" /><path clip-path=\"url(#clip020)\" d=\"M1182.92 42.9558 L1182.92 21.376 L1188.77 21.376 L1188.77 42.733 Q1188.77 47.7937 1190.75 50.34 Q1192.72 52.8545 1196.67 52.8545 Q1201.41 52.8545 1204.15 49.8308 Q1206.92 46.807 1206.92 41.5872 L1206.92 21.376 L1212.77 21.376 L1212.77 57.024 L1206.92 57.024 L1206.92 51.5495 Q1204.78 54.796 1201.95 56.3874 Q1199.15 57.947 1195.43 57.947 Q1189.28 57.947 1186.1 54.1276 Q1182.92 50.3082 1182.92 42.9558 M1197.65 20.5167 L1197.65 20.5167 Z\" fill=\"#000000\" fill-rule=\"nonzero\" fill-opacity=\"1\" /><path clip-path=\"url(#clip020)\" d=\"M1254.47 35.5079 L1254.47 57.024 L1248.61 57.024 L1248.61 35.6989 Q1248.61 30.6381 1246.64 28.1237 Q1244.66 25.6092 1240.72 25.6092 Q1235.98 25.6092 1233.24 28.6329 Q1230.5 31.6567 1230.5 36.8765 L1230.5 57.024 L1224.61 57.024 L1224.61 21.376 L1230.5 21.376 L1230.5 26.9142 Q1232.6 23.6995 1235.43 22.1081 Q1238.3 20.5167 1242.02 20.5167 Q1248.17 20.5167 1251.32 24.3361 Q1254.47 28.1237 1254.47 35.5079 Z\" fill=\"#000000\" fill-rule=\"nonzero\" fill-opacity=\"1\" /><path clip-path=\"url(#clip020)\" d=\"M1271.94 11.2546 L1271.94 21.376 L1284 21.376 L1284 25.9275 L1271.94 25.9275 L1271.94 45.2793 Q1271.94 49.6398 1273.12 50.8811 Q1274.33 52.1224 1277.99 52.1224 L1284 52.1224 L1284 57.024 L1277.99 57.024 Q1271.21 57.024 1268.63 54.5095 Q1266.05 51.9633 1266.05 45.2793 L1266.05 25.9275 L1261.76 25.9275 L1261.76 21.376 L1266.05 21.376 L1266.05 11.2546 L1271.94 11.2546 Z\" fill=\"#000000\" fill-rule=\"nonzero\" fill-opacity=\"1\" /><path clip-path=\"url(#clip020)\" d=\"M1291.71 21.376 L1297.56 21.376 L1297.56 57.024 L1291.71 57.024 L1291.71 21.376 M1291.71 7.4988 L1297.56 7.4988 L1297.56 14.9149 L1291.71 14.9149 L1291.71 7.4988 Z\" fill=\"#000000\" fill-rule=\"nonzero\" fill-opacity=\"1\" /><path clip-path=\"url(#clip020)\" d=\"M1337.57 28.2192 Q1339.77 24.2724 1342.82 22.3946 Q1345.88 20.5167 1350.02 20.5167 Q1355.59 20.5167 1358.61 24.4316 Q1361.63 28.3147 1361.63 35.5079 L1361.63 57.024 L1355.75 57.024 L1355.75 35.6989 Q1355.75 30.5745 1353.93 28.0919 Q1352.12 25.6092 1348.39 25.6092 Q1343.84 25.6092 1341.2 28.6329 Q1338.56 31.6567 1338.56 36.8765 L1338.56 57.024 L1332.67 57.024 L1332.67 35.6989 Q1332.67 30.5427 1330.86 28.0919 Q1329.04 25.6092 1325.25 25.6092 Q1320.77 25.6092 1318.12 28.6648 Q1315.48 31.6885 1315.48 36.8765 L1315.48 57.024 L1309.59 57.024 L1309.59 21.376 L1315.48 21.376 L1315.48 26.9142 Q1317.49 23.6359 1320.29 22.0763 Q1323.09 20.5167 1326.94 20.5167 Q1330.82 20.5167 1333.53 22.49 Q1336.27 24.4634 1337.57 28.2192 Z\" fill=\"#000000\" fill-rule=\"nonzero\" fill-opacity=\"1\" /><path clip-path=\"url(#clip020)\" d=\"M1403.81 37.7359 L1403.81 40.6005 L1376.88 40.6005 Q1377.26 46.6479 1380.51 49.8308 Q1383.79 52.9818 1389.61 52.9818 Q1392.99 52.9818 1396.14 52.1542 Q1399.32 51.3267 1402.44 49.6716 L1402.44 55.2098 Q1399.29 56.5466 1395.98 57.2468 Q1392.67 57.947 1389.26 57.947 Q1380.73 57.947 1375.73 52.9818 Q1370.77 48.0165 1370.77 39.5501 Q1370.77 30.7973 1375.48 25.6729 Q1380.22 20.5167 1388.24 20.5167 Q1395.44 20.5167 1399.61 25.1636 Q1403.81 29.7788 1403.81 37.7359 M1397.95 36.0172 Q1397.89 31.2111 1395.25 28.3465 Q1392.64 25.4819 1388.31 25.4819 Q1383.41 25.4819 1380.45 28.251 Q1377.52 31.0201 1377.07 36.049 L1397.95 36.0172 Z\" fill=\"#000000\" fill-rule=\"nonzero\" fill-opacity=\"1\" /><path clip-path=\"url(#clip020)\" d=\"M1433.6 7.4988 L1447.09 7.4988 L1447.09 12.0503 L1439.46 12.0503 L1439.46 61.0662 L1447.09 61.0662 L1447.09 65.6177 L1433.6 65.6177 L1433.6 7.4988 Z\" fill=\"#000000\" fill-rule=\"nonzero\" fill-opacity=\"1\" /><path clip-path=\"url(#clip020)\" d=\"M1487.33 28.2192 Q1489.52 24.2724 1492.58 22.3946 Q1495.63 20.5167 1499.77 20.5167 Q1505.34 20.5167 1508.36 24.4316 Q1511.39 28.3147 1511.39 35.5079 L1511.39 57.024 L1505.5 57.024 L1505.5 35.6989 Q1505.5 30.5745 1503.69 28.0919 Q1501.87 25.6092 1498.15 25.6092 Q1493.6 25.6092 1490.95 28.6329 Q1488.31 31.6567 1488.31 36.8765 L1488.31 57.024 L1482.42 57.024 L1482.42 35.6989 Q1482.42 30.5427 1480.61 28.0919 Q1478.8 25.6092 1475.01 25.6092 Q1470.52 25.6092 1467.88 28.6648 Q1465.24 31.6885 1465.24 36.8765 L1465.24 57.024 L1459.35 57.024 L1459.35 21.376 L1465.24 21.376 L1465.24 26.9142 Q1467.24 23.6359 1470.04 22.0763 Q1472.84 20.5167 1476.69 20.5167 Q1480.58 20.5167 1483.28 22.49 Q1486.02 24.4634 1487.33 28.2192 Z\" fill=\"#000000\" fill-rule=\"nonzero\" fill-opacity=\"1\" /><path clip-path=\"url(#clip020)\" d=\"M1523.07 21.376 L1528.93 21.376 L1528.93 57.024 L1523.07 57.024 L1523.07 21.376 M1523.07 7.4988 L1528.93 7.4988 L1528.93 14.9149 L1523.07 14.9149 L1523.07 7.4988 Z\" fill=\"#000000\" fill-rule=\"nonzero\" fill-opacity=\"1\" /><path clip-path=\"url(#clip020)\" d=\"M1570.81 35.5079 L1570.81 57.024 L1564.96 57.024 L1564.96 35.6989 Q1564.96 30.6381 1562.98 28.1237 Q1561.01 25.6092 1557.06 25.6092 Q1552.32 25.6092 1549.58 28.6329 Q1546.84 31.6567 1546.84 36.8765 L1546.84 57.024 L1540.96 57.024 L1540.96 21.376 L1546.84 21.376 L1546.84 26.9142 Q1548.95 23.6995 1551.78 22.1081 Q1554.64 20.5167 1558.37 20.5167 Q1564.51 20.5167 1567.66 24.3361 Q1570.81 28.1237 1570.81 35.5079 Z\" fill=\"#000000\" fill-rule=\"nonzero\" fill-opacity=\"1\" /><path clip-path=\"url(#clip020)\" d=\"M1583.32 48.9396 L1590.04 48.9396 L1590.04 57.024 L1583.32 57.024 L1583.32 48.9396 Z\" fill=\"#000000\" fill-rule=\"nonzero\" fill-opacity=\"1\" /><path clip-path=\"url(#clip020)\" d=\"M1616.9 7.4988 L1616.9 65.6177 L1603.4 65.6177 L1603.4 61.0662 L1611.01 61.0662 L1611.01 12.0503 L1603.4 12.0503 L1603.4 7.4988 L1616.9 7.4988 Z\" fill=\"#000000\" fill-rule=\"nonzero\" fill-opacity=\"1\" /><polyline clip-path=\"url(#clip023)\" style=\"stroke:#009af9; stroke-linecap:round; stroke-linejoin:round; stroke-width:8; stroke-opacity:1; fill:none\" points=\"1086.18,199.013 1151.29,200.784 1216.39,197.574 1281.5,203.417 1346.6,172.729 1411.71,186.498 1476.81,160.092 1541.92,141.434 1607.02,130.037 1672.13,209.791 \"/>\n",
       "<polyline clip-path=\"url(#clip023)\" style=\"stroke:#e26f46; stroke-linecap:round; stroke-linejoin:round; stroke-width:8; stroke-opacity:1; fill:none\" points=\"1086.18,324.873 1151.29,324.887 1216.39,324.49 1281.5,324.382 1346.6,310.648 1411.71,296.599 1476.81,280.738 1541.92,268.309 1607.02,282.164 1672.13,256.309 \"/>\n",
       "<polyline clip-path=\"url(#clip023)\" style=\"stroke:#3da44d; stroke-linecap:round; stroke-linejoin:round; stroke-width:8; stroke-opacity:1; fill:none\" points=\"1086.18,338.797 1151.29,338.82 1216.39,338.796 1281.5,338.781 1346.6,338.79 1411.71,338.791 1476.81,338.792 1541.92,338.772 1607.02,338.791 1672.13,338.77 \"/>\n",
       "<path clip-path=\"url(#clip020)\" d=\"M1397.62 109.548 L1405.46 109.548 L1415.38 136.006 L1425.36 109.548 L1433.19 109.548 L1433.19 148.428 L1428.06 148.428 L1428.06 114.287 L1418.04 140.954 L1412.75 140.954 L1402.73 114.287 L1402.73 148.428 L1397.62 148.428 L1397.62 109.548 Z\" fill=\"#0000ff\" fill-rule=\"nonzero\" fill-opacity=\"1\" /><path clip-path=\"url(#clip020)\" d=\"M1472.75 112.543 L1472.75 118.089 Q1470.1 115.616 1467.07 114.392 Q1464.08 113.168 1460.69 113.168 Q1454.03 113.168 1450.49 117.256 Q1446.94 121.319 1446.94 129.027 Q1446.94 136.709 1450.49 140.798 Q1454.03 144.86 1460.69 144.86 Q1464.08 144.86 1467.07 143.636 Q1470.1 142.412 1472.75 139.938 L1472.75 145.433 Q1469.99 147.308 1466.89 148.246 Q1463.82 149.183 1460.38 149.183 Q1451.55 149.183 1446.48 143.792 Q1441.4 138.376 1441.4 129.027 Q1441.4 119.652 1446.48 114.261 Q1451.55 108.845 1460.38 108.845 Q1463.87 108.845 1466.94 109.782 Q1470.04 110.694 1472.75 112.543 Z\" fill=\"#0000ff\" fill-rule=\"nonzero\" fill-opacity=\"1\" /><path clip-path=\"url(#clip020)\" d=\"M1480.88 109.548 L1488.71 109.548 L1498.64 136.006 L1508.61 109.548 L1516.45 109.548 L1516.45 148.428 L1511.32 148.428 L1511.32 114.287 L1501.29 140.954 L1496.01 140.954 L1485.98 114.287 L1485.98 148.428 L1480.88 148.428 L1480.88 109.548 Z\" fill=\"#0000ff\" fill-rule=\"nonzero\" fill-opacity=\"1\" /><path clip-path=\"url(#clip020)\" d=\"M1556.01 112.543 L1556.01 118.089 Q1553.35 115.616 1550.33 114.392 Q1547.33 113.168 1543.95 113.168 Q1537.28 113.168 1533.74 117.256 Q1530.2 121.319 1530.2 129.027 Q1530.2 136.709 1533.74 140.798 Q1537.28 144.86 1543.95 144.86 Q1547.33 144.86 1550.33 143.636 Q1553.35 142.412 1556.01 139.938 L1556.01 145.433 Q1553.25 147.308 1550.15 148.246 Q1547.07 149.183 1543.64 149.183 Q1534.81 149.183 1529.73 143.792 Q1524.65 138.376 1524.65 129.027 Q1524.65 119.652 1529.73 114.261 Q1534.81 108.845 1543.64 108.845 Q1547.13 108.845 1550.2 109.782 Q1553.3 110.694 1556.01 112.543 Z\" fill=\"#0000ff\" fill-rule=\"nonzero\" fill-opacity=\"1\" /><path clip-path=\"url(#clip020)\" d=\"M1446.49 231.47 L1446.49 236.6 Q1443.49 235.168 1440.84 234.465 Q1438.18 233.762 1435.71 233.762 Q1431.41 233.762 1429.07 235.428 Q1426.75 237.095 1426.75 240.168 Q1426.75 242.746 1428.29 244.074 Q1429.85 245.376 1434.17 246.183 L1437.35 246.834 Q1443.23 247.954 1446.02 250.793 Q1448.83 253.605 1448.83 258.345 Q1448.83 263.996 1445.03 266.913 Q1441.25 269.829 1433.94 269.829 Q1431.18 269.829 1428.05 269.204 Q1424.95 268.579 1421.62 267.355 L1421.62 261.939 Q1424.82 263.735 1427.89 264.647 Q1430.97 265.558 1433.94 265.558 Q1438.44 265.558 1440.89 263.788 Q1443.34 262.017 1443.34 258.735 Q1443.34 255.871 1441.57 254.256 Q1439.82 252.642 1435.81 251.834 L1432.61 251.209 Q1426.72 250.038 1424.09 247.538 Q1421.46 245.038 1421.46 240.585 Q1421.46 235.428 1425.08 232.46 Q1428.73 229.491 1435.11 229.491 Q1437.84 229.491 1440.68 229.986 Q1443.52 230.48 1446.49 231.47 Z\" fill=\"#ff0000\" fill-rule=\"nonzero\" fill-opacity=\"1\" /><path clip-path=\"url(#clip020)\" d=\"M1457.04 230.194 L1464.87 230.194 L1474.8 256.652 L1484.77 230.194 L1492.61 230.194 L1492.61 269.074 L1487.48 269.074 L1487.48 234.934 L1477.45 261.6 L1472.17 261.6 L1462.14 234.934 L1462.14 269.074 L1457.04 269.074 L1457.04 230.194 Z\" fill=\"#ff0000\" fill-rule=\"nonzero\" fill-opacity=\"1\" /><path clip-path=\"url(#clip020)\" d=\"M1532.17 233.189 L1532.17 238.736 Q1529.51 236.262 1526.49 235.038 Q1523.49 233.814 1520.11 233.814 Q1513.44 233.814 1509.9 237.902 Q1506.36 241.965 1506.36 249.673 Q1506.36 257.355 1509.9 261.444 Q1513.44 265.506 1520.11 265.506 Q1523.49 265.506 1526.49 264.282 Q1529.51 263.058 1532.17 260.584 L1532.17 266.079 Q1529.4 267.954 1526.31 268.892 Q1523.23 269.829 1519.8 269.829 Q1510.97 269.829 1505.89 264.439 Q1500.81 259.022 1500.81 249.673 Q1500.81 240.298 1505.89 234.907 Q1510.97 229.491 1519.8 229.491 Q1523.29 229.491 1526.36 230.428 Q1529.46 231.34 1532.17 233.189 Z\" fill=\"#ff0000\" fill-rule=\"nonzero\" fill-opacity=\"1\" /><path clip-path=\"url(#clip020)\" d=\"M1428.38 292.571 L1428.38 307.18 L1434.99 307.18 Q1438.66 307.18 1440.67 305.279 Q1442.67 303.378 1442.67 299.863 Q1442.67 296.373 1440.67 294.472 Q1438.66 292.571 1434.99 292.571 L1428.38 292.571 M1423.12 288.248 L1434.99 288.248 Q1441.53 288.248 1444.86 291.217 Q1448.22 294.16 1448.22 299.863 Q1448.22 305.618 1444.86 308.561 Q1441.53 311.503 1434.99 311.503 L1428.38 311.503 L1428.38 327.128 L1423.12 327.128 L1423.12 288.248 Z\" fill=\"#008000\" fill-rule=\"nonzero\" fill-opacity=\"1\" /><path clip-path=\"url(#clip020)\" d=\"M1478.58 289.524 L1478.58 294.654 Q1475.59 293.222 1472.93 292.519 Q1470.28 291.816 1467.8 291.816 Q1463.51 291.816 1461.16 293.483 Q1458.85 295.149 1458.85 298.222 Q1458.85 300.8 1460.38 302.128 Q1461.94 303.43 1466.27 304.238 L1469.44 304.889 Q1475.33 306.009 1478.12 308.847 Q1480.93 311.66 1480.93 316.399 Q1480.93 322.05 1477.13 324.967 Q1473.35 327.883 1466.03 327.883 Q1463.27 327.883 1460.15 327.258 Q1457.05 326.633 1453.72 325.41 L1453.72 319.993 Q1456.92 321.79 1459.99 322.701 Q1463.06 323.613 1466.03 323.613 Q1470.54 323.613 1472.99 321.842 Q1475.43 320.071 1475.43 316.79 Q1475.43 313.925 1473.66 312.311 Q1471.92 310.696 1467.91 309.889 L1464.7 309.264 Q1458.82 308.092 1456.19 305.592 Q1453.56 303.092 1453.56 298.639 Q1453.56 293.483 1457.18 290.514 Q1460.82 287.545 1467.2 287.545 Q1469.94 287.545 1472.78 288.04 Q1475.62 288.535 1478.58 289.524 Z\" fill=\"#008000\" fill-rule=\"nonzero\" fill-opacity=\"1\" /><path clip-path=\"url(#clip020)\" d=\"M1489.13 288.248 L1494.39 288.248 L1494.39 327.128 L1489.13 327.128 L1489.13 288.248 Z\" fill=\"#008000\" fill-rule=\"nonzero\" fill-opacity=\"1\" /><path clip-path=\"url(#clip020)\" d=\"M1528.17 289.524 L1528.17 294.654 Q1525.17 293.222 1522.52 292.519 Q1519.86 291.816 1517.39 291.816 Q1513.09 291.816 1510.75 293.483 Q1508.43 295.149 1508.43 298.222 Q1508.43 300.8 1509.96 302.128 Q1511.53 303.43 1515.85 304.238 L1519.03 304.889 Q1524.91 306.009 1527.7 308.847 Q1530.51 311.66 1530.51 316.399 Q1530.51 322.05 1526.71 324.967 Q1522.93 327.883 1515.62 327.883 Q1512.86 327.883 1509.73 327.258 Q1506.63 326.633 1503.3 325.41 L1503.3 319.993 Q1506.5 321.79 1509.57 322.701 Q1512.65 323.613 1515.62 323.613 Q1520.12 323.613 1522.57 321.842 Q1525.02 320.071 1525.02 316.79 Q1525.02 313.925 1523.25 312.311 Q1521.5 310.696 1517.49 309.889 L1514.29 309.264 Q1508.4 308.092 1505.77 305.592 Q1503.14 303.092 1503.14 298.639 Q1503.14 293.483 1506.76 290.514 Q1510.41 287.545 1516.79 287.545 Q1519.52 287.545 1522.36 288.04 Q1525.2 288.535 1528.17 289.524 Z\" fill=\"#008000\" fill-rule=\"nonzero\" fill-opacity=\"1\" /><path clip-path=\"url(#clip020)\" d=\"M1068.6 756.998 L1689.71 756.998 L1689.71 551.688 L1068.6 551.688  Z\" fill=\"#ffffff\" fill-rule=\"evenodd\" fill-opacity=\"1\"/>\n",
       "<defs>\n",
       "  <clipPath id=\"clip024\">\n",
       "    <rect x=\"1068\" y=\"551\" width=\"622\" height=\"206\"/>\n",
       "  </clipPath>\n",
       "</defs>\n",
       "<polyline clip-path=\"url(#clip024)\" style=\"stroke:#000000; stroke-linecap:round; stroke-linejoin:round; stroke-width:2; stroke-opacity:0.1; fill:none\" points=\"1086.18,756.998 1086.18,551.688 \"/>\n",
       "<polyline clip-path=\"url(#clip024)\" style=\"stroke:#000000; stroke-linecap:round; stroke-linejoin:round; stroke-width:2; stroke-opacity:0.1; fill:none\" points=\"1151.29,756.998 1151.29,551.688 \"/>\n",
       "<polyline clip-path=\"url(#clip024)\" style=\"stroke:#000000; stroke-linecap:round; stroke-linejoin:round; stroke-width:2; stroke-opacity:0.1; fill:none\" points=\"1216.39,756.998 1216.39,551.688 \"/>\n",
       "<polyline clip-path=\"url(#clip024)\" style=\"stroke:#000000; stroke-linecap:round; stroke-linejoin:round; stroke-width:2; stroke-opacity:0.1; fill:none\" points=\"1281.5,756.998 1281.5,551.688 \"/>\n",
       "<polyline clip-path=\"url(#clip024)\" style=\"stroke:#000000; stroke-linecap:round; stroke-linejoin:round; stroke-width:2; stroke-opacity:0.1; fill:none\" points=\"1346.6,756.998 1346.6,551.688 \"/>\n",
       "<polyline clip-path=\"url(#clip024)\" style=\"stroke:#000000; stroke-linecap:round; stroke-linejoin:round; stroke-width:2; stroke-opacity:0.1; fill:none\" points=\"1411.71,756.998 1411.71,551.688 \"/>\n",
       "<polyline clip-path=\"url(#clip024)\" style=\"stroke:#000000; stroke-linecap:round; stroke-linejoin:round; stroke-width:2; stroke-opacity:0.1; fill:none\" points=\"1476.81,756.998 1476.81,551.688 \"/>\n",
       "<polyline clip-path=\"url(#clip024)\" style=\"stroke:#000000; stroke-linecap:round; stroke-linejoin:round; stroke-width:2; stroke-opacity:0.1; fill:none\" points=\"1541.92,756.998 1541.92,551.688 \"/>\n",
       "<polyline clip-path=\"url(#clip024)\" style=\"stroke:#000000; stroke-linecap:round; stroke-linejoin:round; stroke-width:2; stroke-opacity:0.1; fill:none\" points=\"1607.02,756.998 1607.02,551.688 \"/>\n",
       "<polyline clip-path=\"url(#clip024)\" style=\"stroke:#000000; stroke-linecap:round; stroke-linejoin:round; stroke-width:2; stroke-opacity:0.1; fill:none\" points=\"1672.13,756.998 1672.13,551.688 \"/>\n",
       "<polyline clip-path=\"url(#clip024)\" style=\"stroke:#000000; stroke-linecap:round; stroke-linejoin:round; stroke-width:2; stroke-opacity:0.1; fill:none\" points=\"1068.6,756.998 1689.71,756.998 \"/>\n",
       "<polyline clip-path=\"url(#clip024)\" style=\"stroke:#000000; stroke-linecap:round; stroke-linejoin:round; stroke-width:2; stroke-opacity:0.1; fill:none\" points=\"1068.6,695.297 1689.71,695.297 \"/>\n",
       "<polyline clip-path=\"url(#clip024)\" style=\"stroke:#000000; stroke-linecap:round; stroke-linejoin:round; stroke-width:2; stroke-opacity:0.1; fill:none\" points=\"1068.6,633.596 1689.71,633.596 \"/>\n",
       "<polyline clip-path=\"url(#clip024)\" style=\"stroke:#000000; stroke-linecap:round; stroke-linejoin:round; stroke-width:2; stroke-opacity:0.1; fill:none\" points=\"1068.6,571.895 1689.71,571.895 \"/>\n",
       "<polyline clip-path=\"url(#clip020)\" style=\"stroke:#000000; stroke-linecap:round; stroke-linejoin:round; stroke-width:4; stroke-opacity:1; fill:none\" points=\"1068.6,756.998 1689.71,756.998 \"/>\n",
       "<polyline clip-path=\"url(#clip020)\" style=\"stroke:#000000; stroke-linecap:round; stroke-linejoin:round; stroke-width:4; stroke-opacity:1; fill:none\" points=\"1086.18,756.998 1086.18,775.896 \"/>\n",
       "<polyline clip-path=\"url(#clip020)\" style=\"stroke:#000000; stroke-linecap:round; stroke-linejoin:round; stroke-width:4; stroke-opacity:1; fill:none\" points=\"1151.29,756.998 1151.29,775.896 \"/>\n",
       "<polyline clip-path=\"url(#clip020)\" style=\"stroke:#000000; stroke-linecap:round; stroke-linejoin:round; stroke-width:4; stroke-opacity:1; fill:none\" points=\"1216.39,756.998 1216.39,775.896 \"/>\n",
       "<polyline clip-path=\"url(#clip020)\" style=\"stroke:#000000; stroke-linecap:round; stroke-linejoin:round; stroke-width:4; stroke-opacity:1; fill:none\" points=\"1281.5,756.998 1281.5,775.896 \"/>\n",
       "<polyline clip-path=\"url(#clip020)\" style=\"stroke:#000000; stroke-linecap:round; stroke-linejoin:round; stroke-width:4; stroke-opacity:1; fill:none\" points=\"1346.6,756.998 1346.6,775.896 \"/>\n",
       "<polyline clip-path=\"url(#clip020)\" style=\"stroke:#000000; stroke-linecap:round; stroke-linejoin:round; stroke-width:4; stroke-opacity:1; fill:none\" points=\"1411.71,756.998 1411.71,775.896 \"/>\n",
       "<polyline clip-path=\"url(#clip020)\" style=\"stroke:#000000; stroke-linecap:round; stroke-linejoin:round; stroke-width:4; stroke-opacity:1; fill:none\" points=\"1476.81,756.998 1476.81,775.896 \"/>\n",
       "<polyline clip-path=\"url(#clip020)\" style=\"stroke:#000000; stroke-linecap:round; stroke-linejoin:round; stroke-width:4; stroke-opacity:1; fill:none\" points=\"1541.92,756.998 1541.92,775.896 \"/>\n",
       "<polyline clip-path=\"url(#clip020)\" style=\"stroke:#000000; stroke-linecap:round; stroke-linejoin:round; stroke-width:4; stroke-opacity:1; fill:none\" points=\"1607.02,756.998 1607.02,775.896 \"/>\n",
       "<polyline clip-path=\"url(#clip020)\" style=\"stroke:#000000; stroke-linecap:round; stroke-linejoin:round; stroke-width:4; stroke-opacity:1; fill:none\" points=\"1672.13,756.998 1672.13,775.896 \"/>\n",
       "<path clip-path=\"url(#clip020)\" d=\"M1075.36 832.371 L1083.96 832.371 L1083.96 802.71 L1074.61 804.585 L1074.61 799.793 L1083.9 797.918 L1089.16 797.918 L1089.16 832.371 L1097.76 832.371 L1097.76 836.798 L1075.36 836.798 L1075.36 832.371 Z\" fill=\"#000000\" fill-rule=\"nonzero\" fill-opacity=\"1\" /><path clip-path=\"url(#clip020)\" d=\"M1145.27 832.371 L1163.63 832.371 L1163.63 836.798 L1138.94 836.798 L1138.94 832.371 Q1141.94 829.272 1147.1 824.064 Q1152.28 818.83 1153.61 817.319 Q1156.13 814.481 1157.12 812.528 Q1158.14 810.548 1158.14 808.647 Q1158.14 805.548 1155.95 803.595 Q1153.79 801.642 1150.3 801.642 Q1147.82 801.642 1145.06 802.502 Q1142.33 803.361 1139.2 805.106 L1139.2 799.793 Q1142.38 798.517 1145.14 797.866 Q1147.9 797.215 1150.19 797.215 Q1156.24 797.215 1159.83 800.236 Q1163.42 803.257 1163.42 808.309 Q1163.42 810.705 1162.51 812.866 Q1161.63 815.001 1159.26 817.918 Q1158.61 818.673 1155.12 822.293 Q1151.63 825.887 1145.27 832.371 Z\" fill=\"#000000\" fill-rule=\"nonzero\" fill-opacity=\"1\" /><path clip-path=\"url(#clip020)\" d=\"M1221.17 815.835 Q1224.95 816.642 1227.06 819.194 Q1229.19 821.746 1229.19 825.496 Q1229.19 831.251 1225.23 834.402 Q1221.28 837.553 1213.98 837.553 Q1211.54 837.553 1208.93 837.059 Q1206.35 836.59 1203.59 835.626 L1203.59 830.548 Q1205.78 831.824 1208.39 832.475 Q1210.99 833.126 1213.83 833.126 Q1218.78 833.126 1221.35 831.173 Q1223.96 829.22 1223.96 825.496 Q1223.96 822.059 1221.54 820.132 Q1219.14 818.179 1214.84 818.179 L1210.31 818.179 L1210.31 813.856 L1215.05 813.856 Q1218.93 813.856 1220.99 812.319 Q1223.05 810.757 1223.05 807.84 Q1223.05 804.845 1220.91 803.257 Q1218.8 801.642 1214.84 801.642 Q1212.68 801.642 1210.21 802.111 Q1207.73 802.58 1204.77 803.569 L1204.77 798.882 Q1207.76 798.048 1210.36 797.632 Q1212.99 797.215 1215.31 797.215 Q1221.3 797.215 1224.79 799.949 Q1228.28 802.658 1228.28 807.293 Q1228.28 810.522 1226.43 812.762 Q1224.58 814.975 1221.17 815.835 Z\" fill=\"#000000\" fill-rule=\"nonzero\" fill-opacity=\"1\" /><path clip-path=\"url(#clip020)\" d=\"M1284.88 802.502 L1271.6 823.257 L1284.88 823.257 L1284.88 802.502 M1283.5 797.918 L1290.12 797.918 L1290.12 823.257 L1295.66 823.257 L1295.66 827.632 L1290.12 827.632 L1290.12 836.798 L1284.88 836.798 L1284.88 827.632 L1267.33 827.632 L1267.33 822.554 L1283.5 797.918 Z\" fill=\"#000000\" fill-rule=\"nonzero\" fill-opacity=\"1\" /><path clip-path=\"url(#clip020)\" d=\"M1335.67 797.918 L1356.32 797.918 L1356.32 802.345 L1340.48 802.345 L1340.48 811.876 Q1341.63 811.486 1342.78 811.304 Q1343.92 811.095 1345.07 811.095 Q1351.58 811.095 1355.38 814.663 Q1359.18 818.231 1359.18 824.324 Q1359.18 830.6 1355.28 834.09 Q1351.37 837.553 1344.26 837.553 Q1341.81 837.553 1339.26 837.137 Q1336.73 836.72 1334.03 835.887 L1334.03 830.6 Q1336.37 831.876 1338.87 832.501 Q1341.37 833.126 1344.16 833.126 Q1348.66 833.126 1351.29 830.757 Q1353.92 828.387 1353.92 824.324 Q1353.92 820.262 1351.29 817.892 Q1348.66 815.522 1344.16 815.522 Q1342.05 815.522 1339.94 815.991 Q1337.85 816.46 1335.67 817.449 L1335.67 797.918 Z\" fill=\"#000000\" fill-rule=\"nonzero\" fill-opacity=\"1\" /><path clip-path=\"url(#clip020)\" d=\"M1412.16 815.262 Q1408.62 815.262 1406.54 817.684 Q1404.48 820.106 1404.48 824.324 Q1404.48 828.517 1406.54 830.965 Q1408.62 833.387 1412.16 833.387 Q1415.71 833.387 1417.76 830.965 Q1419.85 828.517 1419.85 824.324 Q1419.85 820.106 1417.76 817.684 Q1415.71 815.262 1412.16 815.262 M1422.61 798.778 L1422.61 803.569 Q1420.63 802.632 1418.6 802.137 Q1416.59 801.642 1414.61 801.642 Q1409.4 801.642 1406.64 805.158 Q1403.91 808.673 1403.52 815.783 Q1405.06 813.517 1407.37 812.319 Q1409.69 811.095 1412.48 811.095 Q1418.34 811.095 1421.72 814.663 Q1425.13 818.205 1425.13 824.324 Q1425.13 830.314 1421.59 833.934 Q1418.05 837.553 1412.16 837.553 Q1405.42 837.553 1401.85 832.397 Q1398.28 827.215 1398.28 817.397 Q1398.28 808.179 1402.66 802.71 Q1407.03 797.215 1414.4 797.215 Q1416.38 797.215 1418.39 797.606 Q1420.42 797.996 1422.61 798.778 Z\" fill=\"#000000\" fill-rule=\"nonzero\" fill-opacity=\"1\" /><path clip-path=\"url(#clip020)\" d=\"M1464.31 797.918 L1489.31 797.918 L1489.31 800.158 L1475.2 836.798 L1469.7 836.798 L1482.99 802.345 L1464.31 802.345 L1464.31 797.918 Z\" fill=\"#000000\" fill-rule=\"nonzero\" fill-opacity=\"1\" /><path clip-path=\"url(#clip020)\" d=\"M1541.92 818.335 Q1538.17 818.335 1536.01 820.34 Q1533.87 822.345 1533.87 825.861 Q1533.87 829.376 1536.01 831.382 Q1538.17 833.387 1541.92 833.387 Q1545.67 833.387 1547.83 831.382 Q1549.99 829.35 1549.99 825.861 Q1549.99 822.345 1547.83 820.34 Q1545.7 818.335 1541.92 818.335 M1536.66 816.095 Q1533.27 815.262 1531.37 812.944 Q1529.5 810.627 1529.5 807.293 Q1529.5 802.632 1532.8 799.923 Q1536.14 797.215 1541.92 797.215 Q1547.73 797.215 1551.03 799.923 Q1554.34 802.632 1554.34 807.293 Q1554.34 810.627 1552.44 812.944 Q1550.57 815.262 1547.21 816.095 Q1551.01 816.981 1553.12 819.559 Q1555.25 822.137 1555.25 825.861 Q1555.25 831.512 1551.79 834.533 Q1548.35 837.553 1541.92 837.553 Q1535.49 837.553 1532.02 834.533 Q1528.59 831.512 1528.59 825.861 Q1528.59 822.137 1530.72 819.559 Q1532.86 816.981 1536.66 816.095 M1534.73 807.788 Q1534.73 810.809 1536.61 812.501 Q1538.51 814.194 1541.92 814.194 Q1545.3 814.194 1547.21 812.501 Q1549.13 810.809 1549.13 807.788 Q1549.13 804.767 1547.21 803.074 Q1545.3 801.382 1541.92 801.382 Q1538.51 801.382 1536.61 803.074 Q1534.73 804.767 1534.73 807.788 Z\" fill=\"#000000\" fill-rule=\"nonzero\" fill-opacity=\"1\" /><path clip-path=\"url(#clip020)\" d=\"M1596.11 835.991 L1596.11 831.199 Q1598.09 832.137 1600.12 832.632 Q1602.15 833.126 1604.11 833.126 Q1609.32 833.126 1612.05 829.637 Q1614.81 826.121 1615.2 818.986 Q1613.69 821.225 1611.37 822.423 Q1609.06 823.621 1606.24 823.621 Q1600.41 823.621 1597 820.106 Q1593.61 816.564 1593.61 810.444 Q1593.61 804.455 1597.15 800.835 Q1600.7 797.215 1606.58 797.215 Q1613.33 797.215 1616.87 802.397 Q1620.44 807.554 1620.44 817.397 Q1620.44 826.59 1616.06 832.085 Q1611.71 837.553 1604.34 837.553 Q1602.36 837.553 1600.33 837.163 Q1598.3 836.772 1596.11 835.991 M1606.58 819.507 Q1610.12 819.507 1612.18 817.085 Q1614.26 814.663 1614.26 810.444 Q1614.26 806.252 1612.18 803.83 Q1610.12 801.382 1606.58 801.382 Q1603.04 801.382 1600.96 803.83 Q1598.9 806.252 1598.9 810.444 Q1598.9 814.663 1600.96 817.085 Q1603.04 819.507 1606.58 819.507 Z\" fill=\"#000000\" fill-rule=\"nonzero\" fill-opacity=\"1\" /><path clip-path=\"url(#clip020)\" d=\"M1643.65 832.371 L1652.25 832.371 L1652.25 802.71 L1642.9 804.585 L1642.9 799.793 L1652.19 797.918 L1657.46 797.918 L1657.46 832.371 L1666.05 832.371 L1666.05 836.798 L1643.65 836.798 L1643.65 832.371 Z\" fill=\"#000000\" fill-rule=\"nonzero\" fill-opacity=\"1\" /><path clip-path=\"url(#clip020)\" d=\"M1687.92 801.382 Q1683.86 801.382 1681.8 805.392 Q1679.77 809.377 1679.77 817.397 Q1679.77 825.392 1681.8 829.402 Q1683.86 833.387 1687.92 833.387 Q1692.01 833.387 1694.04 829.402 Q1696.1 825.392 1696.1 817.397 Q1696.1 809.377 1694.04 805.392 Q1692.01 801.382 1687.92 801.382 M1687.92 797.215 Q1694.46 797.215 1697.9 802.397 Q1701.36 807.554 1701.36 817.397 Q1701.36 827.215 1697.9 832.397 Q1694.46 837.553 1687.92 837.553 Q1681.39 837.553 1677.92 832.397 Q1674.49 827.215 1674.49 817.397 Q1674.49 807.554 1677.92 802.397 Q1681.39 797.215 1687.92 797.215 Z\" fill=\"#000000\" fill-rule=\"nonzero\" fill-opacity=\"1\" /><path clip-path=\"url(#clip020)\" d=\"M1133.59 894.354 L1133.59 882.751 L1124.04 882.751 L1124.04 877.948 L1139.38 877.948 L1139.38 896.495 Q1135.99 898.897 1131.91 900.141 Q1127.83 901.356 1123.2 901.356 Q1113.08 901.356 1107.35 895.453 Q1101.65 889.522 1101.65 878.96 Q1101.65 868.37 1107.35 862.467 Q1113.08 856.536 1123.2 856.536 Q1127.43 856.536 1131.22 857.577 Q1135.04 858.619 1138.25 860.644 L1138.25 866.865 Q1135.01 864.117 1131.36 862.728 Q1127.72 861.339 1123.7 861.339 Q1115.77 861.339 1111.77 865.766 Q1107.81 870.193 1107.81 878.96 Q1107.81 887.699 1111.77 892.126 Q1115.77 896.553 1123.7 896.553 Q1126.79 896.553 1129.22 896.032 Q1131.65 895.482 1133.59 894.354 Z\" fill=\"#000000\" fill-rule=\"nonzero\" fill-opacity=\"1\" /><path clip-path=\"url(#clip020)\" d=\"M1168.6 873.086 Q1167.71 872.566 1166.63 872.334 Q1165.59 872.074 1164.32 872.074 Q1159.81 872.074 1157.38 875.025 Q1154.97 877.948 1154.97 883.445 L1154.97 900.517 L1149.62 900.517 L1149.62 868.11 L1154.97 868.11 L1154.97 873.144 Q1156.65 870.193 1159.34 868.775 Q1162.03 867.328 1165.88 867.328 Q1166.43 867.328 1167.1 867.415 Q1167.76 867.473 1168.57 867.618 L1168.6 873.086 Z\" fill=\"#000000\" fill-rule=\"nonzero\" fill-opacity=\"1\" /><path clip-path=\"url(#clip020)\" d=\"M1185.44 871.842 Q1181.16 871.842 1178.67 875.199 Q1176.18 878.526 1176.18 884.342 Q1176.18 890.158 1178.64 893.515 Q1181.13 896.842 1185.44 896.842 Q1189.7 896.842 1192.18 893.486 Q1194.67 890.129 1194.67 884.342 Q1194.67 878.584 1192.18 875.228 Q1189.7 871.842 1185.44 871.842 M1185.44 867.328 Q1192.39 867.328 1196.35 871.842 Q1200.32 876.356 1200.32 884.342 Q1200.32 892.299 1196.35 896.842 Q1192.39 901.356 1185.44 901.356 Q1178.47 901.356 1174.51 896.842 Q1170.57 892.299 1170.57 884.342 Q1170.57 876.356 1174.51 871.842 Q1178.47 867.328 1185.44 867.328 Z\" fill=\"#000000\" fill-rule=\"nonzero\" fill-opacity=\"1\" /><path clip-path=\"url(#clip020)\" d=\"M1208.59 887.728 L1208.59 868.11 L1213.91 868.11 L1213.91 887.525 Q1213.91 892.126 1215.71 894.441 Q1217.5 896.726 1221.09 896.726 Q1225.4 896.726 1227.89 893.978 Q1230.41 891.229 1230.41 886.483 L1230.41 868.11 L1235.73 868.11 L1235.73 900.517 L1230.41 900.517 L1230.41 895.54 Q1228.47 898.491 1225.89 899.938 Q1223.35 901.356 1219.96 901.356 Q1214.38 901.356 1211.48 897.884 Q1208.59 894.412 1208.59 887.728 M1221.99 867.328 L1221.99 867.328 Z\" fill=\"#000000\" fill-rule=\"nonzero\" fill-opacity=\"1\" /><path clip-path=\"url(#clip020)\" d=\"M1251.85 895.656 L1251.85 912.843 L1246.5 912.843 L1246.5 868.11 L1251.85 868.11 L1251.85 873.029 Q1253.53 870.135 1256.07 868.746 Q1258.65 867.328 1262.21 867.328 Q1268.11 867.328 1271.78 872.016 Q1275.49 876.703 1275.49 884.342 Q1275.49 891.981 1271.78 896.669 Q1268.11 901.356 1262.21 901.356 Q1258.65 901.356 1256.07 899.967 Q1253.53 898.549 1251.85 895.656 M1269.96 884.342 Q1269.96 878.468 1267.53 875.141 Q1265.13 871.784 1260.91 871.784 Q1256.68 871.784 1254.25 875.141 Q1251.85 878.468 1251.85 884.342 Q1251.85 890.216 1254.25 893.572 Q1256.68 896.9 1260.91 896.9 Q1265.13 896.9 1267.53 893.572 Q1269.96 890.216 1269.96 884.342 Z\" fill=\"#000000\" fill-rule=\"nonzero\" fill-opacity=\"1\" /><path clip-path=\"url(#clip020)\" d=\"M1348.6 860.23 Q1348.6 860.611 1348.51 860.874 Q1348.42 861.109 1348.22 861.226 Q1348.01 861.343 1347.89 861.372 Q1347.78 861.401 1347.51 861.431 Q1346.26 861.548 1345.38 861.753 Q1344.53 861.958 1342.42 863.012 Q1340.34 864.066 1337.74 865.969 L1327.25 874.079 L1325.5 875.455 Q1325.5 875.543 1325.56 875.718 Q1325.61 875.865 1325.67 876.07 Q1325.76 876.245 1325.79 876.304 L1334.31 895.95 Q1334.98 897.531 1335.8 898.087 Q1336.62 898.643 1338.47 898.672 Q1338.76 898.672 1338.88 898.702 Q1339.02 898.702 1339.23 898.76 Q1339.46 898.789 1339.55 898.936 Q1339.67 899.082 1339.67 899.316 Q1339.67 900.517 1338.58 900.517 Q1337.91 900.517 1335.63 900.429 Q1333.34 900.341 1332.7 900.341 Q1331.5 900.341 1329.04 900.429 Q1326.58 900.517 1325.38 900.517 Q1324.53 900.517 1324.53 899.843 Q1324.53 899.287 1324.74 899.024 Q1324.97 898.731 1325.17 898.702 Q1325.38 898.672 1325.85 898.672 Q1326.2 898.672 1326.58 898.643 Q1326.99 898.585 1327.58 898.438 Q1328.19 898.262 1328.57 897.853 Q1328.98 897.413 1328.98 896.799 Q1328.98 896.301 1328.25 894.691 L1321.31 878.558 L1312.38 885.527 L1309.98 894.954 Q1309.92 895.305 1309.77 895.92 Q1309.63 896.535 1309.51 896.974 Q1309.42 897.413 1309.42 897.589 Q1309.42 897.97 1309.66 898.204 Q1309.92 898.438 1310.57 898.555 Q1311.21 898.643 1311.71 898.672 Q1312.23 898.672 1313.32 898.672 Q1314.66 898.672 1314.9 898.907 Q1315.02 899.053 1315.02 899.316 Q1315.02 899.726 1314.9 900.019 Q1314.78 900.283 1314.55 900.37 Q1314.34 900.458 1314.2 900.488 Q1314.05 900.517 1313.82 900.517 Q1313.2 900.517 1311.88 900.458 Q1310.59 900.4 1309.92 900.4 L1306.09 900.341 L1298.47 900.517 Q1297.57 900.517 1297.57 899.785 Q1297.57 899.229 1297.8 898.994 Q1298.03 898.731 1298.3 898.702 Q1298.56 898.672 1299.23 898.672 Q1300.7 898.672 1301.58 898.585 Q1302.46 898.497 1303.01 898.38 Q1303.6 898.233 1303.89 897.823 Q1304.21 897.413 1304.36 897.062 Q1304.5 896.681 1304.71 895.832 L1312.73 863.627 Q1312.97 862.66 1312.97 862.514 Q1312.97 862.016 1312.67 861.841 Q1312.41 861.636 1311.65 861.548 Q1310.18 861.431 1309.07 861.431 Q1308.34 861.431 1308.05 861.401 Q1307.78 861.372 1307.55 861.226 Q1307.34 861.05 1307.34 860.699 Q1307.34 859.557 1308.55 859.557 L1316.27 859.733 L1323.95 859.557 Q1324.79 859.557 1324.79 860.23 Q1324.79 861.079 1324.38 861.255 Q1324 861.431 1322.74 861.431 Q1320.55 861.431 1319.55 861.723 Q1318.59 861.987 1318.29 862.455 Q1318.03 862.895 1317.71 864.183 L1312.91 883.419 L1336.3 865.442 Q1338.47 863.627 1338.47 862.69 Q1338.47 862.075 1338.03 861.811 Q1337.62 861.519 1336.59 861.431 Q1335.86 861.314 1335.86 860.757 Q1335.86 860.201 1336.07 859.938 Q1336.3 859.645 1336.48 859.615 Q1336.68 859.557 1337 859.557 Q1338.09 859.557 1340.34 859.645 Q1342.6 859.733 1343.68 859.733 Q1344.41 859.733 1345.85 859.645 Q1347.28 859.557 1347.92 859.557 Q1348.25 859.557 1348.42 859.791 Q1348.6 859.996 1348.6 860.23 Z\" fill=\"#000000\" fill-rule=\"nonzero\" fill-opacity=\"1\" /><path clip-path=\"url(#clip020)\" d=\"M1347.96 881.912 L1363.55 881.912 L1363.55 886.657 L1347.96 886.657 L1347.96 881.912 Z\" fill=\"#000000\" fill-rule=\"nonzero\" fill-opacity=\"1\" /><path clip-path=\"url(#clip020)\" d=\"M1388.44 855.494 L1388.44 859.921 L1383.35 859.921 Q1380.48 859.921 1379.35 861.078 Q1378.25 862.236 1378.25 865.245 L1378.25 868.11 L1387.02 868.11 L1387.02 872.247 L1378.25 872.247 L1378.25 900.517 L1372.9 900.517 L1372.9 872.247 L1367.81 872.247 L1367.81 868.11 L1372.9 868.11 L1372.9 865.853 Q1372.9 860.442 1375.42 857.982 Q1377.93 855.494 1383.4 855.494 L1388.44 855.494 Z\" fill=\"#000000\" fill-rule=\"nonzero\" fill-opacity=\"1\" /><path clip-path=\"url(#clip020)\" d=\"M1405.45 871.842 Q1401.17 871.842 1398.68 875.199 Q1396.19 878.526 1396.19 884.342 Q1396.19 890.158 1398.65 893.515 Q1401.14 896.842 1405.45 896.842 Q1409.71 896.842 1412.19 893.486 Q1414.68 890.129 1414.68 884.342 Q1414.68 878.584 1412.19 875.228 Q1409.71 871.842 1405.45 871.842 M1405.45 867.328 Q1412.4 867.328 1416.36 871.842 Q1420.32 876.356 1420.32 884.342 Q1420.32 892.299 1416.36 896.842 Q1412.4 901.356 1405.45 901.356 Q1398.48 901.356 1394.51 896.842 Q1390.58 892.299 1390.58 884.342 Q1390.58 876.356 1394.51 871.842 Q1398.48 867.328 1405.45 867.328 Z\" fill=\"#000000\" fill-rule=\"nonzero\" fill-opacity=\"1\" /><path clip-path=\"url(#clip020)\" d=\"M1429.15 855.494 L1434.47 855.494 L1434.47 900.517 L1429.15 900.517 L1429.15 855.494 Z\" fill=\"#000000\" fill-rule=\"nonzero\" fill-opacity=\"1\" /><path clip-path=\"url(#clip020)\" d=\"M1466.94 873.029 L1466.94 855.494 L1472.26 855.494 L1472.26 900.517 L1466.94 900.517 L1466.94 895.656 Q1465.26 898.549 1462.69 899.967 Q1460.14 901.356 1456.55 901.356 Q1450.68 901.356 1446.97 896.669 Q1443.3 891.981 1443.3 884.342 Q1443.3 876.703 1446.97 872.016 Q1450.68 867.328 1456.55 867.328 Q1460.14 867.328 1462.69 868.746 Q1465.26 870.135 1466.94 873.029 M1448.8 884.342 Q1448.8 890.216 1451.2 893.572 Q1453.63 896.9 1457.85 896.9 Q1462.08 896.9 1464.51 893.572 Q1466.94 890.216 1466.94 884.342 Q1466.94 878.468 1464.51 875.141 Q1462.08 871.784 1457.85 871.784 Q1453.63 871.784 1451.2 875.141 Q1448.8 878.468 1448.8 884.342 Z\" fill=\"#000000\" fill-rule=\"nonzero\" fill-opacity=\"1\" /><path clip-path=\"url(#clip020)\" d=\"M1502.07 868.11 L1507.39 868.11 L1507.39 900.517 L1502.07 900.517 L1502.07 868.11 M1502.07 855.494 L1507.39 855.494 L1507.39 862.236 L1502.07 862.236 L1502.07 855.494 Z\" fill=\"#000000\" fill-rule=\"nonzero\" fill-opacity=\"1\" /><path clip-path=\"url(#clip020)\" d=\"M1545.47 880.957 L1545.47 900.517 L1540.14 900.517 L1540.14 881.13 Q1540.14 876.53 1538.35 874.244 Q1536.56 871.958 1532.97 871.958 Q1528.66 871.958 1526.17 874.707 Q1523.68 877.456 1523.68 882.201 L1523.68 900.517 L1518.33 900.517 L1518.33 868.11 L1523.68 868.11 L1523.68 873.144 Q1525.59 870.222 1528.17 868.775 Q1530.77 867.328 1534.15 867.328 Q1539.74 867.328 1542.6 870.801 Q1545.47 874.244 1545.47 880.957 Z\" fill=\"#000000\" fill-rule=\"nonzero\" fill-opacity=\"1\" /><path clip-path=\"url(#clip020)\" d=\"M1577.41 873.029 L1577.41 855.494 L1582.74 855.494 L1582.74 900.517 L1577.41 900.517 L1577.41 895.656 Q1575.73 898.549 1573.16 899.967 Q1570.61 901.356 1567.02 901.356 Q1561.15 901.356 1557.45 896.669 Q1553.77 891.981 1553.77 884.342 Q1553.77 876.703 1557.45 872.016 Q1561.15 867.328 1567.02 867.328 Q1570.61 867.328 1573.16 868.746 Q1575.73 870.135 1577.41 873.029 M1559.27 884.342 Q1559.27 890.216 1561.67 893.572 Q1564.1 896.9 1568.33 896.9 Q1572.55 896.9 1574.98 893.572 Q1577.41 890.216 1577.41 884.342 Q1577.41 878.468 1574.98 875.141 Q1572.55 871.784 1568.33 871.784 Q1564.1 871.784 1561.67 875.141 Q1559.27 878.468 1559.27 884.342 Z\" fill=\"#000000\" fill-rule=\"nonzero\" fill-opacity=\"1\" /><path clip-path=\"url(#clip020)\" d=\"M1621.42 882.982 L1621.42 885.586 L1596.94 885.586 Q1597.29 891.084 1600.24 893.978 Q1603.22 896.842 1608.52 896.842 Q1611.58 896.842 1614.45 896.09 Q1617.34 895.338 1620.18 893.833 L1620.18 898.868 Q1617.31 900.083 1614.3 900.719 Q1611.3 901.356 1608.2 901.356 Q1600.44 901.356 1595.9 896.842 Q1591.39 892.328 1591.39 884.632 Q1591.39 876.674 1595.67 872.016 Q1599.98 867.328 1607.27 867.328 Q1613.81 867.328 1617.6 871.553 Q1621.42 875.749 1621.42 882.982 M1616.1 881.42 Q1616.04 877.051 1613.64 874.446 Q1611.27 871.842 1607.33 871.842 Q1602.88 871.842 1600.18 874.36 Q1597.52 876.877 1597.12 881.449 L1616.1 881.42 Z\" fill=\"#000000\" fill-rule=\"nonzero\" fill-opacity=\"1\" /><path clip-path=\"url(#clip020)\" d=\"M1656.06 868.11 L1644.34 883.879 L1656.67 900.517 L1650.39 900.517 L1640.95 887.785 L1631.52 900.517 L1625.24 900.517 L1637.83 883.561 L1626.31 868.11 L1632.59 868.11 L1641.19 879.655 L1649.78 868.11 L1656.06 868.11 Z\" fill=\"#000000\" fill-rule=\"nonzero\" fill-opacity=\"1\" /><polyline clip-path=\"url(#clip020)\" style=\"stroke:#000000; stroke-linecap:round; stroke-linejoin:round; stroke-width:4; stroke-opacity:1; fill:none\" points=\"1068.6,756.998 1068.6,551.688 \"/>\n",
       "<polyline clip-path=\"url(#clip020)\" style=\"stroke:#000000; stroke-linecap:round; stroke-linejoin:round; stroke-width:4; stroke-opacity:1; fill:none\" points=\"1068.6,756.998 1049.71,756.998 \"/>\n",
       "<polyline clip-path=\"url(#clip020)\" style=\"stroke:#000000; stroke-linecap:round; stroke-linejoin:round; stroke-width:4; stroke-opacity:1; fill:none\" points=\"1068.6,695.297 1049.71,695.297 \"/>\n",
       "<polyline clip-path=\"url(#clip020)\" style=\"stroke:#000000; stroke-linecap:round; stroke-linejoin:round; stroke-width:4; stroke-opacity:1; fill:none\" points=\"1068.6,633.596 1049.71,633.596 \"/>\n",
       "<polyline clip-path=\"url(#clip020)\" style=\"stroke:#000000; stroke-linecap:round; stroke-linejoin:round; stroke-width:4; stroke-opacity:1; fill:none\" points=\"1068.6,571.895 1049.71,571.895 \"/>\n",
       "<path clip-path=\"url(#clip020)\" d=\"M996.667 741.022 Q992.604 741.022 990.547 745.032 Q988.516 749.017 988.516 757.037 Q988.516 765.032 990.547 769.042 Q992.604 773.027 996.667 773.027 Q1000.76 773.027 1002.79 769.042 Q1004.84 765.032 1004.84 757.037 Q1004.84 749.017 1002.79 745.032 Q1000.76 741.022 996.667 741.022 M996.667 736.855 Q1003.2 736.855 1006.64 742.037 Q1010.1 747.194 1010.1 757.037 Q1010.1 766.855 1006.64 772.037 Q1003.2 777.193 996.667 777.193 Q990.13 777.193 986.667 772.037 Q983.229 766.855 983.229 757.037 Q983.229 747.194 986.667 742.037 Q990.13 736.855 996.667 736.855 Z\" fill=\"#000000\" fill-rule=\"nonzero\" fill-opacity=\"1\" /><path clip-path=\"url(#clip020)\" d=\"M951.537 675.857 L972.188 675.857 L972.188 680.284 L956.354 680.284 L956.354 689.815 Q957.5 689.425 958.646 689.243 Q959.792 689.034 960.938 689.034 Q967.448 689.034 971.25 692.602 Q975.052 696.17 975.052 702.263 Q975.052 708.539 971.146 712.029 Q967.24 715.492 960.13 715.492 Q957.682 715.492 955.13 715.076 Q952.604 714.659 949.896 713.826 L949.896 708.539 Q952.24 709.815 954.74 710.44 Q957.24 711.065 960.026 711.065 Q964.531 711.065 967.162 708.696 Q969.792 706.326 969.792 702.263 Q969.792 698.201 967.162 695.831 Q964.531 693.461 960.026 693.461 Q957.917 693.461 955.807 693.93 Q953.724 694.399 951.537 695.388 L951.537 675.857 Z\" fill=\"#000000\" fill-rule=\"nonzero\" fill-opacity=\"1\" /><path clip-path=\"url(#clip020)\" d=\"M996.667 679.321 Q992.604 679.321 990.547 683.331 Q988.516 687.315 988.516 695.336 Q988.516 703.331 990.547 707.341 Q992.604 711.326 996.667 711.326 Q1000.76 711.326 1002.79 707.341 Q1004.84 703.331 1004.84 695.336 Q1004.84 687.315 1002.79 683.331 Q1000.76 679.321 996.667 679.321 M996.667 675.154 Q1003.2 675.154 1006.64 680.336 Q1010.1 685.493 1010.1 695.336 Q1010.1 705.154 1006.64 710.336 Q1003.2 715.492 996.667 715.492 Q990.13 715.492 986.667 710.336 Q983.229 705.154 983.229 695.336 Q983.229 685.493 986.667 680.336 Q990.13 675.154 996.667 675.154 Z\" fill=\"#000000\" fill-rule=\"nonzero\" fill-opacity=\"1\" /><path clip-path=\"url(#clip020)\" d=\"M918.464 648.609 L927.058 648.609 L927.058 618.948 L917.709 620.823 L917.709 616.031 L927.006 614.156 L932.266 614.156 L932.266 648.609 L940.86 648.609 L940.86 653.036 L918.464 653.036 L918.464 648.609 Z\" fill=\"#000000\" fill-rule=\"nonzero\" fill-opacity=\"1\" /><path clip-path=\"url(#clip020)\" d=\"M962.734 617.62 Q958.672 617.62 956.615 621.63 Q954.584 625.614 954.584 633.635 Q954.584 641.63 956.615 645.64 Q958.672 649.625 962.734 649.625 Q966.823 649.625 968.854 645.64 Q970.912 641.63 970.912 633.635 Q970.912 625.614 968.854 621.63 Q966.823 617.62 962.734 617.62 M962.734 613.453 Q969.271 613.453 972.708 618.635 Q976.172 623.791 976.172 633.635 Q976.172 643.453 972.708 648.635 Q969.271 653.791 962.734 653.791 Q956.198 653.791 952.735 648.635 Q949.297 643.453 949.297 633.635 Q949.297 623.791 952.735 618.635 Q956.198 613.453 962.734 613.453 Z\" fill=\"#000000\" fill-rule=\"nonzero\" fill-opacity=\"1\" /><path clip-path=\"url(#clip020)\" d=\"M996.667 617.62 Q992.604 617.62 990.547 621.63 Q988.516 625.614 988.516 633.635 Q988.516 641.63 990.547 645.64 Q992.604 649.625 996.667 649.625 Q1000.76 649.625 1002.79 645.64 Q1004.84 641.63 1004.84 633.635 Q1004.84 625.614 1002.79 621.63 Q1000.76 617.62 996.667 617.62 M996.667 613.453 Q1003.2 613.453 1006.64 618.635 Q1010.1 623.791 1010.1 633.635 Q1010.1 643.453 1006.64 648.635 Q1003.2 653.791 996.667 653.791 Q990.13 653.791 986.667 648.635 Q983.229 643.453 983.229 633.635 Q983.229 623.791 986.667 618.635 Q990.13 613.453 996.667 613.453 Z\" fill=\"#000000\" fill-rule=\"nonzero\" fill-opacity=\"1\" /><path clip-path=\"url(#clip020)\" d=\"M918.464 586.908 L927.058 586.908 L927.058 557.247 L917.709 559.122 L917.709 554.33 L927.006 552.455 L932.266 552.455 L932.266 586.908 L940.86 586.908 L940.86 591.335 L918.464 591.335 L918.464 586.908 Z\" fill=\"#000000\" fill-rule=\"nonzero\" fill-opacity=\"1\" /><path clip-path=\"url(#clip020)\" d=\"M951.537 552.455 L972.188 552.455 L972.188 556.882 L956.354 556.882 L956.354 566.413 Q957.5 566.023 958.646 565.84 Q959.792 565.632 960.938 565.632 Q967.448 565.632 971.25 569.2 Q975.052 572.767 975.052 578.861 Q975.052 585.137 971.146 588.627 Q967.24 592.09 960.13 592.09 Q957.682 592.09 955.13 591.674 Q952.604 591.257 949.896 590.424 L949.896 585.137 Q952.24 586.413 954.74 587.038 Q957.24 587.663 960.026 587.663 Q964.531 587.663 967.162 585.293 Q969.792 582.924 969.792 578.861 Q969.792 574.799 967.162 572.429 Q964.531 570.059 960.026 570.059 Q957.917 570.059 955.807 570.528 Q953.724 570.997 951.537 571.986 L951.537 552.455 Z\" fill=\"#000000\" fill-rule=\"nonzero\" fill-opacity=\"1\" /><path clip-path=\"url(#clip020)\" d=\"M996.667 555.919 Q992.604 555.919 990.547 559.929 Q988.516 563.913 988.516 571.934 Q988.516 579.929 990.547 583.939 Q992.604 587.924 996.667 587.924 Q1000.76 587.924 1002.79 583.939 Q1004.84 579.929 1004.84 571.934 Q1004.84 563.913 1002.79 559.929 Q1000.76 555.919 996.667 555.919 M996.667 551.752 Q1003.2 551.752 1006.64 556.934 Q1010.1 562.09 1010.1 571.934 Q1010.1 581.752 1006.64 586.934 Q1003.2 592.09 996.667 592.09 Q990.13 592.09 986.667 586.934 Q983.229 581.752 983.229 571.934 Q983.229 562.09 986.667 556.934 Q990.13 551.752 996.667 551.752 Z\" fill=\"#000000\" fill-rule=\"nonzero\" fill-opacity=\"1\" /><path clip-path=\"url(#clip020)\" d=\"M1235.02 476.638 L1235.02 483.417 Q1231.77 480.394 1228.08 478.898 Q1224.42 477.402 1220.28 477.402 Q1212.14 477.402 1207.81 482.399 Q1203.48 487.364 1203.48 496.785 Q1203.48 506.175 1207.81 511.172 Q1212.14 516.137 1220.28 516.137 Q1224.42 516.137 1228.08 514.641 Q1231.77 513.145 1235.02 510.122 L1235.02 516.837 Q1231.65 519.129 1227.86 520.275 Q1224.1 521.421 1219.9 521.421 Q1209.11 521.421 1202.91 514.832 Q1196.7 508.212 1196.7 496.785 Q1196.7 485.327 1202.91 478.739 Q1209.11 472.118 1219.9 472.118 Q1224.17 472.118 1227.92 473.264 Q1231.71 474.378 1235.02 476.638 Z\" fill=\"#000000\" fill-rule=\"nonzero\" fill-opacity=\"1\" /><path clip-path=\"url(#clip020)\" d=\"M1244.09 506.429 L1244.09 484.85 L1249.95 484.85 L1249.95 506.207 Q1249.95 511.267 1251.92 513.814 Q1253.89 516.328 1257.84 516.328 Q1262.58 516.328 1265.32 513.304 Q1268.09 510.281 1268.09 505.061 L1268.09 484.85 L1273.95 484.85 L1273.95 520.498 L1268.09 520.498 L1268.09 515.023 Q1265.96 518.27 1263.13 519.861 Q1260.32 521.421 1256.6 521.421 Q1250.46 521.421 1247.27 517.601 Q1244.09 513.782 1244.09 506.429 M1258.83 483.99 L1258.83 483.99 Z\" fill=\"#000000\" fill-rule=\"nonzero\" fill-opacity=\"1\" /><path clip-path=\"url(#clip020)\" d=\"M1313.76 491.693 Q1315.96 487.746 1319.02 485.868 Q1322.07 483.99 1326.21 483.99 Q1331.78 483.99 1334.8 487.905 Q1337.83 491.788 1337.83 498.982 L1337.83 520.498 L1331.94 520.498 L1331.94 499.173 Q1331.94 494.048 1330.12 491.565 Q1328.31 489.083 1324.59 489.083 Q1320.03 489.083 1317.39 492.107 Q1314.75 495.13 1314.75 500.35 L1314.75 520.498 L1308.86 520.498 L1308.86 499.173 Q1308.86 494.016 1307.05 491.565 Q1305.23 489.083 1301.45 489.083 Q1296.96 489.083 1294.32 492.138 Q1291.68 495.162 1291.68 500.35 L1291.68 520.498 L1285.79 520.498 L1285.79 484.85 L1291.68 484.85 L1291.68 490.388 Q1293.68 487.109 1296.48 485.55 Q1299.28 483.99 1303.13 483.99 Q1307.02 483.99 1309.72 485.964 Q1312.46 487.937 1313.76 491.693 Z\" fill=\"#000000\" fill-rule=\"nonzero\" fill-opacity=\"1\" /><path clip-path=\"url(#clip020)\" d=\"M1348.9 506.429 L1348.9 484.85 L1354.76 484.85 L1354.76 506.207 Q1354.76 511.267 1356.73 513.814 Q1358.71 516.328 1362.65 516.328 Q1367.4 516.328 1370.13 513.304 Q1372.9 510.281 1372.9 505.061 L1372.9 484.85 L1378.76 484.85 L1378.76 520.498 L1372.9 520.498 L1372.9 515.023 Q1370.77 518.27 1367.94 519.861 Q1365.14 521.421 1361.41 521.421 Q1355.27 521.421 1352.09 517.601 Q1348.9 513.782 1348.9 506.429 M1363.64 483.99 L1363.64 483.99 Z\" fill=\"#000000\" fill-rule=\"nonzero\" fill-opacity=\"1\" /><path clip-path=\"url(#clip020)\" d=\"M1390.82 470.972 L1396.68 470.972 L1396.68 520.498 L1390.82 520.498 L1390.82 470.972 Z\" fill=\"#000000\" fill-rule=\"nonzero\" fill-opacity=\"1\" /><path clip-path=\"url(#clip020)\" d=\"M1425.13 502.578 Q1418.03 502.578 1415.3 504.201 Q1412.56 505.825 1412.56 509.74 Q1412.56 512.859 1414.6 514.705 Q1416.67 516.519 1420.2 516.519 Q1425.07 516.519 1428 513.082 Q1430.96 509.612 1430.96 503.883 L1430.96 502.578 L1425.13 502.578 M1436.81 500.159 L1436.81 520.498 L1430.96 520.498 L1430.96 515.087 Q1428.95 518.333 1425.96 519.893 Q1422.97 521.421 1418.64 521.421 Q1413.16 521.421 1409.92 518.365 Q1406.7 515.278 1406.7 510.122 Q1406.7 504.106 1410.71 501.05 Q1414.76 497.995 1422.75 497.995 L1430.96 497.995 L1430.96 497.422 Q1430.96 493.38 1428.28 491.184 Q1425.64 488.956 1420.84 488.956 Q1417.78 488.956 1414.88 489.688 Q1411.99 490.42 1409.31 491.884 L1409.31 486.473 Q1412.53 485.232 1415.55 484.627 Q1418.58 483.99 1421.44 483.99 Q1429.17 483.99 1432.99 488.001 Q1436.81 492.011 1436.81 500.159 Z\" fill=\"#000000\" fill-rule=\"nonzero\" fill-opacity=\"1\" /><path clip-path=\"url(#clip020)\" d=\"M1454.67 474.728 L1454.67 484.85 L1466.73 484.85 L1466.73 489.401 L1454.67 489.401 L1454.67 508.753 Q1454.67 513.113 1455.85 514.355 Q1457.06 515.596 1460.72 515.596 L1466.73 515.596 L1466.73 520.498 L1460.72 520.498 Q1453.94 520.498 1451.36 517.983 Q1448.78 515.437 1448.78 508.753 L1448.78 489.401 L1444.48 489.401 L1444.48 484.85 L1448.78 484.85 L1448.78 474.728 L1454.67 474.728 Z\" fill=\"#000000\" fill-rule=\"nonzero\" fill-opacity=\"1\" /><path clip-path=\"url(#clip020)\" d=\"M1474.43 484.85 L1480.29 484.85 L1480.29 520.498 L1474.43 520.498 L1474.43 484.85 M1474.43 470.972 L1480.29 470.972 L1480.29 478.388 L1474.43 478.388 L1474.43 470.972 Z\" fill=\"#000000\" fill-rule=\"nonzero\" fill-opacity=\"1\" /><path clip-path=\"url(#clip020)\" d=\"M1488.34 484.85 L1494.55 484.85 L1505.69 514.768 L1516.83 484.85 L1523.04 484.85 L1509.67 520.498 L1501.71 520.498 L1488.34 484.85 Z\" fill=\"#000000\" fill-rule=\"nonzero\" fill-opacity=\"1\" /><path clip-path=\"url(#clip020)\" d=\"M1561.61 501.21 L1561.61 504.074 L1534.69 504.074 Q1535.07 510.122 1538.31 513.304 Q1541.59 516.455 1547.42 516.455 Q1550.79 516.455 1553.94 515.628 Q1557.13 514.8 1560.24 513.145 L1560.24 518.683 Q1557.09 520.02 1553.78 520.72 Q1550.47 521.421 1547.07 521.421 Q1538.54 521.421 1533.54 516.455 Q1528.58 511.49 1528.58 503.024 Q1528.58 494.271 1533.29 489.147 Q1538.03 483.99 1546.05 483.99 Q1553.24 483.99 1557.41 488.637 Q1561.61 493.252 1561.61 501.21 M1555.76 499.491 Q1555.69 494.685 1553.05 491.82 Q1550.44 488.956 1546.11 488.956 Q1541.21 488.956 1538.25 491.725 Q1535.32 494.494 1534.88 499.523 L1555.76 499.491 Z\" fill=\"#000000\" fill-rule=\"nonzero\" fill-opacity=\"1\" /><polyline clip-path=\"url(#clip024)\" style=\"stroke:#009af9; stroke-linecap:round; stroke-linejoin:round; stroke-width:8; stroke-opacity:1; fill:none\" points=\"1086.18,741.92 1151.29,727.032 1216.39,711.799 1281.5,697.195 1346.6,679.289 1411.71,662.864 1476.81,643.598 1541.92,622.325 1607.02,599.825 1672.13,585.906 \"/>\n",
       "<polyline clip-path=\"url(#clip024)\" style=\"stroke:#e26f46; stroke-linecap:round; stroke-linejoin:round; stroke-width:8; stroke-opacity:1; fill:none\" points=\"1086.18,755.462 1151.29,753.928 1216.39,752.35 1281.5,750.761 1346.6,747.695 1411.71,743.117 1476.81,736.832 1541.92,729.21 1607.02,723.078 1672.13,714.165 \"/>\n",
       "<polyline clip-path=\"url(#clip024)\" style=\"stroke:#3da44d; stroke-linecap:round; stroke-linejoin:round; stroke-width:8; stroke-opacity:1; fill:none\" points=\"1086.18,756.96 1151.29,756.925 1216.39,756.887 1281.5,756.847 1346.6,756.809 1411.71,756.77 1476.81,756.732 1541.92,756.691 1607.02,756.653 1672.13,756.612 \"/>\n",
       "<path clip-path=\"url(#clip020)\" d=\"M1868.66 756.998 L2489.76 756.998 L2489.76 88.2143 L1868.66 88.2143  Z\" fill=\"#ffffff\" fill-rule=\"evenodd\" fill-opacity=\"1\"/>\n",
       "<defs>\n",
       "  <clipPath id=\"clip025\">\n",
       "    <rect x=\"1868\" y=\"88\" width=\"622\" height=\"670\"/>\n",
       "  </clipPath>\n",
       "</defs>\n",
       "<polyline clip-path=\"url(#clip025)\" style=\"stroke:#000000; stroke-linecap:round; stroke-linejoin:round; stroke-width:2; stroke-opacity:0.1; fill:none\" points=\"1868.66,88.2143 1868.66,756.998 \"/>\n",
       "<polyline clip-path=\"url(#clip025)\" style=\"stroke:#000000; stroke-linecap:round; stroke-linejoin:round; stroke-width:2; stroke-opacity:0.1; fill:none\" points=\"2179.21,88.2143 2179.21,756.998 \"/>\n",
       "<polyline clip-path=\"url(#clip025)\" style=\"stroke:#000000; stroke-linecap:round; stroke-linejoin:round; stroke-width:2; stroke-opacity:0.1; fill:none\" points=\"2489.76,88.2143 2489.76,756.998 \"/>\n",
       "<polyline clip-path=\"url(#clip025)\" style=\"stroke:#000000; stroke-linecap:round; stroke-linejoin:round; stroke-width:2; stroke-opacity:0.1; fill:none\" points=\"1868.66,88.2143 1868.66,756.998 \"/>\n",
       "<polyline clip-path=\"url(#clip025)\" style=\"stroke:#000000; stroke-linecap:round; stroke-linejoin:round; stroke-width:2; stroke-opacity:0.1; fill:none\" points=\"2179.21,88.2143 2179.21,756.998 \"/>\n",
       "<polyline clip-path=\"url(#clip025)\" style=\"stroke:#000000; stroke-linecap:round; stroke-linejoin:round; stroke-width:2; stroke-opacity:0.1; fill:none\" points=\"2489.76,88.2143 2489.76,756.998 \"/>\n",
       "<polyline clip-path=\"url(#clip025)\" style=\"stroke:#000000; stroke-linecap:round; stroke-linejoin:round; stroke-width:2; stroke-opacity:0.1; fill:none\" points=\"1868.66,107.142 2489.76,107.142 \"/>\n",
       "<polyline clip-path=\"url(#clip025)\" style=\"stroke:#000000; stroke-linecap:round; stroke-linejoin:round; stroke-width:2; stroke-opacity:0.1; fill:none\" points=\"1868.66,177.245 2489.76,177.245 \"/>\n",
       "<polyline clip-path=\"url(#clip025)\" style=\"stroke:#000000; stroke-linecap:round; stroke-linejoin:round; stroke-width:2; stroke-opacity:0.1; fill:none\" points=\"1868.66,247.348 2489.76,247.348 \"/>\n",
       "<polyline clip-path=\"url(#clip025)\" style=\"stroke:#000000; stroke-linecap:round; stroke-linejoin:round; stroke-width:2; stroke-opacity:0.1; fill:none\" points=\"1868.66,317.452 2489.76,317.452 \"/>\n",
       "<polyline clip-path=\"url(#clip025)\" style=\"stroke:#000000; stroke-linecap:round; stroke-linejoin:round; stroke-width:2; stroke-opacity:0.1; fill:none\" points=\"1868.66,387.555 2489.76,387.555 \"/>\n",
       "<polyline clip-path=\"url(#clip025)\" style=\"stroke:#000000; stroke-linecap:round; stroke-linejoin:round; stroke-width:2; stroke-opacity:0.1; fill:none\" points=\"1868.66,457.658 2489.76,457.658 \"/>\n",
       "<polyline clip-path=\"url(#clip025)\" style=\"stroke:#000000; stroke-linecap:round; stroke-linejoin:round; stroke-width:2; stroke-opacity:0.1; fill:none\" points=\"1868.66,527.761 2489.76,527.761 \"/>\n",
       "<polyline clip-path=\"url(#clip025)\" style=\"stroke:#000000; stroke-linecap:round; stroke-linejoin:round; stroke-width:2; stroke-opacity:0.1; fill:none\" points=\"1868.66,597.864 2489.76,597.864 \"/>\n",
       "<polyline clip-path=\"url(#clip025)\" style=\"stroke:#000000; stroke-linecap:round; stroke-linejoin:round; stroke-width:2; stroke-opacity:0.1; fill:none\" points=\"1868.66,667.967 2489.76,667.967 \"/>\n",
       "<polyline clip-path=\"url(#clip025)\" style=\"stroke:#000000; stroke-linecap:round; stroke-linejoin:round; stroke-width:2; stroke-opacity:0.1; fill:none\" points=\"1868.66,738.07 2489.76,738.07 \"/>\n",
       "<polyline clip-path=\"url(#clip025)\" style=\"stroke:#000000; stroke-linecap:round; stroke-linejoin:round; stroke-width:2; stroke-opacity:0.1; fill:none\" points=\"1868.66,107.142 2489.76,107.142 \"/>\n",
       "<polyline clip-path=\"url(#clip025)\" style=\"stroke:#000000; stroke-linecap:round; stroke-linejoin:round; stroke-width:2; stroke-opacity:0.1; fill:none\" points=\"1868.66,177.245 2489.76,177.245 \"/>\n",
       "<polyline clip-path=\"url(#clip025)\" style=\"stroke:#000000; stroke-linecap:round; stroke-linejoin:round; stroke-width:2; stroke-opacity:0.1; fill:none\" points=\"1868.66,247.348 2489.76,247.348 \"/>\n",
       "<polyline clip-path=\"url(#clip025)\" style=\"stroke:#000000; stroke-linecap:round; stroke-linejoin:round; stroke-width:2; stroke-opacity:0.1; fill:none\" points=\"1868.66,317.452 2489.76,317.452 \"/>\n",
       "<polyline clip-path=\"url(#clip025)\" style=\"stroke:#000000; stroke-linecap:round; stroke-linejoin:round; stroke-width:2; stroke-opacity:0.1; fill:none\" points=\"1868.66,387.555 2489.76,387.555 \"/>\n",
       "<polyline clip-path=\"url(#clip025)\" style=\"stroke:#000000; stroke-linecap:round; stroke-linejoin:round; stroke-width:2; stroke-opacity:0.1; fill:none\" points=\"1868.66,457.658 2489.76,457.658 \"/>\n",
       "<polyline clip-path=\"url(#clip025)\" style=\"stroke:#000000; stroke-linecap:round; stroke-linejoin:round; stroke-width:2; stroke-opacity:0.1; fill:none\" points=\"1868.66,527.761 2489.76,527.761 \"/>\n",
       "<polyline clip-path=\"url(#clip025)\" style=\"stroke:#000000; stroke-linecap:round; stroke-linejoin:round; stroke-width:2; stroke-opacity:0.1; fill:none\" points=\"1868.66,597.864 2489.76,597.864 \"/>\n",
       "<polyline clip-path=\"url(#clip025)\" style=\"stroke:#000000; stroke-linecap:round; stroke-linejoin:round; stroke-width:2; stroke-opacity:0.1; fill:none\" points=\"1868.66,667.967 2489.76,667.967 \"/>\n",
       "<polyline clip-path=\"url(#clip025)\" style=\"stroke:#000000; stroke-linecap:round; stroke-linejoin:round; stroke-width:2; stroke-opacity:0.1; fill:none\" points=\"1868.66,738.07 2489.76,738.07 \"/>\n",
       "<polyline clip-path=\"url(#clip020)\" style=\"stroke:#000000; stroke-linecap:round; stroke-linejoin:round; stroke-width:4; stroke-opacity:1; fill:none\" points=\"1868.66,756.998 2489.76,756.998 \"/>\n",
       "<polyline clip-path=\"url(#clip020)\" style=\"stroke:#000000; stroke-linecap:round; stroke-linejoin:round; stroke-width:4; stroke-opacity:1; fill:none\" points=\"1868.66,88.2143 2489.76,88.2143 \"/>\n",
       "<polyline clip-path=\"url(#clip020)\" style=\"stroke:#000000; stroke-linecap:round; stroke-linejoin:round; stroke-width:4; stroke-opacity:1; fill:none\" points=\"1868.66,756.998 1868.66,775.896 \"/>\n",
       "<polyline clip-path=\"url(#clip020)\" style=\"stroke:#000000; stroke-linecap:round; stroke-linejoin:round; stroke-width:4; stroke-opacity:1; fill:none\" points=\"2179.21,756.998 2179.21,775.896 \"/>\n",
       "<polyline clip-path=\"url(#clip020)\" style=\"stroke:#000000; stroke-linecap:round; stroke-linejoin:round; stroke-width:4; stroke-opacity:1; fill:none\" points=\"2489.76,756.998 2489.76,775.896 \"/>\n",
       "<polyline clip-path=\"url(#clip020)\" style=\"stroke:#000000; stroke-linecap:round; stroke-linejoin:round; stroke-width:4; stroke-opacity:1; fill:none\" points=\"1868.66,88.2143 1868.66,69.3166 \"/>\n",
       "<polyline clip-path=\"url(#clip020)\" style=\"stroke:#000000; stroke-linecap:round; stroke-linejoin:round; stroke-width:4; stroke-opacity:1; fill:none\" points=\"2179.21,88.2143 2179.21,69.3166 \"/>\n",
       "<polyline clip-path=\"url(#clip020)\" style=\"stroke:#000000; stroke-linecap:round; stroke-linejoin:round; stroke-width:4; stroke-opacity:1; fill:none\" points=\"2489.76,88.2143 2489.76,69.3166 \"/>\n",
       "<path clip-path=\"url(#clip020)\" d=\"M1832.8 812.918 Q1832.8 816.054 1831.35 819.163 Q1829.9 822.272 1827.53 824.644 Q1825.18 826.989 1821.97 828.465 Q1818.78 829.94 1815.51 829.94 Q1814.93 829.94 1813.75 829.808 Q1811.9 839.532 1811.85 839.69 Q1811.61 840.243 1811.14 840.586 Q1810.69 840.928 1810.37 841.007 Q1810.06 841.086 1809.85 841.086 Q1809.32 841.086 1808.79 840.717 Q1808.29 840.375 1808.29 839.584 Q1808.29 839.4 1808.56 838.504 L1811.43 829.44 Q1807.08 828.438 1804.58 825.671 Q1802.07 822.878 1802.07 819.084 Q1802.07 816.66 1803.18 813.498 Q1804.29 810.336 1805.63 808.201 Q1806.98 806.067 1807.74 806.067 Q1808.4 806.067 1808.4 806.62 Q1808.4 806.831 1807.98 807.305 Q1805.84 809.756 1804.66 813.287 Q1803.5 816.791 1803.5 818.478 Q1803.5 821.429 1805.76 823.563 Q1808.06 825.671 1812.35 826.462 Q1814.91 818.188 1816.44 814.71 Q1819.52 807.806 1823.52 806.12 Q1825 805.487 1826.63 805.487 Q1829.58 805.487 1831.19 807.569 Q1832.8 809.624 1832.8 812.918 M1831.27 814.104 Q1831.27 812.707 1830.77 811.521 Q1830.3 810.336 1829.08 809.492 Q1827.87 808.623 1826.11 808.623 Q1822.58 808.623 1819.62 812.022 Q1816.67 815.421 1815.41 820.691 L1814.33 826.541 Q1814.33 826.752 1815.04 826.752 Q1815.46 826.805 1816.01 826.805 Q1819.02 826.805 1821.86 825.671 Q1824.74 824.538 1826.76 822.747 Q1828.79 820.955 1830.03 818.662 Q1831.27 816.37 1831.27 814.104 Z\" fill=\"#000000\" fill-rule=\"nonzero\" fill-opacity=\"1\" /><path clip-path=\"url(#clip020)\" d=\"M1851.99 821.139 Q1852.04 820.48 1853.07 820.48 L1886.14 820.48 Q1887.69 820.48 1887.72 821.087 Q1887.72 821.745 1886.24 821.719 L1853.44 821.719 Q1851.99 821.745 1851.99 821.139 M1851.99 810.599 Q1851.99 809.94 1853.12 809.967 L1886.08 809.967 Q1887.69 809.967 1887.72 810.599 Q1887.72 811.205 1886.35 811.205 L1853.07 811.205 Q1851.99 811.205 1851.99 810.599 Z\" fill=\"#000000\" fill-rule=\"nonzero\" fill-opacity=\"1\" /><path clip-path=\"url(#clip020)\" d=\"M1908.53 798.531 L1908.53 796.844 Q1915.01 796.844 1918.35 793.392 Q1919.28 793.392 1919.43 793.603 Q1919.59 793.814 1919.59 794.789 L1919.59 825.065 Q1919.59 826.673 1920.38 827.173 Q1921.17 827.674 1924.63 827.674 L1926.34 827.674 L1926.34 829.334 Q1924.44 829.176 1917.59 829.176 Q1910.74 829.176 1908.87 829.334 L1908.87 827.674 L1910.58 827.674 Q1913.98 827.674 1914.8 827.2 Q1915.61 826.699 1915.61 825.065 L1915.61 797.108 Q1912.79 798.531 1908.53 798.531 Z\" fill=\"#000000\" fill-rule=\"nonzero\" fill-opacity=\"1\" /><path clip-path=\"url(#clip020)\" d=\"M1751.33 854.65 Q1747.84 860.639 1746.15 866.499 Q1744.45 872.358 1744.45 878.374 Q1744.45 884.389 1746.15 890.301 Q1747.87 896.186 1751.33 902.149 L1747.16 902.149 Q1743.26 896.03 1741.3 890.118 Q1739.38 884.207 1739.38 878.374 Q1739.38 872.566 1741.3 866.681 Q1743.23 860.796 1747.16 854.65 L1751.33 854.65 Z\" fill=\"#000000\" fill-rule=\"nonzero\" fill-opacity=\"1\" /><path clip-path=\"url(#clip020)\" d=\"M1766.1 876.551 L1766.1 890.795 L1774.53 890.795 Q1778.78 890.795 1780.81 889.051 Q1782.87 887.28 1782.87 883.66 Q1782.87 880.014 1780.81 878.295 Q1778.78 876.551 1774.53 876.551 L1766.1 876.551 M1766.1 860.561 L1766.1 872.28 L1773.88 872.28 Q1777.74 872.28 1779.61 870.848 Q1781.51 869.389 1781.51 866.42 Q1781.51 863.478 1779.61 862.019 Q1777.74 860.561 1773.88 860.561 L1766.1 860.561 M1760.83 856.238 L1774.27 856.238 Q1780.29 856.238 1783.54 858.738 Q1786.8 861.238 1786.8 865.848 Q1786.8 869.415 1785.13 871.525 Q1783.46 873.634 1780.24 874.155 Q1784.12 874.988 1786.25 877.644 Q1788.41 880.275 1788.41 884.233 Q1788.41 889.441 1784.87 892.28 Q1781.33 895.118 1774.79 895.118 L1760.83 895.118 L1760.83 856.238 Z\" fill=\"#000000\" fill-rule=\"nonzero\" fill-opacity=\"1\" /><path clip-path=\"url(#clip020)\" d=\"M1810.47 880.457 Q1804.66 880.457 1802.42 881.785 Q1800.18 883.113 1800.18 886.316 Q1800.18 888.868 1801.85 890.379 Q1803.54 891.863 1806.43 891.863 Q1810.42 891.863 1812.81 889.051 Q1815.24 886.212 1815.24 881.525 L1815.24 880.457 L1810.47 880.457 M1820.03 878.478 L1820.03 895.118 L1815.24 895.118 L1815.24 890.691 Q1813.59 893.347 1811.15 894.623 Q1808.7 895.873 1805.16 895.873 Q1800.68 895.873 1798.02 893.373 Q1795.39 890.847 1795.39 886.629 Q1795.39 881.707 1798.67 879.207 Q1801.98 876.707 1808.52 876.707 L1815.24 876.707 L1815.24 876.238 Q1815.24 872.931 1813.05 871.134 Q1810.89 869.311 1806.95 869.311 Q1804.45 869.311 1802.08 869.91 Q1799.71 870.509 1797.53 871.707 L1797.53 867.28 Q1800.16 866.264 1802.63 865.769 Q1805.11 865.249 1807.45 865.249 Q1813.78 865.249 1816.9 868.53 Q1820.03 871.811 1820.03 878.478 Z\" fill=\"#000000\" fill-rule=\"nonzero\" fill-opacity=\"1\" /><path clip-path=\"url(#clip020)\" d=\"M1848.49 866.811 L1848.49 871.342 Q1846.46 870.301 1844.27 869.78 Q1842.08 869.259 1839.74 869.259 Q1836.17 869.259 1834.38 870.353 Q1832.61 871.446 1832.61 873.634 Q1832.61 875.301 1833.88 876.264 Q1835.16 877.202 1839.01 878.061 L1840.65 878.426 Q1845.76 879.519 1847.89 881.525 Q1850.05 883.504 1850.05 887.071 Q1850.05 891.134 1846.82 893.504 Q1843.62 895.873 1838 895.873 Q1835.65 895.873 1833.1 895.405 Q1830.57 894.962 1827.76 894.051 L1827.76 889.103 Q1830.42 890.483 1833 891.186 Q1835.57 891.863 1838.1 891.863 Q1841.49 891.863 1843.31 890.717 Q1845.13 889.545 1845.13 887.436 Q1845.13 885.483 1843.8 884.441 Q1842.5 883.4 1838.05 882.436 L1836.38 882.045 Q1831.93 881.108 1829.95 879.181 Q1827.97 877.228 1827.97 873.842 Q1827.97 869.728 1830.89 867.488 Q1833.8 865.249 1839.17 865.249 Q1841.82 865.249 1844.17 865.639 Q1846.51 866.03 1848.49 866.811 Z\" fill=\"#000000\" fill-rule=\"nonzero\" fill-opacity=\"1\" /><path clip-path=\"url(#clip020)\" d=\"M1882.63 879.337 L1882.63 881.681 L1860.6 881.681 Q1860.91 886.629 1863.57 889.233 Q1866.25 891.811 1871.02 891.811 Q1873.78 891.811 1876.35 891.134 Q1878.96 890.457 1881.51 889.103 L1881.51 893.634 Q1878.93 894.728 1876.22 895.301 Q1873.52 895.873 1870.73 895.873 Q1863.75 895.873 1859.66 891.811 Q1855.6 887.748 1855.6 880.821 Q1855.6 873.66 1859.45 869.467 Q1863.33 865.249 1869.9 865.249 Q1875.78 865.249 1879.19 869.051 Q1882.63 872.827 1882.63 879.337 M1877.84 877.931 Q1877.79 873.999 1875.63 871.655 Q1873.49 869.311 1869.95 869.311 Q1865.94 869.311 1863.52 871.577 Q1861.12 873.842 1860.76 877.957 L1877.84 877.931 Z\" fill=\"#000000\" fill-rule=\"nonzero\" fill-opacity=\"1\" /><path clip-path=\"url(#clip020)\" d=\"M1890.5 854.598 L1895.29 854.598 L1895.29 895.118 L1890.5 895.118 L1890.5 854.598 Z\" fill=\"#000000\" fill-rule=\"nonzero\" fill-opacity=\"1\" /><path clip-path=\"url(#clip020)\" d=\"M1905.31 865.952 L1910.1 865.952 L1910.1 895.118 L1905.31 895.118 L1905.31 865.952 M1905.31 854.598 L1910.1 854.598 L1910.1 860.665 L1905.31 860.665 L1905.31 854.598 Z\" fill=\"#000000\" fill-rule=\"nonzero\" fill-opacity=\"1\" /><path clip-path=\"url(#clip020)\" d=\"M1944.38 877.514 L1944.38 895.118 L1939.58 895.118 L1939.58 877.67 Q1939.58 873.53 1937.97 871.473 Q1936.35 869.415 1933.13 869.415 Q1929.25 869.415 1927.01 871.889 Q1924.77 874.363 1924.77 878.634 L1924.77 895.118 L1919.95 895.118 L1919.95 865.952 L1924.77 865.952 L1924.77 870.483 Q1926.48 867.853 1928.8 866.551 Q1931.15 865.249 1934.19 865.249 Q1939.22 865.249 1941.8 868.374 Q1944.38 871.473 1944.38 877.514 Z\" fill=\"#000000\" fill-rule=\"nonzero\" fill-opacity=\"1\" /><path clip-path=\"url(#clip020)\" d=\"M1978.88 879.337 L1978.88 881.681 L1956.85 881.681 Q1957.16 886.629 1959.82 889.233 Q1962.5 891.811 1967.27 891.811 Q1970.03 891.811 1972.6 891.134 Q1975.21 890.457 1977.76 889.103 L1977.76 893.634 Q1975.18 894.728 1972.47 895.301 Q1969.77 895.873 1966.98 895.873 Q1960 895.873 1955.91 891.811 Q1951.85 887.748 1951.85 880.821 Q1951.85 873.66 1955.7 869.467 Q1959.58 865.249 1966.15 865.249 Q1972.03 865.249 1975.44 869.051 Q1978.88 872.827 1978.88 879.337 M1974.09 877.931 Q1974.04 873.999 1971.88 871.655 Q1969.74 869.311 1966.2 869.311 Q1962.19 869.311 1959.77 871.577 Q1957.37 873.842 1957.01 877.957 L1974.09 877.931 Z\" fill=\"#000000\" fill-rule=\"nonzero\" fill-opacity=\"1\" /><path clip-path=\"url(#clip020)\" d=\"M1985.99 854.65 L1990.16 854.65 Q1994.06 860.796 1995.99 866.681 Q1997.94 872.566 1997.94 878.374 Q1997.94 884.207 1995.99 890.118 Q1994.06 896.03 1990.16 902.149 L1985.99 902.149 Q1989.45 896.186 1991.15 890.301 Q1992.86 884.389 1992.86 878.374 Q1992.86 872.358 1991.15 866.499 Q1989.45 860.639 1985.99 854.65 Z\" fill=\"#000000\" fill-rule=\"nonzero\" fill-opacity=\"1\" /><path clip-path=\"url(#clip020)\" d=\"M2199.76 816.511 Q2200.24 816.695 2200.24 817.222 Q2200.24 817.749 2199.76 817.934 Q2195.81 819.251 2192.36 823.546 Q2189.91 826.735 2189.22 830.398 Q2189.15 830.766 2188.86 831.004 Q2188.57 831.241 2188.17 831.241 Q2187.72 831.241 2187.41 830.925 Q2187.09 830.635 2187.09 830.187 Q2187.09 830.16 2187.12 830.081 Q2187.14 829.976 2187.14 829.95 Q2187.93 825.681 2190.7 822.176 Q2192.44 819.963 2194.92 818.303 L2153.57 818.303 Q2153.12 818.303 2152.81 817.987 Q2152.49 817.67 2152.49 817.222 Q2152.49 816.774 2152.81 816.458 Q2153.12 816.142 2153.57 816.142 L2194.92 816.142 Q2192.44 814.482 2190.7 812.269 Q2187.93 808.764 2187.14 804.495 Q2187.14 804.469 2187.12 804.39 Q2187.09 804.284 2187.09 804.258 Q2187.09 803.81 2187.41 803.52 Q2187.72 803.204 2188.17 803.204 Q2188.57 803.204 2188.86 803.441 Q2189.15 803.678 2189.22 804.047 Q2189.91 807.71 2192.36 810.898 Q2195.81 815.193 2199.76 816.511 Z\" fill=\"#000000\" fill-rule=\"nonzero\" fill-opacity=\"1\" /><path clip-path=\"url(#clip020)\" d=\"M2453.9 812.918 Q2453.9 816.054 2452.45 819.163 Q2451 822.272 2448.63 824.644 Q2446.29 826.989 2443.07 828.465 Q2439.88 829.94 2436.62 829.94 Q2436.04 829.94 2434.85 829.808 Q2433.01 839.532 2432.95 839.69 Q2432.72 840.243 2432.24 840.586 Q2431.8 840.928 2431.48 841.007 Q2431.16 841.086 2430.95 841.086 Q2430.43 841.086 2429.9 840.717 Q2429.4 840.375 2429.4 839.584 Q2429.4 839.4 2429.66 838.504 L2432.53 829.44 Q2428.19 828.438 2425.68 825.671 Q2423.18 822.878 2423.18 819.084 Q2423.18 816.66 2424.29 813.498 Q2425.39 810.336 2426.74 808.201 Q2428.08 806.067 2428.84 806.067 Q2429.5 806.067 2429.5 806.62 Q2429.5 806.831 2429.08 807.305 Q2426.95 809.756 2425.76 813.287 Q2424.6 816.791 2424.6 818.478 Q2424.6 821.429 2426.87 823.563 Q2429.16 825.671 2433.46 826.462 Q2436.01 818.188 2437.54 814.71 Q2440.62 807.806 2444.63 806.12 Q2446.1 805.487 2447.74 805.487 Q2450.69 805.487 2452.3 807.569 Q2453.9 809.624 2453.9 812.918 M2452.37 814.104 Q2452.37 812.707 2451.87 811.521 Q2451.4 810.336 2450.19 809.492 Q2448.98 808.623 2447.21 808.623 Q2443.68 808.623 2440.73 812.022 Q2437.78 815.421 2436.51 820.691 L2435.43 826.541 Q2435.43 826.752 2436.14 826.752 Q2436.56 826.805 2437.12 826.805 Q2440.12 826.805 2442.97 825.671 Q2445.84 824.538 2447.87 822.747 Q2449.9 820.955 2451.14 818.662 Q2452.37 816.37 2452.37 814.104 Z\" fill=\"#000000\" fill-rule=\"nonzero\" fill-opacity=\"1\" /><path clip-path=\"url(#clip020)\" d=\"M2473.09 821.139 Q2473.14 820.48 2474.17 820.48 L2507.24 820.48 Q2508.79 820.48 2508.82 821.087 Q2508.82 821.745 2507.35 821.719 L2474.54 821.719 Q2473.09 821.745 2473.09 821.139 M2473.09 810.599 Q2473.09 809.94 2474.22 809.967 L2507.19 809.967 Q2508.79 809.967 2508.82 810.599 Q2508.82 811.205 2507.45 811.205 L2474.17 811.205 Q2473.09 811.205 2473.09 810.599 Z\" fill=\"#000000\" fill-rule=\"nonzero\" fill-opacity=\"1\" /><path clip-path=\"url(#clip020)\" d=\"M2529.63 812.075 Q2529.63 804.143 2531.63 799.822 Q2534.43 793.392 2541.01 793.392 Q2542.41 793.392 2543.86 793.788 Q2545.33 794.157 2547.18 795.606 Q2549.05 797.055 2550.18 799.427 Q2552.34 804.012 2552.34 812.075 Q2552.34 819.953 2550.34 824.249 Q2547.42 830.52 2540.96 830.52 Q2538.54 830.52 2536.06 829.281 Q2533.61 828.043 2532.05 825.065 Q2529.63 820.612 2529.63 812.075 M2534.11 811.416 Q2534.11 819.558 2534.69 822.799 Q2535.35 826.304 2537.14 827.832 Q2538.96 829.334 2540.96 829.334 Q2543.12 829.334 2544.91 827.727 Q2546.73 826.093 2547.28 822.588 Q2547.89 819.137 2547.86 811.416 Q2547.86 803.906 2547.34 800.902 Q2546.63 797.398 2544.73 796.001 Q2542.86 794.578 2540.96 794.578 Q2540.25 794.578 2539.48 794.789 Q2538.75 795 2537.67 795.606 Q2536.59 796.212 2535.74 797.714 Q2534.93 799.216 2534.53 801.482 Q2534.11 804.407 2534.11 811.416 Z\" fill=\"#000000\" fill-rule=\"nonzero\" fill-opacity=\"1\" /><path clip-path=\"url(#clip020)\" d=\"M2241.31 854.65 Q2237.83 860.639 2236.13 866.499 Q2234.44 872.358 2234.44 878.374 Q2234.44 884.389 2236.13 890.301 Q2237.85 896.186 2241.31 902.149 L2237.15 902.149 Q2233.24 896.03 2231.29 890.118 Q2229.36 884.207 2229.36 878.374 Q2229.36 872.566 2231.29 866.681 Q2233.22 860.796 2237.15 854.65 L2241.31 854.65 Z\" fill=\"#000000\" fill-rule=\"nonzero\" fill-opacity=\"1\" /><path clip-path=\"url(#clip020)\" d=\"M2250.82 856.238 L2273.16 856.238 L2273.16 860.665 L2256.08 860.665 L2256.08 872.124 L2271.5 872.124 L2271.5 876.551 L2256.08 876.551 L2256.08 895.118 L2250.82 895.118 L2250.82 856.238 Z\" fill=\"#000000\" fill-rule=\"nonzero\" fill-opacity=\"1\" /><path clip-path=\"url(#clip020)\" d=\"M2290.69 869.311 Q2286.84 869.311 2284.6 872.332 Q2282.36 875.327 2282.36 880.561 Q2282.36 885.795 2284.57 888.816 Q2286.81 891.811 2290.69 891.811 Q2294.52 891.811 2296.76 888.79 Q2299 885.769 2299 880.561 Q2299 875.379 2296.76 872.358 Q2294.52 869.311 2290.69 869.311 M2290.69 865.249 Q2296.94 865.249 2300.51 869.311 Q2304.07 873.374 2304.07 880.561 Q2304.07 887.722 2300.51 891.811 Q2296.94 895.873 2290.69 895.873 Q2284.41 895.873 2280.85 891.811 Q2277.3 887.722 2277.3 880.561 Q2277.3 873.374 2280.85 869.311 Q2284.41 865.249 2290.69 865.249 Z\" fill=\"#000000\" fill-rule=\"nonzero\" fill-opacity=\"1\" /><path clip-path=\"url(#clip020)\" d=\"M2312.02 854.598 L2316.81 854.598 L2316.81 895.118 L2312.02 895.118 L2312.02 854.598 Z\" fill=\"#000000\" fill-rule=\"nonzero\" fill-opacity=\"1\" /><path clip-path=\"url(#clip020)\" d=\"M2346.03 870.379 L2346.03 854.598 L2350.82 854.598 L2350.82 895.118 L2346.03 895.118 L2346.03 890.743 Q2344.52 893.347 2342.2 894.623 Q2339.91 895.873 2336.68 895.873 Q2331.39 895.873 2328.06 891.655 Q2324.75 887.436 2324.75 880.561 Q2324.75 873.686 2328.06 869.467 Q2331.39 865.249 2336.68 865.249 Q2339.91 865.249 2342.2 866.525 Q2344.52 867.775 2346.03 870.379 M2329.7 880.561 Q2329.7 885.847 2331.86 888.868 Q2334.05 891.863 2337.85 891.863 Q2341.65 891.863 2343.84 888.868 Q2346.03 885.847 2346.03 880.561 Q2346.03 875.275 2343.84 872.28 Q2341.65 869.259 2337.85 869.259 Q2334.05 869.259 2331.86 872.28 Q2329.7 875.275 2329.7 880.561 Z\" fill=\"#000000\" fill-rule=\"nonzero\" fill-opacity=\"1\" /><path clip-path=\"url(#clip020)\" d=\"M2358.27 878.374 L2372.3 878.374 L2372.3 882.644 L2358.27 882.644 L2358.27 878.374 Z\" fill=\"#000000\" fill-rule=\"nonzero\" fill-opacity=\"1\" /><path clip-path=\"url(#clip020)\" d=\"M2399.13 870.379 L2399.13 854.598 L2403.92 854.598 L2403.92 895.118 L2399.13 895.118 L2399.13 890.743 Q2397.62 893.347 2395.3 894.623 Q2393.01 895.873 2389.78 895.873 Q2384.49 895.873 2381.16 891.655 Q2377.85 887.436 2377.85 880.561 Q2377.85 873.686 2381.16 869.467 Q2384.49 865.249 2389.78 865.249 Q2393.01 865.249 2395.3 866.525 Q2397.62 867.775 2399.13 870.379 M2382.8 880.561 Q2382.8 885.847 2384.96 888.868 Q2387.15 891.863 2390.95 891.863 Q2394.75 891.863 2396.94 888.868 Q2399.13 885.847 2399.13 880.561 Q2399.13 875.275 2396.94 872.28 Q2394.75 869.259 2390.95 869.259 Q2387.15 869.259 2384.96 872.28 Q2382.8 875.275 2382.8 880.561 Z\" fill=\"#000000\" fill-rule=\"nonzero\" fill-opacity=\"1\" /><path clip-path=\"url(#clip020)\" d=\"M2438.74 879.337 L2438.74 881.681 L2416.7 881.681 Q2417.02 886.629 2419.67 889.233 Q2422.36 891.811 2427.12 891.811 Q2429.88 891.811 2432.46 891.134 Q2435.06 890.457 2437.62 889.103 L2437.62 893.634 Q2435.04 894.728 2432.33 895.301 Q2429.62 895.873 2426.83 895.873 Q2419.86 895.873 2415.77 891.811 Q2411.7 887.748 2411.7 880.821 Q2411.7 873.66 2415.56 869.467 Q2419.44 865.249 2426 865.249 Q2431.89 865.249 2435.3 869.051 Q2438.74 872.827 2438.74 879.337 M2433.94 877.931 Q2433.89 873.999 2431.73 871.655 Q2429.59 869.311 2426.05 869.311 Q2422.04 869.311 2419.62 871.577 Q2417.23 873.842 2416.86 877.957 L2433.94 877.931 Z\" fill=\"#000000\" fill-rule=\"nonzero\" fill-opacity=\"1\" /><path clip-path=\"url(#clip020)\" d=\"M2446.6 854.598 L2451.39 854.598 L2451.39 895.118 L2446.6 895.118 L2446.6 854.598 Z\" fill=\"#000000\" fill-rule=\"nonzero\" fill-opacity=\"1\" /><path clip-path=\"url(#clip020)\" d=\"M2486.37 879.337 L2486.37 881.681 L2464.33 881.681 Q2464.65 886.629 2467.3 889.233 Q2469.99 891.811 2474.75 891.811 Q2477.51 891.811 2480.09 891.134 Q2482.69 890.457 2485.25 889.103 L2485.25 893.634 Q2482.67 894.728 2479.96 895.301 Q2477.25 895.873 2474.46 895.873 Q2467.49 895.873 2463.4 891.811 Q2459.33 887.748 2459.33 880.821 Q2459.33 873.66 2463.19 869.467 Q2467.07 865.249 2473.63 865.249 Q2479.52 865.249 2482.93 869.051 Q2486.37 872.827 2486.37 879.337 M2481.57 877.931 Q2481.52 873.999 2479.36 871.655 Q2477.22 869.311 2473.68 869.311 Q2469.67 869.311 2467.25 871.577 Q2464.86 873.842 2464.49 877.957 L2481.57 877.931 Z\" fill=\"#000000\" fill-rule=\"nonzero\" fill-opacity=\"1\" /><path clip-path=\"url(#clip020)\" d=\"M2498.97 857.671 L2498.97 865.952 L2508.84 865.952 L2508.84 869.676 L2498.97 869.676 L2498.97 885.509 Q2498.97 889.077 2499.93 890.092 Q2500.92 891.108 2503.92 891.108 L2508.84 891.108 L2508.84 895.118 L2503.92 895.118 Q2498.37 895.118 2496.26 893.061 Q2494.15 890.978 2494.15 885.509 L2494.15 869.676 L2490.64 869.676 L2490.64 865.952 L2494.15 865.952 L2494.15 857.671 L2498.97 857.671 Z\" fill=\"#000000\" fill-rule=\"nonzero\" fill-opacity=\"1\" /><path clip-path=\"url(#clip020)\" d=\"M2540.09 879.337 L2540.09 881.681 L2518.06 881.681 Q2518.37 886.629 2521.03 889.233 Q2523.71 891.811 2528.47 891.811 Q2531.23 891.811 2533.81 891.134 Q2536.42 890.457 2538.97 889.103 L2538.97 893.634 Q2536.39 894.728 2533.68 895.301 Q2530.97 895.873 2528.19 895.873 Q2521.21 895.873 2517.12 891.811 Q2513.06 887.748 2513.06 880.821 Q2513.06 873.66 2516.91 869.467 Q2520.79 865.249 2527.35 865.249 Q2533.24 865.249 2536.65 869.051 Q2540.09 872.827 2540.09 879.337 M2535.3 877.931 Q2535.25 873.999 2533.08 871.655 Q2530.95 869.311 2527.41 869.311 Q2523.4 869.311 2520.97 871.577 Q2518.58 873.842 2518.21 877.957 L2535.3 877.931 Z\" fill=\"#000000\" fill-rule=\"nonzero\" fill-opacity=\"1\" /><path clip-path=\"url(#clip020)\" d=\"M2567.15 870.379 L2567.15 854.598 L2571.94 854.598 L2571.94 895.118 L2567.15 895.118 L2567.15 890.743 Q2565.64 893.347 2563.32 894.623 Q2561.03 895.873 2557.8 895.873 Q2552.51 895.873 2549.18 891.655 Q2545.87 887.436 2545.87 880.561 Q2545.87 873.686 2549.18 869.467 Q2552.51 865.249 2557.8 865.249 Q2561.03 865.249 2563.32 866.525 Q2565.64 867.775 2567.15 870.379 M2550.82 880.561 Q2550.82 885.847 2552.98 888.868 Q2555.17 891.863 2558.97 891.863 Q2562.77 891.863 2564.96 888.868 Q2567.15 885.847 2567.15 880.561 Q2567.15 875.275 2564.96 872.28 Q2562.77 869.259 2558.97 869.259 Q2555.17 869.259 2552.98 872.28 Q2550.82 875.275 2550.82 880.561 Z\" fill=\"#000000\" fill-rule=\"nonzero\" fill-opacity=\"1\" /><path clip-path=\"url(#clip020)\" d=\"M2581.05 854.65 L2585.22 854.65 Q2589.13 860.796 2591.05 866.681 Q2593.01 872.566 2593.01 878.374 Q2593.01 884.207 2591.05 890.118 Q2589.13 896.03 2585.22 902.149 L2581.05 902.149 Q2584.52 896.186 2586.21 890.301 Q2587.93 884.389 2587.93 878.374 Q2587.93 872.358 2586.21 866.499 Q2584.52 860.639 2581.05 854.65 Z\" fill=\"#000000\" fill-rule=\"nonzero\" fill-opacity=\"1\" /><polyline clip-path=\"url(#clip020)\" style=\"stroke:#000000; stroke-linecap:round; stroke-linejoin:round; stroke-width:4; stroke-opacity:1; fill:none\" points=\"1868.66,88.2143 1868.66,756.998 \"/>\n",
       "<polyline clip-path=\"url(#clip020)\" style=\"stroke:#000000; stroke-linecap:round; stroke-linejoin:round; stroke-width:4; stroke-opacity:1; fill:none\" points=\"2489.76,88.2143 2489.76,756.998 \"/>\n",
       "<polyline clip-path=\"url(#clip020)\" style=\"stroke:#000000; stroke-linecap:round; stroke-linejoin:round; stroke-width:4; stroke-opacity:1; fill:none\" points=\"1868.66,107.142 1849.76,107.142 \"/>\n",
       "<polyline clip-path=\"url(#clip020)\" style=\"stroke:#000000; stroke-linecap:round; stroke-linejoin:round; stroke-width:4; stroke-opacity:1; fill:none\" points=\"1868.66,177.245 1849.76,177.245 \"/>\n",
       "<polyline clip-path=\"url(#clip020)\" style=\"stroke:#000000; stroke-linecap:round; stroke-linejoin:round; stroke-width:4; stroke-opacity:1; fill:none\" points=\"1868.66,247.348 1849.76,247.348 \"/>\n",
       "<polyline clip-path=\"url(#clip020)\" style=\"stroke:#000000; stroke-linecap:round; stroke-linejoin:round; stroke-width:4; stroke-opacity:1; fill:none\" points=\"1868.66,317.452 1849.76,317.452 \"/>\n",
       "<polyline clip-path=\"url(#clip020)\" style=\"stroke:#000000; stroke-linecap:round; stroke-linejoin:round; stroke-width:4; stroke-opacity:1; fill:none\" points=\"1868.66,387.555 1849.76,387.555 \"/>\n",
       "<polyline clip-path=\"url(#clip020)\" style=\"stroke:#000000; stroke-linecap:round; stroke-linejoin:round; stroke-width:4; stroke-opacity:1; fill:none\" points=\"1868.66,457.658 1849.76,457.658 \"/>\n",
       "<polyline clip-path=\"url(#clip020)\" style=\"stroke:#000000; stroke-linecap:round; stroke-linejoin:round; stroke-width:4; stroke-opacity:1; fill:none\" points=\"1868.66,527.761 1849.76,527.761 \"/>\n",
       "<polyline clip-path=\"url(#clip020)\" style=\"stroke:#000000; stroke-linecap:round; stroke-linejoin:round; stroke-width:4; stroke-opacity:1; fill:none\" points=\"1868.66,597.864 1849.76,597.864 \"/>\n",
       "<polyline clip-path=\"url(#clip020)\" style=\"stroke:#000000; stroke-linecap:round; stroke-linejoin:round; stroke-width:4; stroke-opacity:1; fill:none\" points=\"1868.66,667.967 1849.76,667.967 \"/>\n",
       "<polyline clip-path=\"url(#clip020)\" style=\"stroke:#000000; stroke-linecap:round; stroke-linejoin:round; stroke-width:4; stroke-opacity:1; fill:none\" points=\"1868.66,738.07 1849.76,738.07 \"/>\n",
       "<polyline clip-path=\"url(#clip020)\" style=\"stroke:#000000; stroke-linecap:round; stroke-linejoin:round; stroke-width:4; stroke-opacity:1; fill:none\" points=\"2489.76,107.142 2508.66,107.142 \"/>\n",
       "<polyline clip-path=\"url(#clip020)\" style=\"stroke:#000000; stroke-linecap:round; stroke-linejoin:round; stroke-width:4; stroke-opacity:1; fill:none\" points=\"2489.76,177.245 2508.66,177.245 \"/>\n",
       "<polyline clip-path=\"url(#clip020)\" style=\"stroke:#000000; stroke-linecap:round; stroke-linejoin:round; stroke-width:4; stroke-opacity:1; fill:none\" points=\"2489.76,247.348 2508.66,247.348 \"/>\n",
       "<polyline clip-path=\"url(#clip020)\" style=\"stroke:#000000; stroke-linecap:round; stroke-linejoin:round; stroke-width:4; stroke-opacity:1; fill:none\" points=\"2489.76,317.452 2508.66,317.452 \"/>\n",
       "<polyline clip-path=\"url(#clip020)\" style=\"stroke:#000000; stroke-linecap:round; stroke-linejoin:round; stroke-width:4; stroke-opacity:1; fill:none\" points=\"2489.76,387.555 2508.66,387.555 \"/>\n",
       "<polyline clip-path=\"url(#clip020)\" style=\"stroke:#000000; stroke-linecap:round; stroke-linejoin:round; stroke-width:4; stroke-opacity:1; fill:none\" points=\"2489.76,457.658 2508.66,457.658 \"/>\n",
       "<polyline clip-path=\"url(#clip020)\" style=\"stroke:#000000; stroke-linecap:round; stroke-linejoin:round; stroke-width:4; stroke-opacity:1; fill:none\" points=\"2489.76,527.761 2508.66,527.761 \"/>\n",
       "<polyline clip-path=\"url(#clip020)\" style=\"stroke:#000000; stroke-linecap:round; stroke-linejoin:round; stroke-width:4; stroke-opacity:1; fill:none\" points=\"2489.76,597.864 2508.66,597.864 \"/>\n",
       "<polyline clip-path=\"url(#clip020)\" style=\"stroke:#000000; stroke-linecap:round; stroke-linejoin:round; stroke-width:4; stroke-opacity:1; fill:none\" points=\"2489.76,667.967 2508.66,667.967 \"/>\n",
       "<polyline clip-path=\"url(#clip020)\" style=\"stroke:#000000; stroke-linecap:round; stroke-linejoin:round; stroke-width:4; stroke-opacity:1; fill:none\" points=\"2489.76,738.07 2508.66,738.07 \"/>\n",
       "<path clip-path=\"url(#clip020)\" d=\"M1787.76 122.155 L1796.36 122.155 L1796.36 92.4938 L1787.01 94.3688 L1787.01 89.5771 L1796.31 87.7021 L1801.57 87.7021 L1801.57 122.155 L1810.16 122.155 L1810.16 126.582 L1787.76 126.582 L1787.76 122.155 Z\" fill=\"#000000\" fill-rule=\"nonzero\" fill-opacity=\"1\" /><path clip-path=\"url(#clip020)\" d=\"M1791.8 192.258 L1810.16 192.258 L1810.16 196.685 L1785.47 196.685 L1785.47 192.258 Q1788.47 189.159 1793.62 183.951 Q1798.81 178.717 1800.13 177.206 Q1802.66 174.368 1803.65 172.415 Q1804.66 170.435 1804.66 168.534 Q1804.66 165.435 1802.48 163.482 Q1800.32 161.529 1796.83 161.529 Q1794.35 161.529 1791.59 162.389 Q1788.86 163.248 1785.73 164.993 L1785.73 159.68 Q1788.91 158.404 1791.67 157.753 Q1794.43 157.102 1796.72 157.102 Q1802.76 157.102 1806.36 160.123 Q1809.95 163.144 1809.95 168.196 Q1809.95 170.592 1809.04 172.753 Q1808.15 174.889 1805.78 177.805 Q1805.13 178.56 1801.64 182.18 Q1798.15 185.774 1791.8 192.258 Z\" fill=\"#000000\" fill-rule=\"nonzero\" fill-opacity=\"1\" /><path clip-path=\"url(#clip020)\" d=\"M1802.14 245.825 Q1805.91 246.632 1808.02 249.184 Q1810.16 251.736 1810.16 255.486 Q1810.16 261.242 1806.2 264.393 Q1802.24 267.544 1794.95 267.544 Q1792.5 267.544 1789.9 267.049 Q1787.32 266.58 1784.56 265.617 L1784.56 260.538 Q1786.75 261.814 1789.35 262.466 Q1791.96 263.117 1794.8 263.117 Q1799.74 263.117 1802.32 261.163 Q1804.93 259.21 1804.93 255.486 Q1804.93 252.049 1802.5 250.122 Q1800.11 248.169 1795.81 248.169 L1791.28 248.169 L1791.28 243.846 L1796.02 243.846 Q1799.9 243.846 1801.96 242.309 Q1804.01 240.747 1804.01 237.83 Q1804.01 234.835 1801.88 233.247 Q1799.77 231.632 1795.81 231.632 Q1793.65 231.632 1791.18 232.101 Q1788.7 232.57 1785.73 233.559 L1785.73 228.872 Q1788.73 228.039 1791.33 227.622 Q1793.96 227.205 1796.28 227.205 Q1802.27 227.205 1805.76 229.94 Q1809.25 232.648 1809.25 237.283 Q1809.25 240.513 1807.4 242.752 Q1805.55 244.966 1802.14 245.825 Z\" fill=\"#000000\" fill-rule=\"nonzero\" fill-opacity=\"1\" /><path clip-path=\"url(#clip020)\" d=\"M1799.38 302.595 L1786.1 323.35 L1799.38 323.35 L1799.38 302.595 M1798 298.012 L1804.61 298.012 L1804.61 323.35 L1810.16 323.35 L1810.16 327.725 L1804.61 327.725 L1804.61 336.892 L1799.38 336.892 L1799.38 327.725 L1781.83 327.725 L1781.83 322.647 L1798 298.012 Z\" fill=\"#000000\" fill-rule=\"nonzero\" fill-opacity=\"1\" /><path clip-path=\"url(#clip020)\" d=\"M1786.64 368.115 L1807.3 368.115 L1807.3 372.542 L1791.46 372.542 L1791.46 382.073 Q1792.61 381.682 1793.75 381.5 Q1794.9 381.292 1796.05 381.292 Q1802.56 381.292 1806.36 384.859 Q1810.16 388.427 1810.16 394.521 Q1810.16 400.797 1806.25 404.286 Q1802.35 407.75 1795.24 407.75 Q1792.79 407.75 1790.24 407.333 Q1787.71 406.917 1785 406.083 L1785 400.797 Q1787.35 402.073 1789.85 402.698 Q1792.35 403.323 1795.13 403.323 Q1799.64 403.323 1802.27 400.953 Q1804.9 398.583 1804.9 394.521 Q1804.9 390.458 1802.27 388.089 Q1799.64 385.719 1795.13 385.719 Q1793.02 385.719 1790.91 386.188 Q1788.83 386.656 1786.64 387.646 L1786.64 368.115 Z\" fill=\"#000000\" fill-rule=\"nonzero\" fill-opacity=\"1\" /><path clip-path=\"url(#clip020)\" d=\"M1797.19 455.561 Q1793.65 455.561 1791.57 457.983 Q1789.51 460.405 1789.51 464.624 Q1789.51 468.817 1791.57 471.265 Q1793.65 473.686 1797.19 473.686 Q1800.73 473.686 1802.79 471.265 Q1804.87 468.817 1804.87 464.624 Q1804.87 460.405 1802.79 457.983 Q1800.73 455.561 1797.19 455.561 M1807.63 439.077 L1807.63 443.869 Q1805.65 442.931 1803.62 442.437 Q1801.62 441.942 1799.64 441.942 Q1794.43 441.942 1791.67 445.457 Q1788.94 448.973 1788.55 456.082 Q1790.08 453.817 1792.4 452.619 Q1794.72 451.395 1797.5 451.395 Q1803.36 451.395 1806.75 454.963 Q1810.16 458.504 1810.16 464.624 Q1810.16 470.613 1806.62 474.233 Q1803.08 477.853 1797.19 477.853 Q1790.45 477.853 1786.88 472.697 Q1783.31 467.515 1783.31 457.697 Q1783.31 448.478 1787.69 443.009 Q1792.06 437.515 1799.43 437.515 Q1801.41 437.515 1803.41 437.905 Q1805.45 438.296 1807.63 439.077 Z\" fill=\"#000000\" fill-rule=\"nonzero\" fill-opacity=\"1\" /><path clip-path=\"url(#clip020)\" d=\"M1785.16 508.321 L1810.16 508.321 L1810.16 510.561 L1796.05 547.201 L1790.55 547.201 L1803.83 512.748 L1785.16 512.748 L1785.16 508.321 Z\" fill=\"#000000\" fill-rule=\"nonzero\" fill-opacity=\"1\" /><path clip-path=\"url(#clip020)\" d=\"M1796.83 598.841 Q1793.08 598.841 1790.91 600.846 Q1788.78 602.851 1788.78 606.367 Q1788.78 609.882 1790.91 611.887 Q1793.08 613.893 1796.83 613.893 Q1800.58 613.893 1802.74 611.887 Q1804.9 609.856 1804.9 606.367 Q1804.9 602.851 1802.74 600.846 Q1800.6 598.841 1796.83 598.841 M1791.57 596.601 Q1788.18 595.768 1786.28 593.45 Q1784.4 591.132 1784.4 587.799 Q1784.4 583.138 1787.71 580.429 Q1791.05 577.721 1796.83 577.721 Q1802.63 577.721 1805.94 580.429 Q1809.25 583.138 1809.25 587.799 Q1809.25 591.132 1807.35 593.45 Q1805.47 595.768 1802.11 596.601 Q1805.91 597.487 1808.02 600.065 Q1810.16 602.643 1810.16 606.367 Q1810.16 612.018 1806.7 615.038 Q1803.26 618.059 1796.83 618.059 Q1790.39 618.059 1786.93 615.038 Q1783.49 612.018 1783.49 606.367 Q1783.49 602.643 1785.63 600.065 Q1787.76 597.487 1791.57 596.601 M1789.64 588.294 Q1789.64 591.315 1791.51 593.007 Q1793.41 594.7 1796.83 594.7 Q1800.21 594.7 1802.11 593.007 Q1804.04 591.315 1804.04 588.294 Q1804.04 585.273 1802.11 583.58 Q1800.21 581.888 1796.83 581.888 Q1793.41 581.888 1791.51 583.58 Q1789.64 585.273 1789.64 588.294 Z\" fill=\"#000000\" fill-rule=\"nonzero\" fill-opacity=\"1\" /><path clip-path=\"url(#clip020)\" d=\"M1785.84 686.6 L1785.84 681.808 Q1787.82 682.746 1789.85 683.241 Q1791.88 683.735 1793.83 683.735 Q1799.04 683.735 1801.77 680.246 Q1804.53 676.73 1804.93 669.595 Q1803.41 671.834 1801.1 673.032 Q1798.78 674.23 1795.97 674.23 Q1790.13 674.23 1786.72 670.715 Q1783.34 667.173 1783.34 661.053 Q1783.34 655.064 1786.88 651.444 Q1790.42 647.824 1796.31 647.824 Q1803.05 647.824 1806.59 653.006 Q1810.16 658.163 1810.16 668.006 Q1810.16 677.199 1805.78 682.694 Q1801.44 688.162 1794.07 688.162 Q1792.09 688.162 1790.06 687.772 Q1788.02 687.381 1785.84 686.6 M1796.31 670.116 Q1799.85 670.116 1801.9 667.694 Q1803.99 665.272 1803.99 661.053 Q1803.99 656.861 1801.9 654.439 Q1799.85 651.991 1796.31 651.991 Q1792.76 651.991 1790.68 654.439 Q1788.62 656.861 1788.62 661.053 Q1788.62 665.272 1790.68 667.694 Q1792.76 670.116 1796.31 670.116 Z\" fill=\"#000000\" fill-rule=\"nonzero\" fill-opacity=\"1\" /><path clip-path=\"url(#clip020)\" d=\"M1752.45 753.083 L1761.05 753.083 L1761.05 723.422 L1751.7 725.297 L1751.7 720.505 L1760.99 718.63 L1766.25 718.63 L1766.25 753.083 L1774.85 753.083 L1774.85 757.51 L1752.45 757.51 L1752.45 753.083 Z\" fill=\"#000000\" fill-rule=\"nonzero\" fill-opacity=\"1\" /><path clip-path=\"url(#clip020)\" d=\"M1796.72 722.094 Q1792.66 722.094 1790.6 726.104 Q1788.57 730.089 1788.57 738.109 Q1788.57 746.104 1790.6 750.115 Q1792.66 754.099 1796.72 754.099 Q1800.81 754.099 1802.84 750.115 Q1804.9 746.104 1804.9 738.109 Q1804.9 730.089 1802.84 726.104 Q1800.81 722.094 1796.72 722.094 M1796.72 717.927 Q1803.26 717.927 1806.7 723.11 Q1810.16 728.266 1810.16 738.109 Q1810.16 747.927 1806.7 753.109 Q1803.26 758.266 1796.72 758.266 Q1790.19 758.266 1786.72 753.109 Q1783.28 747.927 1783.28 738.109 Q1783.28 728.266 1786.72 723.11 Q1790.19 717.927 1796.72 717.927 Z\" fill=\"#000000\" fill-rule=\"nonzero\" fill-opacity=\"1\" /><path clip-path=\"url(#clip020)\" d=\"M2101.85 14.7875 L2101.85 32.6433 L2109.94 32.6433 Q2114.42 32.6433 2116.88 30.3199 Q2119.33 27.9964 2119.33 23.6995 Q2119.33 19.4345 2116.88 17.111 Q2114.42 14.7875 2109.94 14.7875 L2101.85 14.7875 M2095.42 9.504 L2109.94 9.504 Q2117.93 9.504 2122 13.1325 Q2126.11 16.7291 2126.11 23.6995 Q2126.11 30.7336 2122 34.3303 Q2117.93 37.9269 2109.94 37.9269 L2101.85 37.9269 L2101.85 57.024 L2095.42 57.024 L2095.42 9.504 Z\" fill=\"#000000\" fill-rule=\"nonzero\" fill-opacity=\"1\" /><path clip-path=\"url(#clip020)\" d=\"M2147.75 39.1045 Q2140.65 39.1045 2137.91 40.7278 Q2135.18 42.351 2135.18 46.266 Q2135.18 49.3852 2137.21 51.2312 Q2139.28 53.0454 2142.82 53.0454 Q2147.69 53.0454 2150.61 49.608 Q2153.57 46.1386 2153.57 40.4095 L2153.57 39.1045 L2147.75 39.1045 M2159.43 36.6856 L2159.43 57.024 L2153.57 57.024 L2153.57 51.6131 Q2151.57 54.8597 2148.58 56.4193 Q2145.58 57.947 2141.26 57.947 Q2135.78 57.947 2132.54 54.8915 Q2129.32 51.8041 2129.32 46.6479 Q2129.32 40.6323 2133.33 37.5768 Q2137.37 34.5212 2145.36 34.5212 L2153.57 34.5212 L2153.57 33.9483 Q2153.57 29.9061 2150.9 27.7099 Q2148.26 25.4819 2143.45 25.4819 Q2140.4 25.4819 2137.5 26.214 Q2134.6 26.946 2131.93 28.4101 L2131.93 22.9993 Q2135.15 21.758 2138.17 21.1532 Q2141.19 20.5167 2144.06 20.5167 Q2151.79 20.5167 2155.61 24.5271 Q2159.43 28.5375 2159.43 36.6856 Z\" fill=\"#000000\" fill-rule=\"nonzero\" fill-opacity=\"1\" /><path clip-path=\"url(#clip020)\" d=\"M2177.29 11.2546 L2177.29 21.376 L2189.35 21.376 L2189.35 25.9275 L2177.29 25.9275 L2177.29 45.2793 Q2177.29 49.6398 2178.46 50.8811 Q2179.67 52.1224 2183.33 52.1224 L2189.35 52.1224 L2189.35 57.024 L2183.33 57.024 Q2176.55 57.024 2173.98 54.5095 Q2171.4 51.9633 2171.4 45.2793 L2171.4 25.9275 L2167.1 25.9275 L2167.1 21.376 L2171.4 21.376 L2171.4 11.2546 L2177.29 11.2546 Z\" fill=\"#000000\" fill-rule=\"nonzero\" fill-opacity=\"1\" /><path clip-path=\"url(#clip020)\" d=\"M2226.68 35.5079 L2226.68 57.024 L2220.83 57.024 L2220.83 35.6989 Q2220.83 30.6381 2218.85 28.1237 Q2216.88 25.6092 2212.93 25.6092 Q2208.19 25.6092 2205.45 28.6329 Q2202.72 31.6567 2202.72 36.8765 L2202.72 57.024 L2196.83 57.024 L2196.83 7.4988 L2202.72 7.4988 L2202.72 26.9142 Q2204.82 23.6995 2207.65 22.1081 Q2210.52 20.5167 2214.24 20.5167 Q2220.38 20.5167 2223.53 24.3361 Q2226.68 28.1237 2226.68 35.5079 Z\" fill=\"#000000\" fill-rule=\"nonzero\" fill-opacity=\"1\" /><path clip-path=\"url(#clip020)\" d=\"M2261.09 22.4264 L2261.09 27.9645 Q2258.61 26.6914 2255.93 26.0548 Q2253.26 25.4183 2250.4 25.4183 Q2246.04 25.4183 2243.84 26.7551 Q2241.68 28.0919 2241.68 30.7655 Q2241.68 32.8025 2243.23 33.9801 Q2244.79 35.126 2249.51 36.1763 L2251.51 36.6219 Q2257.75 37.9587 2260.36 40.4095 Q2263 42.8285 2263 47.189 Q2263 52.1542 2259.05 55.0506 Q2255.14 57.947 2248.26 57.947 Q2245.4 57.947 2242.28 57.3741 Q2239.19 56.833 2235.76 55.719 L2235.76 49.6716 Q2239 51.3585 2242.15 52.2179 Q2245.3 53.0454 2248.39 53.0454 Q2252.53 53.0454 2254.76 51.645 Q2256.98 50.2127 2256.98 47.6346 Q2256.98 45.2474 2255.36 43.9743 Q2253.77 42.7012 2248.33 41.5235 L2246.29 41.0461 Q2240.85 39.9002 2238.43 37.5449 Q2236.01 35.1578 2236.01 31.0201 Q2236.01 25.9912 2239.57 23.2539 Q2243.14 20.5167 2249.7 20.5167 Q2252.94 20.5167 2255.81 20.9941 Q2258.67 21.4715 2261.09 22.4264 Z\" fill=\"#000000\" fill-rule=\"nonzero\" fill-opacity=\"1\" /><circle clip-path=\"url(#clip025)\" cx=\"1868.66\" cy=\"107.142\" r=\"14.4\" fill=\"#ff0000\" fill-rule=\"evenodd\" fill-opacity=\"1\" stroke=\"#000000\" stroke-opacity=\"1\" stroke-width=\"0.184\"/>\n",
       "<circle clip-path=\"url(#clip025)\" cx=\"2256.76\" cy=\"107.142\" r=\"14.4\" fill=\"#ff0000\" fill-rule=\"evenodd\" fill-opacity=\"1\" stroke=\"#000000\" stroke-opacity=\"1\" stroke-width=\"0.184\"/>\n",
       "<circle clip-path=\"url(#clip025)\" cx=\"2489.76\" cy=\"107.142\" r=\"14.4\" fill=\"#ff0000\" fill-rule=\"evenodd\" fill-opacity=\"1\" stroke=\"#000000\" stroke-opacity=\"1\" stroke-width=\"0.184\"/>\n",
       "<circle clip-path=\"url(#clip025)\" cx=\"1868.66\" cy=\"177.245\" r=\"14.4\" fill=\"#ff0000\" fill-rule=\"evenodd\" fill-opacity=\"1\" stroke=\"#000000\" stroke-opacity=\"1\" stroke-width=\"0.184\"/>\n",
       "<circle clip-path=\"url(#clip025)\" cx=\"2230.42\" cy=\"177.245\" r=\"14.4\" fill=\"#ff0000\" fill-rule=\"evenodd\" fill-opacity=\"1\" stroke=\"#000000\" stroke-opacity=\"1\" stroke-width=\"0.184\"/>\n",
       "<circle clip-path=\"url(#clip025)\" cx=\"2489.76\" cy=\"177.245\" r=\"14.4\" fill=\"#ff0000\" fill-rule=\"evenodd\" fill-opacity=\"1\" stroke=\"#000000\" stroke-opacity=\"1\" stroke-width=\"0.184\"/>\n",
       "<circle clip-path=\"url(#clip025)\" cx=\"1868.66\" cy=\"247.348\" r=\"14.4\" fill=\"#ff0000\" fill-rule=\"evenodd\" fill-opacity=\"1\" stroke=\"#000000\" stroke-opacity=\"1\" stroke-width=\"0.184\"/>\n",
       "<circle clip-path=\"url(#clip025)\" cx=\"2295.26\" cy=\"247.348\" r=\"14.4\" fill=\"#ff0000\" fill-rule=\"evenodd\" fill-opacity=\"1\" stroke=\"#000000\" stroke-opacity=\"1\" stroke-width=\"0.184\"/>\n",
       "<circle clip-path=\"url(#clip025)\" cx=\"2489.76\" cy=\"247.348\" r=\"14.4\" fill=\"#ff0000\" fill-rule=\"evenodd\" fill-opacity=\"1\" stroke=\"#000000\" stroke-opacity=\"1\" stroke-width=\"0.184\"/>\n",
       "<circle clip-path=\"url(#clip025)\" cx=\"1868.66\" cy=\"317.452\" r=\"14.4\" fill=\"#ff0000\" fill-rule=\"evenodd\" fill-opacity=\"1\" stroke=\"#000000\" stroke-opacity=\"1\" stroke-width=\"0.184\"/>\n",
       "<circle clip-path=\"url(#clip025)\" cx=\"2325.65\" cy=\"317.452\" r=\"14.4\" fill=\"#ff0000\" fill-rule=\"evenodd\" fill-opacity=\"1\" stroke=\"#000000\" stroke-opacity=\"1\" stroke-width=\"0.184\"/>\n",
       "<circle clip-path=\"url(#clip025)\" cx=\"2489.76\" cy=\"317.452\" r=\"14.4\" fill=\"#ff0000\" fill-rule=\"evenodd\" fill-opacity=\"1\" stroke=\"#000000\" stroke-opacity=\"1\" stroke-width=\"0.184\"/>\n",
       "<circle clip-path=\"url(#clip025)\" cx=\"1868.66\" cy=\"387.555\" r=\"14.4\" fill=\"#ff0000\" fill-rule=\"evenodd\" fill-opacity=\"1\" stroke=\"#000000\" stroke-opacity=\"1\" stroke-width=\"0.184\"/>\n",
       "<circle clip-path=\"url(#clip025)\" cx=\"2114.65\" cy=\"387.555\" r=\"14.4\" fill=\"#ff0000\" fill-rule=\"evenodd\" fill-opacity=\"1\" stroke=\"#000000\" stroke-opacity=\"1\" stroke-width=\"0.184\"/>\n",
       "<circle clip-path=\"url(#clip025)\" cx=\"2359.7\" cy=\"387.555\" r=\"14.4\" fill=\"#ff0000\" fill-rule=\"evenodd\" fill-opacity=\"1\" stroke=\"#000000\" stroke-opacity=\"1\" stroke-width=\"0.184\"/>\n",
       "<circle clip-path=\"url(#clip025)\" cx=\"2489.76\" cy=\"387.555\" r=\"14.4\" fill=\"#ff0000\" fill-rule=\"evenodd\" fill-opacity=\"1\" stroke=\"#000000\" stroke-opacity=\"1\" stroke-width=\"0.184\"/>\n",
       "<circle clip-path=\"url(#clip025)\" cx=\"1868.66\" cy=\"457.658\" r=\"14.4\" fill=\"#ff0000\" fill-rule=\"evenodd\" fill-opacity=\"1\" stroke=\"#000000\" stroke-opacity=\"1\" stroke-width=\"0.184\"/>\n",
       "<circle clip-path=\"url(#clip025)\" cx=\"2062.99\" cy=\"457.658\" r=\"14.4\" fill=\"#ff0000\" fill-rule=\"evenodd\" fill-opacity=\"1\" stroke=\"#000000\" stroke-opacity=\"1\" stroke-width=\"0.184\"/>\n",
       "<circle clip-path=\"url(#clip025)\" cx=\"2249.08\" cy=\"457.658\" r=\"14.4\" fill=\"#ff0000\" fill-rule=\"evenodd\" fill-opacity=\"1\" stroke=\"#000000\" stroke-opacity=\"1\" stroke-width=\"0.184\"/>\n",
       "<circle clip-path=\"url(#clip025)\" cx=\"2400.23\" cy=\"457.658\" r=\"14.4\" fill=\"#ff0000\" fill-rule=\"evenodd\" fill-opacity=\"1\" stroke=\"#000000\" stroke-opacity=\"1\" stroke-width=\"0.184\"/>\n",
       "<circle clip-path=\"url(#clip025)\" cx=\"2489.76\" cy=\"457.658\" r=\"14.4\" fill=\"#ff0000\" fill-rule=\"evenodd\" fill-opacity=\"1\" stroke=\"#000000\" stroke-opacity=\"1\" stroke-width=\"0.184\"/>\n",
       "<circle clip-path=\"url(#clip025)\" cx=\"1868.66\" cy=\"527.761\" r=\"14.4\" fill=\"#ff0000\" fill-rule=\"evenodd\" fill-opacity=\"1\" stroke=\"#000000\" stroke-opacity=\"1\" stroke-width=\"0.184\"/>\n",
       "<circle clip-path=\"url(#clip025)\" cx=\"2066.03\" cy=\"527.761\" r=\"14.4\" fill=\"#ff0000\" fill-rule=\"evenodd\" fill-opacity=\"1\" stroke=\"#000000\" stroke-opacity=\"1\" stroke-width=\"0.184\"/>\n",
       "<circle clip-path=\"url(#clip025)\" cx=\"2231.06\" cy=\"527.761\" r=\"14.4\" fill=\"#ff0000\" fill-rule=\"evenodd\" fill-opacity=\"1\" stroke=\"#000000\" stroke-opacity=\"1\" stroke-width=\"0.184\"/>\n",
       "<circle clip-path=\"url(#clip025)\" cx=\"2359.43\" cy=\"527.761\" r=\"14.4\" fill=\"#ff0000\" fill-rule=\"evenodd\" fill-opacity=\"1\" stroke=\"#000000\" stroke-opacity=\"1\" stroke-width=\"0.184\"/>\n",
       "<circle clip-path=\"url(#clip025)\" cx=\"2460.19\" cy=\"527.761\" r=\"14.4\" fill=\"#ff0000\" fill-rule=\"evenodd\" fill-opacity=\"1\" stroke=\"#000000\" stroke-opacity=\"1\" stroke-width=\"0.184\"/>\n",
       "<circle clip-path=\"url(#clip025)\" cx=\"2489.76\" cy=\"527.761\" r=\"14.4\" fill=\"#ff0000\" fill-rule=\"evenodd\" fill-opacity=\"1\" stroke=\"#000000\" stroke-opacity=\"1\" stroke-width=\"0.184\"/>\n",
       "<circle clip-path=\"url(#clip025)\" cx=\"1868.66\" cy=\"597.864\" r=\"14.4\" fill=\"#ff0000\" fill-rule=\"evenodd\" fill-opacity=\"1\" stroke=\"#000000\" stroke-opacity=\"1\" stroke-width=\"0.184\"/>\n",
       "<circle clip-path=\"url(#clip025)\" cx=\"2044.75\" cy=\"597.864\" r=\"14.4\" fill=\"#ff0000\" fill-rule=\"evenodd\" fill-opacity=\"1\" stroke=\"#000000\" stroke-opacity=\"1\" stroke-width=\"0.184\"/>\n",
       "<circle clip-path=\"url(#clip025)\" cx=\"2198.39\" cy=\"597.864\" r=\"14.4\" fill=\"#ff0000\" fill-rule=\"evenodd\" fill-opacity=\"1\" stroke=\"#000000\" stroke-opacity=\"1\" stroke-width=\"0.184\"/>\n",
       "<circle clip-path=\"url(#clip025)\" cx=\"2316.8\" cy=\"597.864\" r=\"14.4\" fill=\"#ff0000\" fill-rule=\"evenodd\" fill-opacity=\"1\" stroke=\"#000000\" stroke-opacity=\"1\" stroke-width=\"0.184\"/>\n",
       "<circle clip-path=\"url(#clip025)\" cx=\"2412.01\" cy=\"597.864\" r=\"14.4\" fill=\"#ff0000\" fill-rule=\"evenodd\" fill-opacity=\"1\" stroke=\"#000000\" stroke-opacity=\"1\" stroke-width=\"0.184\"/>\n",
       "<circle clip-path=\"url(#clip025)\" cx=\"2482.86\" cy=\"597.864\" r=\"14.4\" fill=\"#ff0000\" fill-rule=\"evenodd\" fill-opacity=\"1\" stroke=\"#000000\" stroke-opacity=\"1\" stroke-width=\"0.184\"/>\n",
       "<circle clip-path=\"url(#clip025)\" cx=\"2489.76\" cy=\"597.864\" r=\"14.4\" fill=\"#ff0000\" fill-rule=\"evenodd\" fill-opacity=\"1\" stroke=\"#000000\" stroke-opacity=\"1\" stroke-width=\"0.184\"/>\n",
       "<circle clip-path=\"url(#clip025)\" cx=\"1868.66\" cy=\"667.967\" r=\"14.4\" fill=\"#ff0000\" fill-rule=\"evenodd\" fill-opacity=\"1\" stroke=\"#000000\" stroke-opacity=\"1\" stroke-width=\"0.184\"/>\n",
       "<circle clip-path=\"url(#clip025)\" cx=\"2058.94\" cy=\"667.967\" r=\"14.4\" fill=\"#ff0000\" fill-rule=\"evenodd\" fill-opacity=\"1\" stroke=\"#000000\" stroke-opacity=\"1\" stroke-width=\"0.184\"/>\n",
       "<circle clip-path=\"url(#clip025)\" cx=\"2209.43\" cy=\"667.967\" r=\"14.4\" fill=\"#ff0000\" fill-rule=\"evenodd\" fill-opacity=\"1\" stroke=\"#000000\" stroke-opacity=\"1\" stroke-width=\"0.184\"/>\n",
       "<circle clip-path=\"url(#clip025)\" cx=\"2330.74\" cy=\"667.967\" r=\"14.4\" fill=\"#ff0000\" fill-rule=\"evenodd\" fill-opacity=\"1\" stroke=\"#000000\" stroke-opacity=\"1\" stroke-width=\"0.184\"/>\n",
       "<circle clip-path=\"url(#clip025)\" cx=\"2421.07\" cy=\"667.967\" r=\"14.4\" fill=\"#ff0000\" fill-rule=\"evenodd\" fill-opacity=\"1\" stroke=\"#000000\" stroke-opacity=\"1\" stroke-width=\"0.184\"/>\n",
       "<circle clip-path=\"url(#clip025)\" cx=\"2489.76\" cy=\"667.967\" r=\"14.4\" fill=\"#ff0000\" fill-rule=\"evenodd\" fill-opacity=\"1\" stroke=\"#000000\" stroke-opacity=\"1\" stroke-width=\"0.184\"/>\n",
       "<circle clip-path=\"url(#clip025)\" cx=\"1868.66\" cy=\"738.07\" r=\"14.4\" fill=\"#ff0000\" fill-rule=\"evenodd\" fill-opacity=\"1\" stroke=\"#000000\" stroke-opacity=\"1\" stroke-width=\"0.184\"/>\n",
       "<circle clip-path=\"url(#clip025)\" cx=\"2040.7\" cy=\"738.07\" r=\"14.4\" fill=\"#ff0000\" fill-rule=\"evenodd\" fill-opacity=\"1\" stroke=\"#000000\" stroke-opacity=\"1\" stroke-width=\"0.184\"/>\n",
       "<circle clip-path=\"url(#clip025)\" cx=\"2160.81\" cy=\"738.07\" r=\"14.4\" fill=\"#ff0000\" fill-rule=\"evenodd\" fill-opacity=\"1\" stroke=\"#000000\" stroke-opacity=\"1\" stroke-width=\"0.184\"/>\n",
       "<circle clip-path=\"url(#clip025)\" cx=\"2267.99\" cy=\"738.07\" r=\"14.4\" fill=\"#ff0000\" fill-rule=\"evenodd\" fill-opacity=\"1\" stroke=\"#000000\" stroke-opacity=\"1\" stroke-width=\"0.184\"/>\n",
       "<circle clip-path=\"url(#clip025)\" cx=\"2349.79\" cy=\"738.07\" r=\"14.4\" fill=\"#ff0000\" fill-rule=\"evenodd\" fill-opacity=\"1\" stroke=\"#000000\" stroke-opacity=\"1\" stroke-width=\"0.184\"/>\n",
       "<circle clip-path=\"url(#clip025)\" cx=\"2410.86\" cy=\"738.07\" r=\"14.4\" fill=\"#ff0000\" fill-rule=\"evenodd\" fill-opacity=\"1\" stroke=\"#000000\" stroke-opacity=\"1\" stroke-width=\"0.184\"/>\n",
       "<circle clip-path=\"url(#clip025)\" cx=\"2461.16\" cy=\"738.07\" r=\"14.4\" fill=\"#ff0000\" fill-rule=\"evenodd\" fill-opacity=\"1\" stroke=\"#000000\" stroke-opacity=\"1\" stroke-width=\"0.184\"/>\n",
       "<circle clip-path=\"url(#clip025)\" cx=\"2489.76\" cy=\"738.07\" r=\"14.4\" fill=\"#ff0000\" fill-rule=\"evenodd\" fill-opacity=\"1\" stroke=\"#000000\" stroke-opacity=\"1\" stroke-width=\"0.184\"/>\n",
       "</svg>\n"
      ],
      "text/html": [
       "<?xml version=\"1.0\" encoding=\"utf-8\"?>\n",
       "<svg xmlns=\"http://www.w3.org/2000/svg\" xmlns:xlink=\"http://www.w3.org/1999/xlink\" width=\"650\" height=\"230\" viewBox=\"0 0 2600 920\">\n",
       "<defs>\n",
       "  <clipPath id=\"clip070\">\n",
       "    <rect x=\"0\" y=\"0\" width=\"2600\" height=\"920\"/>\n",
       "  </clipPath>\n",
       "</defs>\n",
       "<path clip-path=\"url(#clip070)\" d=\"M0 920 L2600 920 L2600 0 L0 0  Z\" fill=\"#ffffff\" fill-rule=\"evenodd\" fill-opacity=\"1\"/>\n",
       "<defs>\n",
       "  <clipPath id=\"clip071\">\n",
       "    <rect x=\"520\" y=\"0\" width=\"1821\" height=\"920\"/>\n",
       "  </clipPath>\n",
       "</defs>\n",
       "<path clip-path=\"url(#clip070)\" d=\"M234.616 756.998 L855.721 756.998 L855.721 88.2143 L234.616 88.2143  Z\" fill=\"#ffffff\" fill-rule=\"evenodd\" fill-opacity=\"1\"/>\n",
       "<defs>\n",
       "  <clipPath id=\"clip072\">\n",
       "    <rect x=\"234\" y=\"88\" width=\"622\" height=\"670\"/>\n",
       "  </clipPath>\n",
       "</defs>\n",
       "<polyline clip-path=\"url(#clip072)\" style=\"stroke:#000000; stroke-linecap:round; stroke-linejoin:round; stroke-width:2; stroke-opacity:0.1; fill:none\" points=\"252.195,756.998 252.195,88.2143 \"/>\n",
       "<polyline clip-path=\"url(#clip072)\" style=\"stroke:#000000; stroke-linecap:round; stroke-linejoin:round; stroke-width:2; stroke-opacity:0.1; fill:none\" points=\"317.3,756.998 317.3,88.2143 \"/>\n",
       "<polyline clip-path=\"url(#clip072)\" style=\"stroke:#000000; stroke-linecap:round; stroke-linejoin:round; stroke-width:2; stroke-opacity:0.1; fill:none\" points=\"382.405,756.998 382.405,88.2143 \"/>\n",
       "<polyline clip-path=\"url(#clip072)\" style=\"stroke:#000000; stroke-linecap:round; stroke-linejoin:round; stroke-width:2; stroke-opacity:0.1; fill:none\" points=\"447.511,756.998 447.511,88.2143 \"/>\n",
       "<polyline clip-path=\"url(#clip072)\" style=\"stroke:#000000; stroke-linecap:round; stroke-linejoin:round; stroke-width:2; stroke-opacity:0.1; fill:none\" points=\"512.616,756.998 512.616,88.2143 \"/>\n",
       "<polyline clip-path=\"url(#clip072)\" style=\"stroke:#000000; stroke-linecap:round; stroke-linejoin:round; stroke-width:2; stroke-opacity:0.1; fill:none\" points=\"577.721,756.998 577.721,88.2143 \"/>\n",
       "<polyline clip-path=\"url(#clip072)\" style=\"stroke:#000000; stroke-linecap:round; stroke-linejoin:round; stroke-width:2; stroke-opacity:0.1; fill:none\" points=\"642.826,756.998 642.826,88.2143 \"/>\n",
       "<polyline clip-path=\"url(#clip072)\" style=\"stroke:#000000; stroke-linecap:round; stroke-linejoin:round; stroke-width:2; stroke-opacity:0.1; fill:none\" points=\"707.932,756.998 707.932,88.2143 \"/>\n",
       "<polyline clip-path=\"url(#clip072)\" style=\"stroke:#000000; stroke-linecap:round; stroke-linejoin:round; stroke-width:2; stroke-opacity:0.1; fill:none\" points=\"773.037,756.998 773.037,88.2143 \"/>\n",
       "<polyline clip-path=\"url(#clip072)\" style=\"stroke:#000000; stroke-linecap:round; stroke-linejoin:round; stroke-width:2; stroke-opacity:0.1; fill:none\" points=\"838.142,756.998 838.142,88.2143 \"/>\n",
       "<polyline clip-path=\"url(#clip072)\" style=\"stroke:#000000; stroke-linecap:round; stroke-linejoin:round; stroke-width:2; stroke-opacity:0.1; fill:none\" points=\"234.616,756.998 855.721,756.998 \"/>\n",
       "<polyline clip-path=\"url(#clip072)\" style=\"stroke:#000000; stroke-linecap:round; stroke-linejoin:round; stroke-width:2; stroke-opacity:0.1; fill:none\" points=\"234.616,604.099 855.721,604.099 \"/>\n",
       "<polyline clip-path=\"url(#clip072)\" style=\"stroke:#000000; stroke-linecap:round; stroke-linejoin:round; stroke-width:2; stroke-opacity:0.1; fill:none\" points=\"234.616,451.199 855.721,451.199 \"/>\n",
       "<polyline clip-path=\"url(#clip072)\" style=\"stroke:#000000; stroke-linecap:round; stroke-linejoin:round; stroke-width:2; stroke-opacity:0.1; fill:none\" points=\"234.616,298.299 855.721,298.299 \"/>\n",
       "<polyline clip-path=\"url(#clip072)\" style=\"stroke:#000000; stroke-linecap:round; stroke-linejoin:round; stroke-width:2; stroke-opacity:0.1; fill:none\" points=\"234.616,145.399 855.721,145.399 \"/>\n",
       "<polyline clip-path=\"url(#clip070)\" style=\"stroke:#000000; stroke-linecap:round; stroke-linejoin:round; stroke-width:4; stroke-opacity:1; fill:none\" points=\"234.616,756.998 855.721,756.998 \"/>\n",
       "<polyline clip-path=\"url(#clip070)\" style=\"stroke:#000000; stroke-linecap:round; stroke-linejoin:round; stroke-width:4; stroke-opacity:1; fill:none\" points=\"252.195,756.998 252.195,775.896 \"/>\n",
       "<polyline clip-path=\"url(#clip070)\" style=\"stroke:#000000; stroke-linecap:round; stroke-linejoin:round; stroke-width:4; stroke-opacity:1; fill:none\" points=\"317.3,756.998 317.3,775.896 \"/>\n",
       "<polyline clip-path=\"url(#clip070)\" style=\"stroke:#000000; stroke-linecap:round; stroke-linejoin:round; stroke-width:4; stroke-opacity:1; fill:none\" points=\"382.405,756.998 382.405,775.896 \"/>\n",
       "<polyline clip-path=\"url(#clip070)\" style=\"stroke:#000000; stroke-linecap:round; stroke-linejoin:round; stroke-width:4; stroke-opacity:1; fill:none\" points=\"447.511,756.998 447.511,775.896 \"/>\n",
       "<polyline clip-path=\"url(#clip070)\" style=\"stroke:#000000; stroke-linecap:round; stroke-linejoin:round; stroke-width:4; stroke-opacity:1; fill:none\" points=\"512.616,756.998 512.616,775.896 \"/>\n",
       "<polyline clip-path=\"url(#clip070)\" style=\"stroke:#000000; stroke-linecap:round; stroke-linejoin:round; stroke-width:4; stroke-opacity:1; fill:none\" points=\"577.721,756.998 577.721,775.896 \"/>\n",
       "<polyline clip-path=\"url(#clip070)\" style=\"stroke:#000000; stroke-linecap:round; stroke-linejoin:round; stroke-width:4; stroke-opacity:1; fill:none\" points=\"642.826,756.998 642.826,775.896 \"/>\n",
       "<polyline clip-path=\"url(#clip070)\" style=\"stroke:#000000; stroke-linecap:round; stroke-linejoin:round; stroke-width:4; stroke-opacity:1; fill:none\" points=\"707.932,756.998 707.932,775.896 \"/>\n",
       "<polyline clip-path=\"url(#clip070)\" style=\"stroke:#000000; stroke-linecap:round; stroke-linejoin:round; stroke-width:4; stroke-opacity:1; fill:none\" points=\"773.037,756.998 773.037,775.896 \"/>\n",
       "<polyline clip-path=\"url(#clip070)\" style=\"stroke:#000000; stroke-linecap:round; stroke-linejoin:round; stroke-width:4; stroke-opacity:1; fill:none\" points=\"838.142,756.998 838.142,775.896 \"/>\n",
       "<path clip-path=\"url(#clip070)\" d=\"M241.375 832.371 L249.968 832.371 L249.968 802.71 L240.619 804.585 L240.619 799.793 L249.916 797.918 L255.177 797.918 L255.177 832.371 L263.77 832.371 L263.77 836.798 L241.375 836.798 L241.375 832.371 Z\" fill=\"#000000\" fill-rule=\"nonzero\" fill-opacity=\"1\" /><path clip-path=\"url(#clip070)\" d=\"M311.284 832.371 L329.644 832.371 L329.644 836.798 L304.956 836.798 L304.956 832.371 Q307.951 829.272 313.107 824.064 Q318.29 818.83 319.618 817.319 Q322.144 814.481 323.133 812.528 Q324.149 810.548 324.149 808.647 Q324.149 805.548 321.961 803.595 Q319.8 801.642 316.31 801.642 Q313.837 801.642 311.076 802.502 Q308.342 803.361 305.217 805.106 L305.217 799.793 Q308.394 798.517 311.154 797.866 Q313.915 797.215 316.206 797.215 Q322.248 797.215 325.842 800.236 Q329.435 803.257 329.435 808.309 Q329.435 810.705 328.524 812.866 Q327.639 815.001 325.269 817.918 Q324.618 818.673 321.128 822.293 Q317.639 825.887 311.284 832.371 Z\" fill=\"#000000\" fill-rule=\"nonzero\" fill-opacity=\"1\" /><path clip-path=\"url(#clip070)\" d=\"M387.184 815.835 Q390.96 816.642 393.069 819.194 Q395.205 821.746 395.205 825.496 Q395.205 831.251 391.246 834.402 Q387.288 837.553 379.996 837.553 Q377.549 837.553 374.944 837.059 Q372.366 836.59 369.606 835.626 L369.606 830.548 Q371.793 831.824 374.398 832.475 Q377.002 833.126 379.84 833.126 Q384.788 833.126 387.366 831.173 Q389.97 829.22 389.97 825.496 Q389.97 822.059 387.548 820.132 Q385.153 818.179 380.856 818.179 L376.325 818.179 L376.325 813.856 L381.064 813.856 Q384.944 813.856 387.002 812.319 Q389.059 810.757 389.059 807.84 Q389.059 804.845 386.923 803.257 Q384.814 801.642 380.856 801.642 Q378.694 801.642 376.22 802.111 Q373.746 802.58 370.778 803.569 L370.778 798.882 Q373.773 798.048 376.377 797.632 Q379.007 797.215 381.325 797.215 Q387.314 797.215 390.804 799.949 Q394.293 802.658 394.293 807.293 Q394.293 810.522 392.444 812.762 Q390.595 814.975 387.184 815.835 Z\" fill=\"#000000\" fill-rule=\"nonzero\" fill-opacity=\"1\" /><path clip-path=\"url(#clip070)\" d=\"M450.896 802.502 L437.615 823.257 L450.896 823.257 L450.896 802.502 M449.516 797.918 L456.13 797.918 L456.13 823.257 L461.677 823.257 L461.677 827.632 L456.13 827.632 L456.13 836.798 L450.896 836.798 L450.896 827.632 L433.344 827.632 L433.344 822.554 L449.516 797.918 Z\" fill=\"#000000\" fill-rule=\"nonzero\" fill-opacity=\"1\" /><path clip-path=\"url(#clip070)\" d=\"M501.678 797.918 L522.329 797.918 L522.329 802.345 L506.496 802.345 L506.496 811.876 Q507.642 811.486 508.788 811.304 Q509.934 811.095 511.079 811.095 Q517.59 811.095 521.392 814.663 Q525.194 818.231 525.194 824.324 Q525.194 830.6 521.288 834.09 Q517.381 837.553 510.272 837.553 Q507.824 837.553 505.272 837.137 Q502.746 836.72 500.038 835.887 L500.038 830.6 Q502.381 831.876 504.881 832.501 Q507.381 833.126 510.168 833.126 Q514.673 833.126 517.303 830.757 Q519.933 828.387 519.933 824.324 Q519.933 820.262 517.303 817.892 Q514.673 815.522 510.168 815.522 Q508.059 815.522 505.949 815.991 Q503.866 816.46 501.678 817.449 L501.678 797.918 Z\" fill=\"#000000\" fill-rule=\"nonzero\" fill-opacity=\"1\" /><path clip-path=\"url(#clip070)\" d=\"M578.177 815.262 Q574.635 815.262 572.552 817.684 Q570.495 820.106 570.495 824.324 Q570.495 828.517 572.552 830.965 Q574.635 833.387 578.177 833.387 Q581.718 833.387 583.776 830.965 Q585.859 828.517 585.859 824.324 Q585.859 820.106 583.776 817.684 Q581.718 815.262 578.177 815.262 M588.619 798.778 L588.619 803.569 Q586.64 802.632 584.609 802.137 Q582.604 801.642 580.625 801.642 Q575.416 801.642 572.656 805.158 Q569.922 808.673 569.531 815.783 Q571.067 813.517 573.385 812.319 Q575.703 811.095 578.489 811.095 Q584.349 811.095 587.734 814.663 Q591.145 818.205 591.145 824.324 Q591.145 830.314 587.604 833.934 Q584.062 837.553 578.177 837.553 Q571.432 837.553 567.864 832.397 Q564.297 827.215 564.297 817.397 Q564.297 808.179 568.672 802.71 Q573.047 797.215 580.416 797.215 Q582.396 797.215 584.401 797.606 Q586.432 797.996 588.619 798.778 Z\" fill=\"#000000\" fill-rule=\"nonzero\" fill-opacity=\"1\" /><path clip-path=\"url(#clip070)\" d=\"M630.326 797.918 L655.326 797.918 L655.326 800.158 L641.212 836.798 L635.717 836.798 L648.998 802.345 L630.326 802.345 L630.326 797.918 Z\" fill=\"#000000\" fill-rule=\"nonzero\" fill-opacity=\"1\" /><path clip-path=\"url(#clip070)\" d=\"M707.932 818.335 Q704.182 818.335 702.02 820.34 Q699.885 822.345 699.885 825.861 Q699.885 829.376 702.02 831.382 Q704.182 833.387 707.932 833.387 Q711.682 833.387 713.843 831.382 Q716.004 829.35 716.004 825.861 Q716.004 822.345 713.843 820.34 Q711.708 818.335 707.932 818.335 M702.671 816.095 Q699.286 815.262 697.385 812.944 Q695.51 810.627 695.51 807.293 Q695.51 802.632 698.817 799.923 Q702.15 797.215 707.932 797.215 Q713.739 797.215 717.046 799.923 Q720.353 802.632 720.353 807.293 Q720.353 810.627 718.452 812.944 Q716.577 815.262 713.218 816.095 Q717.02 816.981 719.129 819.559 Q721.265 822.137 721.265 825.861 Q721.265 831.512 717.801 834.533 Q714.364 837.553 707.932 837.553 Q701.499 837.553 698.036 834.533 Q694.598 831.512 694.598 825.861 Q694.598 822.137 696.734 819.559 Q698.869 816.981 702.671 816.095 M700.744 807.788 Q700.744 810.809 702.619 812.501 Q704.52 814.194 707.932 814.194 Q711.317 814.194 713.218 812.501 Q715.145 810.809 715.145 807.788 Q715.145 804.767 713.218 803.074 Q711.317 801.382 707.932 801.382 Q704.52 801.382 702.619 803.074 Q700.744 804.767 700.744 807.788 Z\" fill=\"#000000\" fill-rule=\"nonzero\" fill-opacity=\"1\" /><path clip-path=\"url(#clip070)\" d=\"M762.125 835.991 L762.125 831.199 Q764.105 832.137 766.136 832.632 Q768.167 833.126 770.12 833.126 Q775.328 833.126 778.063 829.637 Q780.823 826.121 781.214 818.986 Q779.703 821.225 777.386 822.423 Q775.068 823.621 772.256 823.621 Q766.422 823.621 763.011 820.106 Q759.625 816.564 759.625 810.444 Q759.625 804.455 763.167 800.835 Q766.709 797.215 772.594 797.215 Q779.339 797.215 782.881 802.397 Q786.448 807.554 786.448 817.397 Q786.448 826.59 782.073 832.085 Q777.724 837.553 770.355 837.553 Q768.375 837.553 766.344 837.163 Q764.313 836.772 762.125 835.991 M772.594 819.507 Q776.136 819.507 778.193 817.085 Q780.276 814.663 780.276 810.444 Q780.276 806.252 778.193 803.83 Q776.136 801.382 772.594 801.382 Q769.052 801.382 766.969 803.83 Q764.912 806.252 764.912 810.444 Q764.912 814.663 766.969 817.085 Q769.052 819.507 772.594 819.507 Z\" fill=\"#000000\" fill-rule=\"nonzero\" fill-opacity=\"1\" /><path clip-path=\"url(#clip070)\" d=\"M809.666 832.371 L818.259 832.371 L818.259 802.71 L808.91 804.585 L808.91 799.793 L818.207 797.918 L823.468 797.918 L823.468 832.371 L832.061 832.371 L832.061 836.798 L809.666 836.798 L809.666 832.371 Z\" fill=\"#000000\" fill-rule=\"nonzero\" fill-opacity=\"1\" /><path clip-path=\"url(#clip070)\" d=\"M853.936 801.382 Q849.874 801.382 847.817 805.392 Q845.785 809.377 845.785 817.397 Q845.785 825.392 847.817 829.402 Q849.874 833.387 853.936 833.387 Q858.025 833.387 860.056 829.402 Q862.113 825.392 862.113 817.397 Q862.113 809.377 860.056 805.392 Q858.025 801.382 853.936 801.382 M853.936 797.215 Q860.473 797.215 863.91 802.397 Q867.374 807.554 867.374 817.397 Q867.374 827.215 863.91 832.397 Q860.473 837.553 853.936 837.553 Q847.4 837.553 843.936 832.397 Q840.499 827.215 840.499 817.397 Q840.499 807.554 843.936 802.397 Q847.4 797.215 853.936 797.215 Z\" fill=\"#000000\" fill-rule=\"nonzero\" fill-opacity=\"1\" /><path clip-path=\"url(#clip070)\" d=\"M299.603 894.354 L299.603 882.751 L290.055 882.751 L290.055 877.948 L305.39 877.948 L305.39 896.495 Q302.005 898.897 297.925 900.141 Q293.845 901.356 289.216 901.356 Q279.088 901.356 273.359 895.453 Q267.659 889.522 267.659 878.96 Q267.659 868.37 273.359 862.467 Q279.088 856.536 289.216 856.536 Q293.44 856.536 297.231 857.577 Q301.05 858.619 304.262 860.644 L304.262 866.865 Q301.021 864.117 297.375 862.728 Q293.729 861.339 289.707 861.339 Q281.779 861.339 277.786 865.766 Q273.822 870.193 273.822 878.96 Q273.822 887.699 277.786 892.126 Q281.779 896.553 289.707 896.553 Q292.804 896.553 295.234 896.032 Q297.665 895.482 299.603 894.354 Z\" fill=\"#000000\" fill-rule=\"nonzero\" fill-opacity=\"1\" /><path clip-path=\"url(#clip070)\" d=\"M334.615 873.086 Q333.718 872.566 332.647 872.334 Q331.605 872.074 330.332 872.074 Q325.818 872.074 323.388 875.025 Q320.986 877.948 320.986 883.445 L320.986 900.517 L315.633 900.517 L315.633 868.11 L320.986 868.11 L320.986 873.144 Q322.664 870.193 325.355 868.775 Q328.046 867.328 331.895 867.328 Q332.445 867.328 333.11 867.415 Q333.776 867.473 334.586 867.618 L334.615 873.086 Z\" fill=\"#000000\" fill-rule=\"nonzero\" fill-opacity=\"1\" /><path clip-path=\"url(#clip070)\" d=\"M351.455 871.842 Q347.172 871.842 344.684 875.199 Q342.196 878.526 342.196 884.342 Q342.196 890.158 344.655 893.515 Q347.143 896.842 351.455 896.842 Q355.708 896.842 358.197 893.486 Q360.685 890.129 360.685 884.342 Q360.685 878.584 358.197 875.228 Q355.708 871.842 351.455 871.842 M351.455 867.328 Q358.399 867.328 362.363 871.842 Q366.327 876.356 366.327 884.342 Q366.327 892.299 362.363 896.842 Q358.399 901.356 351.455 901.356 Q344.481 901.356 340.517 896.842 Q336.582 892.299 336.582 884.342 Q336.582 876.356 340.517 871.842 Q344.481 867.328 351.455 867.328 Z\" fill=\"#000000\" fill-rule=\"nonzero\" fill-opacity=\"1\" /><path clip-path=\"url(#clip070)\" d=\"M374.603 887.728 L374.603 868.11 L379.927 868.11 L379.927 887.525 Q379.927 892.126 381.721 894.441 Q383.515 896.726 387.103 896.726 Q391.414 896.726 393.903 893.978 Q396.42 891.229 396.42 886.483 L396.42 868.11 L401.744 868.11 L401.744 900.517 L396.42 900.517 L396.42 895.54 Q394.481 898.491 391.906 899.938 Q389.36 901.356 385.974 901.356 Q380.39 901.356 377.496 897.884 Q374.603 894.412 374.603 887.728 M388 867.328 L388 867.328 Z\" fill=\"#000000\" fill-rule=\"nonzero\" fill-opacity=\"1\" /><path clip-path=\"url(#clip070)\" d=\"M417.861 895.656 L417.861 912.843 L412.508 912.843 L412.508 868.11 L417.861 868.11 L417.861 873.029 Q419.539 870.135 422.085 868.746 Q424.66 867.328 428.219 867.328 Q434.122 867.328 437.797 872.016 Q441.501 876.703 441.501 884.342 Q441.501 891.981 437.797 896.669 Q434.122 901.356 428.219 901.356 Q424.66 901.356 422.085 899.967 Q419.539 898.549 417.861 895.656 M435.974 884.342 Q435.974 878.468 433.543 875.141 Q431.142 871.784 426.917 871.784 Q422.693 871.784 420.262 875.141 Q417.861 878.468 417.861 884.342 Q417.861 890.216 420.262 893.572 Q422.693 896.9 426.917 896.9 Q431.142 896.9 433.543 893.572 Q435.974 890.216 435.974 884.342 Z\" fill=\"#000000\" fill-rule=\"nonzero\" fill-opacity=\"1\" /><path clip-path=\"url(#clip070)\" d=\"M514.61 860.23 Q514.61 860.611 514.522 860.874 Q514.434 861.109 514.229 861.226 Q514.024 861.343 513.907 861.372 Q513.79 861.401 513.526 861.431 Q512.267 861.548 511.389 861.753 Q510.54 861.958 508.432 863.012 Q506.353 864.066 503.748 865.969 L493.266 874.079 L491.509 875.455 Q491.509 875.543 491.568 875.718 Q491.626 875.865 491.685 876.07 Q491.773 876.245 491.802 876.304 L500.322 895.95 Q500.995 897.531 501.815 898.087 Q502.635 898.643 504.48 898.672 Q504.772 898.672 504.889 898.702 Q505.036 898.702 505.241 898.76 Q505.475 898.789 505.563 898.936 Q505.68 899.082 505.68 899.316 Q505.68 900.517 504.597 900.517 Q503.923 900.517 501.64 900.429 Q499.356 900.341 498.712 900.341 Q497.511 900.341 495.052 900.429 Q492.593 900.517 491.392 900.517 Q490.543 900.517 490.543 899.843 Q490.543 899.287 490.748 899.024 Q490.982 898.731 491.187 898.702 Q491.392 898.672 491.861 898.672 Q492.212 898.672 492.593 898.643 Q493.003 898.585 493.588 898.438 Q494.203 898.262 494.584 897.853 Q494.993 897.413 494.993 896.799 Q494.993 896.301 494.261 894.691 L487.323 878.558 L478.393 885.527 L475.992 894.954 Q475.933 895.305 475.787 895.92 Q475.641 896.535 475.524 896.974 Q475.436 897.413 475.436 897.589 Q475.436 897.97 475.67 898.204 Q475.933 898.438 476.578 898.555 Q477.222 898.643 477.719 898.672 Q478.246 898.672 479.33 898.672 Q480.676 898.672 480.911 898.907 Q481.028 899.053 481.028 899.316 Q481.028 899.726 480.911 900.019 Q480.794 900.283 480.559 900.37 Q480.354 900.458 480.208 900.488 Q480.062 900.517 479.827 900.517 Q479.213 900.517 477.895 900.458 Q476.607 900.4 475.933 900.4 L472.098 900.341 L464.486 900.517 Q463.578 900.517 463.578 899.785 Q463.578 899.229 463.812 898.994 Q464.047 898.731 464.31 898.702 Q464.574 898.672 465.247 898.672 Q466.711 898.672 467.589 898.585 Q468.467 898.497 469.024 898.38 Q469.609 898.233 469.902 897.823 Q470.224 897.413 470.371 897.062 Q470.517 896.681 470.722 895.832 L478.744 863.627 Q478.978 862.66 478.978 862.514 Q478.978 862.016 478.686 861.841 Q478.422 861.636 477.661 861.548 Q476.197 861.431 475.084 861.431 Q474.352 861.431 474.06 861.401 Q473.796 861.372 473.562 861.226 Q473.357 861.05 473.357 860.699 Q473.357 859.557 474.557 859.557 L482.287 859.733 L489.958 859.557 Q490.807 859.557 490.807 860.23 Q490.807 861.079 490.397 861.255 Q490.016 861.431 488.757 861.431 Q486.561 861.431 485.566 861.723 Q484.6 861.987 484.307 862.455 Q484.043 862.895 483.721 864.183 L478.92 883.419 L502.313 865.442 Q504.48 863.627 504.48 862.69 Q504.48 862.075 504.04 861.811 Q503.63 861.519 502.606 861.431 Q501.874 861.314 501.874 860.757 Q501.874 860.201 502.079 859.938 Q502.313 859.645 502.489 859.615 Q502.694 859.557 503.016 859.557 Q504.099 859.557 506.353 859.645 Q508.608 859.733 509.691 859.733 Q510.423 859.733 511.858 859.645 Q513.292 859.557 513.936 859.557 Q514.258 859.557 514.434 859.791 Q514.61 859.996 514.61 860.23 Z\" fill=\"#000000\" fill-rule=\"nonzero\" fill-opacity=\"1\" /><path clip-path=\"url(#clip070)\" d=\"M513.97 881.912 L529.566 881.912 L529.566 886.657 L513.97 886.657 L513.97 881.912 Z\" fill=\"#000000\" fill-rule=\"nonzero\" fill-opacity=\"1\" /><path clip-path=\"url(#clip070)\" d=\"M554.45 855.494 L554.45 859.921 L549.358 859.921 Q546.493 859.921 545.365 861.078 Q544.265 862.236 544.265 865.245 L544.265 868.11 L553.032 868.11 L553.032 872.247 L544.265 872.247 L544.265 900.517 L538.912 900.517 L538.912 872.247 L533.819 872.247 L533.819 868.11 L538.912 868.11 L538.912 865.853 Q538.912 860.442 541.429 857.982 Q543.947 855.494 549.415 855.494 L554.45 855.494 Z\" fill=\"#000000\" fill-rule=\"nonzero\" fill-opacity=\"1\" /><path clip-path=\"url(#clip070)\" d=\"M571.464 871.842 Q567.182 871.842 564.693 875.199 Q562.205 878.526 562.205 884.342 Q562.205 890.158 564.664 893.515 Q567.153 896.842 571.464 896.842 Q575.717 896.842 578.206 893.486 Q580.694 890.129 580.694 884.342 Q580.694 878.584 578.206 875.228 Q575.717 871.842 571.464 871.842 M571.464 867.328 Q578.408 867.328 582.372 871.842 Q586.337 876.356 586.337 884.342 Q586.337 892.299 582.372 896.842 Q578.408 901.356 571.464 901.356 Q564.491 901.356 560.527 896.842 Q556.591 892.299 556.591 884.342 Q556.591 876.356 560.527 871.842 Q564.491 867.328 571.464 867.328 Z\" fill=\"#000000\" fill-rule=\"nonzero\" fill-opacity=\"1\" /><path clip-path=\"url(#clip070)\" d=\"M595.162 855.494 L600.486 855.494 L600.486 900.517 L595.162 900.517 L595.162 855.494 Z\" fill=\"#000000\" fill-rule=\"nonzero\" fill-opacity=\"1\" /><path clip-path=\"url(#clip070)\" d=\"M632.951 873.029 L632.951 855.494 L638.275 855.494 L638.275 900.517 L632.951 900.517 L632.951 895.656 Q631.273 898.549 628.697 899.967 Q626.151 901.356 622.563 901.356 Q616.689 901.356 612.986 896.669 Q609.311 891.981 609.311 884.342 Q609.311 876.703 612.986 872.016 Q616.689 867.328 622.563 867.328 Q626.151 867.328 628.697 868.746 Q631.273 870.135 632.951 873.029 M614.809 884.342 Q614.809 890.216 617.21 893.572 Q619.641 896.9 623.865 896.9 Q628.09 896.9 630.52 893.572 Q632.951 890.216 632.951 884.342 Q632.951 878.468 630.52 875.141 Q628.09 871.784 623.865 871.784 Q619.641 871.784 617.21 875.141 Q614.809 878.468 614.809 884.342 Z\" fill=\"#000000\" fill-rule=\"nonzero\" fill-opacity=\"1\" /><path clip-path=\"url(#clip070)\" d=\"M668.078 868.11 L673.402 868.11 L673.402 900.517 L668.078 900.517 L668.078 868.11 M668.078 855.494 L673.402 855.494 L673.402 862.236 L668.078 862.236 L668.078 855.494 Z\" fill=\"#000000\" fill-rule=\"nonzero\" fill-opacity=\"1\" /><path clip-path=\"url(#clip070)\" d=\"M711.481 880.957 L711.481 900.517 L706.157 900.517 L706.157 881.13 Q706.157 876.53 704.363 874.244 Q702.569 871.958 698.981 871.958 Q694.669 871.958 692.181 874.707 Q689.692 877.456 689.692 882.201 L689.692 900.517 L684.34 900.517 L684.34 868.11 L689.692 868.11 L689.692 873.144 Q691.602 870.222 694.177 868.775 Q696.782 867.328 700.167 867.328 Q705.751 867.328 708.616 870.801 Q711.481 874.244 711.481 880.957 Z\" fill=\"#000000\" fill-rule=\"nonzero\" fill-opacity=\"1\" /><path clip-path=\"url(#clip070)\" d=\"M743.425 873.029 L743.425 855.494 L748.749 855.494 L748.749 900.517 L743.425 900.517 L743.425 895.656 Q741.747 898.549 739.171 899.967 Q736.625 901.356 733.037 901.356 Q727.163 901.356 723.46 896.669 Q719.785 891.981 719.785 884.342 Q719.785 876.703 723.46 872.016 Q727.163 867.328 733.037 867.328 Q736.625 867.328 739.171 868.746 Q741.747 870.135 743.425 873.029 M725.283 884.342 Q725.283 890.216 727.684 893.572 Q730.115 896.9 734.339 896.9 Q738.564 896.9 740.994 893.572 Q743.425 890.216 743.425 884.342 Q743.425 878.468 740.994 875.141 Q738.564 871.784 734.339 871.784 Q730.115 871.784 727.684 875.141 Q725.283 878.468 725.283 884.342 Z\" fill=\"#000000\" fill-rule=\"nonzero\" fill-opacity=\"1\" /><path clip-path=\"url(#clip070)\" d=\"M787.435 882.982 L787.435 885.586 L762.956 885.586 Q763.303 891.084 766.255 893.978 Q769.235 896.842 774.53 896.842 Q777.597 896.842 780.462 896.09 Q783.355 895.338 786.191 893.833 L786.191 898.868 Q783.326 900.083 780.317 900.719 Q777.308 901.356 774.212 901.356 Q766.457 901.356 761.914 896.842 Q757.4 892.328 757.4 884.632 Q757.4 876.674 761.683 872.016 Q765.994 867.328 773.286 867.328 Q779.825 867.328 783.616 871.553 Q787.435 875.749 787.435 882.982 M782.111 881.42 Q782.053 877.051 779.651 874.446 Q777.279 871.842 773.344 871.842 Q768.888 871.842 766.197 874.36 Q763.535 876.877 763.13 881.449 L782.111 881.42 Z\" fill=\"#000000\" fill-rule=\"nonzero\" fill-opacity=\"1\" /><path clip-path=\"url(#clip070)\" d=\"M822.07 868.11 L810.352 883.879 L822.678 900.517 L816.399 900.517 L806.966 887.785 L797.533 900.517 L791.254 900.517 L803.841 883.561 L792.325 868.11 L798.604 868.11 L807.198 879.655 L815.791 868.11 L822.07 868.11 Z\" fill=\"#000000\" fill-rule=\"nonzero\" fill-opacity=\"1\" /><polyline clip-path=\"url(#clip070)\" style=\"stroke:#000000; stroke-linecap:round; stroke-linejoin:round; stroke-width:4; stroke-opacity:1; fill:none\" points=\"234.616,756.998 234.616,88.2143 \"/>\n",
       "<polyline clip-path=\"url(#clip070)\" style=\"stroke:#000000; stroke-linecap:round; stroke-linejoin:round; stroke-width:4; stroke-opacity:1; fill:none\" points=\"234.616,756.998 215.719,756.998 \"/>\n",
       "<polyline clip-path=\"url(#clip070)\" style=\"stroke:#000000; stroke-linecap:round; stroke-linejoin:round; stroke-width:4; stroke-opacity:1; fill:none\" points=\"234.616,604.099 215.719,604.099 \"/>\n",
       "<polyline clip-path=\"url(#clip070)\" style=\"stroke:#000000; stroke-linecap:round; stroke-linejoin:round; stroke-width:4; stroke-opacity:1; fill:none\" points=\"234.616,451.199 215.719,451.199 \"/>\n",
       "<polyline clip-path=\"url(#clip070)\" style=\"stroke:#000000; stroke-linecap:round; stroke-linejoin:round; stroke-width:4; stroke-opacity:1; fill:none\" points=\"234.616,298.299 215.719,298.299 \"/>\n",
       "<polyline clip-path=\"url(#clip070)\" style=\"stroke:#000000; stroke-linecap:round; stroke-linejoin:round; stroke-width:4; stroke-opacity:1; fill:none\" points=\"234.616,145.399 215.719,145.399 \"/>\n",
       "<path clip-path=\"url(#clip070)\" d=\"M43.9296 741.022 Q39.8671 741.022 37.8098 745.032 Q35.7786 749.017 35.7786 757.037 Q35.7786 765.032 37.8098 769.042 Q39.8671 773.027 43.9296 773.027 Q48.0181 773.027 50.0493 769.042 Q52.1066 765.032 52.1066 757.037 Q52.1066 749.017 50.0493 745.032 Q48.0181 741.022 43.9296 741.022 M43.9296 736.855 Q50.466 736.855 53.9035 742.037 Q57.367 747.194 57.367 757.037 Q57.367 766.855 53.9035 772.037 Q50.466 777.193 43.9296 777.193 Q37.3931 777.193 33.9296 772.037 Q30.4921 766.855 30.4921 757.037 Q30.4921 747.194 33.9296 742.037 Q37.3931 736.855 43.9296 736.855 Z\" fill=\"#000000\" fill-rule=\"nonzero\" fill-opacity=\"1\" /><path clip-path=\"url(#clip070)\" d=\"M66.6117 769.824 L72.1065 769.824 L72.1065 776.438 L66.6117 776.438 L66.6117 769.824 Z\" fill=\"#000000\" fill-rule=\"nonzero\" fill-opacity=\"1\" /><path clip-path=\"url(#clip070)\" d=\"M94.8147 741.022 Q90.7522 741.022 88.6949 745.032 Q86.6637 749.017 86.6637 757.037 Q86.6637 765.032 88.6949 769.042 Q90.7522 773.027 94.8147 773.027 Q98.9032 773.027 100.934 769.042 Q102.992 765.032 102.992 757.037 Q102.992 749.017 100.934 745.032 Q98.9032 741.022 94.8147 741.022 M94.8147 736.855 Q101.351 736.855 104.789 742.037 Q108.252 747.194 108.252 757.037 Q108.252 766.855 104.789 772.037 Q101.351 777.193 94.8147 777.193 Q88.2783 777.193 84.8148 772.037 Q81.3773 766.855 81.3773 757.037 Q81.3773 747.194 84.8148 742.037 Q88.2783 736.855 94.8147 736.855 Z\" fill=\"#000000\" fill-rule=\"nonzero\" fill-opacity=\"1\" /><path clip-path=\"url(#clip070)\" d=\"M128.747 741.022 Q124.684 741.022 122.627 745.032 Q120.596 749.017 120.596 757.037 Q120.596 765.032 122.627 769.042 Q124.684 773.027 128.747 773.027 Q132.835 773.027 134.867 769.042 Q136.924 765.032 136.924 757.037 Q136.924 749.017 134.867 745.032 Q132.835 741.022 128.747 741.022 M128.747 736.855 Q135.283 736.855 138.721 742.037 Q142.184 747.194 142.184 757.037 Q142.184 766.855 138.721 772.037 Q135.283 777.193 128.747 777.193 Q122.21 777.193 118.747 772.037 Q115.309 766.855 115.309 757.037 Q115.309 747.194 118.747 742.037 Q122.21 736.855 128.747 736.855 Z\" fill=\"#000000\" fill-rule=\"nonzero\" fill-opacity=\"1\" /><path clip-path=\"url(#clip070)\" d=\"M162.679 741.022 Q158.616 741.022 156.559 745.032 Q154.528 749.017 154.528 757.037 Q154.528 765.032 156.559 769.042 Q158.616 773.027 162.679 773.027 Q166.767 773.027 168.799 769.042 Q170.856 765.032 170.856 757.037 Q170.856 749.017 168.799 745.032 Q166.767 741.022 162.679 741.022 M162.679 736.855 Q169.215 736.855 172.653 742.037 Q176.116 747.194 176.116 757.037 Q176.116 766.855 172.653 772.037 Q169.215 777.193 162.679 777.193 Q156.142 777.193 152.679 772.037 Q149.241 766.855 149.241 757.037 Q149.241 747.194 152.679 742.037 Q156.142 736.855 162.679 736.855 Z\" fill=\"#000000\" fill-rule=\"nonzero\" fill-opacity=\"1\" /><path clip-path=\"url(#clip070)\" d=\"M45.0493 588.122 Q40.9869 588.122 38.9296 592.132 Q36.8983 596.117 36.8983 604.138 Q36.8983 612.132 38.9296 616.143 Q40.9869 620.127 45.0493 620.127 Q49.1379 620.127 51.1691 616.143 Q53.2264 612.132 53.2264 604.138 Q53.2264 596.117 51.1691 592.132 Q49.1379 588.122 45.0493 588.122 M45.0493 583.955 Q51.5858 583.955 55.0232 589.138 Q58.4868 594.294 58.4868 604.138 Q58.4868 613.955 55.0232 619.138 Q51.5858 624.294 45.0493 624.294 Q38.5129 624.294 35.0494 619.138 Q31.6119 613.955 31.6119 604.138 Q31.6119 594.294 35.0494 589.138 Q38.5129 583.955 45.0493 583.955 Z\" fill=\"#000000\" fill-rule=\"nonzero\" fill-opacity=\"1\" /><path clip-path=\"url(#clip070)\" d=\"M67.7315 616.924 L73.2263 616.924 L73.2263 623.539 L67.7315 623.539 L67.7315 616.924 Z\" fill=\"#000000\" fill-rule=\"nonzero\" fill-opacity=\"1\" /><path clip-path=\"url(#clip070)\" d=\"M95.9345 588.122 Q91.872 588.122 89.8147 592.132 Q87.7835 596.117 87.7835 604.138 Q87.7835 612.132 89.8147 616.143 Q91.872 620.127 95.9345 620.127 Q100.023 620.127 102.054 616.143 Q104.112 612.132 104.112 604.138 Q104.112 596.117 102.054 592.132 Q100.023 588.122 95.9345 588.122 M95.9345 583.955 Q102.471 583.955 105.908 589.138 Q109.372 594.294 109.372 604.138 Q109.372 613.955 105.908 619.138 Q102.471 624.294 95.9345 624.294 Q89.3981 624.294 85.9345 619.138 Q82.4971 613.955 82.4971 604.138 Q82.4971 594.294 85.9345 589.138 Q89.3981 583.955 95.9345 583.955 Z\" fill=\"#000000\" fill-rule=\"nonzero\" fill-opacity=\"1\" /><path clip-path=\"url(#clip070)\" d=\"M123.148 619.111 L141.507 619.111 L141.507 623.539 L116.82 623.539 L116.82 619.111 Q119.815 616.013 124.971 610.804 Q130.153 605.57 131.481 604.059 Q134.007 601.221 134.997 599.268 Q136.012 597.289 136.012 595.388 Q136.012 592.289 133.825 590.336 Q131.663 588.382 128.174 588.382 Q125.7 588.382 122.94 589.242 Q120.205 590.101 117.08 591.846 L117.08 586.534 Q120.257 585.257 123.018 584.606 Q125.778 583.955 128.07 583.955 Q134.111 583.955 137.705 586.976 Q141.299 589.997 141.299 595.049 Q141.299 597.445 140.387 599.606 Q139.502 601.742 137.132 604.658 Q136.481 605.414 132.992 609.033 Q129.502 612.627 123.148 619.111 Z\" fill=\"#000000\" fill-rule=\"nonzero\" fill-opacity=\"1\" /><path clip-path=\"url(#clip070)\" d=\"M152.601 584.659 L173.252 584.659 L173.252 589.086 L157.419 589.086 L157.419 598.617 Q158.564 598.226 159.71 598.044 Q160.856 597.836 162.002 597.836 Q168.512 597.836 172.314 601.403 Q176.116 604.971 176.116 611.065 Q176.116 617.341 172.21 620.83 Q168.304 624.294 161.195 624.294 Q158.747 624.294 156.195 623.877 Q153.669 623.46 150.96 622.627 L150.96 617.341 Q153.304 618.617 155.804 619.242 Q158.304 619.867 161.09 619.867 Q165.596 619.867 168.226 617.497 Q170.856 615.127 170.856 611.065 Q170.856 607.002 168.226 604.632 Q165.596 602.263 161.09 602.263 Q158.981 602.263 156.872 602.731 Q154.788 603.2 152.601 604.19 L152.601 584.659 Z\" fill=\"#000000\" fill-rule=\"nonzero\" fill-opacity=\"1\" /><path clip-path=\"url(#clip070)\" d=\"M43.9296 435.222 Q39.8671 435.222 37.8098 439.233 Q35.7786 443.217 35.7786 451.238 Q35.7786 459.233 37.8098 463.243 Q39.8671 467.227 43.9296 467.227 Q48.0181 467.227 50.0493 463.243 Q52.1066 459.233 52.1066 451.238 Q52.1066 443.217 50.0493 439.233 Q48.0181 435.222 43.9296 435.222 M43.9296 431.056 Q50.466 431.056 53.9035 436.238 Q57.367 441.394 57.367 451.238 Q57.367 461.056 53.9035 466.238 Q50.466 471.394 43.9296 471.394 Q37.3931 471.394 33.9296 466.238 Q30.4921 461.056 30.4921 451.238 Q30.4921 441.394 33.9296 436.238 Q37.3931 431.056 43.9296 431.056 Z\" fill=\"#000000\" fill-rule=\"nonzero\" fill-opacity=\"1\" /><path clip-path=\"url(#clip070)\" d=\"M66.6117 464.024 L72.1065 464.024 L72.1065 470.639 L66.6117 470.639 L66.6117 464.024 Z\" fill=\"#000000\" fill-rule=\"nonzero\" fill-opacity=\"1\" /><path clip-path=\"url(#clip070)\" d=\"M94.8147 435.222 Q90.7522 435.222 88.6949 439.233 Q86.6637 443.217 86.6637 451.238 Q86.6637 459.233 88.6949 463.243 Q90.7522 467.227 94.8147 467.227 Q98.9032 467.227 100.934 463.243 Q102.992 459.233 102.992 451.238 Q102.992 443.217 100.934 439.233 Q98.9032 435.222 94.8147 435.222 M94.8147 431.056 Q101.351 431.056 104.789 436.238 Q108.252 441.394 108.252 451.238 Q108.252 461.056 104.789 466.238 Q101.351 471.394 94.8147 471.394 Q88.2783 471.394 84.8148 466.238 Q81.3773 461.056 81.3773 451.238 Q81.3773 441.394 84.8148 436.238 Q88.2783 431.056 94.8147 431.056 Z\" fill=\"#000000\" fill-rule=\"nonzero\" fill-opacity=\"1\" /><path clip-path=\"url(#clip070)\" d=\"M117.549 431.759 L138.2 431.759 L138.2 436.186 L122.367 436.186 L122.367 445.717 Q123.512 445.326 124.658 445.144 Q125.804 444.936 126.95 444.936 Q133.46 444.936 137.262 448.504 Q141.064 452.071 141.064 458.165 Q141.064 464.441 137.158 467.931 Q133.252 471.394 126.143 471.394 Q123.695 471.394 121.143 470.977 Q118.617 470.561 115.908 469.727 L115.908 464.441 Q118.252 465.717 120.752 466.342 Q123.252 466.967 126.038 466.967 Q130.544 466.967 133.174 464.597 Q135.804 462.227 135.804 458.165 Q135.804 454.102 133.174 451.733 Q130.544 449.363 126.038 449.363 Q123.929 449.363 121.82 449.832 Q119.736 450.3 117.549 451.29 L117.549 431.759 Z\" fill=\"#000000\" fill-rule=\"nonzero\" fill-opacity=\"1\" /><path clip-path=\"url(#clip070)\" d=\"M162.679 435.222 Q158.616 435.222 156.559 439.233 Q154.528 443.217 154.528 451.238 Q154.528 459.233 156.559 463.243 Q158.616 467.227 162.679 467.227 Q166.767 467.227 168.799 463.243 Q170.856 459.233 170.856 451.238 Q170.856 443.217 168.799 439.233 Q166.767 435.222 162.679 435.222 M162.679 431.056 Q169.215 431.056 172.653 436.238 Q176.116 441.394 176.116 451.238 Q176.116 461.056 172.653 466.238 Q169.215 471.394 162.679 471.394 Q156.142 471.394 152.679 466.238 Q149.241 461.056 149.241 451.238 Q149.241 441.394 152.679 436.238 Q156.142 431.056 162.679 431.056 Z\" fill=\"#000000\" fill-rule=\"nonzero\" fill-opacity=\"1\" /><path clip-path=\"url(#clip070)\" d=\"M45.0493 282.323 Q40.9869 282.323 38.9296 286.333 Q36.8983 290.317 36.8983 298.338 Q36.8983 306.333 38.9296 310.343 Q40.9869 314.328 45.0493 314.328 Q49.1379 314.328 51.1691 310.343 Q53.2264 306.333 53.2264 298.338 Q53.2264 290.317 51.1691 286.333 Q49.1379 282.323 45.0493 282.323 M45.0493 278.156 Q51.5858 278.156 55.0232 283.338 Q58.4868 288.494 58.4868 298.338 Q58.4868 308.156 55.0232 313.338 Q51.5858 318.494 45.0493 318.494 Q38.5129 318.494 35.0494 313.338 Q31.6119 308.156 31.6119 298.338 Q31.6119 288.494 35.0494 283.338 Q38.5129 278.156 45.0493 278.156 Z\" fill=\"#000000\" fill-rule=\"nonzero\" fill-opacity=\"1\" /><path clip-path=\"url(#clip070)\" d=\"M67.7315 311.125 L73.2263 311.125 L73.2263 317.739 L67.7315 317.739 L67.7315 311.125 Z\" fill=\"#000000\" fill-rule=\"nonzero\" fill-opacity=\"1\" /><path clip-path=\"url(#clip070)\" d=\"M95.9345 282.323 Q91.872 282.323 89.8147 286.333 Q87.7835 290.317 87.7835 298.338 Q87.7835 306.333 89.8147 310.343 Q91.872 314.328 95.9345 314.328 Q100.023 314.328 102.054 310.343 Q104.112 306.333 104.112 298.338 Q104.112 290.317 102.054 286.333 Q100.023 282.323 95.9345 282.323 M95.9345 278.156 Q102.471 278.156 105.908 283.338 Q109.372 288.494 109.372 298.338 Q109.372 308.156 105.908 313.338 Q102.471 318.494 95.9345 318.494 Q89.3981 318.494 85.9345 313.338 Q82.4971 308.156 82.4971 298.338 Q82.4971 288.494 85.9345 283.338 Q89.3981 278.156 95.9345 278.156 Z\" fill=\"#000000\" fill-rule=\"nonzero\" fill-opacity=\"1\" /><path clip-path=\"url(#clip070)\" d=\"M117.289 278.859 L142.288 278.859 L142.288 281.099 L128.174 317.739 L122.679 317.739 L135.96 283.286 L117.289 283.286 L117.289 278.859 Z\" fill=\"#000000\" fill-rule=\"nonzero\" fill-opacity=\"1\" /><path clip-path=\"url(#clip070)\" d=\"M152.601 278.859 L173.252 278.859 L173.252 283.286 L157.419 283.286 L157.419 292.817 Q158.564 292.427 159.71 292.244 Q160.856 292.036 162.002 292.036 Q168.512 292.036 172.314 295.604 Q176.116 299.172 176.116 305.265 Q176.116 311.541 172.21 315.031 Q168.304 318.494 161.195 318.494 Q158.747 318.494 156.195 318.078 Q153.669 317.661 150.96 316.828 L150.96 311.541 Q153.304 312.817 155.804 313.442 Q158.304 314.067 161.09 314.067 Q165.596 314.067 168.226 311.697 Q170.856 309.328 170.856 305.265 Q170.856 301.203 168.226 298.833 Q165.596 296.463 161.09 296.463 Q158.981 296.463 156.872 296.932 Q154.788 297.401 152.601 298.39 L152.601 278.859 Z\" fill=\"#000000\" fill-rule=\"nonzero\" fill-opacity=\"1\" /><path clip-path=\"url(#clip070)\" d=\"M43.9296 129.423 Q39.8671 129.423 37.8098 133.433 Q35.7786 137.418 35.7786 145.438 Q35.7786 153.433 37.8098 157.444 Q39.8671 161.428 43.9296 161.428 Q48.0181 161.428 50.0493 157.444 Q52.1066 153.433 52.1066 145.438 Q52.1066 137.418 50.0493 133.433 Q48.0181 129.423 43.9296 129.423 M43.9296 125.256 Q50.466 125.256 53.9035 130.439 Q57.367 135.595 57.367 145.438 Q57.367 155.256 53.9035 160.438 Q50.466 165.595 43.9296 165.595 Q37.3931 165.595 33.9296 160.438 Q30.4921 155.256 30.4921 145.438 Q30.4921 135.595 33.9296 130.439 Q37.3931 125.256 43.9296 125.256 Z\" fill=\"#000000\" fill-rule=\"nonzero\" fill-opacity=\"1\" /><path clip-path=\"url(#clip070)\" d=\"M66.6117 158.225 L72.1065 158.225 L72.1065 164.839 L66.6117 164.839 L66.6117 158.225 Z\" fill=\"#000000\" fill-rule=\"nonzero\" fill-opacity=\"1\" /><path clip-path=\"url(#clip070)\" d=\"M84.4762 160.412 L93.0699 160.412 L93.0699 130.751 L83.721 132.626 L83.721 127.834 L93.0178 125.959 L98.2782 125.959 L98.2782 160.412 L106.872 160.412 L106.872 164.839 L84.4762 164.839 L84.4762 160.412 Z\" fill=\"#000000\" fill-rule=\"nonzero\" fill-opacity=\"1\" /><path clip-path=\"url(#clip070)\" d=\"M128.747 129.423 Q124.684 129.423 122.627 133.433 Q120.596 137.418 120.596 145.438 Q120.596 153.433 122.627 157.444 Q124.684 161.428 128.747 161.428 Q132.835 161.428 134.867 157.444 Q136.924 153.433 136.924 145.438 Q136.924 137.418 134.867 133.433 Q132.835 129.423 128.747 129.423 M128.747 125.256 Q135.283 125.256 138.721 130.439 Q142.184 135.595 142.184 145.438 Q142.184 155.256 138.721 160.438 Q135.283 165.595 128.747 165.595 Q122.21 165.595 118.747 160.438 Q115.309 155.256 115.309 145.438 Q115.309 135.595 118.747 130.439 Q122.21 125.256 128.747 125.256 Z\" fill=\"#000000\" fill-rule=\"nonzero\" fill-opacity=\"1\" /><path clip-path=\"url(#clip070)\" d=\"M162.679 129.423 Q158.616 129.423 156.559 133.433 Q154.528 137.418 154.528 145.438 Q154.528 153.433 156.559 157.444 Q158.616 161.428 162.679 161.428 Q166.767 161.428 168.799 157.444 Q170.856 153.433 170.856 145.438 Q170.856 137.418 168.799 133.433 Q166.767 129.423 162.679 129.423 M162.679 125.256 Q169.215 125.256 172.653 130.439 Q176.116 135.595 176.116 145.438 Q176.116 155.256 172.653 160.438 Q169.215 165.595 162.679 165.595 Q156.142 165.595 152.679 160.438 Q149.241 155.256 149.241 145.438 Q149.241 135.595 152.679 130.439 Q156.142 125.256 162.679 125.256 Z\" fill=\"#000000\" fill-rule=\"nonzero\" fill-opacity=\"1\" /><path clip-path=\"url(#clip070)\" d=\"M350.203 34.744 Q352.272 35.4443 354.213 37.7359 Q356.187 40.0276 358.16 44.038 L364.685 57.024 L357.778 57.024 L351.699 44.8337 Q349.343 40.0594 347.115 38.4998 Q344.919 36.9402 341.1 36.9402 L334.098 36.9402 L334.098 57.024 L327.668 57.024 L327.668 9.504 L342.182 9.504 Q350.33 9.504 354.34 12.9097 Q358.351 16.3153 358.351 23.1903 Q358.351 27.6781 356.25 30.6381 Q354.181 33.5982 350.203 34.744 M334.098 14.7875 L334.098 31.6567 L342.182 31.6567 Q346.829 31.6567 349.184 29.5241 Q351.571 27.3598 351.571 23.1903 Q351.571 19.0207 349.184 16.92 Q346.829 14.7875 342.182 14.7875 L334.098 14.7875 Z\" fill=\"#000000\" fill-rule=\"nonzero\" fill-opacity=\"1\" /><path clip-path=\"url(#clip070)\" d=\"M400.269 37.7359 L400.269 40.6005 L373.342 40.6005 Q373.724 46.6479 376.971 49.8308 Q380.249 52.9818 386.074 52.9818 Q389.447 52.9818 392.598 52.1542 Q395.781 51.3267 398.9 49.6716 L398.9 55.2098 Q395.749 56.5466 392.439 57.2468 Q389.129 57.947 385.723 57.947 Q377.193 57.947 372.196 52.9818 Q367.231 48.0165 367.231 39.5501 Q367.231 30.7973 371.942 25.6729 Q376.684 20.5167 384.705 20.5167 Q391.898 20.5167 396.068 25.1636 Q400.269 29.7788 400.269 37.7359 M394.413 36.0172 Q394.349 31.2111 391.707 28.3465 Q389.097 25.4819 384.769 25.4819 Q379.867 25.4819 376.907 28.251 Q373.979 31.0201 373.533 36.049 L394.413 36.0172 Z\" fill=\"#000000\" fill-rule=\"nonzero\" fill-opacity=\"1\" /><path clip-path=\"url(#clip070)\" d=\"M409.881 7.4988 L415.738 7.4988 L415.738 57.024 L409.881 57.024 L409.881 7.4988 Z\" fill=\"#000000\" fill-rule=\"nonzero\" fill-opacity=\"1\" /><path clip-path=\"url(#clip070)\" d=\"M444.192 39.1045 Q437.095 39.1045 434.357 40.7278 Q431.62 42.351 431.62 46.266 Q431.62 49.3852 433.657 51.2312 Q435.726 53.0454 439.259 53.0454 Q444.129 53.0454 447.057 49.608 Q450.017 46.1386 450.017 40.4095 L450.017 39.1045 L444.192 39.1045 M455.873 36.6856 L455.873 57.024 L450.017 57.024 L450.017 51.6131 Q448.012 54.8597 445.02 56.4193 Q442.028 57.947 437.699 57.947 Q432.225 57.947 428.978 54.8915 Q425.764 51.8041 425.764 46.6479 Q425.764 40.6323 429.774 37.5768 Q433.816 34.5212 441.805 34.5212 L450.017 34.5212 L450.017 33.9483 Q450.017 29.9061 447.343 27.7099 Q444.702 25.4819 439.896 25.4819 Q436.84 25.4819 433.944 26.214 Q431.047 26.946 428.374 28.4101 L428.374 22.9993 Q431.588 21.758 434.612 21.1532 Q437.636 20.5167 440.5 20.5167 Q448.235 20.5167 452.054 24.5271 Q455.873 28.5375 455.873 36.6856 Z\" fill=\"#000000\" fill-rule=\"nonzero\" fill-opacity=\"1\" /><path clip-path=\"url(#clip070)\" d=\"M473.729 11.2546 L473.729 21.376 L485.792 21.376 L485.792 25.9275 L473.729 25.9275 L473.729 45.2793 Q473.729 49.6398 474.907 50.8811 Q476.116 52.1224 479.777 52.1224 L485.792 52.1224 L485.792 57.024 L479.777 57.024 Q472.997 57.024 470.419 54.5095 Q467.841 51.9633 467.841 45.2793 L467.841 25.9275 L463.544 25.9275 L463.544 21.376 L467.841 21.376 L467.841 11.2546 L473.729 11.2546 Z\" fill=\"#000000\" fill-rule=\"nonzero\" fill-opacity=\"1\" /><path clip-path=\"url(#clip070)\" d=\"M493.495 21.376 L499.351 21.376 L499.351 57.024 L493.495 57.024 L493.495 21.376 M493.495 7.4988 L499.351 7.4988 L499.351 14.9149 L493.495 14.9149 L493.495 7.4988 Z\" fill=\"#000000\" fill-rule=\"nonzero\" fill-opacity=\"1\" /><path clip-path=\"url(#clip070)\" d=\"M507.404 21.376 L513.61 21.376 L524.75 51.2949 L535.89 21.376 L542.097 21.376 L528.729 57.024 L520.772 57.024 L507.404 21.376 Z\" fill=\"#000000\" fill-rule=\"nonzero\" fill-opacity=\"1\" /><path clip-path=\"url(#clip070)\" d=\"M580.673 37.7359 L580.673 40.6005 L553.746 40.6005 Q554.128 46.6479 557.375 49.8308 Q560.653 52.9818 566.478 52.9818 Q569.851 52.9818 573.002 52.1542 Q576.185 51.3267 579.305 49.6716 L579.305 55.2098 Q576.154 56.5466 572.843 57.2468 Q569.533 57.947 566.128 57.947 Q557.597 57.947 552.6 52.9818 Q547.635 48.0165 547.635 39.5501 Q547.635 30.7973 552.346 25.6729 Q557.088 20.5167 565.109 20.5167 Q572.302 20.5167 576.472 25.1636 Q580.673 29.7788 580.673 37.7359 M574.817 36.0172 Q574.753 31.2111 572.111 28.3465 Q569.501 25.4819 565.173 25.4819 Q560.271 25.4819 557.311 28.251 Q554.383 31.0201 553.937 36.049 L574.817 36.0172 Z\" fill=\"#000000\" fill-rule=\"nonzero\" fill-opacity=\"1\" /><path clip-path=\"url(#clip070)\" d=\"M641.497 37.7359 L641.497 40.6005 L614.571 40.6005 Q614.952 46.6479 618.199 49.8308 Q621.477 52.9818 627.302 52.9818 Q630.676 52.9818 633.827 52.1542 Q637.01 51.3267 640.129 49.6716 L640.129 55.2098 Q636.978 56.5466 633.668 57.2468 Q630.357 57.947 626.952 57.947 Q618.422 57.947 613.425 52.9818 Q608.459 48.0165 608.459 39.5501 Q608.459 30.7973 613.17 25.6729 Q617.913 20.5167 625.933 20.5167 Q633.127 20.5167 637.296 25.1636 Q641.497 29.7788 641.497 37.7359 M635.641 36.0172 Q635.577 31.2111 632.936 28.3465 Q630.326 25.4819 625.997 25.4819 Q621.095 25.4819 618.135 28.251 Q615.207 31.0201 614.762 36.049 L635.641 36.0172 Z\" fill=\"#000000\" fill-rule=\"nonzero\" fill-opacity=\"1\" /><path clip-path=\"url(#clip070)\" d=\"M671.766 26.8506 Q670.78 26.2776 669.602 26.023 Q668.456 25.7366 667.056 25.7366 Q662.091 25.7366 659.417 28.9831 Q656.775 32.1977 656.775 38.2452 L656.775 57.024 L650.887 57.024 L650.887 21.376 L656.775 21.376 L656.775 26.9142 Q658.621 23.6677 661.581 22.1081 Q664.541 20.5167 668.775 20.5167 Q669.379 20.5167 670.111 20.6122 Q670.843 20.6758 671.735 20.835 L671.766 26.8506 Z\" fill=\"#000000\" fill-rule=\"nonzero\" fill-opacity=\"1\" /><path clip-path=\"url(#clip070)\" d=\"M697.42 26.8506 Q696.434 26.2776 695.256 26.023 Q694.11 25.7366 692.71 25.7366 Q687.744 25.7366 685.071 28.9831 Q682.429 32.1977 682.429 38.2452 L682.429 57.024 L676.541 57.024 L676.541 21.376 L682.429 21.376 L682.429 26.9142 Q684.275 23.6677 687.235 22.1081 Q690.195 20.5167 694.428 20.5167 Q695.033 20.5167 695.765 20.6122 Q696.497 20.6758 697.388 20.835 L697.42 26.8506 Z\" fill=\"#000000\" fill-rule=\"nonzero\" fill-opacity=\"1\" /><path clip-path=\"url(#clip070)\" d=\"M715.944 25.4819 Q711.234 25.4819 708.497 29.174 Q705.759 32.8343 705.759 39.2318 Q705.759 45.6294 708.465 49.3215 Q711.202 52.9818 715.944 52.9818 Q720.623 52.9818 723.36 49.2897 Q726.098 45.5976 726.098 39.2318 Q726.098 32.898 723.36 29.2059 Q720.623 25.4819 715.944 25.4819 M715.944 20.5167 Q723.583 20.5167 727.944 25.4819 Q732.304 30.4472 732.304 39.2318 Q732.304 47.9847 727.944 52.9818 Q723.583 57.947 715.944 57.947 Q708.274 57.947 703.913 52.9818 Q699.585 47.9847 699.585 39.2318 Q699.585 30.4472 703.913 25.4819 Q708.274 20.5167 715.944 20.5167 Z\" fill=\"#000000\" fill-rule=\"nonzero\" fill-opacity=\"1\" /><path clip-path=\"url(#clip070)\" d=\"M762.669 26.8506 Q761.682 26.2776 760.504 26.023 Q759.359 25.7366 757.958 25.7366 Q752.993 25.7366 750.319 28.9831 Q747.677 32.1977 747.677 38.2452 L747.677 57.024 L741.789 57.024 L741.789 21.376 L747.677 21.376 L747.677 26.9142 Q749.524 23.6677 752.484 22.1081 Q755.444 20.5167 759.677 20.5167 Q760.282 20.5167 761.014 20.6122 Q761.746 20.6758 762.637 20.835 L762.669 26.8506 Z\" fill=\"#000000\" fill-rule=\"nonzero\" fill-opacity=\"1\" /><polyline clip-path=\"url(#clip072)\" style=\"stroke:#ff0000; stroke-linecap:round; stroke-linejoin:round; stroke-width:8; stroke-opacity:0.7; fill:none\" points=\"252.195,756.505 317.3,756.262 382.405,754.73 447.511,754.626 512.616,749.414 577.721,756.061 642.826,737.826 707.932,743.488 773.037,747.43 838.142,751.388 \"/>\n",
       "<path clip-path=\"url(#clip072)\" d=\"M252.195 768.505 L243.711 764.989 L240.195 756.505 L243.711 748.021 L252.195 744.505 L260.679 748.021 L264.195 756.505 L260.679 764.989 Z\" fill=\"#ff0000\" fill-rule=\"evenodd\" fill-opacity=\"0.7\" stroke=\"none\"/>\n",
       "<path clip-path=\"url(#clip072)\" d=\"M317.3 768.262 L308.816 764.746 L305.3 756.262 L308.816 747.778 L317.3 744.262 L325.784 747.778 L329.3 756.262 L325.784 764.746 Z\" fill=\"#ff0000\" fill-rule=\"evenodd\" fill-opacity=\"0.7\" stroke=\"none\"/>\n",
       "<path clip-path=\"url(#clip072)\" d=\"M382.405 766.73 L373.921 763.214 L370.405 754.73 L373.921 746.246 L382.405 742.73 L390.889 746.246 L394.405 754.73 L390.889 763.214 Z\" fill=\"#ff0000\" fill-rule=\"evenodd\" fill-opacity=\"0.7\" stroke=\"none\"/>\n",
       "<path clip-path=\"url(#clip072)\" d=\"M447.511 766.626 L439.027 763.11 L435.511 754.626 L439.027 746.142 L447.511 742.626 L455.995 746.142 L459.511 754.626 L455.995 763.11 Z\" fill=\"#ff0000\" fill-rule=\"evenodd\" fill-opacity=\"0.7\" stroke=\"none\"/>\n",
       "<path clip-path=\"url(#clip072)\" d=\"M512.616 761.414 L504.132 757.898 L500.616 749.414 L504.132 740.93 L512.616 737.414 L521.1 740.93 L524.616 749.414 L521.1 757.898 Z\" fill=\"#ff0000\" fill-rule=\"evenodd\" fill-opacity=\"0.7\" stroke=\"none\"/>\n",
       "<path clip-path=\"url(#clip072)\" d=\"M577.721 768.061 L569.237 764.545 L565.721 756.061 L569.237 747.577 L577.721 744.061 L586.205 747.577 L589.721 756.061 L586.205 764.545 Z\" fill=\"#ff0000\" fill-rule=\"evenodd\" fill-opacity=\"0.7\" stroke=\"none\"/>\n",
       "<path clip-path=\"url(#clip072)\" d=\"M642.826 749.826 L634.342 746.31 L630.826 737.826 L634.342 729.342 L642.826 725.826 L651.31 729.342 L654.826 737.826 L651.31 746.31 Z\" fill=\"#ff0000\" fill-rule=\"evenodd\" fill-opacity=\"0.7\" stroke=\"none\"/>\n",
       "<path clip-path=\"url(#clip072)\" d=\"M707.932 755.488 L699.448 751.972 L695.932 743.488 L699.448 735.004 L707.932 731.488 L716.416 735.004 L719.932 743.488 L716.416 751.972 Z\" fill=\"#ff0000\" fill-rule=\"evenodd\" fill-opacity=\"0.7\" stroke=\"none\"/>\n",
       "<path clip-path=\"url(#clip072)\" d=\"M773.037 759.43 L764.553 755.914 L761.037 747.43 L764.553 738.946 L773.037 735.43 L781.521 738.946 L785.037 747.43 L781.521 755.914 Z\" fill=\"#ff0000\" fill-rule=\"evenodd\" fill-opacity=\"0.7\" stroke=\"none\"/>\n",
       "<path clip-path=\"url(#clip072)\" d=\"M838.142 763.388 L829.658 759.872 L826.142 751.388 L829.658 742.904 L838.142 739.388 L846.626 742.904 L850.142 751.388 L846.626 759.872 Z\" fill=\"#ff0000\" fill-rule=\"evenodd\" fill-opacity=\"0.7\" stroke=\"none\"/>\n",
       "<polyline clip-path=\"url(#clip072)\" style=\"stroke:#008000; stroke-linecap:round; stroke-linejoin:round; stroke-width:8; stroke-opacity:0.7; fill:none\" points=\"252.195,756.762 317.3,756.646 382.405,753.025 447.511,748.978 512.616,744.975 577.721,744.173 642.826,492.246 707.932,467.644 773.037,432.91 838.142,149.013 \"/>\n",
       "<path clip-path=\"url(#clip072)\" d=\"M240.195 744.762 L240.195 768.762 L264.195 768.762 L264.195 744.762 L240.195 744.762 Z\" fill=\"#008000\" fill-rule=\"evenodd\" fill-opacity=\"0.7\" stroke=\"none\"/>\n",
       "<path clip-path=\"url(#clip072)\" d=\"M305.3 744.646 L305.3 768.646 L329.3 768.646 L329.3 744.646 L305.3 744.646 Z\" fill=\"#008000\" fill-rule=\"evenodd\" fill-opacity=\"0.7\" stroke=\"none\"/>\n",
       "<path clip-path=\"url(#clip072)\" d=\"M370.405 741.025 L370.405 765.025 L394.405 765.025 L394.405 741.025 L370.405 741.025 Z\" fill=\"#008000\" fill-rule=\"evenodd\" fill-opacity=\"0.7\" stroke=\"none\"/>\n",
       "<path clip-path=\"url(#clip072)\" d=\"M435.511 736.978 L435.511 760.978 L459.511 760.978 L459.511 736.978 L435.511 736.978 Z\" fill=\"#008000\" fill-rule=\"evenodd\" fill-opacity=\"0.7\" stroke=\"none\"/>\n",
       "<path clip-path=\"url(#clip072)\" d=\"M500.616 732.975 L500.616 756.975 L524.616 756.975 L524.616 732.975 L500.616 732.975 Z\" fill=\"#008000\" fill-rule=\"evenodd\" fill-opacity=\"0.7\" stroke=\"none\"/>\n",
       "<path clip-path=\"url(#clip072)\" d=\"M565.721 732.173 L565.721 756.173 L589.721 756.173 L589.721 732.173 L565.721 732.173 Z\" fill=\"#008000\" fill-rule=\"evenodd\" fill-opacity=\"0.7\" stroke=\"none\"/>\n",
       "<path clip-path=\"url(#clip072)\" d=\"M630.826 480.246 L630.826 504.246 L654.826 504.246 L654.826 480.246 L630.826 480.246 Z\" fill=\"#008000\" fill-rule=\"evenodd\" fill-opacity=\"0.7\" stroke=\"none\"/>\n",
       "<path clip-path=\"url(#clip072)\" d=\"M695.932 455.644 L695.932 479.644 L719.932 479.644 L719.932 455.644 L695.932 455.644 Z\" fill=\"#008000\" fill-rule=\"evenodd\" fill-opacity=\"0.7\" stroke=\"none\"/>\n",
       "<path clip-path=\"url(#clip072)\" d=\"M761.037 420.91 L761.037 444.91 L785.037 444.91 L785.037 420.91 L761.037 420.91 Z\" fill=\"#008000\" fill-rule=\"evenodd\" fill-opacity=\"0.7\" stroke=\"none\"/>\n",
       "<path clip-path=\"url(#clip072)\" d=\"M826.142 137.013 L826.142 161.013 L850.142 161.013 L850.142 137.013 L826.142 137.013 Z\" fill=\"#008000\" fill-rule=\"evenodd\" fill-opacity=\"0.7\" stroke=\"none\"/>\n",
       "<path clip-path=\"url(#clip070)\" d=\"M716.476 133.896 L716.476 148.505 L723.09 148.505 Q726.762 148.505 728.767 146.604 Q730.772 144.703 730.772 141.187 Q730.772 137.698 728.767 135.797 Q726.762 133.896 723.09 133.896 L716.476 133.896 M711.215 129.573 L723.09 129.573 Q729.627 129.573 732.96 132.542 Q736.319 135.484 736.319 141.187 Q736.319 146.943 732.96 149.885 Q729.627 152.828 723.09 152.828 L716.476 152.828 L716.476 168.453 L711.215 168.453 L711.215 129.573 Z\" fill=\"#008000\" fill-rule=\"nonzero\" fill-opacity=\"1\" /><path clip-path=\"url(#clip070)\" d=\"M766.684 130.849 L766.684 135.979 Q763.689 134.547 761.033 133.844 Q758.376 133.141 755.903 133.141 Q751.606 133.141 749.262 134.807 Q746.944 136.474 746.944 139.547 Q746.944 142.125 748.481 143.453 Q750.043 144.755 754.366 145.562 L757.543 146.213 Q763.429 147.333 766.215 150.172 Q769.027 152.984 769.027 157.724 Q769.027 163.375 765.225 166.291 Q761.449 169.208 754.132 169.208 Q751.371 169.208 748.246 168.583 Q745.147 167.958 741.814 166.734 L741.814 161.317 Q745.017 163.114 748.09 164.026 Q751.163 164.937 754.132 164.937 Q758.637 164.937 761.085 163.166 Q763.533 161.396 763.533 158.114 Q763.533 155.25 761.762 153.635 Q760.017 152.021 756.007 151.213 L752.804 150.588 Q746.918 149.416 744.288 146.916 Q741.658 144.416 741.658 139.963 Q741.658 134.807 745.278 131.838 Q748.923 128.87 755.304 128.87 Q758.038 128.87 760.876 129.364 Q763.715 129.859 766.684 130.849 Z\" fill=\"#008000\" fill-rule=\"nonzero\" fill-opacity=\"1\" /><path clip-path=\"url(#clip070)\" d=\"M777.231 129.573 L782.491 129.573 L782.491 168.453 L777.231 168.453 L777.231 129.573 Z\" fill=\"#008000\" fill-rule=\"nonzero\" fill-opacity=\"1\" /><path clip-path=\"url(#clip070)\" d=\"M816.267 130.849 L816.267 135.979 Q813.272 134.547 810.616 133.844 Q807.96 133.141 805.486 133.141 Q801.189 133.141 798.845 134.807 Q796.527 136.474 796.527 139.547 Q796.527 142.125 798.064 143.453 Q799.626 144.755 803.949 145.562 L807.126 146.213 Q813.012 147.333 815.798 150.172 Q818.611 152.984 818.611 157.724 Q818.611 163.375 814.808 166.291 Q811.032 169.208 803.715 169.208 Q800.954 169.208 797.829 168.583 Q794.73 167.958 791.397 166.734 L791.397 161.317 Q794.6 163.114 797.673 164.026 Q800.746 164.937 803.715 164.937 Q808.22 164.937 810.668 163.166 Q813.116 161.396 813.116 158.114 Q813.116 155.25 811.345 153.635 Q809.6 152.021 805.59 151.213 L802.387 150.588 Q796.501 149.416 793.871 146.916 Q791.241 144.416 791.241 139.963 Q791.241 134.807 794.861 131.838 Q798.506 128.87 804.887 128.87 Q807.621 128.87 810.46 129.364 Q813.298 129.859 816.267 130.849 Z\" fill=\"#008000\" fill-rule=\"nonzero\" fill-opacity=\"1\" /><path clip-path=\"url(#clip070)\" d=\"M807.817 683.773 L807.817 688.903 Q804.822 687.47 802.166 686.767 Q799.509 686.064 797.036 686.064 Q792.739 686.064 790.395 687.731 Q788.077 689.397 788.077 692.47 Q788.077 695.049 789.614 696.377 Q791.176 697.679 795.499 698.486 L798.676 699.137 Q804.562 700.257 807.348 703.095 Q810.16 705.908 810.16 710.647 Q810.16 716.298 806.358 719.215 Q802.582 722.132 795.265 722.132 Q792.504 722.132 789.379 721.507 Q786.28 720.882 782.947 719.658 L782.947 714.241 Q786.15 716.038 789.223 716.949 Q792.296 717.861 795.265 717.861 Q799.77 717.861 802.218 716.09 Q804.666 714.319 804.666 711.038 Q804.666 708.173 802.895 706.559 Q801.15 704.944 797.14 704.137 L793.937 703.512 Q788.051 702.34 785.421 699.84 Q782.791 697.34 782.791 692.887 Q782.791 687.731 786.411 684.762 Q790.056 681.793 796.437 681.793 Q799.171 681.793 802.009 682.288 Q804.848 682.783 807.817 683.773 Z\" fill=\"#ff0000\" fill-rule=\"nonzero\" fill-opacity=\"1\" /><path clip-path=\"url(#clip070)\" d=\"M818.364 682.496 L826.202 682.496 L836.124 708.955 L846.098 682.496 L853.936 682.496 L853.936 721.376 L848.806 721.376 L848.806 687.236 L838.78 713.903 L833.494 713.903 L823.468 687.236 L823.468 721.376 L818.364 721.376 L818.364 682.496 Z\" fill=\"#ff0000\" fill-rule=\"nonzero\" fill-opacity=\"1\" /><path clip-path=\"url(#clip070)\" d=\"M893.493 685.491 L893.493 691.038 Q890.837 688.564 887.816 687.34 Q884.822 686.116 881.436 686.116 Q874.769 686.116 871.228 690.205 Q867.686 694.267 867.686 701.976 Q867.686 709.658 871.228 713.746 Q874.769 717.809 881.436 717.809 Q884.822 717.809 887.816 716.585 Q890.837 715.361 893.493 712.887 L893.493 718.382 Q890.733 720.257 887.634 721.194 Q884.561 722.132 881.124 722.132 Q872.296 722.132 867.217 716.741 Q862.139 711.324 862.139 701.976 Q862.139 692.601 867.217 687.21 Q872.296 681.793 881.124 681.793 Q884.613 681.793 887.686 682.731 Q890.785 683.642 893.493 685.491 Z\" fill=\"#ff0000\" fill-rule=\"nonzero\" fill-opacity=\"1\" /><path clip-path=\"url(#clip070)\" d=\"M1068.6 339.149 L1689.71 339.149 L1689.71 88.2143 L1068.6 88.2143  Z\" fill=\"#ffffff\" fill-rule=\"evenodd\" fill-opacity=\"1\"/>\n",
       "<defs>\n",
       "  <clipPath id=\"clip073\">\n",
       "    <rect x=\"1068\" y=\"88\" width=\"622\" height=\"252\"/>\n",
       "  </clipPath>\n",
       "</defs>\n",
       "<polyline clip-path=\"url(#clip073)\" style=\"stroke:#000000; stroke-linecap:round; stroke-linejoin:round; stroke-width:2; stroke-opacity:0.1; fill:none\" points=\"1086.18,339.149 1086.18,88.2143 \"/>\n",
       "<polyline clip-path=\"url(#clip073)\" style=\"stroke:#000000; stroke-linecap:round; stroke-linejoin:round; stroke-width:2; stroke-opacity:0.1; fill:none\" points=\"1151.29,339.149 1151.29,88.2143 \"/>\n",
       "<polyline clip-path=\"url(#clip073)\" style=\"stroke:#000000; stroke-linecap:round; stroke-linejoin:round; stroke-width:2; stroke-opacity:0.1; fill:none\" points=\"1216.39,339.149 1216.39,88.2143 \"/>\n",
       "<polyline clip-path=\"url(#clip073)\" style=\"stroke:#000000; stroke-linecap:round; stroke-linejoin:round; stroke-width:2; stroke-opacity:0.1; fill:none\" points=\"1281.5,339.149 1281.5,88.2143 \"/>\n",
       "<polyline clip-path=\"url(#clip073)\" style=\"stroke:#000000; stroke-linecap:round; stroke-linejoin:round; stroke-width:2; stroke-opacity:0.1; fill:none\" points=\"1346.6,339.149 1346.6,88.2143 \"/>\n",
       "<polyline clip-path=\"url(#clip073)\" style=\"stroke:#000000; stroke-linecap:round; stroke-linejoin:round; stroke-width:2; stroke-opacity:0.1; fill:none\" points=\"1411.71,339.149 1411.71,88.2143 \"/>\n",
       "<polyline clip-path=\"url(#clip073)\" style=\"stroke:#000000; stroke-linecap:round; stroke-linejoin:round; stroke-width:2; stroke-opacity:0.1; fill:none\" points=\"1476.81,339.149 1476.81,88.2143 \"/>\n",
       "<polyline clip-path=\"url(#clip073)\" style=\"stroke:#000000; stroke-linecap:round; stroke-linejoin:round; stroke-width:2; stroke-opacity:0.1; fill:none\" points=\"1541.92,339.149 1541.92,88.2143 \"/>\n",
       "<polyline clip-path=\"url(#clip073)\" style=\"stroke:#000000; stroke-linecap:round; stroke-linejoin:round; stroke-width:2; stroke-opacity:0.1; fill:none\" points=\"1607.02,339.149 1607.02,88.2143 \"/>\n",
       "<polyline clip-path=\"url(#clip073)\" style=\"stroke:#000000; stroke-linecap:round; stroke-linejoin:round; stroke-width:2; stroke-opacity:0.1; fill:none\" points=\"1672.13,339.149 1672.13,88.2143 \"/>\n",
       "<polyline clip-path=\"url(#clip073)\" style=\"stroke:#000000; stroke-linecap:round; stroke-linejoin:round; stroke-width:2; stroke-opacity:0.1; fill:none\" points=\"1068.6,339.149 1689.71,339.149 \"/>\n",
       "<polyline clip-path=\"url(#clip073)\" style=\"stroke:#000000; stroke-linecap:round; stroke-linejoin:round; stroke-width:2; stroke-opacity:0.1; fill:none\" points=\"1068.6,281.804 1689.71,281.804 \"/>\n",
       "<polyline clip-path=\"url(#clip073)\" style=\"stroke:#000000; stroke-linecap:round; stroke-linejoin:round; stroke-width:2; stroke-opacity:0.1; fill:none\" points=\"1068.6,224.46 1689.71,224.46 \"/>\n",
       "<polyline clip-path=\"url(#clip073)\" style=\"stroke:#000000; stroke-linecap:round; stroke-linejoin:round; stroke-width:2; stroke-opacity:0.1; fill:none\" points=\"1068.6,167.115 1689.71,167.115 \"/>\n",
       "<polyline clip-path=\"url(#clip073)\" style=\"stroke:#000000; stroke-linecap:round; stroke-linejoin:round; stroke-width:2; stroke-opacity:0.1; fill:none\" points=\"1068.6,109.77 1689.71,109.77 \"/>\n",
       "<polyline clip-path=\"url(#clip070)\" style=\"stroke:#000000; stroke-linecap:round; stroke-linejoin:round; stroke-width:4; stroke-opacity:1; fill:none\" points=\"1068.6,339.149 1689.71,339.149 \"/>\n",
       "<polyline clip-path=\"url(#clip070)\" style=\"stroke:#000000; stroke-linecap:round; stroke-linejoin:round; stroke-width:4; stroke-opacity:1; fill:none\" points=\"1086.18,339.149 1086.18,358.047 \"/>\n",
       "<polyline clip-path=\"url(#clip070)\" style=\"stroke:#000000; stroke-linecap:round; stroke-linejoin:round; stroke-width:4; stroke-opacity:1; fill:none\" points=\"1151.29,339.149 1151.29,358.047 \"/>\n",
       "<polyline clip-path=\"url(#clip070)\" style=\"stroke:#000000; stroke-linecap:round; stroke-linejoin:round; stroke-width:4; stroke-opacity:1; fill:none\" points=\"1216.39,339.149 1216.39,358.047 \"/>\n",
       "<polyline clip-path=\"url(#clip070)\" style=\"stroke:#000000; stroke-linecap:round; stroke-linejoin:round; stroke-width:4; stroke-opacity:1; fill:none\" points=\"1281.5,339.149 1281.5,358.047 \"/>\n",
       "<polyline clip-path=\"url(#clip070)\" style=\"stroke:#000000; stroke-linecap:round; stroke-linejoin:round; stroke-width:4; stroke-opacity:1; fill:none\" points=\"1346.6,339.149 1346.6,358.047 \"/>\n",
       "<polyline clip-path=\"url(#clip070)\" style=\"stroke:#000000; stroke-linecap:round; stroke-linejoin:round; stroke-width:4; stroke-opacity:1; fill:none\" points=\"1411.71,339.149 1411.71,358.047 \"/>\n",
       "<polyline clip-path=\"url(#clip070)\" style=\"stroke:#000000; stroke-linecap:round; stroke-linejoin:round; stroke-width:4; stroke-opacity:1; fill:none\" points=\"1476.81,339.149 1476.81,358.047 \"/>\n",
       "<polyline clip-path=\"url(#clip070)\" style=\"stroke:#000000; stroke-linecap:round; stroke-linejoin:round; stroke-width:4; stroke-opacity:1; fill:none\" points=\"1541.92,339.149 1541.92,358.047 \"/>\n",
       "<polyline clip-path=\"url(#clip070)\" style=\"stroke:#000000; stroke-linecap:round; stroke-linejoin:round; stroke-width:4; stroke-opacity:1; fill:none\" points=\"1607.02,339.149 1607.02,358.047 \"/>\n",
       "<polyline clip-path=\"url(#clip070)\" style=\"stroke:#000000; stroke-linecap:round; stroke-linejoin:round; stroke-width:4; stroke-opacity:1; fill:none\" points=\"1672.13,339.149 1672.13,358.047 \"/>\n",
       "<path clip-path=\"url(#clip070)\" d=\"M1075.36 414.522 L1083.96 414.522 L1083.96 384.861 L1074.61 386.736 L1074.61 381.944 L1083.9 380.069 L1089.16 380.069 L1089.16 414.522 L1097.76 414.522 L1097.76 418.949 L1075.36 418.949 L1075.36 414.522 Z\" fill=\"#000000\" fill-rule=\"nonzero\" fill-opacity=\"1\" /><path clip-path=\"url(#clip070)\" d=\"M1145.27 414.522 L1163.63 414.522 L1163.63 418.949 L1138.94 418.949 L1138.94 414.522 Q1141.94 411.423 1147.1 406.215 Q1152.28 400.98 1153.61 399.47 Q1156.13 396.632 1157.12 394.678 Q1158.14 392.699 1158.14 390.798 Q1158.14 387.699 1155.95 385.746 Q1153.79 383.793 1150.3 383.793 Q1147.82 383.793 1145.06 384.652 Q1142.33 385.512 1139.2 387.257 L1139.2 381.944 Q1142.38 380.668 1145.14 380.017 Q1147.9 379.366 1150.19 379.366 Q1156.24 379.366 1159.83 382.387 Q1163.42 385.408 1163.42 390.46 Q1163.42 392.856 1162.51 395.017 Q1161.63 397.152 1159.26 400.069 Q1158.61 400.824 1155.12 404.444 Q1151.63 408.038 1145.27 414.522 Z\" fill=\"#000000\" fill-rule=\"nonzero\" fill-opacity=\"1\" /><path clip-path=\"url(#clip070)\" d=\"M1221.17 397.986 Q1224.95 398.793 1227.06 401.345 Q1229.19 403.897 1229.19 407.647 Q1229.19 413.402 1225.23 416.553 Q1221.28 419.704 1213.98 419.704 Q1211.54 419.704 1208.93 419.21 Q1206.35 418.741 1203.59 417.777 L1203.59 412.699 Q1205.78 413.975 1208.39 414.626 Q1210.99 415.277 1213.83 415.277 Q1218.78 415.277 1221.35 413.324 Q1223.96 411.371 1223.96 407.647 Q1223.96 404.21 1221.54 402.283 Q1219.14 400.329 1214.84 400.329 L1210.31 400.329 L1210.31 396.007 L1215.05 396.007 Q1218.93 396.007 1220.99 394.47 Q1223.05 392.908 1223.05 389.991 Q1223.05 386.996 1220.91 385.408 Q1218.8 383.793 1214.84 383.793 Q1212.68 383.793 1210.21 384.262 Q1207.73 384.731 1204.77 385.72 L1204.77 381.033 Q1207.76 380.199 1210.36 379.783 Q1212.99 379.366 1215.31 379.366 Q1221.3 379.366 1224.79 382.1 Q1228.28 384.809 1228.28 389.444 Q1228.28 392.673 1226.43 394.913 Q1224.58 397.126 1221.17 397.986 Z\" fill=\"#000000\" fill-rule=\"nonzero\" fill-opacity=\"1\" /><path clip-path=\"url(#clip070)\" d=\"M1284.88 384.652 L1271.6 405.408 L1284.88 405.408 L1284.88 384.652 M1283.5 380.069 L1290.12 380.069 L1290.12 405.408 L1295.66 405.408 L1295.66 409.783 L1290.12 409.783 L1290.12 418.949 L1284.88 418.949 L1284.88 409.783 L1267.33 409.783 L1267.33 404.704 L1283.5 380.069 Z\" fill=\"#000000\" fill-rule=\"nonzero\" fill-opacity=\"1\" /><path clip-path=\"url(#clip070)\" d=\"M1335.67 380.069 L1356.32 380.069 L1356.32 384.496 L1340.48 384.496 L1340.48 394.027 Q1341.63 393.637 1342.78 393.454 Q1343.92 393.246 1345.07 393.246 Q1351.58 393.246 1355.38 396.814 Q1359.18 400.382 1359.18 406.475 Q1359.18 412.751 1355.28 416.241 Q1351.37 419.704 1344.26 419.704 Q1341.81 419.704 1339.26 419.288 Q1336.73 418.871 1334.03 418.038 L1334.03 412.751 Q1336.37 414.027 1338.87 414.652 Q1341.37 415.277 1344.16 415.277 Q1348.66 415.277 1351.29 412.907 Q1353.92 410.538 1353.92 406.475 Q1353.92 402.413 1351.29 400.043 Q1348.66 397.673 1344.16 397.673 Q1342.05 397.673 1339.94 398.142 Q1337.85 398.611 1335.67 399.6 L1335.67 380.069 Z\" fill=\"#000000\" fill-rule=\"nonzero\" fill-opacity=\"1\" /><path clip-path=\"url(#clip070)\" d=\"M1412.16 397.413 Q1408.62 397.413 1406.54 399.835 Q1404.48 402.257 1404.48 406.475 Q1404.48 410.668 1406.54 413.116 Q1408.62 415.538 1412.16 415.538 Q1415.71 415.538 1417.76 413.116 Q1419.85 410.668 1419.85 406.475 Q1419.85 402.257 1417.76 399.835 Q1415.71 397.413 1412.16 397.413 M1422.61 380.929 L1422.61 385.72 Q1420.63 384.783 1418.6 384.288 Q1416.59 383.793 1414.61 383.793 Q1409.4 383.793 1406.64 387.309 Q1403.91 390.824 1403.52 397.934 Q1405.06 395.668 1407.37 394.47 Q1409.69 393.246 1412.48 393.246 Q1418.34 393.246 1421.72 396.814 Q1425.13 400.355 1425.13 406.475 Q1425.13 412.465 1421.59 416.085 Q1418.05 419.704 1412.16 419.704 Q1405.42 419.704 1401.85 414.548 Q1398.28 409.366 1398.28 399.548 Q1398.28 390.329 1402.66 384.861 Q1407.03 379.366 1414.4 379.366 Q1416.38 379.366 1418.39 379.757 Q1420.42 380.147 1422.61 380.929 Z\" fill=\"#000000\" fill-rule=\"nonzero\" fill-opacity=\"1\" /><path clip-path=\"url(#clip070)\" d=\"M1464.31 380.069 L1489.31 380.069 L1489.31 382.309 L1475.2 418.949 L1469.7 418.949 L1482.99 384.496 L1464.31 384.496 L1464.31 380.069 Z\" fill=\"#000000\" fill-rule=\"nonzero\" fill-opacity=\"1\" /><path clip-path=\"url(#clip070)\" d=\"M1541.92 400.486 Q1538.17 400.486 1536.01 402.491 Q1533.87 404.496 1533.87 408.012 Q1533.87 411.527 1536.01 413.532 Q1538.17 415.538 1541.92 415.538 Q1545.67 415.538 1547.83 413.532 Q1549.99 411.501 1549.99 408.012 Q1549.99 404.496 1547.83 402.491 Q1545.7 400.486 1541.92 400.486 M1536.66 398.246 Q1533.27 397.413 1531.37 395.095 Q1529.5 392.777 1529.5 389.444 Q1529.5 384.783 1532.8 382.074 Q1536.14 379.366 1541.92 379.366 Q1547.73 379.366 1551.03 382.074 Q1554.34 384.783 1554.34 389.444 Q1554.34 392.777 1552.44 395.095 Q1550.57 397.413 1547.21 398.246 Q1551.01 399.132 1553.12 401.71 Q1555.25 404.288 1555.25 408.012 Q1555.25 413.663 1551.79 416.684 Q1548.35 419.704 1541.92 419.704 Q1535.49 419.704 1532.02 416.684 Q1528.59 413.663 1528.59 408.012 Q1528.59 404.288 1530.72 401.71 Q1532.86 399.132 1536.66 398.246 M1534.73 389.939 Q1534.73 392.96 1536.61 394.652 Q1538.51 396.345 1541.92 396.345 Q1545.3 396.345 1547.21 394.652 Q1549.13 392.96 1549.13 389.939 Q1549.13 386.918 1547.21 385.225 Q1545.3 383.533 1541.92 383.533 Q1538.51 383.533 1536.61 385.225 Q1534.73 386.918 1534.73 389.939 Z\" fill=\"#000000\" fill-rule=\"nonzero\" fill-opacity=\"1\" /><path clip-path=\"url(#clip070)\" d=\"M1596.11 418.142 L1596.11 413.35 Q1598.09 414.288 1600.12 414.782 Q1602.15 415.277 1604.11 415.277 Q1609.32 415.277 1612.05 411.788 Q1614.81 408.272 1615.2 401.137 Q1613.69 403.376 1611.37 404.574 Q1609.06 405.772 1606.24 405.772 Q1600.41 405.772 1597 402.257 Q1593.61 398.715 1593.61 392.595 Q1593.61 386.606 1597.15 382.986 Q1600.7 379.366 1606.58 379.366 Q1613.33 379.366 1616.87 384.548 Q1620.44 389.704 1620.44 399.548 Q1620.44 408.741 1616.06 414.236 Q1611.71 419.704 1604.34 419.704 Q1602.36 419.704 1600.33 419.314 Q1598.3 418.923 1596.11 418.142 M1606.58 401.658 Q1610.12 401.658 1612.18 399.236 Q1614.26 396.814 1614.26 392.595 Q1614.26 388.402 1612.18 385.981 Q1610.12 383.533 1606.58 383.533 Q1603.04 383.533 1600.96 385.981 Q1598.9 388.402 1598.9 392.595 Q1598.9 396.814 1600.96 399.236 Q1603.04 401.658 1606.58 401.658 Z\" fill=\"#000000\" fill-rule=\"nonzero\" fill-opacity=\"1\" /><path clip-path=\"url(#clip070)\" d=\"M1643.65 414.522 L1652.25 414.522 L1652.25 384.861 L1642.9 386.736 L1642.9 381.944 L1652.19 380.069 L1657.46 380.069 L1657.46 414.522 L1666.05 414.522 L1666.05 418.949 L1643.65 418.949 L1643.65 414.522 Z\" fill=\"#000000\" fill-rule=\"nonzero\" fill-opacity=\"1\" /><path clip-path=\"url(#clip070)\" d=\"M1687.92 383.533 Q1683.86 383.533 1681.8 387.543 Q1679.77 391.527 1679.77 399.548 Q1679.77 407.543 1681.8 411.553 Q1683.86 415.538 1687.92 415.538 Q1692.01 415.538 1694.04 411.553 Q1696.1 407.543 1696.1 399.548 Q1696.1 391.527 1694.04 387.543 Q1692.01 383.533 1687.92 383.533 M1687.92 379.366 Q1694.46 379.366 1697.9 384.548 Q1701.36 389.704 1701.36 399.548 Q1701.36 409.366 1697.9 414.548 Q1694.46 419.704 1687.92 419.704 Q1681.39 419.704 1677.92 414.548 Q1674.49 409.366 1674.49 399.548 Q1674.49 389.704 1677.92 384.548 Q1681.39 379.366 1687.92 379.366 Z\" fill=\"#000000\" fill-rule=\"nonzero\" fill-opacity=\"1\" /><polyline clip-path=\"url(#clip070)\" style=\"stroke:#000000; stroke-linecap:round; stroke-linejoin:round; stroke-width:4; stroke-opacity:1; fill:none\" points=\"1068.6,339.149 1068.6,88.2143 \"/>\n",
       "<polyline clip-path=\"url(#clip070)\" style=\"stroke:#000000; stroke-linecap:round; stroke-linejoin:round; stroke-width:4; stroke-opacity:1; fill:none\" points=\"1068.6,339.149 1049.71,339.149 \"/>\n",
       "<polyline clip-path=\"url(#clip070)\" style=\"stroke:#000000; stroke-linecap:round; stroke-linejoin:round; stroke-width:4; stroke-opacity:1; fill:none\" points=\"1068.6,281.804 1049.71,281.804 \"/>\n",
       "<polyline clip-path=\"url(#clip070)\" style=\"stroke:#000000; stroke-linecap:round; stroke-linejoin:round; stroke-width:4; stroke-opacity:1; fill:none\" points=\"1068.6,224.46 1049.71,224.46 \"/>\n",
       "<polyline clip-path=\"url(#clip070)\" style=\"stroke:#000000; stroke-linecap:round; stroke-linejoin:round; stroke-width:4; stroke-opacity:1; fill:none\" points=\"1068.6,167.115 1049.71,167.115 \"/>\n",
       "<polyline clip-path=\"url(#clip070)\" style=\"stroke:#000000; stroke-linecap:round; stroke-linejoin:round; stroke-width:4; stroke-opacity:1; fill:none\" points=\"1068.6,109.77 1049.71,109.77 \"/>\n",
       "<path clip-path=\"url(#clip070)\" d=\"M996.667 323.173 Q992.604 323.173 990.547 327.183 Q988.516 331.167 988.516 339.188 Q988.516 347.183 990.547 351.193 Q992.604 355.178 996.667 355.178 Q1000.76 355.178 1002.79 351.193 Q1004.84 347.183 1004.84 339.188 Q1004.84 331.167 1002.79 327.183 Q1000.76 323.173 996.667 323.173 M996.667 319.006 Q1003.2 319.006 1006.64 324.188 Q1010.1 329.344 1010.1 339.188 Q1010.1 349.006 1006.64 354.188 Q1003.2 359.344 996.667 359.344 Q990.13 359.344 986.667 354.188 Q983.229 349.006 983.229 339.188 Q983.229 329.344 986.667 324.188 Q990.13 319.006 996.667 319.006 Z\" fill=\"#000000\" fill-rule=\"nonzero\" fill-opacity=\"1\" /><path clip-path=\"url(#clip070)\" d=\"M986.589 262.364 L1007.24 262.364 L1007.24 266.791 L991.406 266.791 L991.406 276.323 Q992.552 275.932 993.698 275.75 Q994.844 275.541 995.99 275.541 Q1002.5 275.541 1006.3 279.109 Q1010.1 282.677 1010.1 288.77 Q1010.1 295.046 1006.2 298.536 Q1002.29 302 995.182 302 Q992.734 302 990.182 301.583 Q987.656 301.166 984.948 300.333 L984.948 295.046 Q987.292 296.323 989.792 296.948 Q992.292 297.573 995.078 297.573 Q999.583 297.573 1002.21 295.203 Q1004.84 292.833 1004.84 288.77 Q1004.84 284.708 1002.21 282.338 Q999.583 279.968 995.078 279.968 Q992.969 279.968 990.859 280.437 Q988.776 280.906 986.589 281.896 L986.589 262.364 Z\" fill=\"#000000\" fill-rule=\"nonzero\" fill-opacity=\"1\" /><path clip-path=\"url(#clip070)\" d=\"M952.396 239.473 L960.99 239.473 L960.99 209.811 L951.641 211.686 L951.641 206.895 L960.938 205.02 L966.198 205.02 L966.198 239.473 L974.792 239.473 L974.792 243.9 L952.396 243.9 L952.396 239.473 Z\" fill=\"#000000\" fill-rule=\"nonzero\" fill-opacity=\"1\" /><path clip-path=\"url(#clip070)\" d=\"M996.667 208.483 Q992.604 208.483 990.547 212.494 Q988.516 216.478 988.516 224.499 Q988.516 232.493 990.547 236.504 Q992.604 240.488 996.667 240.488 Q1000.76 240.488 1002.79 236.504 Q1004.84 232.493 1004.84 224.499 Q1004.84 216.478 1002.79 212.494 Q1000.76 208.483 996.667 208.483 M996.667 204.316 Q1003.2 204.316 1006.64 209.499 Q1010.1 214.655 1010.1 224.499 Q1010.1 234.316 1006.64 239.499 Q1003.2 244.655 996.667 244.655 Q990.13 244.655 986.667 239.499 Q983.229 234.316 983.229 224.499 Q983.229 214.655 986.667 209.499 Q990.13 204.316 996.667 204.316 Z\" fill=\"#000000\" fill-rule=\"nonzero\" fill-opacity=\"1\" /><path clip-path=\"url(#clip070)\" d=\"M953.516 182.128 L962.11 182.128 L962.11 152.466 L952.761 154.341 L952.761 149.55 L962.057 147.675 L967.318 147.675 L967.318 182.128 L975.912 182.128 L975.912 186.555 L953.516 186.555 L953.516 182.128 Z\" fill=\"#000000\" fill-rule=\"nonzero\" fill-opacity=\"1\" /><path clip-path=\"url(#clip070)\" d=\"M986.589 147.675 L1007.24 147.675 L1007.24 152.102 L991.406 152.102 L991.406 161.633 Q992.552 161.242 993.698 161.06 Q994.844 160.852 995.99 160.852 Q1002.5 160.852 1006.3 164.42 Q1010.1 167.987 1010.1 174.081 Q1010.1 180.357 1006.2 183.847 Q1002.29 187.31 995.182 187.31 Q992.734 187.31 990.182 186.893 Q987.656 186.477 984.948 185.643 L984.948 180.357 Q987.292 181.633 989.792 182.258 Q992.292 182.883 995.078 182.883 Q999.583 182.883 1002.21 180.513 Q1004.84 178.143 1004.84 174.081 Q1004.84 170.018 1002.21 167.649 Q999.583 165.279 995.078 165.279 Q992.969 165.279 990.859 165.748 Q988.776 166.216 986.589 167.206 L986.589 147.675 Z\" fill=\"#000000\" fill-rule=\"nonzero\" fill-opacity=\"1\" /><path clip-path=\"url(#clip070)\" d=\"M956.016 124.783 L974.375 124.783 L974.375 129.21 L949.688 129.21 L949.688 124.783 Q952.682 121.684 957.839 116.476 Q963.021 111.241 964.349 109.731 Q966.875 106.892 967.865 104.939 Q968.88 102.96 968.88 101.059 Q968.88 97.9602 966.693 96.0071 Q964.531 94.054 961.042 94.054 Q958.568 94.054 955.807 94.9134 Q953.073 95.7727 949.948 97.5175 L949.948 92.205 Q953.125 90.929 955.886 90.278 Q958.646 89.6269 960.938 89.6269 Q966.979 89.6269 970.573 92.6477 Q974.167 95.6686 974.167 100.721 Q974.167 103.116 973.255 105.278 Q972.37 107.413 970 110.33 Q969.349 111.085 965.859 114.705 Q962.37 118.299 956.016 124.783 Z\" fill=\"#000000\" fill-rule=\"nonzero\" fill-opacity=\"1\" /><path clip-path=\"url(#clip070)\" d=\"M996.667 93.7936 Q992.604 93.7936 990.547 97.804 Q988.516 101.788 988.516 109.809 Q988.516 117.804 990.547 121.814 Q992.604 125.799 996.667 125.799 Q1000.76 125.799 1002.79 121.814 Q1004.84 117.804 1004.84 109.809 Q1004.84 101.788 1002.79 97.804 Q1000.76 93.7936 996.667 93.7936 M996.667 89.6269 Q1003.2 89.6269 1006.64 94.8092 Q1010.1 99.9654 1010.1 109.809 Q1010.1 119.627 1006.64 124.809 Q1003.2 129.965 996.667 129.965 Q990.13 129.965 986.667 124.809 Q983.229 119.627 983.229 109.809 Q983.229 99.9654 986.667 94.8092 Q990.13 89.6269 996.667 89.6269 Z\" fill=\"#000000\" fill-rule=\"nonzero\" fill-opacity=\"1\" /><path clip-path=\"url(#clip070)\" d=\"M1163.95 34.744 Q1166.02 35.4443 1167.96 37.7359 Q1169.93 40.0276 1171.9 44.038 L1178.43 57.024 L1171.52 57.024 L1165.44 44.8337 Q1163.09 40.0594 1160.86 38.4998 Q1158.66 36.9402 1154.84 36.9402 L1147.84 36.9402 L1147.84 57.024 L1141.41 57.024 L1141.41 9.504 L1155.93 9.504 Q1164.07 9.504 1168.09 12.9097 Q1172.1 16.3153 1172.1 23.1903 Q1172.1 27.6781 1169.99 30.6381 Q1167.93 33.5982 1163.95 34.744 M1147.84 14.7875 L1147.84 31.6567 L1155.93 31.6567 Q1160.57 31.6567 1162.93 29.5241 Q1165.32 27.3598 1165.32 23.1903 Q1165.32 19.0207 1162.93 16.92 Q1160.57 14.7875 1155.93 14.7875 L1147.84 14.7875 Z\" fill=\"#000000\" fill-rule=\"nonzero\" fill-opacity=\"1\" /><path clip-path=\"url(#clip070)\" d=\"M1182.92 42.9558 L1182.92 21.376 L1188.77 21.376 L1188.77 42.733 Q1188.77 47.7937 1190.75 50.34 Q1192.72 52.8545 1196.67 52.8545 Q1201.41 52.8545 1204.15 49.8308 Q1206.92 46.807 1206.92 41.5872 L1206.92 21.376 L1212.77 21.376 L1212.77 57.024 L1206.92 57.024 L1206.92 51.5495 Q1204.78 54.796 1201.95 56.3874 Q1199.15 57.947 1195.43 57.947 Q1189.28 57.947 1186.1 54.1276 Q1182.92 50.3082 1182.92 42.9558 M1197.65 20.5167 L1197.65 20.5167 Z\" fill=\"#000000\" fill-rule=\"nonzero\" fill-opacity=\"1\" /><path clip-path=\"url(#clip070)\" d=\"M1254.47 35.5079 L1254.47 57.024 L1248.61 57.024 L1248.61 35.6989 Q1248.61 30.6381 1246.64 28.1237 Q1244.66 25.6092 1240.72 25.6092 Q1235.98 25.6092 1233.24 28.6329 Q1230.5 31.6567 1230.5 36.8765 L1230.5 57.024 L1224.61 57.024 L1224.61 21.376 L1230.5 21.376 L1230.5 26.9142 Q1232.6 23.6995 1235.43 22.1081 Q1238.3 20.5167 1242.02 20.5167 Q1248.17 20.5167 1251.32 24.3361 Q1254.47 28.1237 1254.47 35.5079 Z\" fill=\"#000000\" fill-rule=\"nonzero\" fill-opacity=\"1\" /><path clip-path=\"url(#clip070)\" d=\"M1271.94 11.2546 L1271.94 21.376 L1284 21.376 L1284 25.9275 L1271.94 25.9275 L1271.94 45.2793 Q1271.94 49.6398 1273.12 50.8811 Q1274.33 52.1224 1277.99 52.1224 L1284 52.1224 L1284 57.024 L1277.99 57.024 Q1271.21 57.024 1268.63 54.5095 Q1266.05 51.9633 1266.05 45.2793 L1266.05 25.9275 L1261.76 25.9275 L1261.76 21.376 L1266.05 21.376 L1266.05 11.2546 L1271.94 11.2546 Z\" fill=\"#000000\" fill-rule=\"nonzero\" fill-opacity=\"1\" /><path clip-path=\"url(#clip070)\" d=\"M1291.71 21.376 L1297.56 21.376 L1297.56 57.024 L1291.71 57.024 L1291.71 21.376 M1291.71 7.4988 L1297.56 7.4988 L1297.56 14.9149 L1291.71 14.9149 L1291.71 7.4988 Z\" fill=\"#000000\" fill-rule=\"nonzero\" fill-opacity=\"1\" /><path clip-path=\"url(#clip070)\" d=\"M1337.57 28.2192 Q1339.77 24.2724 1342.82 22.3946 Q1345.88 20.5167 1350.02 20.5167 Q1355.59 20.5167 1358.61 24.4316 Q1361.63 28.3147 1361.63 35.5079 L1361.63 57.024 L1355.75 57.024 L1355.75 35.6989 Q1355.75 30.5745 1353.93 28.0919 Q1352.12 25.6092 1348.39 25.6092 Q1343.84 25.6092 1341.2 28.6329 Q1338.56 31.6567 1338.56 36.8765 L1338.56 57.024 L1332.67 57.024 L1332.67 35.6989 Q1332.67 30.5427 1330.86 28.0919 Q1329.04 25.6092 1325.25 25.6092 Q1320.77 25.6092 1318.12 28.6648 Q1315.48 31.6885 1315.48 36.8765 L1315.48 57.024 L1309.59 57.024 L1309.59 21.376 L1315.48 21.376 L1315.48 26.9142 Q1317.49 23.6359 1320.29 22.0763 Q1323.09 20.5167 1326.94 20.5167 Q1330.82 20.5167 1333.53 22.49 Q1336.27 24.4634 1337.57 28.2192 Z\" fill=\"#000000\" fill-rule=\"nonzero\" fill-opacity=\"1\" /><path clip-path=\"url(#clip070)\" d=\"M1403.81 37.7359 L1403.81 40.6005 L1376.88 40.6005 Q1377.26 46.6479 1380.51 49.8308 Q1383.79 52.9818 1389.61 52.9818 Q1392.99 52.9818 1396.14 52.1542 Q1399.32 51.3267 1402.44 49.6716 L1402.44 55.2098 Q1399.29 56.5466 1395.98 57.2468 Q1392.67 57.947 1389.26 57.947 Q1380.73 57.947 1375.73 52.9818 Q1370.77 48.0165 1370.77 39.5501 Q1370.77 30.7973 1375.48 25.6729 Q1380.22 20.5167 1388.24 20.5167 Q1395.44 20.5167 1399.61 25.1636 Q1403.81 29.7788 1403.81 37.7359 M1397.95 36.0172 Q1397.89 31.2111 1395.25 28.3465 Q1392.64 25.4819 1388.31 25.4819 Q1383.41 25.4819 1380.45 28.251 Q1377.52 31.0201 1377.07 36.049 L1397.95 36.0172 Z\" fill=\"#000000\" fill-rule=\"nonzero\" fill-opacity=\"1\" /><path clip-path=\"url(#clip070)\" d=\"M1433.6 7.4988 L1447.09 7.4988 L1447.09 12.0503 L1439.46 12.0503 L1439.46 61.0662 L1447.09 61.0662 L1447.09 65.6177 L1433.6 65.6177 L1433.6 7.4988 Z\" fill=\"#000000\" fill-rule=\"nonzero\" fill-opacity=\"1\" /><path clip-path=\"url(#clip070)\" d=\"M1487.33 28.2192 Q1489.52 24.2724 1492.58 22.3946 Q1495.63 20.5167 1499.77 20.5167 Q1505.34 20.5167 1508.36 24.4316 Q1511.39 28.3147 1511.39 35.5079 L1511.39 57.024 L1505.5 57.024 L1505.5 35.6989 Q1505.5 30.5745 1503.69 28.0919 Q1501.87 25.6092 1498.15 25.6092 Q1493.6 25.6092 1490.95 28.6329 Q1488.31 31.6567 1488.31 36.8765 L1488.31 57.024 L1482.42 57.024 L1482.42 35.6989 Q1482.42 30.5427 1480.61 28.0919 Q1478.8 25.6092 1475.01 25.6092 Q1470.52 25.6092 1467.88 28.6648 Q1465.24 31.6885 1465.24 36.8765 L1465.24 57.024 L1459.35 57.024 L1459.35 21.376 L1465.24 21.376 L1465.24 26.9142 Q1467.24 23.6359 1470.04 22.0763 Q1472.84 20.5167 1476.69 20.5167 Q1480.58 20.5167 1483.28 22.49 Q1486.02 24.4634 1487.33 28.2192 Z\" fill=\"#000000\" fill-rule=\"nonzero\" fill-opacity=\"1\" /><path clip-path=\"url(#clip070)\" d=\"M1523.07 21.376 L1528.93 21.376 L1528.93 57.024 L1523.07 57.024 L1523.07 21.376 M1523.07 7.4988 L1528.93 7.4988 L1528.93 14.9149 L1523.07 14.9149 L1523.07 7.4988 Z\" fill=\"#000000\" fill-rule=\"nonzero\" fill-opacity=\"1\" /><path clip-path=\"url(#clip070)\" d=\"M1570.81 35.5079 L1570.81 57.024 L1564.96 57.024 L1564.96 35.6989 Q1564.96 30.6381 1562.98 28.1237 Q1561.01 25.6092 1557.06 25.6092 Q1552.32 25.6092 1549.58 28.6329 Q1546.84 31.6567 1546.84 36.8765 L1546.84 57.024 L1540.96 57.024 L1540.96 21.376 L1546.84 21.376 L1546.84 26.9142 Q1548.95 23.6995 1551.78 22.1081 Q1554.64 20.5167 1558.37 20.5167 Q1564.51 20.5167 1567.66 24.3361 Q1570.81 28.1237 1570.81 35.5079 Z\" fill=\"#000000\" fill-rule=\"nonzero\" fill-opacity=\"1\" /><path clip-path=\"url(#clip070)\" d=\"M1583.32 48.9396 L1590.04 48.9396 L1590.04 57.024 L1583.32 57.024 L1583.32 48.9396 Z\" fill=\"#000000\" fill-rule=\"nonzero\" fill-opacity=\"1\" /><path clip-path=\"url(#clip070)\" d=\"M1616.9 7.4988 L1616.9 65.6177 L1603.4 65.6177 L1603.4 61.0662 L1611.01 61.0662 L1611.01 12.0503 L1603.4 12.0503 L1603.4 7.4988 L1616.9 7.4988 Z\" fill=\"#000000\" fill-rule=\"nonzero\" fill-opacity=\"1\" /><polyline clip-path=\"url(#clip073)\" style=\"stroke:#009af9; stroke-linecap:round; stroke-linejoin:round; stroke-width:8; stroke-opacity:1; fill:none\" points=\"1086.18,199.013 1151.29,200.784 1216.39,197.574 1281.5,203.417 1346.6,172.729 1411.71,186.498 1476.81,160.092 1541.92,141.434 1607.02,130.037 1672.13,209.791 \"/>\n",
       "<polyline clip-path=\"url(#clip073)\" style=\"stroke:#e26f46; stroke-linecap:round; stroke-linejoin:round; stroke-width:8; stroke-opacity:1; fill:none\" points=\"1086.18,324.873 1151.29,324.887 1216.39,324.49 1281.5,324.382 1346.6,310.648 1411.71,296.599 1476.81,280.738 1541.92,268.309 1607.02,282.164 1672.13,256.309 \"/>\n",
       "<polyline clip-path=\"url(#clip073)\" style=\"stroke:#3da44d; stroke-linecap:round; stroke-linejoin:round; stroke-width:8; stroke-opacity:1; fill:none\" points=\"1086.18,338.797 1151.29,338.82 1216.39,338.796 1281.5,338.781 1346.6,338.79 1411.71,338.791 1476.81,338.792 1541.92,338.772 1607.02,338.791 1672.13,338.77 \"/>\n",
       "<path clip-path=\"url(#clip070)\" d=\"M1397.62 109.548 L1405.46 109.548 L1415.38 136.006 L1425.36 109.548 L1433.19 109.548 L1433.19 148.428 L1428.06 148.428 L1428.06 114.287 L1418.04 140.954 L1412.75 140.954 L1402.73 114.287 L1402.73 148.428 L1397.62 148.428 L1397.62 109.548 Z\" fill=\"#0000ff\" fill-rule=\"nonzero\" fill-opacity=\"1\" /><path clip-path=\"url(#clip070)\" d=\"M1472.75 112.543 L1472.75 118.089 Q1470.1 115.616 1467.07 114.392 Q1464.08 113.168 1460.69 113.168 Q1454.03 113.168 1450.49 117.256 Q1446.94 121.319 1446.94 129.027 Q1446.94 136.709 1450.49 140.798 Q1454.03 144.86 1460.69 144.86 Q1464.08 144.86 1467.07 143.636 Q1470.1 142.412 1472.75 139.938 L1472.75 145.433 Q1469.99 147.308 1466.89 148.246 Q1463.82 149.183 1460.38 149.183 Q1451.55 149.183 1446.48 143.792 Q1441.4 138.376 1441.4 129.027 Q1441.4 119.652 1446.48 114.261 Q1451.55 108.845 1460.38 108.845 Q1463.87 108.845 1466.94 109.782 Q1470.04 110.694 1472.75 112.543 Z\" fill=\"#0000ff\" fill-rule=\"nonzero\" fill-opacity=\"1\" /><path clip-path=\"url(#clip070)\" d=\"M1480.88 109.548 L1488.71 109.548 L1498.64 136.006 L1508.61 109.548 L1516.45 109.548 L1516.45 148.428 L1511.32 148.428 L1511.32 114.287 L1501.29 140.954 L1496.01 140.954 L1485.98 114.287 L1485.98 148.428 L1480.88 148.428 L1480.88 109.548 Z\" fill=\"#0000ff\" fill-rule=\"nonzero\" fill-opacity=\"1\" /><path clip-path=\"url(#clip070)\" d=\"M1556.01 112.543 L1556.01 118.089 Q1553.35 115.616 1550.33 114.392 Q1547.33 113.168 1543.95 113.168 Q1537.28 113.168 1533.74 117.256 Q1530.2 121.319 1530.2 129.027 Q1530.2 136.709 1533.74 140.798 Q1537.28 144.86 1543.95 144.86 Q1547.33 144.86 1550.33 143.636 Q1553.35 142.412 1556.01 139.938 L1556.01 145.433 Q1553.25 147.308 1550.15 148.246 Q1547.07 149.183 1543.64 149.183 Q1534.81 149.183 1529.73 143.792 Q1524.65 138.376 1524.65 129.027 Q1524.65 119.652 1529.73 114.261 Q1534.81 108.845 1543.64 108.845 Q1547.13 108.845 1550.2 109.782 Q1553.3 110.694 1556.01 112.543 Z\" fill=\"#0000ff\" fill-rule=\"nonzero\" fill-opacity=\"1\" /><path clip-path=\"url(#clip070)\" d=\"M1446.49 231.47 L1446.49 236.6 Q1443.49 235.168 1440.84 234.465 Q1438.18 233.762 1435.71 233.762 Q1431.41 233.762 1429.07 235.428 Q1426.75 237.095 1426.75 240.168 Q1426.75 242.746 1428.29 244.074 Q1429.85 245.376 1434.17 246.183 L1437.35 246.834 Q1443.23 247.954 1446.02 250.793 Q1448.83 253.605 1448.83 258.345 Q1448.83 263.996 1445.03 266.913 Q1441.25 269.829 1433.94 269.829 Q1431.18 269.829 1428.05 269.204 Q1424.95 268.579 1421.62 267.355 L1421.62 261.939 Q1424.82 263.735 1427.89 264.647 Q1430.97 265.558 1433.94 265.558 Q1438.44 265.558 1440.89 263.788 Q1443.34 262.017 1443.34 258.735 Q1443.34 255.871 1441.57 254.256 Q1439.82 252.642 1435.81 251.834 L1432.61 251.209 Q1426.72 250.038 1424.09 247.538 Q1421.46 245.038 1421.46 240.585 Q1421.46 235.428 1425.08 232.46 Q1428.73 229.491 1435.11 229.491 Q1437.84 229.491 1440.68 229.986 Q1443.52 230.48 1446.49 231.47 Z\" fill=\"#ff0000\" fill-rule=\"nonzero\" fill-opacity=\"1\" /><path clip-path=\"url(#clip070)\" d=\"M1457.04 230.194 L1464.87 230.194 L1474.8 256.652 L1484.77 230.194 L1492.61 230.194 L1492.61 269.074 L1487.48 269.074 L1487.48 234.934 L1477.45 261.6 L1472.17 261.6 L1462.14 234.934 L1462.14 269.074 L1457.04 269.074 L1457.04 230.194 Z\" fill=\"#ff0000\" fill-rule=\"nonzero\" fill-opacity=\"1\" /><path clip-path=\"url(#clip070)\" d=\"M1532.17 233.189 L1532.17 238.736 Q1529.51 236.262 1526.49 235.038 Q1523.49 233.814 1520.11 233.814 Q1513.44 233.814 1509.9 237.902 Q1506.36 241.965 1506.36 249.673 Q1506.36 257.355 1509.9 261.444 Q1513.44 265.506 1520.11 265.506 Q1523.49 265.506 1526.49 264.282 Q1529.51 263.058 1532.17 260.584 L1532.17 266.079 Q1529.4 267.954 1526.31 268.892 Q1523.23 269.829 1519.8 269.829 Q1510.97 269.829 1505.89 264.439 Q1500.81 259.022 1500.81 249.673 Q1500.81 240.298 1505.89 234.907 Q1510.97 229.491 1519.8 229.491 Q1523.29 229.491 1526.36 230.428 Q1529.46 231.34 1532.17 233.189 Z\" fill=\"#ff0000\" fill-rule=\"nonzero\" fill-opacity=\"1\" /><path clip-path=\"url(#clip070)\" d=\"M1428.38 292.571 L1428.38 307.18 L1434.99 307.18 Q1438.66 307.18 1440.67 305.279 Q1442.67 303.378 1442.67 299.863 Q1442.67 296.373 1440.67 294.472 Q1438.66 292.571 1434.99 292.571 L1428.38 292.571 M1423.12 288.248 L1434.99 288.248 Q1441.53 288.248 1444.86 291.217 Q1448.22 294.16 1448.22 299.863 Q1448.22 305.618 1444.86 308.561 Q1441.53 311.503 1434.99 311.503 L1428.38 311.503 L1428.38 327.128 L1423.12 327.128 L1423.12 288.248 Z\" fill=\"#008000\" fill-rule=\"nonzero\" fill-opacity=\"1\" /><path clip-path=\"url(#clip070)\" d=\"M1478.58 289.524 L1478.58 294.654 Q1475.59 293.222 1472.93 292.519 Q1470.28 291.816 1467.8 291.816 Q1463.51 291.816 1461.16 293.483 Q1458.85 295.149 1458.85 298.222 Q1458.85 300.8 1460.38 302.128 Q1461.94 303.43 1466.27 304.238 L1469.44 304.889 Q1475.33 306.009 1478.12 308.847 Q1480.93 311.66 1480.93 316.399 Q1480.93 322.05 1477.13 324.967 Q1473.35 327.883 1466.03 327.883 Q1463.27 327.883 1460.15 327.258 Q1457.05 326.633 1453.72 325.41 L1453.72 319.993 Q1456.92 321.79 1459.99 322.701 Q1463.06 323.613 1466.03 323.613 Q1470.54 323.613 1472.99 321.842 Q1475.43 320.071 1475.43 316.79 Q1475.43 313.925 1473.66 312.311 Q1471.92 310.696 1467.91 309.889 L1464.7 309.264 Q1458.82 308.092 1456.19 305.592 Q1453.56 303.092 1453.56 298.639 Q1453.56 293.483 1457.18 290.514 Q1460.82 287.545 1467.2 287.545 Q1469.94 287.545 1472.78 288.04 Q1475.62 288.535 1478.58 289.524 Z\" fill=\"#008000\" fill-rule=\"nonzero\" fill-opacity=\"1\" /><path clip-path=\"url(#clip070)\" d=\"M1489.13 288.248 L1494.39 288.248 L1494.39 327.128 L1489.13 327.128 L1489.13 288.248 Z\" fill=\"#008000\" fill-rule=\"nonzero\" fill-opacity=\"1\" /><path clip-path=\"url(#clip070)\" d=\"M1528.17 289.524 L1528.17 294.654 Q1525.17 293.222 1522.52 292.519 Q1519.86 291.816 1517.39 291.816 Q1513.09 291.816 1510.75 293.483 Q1508.43 295.149 1508.43 298.222 Q1508.43 300.8 1509.96 302.128 Q1511.53 303.43 1515.85 304.238 L1519.03 304.889 Q1524.91 306.009 1527.7 308.847 Q1530.51 311.66 1530.51 316.399 Q1530.51 322.05 1526.71 324.967 Q1522.93 327.883 1515.62 327.883 Q1512.86 327.883 1509.73 327.258 Q1506.63 326.633 1503.3 325.41 L1503.3 319.993 Q1506.5 321.79 1509.57 322.701 Q1512.65 323.613 1515.62 323.613 Q1520.12 323.613 1522.57 321.842 Q1525.02 320.071 1525.02 316.79 Q1525.02 313.925 1523.25 312.311 Q1521.5 310.696 1517.49 309.889 L1514.29 309.264 Q1508.4 308.092 1505.77 305.592 Q1503.14 303.092 1503.14 298.639 Q1503.14 293.483 1506.76 290.514 Q1510.41 287.545 1516.79 287.545 Q1519.52 287.545 1522.36 288.04 Q1525.2 288.535 1528.17 289.524 Z\" fill=\"#008000\" fill-rule=\"nonzero\" fill-opacity=\"1\" /><path clip-path=\"url(#clip070)\" d=\"M1068.6 756.998 L1689.71 756.998 L1689.71 551.688 L1068.6 551.688  Z\" fill=\"#ffffff\" fill-rule=\"evenodd\" fill-opacity=\"1\"/>\n",
       "<defs>\n",
       "  <clipPath id=\"clip074\">\n",
       "    <rect x=\"1068\" y=\"551\" width=\"622\" height=\"206\"/>\n",
       "  </clipPath>\n",
       "</defs>\n",
       "<polyline clip-path=\"url(#clip074)\" style=\"stroke:#000000; stroke-linecap:round; stroke-linejoin:round; stroke-width:2; stroke-opacity:0.1; fill:none\" points=\"1086.18,756.998 1086.18,551.688 \"/>\n",
       "<polyline clip-path=\"url(#clip074)\" style=\"stroke:#000000; stroke-linecap:round; stroke-linejoin:round; stroke-width:2; stroke-opacity:0.1; fill:none\" points=\"1151.29,756.998 1151.29,551.688 \"/>\n",
       "<polyline clip-path=\"url(#clip074)\" style=\"stroke:#000000; stroke-linecap:round; stroke-linejoin:round; stroke-width:2; stroke-opacity:0.1; fill:none\" points=\"1216.39,756.998 1216.39,551.688 \"/>\n",
       "<polyline clip-path=\"url(#clip074)\" style=\"stroke:#000000; stroke-linecap:round; stroke-linejoin:round; stroke-width:2; stroke-opacity:0.1; fill:none\" points=\"1281.5,756.998 1281.5,551.688 \"/>\n",
       "<polyline clip-path=\"url(#clip074)\" style=\"stroke:#000000; stroke-linecap:round; stroke-linejoin:round; stroke-width:2; stroke-opacity:0.1; fill:none\" points=\"1346.6,756.998 1346.6,551.688 \"/>\n",
       "<polyline clip-path=\"url(#clip074)\" style=\"stroke:#000000; stroke-linecap:round; stroke-linejoin:round; stroke-width:2; stroke-opacity:0.1; fill:none\" points=\"1411.71,756.998 1411.71,551.688 \"/>\n",
       "<polyline clip-path=\"url(#clip074)\" style=\"stroke:#000000; stroke-linecap:round; stroke-linejoin:round; stroke-width:2; stroke-opacity:0.1; fill:none\" points=\"1476.81,756.998 1476.81,551.688 \"/>\n",
       "<polyline clip-path=\"url(#clip074)\" style=\"stroke:#000000; stroke-linecap:round; stroke-linejoin:round; stroke-width:2; stroke-opacity:0.1; fill:none\" points=\"1541.92,756.998 1541.92,551.688 \"/>\n",
       "<polyline clip-path=\"url(#clip074)\" style=\"stroke:#000000; stroke-linecap:round; stroke-linejoin:round; stroke-width:2; stroke-opacity:0.1; fill:none\" points=\"1607.02,756.998 1607.02,551.688 \"/>\n",
       "<polyline clip-path=\"url(#clip074)\" style=\"stroke:#000000; stroke-linecap:round; stroke-linejoin:round; stroke-width:2; stroke-opacity:0.1; fill:none\" points=\"1672.13,756.998 1672.13,551.688 \"/>\n",
       "<polyline clip-path=\"url(#clip074)\" style=\"stroke:#000000; stroke-linecap:round; stroke-linejoin:round; stroke-width:2; stroke-opacity:0.1; fill:none\" points=\"1068.6,756.998 1689.71,756.998 \"/>\n",
       "<polyline clip-path=\"url(#clip074)\" style=\"stroke:#000000; stroke-linecap:round; stroke-linejoin:round; stroke-width:2; stroke-opacity:0.1; fill:none\" points=\"1068.6,695.297 1689.71,695.297 \"/>\n",
       "<polyline clip-path=\"url(#clip074)\" style=\"stroke:#000000; stroke-linecap:round; stroke-linejoin:round; stroke-width:2; stroke-opacity:0.1; fill:none\" points=\"1068.6,633.596 1689.71,633.596 \"/>\n",
       "<polyline clip-path=\"url(#clip074)\" style=\"stroke:#000000; stroke-linecap:round; stroke-linejoin:round; stroke-width:2; stroke-opacity:0.1; fill:none\" points=\"1068.6,571.895 1689.71,571.895 \"/>\n",
       "<polyline clip-path=\"url(#clip070)\" style=\"stroke:#000000; stroke-linecap:round; stroke-linejoin:round; stroke-width:4; stroke-opacity:1; fill:none\" points=\"1068.6,756.998 1689.71,756.998 \"/>\n",
       "<polyline clip-path=\"url(#clip070)\" style=\"stroke:#000000; stroke-linecap:round; stroke-linejoin:round; stroke-width:4; stroke-opacity:1; fill:none\" points=\"1086.18,756.998 1086.18,775.896 \"/>\n",
       "<polyline clip-path=\"url(#clip070)\" style=\"stroke:#000000; stroke-linecap:round; stroke-linejoin:round; stroke-width:4; stroke-opacity:1; fill:none\" points=\"1151.29,756.998 1151.29,775.896 \"/>\n",
       "<polyline clip-path=\"url(#clip070)\" style=\"stroke:#000000; stroke-linecap:round; stroke-linejoin:round; stroke-width:4; stroke-opacity:1; fill:none\" points=\"1216.39,756.998 1216.39,775.896 \"/>\n",
       "<polyline clip-path=\"url(#clip070)\" style=\"stroke:#000000; stroke-linecap:round; stroke-linejoin:round; stroke-width:4; stroke-opacity:1; fill:none\" points=\"1281.5,756.998 1281.5,775.896 \"/>\n",
       "<polyline clip-path=\"url(#clip070)\" style=\"stroke:#000000; stroke-linecap:round; stroke-linejoin:round; stroke-width:4; stroke-opacity:1; fill:none\" points=\"1346.6,756.998 1346.6,775.896 \"/>\n",
       "<polyline clip-path=\"url(#clip070)\" style=\"stroke:#000000; stroke-linecap:round; stroke-linejoin:round; stroke-width:4; stroke-opacity:1; fill:none\" points=\"1411.71,756.998 1411.71,775.896 \"/>\n",
       "<polyline clip-path=\"url(#clip070)\" style=\"stroke:#000000; stroke-linecap:round; stroke-linejoin:round; stroke-width:4; stroke-opacity:1; fill:none\" points=\"1476.81,756.998 1476.81,775.896 \"/>\n",
       "<polyline clip-path=\"url(#clip070)\" style=\"stroke:#000000; stroke-linecap:round; stroke-linejoin:round; stroke-width:4; stroke-opacity:1; fill:none\" points=\"1541.92,756.998 1541.92,775.896 \"/>\n",
       "<polyline clip-path=\"url(#clip070)\" style=\"stroke:#000000; stroke-linecap:round; stroke-linejoin:round; stroke-width:4; stroke-opacity:1; fill:none\" points=\"1607.02,756.998 1607.02,775.896 \"/>\n",
       "<polyline clip-path=\"url(#clip070)\" style=\"stroke:#000000; stroke-linecap:round; stroke-linejoin:round; stroke-width:4; stroke-opacity:1; fill:none\" points=\"1672.13,756.998 1672.13,775.896 \"/>\n",
       "<path clip-path=\"url(#clip070)\" d=\"M1075.36 832.371 L1083.96 832.371 L1083.96 802.71 L1074.61 804.585 L1074.61 799.793 L1083.9 797.918 L1089.16 797.918 L1089.16 832.371 L1097.76 832.371 L1097.76 836.798 L1075.36 836.798 L1075.36 832.371 Z\" fill=\"#000000\" fill-rule=\"nonzero\" fill-opacity=\"1\" /><path clip-path=\"url(#clip070)\" d=\"M1145.27 832.371 L1163.63 832.371 L1163.63 836.798 L1138.94 836.798 L1138.94 832.371 Q1141.94 829.272 1147.1 824.064 Q1152.28 818.83 1153.61 817.319 Q1156.13 814.481 1157.12 812.528 Q1158.14 810.548 1158.14 808.647 Q1158.14 805.548 1155.95 803.595 Q1153.79 801.642 1150.3 801.642 Q1147.82 801.642 1145.06 802.502 Q1142.33 803.361 1139.2 805.106 L1139.2 799.793 Q1142.38 798.517 1145.14 797.866 Q1147.9 797.215 1150.19 797.215 Q1156.24 797.215 1159.83 800.236 Q1163.42 803.257 1163.42 808.309 Q1163.42 810.705 1162.51 812.866 Q1161.63 815.001 1159.26 817.918 Q1158.61 818.673 1155.12 822.293 Q1151.63 825.887 1145.27 832.371 Z\" fill=\"#000000\" fill-rule=\"nonzero\" fill-opacity=\"1\" /><path clip-path=\"url(#clip070)\" d=\"M1221.17 815.835 Q1224.95 816.642 1227.06 819.194 Q1229.19 821.746 1229.19 825.496 Q1229.19 831.251 1225.23 834.402 Q1221.28 837.553 1213.98 837.553 Q1211.54 837.553 1208.93 837.059 Q1206.35 836.59 1203.59 835.626 L1203.59 830.548 Q1205.78 831.824 1208.39 832.475 Q1210.99 833.126 1213.83 833.126 Q1218.78 833.126 1221.35 831.173 Q1223.96 829.22 1223.96 825.496 Q1223.96 822.059 1221.54 820.132 Q1219.14 818.179 1214.84 818.179 L1210.31 818.179 L1210.31 813.856 L1215.05 813.856 Q1218.93 813.856 1220.99 812.319 Q1223.05 810.757 1223.05 807.84 Q1223.05 804.845 1220.91 803.257 Q1218.8 801.642 1214.84 801.642 Q1212.68 801.642 1210.21 802.111 Q1207.73 802.58 1204.77 803.569 L1204.77 798.882 Q1207.76 798.048 1210.36 797.632 Q1212.99 797.215 1215.31 797.215 Q1221.3 797.215 1224.79 799.949 Q1228.28 802.658 1228.28 807.293 Q1228.28 810.522 1226.43 812.762 Q1224.58 814.975 1221.17 815.835 Z\" fill=\"#000000\" fill-rule=\"nonzero\" fill-opacity=\"1\" /><path clip-path=\"url(#clip070)\" d=\"M1284.88 802.502 L1271.6 823.257 L1284.88 823.257 L1284.88 802.502 M1283.5 797.918 L1290.12 797.918 L1290.12 823.257 L1295.66 823.257 L1295.66 827.632 L1290.12 827.632 L1290.12 836.798 L1284.88 836.798 L1284.88 827.632 L1267.33 827.632 L1267.33 822.554 L1283.5 797.918 Z\" fill=\"#000000\" fill-rule=\"nonzero\" fill-opacity=\"1\" /><path clip-path=\"url(#clip070)\" d=\"M1335.67 797.918 L1356.32 797.918 L1356.32 802.345 L1340.48 802.345 L1340.48 811.876 Q1341.63 811.486 1342.78 811.304 Q1343.92 811.095 1345.07 811.095 Q1351.58 811.095 1355.38 814.663 Q1359.18 818.231 1359.18 824.324 Q1359.18 830.6 1355.28 834.09 Q1351.37 837.553 1344.26 837.553 Q1341.81 837.553 1339.26 837.137 Q1336.73 836.72 1334.03 835.887 L1334.03 830.6 Q1336.37 831.876 1338.87 832.501 Q1341.37 833.126 1344.16 833.126 Q1348.66 833.126 1351.29 830.757 Q1353.92 828.387 1353.92 824.324 Q1353.92 820.262 1351.29 817.892 Q1348.66 815.522 1344.16 815.522 Q1342.05 815.522 1339.94 815.991 Q1337.85 816.46 1335.67 817.449 L1335.67 797.918 Z\" fill=\"#000000\" fill-rule=\"nonzero\" fill-opacity=\"1\" /><path clip-path=\"url(#clip070)\" d=\"M1412.16 815.262 Q1408.62 815.262 1406.54 817.684 Q1404.48 820.106 1404.48 824.324 Q1404.48 828.517 1406.54 830.965 Q1408.62 833.387 1412.16 833.387 Q1415.71 833.387 1417.76 830.965 Q1419.85 828.517 1419.85 824.324 Q1419.85 820.106 1417.76 817.684 Q1415.71 815.262 1412.16 815.262 M1422.61 798.778 L1422.61 803.569 Q1420.63 802.632 1418.6 802.137 Q1416.59 801.642 1414.61 801.642 Q1409.4 801.642 1406.64 805.158 Q1403.91 808.673 1403.52 815.783 Q1405.06 813.517 1407.37 812.319 Q1409.69 811.095 1412.48 811.095 Q1418.34 811.095 1421.72 814.663 Q1425.13 818.205 1425.13 824.324 Q1425.13 830.314 1421.59 833.934 Q1418.05 837.553 1412.16 837.553 Q1405.42 837.553 1401.85 832.397 Q1398.28 827.215 1398.28 817.397 Q1398.28 808.179 1402.66 802.71 Q1407.03 797.215 1414.4 797.215 Q1416.38 797.215 1418.39 797.606 Q1420.42 797.996 1422.61 798.778 Z\" fill=\"#000000\" fill-rule=\"nonzero\" fill-opacity=\"1\" /><path clip-path=\"url(#clip070)\" d=\"M1464.31 797.918 L1489.31 797.918 L1489.31 800.158 L1475.2 836.798 L1469.7 836.798 L1482.99 802.345 L1464.31 802.345 L1464.31 797.918 Z\" fill=\"#000000\" fill-rule=\"nonzero\" fill-opacity=\"1\" /><path clip-path=\"url(#clip070)\" d=\"M1541.92 818.335 Q1538.17 818.335 1536.01 820.34 Q1533.87 822.345 1533.87 825.861 Q1533.87 829.376 1536.01 831.382 Q1538.17 833.387 1541.92 833.387 Q1545.67 833.387 1547.83 831.382 Q1549.99 829.35 1549.99 825.861 Q1549.99 822.345 1547.83 820.34 Q1545.7 818.335 1541.92 818.335 M1536.66 816.095 Q1533.27 815.262 1531.37 812.944 Q1529.5 810.627 1529.5 807.293 Q1529.5 802.632 1532.8 799.923 Q1536.14 797.215 1541.92 797.215 Q1547.73 797.215 1551.03 799.923 Q1554.34 802.632 1554.34 807.293 Q1554.34 810.627 1552.44 812.944 Q1550.57 815.262 1547.21 816.095 Q1551.01 816.981 1553.12 819.559 Q1555.25 822.137 1555.25 825.861 Q1555.25 831.512 1551.79 834.533 Q1548.35 837.553 1541.92 837.553 Q1535.49 837.553 1532.02 834.533 Q1528.59 831.512 1528.59 825.861 Q1528.59 822.137 1530.72 819.559 Q1532.86 816.981 1536.66 816.095 M1534.73 807.788 Q1534.73 810.809 1536.61 812.501 Q1538.51 814.194 1541.92 814.194 Q1545.3 814.194 1547.21 812.501 Q1549.13 810.809 1549.13 807.788 Q1549.13 804.767 1547.21 803.074 Q1545.3 801.382 1541.92 801.382 Q1538.51 801.382 1536.61 803.074 Q1534.73 804.767 1534.73 807.788 Z\" fill=\"#000000\" fill-rule=\"nonzero\" fill-opacity=\"1\" /><path clip-path=\"url(#clip070)\" d=\"M1596.11 835.991 L1596.11 831.199 Q1598.09 832.137 1600.12 832.632 Q1602.15 833.126 1604.11 833.126 Q1609.32 833.126 1612.05 829.637 Q1614.81 826.121 1615.2 818.986 Q1613.69 821.225 1611.37 822.423 Q1609.06 823.621 1606.24 823.621 Q1600.41 823.621 1597 820.106 Q1593.61 816.564 1593.61 810.444 Q1593.61 804.455 1597.15 800.835 Q1600.7 797.215 1606.58 797.215 Q1613.33 797.215 1616.87 802.397 Q1620.44 807.554 1620.44 817.397 Q1620.44 826.59 1616.06 832.085 Q1611.71 837.553 1604.34 837.553 Q1602.36 837.553 1600.33 837.163 Q1598.3 836.772 1596.11 835.991 M1606.58 819.507 Q1610.12 819.507 1612.18 817.085 Q1614.26 814.663 1614.26 810.444 Q1614.26 806.252 1612.18 803.83 Q1610.12 801.382 1606.58 801.382 Q1603.04 801.382 1600.96 803.83 Q1598.9 806.252 1598.9 810.444 Q1598.9 814.663 1600.96 817.085 Q1603.04 819.507 1606.58 819.507 Z\" fill=\"#000000\" fill-rule=\"nonzero\" fill-opacity=\"1\" /><path clip-path=\"url(#clip070)\" d=\"M1643.65 832.371 L1652.25 832.371 L1652.25 802.71 L1642.9 804.585 L1642.9 799.793 L1652.19 797.918 L1657.46 797.918 L1657.46 832.371 L1666.05 832.371 L1666.05 836.798 L1643.65 836.798 L1643.65 832.371 Z\" fill=\"#000000\" fill-rule=\"nonzero\" fill-opacity=\"1\" /><path clip-path=\"url(#clip070)\" d=\"M1687.92 801.382 Q1683.86 801.382 1681.8 805.392 Q1679.77 809.377 1679.77 817.397 Q1679.77 825.392 1681.8 829.402 Q1683.86 833.387 1687.92 833.387 Q1692.01 833.387 1694.04 829.402 Q1696.1 825.392 1696.1 817.397 Q1696.1 809.377 1694.04 805.392 Q1692.01 801.382 1687.92 801.382 M1687.92 797.215 Q1694.46 797.215 1697.9 802.397 Q1701.36 807.554 1701.36 817.397 Q1701.36 827.215 1697.9 832.397 Q1694.46 837.553 1687.92 837.553 Q1681.39 837.553 1677.92 832.397 Q1674.49 827.215 1674.49 817.397 Q1674.49 807.554 1677.92 802.397 Q1681.39 797.215 1687.92 797.215 Z\" fill=\"#000000\" fill-rule=\"nonzero\" fill-opacity=\"1\" /><path clip-path=\"url(#clip070)\" d=\"M1133.59 894.354 L1133.59 882.751 L1124.04 882.751 L1124.04 877.948 L1139.38 877.948 L1139.38 896.495 Q1135.99 898.897 1131.91 900.141 Q1127.83 901.356 1123.2 901.356 Q1113.08 901.356 1107.35 895.453 Q1101.65 889.522 1101.65 878.96 Q1101.65 868.37 1107.35 862.467 Q1113.08 856.536 1123.2 856.536 Q1127.43 856.536 1131.22 857.577 Q1135.04 858.619 1138.25 860.644 L1138.25 866.865 Q1135.01 864.117 1131.36 862.728 Q1127.72 861.339 1123.7 861.339 Q1115.77 861.339 1111.77 865.766 Q1107.81 870.193 1107.81 878.96 Q1107.81 887.699 1111.77 892.126 Q1115.77 896.553 1123.7 896.553 Q1126.79 896.553 1129.22 896.032 Q1131.65 895.482 1133.59 894.354 Z\" fill=\"#000000\" fill-rule=\"nonzero\" fill-opacity=\"1\" /><path clip-path=\"url(#clip070)\" d=\"M1168.6 873.086 Q1167.71 872.566 1166.63 872.334 Q1165.59 872.074 1164.32 872.074 Q1159.81 872.074 1157.38 875.025 Q1154.97 877.948 1154.97 883.445 L1154.97 900.517 L1149.62 900.517 L1149.62 868.11 L1154.97 868.11 L1154.97 873.144 Q1156.65 870.193 1159.34 868.775 Q1162.03 867.328 1165.88 867.328 Q1166.43 867.328 1167.1 867.415 Q1167.76 867.473 1168.57 867.618 L1168.6 873.086 Z\" fill=\"#000000\" fill-rule=\"nonzero\" fill-opacity=\"1\" /><path clip-path=\"url(#clip070)\" d=\"M1185.44 871.842 Q1181.16 871.842 1178.67 875.199 Q1176.18 878.526 1176.18 884.342 Q1176.18 890.158 1178.64 893.515 Q1181.13 896.842 1185.44 896.842 Q1189.7 896.842 1192.18 893.486 Q1194.67 890.129 1194.67 884.342 Q1194.67 878.584 1192.18 875.228 Q1189.7 871.842 1185.44 871.842 M1185.44 867.328 Q1192.39 867.328 1196.35 871.842 Q1200.32 876.356 1200.32 884.342 Q1200.32 892.299 1196.35 896.842 Q1192.39 901.356 1185.44 901.356 Q1178.47 901.356 1174.51 896.842 Q1170.57 892.299 1170.57 884.342 Q1170.57 876.356 1174.51 871.842 Q1178.47 867.328 1185.44 867.328 Z\" fill=\"#000000\" fill-rule=\"nonzero\" fill-opacity=\"1\" /><path clip-path=\"url(#clip070)\" d=\"M1208.59 887.728 L1208.59 868.11 L1213.91 868.11 L1213.91 887.525 Q1213.91 892.126 1215.71 894.441 Q1217.5 896.726 1221.09 896.726 Q1225.4 896.726 1227.89 893.978 Q1230.41 891.229 1230.41 886.483 L1230.41 868.11 L1235.73 868.11 L1235.73 900.517 L1230.41 900.517 L1230.41 895.54 Q1228.47 898.491 1225.89 899.938 Q1223.35 901.356 1219.96 901.356 Q1214.38 901.356 1211.48 897.884 Q1208.59 894.412 1208.59 887.728 M1221.99 867.328 L1221.99 867.328 Z\" fill=\"#000000\" fill-rule=\"nonzero\" fill-opacity=\"1\" /><path clip-path=\"url(#clip070)\" d=\"M1251.85 895.656 L1251.85 912.843 L1246.5 912.843 L1246.5 868.11 L1251.85 868.11 L1251.85 873.029 Q1253.53 870.135 1256.07 868.746 Q1258.65 867.328 1262.21 867.328 Q1268.11 867.328 1271.78 872.016 Q1275.49 876.703 1275.49 884.342 Q1275.49 891.981 1271.78 896.669 Q1268.11 901.356 1262.21 901.356 Q1258.65 901.356 1256.07 899.967 Q1253.53 898.549 1251.85 895.656 M1269.96 884.342 Q1269.96 878.468 1267.53 875.141 Q1265.13 871.784 1260.91 871.784 Q1256.68 871.784 1254.25 875.141 Q1251.85 878.468 1251.85 884.342 Q1251.85 890.216 1254.25 893.572 Q1256.68 896.9 1260.91 896.9 Q1265.13 896.9 1267.53 893.572 Q1269.96 890.216 1269.96 884.342 Z\" fill=\"#000000\" fill-rule=\"nonzero\" fill-opacity=\"1\" /><path clip-path=\"url(#clip070)\" d=\"M1348.6 860.23 Q1348.6 860.611 1348.51 860.874 Q1348.42 861.109 1348.22 861.226 Q1348.01 861.343 1347.89 861.372 Q1347.78 861.401 1347.51 861.431 Q1346.26 861.548 1345.38 861.753 Q1344.53 861.958 1342.42 863.012 Q1340.34 864.066 1337.74 865.969 L1327.25 874.079 L1325.5 875.455 Q1325.5 875.543 1325.56 875.718 Q1325.61 875.865 1325.67 876.07 Q1325.76 876.245 1325.79 876.304 L1334.31 895.95 Q1334.98 897.531 1335.8 898.087 Q1336.62 898.643 1338.47 898.672 Q1338.76 898.672 1338.88 898.702 Q1339.02 898.702 1339.23 898.76 Q1339.46 898.789 1339.55 898.936 Q1339.67 899.082 1339.67 899.316 Q1339.67 900.517 1338.58 900.517 Q1337.91 900.517 1335.63 900.429 Q1333.34 900.341 1332.7 900.341 Q1331.5 900.341 1329.04 900.429 Q1326.58 900.517 1325.38 900.517 Q1324.53 900.517 1324.53 899.843 Q1324.53 899.287 1324.74 899.024 Q1324.97 898.731 1325.17 898.702 Q1325.38 898.672 1325.85 898.672 Q1326.2 898.672 1326.58 898.643 Q1326.99 898.585 1327.58 898.438 Q1328.19 898.262 1328.57 897.853 Q1328.98 897.413 1328.98 896.799 Q1328.98 896.301 1328.25 894.691 L1321.31 878.558 L1312.38 885.527 L1309.98 894.954 Q1309.92 895.305 1309.77 895.92 Q1309.63 896.535 1309.51 896.974 Q1309.42 897.413 1309.42 897.589 Q1309.42 897.97 1309.66 898.204 Q1309.92 898.438 1310.57 898.555 Q1311.21 898.643 1311.71 898.672 Q1312.23 898.672 1313.32 898.672 Q1314.66 898.672 1314.9 898.907 Q1315.02 899.053 1315.02 899.316 Q1315.02 899.726 1314.9 900.019 Q1314.78 900.283 1314.55 900.37 Q1314.34 900.458 1314.2 900.488 Q1314.05 900.517 1313.82 900.517 Q1313.2 900.517 1311.88 900.458 Q1310.59 900.4 1309.92 900.4 L1306.09 900.341 L1298.47 900.517 Q1297.57 900.517 1297.57 899.785 Q1297.57 899.229 1297.8 898.994 Q1298.03 898.731 1298.3 898.702 Q1298.56 898.672 1299.23 898.672 Q1300.7 898.672 1301.58 898.585 Q1302.46 898.497 1303.01 898.38 Q1303.6 898.233 1303.89 897.823 Q1304.21 897.413 1304.36 897.062 Q1304.5 896.681 1304.71 895.832 L1312.73 863.627 Q1312.97 862.66 1312.97 862.514 Q1312.97 862.016 1312.67 861.841 Q1312.41 861.636 1311.65 861.548 Q1310.18 861.431 1309.07 861.431 Q1308.34 861.431 1308.05 861.401 Q1307.78 861.372 1307.55 861.226 Q1307.34 861.05 1307.34 860.699 Q1307.34 859.557 1308.55 859.557 L1316.27 859.733 L1323.95 859.557 Q1324.79 859.557 1324.79 860.23 Q1324.79 861.079 1324.38 861.255 Q1324 861.431 1322.74 861.431 Q1320.55 861.431 1319.55 861.723 Q1318.59 861.987 1318.29 862.455 Q1318.03 862.895 1317.71 864.183 L1312.91 883.419 L1336.3 865.442 Q1338.47 863.627 1338.47 862.69 Q1338.47 862.075 1338.03 861.811 Q1337.62 861.519 1336.59 861.431 Q1335.86 861.314 1335.86 860.757 Q1335.86 860.201 1336.07 859.938 Q1336.3 859.645 1336.48 859.615 Q1336.68 859.557 1337 859.557 Q1338.09 859.557 1340.34 859.645 Q1342.6 859.733 1343.68 859.733 Q1344.41 859.733 1345.85 859.645 Q1347.28 859.557 1347.92 859.557 Q1348.25 859.557 1348.42 859.791 Q1348.6 859.996 1348.6 860.23 Z\" fill=\"#000000\" fill-rule=\"nonzero\" fill-opacity=\"1\" /><path clip-path=\"url(#clip070)\" d=\"M1347.96 881.912 L1363.55 881.912 L1363.55 886.657 L1347.96 886.657 L1347.96 881.912 Z\" fill=\"#000000\" fill-rule=\"nonzero\" fill-opacity=\"1\" /><path clip-path=\"url(#clip070)\" d=\"M1388.44 855.494 L1388.44 859.921 L1383.35 859.921 Q1380.48 859.921 1379.35 861.078 Q1378.25 862.236 1378.25 865.245 L1378.25 868.11 L1387.02 868.11 L1387.02 872.247 L1378.25 872.247 L1378.25 900.517 L1372.9 900.517 L1372.9 872.247 L1367.81 872.247 L1367.81 868.11 L1372.9 868.11 L1372.9 865.853 Q1372.9 860.442 1375.42 857.982 Q1377.93 855.494 1383.4 855.494 L1388.44 855.494 Z\" fill=\"#000000\" fill-rule=\"nonzero\" fill-opacity=\"1\" /><path clip-path=\"url(#clip070)\" d=\"M1405.45 871.842 Q1401.17 871.842 1398.68 875.199 Q1396.19 878.526 1396.19 884.342 Q1396.19 890.158 1398.65 893.515 Q1401.14 896.842 1405.45 896.842 Q1409.71 896.842 1412.19 893.486 Q1414.68 890.129 1414.68 884.342 Q1414.68 878.584 1412.19 875.228 Q1409.71 871.842 1405.45 871.842 M1405.45 867.328 Q1412.4 867.328 1416.36 871.842 Q1420.32 876.356 1420.32 884.342 Q1420.32 892.299 1416.36 896.842 Q1412.4 901.356 1405.45 901.356 Q1398.48 901.356 1394.51 896.842 Q1390.58 892.299 1390.58 884.342 Q1390.58 876.356 1394.51 871.842 Q1398.48 867.328 1405.45 867.328 Z\" fill=\"#000000\" fill-rule=\"nonzero\" fill-opacity=\"1\" /><path clip-path=\"url(#clip070)\" d=\"M1429.15 855.494 L1434.47 855.494 L1434.47 900.517 L1429.15 900.517 L1429.15 855.494 Z\" fill=\"#000000\" fill-rule=\"nonzero\" fill-opacity=\"1\" /><path clip-path=\"url(#clip070)\" d=\"M1466.94 873.029 L1466.94 855.494 L1472.26 855.494 L1472.26 900.517 L1466.94 900.517 L1466.94 895.656 Q1465.26 898.549 1462.69 899.967 Q1460.14 901.356 1456.55 901.356 Q1450.68 901.356 1446.97 896.669 Q1443.3 891.981 1443.3 884.342 Q1443.3 876.703 1446.97 872.016 Q1450.68 867.328 1456.55 867.328 Q1460.14 867.328 1462.69 868.746 Q1465.26 870.135 1466.94 873.029 M1448.8 884.342 Q1448.8 890.216 1451.2 893.572 Q1453.63 896.9 1457.85 896.9 Q1462.08 896.9 1464.51 893.572 Q1466.94 890.216 1466.94 884.342 Q1466.94 878.468 1464.51 875.141 Q1462.08 871.784 1457.85 871.784 Q1453.63 871.784 1451.2 875.141 Q1448.8 878.468 1448.8 884.342 Z\" fill=\"#000000\" fill-rule=\"nonzero\" fill-opacity=\"1\" /><path clip-path=\"url(#clip070)\" d=\"M1502.07 868.11 L1507.39 868.11 L1507.39 900.517 L1502.07 900.517 L1502.07 868.11 M1502.07 855.494 L1507.39 855.494 L1507.39 862.236 L1502.07 862.236 L1502.07 855.494 Z\" fill=\"#000000\" fill-rule=\"nonzero\" fill-opacity=\"1\" /><path clip-path=\"url(#clip070)\" d=\"M1545.47 880.957 L1545.47 900.517 L1540.14 900.517 L1540.14 881.13 Q1540.14 876.53 1538.35 874.244 Q1536.56 871.958 1532.97 871.958 Q1528.66 871.958 1526.17 874.707 Q1523.68 877.456 1523.68 882.201 L1523.68 900.517 L1518.33 900.517 L1518.33 868.11 L1523.68 868.11 L1523.68 873.144 Q1525.59 870.222 1528.17 868.775 Q1530.77 867.328 1534.15 867.328 Q1539.74 867.328 1542.6 870.801 Q1545.47 874.244 1545.47 880.957 Z\" fill=\"#000000\" fill-rule=\"nonzero\" fill-opacity=\"1\" /><path clip-path=\"url(#clip070)\" d=\"M1577.41 873.029 L1577.41 855.494 L1582.74 855.494 L1582.74 900.517 L1577.41 900.517 L1577.41 895.656 Q1575.73 898.549 1573.16 899.967 Q1570.61 901.356 1567.02 901.356 Q1561.15 901.356 1557.45 896.669 Q1553.77 891.981 1553.77 884.342 Q1553.77 876.703 1557.45 872.016 Q1561.15 867.328 1567.02 867.328 Q1570.61 867.328 1573.16 868.746 Q1575.73 870.135 1577.41 873.029 M1559.27 884.342 Q1559.27 890.216 1561.67 893.572 Q1564.1 896.9 1568.33 896.9 Q1572.55 896.9 1574.98 893.572 Q1577.41 890.216 1577.41 884.342 Q1577.41 878.468 1574.98 875.141 Q1572.55 871.784 1568.33 871.784 Q1564.1 871.784 1561.67 875.141 Q1559.27 878.468 1559.27 884.342 Z\" fill=\"#000000\" fill-rule=\"nonzero\" fill-opacity=\"1\" /><path clip-path=\"url(#clip070)\" d=\"M1621.42 882.982 L1621.42 885.586 L1596.94 885.586 Q1597.29 891.084 1600.24 893.978 Q1603.22 896.842 1608.52 896.842 Q1611.58 896.842 1614.45 896.09 Q1617.34 895.338 1620.18 893.833 L1620.18 898.868 Q1617.31 900.083 1614.3 900.719 Q1611.3 901.356 1608.2 901.356 Q1600.44 901.356 1595.9 896.842 Q1591.39 892.328 1591.39 884.632 Q1591.39 876.674 1595.67 872.016 Q1599.98 867.328 1607.27 867.328 Q1613.81 867.328 1617.6 871.553 Q1621.42 875.749 1621.42 882.982 M1616.1 881.42 Q1616.04 877.051 1613.64 874.446 Q1611.27 871.842 1607.33 871.842 Q1602.88 871.842 1600.18 874.36 Q1597.52 876.877 1597.12 881.449 L1616.1 881.42 Z\" fill=\"#000000\" fill-rule=\"nonzero\" fill-opacity=\"1\" /><path clip-path=\"url(#clip070)\" d=\"M1656.06 868.11 L1644.34 883.879 L1656.67 900.517 L1650.39 900.517 L1640.95 887.785 L1631.52 900.517 L1625.24 900.517 L1637.83 883.561 L1626.31 868.11 L1632.59 868.11 L1641.19 879.655 L1649.78 868.11 L1656.06 868.11 Z\" fill=\"#000000\" fill-rule=\"nonzero\" fill-opacity=\"1\" /><polyline clip-path=\"url(#clip070)\" style=\"stroke:#000000; stroke-linecap:round; stroke-linejoin:round; stroke-width:4; stroke-opacity:1; fill:none\" points=\"1068.6,756.998 1068.6,551.688 \"/>\n",
       "<polyline clip-path=\"url(#clip070)\" style=\"stroke:#000000; stroke-linecap:round; stroke-linejoin:round; stroke-width:4; stroke-opacity:1; fill:none\" points=\"1068.6,756.998 1049.71,756.998 \"/>\n",
       "<polyline clip-path=\"url(#clip070)\" style=\"stroke:#000000; stroke-linecap:round; stroke-linejoin:round; stroke-width:4; stroke-opacity:1; fill:none\" points=\"1068.6,695.297 1049.71,695.297 \"/>\n",
       "<polyline clip-path=\"url(#clip070)\" style=\"stroke:#000000; stroke-linecap:round; stroke-linejoin:round; stroke-width:4; stroke-opacity:1; fill:none\" points=\"1068.6,633.596 1049.71,633.596 \"/>\n",
       "<polyline clip-path=\"url(#clip070)\" style=\"stroke:#000000; stroke-linecap:round; stroke-linejoin:round; stroke-width:4; stroke-opacity:1; fill:none\" points=\"1068.6,571.895 1049.71,571.895 \"/>\n",
       "<path clip-path=\"url(#clip070)\" d=\"M996.667 741.022 Q992.604 741.022 990.547 745.032 Q988.516 749.017 988.516 757.037 Q988.516 765.032 990.547 769.042 Q992.604 773.027 996.667 773.027 Q1000.76 773.027 1002.79 769.042 Q1004.84 765.032 1004.84 757.037 Q1004.84 749.017 1002.79 745.032 Q1000.76 741.022 996.667 741.022 M996.667 736.855 Q1003.2 736.855 1006.64 742.037 Q1010.1 747.194 1010.1 757.037 Q1010.1 766.855 1006.64 772.037 Q1003.2 777.193 996.667 777.193 Q990.13 777.193 986.667 772.037 Q983.229 766.855 983.229 757.037 Q983.229 747.194 986.667 742.037 Q990.13 736.855 996.667 736.855 Z\" fill=\"#000000\" fill-rule=\"nonzero\" fill-opacity=\"1\" /><path clip-path=\"url(#clip070)\" d=\"M951.537 675.857 L972.188 675.857 L972.188 680.284 L956.354 680.284 L956.354 689.815 Q957.5 689.425 958.646 689.243 Q959.792 689.034 960.938 689.034 Q967.448 689.034 971.25 692.602 Q975.052 696.17 975.052 702.263 Q975.052 708.539 971.146 712.029 Q967.24 715.492 960.13 715.492 Q957.682 715.492 955.13 715.076 Q952.604 714.659 949.896 713.826 L949.896 708.539 Q952.24 709.815 954.74 710.44 Q957.24 711.065 960.026 711.065 Q964.531 711.065 967.162 708.696 Q969.792 706.326 969.792 702.263 Q969.792 698.201 967.162 695.831 Q964.531 693.461 960.026 693.461 Q957.917 693.461 955.807 693.93 Q953.724 694.399 951.537 695.388 L951.537 675.857 Z\" fill=\"#000000\" fill-rule=\"nonzero\" fill-opacity=\"1\" /><path clip-path=\"url(#clip070)\" d=\"M996.667 679.321 Q992.604 679.321 990.547 683.331 Q988.516 687.315 988.516 695.336 Q988.516 703.331 990.547 707.341 Q992.604 711.326 996.667 711.326 Q1000.76 711.326 1002.79 707.341 Q1004.84 703.331 1004.84 695.336 Q1004.84 687.315 1002.79 683.331 Q1000.76 679.321 996.667 679.321 M996.667 675.154 Q1003.2 675.154 1006.64 680.336 Q1010.1 685.493 1010.1 695.336 Q1010.1 705.154 1006.64 710.336 Q1003.2 715.492 996.667 715.492 Q990.13 715.492 986.667 710.336 Q983.229 705.154 983.229 695.336 Q983.229 685.493 986.667 680.336 Q990.13 675.154 996.667 675.154 Z\" fill=\"#000000\" fill-rule=\"nonzero\" fill-opacity=\"1\" /><path clip-path=\"url(#clip070)\" d=\"M918.464 648.609 L927.058 648.609 L927.058 618.948 L917.709 620.823 L917.709 616.031 L927.006 614.156 L932.266 614.156 L932.266 648.609 L940.86 648.609 L940.86 653.036 L918.464 653.036 L918.464 648.609 Z\" fill=\"#000000\" fill-rule=\"nonzero\" fill-opacity=\"1\" /><path clip-path=\"url(#clip070)\" d=\"M962.734 617.62 Q958.672 617.62 956.615 621.63 Q954.584 625.614 954.584 633.635 Q954.584 641.63 956.615 645.64 Q958.672 649.625 962.734 649.625 Q966.823 649.625 968.854 645.64 Q970.912 641.63 970.912 633.635 Q970.912 625.614 968.854 621.63 Q966.823 617.62 962.734 617.62 M962.734 613.453 Q969.271 613.453 972.708 618.635 Q976.172 623.791 976.172 633.635 Q976.172 643.453 972.708 648.635 Q969.271 653.791 962.734 653.791 Q956.198 653.791 952.735 648.635 Q949.297 643.453 949.297 633.635 Q949.297 623.791 952.735 618.635 Q956.198 613.453 962.734 613.453 Z\" fill=\"#000000\" fill-rule=\"nonzero\" fill-opacity=\"1\" /><path clip-path=\"url(#clip070)\" d=\"M996.667 617.62 Q992.604 617.62 990.547 621.63 Q988.516 625.614 988.516 633.635 Q988.516 641.63 990.547 645.64 Q992.604 649.625 996.667 649.625 Q1000.76 649.625 1002.79 645.64 Q1004.84 641.63 1004.84 633.635 Q1004.84 625.614 1002.79 621.63 Q1000.76 617.62 996.667 617.62 M996.667 613.453 Q1003.2 613.453 1006.64 618.635 Q1010.1 623.791 1010.1 633.635 Q1010.1 643.453 1006.64 648.635 Q1003.2 653.791 996.667 653.791 Q990.13 653.791 986.667 648.635 Q983.229 643.453 983.229 633.635 Q983.229 623.791 986.667 618.635 Q990.13 613.453 996.667 613.453 Z\" fill=\"#000000\" fill-rule=\"nonzero\" fill-opacity=\"1\" /><path clip-path=\"url(#clip070)\" d=\"M918.464 586.908 L927.058 586.908 L927.058 557.247 L917.709 559.122 L917.709 554.33 L927.006 552.455 L932.266 552.455 L932.266 586.908 L940.86 586.908 L940.86 591.335 L918.464 591.335 L918.464 586.908 Z\" fill=\"#000000\" fill-rule=\"nonzero\" fill-opacity=\"1\" /><path clip-path=\"url(#clip070)\" d=\"M951.537 552.455 L972.188 552.455 L972.188 556.882 L956.354 556.882 L956.354 566.413 Q957.5 566.023 958.646 565.84 Q959.792 565.632 960.938 565.632 Q967.448 565.632 971.25 569.2 Q975.052 572.767 975.052 578.861 Q975.052 585.137 971.146 588.627 Q967.24 592.09 960.13 592.09 Q957.682 592.09 955.13 591.674 Q952.604 591.257 949.896 590.424 L949.896 585.137 Q952.24 586.413 954.74 587.038 Q957.24 587.663 960.026 587.663 Q964.531 587.663 967.162 585.293 Q969.792 582.924 969.792 578.861 Q969.792 574.799 967.162 572.429 Q964.531 570.059 960.026 570.059 Q957.917 570.059 955.807 570.528 Q953.724 570.997 951.537 571.986 L951.537 552.455 Z\" fill=\"#000000\" fill-rule=\"nonzero\" fill-opacity=\"1\" /><path clip-path=\"url(#clip070)\" d=\"M996.667 555.919 Q992.604 555.919 990.547 559.929 Q988.516 563.913 988.516 571.934 Q988.516 579.929 990.547 583.939 Q992.604 587.924 996.667 587.924 Q1000.76 587.924 1002.79 583.939 Q1004.84 579.929 1004.84 571.934 Q1004.84 563.913 1002.79 559.929 Q1000.76 555.919 996.667 555.919 M996.667 551.752 Q1003.2 551.752 1006.64 556.934 Q1010.1 562.09 1010.1 571.934 Q1010.1 581.752 1006.64 586.934 Q1003.2 592.09 996.667 592.09 Q990.13 592.09 986.667 586.934 Q983.229 581.752 983.229 571.934 Q983.229 562.09 986.667 556.934 Q990.13 551.752 996.667 551.752 Z\" fill=\"#000000\" fill-rule=\"nonzero\" fill-opacity=\"1\" /><path clip-path=\"url(#clip070)\" d=\"M1235.02 476.638 L1235.02 483.417 Q1231.77 480.394 1228.08 478.898 Q1224.42 477.402 1220.28 477.402 Q1212.14 477.402 1207.81 482.399 Q1203.48 487.364 1203.48 496.785 Q1203.48 506.175 1207.81 511.172 Q1212.14 516.137 1220.28 516.137 Q1224.42 516.137 1228.08 514.641 Q1231.77 513.145 1235.02 510.122 L1235.02 516.837 Q1231.65 519.129 1227.86 520.275 Q1224.1 521.421 1219.9 521.421 Q1209.11 521.421 1202.91 514.832 Q1196.7 508.212 1196.7 496.785 Q1196.7 485.327 1202.91 478.739 Q1209.11 472.118 1219.9 472.118 Q1224.17 472.118 1227.92 473.264 Q1231.71 474.378 1235.02 476.638 Z\" fill=\"#000000\" fill-rule=\"nonzero\" fill-opacity=\"1\" /><path clip-path=\"url(#clip070)\" d=\"M1244.09 506.429 L1244.09 484.85 L1249.95 484.85 L1249.95 506.207 Q1249.95 511.267 1251.92 513.814 Q1253.89 516.328 1257.84 516.328 Q1262.58 516.328 1265.32 513.304 Q1268.09 510.281 1268.09 505.061 L1268.09 484.85 L1273.95 484.85 L1273.95 520.498 L1268.09 520.498 L1268.09 515.023 Q1265.96 518.27 1263.13 519.861 Q1260.32 521.421 1256.6 521.421 Q1250.46 521.421 1247.27 517.601 Q1244.09 513.782 1244.09 506.429 M1258.83 483.99 L1258.83 483.99 Z\" fill=\"#000000\" fill-rule=\"nonzero\" fill-opacity=\"1\" /><path clip-path=\"url(#clip070)\" d=\"M1313.76 491.693 Q1315.96 487.746 1319.02 485.868 Q1322.07 483.99 1326.21 483.99 Q1331.78 483.99 1334.8 487.905 Q1337.83 491.788 1337.83 498.982 L1337.83 520.498 L1331.94 520.498 L1331.94 499.173 Q1331.94 494.048 1330.12 491.565 Q1328.31 489.083 1324.59 489.083 Q1320.03 489.083 1317.39 492.107 Q1314.75 495.13 1314.75 500.35 L1314.75 520.498 L1308.86 520.498 L1308.86 499.173 Q1308.86 494.016 1307.05 491.565 Q1305.23 489.083 1301.45 489.083 Q1296.96 489.083 1294.32 492.138 Q1291.68 495.162 1291.68 500.35 L1291.68 520.498 L1285.79 520.498 L1285.79 484.85 L1291.68 484.85 L1291.68 490.388 Q1293.68 487.109 1296.48 485.55 Q1299.28 483.99 1303.13 483.99 Q1307.02 483.99 1309.72 485.964 Q1312.46 487.937 1313.76 491.693 Z\" fill=\"#000000\" fill-rule=\"nonzero\" fill-opacity=\"1\" /><path clip-path=\"url(#clip070)\" d=\"M1348.9 506.429 L1348.9 484.85 L1354.76 484.85 L1354.76 506.207 Q1354.76 511.267 1356.73 513.814 Q1358.71 516.328 1362.65 516.328 Q1367.4 516.328 1370.13 513.304 Q1372.9 510.281 1372.9 505.061 L1372.9 484.85 L1378.76 484.85 L1378.76 520.498 L1372.9 520.498 L1372.9 515.023 Q1370.77 518.27 1367.94 519.861 Q1365.14 521.421 1361.41 521.421 Q1355.27 521.421 1352.09 517.601 Q1348.9 513.782 1348.9 506.429 M1363.64 483.99 L1363.64 483.99 Z\" fill=\"#000000\" fill-rule=\"nonzero\" fill-opacity=\"1\" /><path clip-path=\"url(#clip070)\" d=\"M1390.82 470.972 L1396.68 470.972 L1396.68 520.498 L1390.82 520.498 L1390.82 470.972 Z\" fill=\"#000000\" fill-rule=\"nonzero\" fill-opacity=\"1\" /><path clip-path=\"url(#clip070)\" d=\"M1425.13 502.578 Q1418.03 502.578 1415.3 504.201 Q1412.56 505.825 1412.56 509.74 Q1412.56 512.859 1414.6 514.705 Q1416.67 516.519 1420.2 516.519 Q1425.07 516.519 1428 513.082 Q1430.96 509.612 1430.96 503.883 L1430.96 502.578 L1425.13 502.578 M1436.81 500.159 L1436.81 520.498 L1430.96 520.498 L1430.96 515.087 Q1428.95 518.333 1425.96 519.893 Q1422.97 521.421 1418.64 521.421 Q1413.16 521.421 1409.92 518.365 Q1406.7 515.278 1406.7 510.122 Q1406.7 504.106 1410.71 501.05 Q1414.76 497.995 1422.75 497.995 L1430.96 497.995 L1430.96 497.422 Q1430.96 493.38 1428.28 491.184 Q1425.64 488.956 1420.84 488.956 Q1417.78 488.956 1414.88 489.688 Q1411.99 490.42 1409.31 491.884 L1409.31 486.473 Q1412.53 485.232 1415.55 484.627 Q1418.58 483.99 1421.44 483.99 Q1429.17 483.99 1432.99 488.001 Q1436.81 492.011 1436.81 500.159 Z\" fill=\"#000000\" fill-rule=\"nonzero\" fill-opacity=\"1\" /><path clip-path=\"url(#clip070)\" d=\"M1454.67 474.728 L1454.67 484.85 L1466.73 484.85 L1466.73 489.401 L1454.67 489.401 L1454.67 508.753 Q1454.67 513.113 1455.85 514.355 Q1457.06 515.596 1460.72 515.596 L1466.73 515.596 L1466.73 520.498 L1460.72 520.498 Q1453.94 520.498 1451.36 517.983 Q1448.78 515.437 1448.78 508.753 L1448.78 489.401 L1444.48 489.401 L1444.48 484.85 L1448.78 484.85 L1448.78 474.728 L1454.67 474.728 Z\" fill=\"#000000\" fill-rule=\"nonzero\" fill-opacity=\"1\" /><path clip-path=\"url(#clip070)\" d=\"M1474.43 484.85 L1480.29 484.85 L1480.29 520.498 L1474.43 520.498 L1474.43 484.85 M1474.43 470.972 L1480.29 470.972 L1480.29 478.388 L1474.43 478.388 L1474.43 470.972 Z\" fill=\"#000000\" fill-rule=\"nonzero\" fill-opacity=\"1\" /><path clip-path=\"url(#clip070)\" d=\"M1488.34 484.85 L1494.55 484.85 L1505.69 514.768 L1516.83 484.85 L1523.04 484.85 L1509.67 520.498 L1501.71 520.498 L1488.34 484.85 Z\" fill=\"#000000\" fill-rule=\"nonzero\" fill-opacity=\"1\" /><path clip-path=\"url(#clip070)\" d=\"M1561.61 501.21 L1561.61 504.074 L1534.69 504.074 Q1535.07 510.122 1538.31 513.304 Q1541.59 516.455 1547.42 516.455 Q1550.79 516.455 1553.94 515.628 Q1557.13 514.8 1560.24 513.145 L1560.24 518.683 Q1557.09 520.02 1553.78 520.72 Q1550.47 521.421 1547.07 521.421 Q1538.54 521.421 1533.54 516.455 Q1528.58 511.49 1528.58 503.024 Q1528.58 494.271 1533.29 489.147 Q1538.03 483.99 1546.05 483.99 Q1553.24 483.99 1557.41 488.637 Q1561.61 493.252 1561.61 501.21 M1555.76 499.491 Q1555.69 494.685 1553.05 491.82 Q1550.44 488.956 1546.11 488.956 Q1541.21 488.956 1538.25 491.725 Q1535.32 494.494 1534.88 499.523 L1555.76 499.491 Z\" fill=\"#000000\" fill-rule=\"nonzero\" fill-opacity=\"1\" /><polyline clip-path=\"url(#clip074)\" style=\"stroke:#009af9; stroke-linecap:round; stroke-linejoin:round; stroke-width:8; stroke-opacity:1; fill:none\" points=\"1086.18,741.92 1151.29,727.032 1216.39,711.799 1281.5,697.195 1346.6,679.289 1411.71,662.864 1476.81,643.598 1541.92,622.325 1607.02,599.825 1672.13,585.906 \"/>\n",
       "<polyline clip-path=\"url(#clip074)\" style=\"stroke:#e26f46; stroke-linecap:round; stroke-linejoin:round; stroke-width:8; stroke-opacity:1; fill:none\" points=\"1086.18,755.462 1151.29,753.928 1216.39,752.35 1281.5,750.761 1346.6,747.695 1411.71,743.117 1476.81,736.832 1541.92,729.21 1607.02,723.078 1672.13,714.165 \"/>\n",
       "<polyline clip-path=\"url(#clip074)\" style=\"stroke:#3da44d; stroke-linecap:round; stroke-linejoin:round; stroke-width:8; stroke-opacity:1; fill:none\" points=\"1086.18,756.96 1151.29,756.925 1216.39,756.887 1281.5,756.847 1346.6,756.809 1411.71,756.77 1476.81,756.732 1541.92,756.691 1607.02,756.653 1672.13,756.612 \"/>\n",
       "<path clip-path=\"url(#clip070)\" d=\"M1868.66 756.998 L2489.76 756.998 L2489.76 88.2143 L1868.66 88.2143  Z\" fill=\"#ffffff\" fill-rule=\"evenodd\" fill-opacity=\"1\"/>\n",
       "<defs>\n",
       "  <clipPath id=\"clip075\">\n",
       "    <rect x=\"1868\" y=\"88\" width=\"622\" height=\"670\"/>\n",
       "  </clipPath>\n",
       "</defs>\n",
       "<polyline clip-path=\"url(#clip075)\" style=\"stroke:#000000; stroke-linecap:round; stroke-linejoin:round; stroke-width:2; stroke-opacity:0.1; fill:none\" points=\"1868.66,88.2143 1868.66,756.998 \"/>\n",
       "<polyline clip-path=\"url(#clip075)\" style=\"stroke:#000000; stroke-linecap:round; stroke-linejoin:round; stroke-width:2; stroke-opacity:0.1; fill:none\" points=\"2179.21,88.2143 2179.21,756.998 \"/>\n",
       "<polyline clip-path=\"url(#clip075)\" style=\"stroke:#000000; stroke-linecap:round; stroke-linejoin:round; stroke-width:2; stroke-opacity:0.1; fill:none\" points=\"2489.76,88.2143 2489.76,756.998 \"/>\n",
       "<polyline clip-path=\"url(#clip075)\" style=\"stroke:#000000; stroke-linecap:round; stroke-linejoin:round; stroke-width:2; stroke-opacity:0.1; fill:none\" points=\"1868.66,88.2143 1868.66,756.998 \"/>\n",
       "<polyline clip-path=\"url(#clip075)\" style=\"stroke:#000000; stroke-linecap:round; stroke-linejoin:round; stroke-width:2; stroke-opacity:0.1; fill:none\" points=\"2179.21,88.2143 2179.21,756.998 \"/>\n",
       "<polyline clip-path=\"url(#clip075)\" style=\"stroke:#000000; stroke-linecap:round; stroke-linejoin:round; stroke-width:2; stroke-opacity:0.1; fill:none\" points=\"2489.76,88.2143 2489.76,756.998 \"/>\n",
       "<polyline clip-path=\"url(#clip075)\" style=\"stroke:#000000; stroke-linecap:round; stroke-linejoin:round; stroke-width:2; stroke-opacity:0.1; fill:none\" points=\"1868.66,107.142 2489.76,107.142 \"/>\n",
       "<polyline clip-path=\"url(#clip075)\" style=\"stroke:#000000; stroke-linecap:round; stroke-linejoin:round; stroke-width:2; stroke-opacity:0.1; fill:none\" points=\"1868.66,177.245 2489.76,177.245 \"/>\n",
       "<polyline clip-path=\"url(#clip075)\" style=\"stroke:#000000; stroke-linecap:round; stroke-linejoin:round; stroke-width:2; stroke-opacity:0.1; fill:none\" points=\"1868.66,247.348 2489.76,247.348 \"/>\n",
       "<polyline clip-path=\"url(#clip075)\" style=\"stroke:#000000; stroke-linecap:round; stroke-linejoin:round; stroke-width:2; stroke-opacity:0.1; fill:none\" points=\"1868.66,317.452 2489.76,317.452 \"/>\n",
       "<polyline clip-path=\"url(#clip075)\" style=\"stroke:#000000; stroke-linecap:round; stroke-linejoin:round; stroke-width:2; stroke-opacity:0.1; fill:none\" points=\"1868.66,387.555 2489.76,387.555 \"/>\n",
       "<polyline clip-path=\"url(#clip075)\" style=\"stroke:#000000; stroke-linecap:round; stroke-linejoin:round; stroke-width:2; stroke-opacity:0.1; fill:none\" points=\"1868.66,457.658 2489.76,457.658 \"/>\n",
       "<polyline clip-path=\"url(#clip075)\" style=\"stroke:#000000; stroke-linecap:round; stroke-linejoin:round; stroke-width:2; stroke-opacity:0.1; fill:none\" points=\"1868.66,527.761 2489.76,527.761 \"/>\n",
       "<polyline clip-path=\"url(#clip075)\" style=\"stroke:#000000; stroke-linecap:round; stroke-linejoin:round; stroke-width:2; stroke-opacity:0.1; fill:none\" points=\"1868.66,597.864 2489.76,597.864 \"/>\n",
       "<polyline clip-path=\"url(#clip075)\" style=\"stroke:#000000; stroke-linecap:round; stroke-linejoin:round; stroke-width:2; stroke-opacity:0.1; fill:none\" points=\"1868.66,667.967 2489.76,667.967 \"/>\n",
       "<polyline clip-path=\"url(#clip075)\" style=\"stroke:#000000; stroke-linecap:round; stroke-linejoin:round; stroke-width:2; stroke-opacity:0.1; fill:none\" points=\"1868.66,738.07 2489.76,738.07 \"/>\n",
       "<polyline clip-path=\"url(#clip075)\" style=\"stroke:#000000; stroke-linecap:round; stroke-linejoin:round; stroke-width:2; stroke-opacity:0.1; fill:none\" points=\"1868.66,107.142 2489.76,107.142 \"/>\n",
       "<polyline clip-path=\"url(#clip075)\" style=\"stroke:#000000; stroke-linecap:round; stroke-linejoin:round; stroke-width:2; stroke-opacity:0.1; fill:none\" points=\"1868.66,177.245 2489.76,177.245 \"/>\n",
       "<polyline clip-path=\"url(#clip075)\" style=\"stroke:#000000; stroke-linecap:round; stroke-linejoin:round; stroke-width:2; stroke-opacity:0.1; fill:none\" points=\"1868.66,247.348 2489.76,247.348 \"/>\n",
       "<polyline clip-path=\"url(#clip075)\" style=\"stroke:#000000; stroke-linecap:round; stroke-linejoin:round; stroke-width:2; stroke-opacity:0.1; fill:none\" points=\"1868.66,317.452 2489.76,317.452 \"/>\n",
       "<polyline clip-path=\"url(#clip075)\" style=\"stroke:#000000; stroke-linecap:round; stroke-linejoin:round; stroke-width:2; stroke-opacity:0.1; fill:none\" points=\"1868.66,387.555 2489.76,387.555 \"/>\n",
       "<polyline clip-path=\"url(#clip075)\" style=\"stroke:#000000; stroke-linecap:round; stroke-linejoin:round; stroke-width:2; stroke-opacity:0.1; fill:none\" points=\"1868.66,457.658 2489.76,457.658 \"/>\n",
       "<polyline clip-path=\"url(#clip075)\" style=\"stroke:#000000; stroke-linecap:round; stroke-linejoin:round; stroke-width:2; stroke-opacity:0.1; fill:none\" points=\"1868.66,527.761 2489.76,527.761 \"/>\n",
       "<polyline clip-path=\"url(#clip075)\" style=\"stroke:#000000; stroke-linecap:round; stroke-linejoin:round; stroke-width:2; stroke-opacity:0.1; fill:none\" points=\"1868.66,597.864 2489.76,597.864 \"/>\n",
       "<polyline clip-path=\"url(#clip075)\" style=\"stroke:#000000; stroke-linecap:round; stroke-linejoin:round; stroke-width:2; stroke-opacity:0.1; fill:none\" points=\"1868.66,667.967 2489.76,667.967 \"/>\n",
       "<polyline clip-path=\"url(#clip075)\" style=\"stroke:#000000; stroke-linecap:round; stroke-linejoin:round; stroke-width:2; stroke-opacity:0.1; fill:none\" points=\"1868.66,738.07 2489.76,738.07 \"/>\n",
       "<polyline clip-path=\"url(#clip070)\" style=\"stroke:#000000; stroke-linecap:round; stroke-linejoin:round; stroke-width:4; stroke-opacity:1; fill:none\" points=\"1868.66,756.998 2489.76,756.998 \"/>\n",
       "<polyline clip-path=\"url(#clip070)\" style=\"stroke:#000000; stroke-linecap:round; stroke-linejoin:round; stroke-width:4; stroke-opacity:1; fill:none\" points=\"1868.66,88.2143 2489.76,88.2143 \"/>\n",
       "<polyline clip-path=\"url(#clip070)\" style=\"stroke:#000000; stroke-linecap:round; stroke-linejoin:round; stroke-width:4; stroke-opacity:1; fill:none\" points=\"1868.66,756.998 1868.66,775.896 \"/>\n",
       "<polyline clip-path=\"url(#clip070)\" style=\"stroke:#000000; stroke-linecap:round; stroke-linejoin:round; stroke-width:4; stroke-opacity:1; fill:none\" points=\"2179.21,756.998 2179.21,775.896 \"/>\n",
       "<polyline clip-path=\"url(#clip070)\" style=\"stroke:#000000; stroke-linecap:round; stroke-linejoin:round; stroke-width:4; stroke-opacity:1; fill:none\" points=\"2489.76,756.998 2489.76,775.896 \"/>\n",
       "<polyline clip-path=\"url(#clip070)\" style=\"stroke:#000000; stroke-linecap:round; stroke-linejoin:round; stroke-width:4; stroke-opacity:1; fill:none\" points=\"1868.66,88.2143 1868.66,69.3166 \"/>\n",
       "<polyline clip-path=\"url(#clip070)\" style=\"stroke:#000000; stroke-linecap:round; stroke-linejoin:round; stroke-width:4; stroke-opacity:1; fill:none\" points=\"2179.21,88.2143 2179.21,69.3166 \"/>\n",
       "<polyline clip-path=\"url(#clip070)\" style=\"stroke:#000000; stroke-linecap:round; stroke-linejoin:round; stroke-width:4; stroke-opacity:1; fill:none\" points=\"2489.76,88.2143 2489.76,69.3166 \"/>\n",
       "<path clip-path=\"url(#clip070)\" d=\"M1832.8 812.918 Q1832.8 816.054 1831.35 819.163 Q1829.9 822.272 1827.53 824.644 Q1825.18 826.989 1821.97 828.465 Q1818.78 829.94 1815.51 829.94 Q1814.93 829.94 1813.75 829.808 Q1811.9 839.532 1811.85 839.69 Q1811.61 840.243 1811.14 840.586 Q1810.69 840.928 1810.37 841.007 Q1810.06 841.086 1809.85 841.086 Q1809.32 841.086 1808.79 840.717 Q1808.29 840.375 1808.29 839.584 Q1808.29 839.4 1808.56 838.504 L1811.43 829.44 Q1807.08 828.438 1804.58 825.671 Q1802.07 822.878 1802.07 819.084 Q1802.07 816.66 1803.18 813.498 Q1804.29 810.336 1805.63 808.201 Q1806.98 806.067 1807.74 806.067 Q1808.4 806.067 1808.4 806.62 Q1808.4 806.831 1807.98 807.305 Q1805.84 809.756 1804.66 813.287 Q1803.5 816.791 1803.5 818.478 Q1803.5 821.429 1805.76 823.563 Q1808.06 825.671 1812.35 826.462 Q1814.91 818.188 1816.44 814.71 Q1819.52 807.806 1823.52 806.12 Q1825 805.487 1826.63 805.487 Q1829.58 805.487 1831.19 807.569 Q1832.8 809.624 1832.8 812.918 M1831.27 814.104 Q1831.27 812.707 1830.77 811.521 Q1830.3 810.336 1829.08 809.492 Q1827.87 808.623 1826.11 808.623 Q1822.58 808.623 1819.62 812.022 Q1816.67 815.421 1815.41 820.691 L1814.33 826.541 Q1814.33 826.752 1815.04 826.752 Q1815.46 826.805 1816.01 826.805 Q1819.02 826.805 1821.86 825.671 Q1824.74 824.538 1826.76 822.747 Q1828.79 820.955 1830.03 818.662 Q1831.27 816.37 1831.27 814.104 Z\" fill=\"#000000\" fill-rule=\"nonzero\" fill-opacity=\"1\" /><path clip-path=\"url(#clip070)\" d=\"M1851.99 821.139 Q1852.04 820.48 1853.07 820.48 L1886.14 820.48 Q1887.69 820.48 1887.72 821.087 Q1887.72 821.745 1886.24 821.719 L1853.44 821.719 Q1851.99 821.745 1851.99 821.139 M1851.99 810.599 Q1851.99 809.94 1853.12 809.967 L1886.08 809.967 Q1887.69 809.967 1887.72 810.599 Q1887.72 811.205 1886.35 811.205 L1853.07 811.205 Q1851.99 811.205 1851.99 810.599 Z\" fill=\"#000000\" fill-rule=\"nonzero\" fill-opacity=\"1\" /><path clip-path=\"url(#clip070)\" d=\"M1908.53 798.531 L1908.53 796.844 Q1915.01 796.844 1918.35 793.392 Q1919.28 793.392 1919.43 793.603 Q1919.59 793.814 1919.59 794.789 L1919.59 825.065 Q1919.59 826.673 1920.38 827.173 Q1921.17 827.674 1924.63 827.674 L1926.34 827.674 L1926.34 829.334 Q1924.44 829.176 1917.59 829.176 Q1910.74 829.176 1908.87 829.334 L1908.87 827.674 L1910.58 827.674 Q1913.98 827.674 1914.8 827.2 Q1915.61 826.699 1915.61 825.065 L1915.61 797.108 Q1912.79 798.531 1908.53 798.531 Z\" fill=\"#000000\" fill-rule=\"nonzero\" fill-opacity=\"1\" /><path clip-path=\"url(#clip070)\" d=\"M1751.33 854.65 Q1747.84 860.639 1746.15 866.499 Q1744.45 872.358 1744.45 878.374 Q1744.45 884.389 1746.15 890.301 Q1747.87 896.186 1751.33 902.149 L1747.16 902.149 Q1743.26 896.03 1741.3 890.118 Q1739.38 884.207 1739.38 878.374 Q1739.38 872.566 1741.3 866.681 Q1743.23 860.796 1747.16 854.65 L1751.33 854.65 Z\" fill=\"#000000\" fill-rule=\"nonzero\" fill-opacity=\"1\" /><path clip-path=\"url(#clip070)\" d=\"M1766.1 876.551 L1766.1 890.795 L1774.53 890.795 Q1778.78 890.795 1780.81 889.051 Q1782.87 887.28 1782.87 883.66 Q1782.87 880.014 1780.81 878.295 Q1778.78 876.551 1774.53 876.551 L1766.1 876.551 M1766.1 860.561 L1766.1 872.28 L1773.88 872.28 Q1777.74 872.28 1779.61 870.848 Q1781.51 869.389 1781.51 866.42 Q1781.51 863.478 1779.61 862.019 Q1777.74 860.561 1773.88 860.561 L1766.1 860.561 M1760.83 856.238 L1774.27 856.238 Q1780.29 856.238 1783.54 858.738 Q1786.8 861.238 1786.8 865.848 Q1786.8 869.415 1785.13 871.525 Q1783.46 873.634 1780.24 874.155 Q1784.12 874.988 1786.25 877.644 Q1788.41 880.275 1788.41 884.233 Q1788.41 889.441 1784.87 892.28 Q1781.33 895.118 1774.79 895.118 L1760.83 895.118 L1760.83 856.238 Z\" fill=\"#000000\" fill-rule=\"nonzero\" fill-opacity=\"1\" /><path clip-path=\"url(#clip070)\" d=\"M1810.47 880.457 Q1804.66 880.457 1802.42 881.785 Q1800.18 883.113 1800.18 886.316 Q1800.18 888.868 1801.85 890.379 Q1803.54 891.863 1806.43 891.863 Q1810.42 891.863 1812.81 889.051 Q1815.24 886.212 1815.24 881.525 L1815.24 880.457 L1810.47 880.457 M1820.03 878.478 L1820.03 895.118 L1815.24 895.118 L1815.24 890.691 Q1813.59 893.347 1811.15 894.623 Q1808.7 895.873 1805.16 895.873 Q1800.68 895.873 1798.02 893.373 Q1795.39 890.847 1795.39 886.629 Q1795.39 881.707 1798.67 879.207 Q1801.98 876.707 1808.52 876.707 L1815.24 876.707 L1815.24 876.238 Q1815.24 872.931 1813.05 871.134 Q1810.89 869.311 1806.95 869.311 Q1804.45 869.311 1802.08 869.91 Q1799.71 870.509 1797.53 871.707 L1797.53 867.28 Q1800.16 866.264 1802.63 865.769 Q1805.11 865.249 1807.45 865.249 Q1813.78 865.249 1816.9 868.53 Q1820.03 871.811 1820.03 878.478 Z\" fill=\"#000000\" fill-rule=\"nonzero\" fill-opacity=\"1\" /><path clip-path=\"url(#clip070)\" d=\"M1848.49 866.811 L1848.49 871.342 Q1846.46 870.301 1844.27 869.78 Q1842.08 869.259 1839.74 869.259 Q1836.17 869.259 1834.38 870.353 Q1832.61 871.446 1832.61 873.634 Q1832.61 875.301 1833.88 876.264 Q1835.16 877.202 1839.01 878.061 L1840.65 878.426 Q1845.76 879.519 1847.89 881.525 Q1850.05 883.504 1850.05 887.071 Q1850.05 891.134 1846.82 893.504 Q1843.62 895.873 1838 895.873 Q1835.65 895.873 1833.1 895.405 Q1830.57 894.962 1827.76 894.051 L1827.76 889.103 Q1830.42 890.483 1833 891.186 Q1835.57 891.863 1838.1 891.863 Q1841.49 891.863 1843.31 890.717 Q1845.13 889.545 1845.13 887.436 Q1845.13 885.483 1843.8 884.441 Q1842.5 883.4 1838.05 882.436 L1836.38 882.045 Q1831.93 881.108 1829.95 879.181 Q1827.97 877.228 1827.97 873.842 Q1827.97 869.728 1830.89 867.488 Q1833.8 865.249 1839.17 865.249 Q1841.82 865.249 1844.17 865.639 Q1846.51 866.03 1848.49 866.811 Z\" fill=\"#000000\" fill-rule=\"nonzero\" fill-opacity=\"1\" /><path clip-path=\"url(#clip070)\" d=\"M1882.63 879.337 L1882.63 881.681 L1860.6 881.681 Q1860.91 886.629 1863.57 889.233 Q1866.25 891.811 1871.02 891.811 Q1873.78 891.811 1876.35 891.134 Q1878.96 890.457 1881.51 889.103 L1881.51 893.634 Q1878.93 894.728 1876.22 895.301 Q1873.52 895.873 1870.73 895.873 Q1863.75 895.873 1859.66 891.811 Q1855.6 887.748 1855.6 880.821 Q1855.6 873.66 1859.45 869.467 Q1863.33 865.249 1869.9 865.249 Q1875.78 865.249 1879.19 869.051 Q1882.63 872.827 1882.63 879.337 M1877.84 877.931 Q1877.79 873.999 1875.63 871.655 Q1873.49 869.311 1869.95 869.311 Q1865.94 869.311 1863.52 871.577 Q1861.12 873.842 1860.76 877.957 L1877.84 877.931 Z\" fill=\"#000000\" fill-rule=\"nonzero\" fill-opacity=\"1\" /><path clip-path=\"url(#clip070)\" d=\"M1890.5 854.598 L1895.29 854.598 L1895.29 895.118 L1890.5 895.118 L1890.5 854.598 Z\" fill=\"#000000\" fill-rule=\"nonzero\" fill-opacity=\"1\" /><path clip-path=\"url(#clip070)\" d=\"M1905.31 865.952 L1910.1 865.952 L1910.1 895.118 L1905.31 895.118 L1905.31 865.952 M1905.31 854.598 L1910.1 854.598 L1910.1 860.665 L1905.31 860.665 L1905.31 854.598 Z\" fill=\"#000000\" fill-rule=\"nonzero\" fill-opacity=\"1\" /><path clip-path=\"url(#clip070)\" d=\"M1944.38 877.514 L1944.38 895.118 L1939.58 895.118 L1939.58 877.67 Q1939.58 873.53 1937.97 871.473 Q1936.35 869.415 1933.13 869.415 Q1929.25 869.415 1927.01 871.889 Q1924.77 874.363 1924.77 878.634 L1924.77 895.118 L1919.95 895.118 L1919.95 865.952 L1924.77 865.952 L1924.77 870.483 Q1926.48 867.853 1928.8 866.551 Q1931.15 865.249 1934.19 865.249 Q1939.22 865.249 1941.8 868.374 Q1944.38 871.473 1944.38 877.514 Z\" fill=\"#000000\" fill-rule=\"nonzero\" fill-opacity=\"1\" /><path clip-path=\"url(#clip070)\" d=\"M1978.88 879.337 L1978.88 881.681 L1956.85 881.681 Q1957.16 886.629 1959.82 889.233 Q1962.5 891.811 1967.27 891.811 Q1970.03 891.811 1972.6 891.134 Q1975.21 890.457 1977.76 889.103 L1977.76 893.634 Q1975.18 894.728 1972.47 895.301 Q1969.77 895.873 1966.98 895.873 Q1960 895.873 1955.91 891.811 Q1951.85 887.748 1951.85 880.821 Q1951.85 873.66 1955.7 869.467 Q1959.58 865.249 1966.15 865.249 Q1972.03 865.249 1975.44 869.051 Q1978.88 872.827 1978.88 879.337 M1974.09 877.931 Q1974.04 873.999 1971.88 871.655 Q1969.74 869.311 1966.2 869.311 Q1962.19 869.311 1959.77 871.577 Q1957.37 873.842 1957.01 877.957 L1974.09 877.931 Z\" fill=\"#000000\" fill-rule=\"nonzero\" fill-opacity=\"1\" /><path clip-path=\"url(#clip070)\" d=\"M1985.99 854.65 L1990.16 854.65 Q1994.06 860.796 1995.99 866.681 Q1997.94 872.566 1997.94 878.374 Q1997.94 884.207 1995.99 890.118 Q1994.06 896.03 1990.16 902.149 L1985.99 902.149 Q1989.45 896.186 1991.15 890.301 Q1992.86 884.389 1992.86 878.374 Q1992.86 872.358 1991.15 866.499 Q1989.45 860.639 1985.99 854.65 Z\" fill=\"#000000\" fill-rule=\"nonzero\" fill-opacity=\"1\" /><path clip-path=\"url(#clip070)\" d=\"M2199.76 816.511 Q2200.24 816.695 2200.24 817.222 Q2200.24 817.749 2199.76 817.934 Q2195.81 819.251 2192.36 823.546 Q2189.91 826.735 2189.22 830.398 Q2189.15 830.766 2188.86 831.004 Q2188.57 831.241 2188.17 831.241 Q2187.72 831.241 2187.41 830.925 Q2187.09 830.635 2187.09 830.187 Q2187.09 830.16 2187.12 830.081 Q2187.14 829.976 2187.14 829.95 Q2187.93 825.681 2190.7 822.176 Q2192.44 819.963 2194.92 818.303 L2153.57 818.303 Q2153.12 818.303 2152.81 817.987 Q2152.49 817.67 2152.49 817.222 Q2152.49 816.774 2152.81 816.458 Q2153.12 816.142 2153.57 816.142 L2194.92 816.142 Q2192.44 814.482 2190.7 812.269 Q2187.93 808.764 2187.14 804.495 Q2187.14 804.469 2187.12 804.39 Q2187.09 804.284 2187.09 804.258 Q2187.09 803.81 2187.41 803.52 Q2187.72 803.204 2188.17 803.204 Q2188.57 803.204 2188.86 803.441 Q2189.15 803.678 2189.22 804.047 Q2189.91 807.71 2192.36 810.898 Q2195.81 815.193 2199.76 816.511 Z\" fill=\"#000000\" fill-rule=\"nonzero\" fill-opacity=\"1\" /><path clip-path=\"url(#clip070)\" d=\"M2453.9 812.918 Q2453.9 816.054 2452.45 819.163 Q2451 822.272 2448.63 824.644 Q2446.29 826.989 2443.07 828.465 Q2439.88 829.94 2436.62 829.94 Q2436.04 829.94 2434.85 829.808 Q2433.01 839.532 2432.95 839.69 Q2432.72 840.243 2432.24 840.586 Q2431.8 840.928 2431.48 841.007 Q2431.16 841.086 2430.95 841.086 Q2430.43 841.086 2429.9 840.717 Q2429.4 840.375 2429.4 839.584 Q2429.4 839.4 2429.66 838.504 L2432.53 829.44 Q2428.19 828.438 2425.68 825.671 Q2423.18 822.878 2423.18 819.084 Q2423.18 816.66 2424.29 813.498 Q2425.39 810.336 2426.74 808.201 Q2428.08 806.067 2428.84 806.067 Q2429.5 806.067 2429.5 806.62 Q2429.5 806.831 2429.08 807.305 Q2426.95 809.756 2425.76 813.287 Q2424.6 816.791 2424.6 818.478 Q2424.6 821.429 2426.87 823.563 Q2429.16 825.671 2433.46 826.462 Q2436.01 818.188 2437.54 814.71 Q2440.62 807.806 2444.63 806.12 Q2446.1 805.487 2447.74 805.487 Q2450.69 805.487 2452.3 807.569 Q2453.9 809.624 2453.9 812.918 M2452.37 814.104 Q2452.37 812.707 2451.87 811.521 Q2451.4 810.336 2450.19 809.492 Q2448.98 808.623 2447.21 808.623 Q2443.68 808.623 2440.73 812.022 Q2437.78 815.421 2436.51 820.691 L2435.43 826.541 Q2435.43 826.752 2436.14 826.752 Q2436.56 826.805 2437.12 826.805 Q2440.12 826.805 2442.97 825.671 Q2445.84 824.538 2447.87 822.747 Q2449.9 820.955 2451.14 818.662 Q2452.37 816.37 2452.37 814.104 Z\" fill=\"#000000\" fill-rule=\"nonzero\" fill-opacity=\"1\" /><path clip-path=\"url(#clip070)\" d=\"M2473.09 821.139 Q2473.14 820.48 2474.17 820.48 L2507.24 820.48 Q2508.79 820.48 2508.82 821.087 Q2508.82 821.745 2507.35 821.719 L2474.54 821.719 Q2473.09 821.745 2473.09 821.139 M2473.09 810.599 Q2473.09 809.94 2474.22 809.967 L2507.19 809.967 Q2508.79 809.967 2508.82 810.599 Q2508.82 811.205 2507.45 811.205 L2474.17 811.205 Q2473.09 811.205 2473.09 810.599 Z\" fill=\"#000000\" fill-rule=\"nonzero\" fill-opacity=\"1\" /><path clip-path=\"url(#clip070)\" d=\"M2529.63 812.075 Q2529.63 804.143 2531.63 799.822 Q2534.43 793.392 2541.01 793.392 Q2542.41 793.392 2543.86 793.788 Q2545.33 794.157 2547.18 795.606 Q2549.05 797.055 2550.18 799.427 Q2552.34 804.012 2552.34 812.075 Q2552.34 819.953 2550.34 824.249 Q2547.42 830.52 2540.96 830.52 Q2538.54 830.52 2536.06 829.281 Q2533.61 828.043 2532.05 825.065 Q2529.63 820.612 2529.63 812.075 M2534.11 811.416 Q2534.11 819.558 2534.69 822.799 Q2535.35 826.304 2537.14 827.832 Q2538.96 829.334 2540.96 829.334 Q2543.12 829.334 2544.91 827.727 Q2546.73 826.093 2547.28 822.588 Q2547.89 819.137 2547.86 811.416 Q2547.86 803.906 2547.34 800.902 Q2546.63 797.398 2544.73 796.001 Q2542.86 794.578 2540.96 794.578 Q2540.25 794.578 2539.48 794.789 Q2538.75 795 2537.67 795.606 Q2536.59 796.212 2535.74 797.714 Q2534.93 799.216 2534.53 801.482 Q2534.11 804.407 2534.11 811.416 Z\" fill=\"#000000\" fill-rule=\"nonzero\" fill-opacity=\"1\" /><path clip-path=\"url(#clip070)\" d=\"M2241.31 854.65 Q2237.83 860.639 2236.13 866.499 Q2234.44 872.358 2234.44 878.374 Q2234.44 884.389 2236.13 890.301 Q2237.85 896.186 2241.31 902.149 L2237.15 902.149 Q2233.24 896.03 2231.29 890.118 Q2229.36 884.207 2229.36 878.374 Q2229.36 872.566 2231.29 866.681 Q2233.22 860.796 2237.15 854.65 L2241.31 854.65 Z\" fill=\"#000000\" fill-rule=\"nonzero\" fill-opacity=\"1\" /><path clip-path=\"url(#clip070)\" d=\"M2250.82 856.238 L2273.16 856.238 L2273.16 860.665 L2256.08 860.665 L2256.08 872.124 L2271.5 872.124 L2271.5 876.551 L2256.08 876.551 L2256.08 895.118 L2250.82 895.118 L2250.82 856.238 Z\" fill=\"#000000\" fill-rule=\"nonzero\" fill-opacity=\"1\" /><path clip-path=\"url(#clip070)\" d=\"M2290.69 869.311 Q2286.84 869.311 2284.6 872.332 Q2282.36 875.327 2282.36 880.561 Q2282.36 885.795 2284.57 888.816 Q2286.81 891.811 2290.69 891.811 Q2294.52 891.811 2296.76 888.79 Q2299 885.769 2299 880.561 Q2299 875.379 2296.76 872.358 Q2294.52 869.311 2290.69 869.311 M2290.69 865.249 Q2296.94 865.249 2300.51 869.311 Q2304.07 873.374 2304.07 880.561 Q2304.07 887.722 2300.51 891.811 Q2296.94 895.873 2290.69 895.873 Q2284.41 895.873 2280.85 891.811 Q2277.3 887.722 2277.3 880.561 Q2277.3 873.374 2280.85 869.311 Q2284.41 865.249 2290.69 865.249 Z\" fill=\"#000000\" fill-rule=\"nonzero\" fill-opacity=\"1\" /><path clip-path=\"url(#clip070)\" d=\"M2312.02 854.598 L2316.81 854.598 L2316.81 895.118 L2312.02 895.118 L2312.02 854.598 Z\" fill=\"#000000\" fill-rule=\"nonzero\" fill-opacity=\"1\" /><path clip-path=\"url(#clip070)\" d=\"M2346.03 870.379 L2346.03 854.598 L2350.82 854.598 L2350.82 895.118 L2346.03 895.118 L2346.03 890.743 Q2344.52 893.347 2342.2 894.623 Q2339.91 895.873 2336.68 895.873 Q2331.39 895.873 2328.06 891.655 Q2324.75 887.436 2324.75 880.561 Q2324.75 873.686 2328.06 869.467 Q2331.39 865.249 2336.68 865.249 Q2339.91 865.249 2342.2 866.525 Q2344.52 867.775 2346.03 870.379 M2329.7 880.561 Q2329.7 885.847 2331.86 888.868 Q2334.05 891.863 2337.85 891.863 Q2341.65 891.863 2343.84 888.868 Q2346.03 885.847 2346.03 880.561 Q2346.03 875.275 2343.84 872.28 Q2341.65 869.259 2337.85 869.259 Q2334.05 869.259 2331.86 872.28 Q2329.7 875.275 2329.7 880.561 Z\" fill=\"#000000\" fill-rule=\"nonzero\" fill-opacity=\"1\" /><path clip-path=\"url(#clip070)\" d=\"M2358.27 878.374 L2372.3 878.374 L2372.3 882.644 L2358.27 882.644 L2358.27 878.374 Z\" fill=\"#000000\" fill-rule=\"nonzero\" fill-opacity=\"1\" /><path clip-path=\"url(#clip070)\" d=\"M2399.13 870.379 L2399.13 854.598 L2403.92 854.598 L2403.92 895.118 L2399.13 895.118 L2399.13 890.743 Q2397.62 893.347 2395.3 894.623 Q2393.01 895.873 2389.78 895.873 Q2384.49 895.873 2381.16 891.655 Q2377.85 887.436 2377.85 880.561 Q2377.85 873.686 2381.16 869.467 Q2384.49 865.249 2389.78 865.249 Q2393.01 865.249 2395.3 866.525 Q2397.62 867.775 2399.13 870.379 M2382.8 880.561 Q2382.8 885.847 2384.96 888.868 Q2387.15 891.863 2390.95 891.863 Q2394.75 891.863 2396.94 888.868 Q2399.13 885.847 2399.13 880.561 Q2399.13 875.275 2396.94 872.28 Q2394.75 869.259 2390.95 869.259 Q2387.15 869.259 2384.96 872.28 Q2382.8 875.275 2382.8 880.561 Z\" fill=\"#000000\" fill-rule=\"nonzero\" fill-opacity=\"1\" /><path clip-path=\"url(#clip070)\" d=\"M2438.74 879.337 L2438.74 881.681 L2416.7 881.681 Q2417.02 886.629 2419.67 889.233 Q2422.36 891.811 2427.12 891.811 Q2429.88 891.811 2432.46 891.134 Q2435.06 890.457 2437.62 889.103 L2437.62 893.634 Q2435.04 894.728 2432.33 895.301 Q2429.62 895.873 2426.83 895.873 Q2419.86 895.873 2415.77 891.811 Q2411.7 887.748 2411.7 880.821 Q2411.7 873.66 2415.56 869.467 Q2419.44 865.249 2426 865.249 Q2431.89 865.249 2435.3 869.051 Q2438.74 872.827 2438.74 879.337 M2433.94 877.931 Q2433.89 873.999 2431.73 871.655 Q2429.59 869.311 2426.05 869.311 Q2422.04 869.311 2419.62 871.577 Q2417.23 873.842 2416.86 877.957 L2433.94 877.931 Z\" fill=\"#000000\" fill-rule=\"nonzero\" fill-opacity=\"1\" /><path clip-path=\"url(#clip070)\" d=\"M2446.6 854.598 L2451.39 854.598 L2451.39 895.118 L2446.6 895.118 L2446.6 854.598 Z\" fill=\"#000000\" fill-rule=\"nonzero\" fill-opacity=\"1\" /><path clip-path=\"url(#clip070)\" d=\"M2486.37 879.337 L2486.37 881.681 L2464.33 881.681 Q2464.65 886.629 2467.3 889.233 Q2469.99 891.811 2474.75 891.811 Q2477.51 891.811 2480.09 891.134 Q2482.69 890.457 2485.25 889.103 L2485.25 893.634 Q2482.67 894.728 2479.96 895.301 Q2477.25 895.873 2474.46 895.873 Q2467.49 895.873 2463.4 891.811 Q2459.33 887.748 2459.33 880.821 Q2459.33 873.66 2463.19 869.467 Q2467.07 865.249 2473.63 865.249 Q2479.52 865.249 2482.93 869.051 Q2486.37 872.827 2486.37 879.337 M2481.57 877.931 Q2481.52 873.999 2479.36 871.655 Q2477.22 869.311 2473.68 869.311 Q2469.67 869.311 2467.25 871.577 Q2464.86 873.842 2464.49 877.957 L2481.57 877.931 Z\" fill=\"#000000\" fill-rule=\"nonzero\" fill-opacity=\"1\" /><path clip-path=\"url(#clip070)\" d=\"M2498.97 857.671 L2498.97 865.952 L2508.84 865.952 L2508.84 869.676 L2498.97 869.676 L2498.97 885.509 Q2498.97 889.077 2499.93 890.092 Q2500.92 891.108 2503.92 891.108 L2508.84 891.108 L2508.84 895.118 L2503.92 895.118 Q2498.37 895.118 2496.26 893.061 Q2494.15 890.978 2494.15 885.509 L2494.15 869.676 L2490.64 869.676 L2490.64 865.952 L2494.15 865.952 L2494.15 857.671 L2498.97 857.671 Z\" fill=\"#000000\" fill-rule=\"nonzero\" fill-opacity=\"1\" /><path clip-path=\"url(#clip070)\" d=\"M2540.09 879.337 L2540.09 881.681 L2518.06 881.681 Q2518.37 886.629 2521.03 889.233 Q2523.71 891.811 2528.47 891.811 Q2531.23 891.811 2533.81 891.134 Q2536.42 890.457 2538.97 889.103 L2538.97 893.634 Q2536.39 894.728 2533.68 895.301 Q2530.97 895.873 2528.19 895.873 Q2521.21 895.873 2517.12 891.811 Q2513.06 887.748 2513.06 880.821 Q2513.06 873.66 2516.91 869.467 Q2520.79 865.249 2527.35 865.249 Q2533.24 865.249 2536.65 869.051 Q2540.09 872.827 2540.09 879.337 M2535.3 877.931 Q2535.25 873.999 2533.08 871.655 Q2530.95 869.311 2527.41 869.311 Q2523.4 869.311 2520.97 871.577 Q2518.58 873.842 2518.21 877.957 L2535.3 877.931 Z\" fill=\"#000000\" fill-rule=\"nonzero\" fill-opacity=\"1\" /><path clip-path=\"url(#clip070)\" d=\"M2567.15 870.379 L2567.15 854.598 L2571.94 854.598 L2571.94 895.118 L2567.15 895.118 L2567.15 890.743 Q2565.64 893.347 2563.32 894.623 Q2561.03 895.873 2557.8 895.873 Q2552.51 895.873 2549.18 891.655 Q2545.87 887.436 2545.87 880.561 Q2545.87 873.686 2549.18 869.467 Q2552.51 865.249 2557.8 865.249 Q2561.03 865.249 2563.32 866.525 Q2565.64 867.775 2567.15 870.379 M2550.82 880.561 Q2550.82 885.847 2552.98 888.868 Q2555.17 891.863 2558.97 891.863 Q2562.77 891.863 2564.96 888.868 Q2567.15 885.847 2567.15 880.561 Q2567.15 875.275 2564.96 872.28 Q2562.77 869.259 2558.97 869.259 Q2555.17 869.259 2552.98 872.28 Q2550.82 875.275 2550.82 880.561 Z\" fill=\"#000000\" fill-rule=\"nonzero\" fill-opacity=\"1\" /><path clip-path=\"url(#clip070)\" d=\"M2581.05 854.65 L2585.22 854.65 Q2589.13 860.796 2591.05 866.681 Q2593.01 872.566 2593.01 878.374 Q2593.01 884.207 2591.05 890.118 Q2589.13 896.03 2585.22 902.149 L2581.05 902.149 Q2584.52 896.186 2586.21 890.301 Q2587.93 884.389 2587.93 878.374 Q2587.93 872.358 2586.21 866.499 Q2584.52 860.639 2581.05 854.65 Z\" fill=\"#000000\" fill-rule=\"nonzero\" fill-opacity=\"1\" /><polyline clip-path=\"url(#clip070)\" style=\"stroke:#000000; stroke-linecap:round; stroke-linejoin:round; stroke-width:4; stroke-opacity:1; fill:none\" points=\"1868.66,88.2143 1868.66,756.998 \"/>\n",
       "<polyline clip-path=\"url(#clip070)\" style=\"stroke:#000000; stroke-linecap:round; stroke-linejoin:round; stroke-width:4; stroke-opacity:1; fill:none\" points=\"2489.76,88.2143 2489.76,756.998 \"/>\n",
       "<polyline clip-path=\"url(#clip070)\" style=\"stroke:#000000; stroke-linecap:round; stroke-linejoin:round; stroke-width:4; stroke-opacity:1; fill:none\" points=\"1868.66,107.142 1849.76,107.142 \"/>\n",
       "<polyline clip-path=\"url(#clip070)\" style=\"stroke:#000000; stroke-linecap:round; stroke-linejoin:round; stroke-width:4; stroke-opacity:1; fill:none\" points=\"1868.66,177.245 1849.76,177.245 \"/>\n",
       "<polyline clip-path=\"url(#clip070)\" style=\"stroke:#000000; stroke-linecap:round; stroke-linejoin:round; stroke-width:4; stroke-opacity:1; fill:none\" points=\"1868.66,247.348 1849.76,247.348 \"/>\n",
       "<polyline clip-path=\"url(#clip070)\" style=\"stroke:#000000; stroke-linecap:round; stroke-linejoin:round; stroke-width:4; stroke-opacity:1; fill:none\" points=\"1868.66,317.452 1849.76,317.452 \"/>\n",
       "<polyline clip-path=\"url(#clip070)\" style=\"stroke:#000000; stroke-linecap:round; stroke-linejoin:round; stroke-width:4; stroke-opacity:1; fill:none\" points=\"1868.66,387.555 1849.76,387.555 \"/>\n",
       "<polyline clip-path=\"url(#clip070)\" style=\"stroke:#000000; stroke-linecap:round; stroke-linejoin:round; stroke-width:4; stroke-opacity:1; fill:none\" points=\"1868.66,457.658 1849.76,457.658 \"/>\n",
       "<polyline clip-path=\"url(#clip070)\" style=\"stroke:#000000; stroke-linecap:round; stroke-linejoin:round; stroke-width:4; stroke-opacity:1; fill:none\" points=\"1868.66,527.761 1849.76,527.761 \"/>\n",
       "<polyline clip-path=\"url(#clip070)\" style=\"stroke:#000000; stroke-linecap:round; stroke-linejoin:round; stroke-width:4; stroke-opacity:1; fill:none\" points=\"1868.66,597.864 1849.76,597.864 \"/>\n",
       "<polyline clip-path=\"url(#clip070)\" style=\"stroke:#000000; stroke-linecap:round; stroke-linejoin:round; stroke-width:4; stroke-opacity:1; fill:none\" points=\"1868.66,667.967 1849.76,667.967 \"/>\n",
       "<polyline clip-path=\"url(#clip070)\" style=\"stroke:#000000; stroke-linecap:round; stroke-linejoin:round; stroke-width:4; stroke-opacity:1; fill:none\" points=\"1868.66,738.07 1849.76,738.07 \"/>\n",
       "<polyline clip-path=\"url(#clip070)\" style=\"stroke:#000000; stroke-linecap:round; stroke-linejoin:round; stroke-width:4; stroke-opacity:1; fill:none\" points=\"2489.76,107.142 2508.66,107.142 \"/>\n",
       "<polyline clip-path=\"url(#clip070)\" style=\"stroke:#000000; stroke-linecap:round; stroke-linejoin:round; stroke-width:4; stroke-opacity:1; fill:none\" points=\"2489.76,177.245 2508.66,177.245 \"/>\n",
       "<polyline clip-path=\"url(#clip070)\" style=\"stroke:#000000; stroke-linecap:round; stroke-linejoin:round; stroke-width:4; stroke-opacity:1; fill:none\" points=\"2489.76,247.348 2508.66,247.348 \"/>\n",
       "<polyline clip-path=\"url(#clip070)\" style=\"stroke:#000000; stroke-linecap:round; stroke-linejoin:round; stroke-width:4; stroke-opacity:1; fill:none\" points=\"2489.76,317.452 2508.66,317.452 \"/>\n",
       "<polyline clip-path=\"url(#clip070)\" style=\"stroke:#000000; stroke-linecap:round; stroke-linejoin:round; stroke-width:4; stroke-opacity:1; fill:none\" points=\"2489.76,387.555 2508.66,387.555 \"/>\n",
       "<polyline clip-path=\"url(#clip070)\" style=\"stroke:#000000; stroke-linecap:round; stroke-linejoin:round; stroke-width:4; stroke-opacity:1; fill:none\" points=\"2489.76,457.658 2508.66,457.658 \"/>\n",
       "<polyline clip-path=\"url(#clip070)\" style=\"stroke:#000000; stroke-linecap:round; stroke-linejoin:round; stroke-width:4; stroke-opacity:1; fill:none\" points=\"2489.76,527.761 2508.66,527.761 \"/>\n",
       "<polyline clip-path=\"url(#clip070)\" style=\"stroke:#000000; stroke-linecap:round; stroke-linejoin:round; stroke-width:4; stroke-opacity:1; fill:none\" points=\"2489.76,597.864 2508.66,597.864 \"/>\n",
       "<polyline clip-path=\"url(#clip070)\" style=\"stroke:#000000; stroke-linecap:round; stroke-linejoin:round; stroke-width:4; stroke-opacity:1; fill:none\" points=\"2489.76,667.967 2508.66,667.967 \"/>\n",
       "<polyline clip-path=\"url(#clip070)\" style=\"stroke:#000000; stroke-linecap:round; stroke-linejoin:round; stroke-width:4; stroke-opacity:1; fill:none\" points=\"2489.76,738.07 2508.66,738.07 \"/>\n",
       "<path clip-path=\"url(#clip070)\" d=\"M1787.76 122.155 L1796.36 122.155 L1796.36 92.4938 L1787.01 94.3688 L1787.01 89.5771 L1796.31 87.7021 L1801.57 87.7021 L1801.57 122.155 L1810.16 122.155 L1810.16 126.582 L1787.76 126.582 L1787.76 122.155 Z\" fill=\"#000000\" fill-rule=\"nonzero\" fill-opacity=\"1\" /><path clip-path=\"url(#clip070)\" d=\"M1791.8 192.258 L1810.16 192.258 L1810.16 196.685 L1785.47 196.685 L1785.47 192.258 Q1788.47 189.159 1793.62 183.951 Q1798.81 178.717 1800.13 177.206 Q1802.66 174.368 1803.65 172.415 Q1804.66 170.435 1804.66 168.534 Q1804.66 165.435 1802.48 163.482 Q1800.32 161.529 1796.83 161.529 Q1794.35 161.529 1791.59 162.389 Q1788.86 163.248 1785.73 164.993 L1785.73 159.68 Q1788.91 158.404 1791.67 157.753 Q1794.43 157.102 1796.72 157.102 Q1802.76 157.102 1806.36 160.123 Q1809.95 163.144 1809.95 168.196 Q1809.95 170.592 1809.04 172.753 Q1808.15 174.889 1805.78 177.805 Q1805.13 178.56 1801.64 182.18 Q1798.15 185.774 1791.8 192.258 Z\" fill=\"#000000\" fill-rule=\"nonzero\" fill-opacity=\"1\" /><path clip-path=\"url(#clip070)\" d=\"M1802.14 245.825 Q1805.91 246.632 1808.02 249.184 Q1810.16 251.736 1810.16 255.486 Q1810.16 261.242 1806.2 264.393 Q1802.24 267.544 1794.95 267.544 Q1792.5 267.544 1789.9 267.049 Q1787.32 266.58 1784.56 265.617 L1784.56 260.538 Q1786.75 261.814 1789.35 262.466 Q1791.96 263.117 1794.8 263.117 Q1799.74 263.117 1802.32 261.163 Q1804.93 259.21 1804.93 255.486 Q1804.93 252.049 1802.5 250.122 Q1800.11 248.169 1795.81 248.169 L1791.28 248.169 L1791.28 243.846 L1796.02 243.846 Q1799.9 243.846 1801.96 242.309 Q1804.01 240.747 1804.01 237.83 Q1804.01 234.835 1801.88 233.247 Q1799.77 231.632 1795.81 231.632 Q1793.65 231.632 1791.18 232.101 Q1788.7 232.57 1785.73 233.559 L1785.73 228.872 Q1788.73 228.039 1791.33 227.622 Q1793.96 227.205 1796.28 227.205 Q1802.27 227.205 1805.76 229.94 Q1809.25 232.648 1809.25 237.283 Q1809.25 240.513 1807.4 242.752 Q1805.55 244.966 1802.14 245.825 Z\" fill=\"#000000\" fill-rule=\"nonzero\" fill-opacity=\"1\" /><path clip-path=\"url(#clip070)\" d=\"M1799.38 302.595 L1786.1 323.35 L1799.38 323.35 L1799.38 302.595 M1798 298.012 L1804.61 298.012 L1804.61 323.35 L1810.16 323.35 L1810.16 327.725 L1804.61 327.725 L1804.61 336.892 L1799.38 336.892 L1799.38 327.725 L1781.83 327.725 L1781.83 322.647 L1798 298.012 Z\" fill=\"#000000\" fill-rule=\"nonzero\" fill-opacity=\"1\" /><path clip-path=\"url(#clip070)\" d=\"M1786.64 368.115 L1807.3 368.115 L1807.3 372.542 L1791.46 372.542 L1791.46 382.073 Q1792.61 381.682 1793.75 381.5 Q1794.9 381.292 1796.05 381.292 Q1802.56 381.292 1806.36 384.859 Q1810.16 388.427 1810.16 394.521 Q1810.16 400.797 1806.25 404.286 Q1802.35 407.75 1795.24 407.75 Q1792.79 407.75 1790.24 407.333 Q1787.71 406.917 1785 406.083 L1785 400.797 Q1787.35 402.073 1789.85 402.698 Q1792.35 403.323 1795.13 403.323 Q1799.64 403.323 1802.27 400.953 Q1804.9 398.583 1804.9 394.521 Q1804.9 390.458 1802.27 388.089 Q1799.64 385.719 1795.13 385.719 Q1793.02 385.719 1790.91 386.188 Q1788.83 386.656 1786.64 387.646 L1786.64 368.115 Z\" fill=\"#000000\" fill-rule=\"nonzero\" fill-opacity=\"1\" /><path clip-path=\"url(#clip070)\" d=\"M1797.19 455.561 Q1793.65 455.561 1791.57 457.983 Q1789.51 460.405 1789.51 464.624 Q1789.51 468.817 1791.57 471.265 Q1793.65 473.686 1797.19 473.686 Q1800.73 473.686 1802.79 471.265 Q1804.87 468.817 1804.87 464.624 Q1804.87 460.405 1802.79 457.983 Q1800.73 455.561 1797.19 455.561 M1807.63 439.077 L1807.63 443.869 Q1805.65 442.931 1803.62 442.437 Q1801.62 441.942 1799.64 441.942 Q1794.43 441.942 1791.67 445.457 Q1788.94 448.973 1788.55 456.082 Q1790.08 453.817 1792.4 452.619 Q1794.72 451.395 1797.5 451.395 Q1803.36 451.395 1806.75 454.963 Q1810.16 458.504 1810.16 464.624 Q1810.16 470.613 1806.62 474.233 Q1803.08 477.853 1797.19 477.853 Q1790.45 477.853 1786.88 472.697 Q1783.31 467.515 1783.31 457.697 Q1783.31 448.478 1787.69 443.009 Q1792.06 437.515 1799.43 437.515 Q1801.41 437.515 1803.41 437.905 Q1805.45 438.296 1807.63 439.077 Z\" fill=\"#000000\" fill-rule=\"nonzero\" fill-opacity=\"1\" /><path clip-path=\"url(#clip070)\" d=\"M1785.16 508.321 L1810.16 508.321 L1810.16 510.561 L1796.05 547.201 L1790.55 547.201 L1803.83 512.748 L1785.16 512.748 L1785.16 508.321 Z\" fill=\"#000000\" fill-rule=\"nonzero\" fill-opacity=\"1\" /><path clip-path=\"url(#clip070)\" d=\"M1796.83 598.841 Q1793.08 598.841 1790.91 600.846 Q1788.78 602.851 1788.78 606.367 Q1788.78 609.882 1790.91 611.887 Q1793.08 613.893 1796.83 613.893 Q1800.58 613.893 1802.74 611.887 Q1804.9 609.856 1804.9 606.367 Q1804.9 602.851 1802.74 600.846 Q1800.6 598.841 1796.83 598.841 M1791.57 596.601 Q1788.18 595.768 1786.28 593.45 Q1784.4 591.132 1784.4 587.799 Q1784.4 583.138 1787.71 580.429 Q1791.05 577.721 1796.83 577.721 Q1802.63 577.721 1805.94 580.429 Q1809.25 583.138 1809.25 587.799 Q1809.25 591.132 1807.35 593.45 Q1805.47 595.768 1802.11 596.601 Q1805.91 597.487 1808.02 600.065 Q1810.16 602.643 1810.16 606.367 Q1810.16 612.018 1806.7 615.038 Q1803.26 618.059 1796.83 618.059 Q1790.39 618.059 1786.93 615.038 Q1783.49 612.018 1783.49 606.367 Q1783.49 602.643 1785.63 600.065 Q1787.76 597.487 1791.57 596.601 M1789.64 588.294 Q1789.64 591.315 1791.51 593.007 Q1793.41 594.7 1796.83 594.7 Q1800.21 594.7 1802.11 593.007 Q1804.04 591.315 1804.04 588.294 Q1804.04 585.273 1802.11 583.58 Q1800.21 581.888 1796.83 581.888 Q1793.41 581.888 1791.51 583.58 Q1789.64 585.273 1789.64 588.294 Z\" fill=\"#000000\" fill-rule=\"nonzero\" fill-opacity=\"1\" /><path clip-path=\"url(#clip070)\" d=\"M1785.84 686.6 L1785.84 681.808 Q1787.82 682.746 1789.85 683.241 Q1791.88 683.735 1793.83 683.735 Q1799.04 683.735 1801.77 680.246 Q1804.53 676.73 1804.93 669.595 Q1803.41 671.834 1801.1 673.032 Q1798.78 674.23 1795.97 674.23 Q1790.13 674.23 1786.72 670.715 Q1783.34 667.173 1783.34 661.053 Q1783.34 655.064 1786.88 651.444 Q1790.42 647.824 1796.31 647.824 Q1803.05 647.824 1806.59 653.006 Q1810.16 658.163 1810.16 668.006 Q1810.16 677.199 1805.78 682.694 Q1801.44 688.162 1794.07 688.162 Q1792.09 688.162 1790.06 687.772 Q1788.02 687.381 1785.84 686.6 M1796.31 670.116 Q1799.85 670.116 1801.9 667.694 Q1803.99 665.272 1803.99 661.053 Q1803.99 656.861 1801.9 654.439 Q1799.85 651.991 1796.31 651.991 Q1792.76 651.991 1790.68 654.439 Q1788.62 656.861 1788.62 661.053 Q1788.62 665.272 1790.68 667.694 Q1792.76 670.116 1796.31 670.116 Z\" fill=\"#000000\" fill-rule=\"nonzero\" fill-opacity=\"1\" /><path clip-path=\"url(#clip070)\" d=\"M1752.45 753.083 L1761.05 753.083 L1761.05 723.422 L1751.7 725.297 L1751.7 720.505 L1760.99 718.63 L1766.25 718.63 L1766.25 753.083 L1774.85 753.083 L1774.85 757.51 L1752.45 757.51 L1752.45 753.083 Z\" fill=\"#000000\" fill-rule=\"nonzero\" fill-opacity=\"1\" /><path clip-path=\"url(#clip070)\" d=\"M1796.72 722.094 Q1792.66 722.094 1790.6 726.104 Q1788.57 730.089 1788.57 738.109 Q1788.57 746.104 1790.6 750.115 Q1792.66 754.099 1796.72 754.099 Q1800.81 754.099 1802.84 750.115 Q1804.9 746.104 1804.9 738.109 Q1804.9 730.089 1802.84 726.104 Q1800.81 722.094 1796.72 722.094 M1796.72 717.927 Q1803.26 717.927 1806.7 723.11 Q1810.16 728.266 1810.16 738.109 Q1810.16 747.927 1806.7 753.109 Q1803.26 758.266 1796.72 758.266 Q1790.19 758.266 1786.72 753.109 Q1783.28 747.927 1783.28 738.109 Q1783.28 728.266 1786.72 723.11 Q1790.19 717.927 1796.72 717.927 Z\" fill=\"#000000\" fill-rule=\"nonzero\" fill-opacity=\"1\" /><path clip-path=\"url(#clip070)\" d=\"M2101.85 14.7875 L2101.85 32.6433 L2109.94 32.6433 Q2114.42 32.6433 2116.88 30.3199 Q2119.33 27.9964 2119.33 23.6995 Q2119.33 19.4345 2116.88 17.111 Q2114.42 14.7875 2109.94 14.7875 L2101.85 14.7875 M2095.42 9.504 L2109.94 9.504 Q2117.93 9.504 2122 13.1325 Q2126.11 16.7291 2126.11 23.6995 Q2126.11 30.7336 2122 34.3303 Q2117.93 37.9269 2109.94 37.9269 L2101.85 37.9269 L2101.85 57.024 L2095.42 57.024 L2095.42 9.504 Z\" fill=\"#000000\" fill-rule=\"nonzero\" fill-opacity=\"1\" /><path clip-path=\"url(#clip070)\" d=\"M2147.75 39.1045 Q2140.65 39.1045 2137.91 40.7278 Q2135.18 42.351 2135.18 46.266 Q2135.18 49.3852 2137.21 51.2312 Q2139.28 53.0454 2142.82 53.0454 Q2147.69 53.0454 2150.61 49.608 Q2153.57 46.1386 2153.57 40.4095 L2153.57 39.1045 L2147.75 39.1045 M2159.43 36.6856 L2159.43 57.024 L2153.57 57.024 L2153.57 51.6131 Q2151.57 54.8597 2148.58 56.4193 Q2145.58 57.947 2141.26 57.947 Q2135.78 57.947 2132.54 54.8915 Q2129.32 51.8041 2129.32 46.6479 Q2129.32 40.6323 2133.33 37.5768 Q2137.37 34.5212 2145.36 34.5212 L2153.57 34.5212 L2153.57 33.9483 Q2153.57 29.9061 2150.9 27.7099 Q2148.26 25.4819 2143.45 25.4819 Q2140.4 25.4819 2137.5 26.214 Q2134.6 26.946 2131.93 28.4101 L2131.93 22.9993 Q2135.15 21.758 2138.17 21.1532 Q2141.19 20.5167 2144.06 20.5167 Q2151.79 20.5167 2155.61 24.5271 Q2159.43 28.5375 2159.43 36.6856 Z\" fill=\"#000000\" fill-rule=\"nonzero\" fill-opacity=\"1\" /><path clip-path=\"url(#clip070)\" d=\"M2177.29 11.2546 L2177.29 21.376 L2189.35 21.376 L2189.35 25.9275 L2177.29 25.9275 L2177.29 45.2793 Q2177.29 49.6398 2178.46 50.8811 Q2179.67 52.1224 2183.33 52.1224 L2189.35 52.1224 L2189.35 57.024 L2183.33 57.024 Q2176.55 57.024 2173.98 54.5095 Q2171.4 51.9633 2171.4 45.2793 L2171.4 25.9275 L2167.1 25.9275 L2167.1 21.376 L2171.4 21.376 L2171.4 11.2546 L2177.29 11.2546 Z\" fill=\"#000000\" fill-rule=\"nonzero\" fill-opacity=\"1\" /><path clip-path=\"url(#clip070)\" d=\"M2226.68 35.5079 L2226.68 57.024 L2220.83 57.024 L2220.83 35.6989 Q2220.83 30.6381 2218.85 28.1237 Q2216.88 25.6092 2212.93 25.6092 Q2208.19 25.6092 2205.45 28.6329 Q2202.72 31.6567 2202.72 36.8765 L2202.72 57.024 L2196.83 57.024 L2196.83 7.4988 L2202.72 7.4988 L2202.72 26.9142 Q2204.82 23.6995 2207.65 22.1081 Q2210.52 20.5167 2214.24 20.5167 Q2220.38 20.5167 2223.53 24.3361 Q2226.68 28.1237 2226.68 35.5079 Z\" fill=\"#000000\" fill-rule=\"nonzero\" fill-opacity=\"1\" /><path clip-path=\"url(#clip070)\" d=\"M2261.09 22.4264 L2261.09 27.9645 Q2258.61 26.6914 2255.93 26.0548 Q2253.26 25.4183 2250.4 25.4183 Q2246.04 25.4183 2243.84 26.7551 Q2241.68 28.0919 2241.68 30.7655 Q2241.68 32.8025 2243.23 33.9801 Q2244.79 35.126 2249.51 36.1763 L2251.51 36.6219 Q2257.75 37.9587 2260.36 40.4095 Q2263 42.8285 2263 47.189 Q2263 52.1542 2259.05 55.0506 Q2255.14 57.947 2248.26 57.947 Q2245.4 57.947 2242.28 57.3741 Q2239.19 56.833 2235.76 55.719 L2235.76 49.6716 Q2239 51.3585 2242.15 52.2179 Q2245.3 53.0454 2248.39 53.0454 Q2252.53 53.0454 2254.76 51.645 Q2256.98 50.2127 2256.98 47.6346 Q2256.98 45.2474 2255.36 43.9743 Q2253.77 42.7012 2248.33 41.5235 L2246.29 41.0461 Q2240.85 39.9002 2238.43 37.5449 Q2236.01 35.1578 2236.01 31.0201 Q2236.01 25.9912 2239.57 23.2539 Q2243.14 20.5167 2249.7 20.5167 Q2252.94 20.5167 2255.81 20.9941 Q2258.67 21.4715 2261.09 22.4264 Z\" fill=\"#000000\" fill-rule=\"nonzero\" fill-opacity=\"1\" /><circle clip-path=\"url(#clip075)\" cx=\"1868.66\" cy=\"107.142\" r=\"14.4\" fill=\"#ff0000\" fill-rule=\"evenodd\" fill-opacity=\"1\" stroke=\"#000000\" stroke-opacity=\"1\" stroke-width=\"0.184\"/>\n",
       "<circle clip-path=\"url(#clip075)\" cx=\"2256.76\" cy=\"107.142\" r=\"14.4\" fill=\"#ff0000\" fill-rule=\"evenodd\" fill-opacity=\"1\" stroke=\"#000000\" stroke-opacity=\"1\" stroke-width=\"0.184\"/>\n",
       "<circle clip-path=\"url(#clip075)\" cx=\"2489.76\" cy=\"107.142\" r=\"14.4\" fill=\"#ff0000\" fill-rule=\"evenodd\" fill-opacity=\"1\" stroke=\"#000000\" stroke-opacity=\"1\" stroke-width=\"0.184\"/>\n",
       "<circle clip-path=\"url(#clip075)\" cx=\"1868.66\" cy=\"177.245\" r=\"14.4\" fill=\"#ff0000\" fill-rule=\"evenodd\" fill-opacity=\"1\" stroke=\"#000000\" stroke-opacity=\"1\" stroke-width=\"0.184\"/>\n",
       "<circle clip-path=\"url(#clip075)\" cx=\"2230.42\" cy=\"177.245\" r=\"14.4\" fill=\"#ff0000\" fill-rule=\"evenodd\" fill-opacity=\"1\" stroke=\"#000000\" stroke-opacity=\"1\" stroke-width=\"0.184\"/>\n",
       "<circle clip-path=\"url(#clip075)\" cx=\"2489.76\" cy=\"177.245\" r=\"14.4\" fill=\"#ff0000\" fill-rule=\"evenodd\" fill-opacity=\"1\" stroke=\"#000000\" stroke-opacity=\"1\" stroke-width=\"0.184\"/>\n",
       "<circle clip-path=\"url(#clip075)\" cx=\"1868.66\" cy=\"247.348\" r=\"14.4\" fill=\"#ff0000\" fill-rule=\"evenodd\" fill-opacity=\"1\" stroke=\"#000000\" stroke-opacity=\"1\" stroke-width=\"0.184\"/>\n",
       "<circle clip-path=\"url(#clip075)\" cx=\"2295.26\" cy=\"247.348\" r=\"14.4\" fill=\"#ff0000\" fill-rule=\"evenodd\" fill-opacity=\"1\" stroke=\"#000000\" stroke-opacity=\"1\" stroke-width=\"0.184\"/>\n",
       "<circle clip-path=\"url(#clip075)\" cx=\"2489.76\" cy=\"247.348\" r=\"14.4\" fill=\"#ff0000\" fill-rule=\"evenodd\" fill-opacity=\"1\" stroke=\"#000000\" stroke-opacity=\"1\" stroke-width=\"0.184\"/>\n",
       "<circle clip-path=\"url(#clip075)\" cx=\"1868.66\" cy=\"317.452\" r=\"14.4\" fill=\"#ff0000\" fill-rule=\"evenodd\" fill-opacity=\"1\" stroke=\"#000000\" stroke-opacity=\"1\" stroke-width=\"0.184\"/>\n",
       "<circle clip-path=\"url(#clip075)\" cx=\"2325.65\" cy=\"317.452\" r=\"14.4\" fill=\"#ff0000\" fill-rule=\"evenodd\" fill-opacity=\"1\" stroke=\"#000000\" stroke-opacity=\"1\" stroke-width=\"0.184\"/>\n",
       "<circle clip-path=\"url(#clip075)\" cx=\"2489.76\" cy=\"317.452\" r=\"14.4\" fill=\"#ff0000\" fill-rule=\"evenodd\" fill-opacity=\"1\" stroke=\"#000000\" stroke-opacity=\"1\" stroke-width=\"0.184\"/>\n",
       "<circle clip-path=\"url(#clip075)\" cx=\"1868.66\" cy=\"387.555\" r=\"14.4\" fill=\"#ff0000\" fill-rule=\"evenodd\" fill-opacity=\"1\" stroke=\"#000000\" stroke-opacity=\"1\" stroke-width=\"0.184\"/>\n",
       "<circle clip-path=\"url(#clip075)\" cx=\"2114.65\" cy=\"387.555\" r=\"14.4\" fill=\"#ff0000\" fill-rule=\"evenodd\" fill-opacity=\"1\" stroke=\"#000000\" stroke-opacity=\"1\" stroke-width=\"0.184\"/>\n",
       "<circle clip-path=\"url(#clip075)\" cx=\"2359.7\" cy=\"387.555\" r=\"14.4\" fill=\"#ff0000\" fill-rule=\"evenodd\" fill-opacity=\"1\" stroke=\"#000000\" stroke-opacity=\"1\" stroke-width=\"0.184\"/>\n",
       "<circle clip-path=\"url(#clip075)\" cx=\"2489.76\" cy=\"387.555\" r=\"14.4\" fill=\"#ff0000\" fill-rule=\"evenodd\" fill-opacity=\"1\" stroke=\"#000000\" stroke-opacity=\"1\" stroke-width=\"0.184\"/>\n",
       "<circle clip-path=\"url(#clip075)\" cx=\"1868.66\" cy=\"457.658\" r=\"14.4\" fill=\"#ff0000\" fill-rule=\"evenodd\" fill-opacity=\"1\" stroke=\"#000000\" stroke-opacity=\"1\" stroke-width=\"0.184\"/>\n",
       "<circle clip-path=\"url(#clip075)\" cx=\"2062.99\" cy=\"457.658\" r=\"14.4\" fill=\"#ff0000\" fill-rule=\"evenodd\" fill-opacity=\"1\" stroke=\"#000000\" stroke-opacity=\"1\" stroke-width=\"0.184\"/>\n",
       "<circle clip-path=\"url(#clip075)\" cx=\"2249.08\" cy=\"457.658\" r=\"14.4\" fill=\"#ff0000\" fill-rule=\"evenodd\" fill-opacity=\"1\" stroke=\"#000000\" stroke-opacity=\"1\" stroke-width=\"0.184\"/>\n",
       "<circle clip-path=\"url(#clip075)\" cx=\"2400.23\" cy=\"457.658\" r=\"14.4\" fill=\"#ff0000\" fill-rule=\"evenodd\" fill-opacity=\"1\" stroke=\"#000000\" stroke-opacity=\"1\" stroke-width=\"0.184\"/>\n",
       "<circle clip-path=\"url(#clip075)\" cx=\"2489.76\" cy=\"457.658\" r=\"14.4\" fill=\"#ff0000\" fill-rule=\"evenodd\" fill-opacity=\"1\" stroke=\"#000000\" stroke-opacity=\"1\" stroke-width=\"0.184\"/>\n",
       "<circle clip-path=\"url(#clip075)\" cx=\"1868.66\" cy=\"527.761\" r=\"14.4\" fill=\"#ff0000\" fill-rule=\"evenodd\" fill-opacity=\"1\" stroke=\"#000000\" stroke-opacity=\"1\" stroke-width=\"0.184\"/>\n",
       "<circle clip-path=\"url(#clip075)\" cx=\"2066.03\" cy=\"527.761\" r=\"14.4\" fill=\"#ff0000\" fill-rule=\"evenodd\" fill-opacity=\"1\" stroke=\"#000000\" stroke-opacity=\"1\" stroke-width=\"0.184\"/>\n",
       "<circle clip-path=\"url(#clip075)\" cx=\"2231.06\" cy=\"527.761\" r=\"14.4\" fill=\"#ff0000\" fill-rule=\"evenodd\" fill-opacity=\"1\" stroke=\"#000000\" stroke-opacity=\"1\" stroke-width=\"0.184\"/>\n",
       "<circle clip-path=\"url(#clip075)\" cx=\"2359.43\" cy=\"527.761\" r=\"14.4\" fill=\"#ff0000\" fill-rule=\"evenodd\" fill-opacity=\"1\" stroke=\"#000000\" stroke-opacity=\"1\" stroke-width=\"0.184\"/>\n",
       "<circle clip-path=\"url(#clip075)\" cx=\"2460.19\" cy=\"527.761\" r=\"14.4\" fill=\"#ff0000\" fill-rule=\"evenodd\" fill-opacity=\"1\" stroke=\"#000000\" stroke-opacity=\"1\" stroke-width=\"0.184\"/>\n",
       "<circle clip-path=\"url(#clip075)\" cx=\"2489.76\" cy=\"527.761\" r=\"14.4\" fill=\"#ff0000\" fill-rule=\"evenodd\" fill-opacity=\"1\" stroke=\"#000000\" stroke-opacity=\"1\" stroke-width=\"0.184\"/>\n",
       "<circle clip-path=\"url(#clip075)\" cx=\"1868.66\" cy=\"597.864\" r=\"14.4\" fill=\"#ff0000\" fill-rule=\"evenodd\" fill-opacity=\"1\" stroke=\"#000000\" stroke-opacity=\"1\" stroke-width=\"0.184\"/>\n",
       "<circle clip-path=\"url(#clip075)\" cx=\"2044.75\" cy=\"597.864\" r=\"14.4\" fill=\"#ff0000\" fill-rule=\"evenodd\" fill-opacity=\"1\" stroke=\"#000000\" stroke-opacity=\"1\" stroke-width=\"0.184\"/>\n",
       "<circle clip-path=\"url(#clip075)\" cx=\"2198.39\" cy=\"597.864\" r=\"14.4\" fill=\"#ff0000\" fill-rule=\"evenodd\" fill-opacity=\"1\" stroke=\"#000000\" stroke-opacity=\"1\" stroke-width=\"0.184\"/>\n",
       "<circle clip-path=\"url(#clip075)\" cx=\"2316.8\" cy=\"597.864\" r=\"14.4\" fill=\"#ff0000\" fill-rule=\"evenodd\" fill-opacity=\"1\" stroke=\"#000000\" stroke-opacity=\"1\" stroke-width=\"0.184\"/>\n",
       "<circle clip-path=\"url(#clip075)\" cx=\"2412.01\" cy=\"597.864\" r=\"14.4\" fill=\"#ff0000\" fill-rule=\"evenodd\" fill-opacity=\"1\" stroke=\"#000000\" stroke-opacity=\"1\" stroke-width=\"0.184\"/>\n",
       "<circle clip-path=\"url(#clip075)\" cx=\"2482.86\" cy=\"597.864\" r=\"14.4\" fill=\"#ff0000\" fill-rule=\"evenodd\" fill-opacity=\"1\" stroke=\"#000000\" stroke-opacity=\"1\" stroke-width=\"0.184\"/>\n",
       "<circle clip-path=\"url(#clip075)\" cx=\"2489.76\" cy=\"597.864\" r=\"14.4\" fill=\"#ff0000\" fill-rule=\"evenodd\" fill-opacity=\"1\" stroke=\"#000000\" stroke-opacity=\"1\" stroke-width=\"0.184\"/>\n",
       "<circle clip-path=\"url(#clip075)\" cx=\"1868.66\" cy=\"667.967\" r=\"14.4\" fill=\"#ff0000\" fill-rule=\"evenodd\" fill-opacity=\"1\" stroke=\"#000000\" stroke-opacity=\"1\" stroke-width=\"0.184\"/>\n",
       "<circle clip-path=\"url(#clip075)\" cx=\"2058.94\" cy=\"667.967\" r=\"14.4\" fill=\"#ff0000\" fill-rule=\"evenodd\" fill-opacity=\"1\" stroke=\"#000000\" stroke-opacity=\"1\" stroke-width=\"0.184\"/>\n",
       "<circle clip-path=\"url(#clip075)\" cx=\"2209.43\" cy=\"667.967\" r=\"14.4\" fill=\"#ff0000\" fill-rule=\"evenodd\" fill-opacity=\"1\" stroke=\"#000000\" stroke-opacity=\"1\" stroke-width=\"0.184\"/>\n",
       "<circle clip-path=\"url(#clip075)\" cx=\"2330.74\" cy=\"667.967\" r=\"14.4\" fill=\"#ff0000\" fill-rule=\"evenodd\" fill-opacity=\"1\" stroke=\"#000000\" stroke-opacity=\"1\" stroke-width=\"0.184\"/>\n",
       "<circle clip-path=\"url(#clip075)\" cx=\"2421.07\" cy=\"667.967\" r=\"14.4\" fill=\"#ff0000\" fill-rule=\"evenodd\" fill-opacity=\"1\" stroke=\"#000000\" stroke-opacity=\"1\" stroke-width=\"0.184\"/>\n",
       "<circle clip-path=\"url(#clip075)\" cx=\"2489.76\" cy=\"667.967\" r=\"14.4\" fill=\"#ff0000\" fill-rule=\"evenodd\" fill-opacity=\"1\" stroke=\"#000000\" stroke-opacity=\"1\" stroke-width=\"0.184\"/>\n",
       "<circle clip-path=\"url(#clip075)\" cx=\"1868.66\" cy=\"738.07\" r=\"14.4\" fill=\"#ff0000\" fill-rule=\"evenodd\" fill-opacity=\"1\" stroke=\"#000000\" stroke-opacity=\"1\" stroke-width=\"0.184\"/>\n",
       "<circle clip-path=\"url(#clip075)\" cx=\"2040.7\" cy=\"738.07\" r=\"14.4\" fill=\"#ff0000\" fill-rule=\"evenodd\" fill-opacity=\"1\" stroke=\"#000000\" stroke-opacity=\"1\" stroke-width=\"0.184\"/>\n",
       "<circle clip-path=\"url(#clip075)\" cx=\"2160.81\" cy=\"738.07\" r=\"14.4\" fill=\"#ff0000\" fill-rule=\"evenodd\" fill-opacity=\"1\" stroke=\"#000000\" stroke-opacity=\"1\" stroke-width=\"0.184\"/>\n",
       "<circle clip-path=\"url(#clip075)\" cx=\"2267.99\" cy=\"738.07\" r=\"14.4\" fill=\"#ff0000\" fill-rule=\"evenodd\" fill-opacity=\"1\" stroke=\"#000000\" stroke-opacity=\"1\" stroke-width=\"0.184\"/>\n",
       "<circle clip-path=\"url(#clip075)\" cx=\"2349.79\" cy=\"738.07\" r=\"14.4\" fill=\"#ff0000\" fill-rule=\"evenodd\" fill-opacity=\"1\" stroke=\"#000000\" stroke-opacity=\"1\" stroke-width=\"0.184\"/>\n",
       "<circle clip-path=\"url(#clip075)\" cx=\"2410.86\" cy=\"738.07\" r=\"14.4\" fill=\"#ff0000\" fill-rule=\"evenodd\" fill-opacity=\"1\" stroke=\"#000000\" stroke-opacity=\"1\" stroke-width=\"0.184\"/>\n",
       "<circle clip-path=\"url(#clip075)\" cx=\"2461.16\" cy=\"738.07\" r=\"14.4\" fill=\"#ff0000\" fill-rule=\"evenodd\" fill-opacity=\"1\" stroke=\"#000000\" stroke-opacity=\"1\" stroke-width=\"0.184\"/>\n",
       "<circle clip-path=\"url(#clip075)\" cx=\"2489.76\" cy=\"738.07\" r=\"14.4\" fill=\"#ff0000\" fill-rule=\"evenodd\" fill-opacity=\"1\" stroke=\"#000000\" stroke-opacity=\"1\" stroke-width=\"0.184\"/>\n",
       "</svg>\n"
      ]
     },
     "metadata": {},
     "output_type": "display_data"
    }
   ],
   "source": [
    "let\n",
    "    # Compute weighted average estimates: MCMC-, SMC- and PSIS-LSO-CV\n",
    "    est_mcmc = _mean(LPD_mcmc; dims=1)\n",
    "    est_smc = [sum(LPD_smc[:, fold_i] .* weights_smc[fold_i])\n",
    "        for (fold_i, _) in enumerate(data.valid_idx)]\n",
    "    est_psis = [sum(LPD_psis[:, fold_i] .* weights_psis[fold_i])\n",
    "        for (fold_i, _) in enumerate(data.valid_idx)]\n",
    "\n",
    "    # Compute relative error per fold\n",
    "    relErr_smc = abs.(est_mcmc - est_smc) ./ abs.(est_mcmc)\n",
    "    relErr_psis = abs.(est_mcmc - est_psis) ./ abs.(est_mcmc)\n",
    "\n",
    "    # Sort folds by PSIS error\n",
    "    re_idx = relErr_psis |> sortperm\n",
    "\n",
    "    \"\"\"Plot 1: relative errors\"\"\"\n",
    "    plot(relErr_smc[re_idx], color=:red, label=\"\", linewidth=2, alpha=0.7,\n",
    "        markershape=:o, ms=3, mswidth=0)\n",
    "    plot!(relErr_psis[re_idx], color=:green, label=\"\", linewidth=2, alpha=0.7,\n",
    "        markershape=:square, ms=3, mswidth=0)\n",
    "    plt_1 = plot!(title=\"Relative error\",\n",
    "        xlabel=\"Group \"* L\"K\" * \"-fold index\", xticks=1:length(data.valid_idx),\n",
    "        xtickfontsize=9, ytickfontsize=9,\n",
    "        ylim=(0, 1.1maximum([relErr_smc; relErr_psis])))\n",
    "    annotate!(10-0.3, relErr_psis[re_idx][end], text(\"PSIS\", 9, :green, :right))\n",
    "    annotate!(10+0.0, relErr_smc[re_idx][end] + 0.003, text(\"SMC\", 9, :red, :bottom))\n",
    "\n",
    "    # Used only for GIF figure\n",
    "    #annotate!(2, 0.09, text(L\"\\hat{k}\" * \" Threshold:\" * repeat(\"\\n\", 2), 9, :left))\n",
    "    #for (i, threshold) in enumerate([-Inf, 0.5, 0.7, 0.9, +Inf])\n",
    "    #    _txt = threshold == k̂_threshold ? text(threshold, 9, :red) : text(threshold, 8, :gray)\n",
    "    #    annotate!(LinRange(2,7.5,5)[i], 0.09, _txt)\n",
    "    #end\n",
    "\n",
    "    # Load runtimes, reorder by sorted indices\n",
    "    time_mcmc = load(joinpath(\"output\", \"M5\", \"mcmc\",\n",
    "            \"times_naive-lso.jld\"))[\"data\"] / 60\n",
    "    time_smc  = load(joinpath(\"output\", \"M5\", \"smc\",\n",
    "            \"times_threshold-$(k̂_threshold).jld\"))[\"data\"] / 60\n",
    "    time_psis = load(joinpath(\"output\", \"M5\", \"psis\",\n",
    "            \"times_threshold-$(0.7).jld\"))[\"data\"] / 60\n",
    "    _data     = [time_mcmc time_smc time_psis][re_idx, :]\n",
    "\n",
    "    \"\"\"Plot 2: runtimes\"\"\"\n",
    "    plot(_data)\n",
    "    annotate!(7, time_mcmc[re_idx][7], text(\"MCMC\", :blue, 9, :bottom))\n",
    "    annotate!(7, time_smc[re_idx][7],  text(\"SMC\", :red, 9, :bottom))\n",
    "    annotate!(7, time_psis[re_idx][7], text(\"PSIS\", :green, 9, :bottom))\n",
    "    plt_2 = plot(plot!(), plot(cumsum(_data; dims=1)); # overlay runtime + cumulative\n",
    "        layout=grid(2,1,heights=[0.55, 0.45]),\n",
    "        color=[:blue :red :green],\n",
    "        title=[\"Runtime [min.]\" \"Cumulative\"],\n",
    "        label=\"\",\n",
    "        ylim=[(0, 1.2maximum(_data)) (0, 1.2maximum(cumsum(_data; dims=1)))],\n",
    "        linewidth=2,\n",
    "        xticks=1:length(data.valid_idx),\n",
    "        xtickfontsize=9, ytickfontsize=9,\n",
    "        xlabel=[\"\" \"Group \"* L\"K\" * \"-fold index\"],\n",
    "        #framestyle=:semi,\n",
    "    )\n",
    "\n",
    "    \"\"\"Plot 3: fold-specific paths\"\"\"\n",
    "    histories = load(joinpath(\"output\", \"M5\", \"smc\",\n",
    "            \"histories_threshold-$(k̂_threshold).jld\"))[\"data\"][re_idx]\n",
    "    plot(ymirror=false)\n",
    "    for (g, history) in enumerate(histories)\n",
    "        for ℓ in history\n",
    "            if 0 < ℓ < 1\n",
    "                #annotate!(ℓ - 0.0, g - 0.2, text(\"$(round(ℓ; digits=2)) \", :black, :right, 6, rotation=10))\n",
    "            end\n",
    "        end\n",
    "        scatter!(history, repeat([g], length(history)), ms=4, mswidth=0.1, color=:red, label=\"\")\n",
    "    end\n",
    "    _offset = 0.000\n",
    "    plt_3 = plot!(\n",
    "        xlim=(0-_offset, 1+_offset),\n",
    "        xticks=([0, .5, 1], [L\"\\varphi = 1\" * \"\\n(Baseline)\", L\"\\rightarrow\", L\"\\varphi = 0\" * \"\\n(Fold-deleted)\" * repeat(\" \", 9)]),\n",
    "        yticks=1:length(data.valid_idx),\n",
    "        ytickfontsize=9,\n",
    "        xtickfontsize=9,\n",
    "        title=\"Paths\",\n",
    "        yflip=true,\n",
    "        framestyle=:box,\n",
    "    )\n",
    "\n",
    "    plt = plot(plt_1, plt_2, plt_3, layout=grid(1,3), size=(650,230),\n",
    "        bottommargin=3Plots.mm,\n",
    "        rightmargin=[0Plots.mm 0Plots.mm 0Plots.mm 5Plots.mm],\n",
    "        titlefontsize=11, xlabelfontsize=10, ylabelfontsize=10,\n",
    "        tick_direction=:out,\n",
    "    ) |> display\n",
    "\n",
    "    #frame(anime, plot!(dpi=300))\n",
    "\n",
    "    _dir = \"img_$(SESSION)\" * (k̂_threshold == 0.7 ? \"\" : \"_threshold-$(k̂_threshold)\")\n",
    "    isdir(_dir) || mkpath(_dir) # Ensure path is present\n",
    "    savefig(joinpath(_dir, \"M5.pdf\"))\n",
    "end;"
   ]
  },
  {
   "cell_type": "code",
   "execution_count": 103,
   "id": "ff5c2d17-d4ba-417c-ba16-da592b1fc496",
   "metadata": {},
   "outputs": [],
   "source": [
    "# gif(anime, fps=1)"
   ]
  },
  {
   "cell_type": "code",
   "execution_count": null,
   "id": "00af6855-a71e-41f6-bd5f-82eaa5096bc2",
   "metadata": {},
   "outputs": [],
   "source": []
  }
 ],
 "metadata": {
  "kernelspec": {
   "display_name": "Julia (8 threads) 1.10.4",
   "language": "julia",
   "name": "julia-_8-threads_-1.10"
  },
  "language_info": {
   "file_extension": ".jl",
   "mimetype": "application/julia",
   "name": "julia",
   "version": "1.10.4"
  }
 },
 "nbformat": 4,
 "nbformat_minor": 5
}
